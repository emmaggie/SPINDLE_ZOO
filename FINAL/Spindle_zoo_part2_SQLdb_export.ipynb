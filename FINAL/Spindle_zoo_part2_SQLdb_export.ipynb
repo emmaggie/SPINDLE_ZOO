{
 "cells": [
  {
   "cell_type": "markdown",
   "metadata": {},
   "source": [
    "Data reported here will fit into the memory of most modern computers. For the users, who prefer to interact with data via structured query language, we exported all data to SQLite database (**data_for_DB**). There is only one table in the database (**data_for_DB**). "
   ]
  },
  {
   "cell_type": "markdown",
   "metadata": {},
   "source": [
    "To load pandas data frame to SQL follow the instruction [here](http://pandas.pydata.org/pandas-docs/dev/io.html#sql-queries).     \n",
    "You will need [SQL Alchemy](http://www.sqlalchemy.org/library.html). Tutorial can be found [here](  http://docs.sqlalchemy.org/en/rel_0_9/orm/tutorial.html) and [here](http://www.pythoncentral.io/series/python-sqlalchemy-database-tutorial/).   \n",
    "For quick and simple introduction to SQL, follow this [link](http://joshualande.com/data-science-sql/).  "
   ]
  },
  {
   "cell_type": "code",
   "execution_count": 2,
   "metadata": {
    "collapsed": false
   },
   "outputs": [
    {
     "name": "stdout",
     "output_type": "stream",
     "text": [
      "SQLAlchemy==0.9.8\r\n"
     ]
    }
   ],
   "source": [
    "!pip freeze | grep SQLAlchemy"
   ]
  },
  {
   "cell_type": "code",
   "execution_count": 14,
   "metadata": {
    "collapsed": false
   },
   "outputs": [
    {
     "name": "stdout",
     "output_type": "stream",
     "text": [
      "\u001b[31mA_Marina_spindle_zoo_part3_radar_plots_MIT_MEI.ipynb\u001b[m\u001b[m\r\n",
      "\u001b[31mA_Marina_spindle_zoo_part4_radar_plots_AN_MET.ipynb\u001b[m\u001b[m\r\n",
      "\u001b[31mA_Marina_spindle_zoo_part5_NA_and_unsupervised.ipynb\u001b[m\u001b[m\r\n",
      "\u001b[31mA_Marina_spindle_zoo_part6_SQL.ipynb\u001b[m\u001b[m\r\n",
      "\u001b[31mA_Marina_spindle_zoo_part7_NA_and_unsupervised.ipynb\u001b[m\u001b[m\r\n",
      "\u001b[31mA_Marina_spindle_zoo_part7_missing_data.ipynb\u001b[m\u001b[m\r\n",
      "\u001b[31mKeynote_plots_R_p1.R\u001b[m\u001b[m\r\n",
      "\u001b[31mKeynote_plots_R_p2.R\u001b[m\u001b[m\r\n",
      "\u001b[31mKeynote_plots_R_p3.R\u001b[m\u001b[m\r\n",
      "\u001b[31mKeynote_plots_R_p4.R\u001b[m\u001b[m\r\n",
      "\u001b[31mKeynote_plots_R_p5.R\u001b[m\u001b[m\r\n",
      "\u001b[31mKeynote_plots_R_p6.R\u001b[m\u001b[m\r\n",
      "\u001b[31mKeynote_plots_R_p6a.R\u001b[m\u001b[m\r\n",
      "\u001b[31mKeynote_plots_R_p7.R\u001b[m\u001b[m\r\n",
      "\u001b[31mKeynote_plots_R_p8_piecewise_regression.R\u001b[m\u001b[m\r\n",
      "\u001b[31mKeynote_plots_R_p9_unsupervised.R\u001b[m\u001b[m\r\n",
      "\u001b[31mSpindle_zoo_part1_pre_processing_and_primary_data_cleanup.ipynb\u001b[m\u001b[m\r\n",
      "\u001b[31mZOODATA_140923.xlsx\u001b[m\u001b[m\r\n",
      "df2_original_for_SQL.csv\r\n",
      "meiotic_false.csv\r\n",
      "meiotic_true.csv\r\n",
      "\u001b[31mmitotic_anaphase.csv\u001b[m\u001b[m\r\n",
      "\u001b[31mmitotic_metaphase.csv\u001b[m\u001b[m\r\n",
      "original.csv\r\n"
     ]
    }
   ],
   "source": [
    "!ls"
   ]
  },
  {
   "cell_type": "code",
   "execution_count": 15,
   "metadata": {
    "collapsed": false
   },
   "outputs": [
    {
     "name": "stdout",
     "output_type": "stream",
     "text": [
      "0.15.1\n",
      "0.9.8\n"
     ]
    }
   ],
   "source": [
    "import pandas as pd\n",
    "import matplotlib.pyplot as plt\n",
    "%matplotlib inline\n",
    "\n",
    "import sqlalchemy\n",
    "print pd.__version__\n",
    "print sqlalchemy.__version__"
   ]
  },
  {
   "cell_type": "code",
   "execution_count": 16,
   "metadata": {
    "collapsed": false
   },
   "outputs": [
    {
     "name": "stdout",
     "output_type": "stream",
     "text": [
      "matplotlib==1.4.0\r\n"
     ]
    }
   ],
   "source": [
    "!pip freeze | grep matplotlib\n"
   ]
  },
  {
   "cell_type": "code",
   "execution_count": 17,
   "metadata": {
    "collapsed": false
   },
   "outputs": [],
   "source": [
    "data_for_DB=pd.read_csv('df2_original_for_SQL.csv')"
   ]
  },
  {
   "cell_type": "markdown",
   "metadata": {},
   "source": [
    "The name of the data frame (above) will be the name of the table in the SQLite database. "
   ]
  },
  {
   "cell_type": "code",
   "execution_count": 18,
   "metadata": {
    "collapsed": false
   },
   "outputs": [
    {
     "data": {
      "text/html": [
       "<div style=\"max-height:1000px;max-width:1500px;overflow:auto;\">\n",
       "<table border=\"1\" class=\"dataframe\">\n",
       "  <thead>\n",
       "    <tr style=\"text-align: right;\">\n",
       "      <th></th>\n",
       "      <th>date</th>\n",
       "      <th>image</th>\n",
       "      <th>objective</th>\n",
       "      <th>time_pf</th>\n",
       "      <th>num_of_cells</th>\n",
       "      <th>meiotic</th>\n",
       "      <th>stage</th>\n",
       "      <th>cell_diameter_um</th>\n",
       "      <th>spindle_length__asters_um</th>\n",
       "      <th>spindle_length_poles_um</th>\n",
       "      <th>...</th>\n",
       "      <th>cleavage_type</th>\n",
       "      <th>num_of_cells_CAT</th>\n",
       "      <th>num_of_cells_NUM</th>\n",
       "      <th>classification_CAT</th>\n",
       "      <th>phylum_CAT</th>\n",
       "      <th>organism_CAT</th>\n",
       "      <th>cleavage_type_CAT</th>\n",
       "      <th>fixation_CAT</th>\n",
       "      <th>microscope_CAT</th>\n",
       "      <th>stage_CAT</th>\n",
       "    </tr>\n",
       "  </thead>\n",
       "  <tbody>\n",
       "    <tr>\n",
       "      <th>0</th>\n",
       "      <td> 2013-11-06 00:00:00</td>\n",
       "      <td>  131106batstar_35hpf_5</td>\n",
       "      <td> 40x</td>\n",
       "      <td> 210</td>\n",
       "      <td> 1</td>\n",
       "      <td> 0</td>\n",
       "      <td>   a</td>\n",
       "      <td> 177.82149</td>\n",
       "      <td> 41.37903</td>\n",
       "      <td> 26.13072</td>\n",
       "      <td>...</td>\n",
       "      <td> rah</td>\n",
       "      <td> 1</td>\n",
       "      <td> 1</td>\n",
       "      <td> 1</td>\n",
       "      <td> 1</td>\n",
       "      <td> 1</td>\n",
       "      <td> 1</td>\n",
       "      <td> 1</td>\n",
       "      <td> 1</td>\n",
       "      <td>  1</td>\n",
       "    </tr>\n",
       "    <tr>\n",
       "      <th>1</th>\n",
       "      <td> 2013-11-06 00:00:00</td>\n",
       "      <td>  131106batstar_35hpf_6</td>\n",
       "      <td> 40x</td>\n",
       "      <td> 210</td>\n",
       "      <td> 1</td>\n",
       "      <td> 0</td>\n",
       "      <td>   m</td>\n",
       "      <td> 163.05828</td>\n",
       "      <td> 24.85329</td>\n",
       "      <td> 18.28827</td>\n",
       "      <td>...</td>\n",
       "      <td> rah</td>\n",
       "      <td> 1</td>\n",
       "      <td> 1</td>\n",
       "      <td> 1</td>\n",
       "      <td> 1</td>\n",
       "      <td> 1</td>\n",
       "      <td> 1</td>\n",
       "      <td> 1</td>\n",
       "      <td> 1</td>\n",
       "      <td>  2</td>\n",
       "    </tr>\n",
       "    <tr>\n",
       "      <th>2</th>\n",
       "      <td> 2013-11-06 00:00:00</td>\n",
       "      <td>  131106batstar_35hpf_7</td>\n",
       "      <td> 40x</td>\n",
       "      <td> 210</td>\n",
       "      <td> 1</td>\n",
       "      <td> 0</td>\n",
       "      <td>   p</td>\n",
       "      <td> 206.00580</td>\n",
       "      <td> 35.08890</td>\n",
       "      <td> 27.24645</td>\n",
       "      <td>...</td>\n",
       "      <td> rah</td>\n",
       "      <td> 1</td>\n",
       "      <td> 1</td>\n",
       "      <td> 1</td>\n",
       "      <td> 1</td>\n",
       "      <td> 1</td>\n",
       "      <td> 1</td>\n",
       "      <td> 1</td>\n",
       "      <td> 1</td>\n",
       "      <td>  3</td>\n",
       "    </tr>\n",
       "    <tr>\n",
       "      <th>3</th>\n",
       "      <td> 2013-11-06 00:00:00</td>\n",
       "      <td> 131106batstar_35hpf_10</td>\n",
       "      <td> 40x</td>\n",
       "      <td> 210</td>\n",
       "      <td> 1</td>\n",
       "      <td> 0</td>\n",
       "      <td>   m</td>\n",
       "      <td> 194.04000</td>\n",
       "      <td> 42.39774</td>\n",
       "      <td> 42.39774</td>\n",
       "      <td>...</td>\n",
       "      <td> rah</td>\n",
       "      <td> 1</td>\n",
       "      <td> 1</td>\n",
       "      <td> 1</td>\n",
       "      <td> 1</td>\n",
       "      <td> 1</td>\n",
       "      <td> 1</td>\n",
       "      <td> 1</td>\n",
       "      <td> 1</td>\n",
       "      <td>  2</td>\n",
       "    </tr>\n",
       "    <tr>\n",
       "      <th>4</th>\n",
       "      <td> 2013-11-06 00:00:00</td>\n",
       "      <td> 131106batstar_35hpf_11</td>\n",
       "      <td> 40x</td>\n",
       "      <td> 210</td>\n",
       "      <td> 1</td>\n",
       "      <td> 0</td>\n",
       "      <td> NaN</td>\n",
       "      <td> 180.36018</td>\n",
       "      <td>      NaN</td>\n",
       "      <td>      NaN</td>\n",
       "      <td>...</td>\n",
       "      <td> rah</td>\n",
       "      <td> 1</td>\n",
       "      <td> 1</td>\n",
       "      <td> 1</td>\n",
       "      <td> 1</td>\n",
       "      <td> 1</td>\n",
       "      <td> 1</td>\n",
       "      <td> 1</td>\n",
       "      <td> 1</td>\n",
       "      <td>NaN</td>\n",
       "    </tr>\n",
       "  </tbody>\n",
       "</table>\n",
       "<p>5 rows × 44 columns</p>\n",
       "</div>"
      ],
      "text/plain": [
       "                  date                   image objective  time_pf  \\\n",
       "0  2013-11-06 00:00:00   131106batstar_35hpf_5       40x      210   \n",
       "1  2013-11-06 00:00:00   131106batstar_35hpf_6       40x      210   \n",
       "2  2013-11-06 00:00:00   131106batstar_35hpf_7       40x      210   \n",
       "3  2013-11-06 00:00:00  131106batstar_35hpf_10       40x      210   \n",
       "4  2013-11-06 00:00:00  131106batstar_35hpf_11       40x      210   \n",
       "\n",
       "  num_of_cells  meiotic stage  cell_diameter_um  spindle_length__asters_um  \\\n",
       "0            1        0     a         177.82149                   41.37903   \n",
       "1            1        0     m         163.05828                   24.85329   \n",
       "2            1        0     p         206.00580                   35.08890   \n",
       "3            1        0     m         194.04000                   42.39774   \n",
       "4            1        0   NaN         180.36018                        NaN   \n",
       "\n",
       "   spindle_length_poles_um    ...      cleavage_type  num_of_cells_CAT  \\\n",
       "0                 26.13072    ...                rah                 1   \n",
       "1                 18.28827    ...                rah                 1   \n",
       "2                 27.24645    ...                rah                 1   \n",
       "3                 42.39774    ...                rah                 1   \n",
       "4                      NaN    ...                rah                 1   \n",
       "\n",
       "   num_of_cells_NUM  classification_CAT  phylum_CAT  organism_CAT  \\\n",
       "0                 1                   1           1             1   \n",
       "1                 1                   1           1             1   \n",
       "2                 1                   1           1             1   \n",
       "3                 1                   1           1             1   \n",
       "4                 1                   1           1             1   \n",
       "\n",
       "   cleavage_type_CAT  fixation_CAT  microscope_CAT  stage_CAT  \n",
       "0                  1             1               1          1  \n",
       "1                  1             1               1          2  \n",
       "2                  1             1               1          3  \n",
       "3                  1             1               1          2  \n",
       "4                  1             1               1        NaN  \n",
       "\n",
       "[5 rows x 44 columns]"
      ]
     },
     "execution_count": 18,
     "metadata": {},
     "output_type": "execute_result"
    }
   ],
   "source": [
    "data_for_DB.head()"
   ]
  },
  {
   "cell_type": "code",
   "execution_count": 19,
   "metadata": {
    "collapsed": false
   },
   "outputs": [],
   "source": [
    "from sqlalchemy import create_engine"
   ]
  },
  {
   "cell_type": "markdown",
   "metadata": {},
   "source": [
    "see details: http://docs.sqlalchemy.org/en/rel_0_9/core/engines.html"
   ]
  },
  {
   "cell_type": "code",
   "execution_count": 20,
   "metadata": {
    "collapsed": false
   },
   "outputs": [],
   "source": [
    "engine = create_engine('sqlite:///df2_original.db')"
   ]
  },
  {
   "cell_type": "markdown",
   "metadata": {},
   "source": [
    "SQLite: http://zetcode.com/db/sqlite/  \n"
   ]
  },
  {
   "cell_type": "code",
   "execution_count": 21,
   "metadata": {
    "collapsed": false
   },
   "outputs": [],
   "source": [
    "data_for_DB.to_sql('data_for_DB',engine,chunksize=1000) #loads data to DB in chunks of 1000 rows"
   ]
  },
  {
   "cell_type": "code",
   "execution_count": 22,
   "metadata": {
    "collapsed": false
   },
   "outputs": [
    {
     "name": "stdout",
     "output_type": "stream",
     "text": [
      "total 43880\r\n",
      "-rwxr-xr-x  1 Tango  staff    525856 Apr  1 11:50 \u001b[31mA_Marina_spindle_zoo_part3_radar_plots_MIT_MEI.ipynb\u001b[m\u001b[m\r\n",
      "-rwxr-xr-x  1 Tango  staff    239604 Apr  1 11:50 \u001b[31mA_Marina_spindle_zoo_part4_radar_plots_AN_MET.ipynb\u001b[m\u001b[m\r\n",
      "-rwxr-xr-x  1 Tango  staff   1156709 Apr  1 11:50 \u001b[31mA_Marina_spindle_zoo_part5_NA_and_unsupervised.ipynb\u001b[m\u001b[m\r\n",
      "-rwxr-xr-x  1 Tango  staff     33100 Apr  4 19:04 \u001b[31mA_Marina_spindle_zoo_part6_SQL.ipynb\u001b[m\u001b[m\r\n",
      "-rwxr-xr-x  1 Tango  staff   2690074 Apr  1 11:50 \u001b[31mA_Marina_spindle_zoo_part7_NA_and_unsupervised.ipynb\u001b[m\u001b[m\r\n",
      "-rwxr-xr-x  1 Tango  staff   1024727 Apr  1 11:50 \u001b[31mA_Marina_spindle_zoo_part7_missing_data.ipynb\u001b[m\u001b[m\r\n",
      "-rwxr-xr-x  1 Tango  staff      5718 Apr  1 11:50 \u001b[31mKeynote_plots_R_p1.R\u001b[m\u001b[m\r\n",
      "-rwxr-xr-x  1 Tango  staff     21079 Apr  1 11:50 \u001b[31mKeynote_plots_R_p2.R\u001b[m\u001b[m\r\n",
      "-rwxr-xr-x  1 Tango  staff      7855 Apr  1 11:50 \u001b[31mKeynote_plots_R_p3.R\u001b[m\u001b[m\r\n",
      "-rwxr-xr-x  1 Tango  staff      5760 Apr  1 11:50 \u001b[31mKeynote_plots_R_p4.R\u001b[m\u001b[m\r\n",
      "-rwxr-xr-x  1 Tango  staff     33694 Apr  1 11:50 \u001b[31mKeynote_plots_R_p5.R\u001b[m\u001b[m\r\n",
      "-rwxr-xr-x  1 Tango  staff     18209 Apr  1 11:50 \u001b[31mKeynote_plots_R_p6.R\u001b[m\u001b[m\r\n",
      "-rwxr-xr-x  1 Tango  staff      2568 Apr  1 11:50 \u001b[31mKeynote_plots_R_p6a.R\u001b[m\u001b[m\r\n",
      "-rwxr-xr-x  1 Tango  staff     17685 Apr  1 11:50 \u001b[31mKeynote_plots_R_p7.R\u001b[m\u001b[m\r\n",
      "-rwxr-xr-x  1 Tango  staff      1867 Apr  1 11:50 \u001b[31mKeynote_plots_R_p8_piecewise_regression.R\u001b[m\u001b[m\r\n",
      "-rwxr-xr-x  1 Tango  staff     11544 Apr  1 11:50 \u001b[31mKeynote_plots_R_p9_unsupervised.R\u001b[m\u001b[m\r\n",
      "-rwxr-xr-x  1 Tango  staff  12620070 Apr  4 18:37 \u001b[31mSpindle_zoo_part1_pre_processing_and_primary_data_cleanup.ipynb\u001b[m\u001b[m\r\n",
      "-rwxr-xr-x@ 1 Tango  staff   1085033 Jan  1 09:46 \u001b[31mZOODATA_140923.xlsx\u001b[m\u001b[m\r\n",
      "-rw-r--r--  1 Tango  staff    674816 Apr  4 19:06 df2_original.db\r\n",
      "-rw-r--r--  1 Tango  staff    677499 Mar 22 21:46 df2_original_for_SQL.csv\r\n",
      "-rw-r--r--  1 Tango  staff    436125 Mar 22 22:02 meiotic_false.csv\r\n",
      "-rw-r--r--  1 Tango  staff    123585 Mar 22 22:02 meiotic_true.csv\r\n",
      "-rwxr-xr-x  1 Tango  staff    116631 Mar 22 22:10 \u001b[31mmitotic_anaphase.csv\u001b[m\u001b[m\r\n",
      "-rwxr-xr-x  1 Tango  staff    318030 Mar 22 22:10 \u001b[31mmitotic_metaphase.csv\u001b[m\u001b[m\r\n",
      "-rw-r--r--  1 Tango  staff    562990 Mar 22 22:02 original.csv\r\n"
     ]
    }
   ],
   "source": [
    "!ls -l"
   ]
  },
  {
   "cell_type": "code",
   "execution_count": 23,
   "metadata": {
    "collapsed": false
   },
   "outputs": [
    {
     "data": {
      "text/plain": [
       "date                                object\n",
       "image                               object\n",
       "objective                           object\n",
       "time_pf                              int64\n",
       "num_of_cells                        object\n",
       "meiotic                              int64\n",
       "stage                               object\n",
       "cell_diameter_um                   float64\n",
       "spindle_length__asters_um          float64\n",
       "spindle_length_poles_um            float64\n",
       "spindle_width_um                   float64\n",
       "spindle_aspect_ratio_asters_um     float64\n",
       "spindle_aspect_ratio_poles_um      float64\n",
       "astere-to-pole_distance_1_um       float64\n",
       "aster-to-pole_distance_2_um        float64\n",
       "inner_aster_diameter_1_um          float64\n",
       "inner_aster_diameter_2_um          float64\n",
       "outer_aster_diameter_1_um          float64\n",
       "outer__diameter_2_um               float64\n",
       "centrosome                           int64\n",
       "metaphase_plate_lengt_h_um         float64\n",
       "metaphase_plate_width_um           float64\n",
       "metaphase_plate_aspect_ratio_um    float64\n",
       "polar_body_diameter_1_um           float64\n",
       "polar_body_diameter_2_um           float64\n",
       "distance_between_chromosomes_um    float64\n",
       "microscope                          object\n",
       "fixation                            object\n",
       "organism                            object\n",
       "phylum                              object\n",
       "classification                      object\n",
       "genome                             float64\n",
       "chromosomes                        float64\n",
       "day                                 object\n",
       "cleavage_type                       object\n",
       "num_of_cells_CAT                   float64\n",
       "num_of_cells_NUM                   float64\n",
       "classification_CAT                   int64\n",
       "phylum_CAT                           int64\n",
       "organism_CAT                         int64\n",
       "cleavage_type_CAT                    int64\n",
       "fixation_CAT                       float64\n",
       "microscope_CAT                     float64\n",
       "stage_CAT                          float64\n",
       "dtype: object"
      ]
     },
     "execution_count": 23,
     "metadata": {},
     "output_type": "execute_result"
    }
   ],
   "source": [
    "data_for_DB.dtypes"
   ]
  },
  {
   "cell_type": "markdown",
   "metadata": {
    "collapsed": false
   },
   "source": [
    "####To read data back in:"
   ]
  },
  {
   "cell_type": "code",
   "execution_count": 26,
   "metadata": {
    "collapsed": false
   },
   "outputs": [],
   "source": [
    "df=pd.read_sql_table('data_for_DB',engine)"
   ]
  },
  {
   "cell_type": "code",
   "execution_count": 27,
   "metadata": {
    "collapsed": false
   },
   "outputs": [
    {
     "data": {
      "text/html": [
       "<div style=\"max-height:1000px;max-width:1500px;overflow:auto;\">\n",
       "<table border=\"1\" class=\"dataframe\">\n",
       "  <thead>\n",
       "    <tr style=\"text-align: right;\">\n",
       "      <th></th>\n",
       "      <th>index</th>\n",
       "      <th>date</th>\n",
       "      <th>image</th>\n",
       "      <th>objective</th>\n",
       "      <th>time_pf</th>\n",
       "      <th>num_of_cells</th>\n",
       "      <th>meiotic</th>\n",
       "      <th>stage</th>\n",
       "      <th>cell_diameter_um</th>\n",
       "      <th>spindle_length__asters_um</th>\n",
       "      <th>...</th>\n",
       "      <th>cleavage_type</th>\n",
       "      <th>num_of_cells_CAT</th>\n",
       "      <th>num_of_cells_NUM</th>\n",
       "      <th>classification_CAT</th>\n",
       "      <th>phylum_CAT</th>\n",
       "      <th>organism_CAT</th>\n",
       "      <th>cleavage_type_CAT</th>\n",
       "      <th>fixation_CAT</th>\n",
       "      <th>microscope_CAT</th>\n",
       "      <th>stage_CAT</th>\n",
       "    </tr>\n",
       "  </thead>\n",
       "  <tbody>\n",
       "    <tr>\n",
       "      <th>0</th>\n",
       "      <td> 0</td>\n",
       "      <td> 2013-11-06 00:00:00</td>\n",
       "      <td>  131106batstar_35hpf_5</td>\n",
       "      <td> 40x</td>\n",
       "      <td> 210</td>\n",
       "      <td> 1</td>\n",
       "      <td> 0</td>\n",
       "      <td>    a</td>\n",
       "      <td> 177.82149</td>\n",
       "      <td> 41.37903</td>\n",
       "      <td>...</td>\n",
       "      <td> rah</td>\n",
       "      <td> 1</td>\n",
       "      <td> 1</td>\n",
       "      <td> 1</td>\n",
       "      <td> 1</td>\n",
       "      <td> 1</td>\n",
       "      <td> 1</td>\n",
       "      <td> 1</td>\n",
       "      <td> 1</td>\n",
       "      <td>  1</td>\n",
       "    </tr>\n",
       "    <tr>\n",
       "      <th>1</th>\n",
       "      <td> 1</td>\n",
       "      <td> 2013-11-06 00:00:00</td>\n",
       "      <td>  131106batstar_35hpf_6</td>\n",
       "      <td> 40x</td>\n",
       "      <td> 210</td>\n",
       "      <td> 1</td>\n",
       "      <td> 0</td>\n",
       "      <td>    m</td>\n",
       "      <td> 163.05828</td>\n",
       "      <td> 24.85329</td>\n",
       "      <td>...</td>\n",
       "      <td> rah</td>\n",
       "      <td> 1</td>\n",
       "      <td> 1</td>\n",
       "      <td> 1</td>\n",
       "      <td> 1</td>\n",
       "      <td> 1</td>\n",
       "      <td> 1</td>\n",
       "      <td> 1</td>\n",
       "      <td> 1</td>\n",
       "      <td>  2</td>\n",
       "    </tr>\n",
       "    <tr>\n",
       "      <th>2</th>\n",
       "      <td> 2</td>\n",
       "      <td> 2013-11-06 00:00:00</td>\n",
       "      <td>  131106batstar_35hpf_7</td>\n",
       "      <td> 40x</td>\n",
       "      <td> 210</td>\n",
       "      <td> 1</td>\n",
       "      <td> 0</td>\n",
       "      <td>    p</td>\n",
       "      <td> 206.00580</td>\n",
       "      <td> 35.08890</td>\n",
       "      <td>...</td>\n",
       "      <td> rah</td>\n",
       "      <td> 1</td>\n",
       "      <td> 1</td>\n",
       "      <td> 1</td>\n",
       "      <td> 1</td>\n",
       "      <td> 1</td>\n",
       "      <td> 1</td>\n",
       "      <td> 1</td>\n",
       "      <td> 1</td>\n",
       "      <td>  3</td>\n",
       "    </tr>\n",
       "    <tr>\n",
       "      <th>3</th>\n",
       "      <td> 3</td>\n",
       "      <td> 2013-11-06 00:00:00</td>\n",
       "      <td> 131106batstar_35hpf_10</td>\n",
       "      <td> 40x</td>\n",
       "      <td> 210</td>\n",
       "      <td> 1</td>\n",
       "      <td> 0</td>\n",
       "      <td>    m</td>\n",
       "      <td> 194.04000</td>\n",
       "      <td> 42.39774</td>\n",
       "      <td>...</td>\n",
       "      <td> rah</td>\n",
       "      <td> 1</td>\n",
       "      <td> 1</td>\n",
       "      <td> 1</td>\n",
       "      <td> 1</td>\n",
       "      <td> 1</td>\n",
       "      <td> 1</td>\n",
       "      <td> 1</td>\n",
       "      <td> 1</td>\n",
       "      <td>  2</td>\n",
       "    </tr>\n",
       "    <tr>\n",
       "      <th>4</th>\n",
       "      <td> 4</td>\n",
       "      <td> 2013-11-06 00:00:00</td>\n",
       "      <td> 131106batstar_35hpf_11</td>\n",
       "      <td> 40x</td>\n",
       "      <td> 210</td>\n",
       "      <td> 1</td>\n",
       "      <td> 0</td>\n",
       "      <td> None</td>\n",
       "      <td> 180.36018</td>\n",
       "      <td>      NaN</td>\n",
       "      <td>...</td>\n",
       "      <td> rah</td>\n",
       "      <td> 1</td>\n",
       "      <td> 1</td>\n",
       "      <td> 1</td>\n",
       "      <td> 1</td>\n",
       "      <td> 1</td>\n",
       "      <td> 1</td>\n",
       "      <td> 1</td>\n",
       "      <td> 1</td>\n",
       "      <td>NaN</td>\n",
       "    </tr>\n",
       "  </tbody>\n",
       "</table>\n",
       "<p>5 rows × 45 columns</p>\n",
       "</div>"
      ],
      "text/plain": [
       "   index                 date                   image objective  time_pf  \\\n",
       "0      0  2013-11-06 00:00:00   131106batstar_35hpf_5       40x      210   \n",
       "1      1  2013-11-06 00:00:00   131106batstar_35hpf_6       40x      210   \n",
       "2      2  2013-11-06 00:00:00   131106batstar_35hpf_7       40x      210   \n",
       "3      3  2013-11-06 00:00:00  131106batstar_35hpf_10       40x      210   \n",
       "4      4  2013-11-06 00:00:00  131106batstar_35hpf_11       40x      210   \n",
       "\n",
       "  num_of_cells  meiotic stage  cell_diameter_um  spindle_length__asters_um  \\\n",
       "0            1        0     a         177.82149                   41.37903   \n",
       "1            1        0     m         163.05828                   24.85329   \n",
       "2            1        0     p         206.00580                   35.08890   \n",
       "3            1        0     m         194.04000                   42.39774   \n",
       "4            1        0  None         180.36018                        NaN   \n",
       "\n",
       "     ...      cleavage_type  num_of_cells_CAT  num_of_cells_NUM  \\\n",
       "0    ...                rah                 1                 1   \n",
       "1    ...                rah                 1                 1   \n",
       "2    ...                rah                 1                 1   \n",
       "3    ...                rah                 1                 1   \n",
       "4    ...                rah                 1                 1   \n",
       "\n",
       "   classification_CAT  phylum_CAT  organism_CAT  cleavage_type_CAT  \\\n",
       "0                   1           1             1                  1   \n",
       "1                   1           1             1                  1   \n",
       "2                   1           1             1                  1   \n",
       "3                   1           1             1                  1   \n",
       "4                   1           1             1                  1   \n",
       "\n",
       "   fixation_CAT  microscope_CAT  stage_CAT  \n",
       "0             1               1          1  \n",
       "1             1               1          2  \n",
       "2             1               1          3  \n",
       "3             1               1          2  \n",
       "4             1               1        NaN  \n",
       "\n",
       "[5 rows x 45 columns]"
      ]
     },
     "execution_count": 27,
     "metadata": {},
     "output_type": "execute_result"
    }
   ],
   "source": [
    "df.head()"
   ]
  },
  {
   "cell_type": "code",
   "execution_count": null,
   "metadata": {
    "collapsed": true
   },
   "outputs": [],
   "source": []
  }
 ],
 "metadata": {
  "kernelspec": {
   "display_name": "Python 2",
   "language": "python",
   "name": "python2"
  },
  "language_info": {
   "codemirror_mode": {
    "name": "ipython",
    "version": 2
   },
   "file_extension": ".py",
   "mimetype": "text/x-python",
   "name": "python",
   "nbconvert_exporter": "python",
   "pygments_lexer": "ipython2",
   "version": "2.7.9"
  }
 },
 "nbformat": 4,
 "nbformat_minor": 0
}
