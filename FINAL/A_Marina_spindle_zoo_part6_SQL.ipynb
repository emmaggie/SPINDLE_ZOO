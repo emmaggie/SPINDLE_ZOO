{
 "metadata": {
  "name": "",
  "signature": "sha256:61c8c13af626fd16d58e2eece966da632972f297b9ad339d91dcbfc6dd4ab982"
 },
 "nbformat": 3,
 "nbformat_minor": 0,
 "worksheets": [
  {
   "cells": [
    {
     "cell_type": "markdown",
     "metadata": {},
     "source": [
      "To load pandas data frame to SQL follow the instruction here:  \n",
      "http://pandas.pydata.org/pandas-docs/dev/io.html#sql-queries.   \n",
      "[SQL Alchemy](http://www.sqlalchemy.org/library.html) is needed. Tutorial can be found here:  \n",
      "http://docs.sqlalchemy.org/en/rel_0_9/orm/tutorial.html   \n",
      "http://www.pythoncentral.io/series/python-sqlalchemy-database-tutorial/   \n",
      "http://joshualande.com/data-science-sql/  "
     ]
    },
    {
     "cell_type": "code",
     "collapsed": false,
     "input": [
      "!pip freeze | grep SQLAlchemy"
     ],
     "language": "python",
     "metadata": {},
     "outputs": [
      {
       "output_type": "stream",
       "stream": "stdout",
       "text": [
        "SQLAlchemy==0.9.8\r\n"
       ]
      }
     ],
     "prompt_number": 5
    },
    {
     "cell_type": "code",
     "collapsed": false,
     "input": [],
     "language": "python",
     "metadata": {},
     "outputs": [],
     "prompt_number": 7
    },
    {
     "cell_type": "code",
     "collapsed": false,
     "input": [
      "!ls"
     ],
     "language": "python",
     "metadata": {},
     "outputs": [
      {
       "output_type": "stream",
       "stream": "stdout",
       "text": [
        "\u001b[31mA_Marina_spindle_zoo_part2_pre_processing.ipynb\u001b[m\u001b[m\r\n",
        "\u001b[31mA_Marina_spindle_zoo_part3.ipynb\u001b[m\u001b[m\r\n",
        "\u001b[31mA_Marina_spindle_zoo_part4.ipynb\u001b[m\u001b[m\r\n",
        "\u001b[31mA_Marina_spindle_zoo_part5_unsupervised.ipynb\u001b[m\u001b[m\r\n",
        "A_Marina_spindle_zoo_part6_SQL.ipynb\r\n",
        "\u001b[31mMarina_spindle_zoo_part2b_troubleshooting.ipynb\u001b[m\u001b[m\r\n",
        "\u001b[31mMitoticScaling_Binnedmeans_SD.xlsx\u001b[m\u001b[m\r\n",
        "\u001b[31mMitoticScaling_Binnedmeans_SD_reformatted.csv\u001b[m\u001b[m\r\n",
        "\u001b[34mSpindleLength_aster_vs_poles\u001b[m\u001b[m\r\n",
        "\u001b[31mX_cell_diam_Y_Rsq_all_mitotic_spindles.pdf\u001b[m\u001b[m\r\n",
        "\u001b[34mcolors\u001b[m\u001b[m\r\n",
        "df2_original_for_SQL.csv\r\n",
        "ex8_cofi_complete.ipynb\r\n",
        "\u001b[31minner_aster_diam_cell_sizeDF_mit_met_Jan2015.csv\u001b[m\u001b[m\r\n",
        "\u001b[34mmatrices\u001b[m\u001b[m\r\n",
        "\u001b[31mmeiotic_false.csv\u001b[m\u001b[m\r\n",
        "\u001b[31mmeiotic_true.csv\u001b[m\u001b[m\r\n",
        "\u001b[31mmitotic_anaphase.csv\u001b[m\u001b[m\r\n",
        "\u001b[31mmitotic_metaphase.csv\u001b[m\u001b[m\r\n",
        "\u001b[31mmodel_data_1.R\u001b[m\u001b[m\r\n",
        "\u001b[31moriginal.csv\u001b[m\u001b[m\r\n",
        "\u001b[31mscatter_matrix_complete_numeric_histogram.eps\u001b[m\u001b[m\r\n",
        "\u001b[31msizeplots_10132014.R\u001b[m\u001b[m\r\n",
        "\u001b[31msizeplots_10142014.R\u001b[m\u001b[m\r\n",
        "\u001b[34mspindlesize_vs_genome\u001b[m\u001b[m\r\n"
       ]
      }
     ],
     "prompt_number": 9
    },
    {
     "cell_type": "code",
     "collapsed": false,
     "input": [
      "import pandas as pd\n",
      "import matplotlib.pyplot as plt\n",
      "%matplotlib inline\n",
      "\n",
      "import sqlalchemy\n",
      "sqlalchemy.__version__"
     ],
     "language": "python",
     "metadata": {},
     "outputs": [
      {
       "metadata": {},
       "output_type": "pyout",
       "prompt_number": 2,
       "text": [
        "'0.9.8'"
       ]
      }
     ],
     "prompt_number": 2
    },
    {
     "cell_type": "code",
     "collapsed": false,
     "input": [
      "data_for_DB=pd.read_csv('df2_original_for_SQL.csv')"
     ],
     "language": "python",
     "metadata": {},
     "outputs": [],
     "prompt_number": 3
    },
    {
     "cell_type": "code",
     "collapsed": false,
     "input": [
      "data_for_DB.head()"
     ],
     "language": "python",
     "metadata": {},
     "outputs": [
      {
       "html": [
        "<div style=\"max-height:1000px;max-width:1500px;overflow:auto;\">\n",
        "<table border=\"1\" class=\"dataframe\">\n",
        "  <thead>\n",
        "    <tr style=\"text-align: right;\">\n",
        "      <th></th>\n",
        "      <th>date</th>\n",
        "      <th>image</th>\n",
        "      <th>objective</th>\n",
        "      <th>time_pf</th>\n",
        "      <th>num_of_cells</th>\n",
        "      <th>meiotic</th>\n",
        "      <th>stage</th>\n",
        "      <th>cell_diameter_um</th>\n",
        "      <th>spindle_length__asters_um</th>\n",
        "      <th>spindle_length_poles_um</th>\n",
        "      <th>...</th>\n",
        "      <th>cleavage_type</th>\n",
        "      <th>num_of_cells_CAT</th>\n",
        "      <th>num_of_cells_NUM</th>\n",
        "      <th>classification_CAT</th>\n",
        "      <th>phylum_CAT</th>\n",
        "      <th>organism_CAT</th>\n",
        "      <th>cleavage_type_CAT</th>\n",
        "      <th>fixation_CAT</th>\n",
        "      <th>microscope_CAT</th>\n",
        "      <th>stage_CAT</th>\n",
        "    </tr>\n",
        "  </thead>\n",
        "  <tbody>\n",
        "    <tr>\n",
        "      <th>0</th>\n",
        "      <td> 2013-11-06 00:00:00</td>\n",
        "      <td>  131106batstar_35hpf_5</td>\n",
        "      <td> 40x</td>\n",
        "      <td> 210</td>\n",
        "      <td> 1</td>\n",
        "      <td> 0</td>\n",
        "      <td>   a</td>\n",
        "      <td> 177.82149</td>\n",
        "      <td> 41.37903</td>\n",
        "      <td> 26.13072</td>\n",
        "      <td>...</td>\n",
        "      <td> rah</td>\n",
        "      <td> 1</td>\n",
        "      <td> 1</td>\n",
        "      <td> 1</td>\n",
        "      <td> 1</td>\n",
        "      <td> 1</td>\n",
        "      <td> 1</td>\n",
        "      <td> 1</td>\n",
        "      <td> 1</td>\n",
        "      <td>  1</td>\n",
        "    </tr>\n",
        "    <tr>\n",
        "      <th>1</th>\n",
        "      <td> 2013-11-06 00:00:00</td>\n",
        "      <td>  131106batstar_35hpf_6</td>\n",
        "      <td> 40x</td>\n",
        "      <td> 210</td>\n",
        "      <td> 1</td>\n",
        "      <td> 0</td>\n",
        "      <td>   m</td>\n",
        "      <td> 163.05828</td>\n",
        "      <td> 24.85329</td>\n",
        "      <td> 18.28827</td>\n",
        "      <td>...</td>\n",
        "      <td> rah</td>\n",
        "      <td> 1</td>\n",
        "      <td> 1</td>\n",
        "      <td> 1</td>\n",
        "      <td> 1</td>\n",
        "      <td> 1</td>\n",
        "      <td> 1</td>\n",
        "      <td> 1</td>\n",
        "      <td> 1</td>\n",
        "      <td>  2</td>\n",
        "    </tr>\n",
        "    <tr>\n",
        "      <th>2</th>\n",
        "      <td> 2013-11-06 00:00:00</td>\n",
        "      <td>  131106batstar_35hpf_7</td>\n",
        "      <td> 40x</td>\n",
        "      <td> 210</td>\n",
        "      <td> 1</td>\n",
        "      <td> 0</td>\n",
        "      <td>   p</td>\n",
        "      <td> 206.00580</td>\n",
        "      <td> 35.08890</td>\n",
        "      <td> 27.24645</td>\n",
        "      <td>...</td>\n",
        "      <td> rah</td>\n",
        "      <td> 1</td>\n",
        "      <td> 1</td>\n",
        "      <td> 1</td>\n",
        "      <td> 1</td>\n",
        "      <td> 1</td>\n",
        "      <td> 1</td>\n",
        "      <td> 1</td>\n",
        "      <td> 1</td>\n",
        "      <td>  3</td>\n",
        "    </tr>\n",
        "    <tr>\n",
        "      <th>3</th>\n",
        "      <td> 2013-11-06 00:00:00</td>\n",
        "      <td> 131106batstar_35hpf_10</td>\n",
        "      <td> 40x</td>\n",
        "      <td> 210</td>\n",
        "      <td> 1</td>\n",
        "      <td> 0</td>\n",
        "      <td>   m</td>\n",
        "      <td> 194.04000</td>\n",
        "      <td> 42.39774</td>\n",
        "      <td> 42.39774</td>\n",
        "      <td>...</td>\n",
        "      <td> rah</td>\n",
        "      <td> 1</td>\n",
        "      <td> 1</td>\n",
        "      <td> 1</td>\n",
        "      <td> 1</td>\n",
        "      <td> 1</td>\n",
        "      <td> 1</td>\n",
        "      <td> 1</td>\n",
        "      <td> 1</td>\n",
        "      <td>  2</td>\n",
        "    </tr>\n",
        "    <tr>\n",
        "      <th>4</th>\n",
        "      <td> 2013-11-06 00:00:00</td>\n",
        "      <td> 131106batstar_35hpf_11</td>\n",
        "      <td> 40x</td>\n",
        "      <td> 210</td>\n",
        "      <td> 1</td>\n",
        "      <td> 0</td>\n",
        "      <td> NaN</td>\n",
        "      <td> 180.36018</td>\n",
        "      <td>      NaN</td>\n",
        "      <td>      NaN</td>\n",
        "      <td>...</td>\n",
        "      <td> rah</td>\n",
        "      <td> 1</td>\n",
        "      <td> 1</td>\n",
        "      <td> 1</td>\n",
        "      <td> 1</td>\n",
        "      <td> 1</td>\n",
        "      <td> 1</td>\n",
        "      <td> 1</td>\n",
        "      <td> 1</td>\n",
        "      <td>NaN</td>\n",
        "    </tr>\n",
        "  </tbody>\n",
        "</table>\n",
        "<p>5 rows \u00d7 44 columns</p>\n",
        "</div>"
       ],
       "metadata": {},
       "output_type": "pyout",
       "prompt_number": 4,
       "text": [
        "                  date                   image objective  time_pf  \\\n",
        "0  2013-11-06 00:00:00   131106batstar_35hpf_5       40x      210   \n",
        "1  2013-11-06 00:00:00   131106batstar_35hpf_6       40x      210   \n",
        "2  2013-11-06 00:00:00   131106batstar_35hpf_7       40x      210   \n",
        "3  2013-11-06 00:00:00  131106batstar_35hpf_10       40x      210   \n",
        "4  2013-11-06 00:00:00  131106batstar_35hpf_11       40x      210   \n",
        "\n",
        "  num_of_cells  meiotic stage  cell_diameter_um  spindle_length__asters_um  \\\n",
        "0            1        0     a         177.82149                   41.37903   \n",
        "1            1        0     m         163.05828                   24.85329   \n",
        "2            1        0     p         206.00580                   35.08890   \n",
        "3            1        0     m         194.04000                   42.39774   \n",
        "4            1        0   NaN         180.36018                        NaN   \n",
        "\n",
        "   spindle_length_poles_um    ...      cleavage_type  num_of_cells_CAT  \\\n",
        "0                 26.13072    ...                rah                 1   \n",
        "1                 18.28827    ...                rah                 1   \n",
        "2                 27.24645    ...                rah                 1   \n",
        "3                 42.39774    ...                rah                 1   \n",
        "4                      NaN    ...                rah                 1   \n",
        "\n",
        "   num_of_cells_NUM  classification_CAT  phylum_CAT  organism_CAT  \\\n",
        "0                 1                   1           1             1   \n",
        "1                 1                   1           1             1   \n",
        "2                 1                   1           1             1   \n",
        "3                 1                   1           1             1   \n",
        "4                 1                   1           1             1   \n",
        "\n",
        "   cleavage_type_CAT  fixation_CAT  microscope_CAT  stage_CAT  \n",
        "0                  1             1               1          1  \n",
        "1                  1             1               1          2  \n",
        "2                  1             1               1          3  \n",
        "3                  1             1               1          2  \n",
        "4                  1             1               1        NaN  \n",
        "\n",
        "[5 rows x 44 columns]"
       ]
      }
     ],
     "prompt_number": 4
    },
    {
     "cell_type": "heading",
     "level": 5,
     "metadata": {},
     "source": [
      "1. This one is after pandas doc: http://pandas.pydata.org/pandas-docs/dev/io.html#sql-queries "
     ]
    },
    {
     "cell_type": "code",
     "collapsed": false,
     "input": [
      "from sqlalchemy import create_engine"
     ],
     "language": "python",
     "metadata": {},
     "outputs": [],
     "prompt_number": 6
    },
    {
     "cell_type": "markdown",
     "metadata": {},
     "source": [
      "see details: http://docs.sqlalchemy.org/en/rel_0_9/core/engines.html"
     ]
    },
    {
     "cell_type": "code",
     "collapsed": false,
     "input": [
      "engine = create_engine('sqlite:///df2_original.db')"
     ],
     "language": "python",
     "metadata": {},
     "outputs": [],
     "prompt_number": 8
    },
    {
     "cell_type": "markdown",
     "metadata": {},
     "source": [
      "SQLite: http://zetcode.com/db/sqlite/  \n"
     ]
    },
    {
     "cell_type": "code",
     "collapsed": false,
     "input": [
      "data_for_DB.to_sql('data_for_DB',engine,chunksize=1000) #in chunks of 1000 rows"
     ],
     "language": "python",
     "metadata": {},
     "outputs": [],
     "prompt_number": 10
    },
    {
     "cell_type": "code",
     "collapsed": false,
     "input": [
      "!ls -l"
     ],
     "language": "python",
     "metadata": {},
     "outputs": [
      {
       "output_type": "stream",
       "stream": "stdout",
       "text": [
        "total 102328\r\n",
        "-rwxr-xr-x  1 Tango  staff  11090941 Jan  8 19:25 \u001b[31mA_Marina_spindle_zoo_part2_pre_processing.ipynb\u001b[m\u001b[m\r\n",
        "-rwxr-xr-x  1 Tango  staff    493381 Jan  4 22:07 \u001b[31mA_Marina_spindle_zoo_part3.ipynb\u001b[m\u001b[m\r\n",
        "-rwxr-xr-x  1 Tango  staff    239604 Jan  7 19:48 \u001b[31mA_Marina_spindle_zoo_part4.ipynb\u001b[m\u001b[m\r\n",
        "-rwxr-xr-x  1 Tango  staff   1143823 Jan  8 19:25 \u001b[31mA_Marina_spindle_zoo_part5_unsupervised.ipynb\u001b[m\u001b[m\r\n",
        "-rw-------  1 Tango  staff     14051 Jan  8 20:20 A_Marina_spindle_zoo_part6_SQL.ipynb\r\n",
        "-rwxr-xr-x  1 Tango  staff   4697454 Dec 19 17:26 \u001b[31mMarina_spindle_zoo_part2b_troubleshooting.ipynb\u001b[m\u001b[m\r\n",
        "-rwxr-xr-x@ 1 Tango  staff     65215 Nov 27 16:42 \u001b[31mMitoticScaling_Binnedmeans_SD.xlsx\u001b[m\u001b[m\r\n",
        "-rwxr-xr-x@ 1 Tango  staff      3078 Nov 27 16:43 \u001b[31mMitoticScaling_Binnedmeans_SD_reformatted.csv\u001b[m\u001b[m\r\n",
        "drwxr-xr-x  6 Tango  staff       204 Nov  6 14:30 \u001b[34mSpindleLength_aster_vs_poles\u001b[m\u001b[m\r\n",
        "-rwxr-xr-x  1 Tango  staff      5855 Oct 21 13:49 \u001b[31mX_cell_diam_Y_Rsq_all_mitotic_spindles.pdf\u001b[m\u001b[m\r\n",
        "drwxr-xr-x  7 Tango  staff       238 Nov 23 17:38 \u001b[34mcolors\u001b[m\u001b[m\r\n",
        "-rw-r--r--  1 Tango  staff    674816 Jan  8 20:21 df2_original.db\r\n",
        "-rw-r--r--  1 Tango  staff    677499 Jan  8 19:13 df2_original_for_SQL.csv\r\n",
        "-rw-------  1 Tango  staff    140343 Jan  5 18:59 ex8_cofi_complete.ipynb\r\n",
        "-rwxr-xr-x  1 Tango  staff     79112 Jan  6 21:40 \u001b[31minner_aster_diam_cell_sizeDF_mit_met_Jan2015.csv\u001b[m\u001b[m\r\n",
        "drwxr-xr-x  9 Tango  staff       306 Nov  6 14:34 \u001b[34mmatrices\u001b[m\u001b[m\r\n",
        "-rwxr-xr-x  1 Tango  staff    436125 Jan  8 18:00 \u001b[31mmeiotic_false.csv\u001b[m\u001b[m\r\n",
        "-rwxr-xr-x  1 Tango  staff    123585 Jan  8 18:00 \u001b[31mmeiotic_true.csv\u001b[m\u001b[m\r\n",
        "-rwxr-xr-x  1 Tango  staff    116631 Jan  8 18:06 \u001b[31mmitotic_anaphase.csv\u001b[m\u001b[m\r\n",
        "-rwxr-xr-x  1 Tango  staff    318030 Jan  8 18:06 \u001b[31mmitotic_metaphase.csv\u001b[m\u001b[m\r\n",
        "-rwxr-xr-x  1 Tango  staff      4235 Oct 21 21:58 \u001b[31mmodel_data_1.R\u001b[m\u001b[m\r\n",
        "-rwxr-xr-x  1 Tango  staff    562990 Jan  8 18:00 \u001b[31moriginal.csv\u001b[m\u001b[m\r\n",
        "-rwxr-xr-x  1 Tango  staff  31448820 Jan  8 18:00 \u001b[31mscatter_matrix_complete_numeric_histogram.eps\u001b[m\u001b[m\r\n",
        "-rwxr-xr-x  1 Tango  staff     10444 Oct 14 13:42 \u001b[31msizeplots_10132014.R\u001b[m\u001b[m\r\n",
        "-rwxr-xr-x  1 Tango  staff      1322 Oct 14 14:57 \u001b[31msizeplots_10142014.R\u001b[m\u001b[m\r\n",
        "drwxr-xr-x  6 Tango  staff       204 Nov  6 14:34 \u001b[34mspindlesize_vs_genome\u001b[m\u001b[m\r\n"
       ]
      }
     ],
     "prompt_number": 12
    },
    {
     "cell_type": "code",
     "collapsed": false,
     "input": [
      "data_for_DB.dtypes"
     ],
     "language": "python",
     "metadata": {},
     "outputs": [
      {
       "metadata": {},
       "output_type": "pyout",
       "prompt_number": 13,
       "text": [
        "date                                object\n",
        "image                               object\n",
        "objective                           object\n",
        "time_pf                              int64\n",
        "num_of_cells                        object\n",
        "meiotic                              int64\n",
        "stage                               object\n",
        "cell_diameter_um                   float64\n",
        "spindle_length__asters_um          float64\n",
        "spindle_length_poles_um            float64\n",
        "spindle_width_um                   float64\n",
        "spindle_aspect_ratio_asters_um     float64\n",
        "spindle_aspect_ratio_poles_um      float64\n",
        "astere-to-pole_distance_1_um       float64\n",
        "aster-to-pole_distance_2_um        float64\n",
        "inner_aster_diameter_1_um          float64\n",
        "inner_aster_diameter_2_um          float64\n",
        "outer_aster_diameter_1_um          float64\n",
        "outer__diameter_2_um               float64\n",
        "centrosome                           int64\n",
        "metaphase_plate_lengt_h_um         float64\n",
        "metaphase_plate_width_um           float64\n",
        "metaphase_plate_aspect_ratio_um    float64\n",
        "polar_body_diameter_1_um           float64\n",
        "polar_body_diameter_2_um           float64\n",
        "distance_between_chromosomes_um    float64\n",
        "microscope                          object\n",
        "fixation                            object\n",
        "organism                            object\n",
        "phylum                              object\n",
        "classification                      object\n",
        "genome                             float64\n",
        "chromosomes                        float64\n",
        "day                                 object\n",
        "cleavage_type                       object\n",
        "num_of_cells_CAT                   float64\n",
        "num_of_cells_NUM                   float64\n",
        "classification_CAT                   int64\n",
        "phylum_CAT                           int64\n",
        "organism_CAT                         int64\n",
        "cleavage_type_CAT                    int64\n",
        "fixation_CAT                       float64\n",
        "microscope_CAT                     float64\n",
        "stage_CAT                          float64\n",
        "dtype: object"
       ]
      }
     ],
     "prompt_number": 13
    },
    {
     "cell_type": "code",
     "collapsed": false,
     "input": [],
     "language": "python",
     "metadata": {},
     "outputs": []
    },
    {
     "cell_type": "code",
     "collapsed": false,
     "input": [
      "pd.read_sql('df2_original.db',engine)"
     ],
     "language": "python",
     "metadata": {},
     "outputs": [
      {
       "ename": "OperationalError",
       "evalue": "(OperationalError) near \"df2_original\": syntax error 'df2_original.db' ()",
       "output_type": "pyerr",
       "traceback": [
        "\u001b[0;31m---------------------------------------------------------------------------\u001b[0m\n\u001b[0;31mOperationalError\u001b[0m                          Traceback (most recent call last)",
        "\u001b[0;32m<ipython-input-15-13202fe5be95>\u001b[0m in \u001b[0;36m<module>\u001b[0;34m()\u001b[0m\n\u001b[0;32m----> 1\u001b[0;31m \u001b[0mpd\u001b[0m\u001b[0;34m.\u001b[0m\u001b[0mread_sql\u001b[0m\u001b[0;34m(\u001b[0m\u001b[0;34m'df2_original.db'\u001b[0m\u001b[0;34m,\u001b[0m\u001b[0mengine\u001b[0m\u001b[0;34m)\u001b[0m\u001b[0;34m\u001b[0m\u001b[0m\n\u001b[0m",
        "\u001b[0;32m/usr/local/lib/python2.7/site-packages/pandas/io/sql.pyc\u001b[0m in \u001b[0;36mread_sql\u001b[0;34m(sql, con, index_col, coerce_float, params, parse_dates, columns, chunksize)\u001b[0m\n\u001b[1;32m    481\u001b[0m             \u001b[0msql\u001b[0m\u001b[0;34m,\u001b[0m \u001b[0mindex_col\u001b[0m\u001b[0;34m=\u001b[0m\u001b[0mindex_col\u001b[0m\u001b[0;34m,\u001b[0m \u001b[0mparams\u001b[0m\u001b[0;34m=\u001b[0m\u001b[0mparams\u001b[0m\u001b[0;34m,\u001b[0m\u001b[0;34m\u001b[0m\u001b[0m\n\u001b[1;32m    482\u001b[0m             \u001b[0mcoerce_float\u001b[0m\u001b[0;34m=\u001b[0m\u001b[0mcoerce_float\u001b[0m\u001b[0;34m,\u001b[0m \u001b[0mparse_dates\u001b[0m\u001b[0;34m=\u001b[0m\u001b[0mparse_dates\u001b[0m\u001b[0;34m,\u001b[0m\u001b[0;34m\u001b[0m\u001b[0m\n\u001b[0;32m--> 483\u001b[0;31m             chunksize=chunksize)\n\u001b[0m\u001b[1;32m    484\u001b[0m \u001b[0;34m\u001b[0m\u001b[0m\n\u001b[1;32m    485\u001b[0m \u001b[0;34m\u001b[0m\u001b[0m\n",
        "\u001b[0;32m/usr/local/lib/python2.7/site-packages/pandas/io/sql.pyc\u001b[0m in \u001b[0;36mread_query\u001b[0;34m(self, sql, index_col, coerce_float, parse_dates, params, chunksize)\u001b[0m\n\u001b[1;32m   1082\u001b[0m         \u001b[0margs\u001b[0m \u001b[0;34m=\u001b[0m \u001b[0m_convert_params\u001b[0m\u001b[0;34m(\u001b[0m\u001b[0msql\u001b[0m\u001b[0;34m,\u001b[0m \u001b[0mparams\u001b[0m\u001b[0;34m)\u001b[0m\u001b[0;34m\u001b[0m\u001b[0m\n\u001b[1;32m   1083\u001b[0m \u001b[0;34m\u001b[0m\u001b[0m\n\u001b[0;32m-> 1084\u001b[0;31m         \u001b[0mresult\u001b[0m \u001b[0;34m=\u001b[0m \u001b[0mself\u001b[0m\u001b[0;34m.\u001b[0m\u001b[0mexecute\u001b[0m\u001b[0;34m(\u001b[0m\u001b[0;34m*\u001b[0m\u001b[0margs\u001b[0m\u001b[0;34m)\u001b[0m\u001b[0;34m\u001b[0m\u001b[0m\n\u001b[0m\u001b[1;32m   1085\u001b[0m         \u001b[0mcolumns\u001b[0m \u001b[0;34m=\u001b[0m \u001b[0mresult\u001b[0m\u001b[0;34m.\u001b[0m\u001b[0mkeys\u001b[0m\u001b[0;34m(\u001b[0m\u001b[0;34m)\u001b[0m\u001b[0;34m\u001b[0m\u001b[0m\n\u001b[1;32m   1086\u001b[0m \u001b[0;34m\u001b[0m\u001b[0m\n",
        "\u001b[0;32m/usr/local/lib/python2.7/site-packages/pandas/io/sql.pyc\u001b[0m in \u001b[0;36mexecute\u001b[0;34m(self, *args, **kwargs)\u001b[0m\n\u001b[1;32m    976\u001b[0m     \u001b[0;32mdef\u001b[0m \u001b[0mexecute\u001b[0m\u001b[0;34m(\u001b[0m\u001b[0mself\u001b[0m\u001b[0;34m,\u001b[0m \u001b[0;34m*\u001b[0m\u001b[0margs\u001b[0m\u001b[0;34m,\u001b[0m \u001b[0;34m**\u001b[0m\u001b[0mkwargs\u001b[0m\u001b[0;34m)\u001b[0m\u001b[0;34m:\u001b[0m\u001b[0;34m\u001b[0m\u001b[0m\n\u001b[1;32m    977\u001b[0m         \u001b[0;34m\"\"\"Simple passthrough to SQLAlchemy engine\"\"\"\u001b[0m\u001b[0;34m\u001b[0m\u001b[0m\n\u001b[0;32m--> 978\u001b[0;31m         \u001b[0;32mreturn\u001b[0m \u001b[0mself\u001b[0m\u001b[0;34m.\u001b[0m\u001b[0mengine\u001b[0m\u001b[0;34m.\u001b[0m\u001b[0mexecute\u001b[0m\u001b[0;34m(\u001b[0m\u001b[0;34m*\u001b[0m\u001b[0margs\u001b[0m\u001b[0;34m,\u001b[0m \u001b[0;34m**\u001b[0m\u001b[0mkwargs\u001b[0m\u001b[0;34m)\u001b[0m\u001b[0;34m\u001b[0m\u001b[0m\n\u001b[0m\u001b[1;32m    979\u001b[0m \u001b[0;34m\u001b[0m\u001b[0m\n\u001b[1;32m    980\u001b[0m     def read_table(self, table_name, index_col=None, coerce_float=True,\n",
        "\u001b[0;32m/usr/local/lib/python2.7/site-packages/sqlalchemy/engine/base.pyc\u001b[0m in \u001b[0;36mexecute\u001b[0;34m(self, statement, *multiparams, **params)\u001b[0m\n\u001b[1;32m   1749\u001b[0m \u001b[0;34m\u001b[0m\u001b[0m\n\u001b[1;32m   1750\u001b[0m         \u001b[0mconnection\u001b[0m \u001b[0;34m=\u001b[0m \u001b[0mself\u001b[0m\u001b[0;34m.\u001b[0m\u001b[0mcontextual_connect\u001b[0m\u001b[0;34m(\u001b[0m\u001b[0mclose_with_result\u001b[0m\u001b[0;34m=\u001b[0m\u001b[0mTrue\u001b[0m\u001b[0;34m)\u001b[0m\u001b[0;34m\u001b[0m\u001b[0m\n\u001b[0;32m-> 1751\u001b[0;31m         \u001b[0;32mreturn\u001b[0m \u001b[0mconnection\u001b[0m\u001b[0;34m.\u001b[0m\u001b[0mexecute\u001b[0m\u001b[0;34m(\u001b[0m\u001b[0mstatement\u001b[0m\u001b[0;34m,\u001b[0m \u001b[0;34m*\u001b[0m\u001b[0mmultiparams\u001b[0m\u001b[0;34m,\u001b[0m \u001b[0;34m**\u001b[0m\u001b[0mparams\u001b[0m\u001b[0;34m)\u001b[0m\u001b[0;34m\u001b[0m\u001b[0m\n\u001b[0m\u001b[1;32m   1752\u001b[0m \u001b[0;34m\u001b[0m\u001b[0m\n\u001b[1;32m   1753\u001b[0m     \u001b[0;32mdef\u001b[0m \u001b[0mscalar\u001b[0m\u001b[0;34m(\u001b[0m\u001b[0mself\u001b[0m\u001b[0;34m,\u001b[0m \u001b[0mstatement\u001b[0m\u001b[0;34m,\u001b[0m \u001b[0;34m*\u001b[0m\u001b[0mmultiparams\u001b[0m\u001b[0;34m,\u001b[0m \u001b[0;34m**\u001b[0m\u001b[0mparams\u001b[0m\u001b[0;34m)\u001b[0m\u001b[0;34m:\u001b[0m\u001b[0;34m\u001b[0m\u001b[0m\n",
        "\u001b[0;32m/usr/local/lib/python2.7/site-packages/sqlalchemy/engine/base.pyc\u001b[0m in \u001b[0;36mexecute\u001b[0;34m(self, object, *multiparams, **params)\u001b[0m\n\u001b[1;32m    719\u001b[0m         \"\"\"\n\u001b[1;32m    720\u001b[0m         \u001b[0;32mif\u001b[0m \u001b[0misinstance\u001b[0m\u001b[0;34m(\u001b[0m\u001b[0mobject\u001b[0m\u001b[0;34m,\u001b[0m \u001b[0mutil\u001b[0m\u001b[0;34m.\u001b[0m\u001b[0mstring_types\u001b[0m\u001b[0;34m[\u001b[0m\u001b[0;36m0\u001b[0m\u001b[0;34m]\u001b[0m\u001b[0;34m)\u001b[0m\u001b[0;34m:\u001b[0m\u001b[0;34m\u001b[0m\u001b[0m\n\u001b[0;32m--> 721\u001b[0;31m             \u001b[0;32mreturn\u001b[0m \u001b[0mself\u001b[0m\u001b[0;34m.\u001b[0m\u001b[0m_execute_text\u001b[0m\u001b[0;34m(\u001b[0m\u001b[0mobject\u001b[0m\u001b[0;34m,\u001b[0m \u001b[0mmultiparams\u001b[0m\u001b[0;34m,\u001b[0m \u001b[0mparams\u001b[0m\u001b[0;34m)\u001b[0m\u001b[0;34m\u001b[0m\u001b[0m\n\u001b[0m\u001b[1;32m    722\u001b[0m         \u001b[0;32mtry\u001b[0m\u001b[0;34m:\u001b[0m\u001b[0;34m\u001b[0m\u001b[0m\n\u001b[1;32m    723\u001b[0m             \u001b[0mmeth\u001b[0m \u001b[0;34m=\u001b[0m \u001b[0mobject\u001b[0m\u001b[0;34m.\u001b[0m\u001b[0m_execute_on_connection\u001b[0m\u001b[0;34m\u001b[0m\u001b[0m\n",
        "\u001b[0;32m/usr/local/lib/python2.7/site-packages/sqlalchemy/engine/base.pyc\u001b[0m in \u001b[0;36m_execute_text\u001b[0;34m(self, statement, multiparams, params)\u001b[0m\n\u001b[1;32m    868\u001b[0m             \u001b[0mstatement\u001b[0m\u001b[0;34m,\u001b[0m\u001b[0;34m\u001b[0m\u001b[0m\n\u001b[1;32m    869\u001b[0m             \u001b[0mparameters\u001b[0m\u001b[0;34m,\u001b[0m\u001b[0;34m\u001b[0m\u001b[0m\n\u001b[0;32m--> 870\u001b[0;31m             \u001b[0mstatement\u001b[0m\u001b[0;34m,\u001b[0m \u001b[0mparameters\u001b[0m\u001b[0;34m\u001b[0m\u001b[0m\n\u001b[0m\u001b[1;32m    871\u001b[0m         )\n\u001b[1;32m    872\u001b[0m         \u001b[0;32mif\u001b[0m \u001b[0mself\u001b[0m\u001b[0;34m.\u001b[0m\u001b[0m_has_events\u001b[0m \u001b[0;32mor\u001b[0m \u001b[0mself\u001b[0m\u001b[0;34m.\u001b[0m\u001b[0mengine\u001b[0m\u001b[0;34m.\u001b[0m\u001b[0m_has_events\u001b[0m\u001b[0;34m:\u001b[0m\u001b[0;34m\u001b[0m\u001b[0m\n",
        "\u001b[0;32m/usr/local/lib/python2.7/site-packages/sqlalchemy/engine/base.pyc\u001b[0m in \u001b[0;36m_execute_context\u001b[0;34m(self, dialect, constructor, statement, parameters, *args)\u001b[0m\n\u001b[1;32m    956\u001b[0m                 \u001b[0mparameters\u001b[0m\u001b[0;34m,\u001b[0m\u001b[0;34m\u001b[0m\u001b[0m\n\u001b[1;32m    957\u001b[0m                 \u001b[0mcursor\u001b[0m\u001b[0;34m,\u001b[0m\u001b[0;34m\u001b[0m\u001b[0m\n\u001b[0;32m--> 958\u001b[0;31m                 context)\n\u001b[0m\u001b[1;32m    959\u001b[0m \u001b[0;34m\u001b[0m\u001b[0m\n\u001b[1;32m    960\u001b[0m         \u001b[0;32mif\u001b[0m \u001b[0mself\u001b[0m\u001b[0;34m.\u001b[0m\u001b[0m_has_events\u001b[0m \u001b[0;32mor\u001b[0m \u001b[0mself\u001b[0m\u001b[0;34m.\u001b[0m\u001b[0mengine\u001b[0m\u001b[0;34m.\u001b[0m\u001b[0m_has_events\u001b[0m\u001b[0;34m:\u001b[0m\u001b[0;34m\u001b[0m\u001b[0m\n",
        "\u001b[0;32m/usr/local/lib/python2.7/site-packages/sqlalchemy/engine/base.pyc\u001b[0m in \u001b[0;36m_handle_dbapi_exception\u001b[0;34m(self, e, statement, parameters, cursor, context)\u001b[0m\n\u001b[1;32m   1157\u001b[0m                 util.raise_from_cause(\n\u001b[1;32m   1158\u001b[0m                     \u001b[0msqlalchemy_exception\u001b[0m\u001b[0;34m,\u001b[0m\u001b[0;34m\u001b[0m\u001b[0m\n\u001b[0;32m-> 1159\u001b[0;31m                     \u001b[0mexc_info\u001b[0m\u001b[0;34m\u001b[0m\u001b[0m\n\u001b[0m\u001b[1;32m   1160\u001b[0m                 )\n\u001b[1;32m   1161\u001b[0m             \u001b[0;32melse\u001b[0m\u001b[0;34m:\u001b[0m\u001b[0;34m\u001b[0m\u001b[0m\n",
        "\u001b[0;32m/usr/local/lib/python2.7/site-packages/sqlalchemy/util/compat.pyc\u001b[0m in \u001b[0;36mraise_from_cause\u001b[0;34m(exception, exc_info)\u001b[0m\n\u001b[1;32m    197\u001b[0m             \u001b[0mexc_info\u001b[0m \u001b[0;34m=\u001b[0m \u001b[0msys\u001b[0m\u001b[0;34m.\u001b[0m\u001b[0mexc_info\u001b[0m\u001b[0;34m(\u001b[0m\u001b[0;34m)\u001b[0m\u001b[0;34m\u001b[0m\u001b[0m\n\u001b[1;32m    198\u001b[0m         \u001b[0mexc_type\u001b[0m\u001b[0;34m,\u001b[0m \u001b[0mexc_value\u001b[0m\u001b[0;34m,\u001b[0m \u001b[0mexc_tb\u001b[0m \u001b[0;34m=\u001b[0m \u001b[0mexc_info\u001b[0m\u001b[0;34m\u001b[0m\u001b[0m\n\u001b[0;32m--> 199\u001b[0;31m         \u001b[0mreraise\u001b[0m\u001b[0;34m(\u001b[0m\u001b[0mtype\u001b[0m\u001b[0;34m(\u001b[0m\u001b[0mexception\u001b[0m\u001b[0;34m)\u001b[0m\u001b[0;34m,\u001b[0m \u001b[0mexception\u001b[0m\u001b[0;34m,\u001b[0m \u001b[0mtb\u001b[0m\u001b[0;34m=\u001b[0m\u001b[0mexc_tb\u001b[0m\u001b[0;34m)\u001b[0m\u001b[0;34m\u001b[0m\u001b[0m\n\u001b[0m\u001b[1;32m    200\u001b[0m \u001b[0;34m\u001b[0m\u001b[0m\n\u001b[1;32m    201\u001b[0m \u001b[0;32mif\u001b[0m \u001b[0mpy3k\u001b[0m\u001b[0;34m:\u001b[0m\u001b[0;34m\u001b[0m\u001b[0m\n",
        "\u001b[0;32m/usr/local/lib/python2.7/site-packages/sqlalchemy/engine/base.pyc\u001b[0m in \u001b[0;36m_execute_context\u001b[0;34m(self, dialect, constructor, statement, parameters, *args)\u001b[0m\n\u001b[1;32m    949\u001b[0m                         \u001b[0mstatement\u001b[0m\u001b[0;34m,\u001b[0m\u001b[0;34m\u001b[0m\u001b[0m\n\u001b[1;32m    950\u001b[0m                         \u001b[0mparameters\u001b[0m\u001b[0;34m,\u001b[0m\u001b[0;34m\u001b[0m\u001b[0m\n\u001b[0;32m--> 951\u001b[0;31m                         context)\n\u001b[0m\u001b[1;32m    952\u001b[0m         \u001b[0;32mexcept\u001b[0m \u001b[0mException\u001b[0m \u001b[0;32mas\u001b[0m \u001b[0me\u001b[0m\u001b[0;34m:\u001b[0m\u001b[0;34m\u001b[0m\u001b[0m\n\u001b[1;32m    953\u001b[0m             self._handle_dbapi_exception(\n",
        "\u001b[0;32m/usr/local/lib/python2.7/site-packages/sqlalchemy/engine/default.pyc\u001b[0m in \u001b[0;36mdo_execute\u001b[0;34m(self, cursor, statement, parameters, context)\u001b[0m\n\u001b[1;32m    434\u001b[0m \u001b[0;34m\u001b[0m\u001b[0m\n\u001b[1;32m    435\u001b[0m     \u001b[0;32mdef\u001b[0m \u001b[0mdo_execute\u001b[0m\u001b[0;34m(\u001b[0m\u001b[0mself\u001b[0m\u001b[0;34m,\u001b[0m \u001b[0mcursor\u001b[0m\u001b[0;34m,\u001b[0m \u001b[0mstatement\u001b[0m\u001b[0;34m,\u001b[0m \u001b[0mparameters\u001b[0m\u001b[0;34m,\u001b[0m \u001b[0mcontext\u001b[0m\u001b[0;34m=\u001b[0m\u001b[0mNone\u001b[0m\u001b[0;34m)\u001b[0m\u001b[0;34m:\u001b[0m\u001b[0;34m\u001b[0m\u001b[0m\n\u001b[0;32m--> 436\u001b[0;31m         \u001b[0mcursor\u001b[0m\u001b[0;34m.\u001b[0m\u001b[0mexecute\u001b[0m\u001b[0;34m(\u001b[0m\u001b[0mstatement\u001b[0m\u001b[0;34m,\u001b[0m \u001b[0mparameters\u001b[0m\u001b[0;34m)\u001b[0m\u001b[0;34m\u001b[0m\u001b[0m\n\u001b[0m\u001b[1;32m    437\u001b[0m \u001b[0;34m\u001b[0m\u001b[0m\n\u001b[1;32m    438\u001b[0m     \u001b[0;32mdef\u001b[0m \u001b[0mdo_execute_no_params\u001b[0m\u001b[0;34m(\u001b[0m\u001b[0mself\u001b[0m\u001b[0;34m,\u001b[0m \u001b[0mcursor\u001b[0m\u001b[0;34m,\u001b[0m \u001b[0mstatement\u001b[0m\u001b[0;34m,\u001b[0m \u001b[0mcontext\u001b[0m\u001b[0;34m=\u001b[0m\u001b[0mNone\u001b[0m\u001b[0;34m)\u001b[0m\u001b[0;34m:\u001b[0m\u001b[0;34m\u001b[0m\u001b[0m\n",
        "\u001b[0;31mOperationalError\u001b[0m: (OperationalError) near \"df2_original\": syntax error 'df2_original.db' ()"
       ]
      }
     ],
     "prompt_number": 15
    },
    {
     "cell_type": "code",
     "collapsed": false,
     "input": [],
     "language": "python",
     "metadata": {},
     "outputs": []
    },
    {
     "cell_type": "code",
     "collapsed": false,
     "input": [],
     "language": "python",
     "metadata": {},
     "outputs": []
    },
    {
     "cell_type": "heading",
     "level": 5,
     "metadata": {},
     "source": [
      "2. This one is after pandas GA_DAT7"
     ]
    },
    {
     "cell_type": "code",
     "collapsed": false,
     "input": [],
     "language": "python",
     "metadata": {},
     "outputs": [],
     "prompt_number": 4
    },
    {
     "cell_type": "code",
     "collapsed": false,
     "input": [],
     "language": "python",
     "metadata": {},
     "outputs": [],
     "prompt_number": 4
    }
   ],
   "metadata": {}
  }
 ]
}