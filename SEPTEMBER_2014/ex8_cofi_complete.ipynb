{
 "metadata": {
  "name": "",
  "signature": "sha256:fbb43614da321dd066d308dfa6e0875014a3bec61ea83f28314ab4debf9991e3"
 },
 "nbformat": 3,
 "nbformat_minor": 0,
 "worksheets": [
  {
   "cells": [
    {
     "cell_type": "code",
     "collapsed": false,
     "input": [],
     "language": "python",
     "metadata": {},
     "outputs": []
    },
    {
     "cell_type": "code",
     "collapsed": false,
     "input": [
      "import numpy as np\n",
      "from numpy import * #change to import numpy as np\n",
      "from scipy.io import loadmat\n",
      "from scipy.optimize import minimize\n",
      "from matplotlib.pyplot import *\n",
      "%matplotlib inline\n",
      "\n",
      "#from cofiCostFunc import cofiCostFunc\n",
      "#from checkCostFunction import checkCostFunction\n",
      "#from loadMovieList import loadMovieList\n",
      "#from normalizeRatings import normalizeRatings"
     ],
     "language": "python",
     "metadata": {},
     "outputs": [],
     "prompt_number": 25
    },
    {
     "cell_type": "code",
     "collapsed": false,
     "input": [
      "#from numpy import *\n",
      "\n",
      "def normalizeRatings(Y, R):\n",
      "    #NORMALIZERATINGS Preprocess data by subtracting mean rating for every\n",
      "    #movie (every row)\n",
      "    #   Ynorm, Ymean = NORMALIZERATINGS(Y, R) normalized Y so that each movie\n",
      "    #   has a rating of 0 on average, and returns the mean rating in Ymean.\n",
      "    #\n",
      "\n",
      "    m, n = shape(Y)\n",
      "    Ymean = zeros(m)\n",
      "    Ynorm = zeros(shape(Y))\n",
      "    for i in range(m):\n",
      "        idx = where(R[i, :] == 1)\n",
      "        Ymean[i] = mean(Y[i, idx])\n",
      "        Ynorm[i, idx] = Y[i, idx] - Ymean[i]\n",
      "\n",
      "    return Ynorm, Ymean\n"
     ],
     "language": "python",
     "metadata": {},
     "outputs": [],
     "prompt_number": 2
    },
    {
     "cell_type": "code",
     "collapsed": false,
     "input": [
      "def loadMovieList():\n",
      "    #GETMOVIELIST reads the fixed movie list in movie_ids.txt and returns a\n",
      "    #list of the titles\n",
      "    #   movieList = GETMOVIELIST() reads the fixed movie list in movie_ids.txt\n",
      "    #   and returns a list of the titles in movieList.\n",
      "\n",
      "    movieList = []\n",
      "\n",
      "    ## Read the fixed movieulary list\n",
      "    with open('/Volumes/Seagate_RED/A_Classes/A_Machine_Learning_Coursera/ROUND_6_D_lab/A_MY_CODE_ML/py-coursera/ML/mlclass_ex8/movie_ids.txt') as fid:\n",
      "        for line in fid:\n",
      "            movieName = line.split(' ', 1)[1].strip()\n",
      "            movieList.append(movieName)\n",
      "\n",
      "    return movieList\n"
     ],
     "language": "python",
     "metadata": {},
     "outputs": [],
     "prompt_number": 3
    },
    {
     "cell_type": "code",
     "collapsed": false,
     "input": [
      "def cofiCostFunc(params, Y, R, num_users, num_movies, num_features, lambda_):\n",
      "    #COFICOSTFUNC Collaborative filtering cost function\n",
      "    #   J, grad = COFICOSTFUNC(params, Y, R, num_users, num_movies, num_features, lambda_)\n",
      "    #   returns the cost and gradient for the collaborative filtering problem.\n",
      "    #\n",
      "\n",
      "    # Unfold the U and W matrices from params\n",
      "    X = reshape(params[:num_movies*num_features], (num_movies, num_features), order='F')\n",
      "    Theta = reshape(params[num_movies*num_features:], (num_users, num_features), order='F')\n",
      "\n",
      "\n",
      "    # You need to return the following values correctly\n",
      "    J = 0\n",
      "    X_grad = zeros(shape(X))\n",
      "    Theta_grad = zeros(shape(Theta))\n",
      "\n",
      "    # ====================== YOUR CODE HERE ======================\n",
      "    # Instructions: Compute the cost function and gradient for collaborative\n",
      "    #               filtering. Concretely, you should first implement the cost\n",
      "    #               function (without regularization) and make sure it is\n",
      "    #               matches our costs. After that, you should implement the\n",
      "    #               gradient and use the checkCostFunction routine to check\n",
      "    #               that the gradient is correct. Finally, you should implement\n",
      "    #               regularization.\n",
      "    #\n",
      "    # Notes: X - num_movies  x num_features matrix of movie features\n",
      "    #        Theta - num_users  x num_features matrix of user features\n",
      "    #        Y - num_movies x num_users matrix of user ratings of movies\n",
      "    #        R - num_movies x num_users matrix, where R(i, j) = 1 if the\n",
      "    #            i-th movie was rated by the j-th user\n",
      "    #\n",
      "    # You should set the following variables correctly:\n",
      "    #\n",
      "    #        X_grad - num_movies x num_features matrix, containing the\n",
      "    #                 partial derivatives w.r.t. to each element of X\n",
      "    #        Theta_grad - num_users x num_features matrix, containing the\n",
      "    #                     partial derivatives w.r.t. to each element of Theta\n",
      "    #\n",
      "\n",
      "    ###   NOT REGULARIZED   ###\n",
      "    #J is a scalar\n",
      "    #J=0.5*sum(sum(bsxfun(@times,(X*Theta'-Y).^2,R)));\n",
      "\n",
      "    J=0.5*np.sum(((np.dot(X,Theta.T)-Y)**2)*R) ###PART 2\n",
      "    #these two are matrices:\n",
      "    #X_grad = zeros(size(X)); 5 x 3\n",
      "    #Theta_grad = zeros(size(Theta)); 4 x 3\n",
      "\n",
      "    #bsxfun(@times,(X*Theta'-Y),R) cleans up the first part\n",
      "    \n",
      "    ##X_grad = bsxfun(@times,(X*Theta'-Y),R)*Theta; ###PART 3\n",
      "    X_grad=np.dot((np.dot(X,Theta.T)-Y)*R,Theta)\n",
      "\n",
      "    ##Theta_grad = bsxfun(@times,(X*Theta'-Y),R)'*X; ###PART 3\n",
      "    Theta_grad =np.dot(((np.dot(X,Theta.T)-Y)*R).T,X)\n",
      "  \n",
      "    \n",
      "    ##J=J + (lambda/2)*sum(sum(Theta.^2))+(lambda/2)*sum(sum(X.^2)); ###PART 4\n",
      "    J=J+(lambda_/2)*np.sum(Theta**2)+(lambda_/2)*np.sum(X**2)\n",
      "    X_grad = X_grad + lambda_*X  ###PART 5\n",
      "    Theta_grad = Theta_grad + lambda_*Theta  ###PART 5\n",
      "\n",
      "\n",
      "\n",
      "    \n",
      "    \n",
      "\n",
      "    # =============================================================\n",
      "\n",
      "    grad = hstack((X_grad.ravel('F'), Theta_grad.ravel('F')))\n",
      "\n",
      "    return J, grad"
     ],
     "language": "python",
     "metadata": {},
     "outputs": [],
     "prompt_number": 59
    },
    {
     "cell_type": "code",
     "collapsed": false,
     "input": [],
     "language": "python",
     "metadata": {},
     "outputs": [],
     "prompt_number": 59
    },
    {
     "cell_type": "code",
     "collapsed": false,
     "input": [
      "Theta**2"
     ],
     "language": "python",
     "metadata": {},
     "outputs": [
      {
       "metadata": {},
       "output_type": "pyout",
       "prompt_number": 52,
       "text": [
        "array([[ 0.08147806,  2.83674888,  0.0691368 ],\n",
        "       [ 0.25503835,  0.20670522,  0.1007824 ],\n",
        "       [ 0.18655192,  0.22925374,  0.7169197 ],\n",
        "       [ 0.53085561,  0.0739263 ,  0.10682674]])"
       ]
      }
     ],
     "prompt_number": 52
    },
    {
     "cell_type": "code",
     "collapsed": false,
     "input": [
      "np.dot(((np.dot(X,Theta.T)-Y)*R).T,X)"
     ],
     "language": "python",
     "metadata": {},
     "outputs": [
      {
       "metadata": {},
       "output_type": "pyout",
       "prompt_number": 48,
       "text": [
        "array([[-10.5680202 ,   4.62776019,  -7.16004443],\n",
        "       [ -3.05099006,   1.16441367,  -3.47410789],\n",
        "       [  0.        ,   0.        ,   0.        ],\n",
        "       [  0.        ,   0.        ,   0.        ]])"
       ]
      }
     ],
     "prompt_number": 48
    },
    {
     "cell_type": "code",
     "collapsed": false,
     "input": [
      "(((np.dot(X,Theta.T)-Y)*R).T).shape"
     ],
     "language": "python",
     "metadata": {},
     "outputs": [
      {
       "metadata": {},
       "output_type": "pyout",
       "prompt_number": 47,
       "text": [
        "(4, 5)"
       ]
      }
     ],
     "prompt_number": 47
    },
    {
     "cell_type": "code",
     "collapsed": false,
     "input": [
      "    np.dot((np.dot(X,Theta.T)-Y)*R,Theta).shape"
     ],
     "language": "python",
     "metadata": {},
     "outputs": [
      {
       "metadata": {},
       "output_type": "pyout",
       "prompt_number": 37,
       "text": [
        "(5, 3)"
       ]
      }
     ],
     "prompt_number": 37
    },
    {
     "cell_type": "code",
     "collapsed": false,
     "input": [
      "(np.dot(X,Theta.T)-Y)*R"
     ],
     "language": "python",
     "metadata": {},
     "outputs": [
      {
       "metadata": {},
       "output_type": "pyout",
       "prompt_number": 35,
       "text": [
        "array([[-3.71258241, -2.90934704,  0.        ,  0.        ],\n",
        "       [-1.99057164,  0.        ,  0.        ,  0.        ],\n",
        "       [-2.9161876 ,  0.        , -0.        ,  0.        ],\n",
        "       [-1.3438128 ,  0.        ,  0.        ,  0.        ],\n",
        "       [-2.81589784,  0.        , -0.        ,  0.        ]])"
       ]
      }
     ],
     "prompt_number": 35
    },
    {
     "cell_type": "code",
     "collapsed": false,
     "input": [
      "Theta.shape"
     ],
     "language": "python",
     "metadata": {},
     "outputs": [
      {
       "metadata": {},
       "output_type": "pyout",
       "prompt_number": 36,
       "text": [
        "(4, 3)"
       ]
      }
     ],
     "prompt_number": 36
    },
    {
     "cell_type": "code",
     "collapsed": false,
     "input": [
      "R.shape"
     ],
     "language": "python",
     "metadata": {},
     "outputs": [
      {
       "metadata": {},
       "output_type": "pyout",
       "prompt_number": 21,
       "text": [
        "(5, 4)"
       ]
      }
     ],
     "prompt_number": 21
    },
    {
     "cell_type": "code",
     "collapsed": false,
     "input": [
      "X.shape"
     ],
     "language": "python",
     "metadata": {},
     "outputs": [
      {
       "metadata": {},
       "output_type": "pyout",
       "prompt_number": 15,
       "text": [
        "(5, 3)"
       ]
      }
     ],
     "prompt_number": 15
    },
    {
     "cell_type": "code",
     "collapsed": false,
     "input": [
      "Theta"
     ],
     "language": "python",
     "metadata": {},
     "outputs": [
      {
       "metadata": {},
       "output_type": "pyout",
       "prompt_number": 13,
       "text": [
        "array([[ 0.28544362, -1.68426509,  0.26293877],\n",
        "       [ 0.50501321, -0.45464846,  0.31746244],\n",
        "       [-0.43191656, -0.47880449,  0.84671111],\n",
        "       [ 0.72859839, -0.27189391,  0.3268436 ]])"
       ]
      }
     ],
     "prompt_number": 13
    },
    {
     "cell_type": "code",
     "collapsed": false,
     "input": [
      "#from numpy import *\n",
      "#from cofiCostFunc import cofiCostFunc\n",
      "\n",
      "def checkCostFunction(lambda_=0):\n",
      "    #CHECKCOSTFUNCTION Creates a collaborative filering problem\n",
      "    #to check your cost function and gradients\n",
      "    #   CHECKCOSTFUNCTION(lambda_) Creates a collaborative filering problem\n",
      "    #   to check your cost function and gradients, it will output the\n",
      "    #   analytical gradients produced by your code and the numerical gradients\n",
      "    #   (computed using computeNumericalGradient). These two gradient\n",
      "    #   computations should result in very similar values.\n",
      "\n",
      "    ## Create small problem\n",
      "    X_t = random.rand(4, 3)\n",
      "    Theta_t = random.rand(5, 3)\n",
      "\n",
      "    # Zap out most entries\n",
      "    Y = dot(X_t, Theta_t.T)\n",
      "    Y[random.rand(*shape(Y)) > 0.5] = 0\n",
      "    R = where(Y == 0, 0, 1)\n",
      "\n",
      "    ## Run Gradient Checking\n",
      "    X = random.randn(*shape(X_t))\n",
      "    Theta = random.randn(*shape(Theta_t))\n",
      "    num_users = size(Y, 1)\n",
      "    num_movies = size(Y, 0)\n",
      "    num_features = size(Theta_t, 1)\n",
      "\n",
      "    numgrad = computeNumericalGradient(\n",
      "        lambda t: cofiCostFunc(t, Y, R, num_users, num_movies, num_features, lambda_),\n",
      "        hstack((X.ravel('F'), Theta.ravel('F'))))\n",
      "\n",
      "    cost, grad = cofiCostFunc(hstack((X.ravel('F'), Theta.ravel('F'))), Y, R,\n",
      "                              num_users, num_movies, num_features, lambda_)\n",
      "\n",
      "    print column_stack((numgrad, grad))\n",
      "\n",
      "    print 'The above two columns you get should be very similar.'\n",
      "    print '(Left-Your Numerical Gradient, Right-Analytical Gradient)\\n'\n",
      "\n",
      "    diff = linalg.norm(numgrad-grad) / linalg.norm(numgrad+grad)\n",
      "    print 'If your backpropagation implementation is correct, then'\n",
      "    print 'the relative difference will be small (less than 1e-9).'\n",
      "    print '\\nRelative Difference: %g' % diff\n",
      "\n",
      "\n",
      "def computeNumericalGradient(J, theta):\n",
      "    #COMPUTENUMERICALGRADIENT Computes the gradient using \"finite differences\"\n",
      "    #and gives us a numerical estimate of the gradient.\n",
      "    #   numgrad = COMPUTENUMERICALGRADIENT(J, theta) computes the numerical\n",
      "    #   gradient of the function J around theta. Calling y = J(theta) should\n",
      "    #   return the function value at theta.\n",
      "\n",
      "    # Notes: The following code implements numerical gradient checking, and\n",
      "    #        returns the numerical gradient.It sets numgrad[i] to (a numerical\n",
      "    #        approximation of) the partial derivative of J with respect to the\n",
      "    #        i-th input argument, evaluated at theta. (i.e., numgrad[i] should\n",
      "    #        be the (approximately) the partial derivative of J with respect\n",
      "    #        to theta[i].)\n",
      "    #\n",
      "\n",
      "    numgrad = zeros(shape(theta))\n",
      "    perturb = zeros(shape(theta))\n",
      "    e = 1e-4\n",
      "    for p in ndindex(shape(theta)):\n",
      "        # Set perturbation vector\n",
      "        perturb[p] = e\n",
      "        loss1, _ = J(theta - perturb)\n",
      "        loss2, _ = J(theta + perturb)\n",
      "        # Compute Numerical Gradient\n",
      "        numgrad[p] = (loss2 - loss1) / (2*e)\n",
      "        perturb[p] = 0\n",
      "\n",
      "    return numgrad"
     ],
     "language": "python",
     "metadata": {},
     "outputs": [],
     "prompt_number": 32
    },
    {
     "cell_type": "code",
     "collapsed": false,
     "input": [],
     "language": "python",
     "metadata": {},
     "outputs": []
    },
    {
     "cell_type": "heading",
     "level": 2,
     "metadata": {},
     "source": [
      "ex8_cofi.py"
     ]
    },
    {
     "cell_type": "code",
     "collapsed": false,
     "input": [
      "from numpy import *\n",
      "from scipy.io import loadmat\n",
      "from scipy.optimize import minimize\n",
      "from matplotlib.pyplot import *\n",
      "\n",
      "#from cofiCostFunc import cofiCostFunc\n",
      "#from checkCostFunction import checkCostFunction\n",
      "#from loadMovieList import loadMovieList\n",
      "#from normalizeRatings import normalizeRatings\n",
      "\n",
      "## ===== HELPERS =====\n",
      "\n",
      "def serialize(*args):\n",
      "    return hstack(a.ravel('F') for a in args)\n",
      "\n"
     ],
     "language": "python",
     "metadata": {},
     "outputs": [],
     "prompt_number": 5
    },
    {
     "cell_type": "code",
     "collapsed": false,
     "input": [
      "## =============== Part 1: Loading movie ratings dataset ================\n",
      "#  You will start by loading the movie ratings dataset to understand the\n",
      "#  structure of the data.\n",
      "#\n",
      "print 'Loading movie ratings dataset.\\n'\n",
      "\n",
      "#  Load data\n",
      "ex8_movies = loadmat('/Volumes/Seagate_RED/A_Classes/A_Machine_Learning_Coursera/ROUND_6_D_lab/A_MY_CODE_ML/py-coursera/ML/mlclass_ex8/ex8_movies.mat')\n",
      "Y = ex8_movies['Y']\n",
      "R = ex8_movies['R']\n",
      "\n",
      "#  Y is a 1682x943 matrix, containing ratings (1-5) of 1682 movies on\n",
      "#  943 users\n",
      "#\n",
      "#  R is a 1682x943 matrix, where R(i,j) = 1 if and only if user j gave a\n",
      "#  rating to movie i\n",
      "\n",
      "#  From the matrix, we can compute statistics like average rating.\n",
      "print 'Average rating for movie 1 (Toy Story): %f / 5\\n' % mean(Y[0, R[0, :]])\n",
      "\n",
      "#  We can \"visualize\" the ratings matrix by plotting it with imagesc\n",
      "#fig = figure()\n",
      "imshow(Y, aspect=0.4)\n",
      "ylabel('Movies')\n",
      "xlabel('Users')\n",
      "colorbar()\n",
      "#fig.show()\n",
      "\n",
      "#print '\\nProgram paused. Press enter to continue.'\n",
      "#raw_input()\n",
      "\n"
     ],
     "language": "python",
     "metadata": {},
     "outputs": [
      {
       "output_type": "stream",
       "stream": "stdout",
       "text": [
        "Loading movie ratings dataset.\n",
        "\n",
        "Average rating for movie 1 (Toy Story): 4.520679 / 5\n",
        "\n"
       ]
      },
      {
       "metadata": {},
       "output_type": "pyout",
       "prompt_number": 7,
       "text": [
        "<matplotlib.colorbar.Colorbar instance at 0x11cc45050>"
       ]
      },
      {
       "metadata": {},
       "output_type": "display_data",
       "png": "[encoded data removed]",
       "text": [
        "<matplotlib.figure.Figure at 0x113902f90>"
       ]
      }
     ],
     "prompt_number": 7
    },
    {
     "cell_type": "code",
     "collapsed": false,
     "input": [
      "#?colorbar()\n",
      "\n"
     ],
     "language": "python",
     "metadata": {},
     "outputs": [],
     "prompt_number": 8
    },
    {
     "cell_type": "code",
     "collapsed": false,
     "input": [
      "## ============ Part 2: Collaborative Filtering Cost Function ===========\n",
      "#  You will now implement the cost function for collaborative filtering.\n",
      "#  To help you debug your cost function, we have included set of weights\n",
      "#  that we trained on that. Specifically, you should complete the code in\n",
      "#  cofiCostFunc.m to return J.\n",
      "\n",
      "#  Load pre-trained weights (X, Theta, num_users, num_movies, num_features)\n",
      "ex8_movieParams = loadmat('/Volumes/Seagate_RED/A_Classes/A_Machine_Learning_Coursera/ROUND_6_D_lab/A_MY_CODE_ML/py-coursera/ML/mlclass_ex8/ex8_movieParams.mat')\n",
      "X = ex8_movieParams['X']\n",
      "Theta = ex8_movieParams['Theta']\n",
      "\n",
      "#  Reduce the data set size so that this runs faster\n",
      "num_users, num_movies, num_features = 4, 5, 3\n",
      "X = X[:num_movies,:num_features]\n",
      "Theta = Theta[:num_users,:num_features]\n",
      "Y = Y[:num_movies,:num_users]\n",
      "R = R[:num_movies,:num_users]\n",
      "\n",
      "#  Evaluate cost function\n",
      "J, _ = cofiCostFunc(serialize(X, Theta), Y, R, num_users, num_movies, num_features, 0.)\n",
      "\n",
      "print 'Cost at loaded parameters: %f ' % J\n",
      "print '(this value should be about 22.22)'\n",
      "\n",
      "#print '\\nProgram paused. Press enter to continue.'\n",
      "#raw_input()\n"
     ],
     "language": "python",
     "metadata": {},
     "outputs": [
      {
       "output_type": "stream",
       "stream": "stdout",
       "text": [
        "Cost at loaded parameters: 22.224604 \n",
        "(this value should be about 22.22)\n"
       ]
      }
     ],
     "prompt_number": 31
    },
    {
     "cell_type": "code",
     "collapsed": false,
     "input": [
      "## ============== Part 3: Collaborative Filtering Gradient ==============\n",
      "#  Once your cost function matches up with ours, you should now implement\n",
      "#  the collaborative filtering gradient function. Specifically, you should\n",
      "#  complete the code in cofiCostFunc.m to return the grad argument.\n",
      "#\n",
      "print '\\nChecking Gradients (without regularization) ... '\n",
      "\n",
      "#  Check gradients by running checkNNGradients\n",
      "checkCostFunction()\n",
      "\n",
      "#print '\\nProgram paused. Press enter to continue.'\n",
      "#raw_input()"
     ],
     "language": "python",
     "metadata": {},
     "outputs": [
      {
       "output_type": "stream",
       "stream": "stdout",
       "text": [
        "\n",
        "Checking Gradients (without regularization) ... \n",
        "[[-1.86797158 -1.86797158]\n",
        " [-1.88424556 -1.88424556]\n",
        " [-0.55599705 -0.55599705]\n",
        " [ 5.68726449  5.68726449]\n",
        " [ 0.39070601  0.39070601]\n",
        " [-0.32757302 -0.32757302]\n",
        " [ 0.36619853  0.36619853]\n",
        " [-0.94438574 -0.94438574]\n",
        " [ 0.34850641  0.34850641]\n",
        " [-2.60778868 -2.60778868]\n",
        " [ 0.79879504  0.79879504]\n",
        " [ 2.75903732  2.75903732]\n",
        " [-1.32754745 -1.32754745]\n",
        " [ 3.92915395  3.92915395]\n",
        " [ 0.          0.        ]\n",
        " [-3.53939171 -3.53939171]\n",
        " [-0.68184679 -0.68184679]\n",
        " [-0.35397508 -0.35397508]\n",
        " [ 0.37569449  0.37569449]\n",
        " [ 0.          0.        ]\n",
        " [ 0.10082861  0.10082861]\n",
        " [-0.48599254 -0.48599254]\n",
        " [-1.26092304 -1.26092304]\n",
        " [ 3.11288895  3.11288895]\n",
        " [ 0.          0.        ]\n",
        " [-9.68346172 -9.68346172]\n",
        " [-1.33861442 -1.33861442]]\n",
        "The above two columns you get should be very similar.\n",
        "(Left-Your Numerical Gradient, Right-Analytical Gradient)\n",
        "\n",
        "If your backpropagation implementation is correct, then\n",
        "the relative difference will be small (less than 1e-9).\n",
        "\n",
        "Relative Difference: 9.5138e-13\n"
       ]
      }
     ],
     "prompt_number": 50
    },
    {
     "cell_type": "code",
     "collapsed": false,
     "input": [
      "## ========= Part 4: Collaborative Filtering Cost Regularization ========\n",
      "#  Now, you should implement regularization for the cost function for\n",
      "#  collaborative filtering. You can implement it by adding the cost of\n",
      "#  regularization to the original cost computation.\n",
      "#\n",
      "\n",
      "#  Evaluate cost function\n",
      "J, _ = cofiCostFunc(serialize(X, Theta), Y, R, num_users, num_movies, num_features, 1.5)\n",
      "\n",
      "print 'Cost at loaded parameters (lambda = 1.5): %f' % J\n",
      "print '(this value should be about 31.34)'\n",
      "\n",
      "#print '\\nProgram paused. Press enter to continue.'\n",
      "#raw_input()\n"
     ],
     "language": "python",
     "metadata": {},
     "outputs": [
      {
       "output_type": "stream",
       "stream": "stdout",
       "text": [
        "Cost at loaded parameters (lambda = 1.5): 31.344056\n",
        "(this value should be about 31.34)\n",
        "\n",
        "Program paused. Press enter to continue.\n"
       ]
      }
     ],
     "prompt_number": 56
    },
    {
     "cell_type": "code",
     "collapsed": false,
     "input": [
      "## ======= Part 5: Collaborative Filtering Gradient Regularization ======\n",
      "#  Once your cost matches up with ours, you should proceed to implement\n",
      "#  regularization for the gradient.\n",
      "#\n",
      "\n",
      "#\n",
      "print '\\nChecking Gradients (with regularization) ... '\n",
      "\n",
      "#  Check gradients by running checkNNGradients\n",
      "checkCostFunction(1.5)\n",
      "\n",
      "#print '\\nProgram paused. Press enter to continue.'\n",
      "#raw_input()\n"
     ],
     "language": "python",
     "metadata": {},
     "outputs": [
      {
       "output_type": "stream",
       "stream": "stdout",
       "text": [
        "\n",
        "Checking Gradients (with regularization) ... \n",
        "[[  4.2530785    4.2530785 ]\n",
        " [  2.5479997    2.5479997 ]\n",
        " [ -1.03441999  -1.03441999]\n",
        " [ -3.47526603  -3.47526603]\n",
        " [ -7.56849675  -7.56849675]\n",
        " [ -5.34640389  -5.34640389]\n",
        " [  3.56458443   3.56458443]\n",
        " [ -2.65208339  -2.65208339]\n",
        " [ -9.87931905  -9.87931905]\n",
        " [ -6.41485101  -6.41485101]\n",
        " [  5.47996905   5.47996905]\n",
        " [  2.13952453   2.13952453]\n",
        " [ -3.25863996  -3.25863996]\n",
        " [  3.40953191   3.40953191]\n",
        " [ -0.46861462  -0.46861462]\n",
        " [ -3.2945253   -3.2945253 ]\n",
        " [  1.71192985   1.71192985]\n",
        " [ -3.2845758   -3.2845758 ]\n",
        " [ -5.60399783  -5.60399783]\n",
        " [ -1.06576901  -1.06576901]\n",
        " [  3.99770366   3.99770366]\n",
        " [ -1.03583554  -1.03583554]\n",
        " [  1.34925769   1.34925769]\n",
        " [-13.27911465 -13.27911465]\n",
        " [  0.24158267   0.24158267]\n",
        " [  9.79552863   9.79552863]\n",
        " [ -3.55186844  -3.55186844]]\n",
        "The above two columns you get should be very similar.\n",
        "(Left-Your Numerical Gradient, Right-Analytical Gradient)\n",
        "\n",
        "If your backpropagation implementation is correct, then\n",
        "the relative difference will be small (less than 1e-9).\n",
        "\n",
        "Relative Difference: 1.79804e-12\n"
       ]
      }
     ],
     "prompt_number": 61
    },
    {
     "cell_type": "code",
     "collapsed": false,
     "input": [
      "## ============== Part 6: Entering ratings for a new user ===============\n",
      "#  Before we will train the collaborative filtering model, we will first\n",
      "#  add ratings that correspond to a new user that we just observed. This\n",
      "#  part of the code will also allow you to put in your own ratings for the\n",
      "#  movies in our dataset!\n",
      "#\n",
      "movieList = loadMovieList()\n",
      "#print movieList\n",
      "#print \n",
      "#  Initialize my ratings\n",
      "my_ratings = zeros(len(movieList))\n",
      "#print my_ratings\n",
      "#print\n",
      "# Check the file movie_idx.txt for id of each movie in our dataset\n",
      "# For example, Toy Story (1995) has ID 1, so to rate it \"4\", you can set\n",
      "my_ratings[1-1] = 4\n",
      "\n",
      "# Or suppose did not enjoy Silence of the Lambs (1991), you can set\n",
      "my_ratings[98-1] = 2\n",
      "\n",
      "# We have selected a few movies we liked / did not like and the ratings we\n",
      "# gave are as follows:\n",
      "my_ratings[7-1] = 3\n",
      "my_ratings[12-1]= 5\n",
      "my_ratings[54-1] = 4\n",
      "my_ratings[64-1]= 5\n",
      "my_ratings[66-1]= 3\n",
      "my_ratings[69-1] = 5\n",
      "my_ratings[183-1] = 4\n",
      "my_ratings[226-1] = 5\n",
      "my_ratings[355-1]= 5\n",
      "\n",
      "print '\\n\\nNew user ratings:'\n",
      "for rating, name in zip(my_ratings, movieList):\n",
      "    if rating > 0:\n",
      "        print 'Rated %d for %s' % (rating, name)\n",
      "\n",
      "#print '\\nProgram paused. Press enter to continue.'\n",
      "#raw_input()\n"
     ],
     "language": "python",
     "metadata": {},
     "outputs": [
      {
       "output_type": "stream",
       "stream": "stdout",
       "text": [
        "\n",
        "\n",
        "New user ratings:\n",
        "Rated 4 for Toy Story (1995)\n",
        "Rated 3 for Twelve Monkeys (1995)\n",
        "Rated 5 for Usual Suspects, The (1995)\n",
        "Rated 4 for Outbreak (1995)\n",
        "Rated 5 for Shawshank Redemption, The (1994)\n",
        "Rated 3 for While You Were Sleeping (1995)\n",
        "Rated 5 for Forrest Gump (1994)\n",
        "Rated 2 for Silence of the Lambs, The (1991)\n",
        "Rated 4 for Alien (1979)\n",
        "Rated 5 for Die Hard 2 (1990)\n",
        "Rated 5 for Sphere (1998)\n"
       ]
      }
     ],
     "prompt_number": 69
    },
    {
     "cell_type": "code",
     "collapsed": false,
     "input": [
      "type(my_ratings)"
     ],
     "language": "python",
     "metadata": {},
     "outputs": [
      {
       "metadata": {},
       "output_type": "pyout",
       "prompt_number": 65,
       "text": [
        "numpy.ndarray"
       ]
      }
     ],
     "prompt_number": 65
    },
    {
     "cell_type": "code",
     "collapsed": false,
     "input": [
      "my_ratings"
     ],
     "language": "python",
     "metadata": {},
     "outputs": [
      {
       "metadata": {},
       "output_type": "pyout",
       "prompt_number": 66,
       "text": [
        "array([ 4.,  0.,  0., ...,  0.,  0.,  0.])"
       ]
      }
     ],
     "prompt_number": 66
    },
    {
     "cell_type": "code",
     "collapsed": false,
     "input": [
      "my_ratings[97]\n"
     ],
     "language": "python",
     "metadata": {},
     "outputs": [
      {
       "metadata": {},
       "output_type": "pyout",
       "prompt_number": 68,
       "text": [
        "2.0"
       ]
      }
     ],
     "prompt_number": 68
    },
    {
     "cell_type": "code",
     "collapsed": false,
     "input": [
      "## ================== Part 7: Learning Movie Ratings ====================\n",
      "#  Now, you will train the collaborative filtering model on a movie rating\n",
      "#  dataset of 1682 movies and 943 users\n",
      "#\n",
      "\n",
      "#print '\\nTraining collaborative filtering...'\n",
      "\n",
      "#  Load data\n",
      "ex8_movies = loadmat('/Volumes/Seagate_RED/A_Classes/A_Machine_Learning_Coursera/ROUND_6_D_lab/A_MY_CODE_ML/py-coursera/ML/mlclass_ex8/ex8_movies.mat')\n",
      "Y = ex8_movies['Y']\n",
      "R = ex8_movies['R']"
     ],
     "language": "python",
     "metadata": {},
     "outputs": [],
     "prompt_number": 71
    },
    {
     "cell_type": "code",
     "collapsed": false,
     "input": [
      "Y.shape"
     ],
     "language": "python",
     "metadata": {},
     "outputs": [
      {
       "metadata": {},
       "output_type": "pyout",
       "prompt_number": 72,
       "text": [
        "(1682, 943)"
       ]
      }
     ],
     "prompt_number": 72
    },
    {
     "cell_type": "code",
     "collapsed": false,
     "input": [
      "R.shape"
     ],
     "language": "python",
     "metadata": {},
     "outputs": [
      {
       "metadata": {},
       "output_type": "pyout",
       "prompt_number": 73,
       "text": [
        "(1682, 943)"
       ]
      }
     ],
     "prompt_number": 73
    },
    {
     "cell_type": "code",
     "collapsed": false,
     "input": [
      "Y[:10,:]"
     ],
     "language": "python",
     "metadata": {},
     "outputs": [
      {
       "metadata": {},
       "output_type": "pyout",
       "prompt_number": 75,
       "text": [
        "array([[5, 4, 0, ..., 5, 0, 0],\n",
        "       [3, 0, 0, ..., 0, 0, 5],\n",
        "       [4, 0, 0, ..., 0, 0, 0],\n",
        "       ..., \n",
        "       [1, 0, 0, ..., 0, 0, 0],\n",
        "       [5, 0, 0, ..., 0, 0, 3],\n",
        "       [3, 2, 0, ..., 0, 0, 0]], dtype=uint8)"
       ]
      }
     ],
     "prompt_number": 75
    },
    {
     "cell_type": "code",
     "collapsed": false,
     "input": [
      "R[:10,:]"
     ],
     "language": "python",
     "metadata": {},
     "outputs": [
      {
       "metadata": {},
       "output_type": "pyout",
       "prompt_number": 76,
       "text": [
        "array([[1, 1, 0, ..., 1, 0, 0],\n",
        "       [1, 0, 0, ..., 0, 0, 1],\n",
        "       [1, 0, 0, ..., 0, 0, 0],\n",
        "       ..., \n",
        "       [1, 0, 0, ..., 0, 0, 0],\n",
        "       [1, 0, 0, ..., 0, 0, 1],\n",
        "       [1, 1, 0, ..., 0, 0, 0]], dtype=uint8)"
       ]
      }
     ],
     "prompt_number": 76
    },
    {
     "cell_type": "code",
     "collapsed": false,
     "input": [
      "#  Y is a 1682x943 matrix, containing ratings (1-5) of 1682 movies by\n",
      "#  943 users\n",
      "#\n",
      "#  R is a 1682x943 matrix, where R(i,j) = 1 if and only if user j gave a\n",
      "#  rating to movie i\n",
      "\n",
      "#  Add our own ratings to the data matrix\n",
      "#http://docs.scipy.org/doc/numpy/reference/generated/numpy.column_stack.html\n",
      "Y = column_stack((my_ratings, Y))\n",
      "R = column_stack((my_ratings != 0, R))\n",
      "\n"
     ],
     "language": "python",
     "metadata": {},
     "outputs": [],
     "prompt_number": 78
    },
    {
     "cell_type": "code",
     "collapsed": false,
     "input": [
      "np.column_stack((np.zeros((2,2)),my_ratings[0:2]!=0))"
     ],
     "language": "python",
     "metadata": {},
     "outputs": [
      {
       "metadata": {},
       "output_type": "pyout",
       "prompt_number": 87,
       "text": [
        "array([[ 0.,  0.,  1.],\n",
        "       [ 0.,  0.,  0.]])"
       ]
      }
     ],
     "prompt_number": 87
    },
    {
     "cell_type": "code",
     "collapsed": false,
     "input": [
      "my_ratings != 0"
     ],
     "language": "python",
     "metadata": {},
     "outputs": [
      {
       "metadata": {},
       "output_type": "pyout",
       "prompt_number": 82,
       "text": [
        "array([ True, False, False, ..., False, False, False], dtype=bool)"
       ]
      }
     ],
     "prompt_number": 82
    },
    {
     "cell_type": "code",
     "collapsed": false,
     "input": [
      "Y.shape,R.shape"
     ],
     "language": "python",
     "metadata": {},
     "outputs": [
      {
       "metadata": {},
       "output_type": "pyout",
       "prompt_number": 79,
       "text": [
        "((1682, 944), (1682, 944))"
       ]
      }
     ],
     "prompt_number": 79
    },
    {
     "cell_type": "code",
     "collapsed": false,
     "input": [
      "Y[:10,:]"
     ],
     "language": "python",
     "metadata": {},
     "outputs": [
      {
       "metadata": {},
       "output_type": "pyout",
       "prompt_number": 80,
       "text": [
        "array([[ 4.,  5.,  4., ...,  5.,  0.,  0.],\n",
        "       [ 0.,  3.,  0., ...,  0.,  0.,  5.],\n",
        "       [ 0.,  4.,  0., ...,  0.,  0.,  0.],\n",
        "       ..., \n",
        "       [ 0.,  1.,  0., ...,  0.,  0.,  0.],\n",
        "       [ 0.,  5.,  0., ...,  0.,  0.,  3.],\n",
        "       [ 0.,  3.,  2., ...,  0.,  0.,  0.]])"
       ]
      }
     ],
     "prompt_number": 80
    },
    {
     "cell_type": "code",
     "collapsed": false,
     "input": [
      "R[:10,:]"
     ],
     "language": "python",
     "metadata": {},
     "outputs": [
      {
       "metadata": {},
       "output_type": "pyout",
       "prompt_number": 81,
       "text": [
        "array([[1, 1, 1, ..., 1, 0, 0],\n",
        "       [0, 1, 0, ..., 0, 0, 1],\n",
        "       [0, 1, 0, ..., 0, 0, 0],\n",
        "       ..., \n",
        "       [0, 1, 0, ..., 0, 0, 0],\n",
        "       [0, 1, 0, ..., 0, 0, 1],\n",
        "       [0, 1, 1, ..., 0, 0, 0]], dtype=uint8)"
       ]
      }
     ],
     "prompt_number": 81
    },
    {
     "cell_type": "code",
     "collapsed": false,
     "input": [
      "#  Normalize Ratings\n",
      "Ynorm, Ymean = normalizeRatings(Y, R)\n",
      "\n",
      "#  Useful Values\n",
      "num_users = size(Y, 1)\n",
      "num_movies = size(Y, 0)\n",
      "num_features = 10\n"
     ],
     "language": "python",
     "metadata": {},
     "outputs": [],
     "prompt_number": 88
    },
    {
     "cell_type": "code",
     "collapsed": false,
     "input": [
      "Ynorm"
     ],
     "language": "python",
     "metadata": {},
     "outputs": [
      {
       "metadata": {},
       "output_type": "pyout",
       "prompt_number": 89,
       "text": [
        "array([[ 0.1214128 ,  1.1214128 ,  0.1214128 , ...,  1.1214128 ,\n",
        "         0.        ,  0.        ],\n",
        "       [ 0.        , -0.20610687,  0.        , ...,  0.        ,\n",
        "         0.        ,  1.79389313],\n",
        "       [ 0.        ,  0.96666667,  0.        , ...,  0.        ,\n",
        "         0.        ,  0.        ],\n",
        "       ..., \n",
        "       [ 0.        ,  0.        ,  0.        , ...,  0.        ,\n",
        "         0.        ,  0.        ],\n",
        "       [ 0.        ,  0.        ,  0.        , ...,  0.        ,\n",
        "         0.        ,  0.        ],\n",
        "       [ 0.        ,  0.        ,  0.        , ...,  0.        ,\n",
        "         0.        ,  0.        ]])"
       ]
      }
     ],
     "prompt_number": 89
    },
    {
     "cell_type": "code",
     "collapsed": false,
     "input": [
      "# Set Initial Parameters (Theta, X)\n",
      "X = random.randn(num_movies, num_features)\n",
      "Theta = random.randn(num_users, num_features)\n",
      "\n",
      "initial_parameters = serialize(X, Theta)\n",
      "\n",
      "# Set Regularization\n",
      "lambda_ = 10\n",
      "extra_args = (Ynorm, R, num_users, num_movies, num_features, lambda_)\n",
      "#https://class.coursera.org/ml-003/forum/thread?thread_id=4664#post-22134"
     ],
     "language": "python",
     "metadata": {},
     "outputs": [],
     "prompt_number": 140
    },
    {
     "cell_type": "code",
     "collapsed": false,
     "input": [
      "import sys\n",
      "def callback(p): sys.stdout.write('.')\n",
      "\n",
      "res = minimize(cofiCostFunc, initial_parameters, extra_args, method='CG',\n",
      "               jac=True, options={'maxiter':200}, callback=callback)\n",
      "theta = res.x\n",
      "cost = res.fun\n",
      "\n",
      "print \"\\nFinal cost: %e\" % cost\n",
      "\n"
     ],
     "language": "python",
     "metadata": {},
     "outputs": [
      {
       "output_type": "stream",
       "stream": "stdout",
       "text": [
        ".."
       ]
      },
      {
       "output_type": "stream",
       "stream": "stdout",
       "text": [
        ".."
       ]
      },
      {
       "output_type": "stream",
       "stream": "stdout",
       "text": [
        ".."
       ]
      },
      {
       "output_type": "stream",
       "stream": "stdout",
       "text": [
        ".."
       ]
      },
      {
       "output_type": "stream",
       "stream": "stdout",
       "text": [
        ".."
       ]
      },
      {
       "output_type": "stream",
       "stream": "stdout",
       "text": [
        ".."
       ]
      },
      {
       "output_type": "stream",
       "stream": "stdout",
       "text": [
        ".."
       ]
      },
      {
       "output_type": "stream",
       "stream": "stdout",
       "text": [
        ".."
       ]
      },
      {
       "output_type": "stream",
       "stream": "stdout",
       "text": [
        ".."
       ]
      },
      {
       "output_type": "stream",
       "stream": "stdout",
       "text": [
        ".."
       ]
      },
      {
       "output_type": "stream",
       "stream": "stdout",
       "text": [
        ".."
       ]
      },
      {
       "output_type": "stream",
       "stream": "stdout",
       "text": [
        ".."
       ]
      },
      {
       "output_type": "stream",
       "stream": "stdout",
       "text": [
        ".."
       ]
      },
      {
       "output_type": "stream",
       "stream": "stdout",
       "text": [
        ".."
       ]
      },
      {
       "output_type": "stream",
       "stream": "stdout",
       "text": [
        ".."
       ]
      },
      {
       "output_type": "stream",
       "stream": "stdout",
       "text": [
        ".."
       ]
      },
      {
       "output_type": "stream",
       "stream": "stdout",
       "text": [
        ".."
       ]
      },
      {
       "output_type": "stream",
       "stream": "stdout",
       "text": [
        ".."
       ]
      },
      {
       "output_type": "stream",
       "stream": "stdout",
       "text": [
        ".."
       ]
      },
      {
       "output_type": "stream",
       "stream": "stdout",
       "text": [
        ".."
       ]
      },
      {
       "output_type": "stream",
       "stream": "stdout",
       "text": [
        ".."
       ]
      },
      {
       "output_type": "stream",
       "stream": "stdout",
       "text": [
        ".."
       ]
      },
      {
       "output_type": "stream",
       "stream": "stdout",
       "text": [
        ".."
       ]
      },
      {
       "output_type": "stream",
       "stream": "stdout",
       "text": [
        ".."
       ]
      },
      {
       "output_type": "stream",
       "stream": "stdout",
       "text": [
        ".."
       ]
      },
      {
       "output_type": "stream",
       "stream": "stdout",
       "text": [
        ".."
       ]
      },
      {
       "output_type": "stream",
       "stream": "stdout",
       "text": [
        ".."
       ]
      },
      {
       "output_type": "stream",
       "stream": "stdout",
       "text": [
        ".."
       ]
      },
      {
       "output_type": "stream",
       "stream": "stdout",
       "text": [
        ".."
       ]
      },
      {
       "output_type": "stream",
       "stream": "stdout",
       "text": [
        ".."
       ]
      },
      {
       "output_type": "stream",
       "stream": "stdout",
       "text": [
        ".."
       ]
      },
      {
       "output_type": "stream",
       "stream": "stdout",
       "text": [
        ".."
       ]
      },
      {
       "output_type": "stream",
       "stream": "stdout",
       "text": [
        ".."
       ]
      },
      {
       "output_type": "stream",
       "stream": "stdout",
       "text": [
        ".."
       ]
      },
      {
       "output_type": "stream",
       "stream": "stdout",
       "text": [
        ".."
       ]
      },
      {
       "output_type": "stream",
       "stream": "stdout",
       "text": [
        ".."
       ]
      },
      {
       "output_type": "stream",
       "stream": "stdout",
       "text": [
        ".."
       ]
      },
      {
       "output_type": "stream",
       "stream": "stdout",
       "text": [
        ".."
       ]
      },
      {
       "output_type": "stream",
       "stream": "stdout",
       "text": [
        ".."
       ]
      },
      {
       "output_type": "stream",
       "stream": "stdout",
       "text": [
        ".."
       ]
      },
      {
       "output_type": "stream",
       "stream": "stdout",
       "text": [
        ".."
       ]
      },
      {
       "output_type": "stream",
       "stream": "stdout",
       "text": [
        ".."
       ]
      },
      {
       "output_type": "stream",
       "stream": "stdout",
       "text": [
        ".."
       ]
      },
      {
       "output_type": "stream",
       "stream": "stdout",
       "text": [
        ".."
       ]
      },
      {
       "output_type": "stream",
       "stream": "stdout",
       "text": [
        ".."
       ]
      },
      {
       "output_type": "stream",
       "stream": "stdout",
       "text": [
        ".."
       ]
      },
      {
       "output_type": "stream",
       "stream": "stdout",
       "text": [
        ".."
       ]
      },
      {
       "output_type": "stream",
       "stream": "stdout",
       "text": [
        ".."
       ]
      },
      {
       "output_type": "stream",
       "stream": "stdout",
       "text": [
        ".."
       ]
      },
      {
       "output_type": "stream",
       "stream": "stdout",
       "text": [
        ".."
       ]
      },
      {
       "output_type": "stream",
       "stream": "stdout",
       "text": [
        ".."
       ]
      },
      {
       "output_type": "stream",
       "stream": "stdout",
       "text": [
        ".."
       ]
      },
      {
       "output_type": "stream",
       "stream": "stdout",
       "text": [
        ".."
       ]
      },
      {
       "output_type": "stream",
       "stream": "stdout",
       "text": [
        ".."
       ]
      },
      {
       "output_type": "stream",
       "stream": "stdout",
       "text": [
        ".."
       ]
      },
      {
       "output_type": "stream",
       "stream": "stdout",
       "text": [
        ".."
       ]
      },
      {
       "output_type": "stream",
       "stream": "stdout",
       "text": [
        ".."
       ]
      },
      {
       "output_type": "stream",
       "stream": "stdout",
       "text": [
        ".."
       ]
      },
      {
       "output_type": "stream",
       "stream": "stdout",
       "text": [
        ".."
       ]
      },
      {
       "output_type": "stream",
       "stream": "stdout",
       "text": [
        ".."
       ]
      },
      {
       "output_type": "stream",
       "stream": "stdout",
       "text": [
        ".."
       ]
      },
      {
       "output_type": "stream",
       "stream": "stdout",
       "text": [
        ".."
       ]
      },
      {
       "output_type": "stream",
       "stream": "stdout",
       "text": [
        ".."
       ]
      },
      {
       "output_type": "stream",
       "stream": "stdout",
       "text": [
        ".."
       ]
      },
      {
       "output_type": "stream",
       "stream": "stdout",
       "text": [
        ".."
       ]
      },
      {
       "output_type": "stream",
       "stream": "stdout",
       "text": [
        ".."
       ]
      },
      {
       "output_type": "stream",
       "stream": "stdout",
       "text": [
        ".."
       ]
      },
      {
       "output_type": "stream",
       "stream": "stdout",
       "text": [
        ".."
       ]
      },
      {
       "output_type": "stream",
       "stream": "stdout",
       "text": [
        ".."
       ]
      },
      {
       "output_type": "stream",
       "stream": "stdout",
       "text": [
        ".."
       ]
      },
      {
       "output_type": "stream",
       "stream": "stdout",
       "text": [
        ".."
       ]
      },
      {
       "output_type": "stream",
       "stream": "stdout",
       "text": [
        ".."
       ]
      },
      {
       "output_type": "stream",
       "stream": "stdout",
       "text": [
        ".."
       ]
      },
      {
       "output_type": "stream",
       "stream": "stdout",
       "text": [
        ".."
       ]
      },
      {
       "output_type": "stream",
       "stream": "stdout",
       "text": [
        ".."
       ]
      },
      {
       "output_type": "stream",
       "stream": "stdout",
       "text": [
        ".."
       ]
      },
      {
       "output_type": "stream",
       "stream": "stdout",
       "text": [
        ".."
       ]
      },
      {
       "output_type": "stream",
       "stream": "stdout",
       "text": [
        ".."
       ]
      },
      {
       "output_type": "stream",
       "stream": "stdout",
       "text": [
        ".."
       ]
      },
      {
       "output_type": "stream",
       "stream": "stdout",
       "text": [
        ".."
       ]
      },
      {
       "output_type": "stream",
       "stream": "stdout",
       "text": [
        ".."
       ]
      },
      {
       "output_type": "stream",
       "stream": "stdout",
       "text": [
        ".."
       ]
      },
      {
       "output_type": "stream",
       "stream": "stdout",
       "text": [
        ".."
       ]
      },
      {
       "output_type": "stream",
       "stream": "stdout",
       "text": [
        ".."
       ]
      },
      {
       "output_type": "stream",
       "stream": "stdout",
       "text": [
        ".."
       ]
      },
      {
       "output_type": "stream",
       "stream": "stdout",
       "text": [
        ".."
       ]
      },
      {
       "output_type": "stream",
       "stream": "stdout",
       "text": [
        ".."
       ]
      },
      {
       "output_type": "stream",
       "stream": "stdout",
       "text": [
        ".."
       ]
      },
      {
       "output_type": "stream",
       "stream": "stdout",
       "text": [
        ".."
       ]
      },
      {
       "output_type": "stream",
       "stream": "stdout",
       "text": [
        ".."
       ]
      },
      {
       "output_type": "stream",
       "stream": "stdout",
       "text": [
        ".."
       ]
      },
      {
       "output_type": "stream",
       "stream": "stdout",
       "text": [
        ".."
       ]
      },
      {
       "output_type": "stream",
       "stream": "stdout",
       "text": [
        ".."
       ]
      },
      {
       "output_type": "stream",
       "stream": "stdout",
       "text": [
        ".."
       ]
      },
      {
       "output_type": "stream",
       "stream": "stdout",
       "text": [
        ".."
       ]
      },
      {
       "output_type": "stream",
       "stream": "stdout",
       "text": [
        ".."
       ]
      },
      {
       "output_type": "stream",
       "stream": "stdout",
       "text": [
        ".."
       ]
      },
      {
       "output_type": "stream",
       "stream": "stdout",
       "text": [
        ".."
       ]
      },
      {
       "output_type": "stream",
       "stream": "stdout",
       "text": [
        ".."
       ]
      },
      {
       "output_type": "stream",
       "stream": "stdout",
       "text": [
        ".."
       ]
      },
      {
       "output_type": "stream",
       "stream": "stdout",
       "text": [
        "\n",
        "Final cost: 3.895595e+04\n"
       ]
      }
     ],
     "prompt_number": 175
    },
    {
     "cell_type": "code",
     "collapsed": false,
     "input": [
      "# Unfold the returned theta back into U and W\n",
      "X = reshape(theta[:num_movies*num_features], (num_movies, num_features), order='F')\n",
      "Theta = reshape(theta[num_movies*num_features:], (num_users, num_features), order = 'F')\n",
      "\n",
      "print 'Recommender system learning completed.'\n",
      "\n",
      "#print '\\nProgram paused. Press enter to continue.'\n",
      "#raw_input()\n",
      "\n"
     ],
     "language": "python",
     "metadata": {},
     "outputs": [
      {
       "output_type": "stream",
       "stream": "stdout",
       "text": [
        "Recommender system learning completed.\n"
       ]
      }
     ],
     "prompt_number": 176
    },
    {
     "cell_type": "code",
     "collapsed": false,
     "input": [
      "## ================== Part 8: Recommendation for you ====================\n",
      "#  After training the model, you can now make recommendations by computing\n",
      "#  the predictions matrix.\n",
      "#http://docs.scipy.org/doc/numpy/user/basics.broadcasting.html\n",
      "\n",
      "p = dot(X, Theta.T)\n",
      "nr = np.sum(R,1)\n",
      "my_predictions = p[:,0] + Ymean\n",
      "\n",
      "#p+Ymean.reshape((1682,1)) #will work for the whole matrix"
     ],
     "language": "python",
     "metadata": {},
     "outputs": [],
     "prompt_number": 177
    },
    {
     "cell_type": "code",
     "collapsed": false,
     "input": [
      "np.sum(R,1)"
     ],
     "language": "python",
     "metadata": {},
     "outputs": [
      {
       "metadata": {},
       "output_type": "pyout",
       "prompt_number": 178,
       "text": [
        "array([453, 131,  90, ...,   1,   1,   1], dtype=uint64)"
       ]
      }
     ],
     "prompt_number": 178
    },
    {
     "cell_type": "code",
     "collapsed": false,
     "input": [
      "p.shape"
     ],
     "language": "python",
     "metadata": {},
     "outputs": [
      {
       "metadata": {},
       "output_type": "pyout",
       "prompt_number": 179,
       "text": [
        "(1682, 944)"
       ]
      }
     ],
     "prompt_number": 179
    },
    {
     "cell_type": "code",
     "collapsed": false,
     "input": [
      "Ymean.reshape((1682,1))"
     ],
     "language": "python",
     "metadata": {},
     "outputs": [
      {
       "metadata": {},
       "output_type": "pyout",
       "prompt_number": 180,
       "text": [
        "array([[ 3.8785872 ],\n",
        "       [ 3.20610687],\n",
        "       [ 3.03333333],\n",
        "       ..., \n",
        "       [ 2.        ],\n",
        "       [ 3.        ],\n",
        "       [ 3.        ]])"
       ]
      }
     ],
     "prompt_number": 180
    },
    {
     "cell_type": "code",
     "collapsed": false,
     "input": [
      "type(p),type(Ymean)"
     ],
     "language": "python",
     "metadata": {},
     "outputs": [
      {
       "metadata": {},
       "output_type": "pyout",
       "prompt_number": 181,
       "text": [
        "(numpy.ndarray, numpy.ndarray)"
       ]
      }
     ],
     "prompt_number": 181
    },
    {
     "cell_type": "code",
     "collapsed": false,
     "input": [
      "p+Ymean.reshape((1682,1))"
     ],
     "language": "python",
     "metadata": {},
     "outputs": [
      {
       "metadata": {},
       "output_type": "pyout",
       "prompt_number": 182,
       "text": [
        "array([[ 3.96962647,  4.32815989,  3.88822827, ...,  4.34946493,\n",
        "         4.59712855,  3.87795464],\n",
        "       [ 3.32508831,  3.14559809,  3.22928364, ...,  3.4090547 ,\n",
        "         3.68066618,  3.20160808],\n",
        "       [ 3.29434916,  3.07908012,  2.93340305, ...,  3.12801968,\n",
        "         3.29427886,  3.04963089],\n",
        "       ..., \n",
        "       [ 1.99999999,  1.99999994,  2.00000003, ...,  2.00000001,\n",
        "         2.0000001 ,  1.99999987],\n",
        "       [ 3.        ,  3.        ,  3.        , ...,  3.        ,\n",
        "         3.        ,  3.        ],\n",
        "       [ 3.        ,  3.00000001,  3.        , ...,  3.        ,\n",
        "         2.99999999,  3.        ]])"
       ]
      }
     ],
     "prompt_number": 182
    },
    {
     "cell_type": "code",
     "collapsed": false,
     "input": [
      "np.min(p)"
     ],
     "language": "python",
     "metadata": {},
     "outputs": [
      {
       "metadata": {},
       "output_type": "pyout",
       "prompt_number": 183,
       "text": [
        "-7.2034934126376724"
       ]
      }
     ],
     "prompt_number": 183
    },
    {
     "cell_type": "code",
     "collapsed": false,
     "input": [
      "np.min(p+Ymean.reshape((1682,1)))"
     ],
     "language": "python",
     "metadata": {},
     "outputs": [
      {
       "metadata": {},
       "output_type": "pyout",
       "prompt_number": 184,
       "text": [
        "-3.5465287556730156"
       ]
      }
     ],
     "prompt_number": 184
    },
    {
     "cell_type": "code",
     "collapsed": false,
     "input": [
      "np.max(p)"
     ],
     "language": "python",
     "metadata": {},
     "outputs": [
      {
       "metadata": {},
       "output_type": "pyout",
       "prompt_number": 185,
       "text": [
        "3.4685492640705795"
       ]
      }
     ],
     "prompt_number": 185
    },
    {
     "cell_type": "code",
     "collapsed": false,
     "input": [
      "np.max(p+Ymean.reshape((1682,1)))"
     ],
     "language": "python",
     "metadata": {},
     "outputs": [
      {
       "metadata": {},
       "output_type": "pyout",
       "prompt_number": 186,
       "text": [
        "6.9344663839893759"
       ]
      }
     ],
     "prompt_number": 186
    },
    {
     "cell_type": "code",
     "collapsed": false,
     "input": [
      "x1 = np.arange(9.0).reshape((3, 3))"
     ],
     "language": "python",
     "metadata": {},
     "outputs": [],
     "prompt_number": 187
    },
    {
     "cell_type": "code",
     "collapsed": false,
     "input": [
      "x1"
     ],
     "language": "python",
     "metadata": {},
     "outputs": [
      {
       "metadata": {},
       "output_type": "pyout",
       "prompt_number": 188,
       "text": [
        "array([[ 0.,  1.,  2.],\n",
        "       [ 3.,  4.,  5.],\n",
        "       [ 6.,  7.,  8.]])"
       ]
      }
     ],
     "prompt_number": 188
    },
    {
     "cell_type": "code",
     "collapsed": false,
     "input": [
      "x2 = np.arange(3.0)"
     ],
     "language": "python",
     "metadata": {},
     "outputs": [],
     "prompt_number": 189
    },
    {
     "cell_type": "code",
     "collapsed": false,
     "input": [
      "x2"
     ],
     "language": "python",
     "metadata": {},
     "outputs": [
      {
       "metadata": {},
       "output_type": "pyout",
       "prompt_number": 190,
       "text": [
        "array([ 0.,  1.,  2.])"
       ]
      }
     ],
     "prompt_number": 190
    },
    {
     "cell_type": "code",
     "collapsed": false,
     "input": [
      "my_ratings[0:20]"
     ],
     "language": "python",
     "metadata": {},
     "outputs": [
      {
       "metadata": {},
       "output_type": "pyout",
       "prompt_number": 191,
       "text": [
        "array([ 4.,  0.,  0.,  0.,  0.,  0.,  3.,  0.,  0.,  0.,  0.,  5.,  0.,\n",
        "        0.,  0.,  0.,  0.,  0.,  0.,  0.])"
       ]
      }
     ],
     "prompt_number": 191
    },
    {
     "cell_type": "code",
     "collapsed": false,
     "input": [
      "my_predictions[0:20]"
     ],
     "language": "python",
     "metadata": {},
     "outputs": [
      {
       "metadata": {},
       "output_type": "pyout",
       "prompt_number": 192,
       "text": [
        "array([ 3.96962647,  3.32508831,  3.29434916,  3.59518905,  3.38627123,\n",
        "        3.61384054,  3.78299579,  3.92679689,  3.7700112 ,  3.78559008,\n",
        "        3.84405674,  4.40123394,  3.37022119,  3.85403028,  3.92845267,\n",
        "        3.19475578,  3.21824118,  2.76458517,  3.91281728,  3.34979338])"
       ]
      }
     ],
     "prompt_number": 192
    },
    {
     "cell_type": "code",
     "collapsed": false,
     "input": [
      "R[0:20,0]"
     ],
     "language": "python",
     "metadata": {},
     "outputs": [
      {
       "metadata": {},
       "output_type": "pyout",
       "prompt_number": 193,
       "text": [
        "array([1, 0, 0, 0, 0, 0, 1, 0, 0, 0, 0, 1, 0, 0, 0, 0, 0, 0, 0, 0], dtype=uint8)"
       ]
      }
     ],
     "prompt_number": 193
    },
    {
     "cell_type": "code",
     "collapsed": false,
     "input": [
      "movieList = loadMovieList()\n",
      "#http://docs.scipy.org/doc/numpy/reference/generated/numpy.argsort.html\n",
      "ix = argsort(my_predictions)\n",
      "\n",
      "print '\\nTop recommendations for you:'\n",
      "for j in ix[:-11:-1]:\n",
      "    print 'Predicting rating %.1f for movie %s' % (my_predictions[j], movieList[j])\n",
      "\n",
      "print\n",
      "for j in ix:\n",
      "    if my_ratings[j] > 0:\n",
      "        print 'Predicting rating %.1f (original %.1f) for movie %s' % (my_predictions[j], my_ratings[j], movieList[j])\n",
      "\n",
      "\n",
      "    \n",
      "print '\\n\\nOriginal ratings provided:'\n",
      "for rating, name in zip(my_ratings, movieList):\n",
      "    if rating > 0:\n",
      "        print 'Rated %d for %s' % (rating, name)\n",
      "\n",
      "#print '\\nProgram paused. Press enter to continue.'\n",
      "#raw_input()"
     ],
     "language": "python",
     "metadata": {},
     "outputs": [
      {
       "output_type": "stream",
       "stream": "stdout",
       "text": [
        "\n",
        "Top recommendations for you:\n",
        "Predicting rating 5.0 for movie Star Kid (1997)\n",
        "Predicting rating 5.0 for movie Someone Else's America (1995)\n",
        "Predicting rating 5.0 for movie Aiqing wansui (1994)\n",
        "Predicting rating 5.0 for movie Entertaining Angels: The Dorothy Day Story (1996)\n",
        "Predicting rating 5.0 for movie Santa with Muscles (1996)\n",
        "Predicting rating 5.0 for movie They Made Me a Criminal (1939)\n",
        "Predicting rating 5.0 for movie Great Day in Harlem, A (1994)\n",
        "Predicting rating 5.0 for movie Saint of Fort Washington, The (1993)\n",
        "Predicting rating 5.0 for movie Prefontaine (1997)\n",
        "Predicting rating 5.0 for movie Marlene Dietrich: Shadow and Light (1996)\n",
        "\n",
        "Predicting rating 3.1 (original 5.0) for movie Sphere (1998)\n",
        "Predicting rating 3.4 (original 4.0) for movie Outbreak (1995)\n",
        "Predicting rating 3.6 (original 5.0) for movie Die Hard 2 (1990)\n",
        "Predicting rating 3.7 (original 3.0) for movie While You Were Sleeping (1995)\n",
        "Predicting rating 3.8 (original 3.0) for movie Twelve Monkeys (1995)\n",
        "Predicting rating 4.0 (original 4.0) for movie Toy Story (1995)\n",
        "Predicting rating 4.1 (original 4.0) for movie Alien (1979)\n",
        "Predicting rating 4.1 (original 5.0) for movie Forrest Gump (1994)\n",
        "Predicting rating 4.2 (original 2.0) for movie Silence of the Lambs, The (1991)\n",
        "Predicting rating 4.4 (original 5.0) for movie Usual Suspects, The (1995)\n",
        "Predicting rating 4.6 (original 5.0) for movie Shawshank Redemption, The (1994)\n",
        "\n",
        "\n",
        "Original ratings provided:\n",
        "Rated 4 for Toy Story (1995)\n",
        "Rated 3 for Twelve Monkeys (1995)\n",
        "Rated 5 for Usual Suspects, The (1995)\n",
        "Rated 4 for Outbreak (1995)\n",
        "Rated 5 for Shawshank Redemption, The (1994)\n",
        "Rated 3 for While You Were Sleeping (1995)\n",
        "Rated 5 for Forrest Gump (1994)\n",
        "Rated 2 for Silence of the Lambs, The (1991)\n",
        "Rated 4 for Alien (1979)\n",
        "Rated 5 for Die Hard 2 (1990)\n",
        "Rated 5 for Sphere (1998)\n"
       ]
      }
     ],
     "prompt_number": 194
    },
    {
     "cell_type": "code",
     "collapsed": false,
     "input": [],
     "language": "python",
     "metadata": {},
     "outputs": []
    },
    {
     "cell_type": "code",
     "collapsed": false,
     "input": [
      "argsort(my_predictions)"
     ],
     "language": "python",
     "metadata": {},
     "outputs": [
      {
       "metadata": {},
       "output_type": "pyout",
       "prompt_number": 161,
       "text": [
        "array([ 438, 1307,  857, ..., 1200, 1535,  813])"
       ]
      }
     ],
     "prompt_number": 161
    },
    {
     "cell_type": "code",
     "collapsed": false,
     "input": [
      "argsort(my_ratings)"
     ],
     "language": "python",
     "metadata": {},
     "outputs": [
      {
       "metadata": {},
       "output_type": "pyout",
       "prompt_number": 162,
       "text": [
        "array([ 840, 1127, 1126, ...,   68,  354,  225])"
       ]
      }
     ],
     "prompt_number": 162
    },
    {
     "cell_type": "code",
     "collapsed": false,
     "input": [
      "len(my_ratings)"
     ],
     "language": "python",
     "metadata": {},
     "outputs": [
      {
       "metadata": {},
       "output_type": "pyout",
       "prompt_number": 163,
       "text": [
        "1682"
       ]
      }
     ],
     "prompt_number": 163
    },
    {
     "cell_type": "code",
     "collapsed": false,
     "input": [],
     "language": "python",
     "metadata": {},
     "outputs": []
    }
   ],
   "metadata": {}
  }
 ]
}