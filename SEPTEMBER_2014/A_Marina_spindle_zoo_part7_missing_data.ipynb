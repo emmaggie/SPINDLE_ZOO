{
 "metadata": {
  "name": "",
  "signature": "sha256:18ef51fcf1bb7328d9f5649602d277687faaa86ff7012db805bb4a2bc454df2d"
 },
 "nbformat": 3,
 "nbformat_minor": 0,
 "worksheets": [
  {
   "cells": [
    {
     "cell_type": "heading",
     "level": 2,
     "metadata": {},
     "source": [
      "Additional pre-processing: scaling, centering, missing data testing"
     ]
    },
    {
     "cell_type": "code",
     "collapsed": false,
     "input": [
      "#load necessary libs\n",
      "import pandas as pd\n",
      "import numpy as np\n",
      "import matplotlib.pyplot as plt\n",
      "pd.set_option('display.mpl_style','default')\n",
      "%matplotlib inline\n",
      "\n",
      "%load_ext rmagic\n",
      "#http://nbviewer.ipython.org/github/ipython/ipython/blob/1.x/examples/notebooks/Cell%20Magics.ipynb\n",
      "import re\n",
      "import pygal\n",
      "\n",
      "import subprocess as sp\n",
      "import shlex\n",
      "\n",
      "#https://docs.python.org/2/library/collections.html"
     ],
     "language": "python",
     "metadata": {},
     "outputs": [],
     "prompt_number": 1
    },
    {
     "cell_type": "markdown",
     "metadata": {},
     "source": [
      "If you look at the *../SEPTEMBER_2014/original_SQL_without_dupes_from_R.csv* file, you will find de-duped data, with duplicate columns merged on average value. All the categorical, metadata and integer columns are still in though. Since we are interested in **metaphase** spindles only, the dataset of interest is filtered on ***stage*** column (*../SEPTEMBER_2014/original_SQL_WO_dupes_WO_meta_from_R.csv*). We will subset it on numerical columns before putting missing values back in."
     ]
    },
    {
     "cell_type": "code",
     "collapsed": false,
     "input": [
      "input_df=pd.read_csv('../SEPTEMBER_2014/original_SQL_WO_dupes_WO_meta_from_R.csv')"
     ],
     "language": "python",
     "metadata": {},
     "outputs": [],
     "prompt_number": 5
    },
    {
     "cell_type": "code",
     "collapsed": false,
     "input": [
      "input_df.columns"
     ],
     "language": "python",
     "metadata": {},
     "outputs": [
      {
       "metadata": {},
       "output_type": "pyout",
       "prompt_number": 10,
       "text": [
        "Index([u'Unnamed: 0', u'date', u'image', u'objective', u'time_pf', u'num_of_cells', u'meiotic', u'stage', u'cell_diameter_um', u'spindle_length__asters_um', u'spindle_length_poles_um', u'spindle_width_um', u'spindle_aspect_ratio_asters_um', u'spindle_aspect_ratio_poles_um', u'centrosome', u'metaphase_plate_lengt_h_um', u'metaphase_plate_width_um', u'metaphase_plate_aspect_ratio_um', u'distance_between_chromosomes_um', u'microscope', u'fixation', u'organism', u'phylum', u'classification', u'genome', u'chromosomes', u'day', u'cleavage_type', u'num_of_cells_CAT', u'num_of_cells_NUM', u'classification_CAT', u'phylum_CAT', u'organism_CAT', u'cleavage_type_CAT', u'fixation_CAT', u'microscope_CAT', u'stage_CAT', u'astere.to.pole_distance_AVG', u'inner_aster_diameter_AVG', u'polar_body_diameter_AVG', u'outer_aster_diameter_AVG'], dtype='object')"
       ]
      }
     ],
     "prompt_number": 10
    },
    {
     "cell_type": "code",
     "collapsed": false,
     "input": [],
     "language": "python",
     "metadata": {},
     "outputs": []
    },
    {
     "cell_type": "code",
     "collapsed": false,
     "input": [],
     "language": "python",
     "metadata": {},
     "outputs": []
    },
    {
     "cell_type": "code",
     "collapsed": false,
     "input": [],
     "language": "python",
     "metadata": {},
     "outputs": []
    },
    {
     "cell_type": "code",
     "collapsed": false,
     "input": [],
     "language": "python",
     "metadata": {},
     "outputs": []
    },
    {
     "cell_type": "code",
     "collapsed": false,
     "input": [],
     "language": "python",
     "metadata": {},
     "outputs": []
    },
    {
     "cell_type": "code",
     "collapsed": false,
     "input": [],
     "language": "python",
     "metadata": {},
     "outputs": []
    },
    {
     "cell_type": "code",
     "collapsed": false,
     "input": [],
     "language": "python",
     "metadata": {},
     "outputs": []
    },
    {
     "cell_type": "code",
     "collapsed": false,
     "input": [],
     "language": "python",
     "metadata": {},
     "outputs": []
    },
    {
     "cell_type": "code",
     "collapsed": false,
     "input": [],
     "language": "python",
     "metadata": {},
     "outputs": []
    },
    {
     "cell_type": "code",
     "collapsed": false,
     "input": [],
     "language": "python",
     "metadata": {},
     "outputs": []
    }
   ],
   "metadata": {}
  }
 ]
}