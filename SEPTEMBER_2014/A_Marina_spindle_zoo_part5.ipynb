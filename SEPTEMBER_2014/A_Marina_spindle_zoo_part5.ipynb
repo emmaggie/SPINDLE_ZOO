{
 "metadata": {
  "name": "",
  "signature": "sha256:8f71ca7a1750493f455d257858895acb50549cb7dcca75f242a422b5abc304de"
 },
 "nbformat": 3,
 "nbformat_minor": 0,
 "worksheets": [
  {
   "cells": [
    {
     "cell_type": "heading",
     "level": 1,
     "metadata": {},
     "source": [
      "Unsupervised ML on Marina's data."
     ]
    },
    {
     "cell_type": "markdown",
     "metadata": {},
     "source": [
      "Should contain ML. Unsupervised and semi-supervised."
     ]
    },
    {
     "cell_type": "markdown",
     "metadata": {},
     "source": [
      "Mike Tamir:    \n",
      "http://www.quora.com/What-is-an-intuitive-explanation-of-the-relation-between-PCA-and-SVD   \n",
      "http://www.quora.com/When-and-where-do-we-use-SVD/answer/Mike-Tamir   \n",
      "http://www.quora.com/Mike-Tamir   \n",
      "http://www.quora.com/Whats-a-good-way-to-provide-intuition-as-to-why-the-lasso-L1-regularization-results-in-sparse-weight-vectors  \n",
      "http://stats.stackexchange.com/questions/33142/what-happens-when-you-apply-svd-to-a-collaborative-filtering-problem-what-is-th  \n",
      "http://sifter.org/~simon/journal/20061211.html  \n",
      "http://www.netflixprize.com/community/viewtopic.php?id=1423  \n",
      "http://citeseerx.ist.psu.edu/viewdoc/download?doi=10.1.1.173.2797&rep=rep1&type=pdf  \n",
      "\n"
     ]
    },
    {
     "cell_type": "code",
     "collapsed": false,
     "input": [
      "#load necessary libs\n",
      "import pandas as pd\n",
      "import numpy as np\n",
      "import matplotlib.pyplot as plt\n",
      "pd.set_option('display.mpl_style','default')\n",
      "%matplotlib inline\n",
      "import re\n",
      "import pygal\n",
      "from IPython.display import SVG\n",
      "\n",
      "\n",
      "#convert to eps\n",
      "#inkscape -z -D F4B_xenopus_laevis_arial.svg --export-eps=F4B_xenopus_laevisCLI_arial.eps\n",
      "import subprocess as sp\n",
      "import shlex\n",
      "import sklearn"
     ],
     "language": "python",
     "metadata": {},
     "outputs": [],
     "prompt_number": 2
    },
    {
     "cell_type": "code",
     "collapsed": false,
     "input": [
      "import recsys"
     ],
     "language": "python",
     "metadata": {},
     "outputs": [],
     "prompt_number": 3
    },
    {
     "cell_type": "code",
     "collapsed": false,
     "input": [
      "print recsys.__version__"
     ],
     "language": "python",
     "metadata": {},
     "outputs": [
      {
       "output_type": "stream",
       "stream": "stdout",
       "text": [
        "0.1\n"
       ]
      }
     ],
     "prompt_number": 4
    },
    {
     "cell_type": "markdown",
     "metadata": {},
     "source": [
      "##1. Filling in the missing data with SVD. Andrew Ng. Scipy. Python recsys."
     ]
    },
    {
     "cell_type": "code",
     "collapsed": false,
     "input": [],
     "language": "python",
     "metadata": {},
     "outputs": [],
     "prompt_number": 4
    },
    {
     "cell_type": "heading",
     "level": 2,
     "metadata": {},
     "source": [
      "a. Collaborative filtering/Low rank matrix approximation"
     ]
    },
    {
     "cell_type": "markdown",
     "metadata": {},
     "source": [
      "1. Map NaN's"
     ]
    },
    {
     "cell_type": "code",
     "collapsed": false,
     "input": [
      "dfo=pd.read_csv('../SEPTEMBER_2014/original.csv')\n",
      "#this is the cleaned up data frame"
     ],
     "language": "python",
     "metadata": {},
     "outputs": [],
     "prompt_number": 5
    },
    {
     "cell_type": "code",
     "collapsed": false,
     "input": [
      "#dfo[dfo.organism_CAT==8].organism"
     ],
     "language": "python",
     "metadata": {},
     "outputs": [],
     "prompt_number": 6
    },
    {
     "cell_type": "code",
     "collapsed": false,
     "input": [
      "#this is the Y matrix\n",
      "dfo.head()"
     ],
     "language": "python",
     "metadata": {},
     "outputs": [
      {
       "html": [
        "<div style=\"max-height:1000px;max-width:1500px;overflow:auto;\">\n",
        "<table border=\"1\" class=\"dataframe\">\n",
        "  <thead>\n",
        "    <tr style=\"text-align: right;\">\n",
        "      <th></th>\n",
        "      <th>time_pf</th>\n",
        "      <th>num_of_cells</th>\n",
        "      <th>meiotic</th>\n",
        "      <th>stage</th>\n",
        "      <th>cell_diameter_um</th>\n",
        "      <th>spindle_length__asters_um</th>\n",
        "      <th>spindle_length_poles_um</th>\n",
        "      <th>spindle_width_um</th>\n",
        "      <th>spindle_aspect_ratio_asters_um</th>\n",
        "      <th>spindle_aspect_ratio_poles_um</th>\n",
        "      <th>...</th>\n",
        "      <th>num_of_cells_CAT</th>\n",
        "      <th>num_of_cells_NUM</th>\n",
        "      <th>classification_CAT</th>\n",
        "      <th>phylum_CAT</th>\n",
        "      <th>organism_CAT</th>\n",
        "      <th>cleavage_type_CAT</th>\n",
        "      <th>fixation_CAT</th>\n",
        "      <th>microscope_CAT</th>\n",
        "      <th>stage_CAT</th>\n",
        "      <th>day_old</th>\n",
        "    </tr>\n",
        "  </thead>\n",
        "  <tbody>\n",
        "    <tr>\n",
        "      <th>0</th>\n",
        "      <td> 210</td>\n",
        "      <td> 1</td>\n",
        "      <td> 0</td>\n",
        "      <td>   a</td>\n",
        "      <td> 177.82149</td>\n",
        "      <td> 41.37903</td>\n",
        "      <td> 26.13072</td>\n",
        "      <td> 14.45598</td>\n",
        "      <td> 2.862416</td>\n",
        "      <td> 1.807606</td>\n",
        "      <td>...</td>\n",
        "      <td> 1</td>\n",
        "      <td> 1</td>\n",
        "      <td> 1</td>\n",
        "      <td> 1</td>\n",
        "      <td> 1</td>\n",
        "      <td> 1</td>\n",
        "      <td> 1</td>\n",
        "      <td> 1</td>\n",
        "      <td>  1</td>\n",
        "      <td> 131106</td>\n",
        "    </tr>\n",
        "    <tr>\n",
        "      <th>1</th>\n",
        "      <td> 210</td>\n",
        "      <td> 1</td>\n",
        "      <td> 0</td>\n",
        "      <td>   m</td>\n",
        "      <td> 163.05828</td>\n",
        "      <td> 24.85329</td>\n",
        "      <td> 18.28827</td>\n",
        "      <td>  9.97689</td>\n",
        "      <td> 2.491086</td>\n",
        "      <td> 1.833063</td>\n",
        "      <td>...</td>\n",
        "      <td> 1</td>\n",
        "      <td> 1</td>\n",
        "      <td> 1</td>\n",
        "      <td> 1</td>\n",
        "      <td> 1</td>\n",
        "      <td> 1</td>\n",
        "      <td> 1</td>\n",
        "      <td> 1</td>\n",
        "      <td>  2</td>\n",
        "      <td> 131106</td>\n",
        "    </tr>\n",
        "    <tr>\n",
        "      <th>2</th>\n",
        "      <td> 210</td>\n",
        "      <td> 1</td>\n",
        "      <td> 0</td>\n",
        "      <td>   p</td>\n",
        "      <td> 206.00580</td>\n",
        "      <td> 35.08890</td>\n",
        "      <td> 27.24645</td>\n",
        "      <td> 14.63385</td>\n",
        "      <td> 2.397790</td>\n",
        "      <td> 1.861878</td>\n",
        "      <td>...</td>\n",
        "      <td> 1</td>\n",
        "      <td> 1</td>\n",
        "      <td> 1</td>\n",
        "      <td> 1</td>\n",
        "      <td> 1</td>\n",
        "      <td> 1</td>\n",
        "      <td> 1</td>\n",
        "      <td> 1</td>\n",
        "      <td>  3</td>\n",
        "      <td> 131106</td>\n",
        "    </tr>\n",
        "    <tr>\n",
        "      <th>3</th>\n",
        "      <td> 210</td>\n",
        "      <td> 1</td>\n",
        "      <td> 0</td>\n",
        "      <td>   m</td>\n",
        "      <td> 194.04000</td>\n",
        "      <td> 42.39774</td>\n",
        "      <td> 42.39774</td>\n",
        "      <td> 17.46360</td>\n",
        "      <td> 2.427778</td>\n",
        "      <td> 2.427778</td>\n",
        "      <td>...</td>\n",
        "      <td> 1</td>\n",
        "      <td> 1</td>\n",
        "      <td> 1</td>\n",
        "      <td> 1</td>\n",
        "      <td> 1</td>\n",
        "      <td> 1</td>\n",
        "      <td> 1</td>\n",
        "      <td> 1</td>\n",
        "      <td>  2</td>\n",
        "      <td> 131106</td>\n",
        "    </tr>\n",
        "    <tr>\n",
        "      <th>4</th>\n",
        "      <td> 210</td>\n",
        "      <td> 1</td>\n",
        "      <td> 0</td>\n",
        "      <td> NaN</td>\n",
        "      <td> 180.36018</td>\n",
        "      <td>      NaN</td>\n",
        "      <td>      NaN</td>\n",
        "      <td>      NaN</td>\n",
        "      <td>      NaN</td>\n",
        "      <td>      NaN</td>\n",
        "      <td>...</td>\n",
        "      <td> 1</td>\n",
        "      <td> 1</td>\n",
        "      <td> 1</td>\n",
        "      <td> 1</td>\n",
        "      <td> 1</td>\n",
        "      <td> 1</td>\n",
        "      <td> 1</td>\n",
        "      <td> 1</td>\n",
        "      <td>NaN</td>\n",
        "      <td> 131106</td>\n",
        "    </tr>\n",
        "  </tbody>\n",
        "</table>\n",
        "<p>5 rows \u00d7 41 columns</p>\n",
        "</div>"
       ],
       "metadata": {},
       "output_type": "pyout",
       "prompt_number": 7,
       "text": [
        "   time_pf num_of_cells  meiotic stage  cell_diameter_um  \\\n",
        "0      210            1        0     a         177.82149   \n",
        "1      210            1        0     m         163.05828   \n",
        "2      210            1        0     p         206.00580   \n",
        "3      210            1        0     m         194.04000   \n",
        "4      210            1        0   NaN         180.36018   \n",
        "\n",
        "   spindle_length__asters_um  spindle_length_poles_um  spindle_width_um  \\\n",
        "0                   41.37903                 26.13072          14.45598   \n",
        "1                   24.85329                 18.28827           9.97689   \n",
        "2                   35.08890                 27.24645          14.63385   \n",
        "3                   42.39774                 42.39774          17.46360   \n",
        "4                        NaN                      NaN               NaN   \n",
        "\n",
        "   spindle_aspect_ratio_asters_um  spindle_aspect_ratio_poles_um   ...     \\\n",
        "0                        2.862416                       1.807606   ...      \n",
        "1                        2.491086                       1.833063   ...      \n",
        "2                        2.397790                       1.861878   ...      \n",
        "3                        2.427778                       2.427778   ...      \n",
        "4                             NaN                            NaN   ...      \n",
        "\n",
        "   num_of_cells_CAT  num_of_cells_NUM  classification_CAT  phylum_CAT  \\\n",
        "0                 1                 1                   1           1   \n",
        "1                 1                 1                   1           1   \n",
        "2                 1                 1                   1           1   \n",
        "3                 1                 1                   1           1   \n",
        "4                 1                 1                   1           1   \n",
        "\n",
        "   organism_CAT  cleavage_type_CAT  fixation_CAT  microscope_CAT  stage_CAT  \\\n",
        "0             1                  1             1               1          1   \n",
        "1             1                  1             1               1          2   \n",
        "2             1                  1             1               1          3   \n",
        "3             1                  1             1               1          2   \n",
        "4             1                  1             1               1        NaN   \n",
        "\n",
        "   day_old  \n",
        "0   131106  \n",
        "1   131106  \n",
        "2   131106  \n",
        "3   131106  \n",
        "4   131106  \n",
        "\n",
        "[5 rows x 41 columns]"
       ]
      }
     ],
     "prompt_number": 7
    },
    {
     "cell_type": "code",
     "collapsed": false,
     "input": [
      "#dfo_info=dfo.info()\n",
      "type(dfo.info())\n",
      "#dfo.info()"
     ],
     "language": "python",
     "metadata": {},
     "outputs": [
      {
       "output_type": "stream",
       "stream": "stdout",
       "text": [
        "<class 'pandas.core.frame.DataFrame'>\n",
        "Int64Index: 2001 entries, 0 to 2000\n",
        "Data columns (total 41 columns):\n",
        "time_pf                            2001 non-null int64\n",
        "num_of_cells                       1914 non-null object\n",
        "meiotic                            2001 non-null int64\n",
        "stage                              1993 non-null object\n",
        "cell_diameter_um                   1947 non-null float64\n",
        "spindle_length__asters_um          1899 non-null float64\n",
        "spindle_length_poles_um            1971 non-null float64\n",
        "spindle_width_um                   1851 non-null float64\n",
        "spindle_aspect_ratio_asters_um     1836 non-null float64\n",
        "spindle_aspect_ratio_poles_um      1836 non-null float64\n",
        "astere-to-pole_distance_1_um       1834 non-null float64\n",
        "aster-to-pole_distance_2_um        1788 non-null float64\n",
        "inner_aster_diameter_1_um          1809 non-null float64\n",
        "inner_aster_diameter_2_um          1712 non-null float64\n",
        "outer_aster_diameter_1_um          1664 non-null float64\n",
        "outer__diameter_2_um               1582 non-null float64\n",
        "centrosome                         2001 non-null int64\n",
        "metaphase_plate_lengt_h_um         1685 non-null float64\n",
        "metaphase_plate_width_um           1212 non-null float64\n",
        "metaphase_plate_aspect_ratio_um    1201 non-null float64\n",
        "polar_body_diameter_1_um           1999 non-null float64\n",
        "polar_body_diameter_2_um           1997 non-null float64\n",
        "distance_between_chromosomes_um    1886 non-null float64\n",
        "microscope                         1863 non-null object\n",
        "fixation                           1863 non-null object\n",
        "organism                           2001 non-null object\n",
        "phylum                             1990 non-null object\n",
        "classification                     2001 non-null object\n",
        "genome                             1358 non-null float64\n",
        "chromosomes                        1997 non-null float64\n",
        "cleavage_type                      2001 non-null object\n",
        "num_of_cells_CAT                   1914 non-null float64\n",
        "num_of_cells_NUM                   1914 non-null float64\n",
        "classification_CAT                 2001 non-null int64\n",
        "phylum_CAT                         2001 non-null int64\n",
        "organism_CAT                       2001 non-null int64\n",
        "cleavage_type_CAT                  2001 non-null int64\n",
        "fixation_CAT                       1863 non-null float64\n",
        "microscope_CAT                     1863 non-null float64\n",
        "stage_CAT                          1993 non-null float64\n",
        "day_old                            2001 non-null object\n",
        "dtypes: float64(25), int64(7), object(9)\n",
        "memory usage: 656.6+ KB\n"
       ]
      },
      {
       "metadata": {},
       "output_type": "pyout",
       "prompt_number": 8,
       "text": [
        "NoneType"
       ]
      }
     ],
     "prompt_number": 8
    },
    {
     "cell_type": "code",
     "collapsed": false,
     "input": [
      "dfo.hist(bins=50, figsize=(20,20))"
     ],
     "language": "python",
     "metadata": {},
     "outputs": [
      {
       "metadata": {},
       "output_type": "pyout",
       "prompt_number": 9,
       "text": [
        "array([[<matplotlib.axes._subplots.AxesSubplot object at 0x10b8aa190>,\n",
        "        <matplotlib.axes._subplots.AxesSubplot object at 0x10b90f590>,\n",
        "        <matplotlib.axes._subplots.AxesSubplot object at 0x10b995250>,\n",
        "        <matplotlib.axes._subplots.AxesSubplot object at 0x10b9eee90>,\n",
        "        <matplotlib.axes._subplots.AxesSubplot object at 0x10bbeed10>,\n",
        "        <matplotlib.axes._subplots.AxesSubplot object at 0x10bb92110>],\n",
        "       [<matplotlib.axes._subplots.AxesSubplot object at 0x10bce2950>,\n",
        "        <matplotlib.axes._subplots.AxesSubplot object at 0x10bd67610>,\n",
        "        <matplotlib.axes._subplots.AxesSubplot object at 0x10bdc7d90>,\n",
        "        <matplotlib.axes._subplots.AxesSubplot object at 0x10be4db50>,\n",
        "        <matplotlib.axes._subplots.AxesSubplot object at 0x10beb4750>,\n",
        "        <matplotlib.axes._subplots.AxesSubplot object at 0x10bf35750>],\n",
        "       [<matplotlib.axes._subplots.AxesSubplot object at 0x10bfba510>,\n",
        "        <matplotlib.axes._subplots.AxesSubplot object at 0x10c01f250>,\n",
        "        <matplotlib.axes._subplots.AxesSubplot object at 0x10c094ed0>,\n",
        "        <matplotlib.axes._subplots.AxesSubplot object at 0x10c0eead0>,\n",
        "        <matplotlib.axes._subplots.AxesSubplot object at 0x10c17ea10>,\n",
        "        <matplotlib.axes._subplots.AxesSubplot object at 0x10c2026d0>],\n",
        "       [<matplotlib.axes._subplots.AxesSubplot object at 0x10c272490>,\n",
        "        <matplotlib.axes._subplots.AxesSubplot object at 0x10c2f5490>,\n",
        "        <matplotlib.axes._subplots.AxesSubplot object at 0x10c35b250>,\n",
        "        <matplotlib.axes._subplots.AxesSubplot object at 0x10c3dc310>,\n",
        "        <matplotlib.axes._subplots.AxesSubplot object at 0x10c389150>,\n",
        "        <matplotlib.axes._subplots.AxesSubplot object at 0x10c4c4bd0>],\n",
        "       [<matplotlib.axes._subplots.AxesSubplot object at 0x10c548bd0>,\n",
        "        <matplotlib.axes._subplots.AxesSubplot object at 0x10c5b7250>,\n",
        "        <matplotlib.axes._subplots.AxesSubplot object at 0x10c62efd0>,\n",
        "        <matplotlib.axes._subplots.AxesSubplot object at 0x10c68aad0>,\n",
        "        <matplotlib.axes._subplots.AxesSubplot object at 0x10c717a10>,\n",
        "        <matplotlib.axes._subplots.AxesSubplot object at 0x10c79c6d0>],\n",
        "       [<matplotlib.axes._subplots.AxesSubplot object at 0x10c80c590>,\n",
        "        <matplotlib.axes._subplots.AxesSubplot object at 0x10c890250>,\n",
        "        <matplotlib.axes._subplots.AxesSubplot object at 0x10c8f6150>,\n",
        "        <matplotlib.axes._subplots.AxesSubplot object at 0x10c96ded0>,\n",
        "        <matplotlib.axes._subplots.AxesSubplot object at 0x10c90e410>,\n",
        "        <matplotlib.axes._subplots.AxesSubplot object at 0x10ca5fbd0>]], dtype=object)"
       ]
      },
      {
       "metadata": {},
       "output_type": "display_data",
       "png": "[encoded data removed]",
       "text": [
        "<matplotlib.figure.Figure at 0x10b277fd0>"
       ]
      }
     ],
     "prompt_number": 9
    },
    {
     "cell_type": "code",
     "collapsed": false,
     "input": [
      "#dfo is a ndarray\n",
      "#get only dtype=object columns \n",
      "#dfo.dtypes #series\n",
      "dfo.dtypes[dfo.dtypes == 'object'].index #columns with dtype 'object'\n"
     ],
     "language": "python",
     "metadata": {},
     "outputs": [
      {
       "metadata": {},
       "output_type": "pyout",
       "prompt_number": 10,
       "text": [
        "Index([u'num_of_cells', u'stage', u'microscope', u'fixation', u'organism', u'phylum', u'classification', u'cleavage_type', u'day_old'], dtype='object')"
       ]
      }
     ],
     "prompt_number": 10
    },
    {
     "cell_type": "code",
     "collapsed": false,
     "input": [
      "#type(dfo.dtypes[dfo.dtypes == 'object'].index)\n",
      "cols_to_delete=dfo.dtypes[dfo.dtypes == 'object'].index"
     ],
     "language": "python",
     "metadata": {},
     "outputs": [],
     "prompt_number": 11
    },
    {
     "cell_type": "code",
     "collapsed": false,
     "input": [
      "cols_to_delete=cols_to_delete.tolist()"
     ],
     "language": "python",
     "metadata": {},
     "outputs": [],
     "prompt_number": 12
    },
    {
     "cell_type": "code",
     "collapsed": false,
     "input": [
      "#dfo.drop(cols_to_delete,axis=1).info()\n",
      "dfo=dfo.drop(cols_to_delete,axis=1)"
     ],
     "language": "python",
     "metadata": {},
     "outputs": [],
     "prompt_number": 13
    },
    {
     "cell_type": "code",
     "collapsed": false,
     "input": [
      "dfo.info()"
     ],
     "language": "python",
     "metadata": {},
     "outputs": [
      {
       "output_type": "stream",
       "stream": "stdout",
       "text": [
        "<class 'pandas.core.frame.DataFrame'>\n",
        "Int64Index: 2001 entries, 0 to 2000\n",
        "Data columns (total 32 columns):\n",
        "time_pf                            2001 non-null int64\n",
        "meiotic                            2001 non-null int64\n",
        "cell_diameter_um                   1947 non-null float64\n",
        "spindle_length__asters_um          1899 non-null float64\n",
        "spindle_length_poles_um            1971 non-null float64\n",
        "spindle_width_um                   1851 non-null float64\n",
        "spindle_aspect_ratio_asters_um     1836 non-null float64\n",
        "spindle_aspect_ratio_poles_um      1836 non-null float64\n",
        "astere-to-pole_distance_1_um       1834 non-null float64\n",
        "aster-to-pole_distance_2_um        1788 non-null float64\n",
        "inner_aster_diameter_1_um          1809 non-null float64\n",
        "inner_aster_diameter_2_um          1712 non-null float64\n",
        "outer_aster_diameter_1_um          1664 non-null float64\n",
        "outer__diameter_2_um               1582 non-null float64\n",
        "centrosome                         2001 non-null int64\n",
        "metaphase_plate_lengt_h_um         1685 non-null float64\n",
        "metaphase_plate_width_um           1212 non-null float64\n",
        "metaphase_plate_aspect_ratio_um    1201 non-null float64\n",
        "polar_body_diameter_1_um           1999 non-null float64\n",
        "polar_body_diameter_2_um           1997 non-null float64\n",
        "distance_between_chromosomes_um    1886 non-null float64\n",
        "genome                             1358 non-null float64\n",
        "chromosomes                        1997 non-null float64\n",
        "num_of_cells_CAT                   1914 non-null float64\n",
        "num_of_cells_NUM                   1914 non-null float64\n",
        "classification_CAT                 2001 non-null int64\n",
        "phylum_CAT                         2001 non-null int64\n",
        "organism_CAT                       2001 non-null int64\n",
        "cleavage_type_CAT                  2001 non-null int64\n",
        "fixation_CAT                       1863 non-null float64\n",
        "microscope_CAT                     1863 non-null float64\n",
        "stage_CAT                          1993 non-null float64\n",
        "dtypes: float64(25), int64(7)\n",
        "memory usage: 515.9 KB\n"
       ]
      }
     ],
     "prompt_number": 14
    },
    {
     "cell_type": "code",
     "collapsed": false,
     "input": [
      "#keep int64 for now\n",
      "#dfo.dtypes[dfo.dtypes=='int64'].index.tolist()"
     ],
     "language": "python",
     "metadata": {},
     "outputs": [],
     "prompt_number": 15
    },
    {
     "cell_type": "code",
     "collapsed": false,
     "input": [],
     "language": "python",
     "metadata": {},
     "outputs": [],
     "prompt_number": 15
    },
    {
     "cell_type": "markdown",
     "metadata": {},
     "source": [
      "***TEST APPROACH***"
     ]
    },
    {
     "cell_type": "code",
     "collapsed": false,
     "input": [
      "test=dfo[dfo.dtypes[dfo.dtypes=='int64'].index.tolist()]"
     ],
     "language": "python",
     "metadata": {},
     "outputs": [],
     "prompt_number": 16
    },
    {
     "cell_type": "code",
     "collapsed": false,
     "input": [
      "test.dtypes"
     ],
     "language": "python",
     "metadata": {},
     "outputs": [
      {
       "metadata": {},
       "output_type": "pyout",
       "prompt_number": 17,
       "text": [
        "time_pf               int64\n",
        "meiotic               int64\n",
        "centrosome            int64\n",
        "classification_CAT    int64\n",
        "phylum_CAT            int64\n",
        "organism_CAT          int64\n",
        "cleavage_type_CAT     int64\n",
        "dtype: object"
       ]
      }
     ],
     "prompt_number": 17
    },
    {
     "cell_type": "code",
     "collapsed": false,
     "input": [
      "test[test.columns]=test[test.columns].astype(float)"
     ],
     "language": "python",
     "metadata": {},
     "outputs": [
      {
       "output_type": "stream",
       "stream": "stderr",
       "text": [
        "/usr/local/lib/python2.7/site-packages/pandas/core/frame.py:2131: SettingWithCopyWarning: \n",
        "A value is trying to be set on a copy of a slice from a DataFrame.\n",
        "Try using .loc[row_indexer,col_indexer] = value instead\n",
        "\n",
        "See the the caveats in the documentation: http://pandas.pydata.org/pandas-docs/stable/indexing.html#indexing-view-versus-copy\n",
        "  self[k1] = value[k2]\n"
       ]
      }
     ],
     "prompt_number": 18
    },
    {
     "cell_type": "code",
     "collapsed": false,
     "input": [
      "test.info()"
     ],
     "language": "python",
     "metadata": {},
     "outputs": [
      {
       "output_type": "stream",
       "stream": "stdout",
       "text": [
        "<class 'pandas.core.frame.DataFrame'>\n",
        "Int64Index: 2001 entries, 0 to 2000\n",
        "Data columns (total 7 columns):\n",
        "time_pf               2001 non-null float64\n",
        "meiotic               2001 non-null float64\n",
        "centrosome            2001 non-null float64\n",
        "classification_CAT    2001 non-null float64\n",
        "phylum_CAT            2001 non-null float64\n",
        "organism_CAT          2001 non-null float64\n",
        "cleavage_type_CAT     2001 non-null float64\n",
        "dtypes: float64(7)\n",
        "memory usage: 125.1 KB\n"
       ]
      }
     ],
     "prompt_number": 19
    },
    {
     "cell_type": "markdown",
     "metadata": {},
     "source": [
      "***END: TEST APPROACH***"
     ]
    },
    {
     "cell_type": "code",
     "collapsed": false,
     "input": [
      "dfo.head()"
     ],
     "language": "python",
     "metadata": {},
     "outputs": [
      {
       "html": [
        "<div style=\"max-height:1000px;max-width:1500px;overflow:auto;\">\n",
        "<table border=\"1\" class=\"dataframe\">\n",
        "  <thead>\n",
        "    <tr style=\"text-align: right;\">\n",
        "      <th></th>\n",
        "      <th>time_pf</th>\n",
        "      <th>meiotic</th>\n",
        "      <th>cell_diameter_um</th>\n",
        "      <th>spindle_length__asters_um</th>\n",
        "      <th>spindle_length_poles_um</th>\n",
        "      <th>spindle_width_um</th>\n",
        "      <th>spindle_aspect_ratio_asters_um</th>\n",
        "      <th>spindle_aspect_ratio_poles_um</th>\n",
        "      <th>astere-to-pole_distance_1_um</th>\n",
        "      <th>aster-to-pole_distance_2_um</th>\n",
        "      <th>...</th>\n",
        "      <th>chromosomes</th>\n",
        "      <th>num_of_cells_CAT</th>\n",
        "      <th>num_of_cells_NUM</th>\n",
        "      <th>classification_CAT</th>\n",
        "      <th>phylum_CAT</th>\n",
        "      <th>organism_CAT</th>\n",
        "      <th>cleavage_type_CAT</th>\n",
        "      <th>fixation_CAT</th>\n",
        "      <th>microscope_CAT</th>\n",
        "      <th>stage_CAT</th>\n",
        "    </tr>\n",
        "  </thead>\n",
        "  <tbody>\n",
        "    <tr>\n",
        "      <th>0</th>\n",
        "      <td> 210</td>\n",
        "      <td> 0</td>\n",
        "      <td> 177.82149</td>\n",
        "      <td> 41.37903</td>\n",
        "      <td> 26.13072</td>\n",
        "      <td> 14.45598</td>\n",
        "      <td> 2.862416</td>\n",
        "      <td> 1.807606</td>\n",
        "      <td> 2.5872</td>\n",
        "      <td> 2.9106</td>\n",
        "      <td>...</td>\n",
        "      <td> 36</td>\n",
        "      <td> 1</td>\n",
        "      <td> 1</td>\n",
        "      <td> 1</td>\n",
        "      <td> 1</td>\n",
        "      <td> 1</td>\n",
        "      <td> 1</td>\n",
        "      <td> 1</td>\n",
        "      <td> 1</td>\n",
        "      <td>  1</td>\n",
        "    </tr>\n",
        "    <tr>\n",
        "      <th>1</th>\n",
        "      <td> 210</td>\n",
        "      <td> 0</td>\n",
        "      <td> 163.05828</td>\n",
        "      <td> 24.85329</td>\n",
        "      <td> 18.28827</td>\n",
        "      <td>  9.97689</td>\n",
        "      <td> 2.491086</td>\n",
        "      <td> 1.833063</td>\n",
        "      <td> 0.0000</td>\n",
        "      <td> 0.0000</td>\n",
        "      <td>...</td>\n",
        "      <td> 36</td>\n",
        "      <td> 1</td>\n",
        "      <td> 1</td>\n",
        "      <td> 1</td>\n",
        "      <td> 1</td>\n",
        "      <td> 1</td>\n",
        "      <td> 1</td>\n",
        "      <td> 1</td>\n",
        "      <td> 1</td>\n",
        "      <td>  2</td>\n",
        "    </tr>\n",
        "    <tr>\n",
        "      <th>2</th>\n",
        "      <td> 210</td>\n",
        "      <td> 0</td>\n",
        "      <td> 206.00580</td>\n",
        "      <td> 35.08890</td>\n",
        "      <td> 27.24645</td>\n",
        "      <td> 14.63385</td>\n",
        "      <td> 2.397790</td>\n",
        "      <td> 1.861878</td>\n",
        "      <td> 0.0000</td>\n",
        "      <td> 0.0000</td>\n",
        "      <td>...</td>\n",
        "      <td> 36</td>\n",
        "      <td> 1</td>\n",
        "      <td> 1</td>\n",
        "      <td> 1</td>\n",
        "      <td> 1</td>\n",
        "      <td> 1</td>\n",
        "      <td> 1</td>\n",
        "      <td> 1</td>\n",
        "      <td> 1</td>\n",
        "      <td>  3</td>\n",
        "    </tr>\n",
        "    <tr>\n",
        "      <th>3</th>\n",
        "      <td> 210</td>\n",
        "      <td> 0</td>\n",
        "      <td> 194.04000</td>\n",
        "      <td> 42.39774</td>\n",
        "      <td> 42.39774</td>\n",
        "      <td> 17.46360</td>\n",
        "      <td> 2.427778</td>\n",
        "      <td> 2.427778</td>\n",
        "      <td> 0.0000</td>\n",
        "      <td> 0.0000</td>\n",
        "      <td>...</td>\n",
        "      <td> 36</td>\n",
        "      <td> 1</td>\n",
        "      <td> 1</td>\n",
        "      <td> 1</td>\n",
        "      <td> 1</td>\n",
        "      <td> 1</td>\n",
        "      <td> 1</td>\n",
        "      <td> 1</td>\n",
        "      <td> 1</td>\n",
        "      <td>  2</td>\n",
        "    </tr>\n",
        "    <tr>\n",
        "      <th>4</th>\n",
        "      <td> 210</td>\n",
        "      <td> 0</td>\n",
        "      <td> 180.36018</td>\n",
        "      <td>      NaN</td>\n",
        "      <td>      NaN</td>\n",
        "      <td>      NaN</td>\n",
        "      <td>      NaN</td>\n",
        "      <td>      NaN</td>\n",
        "      <td>    NaN</td>\n",
        "      <td>    NaN</td>\n",
        "      <td>...</td>\n",
        "      <td> 36</td>\n",
        "      <td> 1</td>\n",
        "      <td> 1</td>\n",
        "      <td> 1</td>\n",
        "      <td> 1</td>\n",
        "      <td> 1</td>\n",
        "      <td> 1</td>\n",
        "      <td> 1</td>\n",
        "      <td> 1</td>\n",
        "      <td>NaN</td>\n",
        "    </tr>\n",
        "  </tbody>\n",
        "</table>\n",
        "<p>5 rows \u00d7 32 columns</p>\n",
        "</div>"
       ],
       "metadata": {},
       "output_type": "pyout",
       "prompt_number": 20,
       "text": [
        "   time_pf  meiotic  cell_diameter_um  spindle_length__asters_um  \\\n",
        "0      210        0         177.82149                   41.37903   \n",
        "1      210        0         163.05828                   24.85329   \n",
        "2      210        0         206.00580                   35.08890   \n",
        "3      210        0         194.04000                   42.39774   \n",
        "4      210        0         180.36018                        NaN   \n",
        "\n",
        "   spindle_length_poles_um  spindle_width_um  spindle_aspect_ratio_asters_um  \\\n",
        "0                 26.13072          14.45598                        2.862416   \n",
        "1                 18.28827           9.97689                        2.491086   \n",
        "2                 27.24645          14.63385                        2.397790   \n",
        "3                 42.39774          17.46360                        2.427778   \n",
        "4                      NaN               NaN                             NaN   \n",
        "\n",
        "   spindle_aspect_ratio_poles_um  astere-to-pole_distance_1_um  \\\n",
        "0                       1.807606                        2.5872   \n",
        "1                       1.833063                        0.0000   \n",
        "2                       1.861878                        0.0000   \n",
        "3                       2.427778                        0.0000   \n",
        "4                            NaN                           NaN   \n",
        "\n",
        "   aster-to-pole_distance_2_um    ...      chromosomes  num_of_cells_CAT  \\\n",
        "0                       2.9106    ...               36                 1   \n",
        "1                       0.0000    ...               36                 1   \n",
        "2                       0.0000    ...               36                 1   \n",
        "3                       0.0000    ...               36                 1   \n",
        "4                          NaN    ...               36                 1   \n",
        "\n",
        "   num_of_cells_NUM  classification_CAT  phylum_CAT  organism_CAT  \\\n",
        "0                 1                   1           1             1   \n",
        "1                 1                   1           1             1   \n",
        "2                 1                   1           1             1   \n",
        "3                 1                   1           1             1   \n",
        "4                 1                   1           1             1   \n",
        "\n",
        "   cleavage_type_CAT  fixation_CAT  microscope_CAT  stage_CAT  \n",
        "0                  1             1               1          1  \n",
        "1                  1             1               1          2  \n",
        "2                  1             1               1          3  \n",
        "3                  1             1               1          2  \n",
        "4                  1             1               1        NaN  \n",
        "\n",
        "[5 rows x 32 columns]"
       ]
      }
     ],
     "prompt_number": 20
    },
    {
     "cell_type": "code",
     "collapsed": false,
     "input": [
      "dfo.info()"
     ],
     "language": "python",
     "metadata": {},
     "outputs": [
      {
       "output_type": "stream",
       "stream": "stdout",
       "text": [
        "<class 'pandas.core.frame.DataFrame'>\n",
        "Int64Index: 2001 entries, 0 to 2000\n",
        "Data columns (total 32 columns):\n",
        "time_pf                            2001 non-null int64\n",
        "meiotic                            2001 non-null int64\n",
        "cell_diameter_um                   1947 non-null float64\n",
        "spindle_length__asters_um          1899 non-null float64\n",
        "spindle_length_poles_um            1971 non-null float64\n",
        "spindle_width_um                   1851 non-null float64\n",
        "spindle_aspect_ratio_asters_um     1836 non-null float64\n",
        "spindle_aspect_ratio_poles_um      1836 non-null float64\n",
        "astere-to-pole_distance_1_um       1834 non-null float64\n",
        "aster-to-pole_distance_2_um        1788 non-null float64\n",
        "inner_aster_diameter_1_um          1809 non-null float64\n",
        "inner_aster_diameter_2_um          1712 non-null float64\n",
        "outer_aster_diameter_1_um          1664 non-null float64\n",
        "outer__diameter_2_um               1582 non-null float64\n",
        "centrosome                         2001 non-null int64\n",
        "metaphase_plate_lengt_h_um         1685 non-null float64\n",
        "metaphase_plate_width_um           1212 non-null float64\n",
        "metaphase_plate_aspect_ratio_um    1201 non-null float64\n",
        "polar_body_diameter_1_um           1999 non-null float64\n",
        "polar_body_diameter_2_um           1997 non-null float64\n",
        "distance_between_chromosomes_um    1886 non-null float64\n",
        "genome                             1358 non-null float64\n",
        "chromosomes                        1997 non-null float64\n",
        "num_of_cells_CAT                   1914 non-null float64\n",
        "num_of_cells_NUM                   1914 non-null float64\n",
        "classification_CAT                 2001 non-null int64\n",
        "phylum_CAT                         2001 non-null int64\n",
        "organism_CAT                       2001 non-null int64\n",
        "cleavage_type_CAT                  2001 non-null int64\n",
        "fixation_CAT                       1863 non-null float64\n",
        "microscope_CAT                     1863 non-null float64\n",
        "stage_CAT                          1993 non-null float64\n",
        "dtypes: float64(25), int64(7)\n",
        "memory usage: 515.9 KB\n"
       ]
      }
     ],
     "prompt_number": 21
    },
    {
     "cell_type": "markdown",
     "metadata": {},
     "source": [
      "**There should be no missing values in the int64 variables.**"
     ]
    },
    {
     "cell_type": "code",
     "collapsed": false,
     "input": [
      "dfo[dfo.dtypes[dfo.dtypes=='int64'].index].isnull().describe()#.time_pf.value_counts()"
     ],
     "language": "python",
     "metadata": {},
     "outputs": [
      {
       "html": [
        "<div style=\"max-height:1000px;max-width:1500px;overflow:auto;\">\n",
        "<table border=\"1\" class=\"dataframe\">\n",
        "  <thead>\n",
        "    <tr style=\"text-align: right;\">\n",
        "      <th></th>\n",
        "      <th>time_pf</th>\n",
        "      <th>meiotic</th>\n",
        "      <th>centrosome</th>\n",
        "      <th>classification_CAT</th>\n",
        "      <th>phylum_CAT</th>\n",
        "      <th>organism_CAT</th>\n",
        "      <th>cleavage_type_CAT</th>\n",
        "    </tr>\n",
        "  </thead>\n",
        "  <tbody>\n",
        "    <tr>\n",
        "      <th>count</th>\n",
        "      <td>  2001</td>\n",
        "      <td>  2001</td>\n",
        "      <td>  2001</td>\n",
        "      <td>  2001</td>\n",
        "      <td>  2001</td>\n",
        "      <td>  2001</td>\n",
        "      <td>  2001</td>\n",
        "    </tr>\n",
        "    <tr>\n",
        "      <th>mean</th>\n",
        "      <td>     0</td>\n",
        "      <td>     0</td>\n",
        "      <td>     0</td>\n",
        "      <td>     0</td>\n",
        "      <td>     0</td>\n",
        "      <td>     0</td>\n",
        "      <td>     0</td>\n",
        "    </tr>\n",
        "    <tr>\n",
        "      <th>std</th>\n",
        "      <td>     0</td>\n",
        "      <td>     0</td>\n",
        "      <td>     0</td>\n",
        "      <td>     0</td>\n",
        "      <td>     0</td>\n",
        "      <td>     0</td>\n",
        "      <td>     0</td>\n",
        "    </tr>\n",
        "    <tr>\n",
        "      <th>min</th>\n",
        "      <td> False</td>\n",
        "      <td> False</td>\n",
        "      <td> False</td>\n",
        "      <td> False</td>\n",
        "      <td> False</td>\n",
        "      <td> False</td>\n",
        "      <td> False</td>\n",
        "    </tr>\n",
        "    <tr>\n",
        "      <th>25%</th>\n",
        "      <td>     0</td>\n",
        "      <td>     0</td>\n",
        "      <td>     0</td>\n",
        "      <td>     0</td>\n",
        "      <td>     0</td>\n",
        "      <td>     0</td>\n",
        "      <td>     0</td>\n",
        "    </tr>\n",
        "    <tr>\n",
        "      <th>50%</th>\n",
        "      <td>     0</td>\n",
        "      <td>     0</td>\n",
        "      <td>     0</td>\n",
        "      <td>     0</td>\n",
        "      <td>     0</td>\n",
        "      <td>     0</td>\n",
        "      <td>     0</td>\n",
        "    </tr>\n",
        "    <tr>\n",
        "      <th>75%</th>\n",
        "      <td>     0</td>\n",
        "      <td>     0</td>\n",
        "      <td>     0</td>\n",
        "      <td>     0</td>\n",
        "      <td>     0</td>\n",
        "      <td>     0</td>\n",
        "      <td>     0</td>\n",
        "    </tr>\n",
        "    <tr>\n",
        "      <th>max</th>\n",
        "      <td> False</td>\n",
        "      <td> False</td>\n",
        "      <td> False</td>\n",
        "      <td> False</td>\n",
        "      <td> False</td>\n",
        "      <td> False</td>\n",
        "      <td> False</td>\n",
        "    </tr>\n",
        "  </tbody>\n",
        "</table>\n",
        "</div>"
       ],
       "metadata": {},
       "output_type": "pyout",
       "prompt_number": 22,
       "text": [
        "      time_pf meiotic centrosome classification_CAT phylum_CAT organism_CAT  \\\n",
        "count    2001    2001       2001               2001       2001         2001   \n",
        "mean        0       0          0                  0          0            0   \n",
        "std         0       0          0                  0          0            0   \n",
        "min     False   False      False              False      False        False   \n",
        "25%         0       0          0                  0          0            0   \n",
        "50%         0       0          0                  0          0            0   \n",
        "75%         0       0          0                  0          0            0   \n",
        "max     False   False      False              False      False        False   \n",
        "\n",
        "      cleavage_type_CAT  \n",
        "count              2001  \n",
        "mean                  0  \n",
        "std                   0  \n",
        "min               False  \n",
        "25%                   0  \n",
        "50%                   0  \n",
        "75%                   0  \n",
        "max               False  "
       ]
      }
     ],
     "prompt_number": 22
    },
    {
     "cell_type": "code",
     "collapsed": false,
     "input": [
      "for col in dfo[dfo.dtypes[dfo.dtypes=='int64'].index].isnull():\n",
      "    print col\n",
      "    print dfo[dfo.dtypes[dfo.dtypes=='int64'].index].isnull()[col].value_counts()\n",
      "    print"
     ],
     "language": "python",
     "metadata": {},
     "outputs": [
      {
       "output_type": "stream",
       "stream": "stdout",
       "text": [
        "time_pf\n",
        "False    2001\n",
        "dtype: int64\n",
        "\n",
        "meiotic\n",
        "False    2001\n",
        "dtype: int64\n",
        "\n",
        "centrosome\n",
        "False    2001\n",
        "dtype: int64\n",
        "\n",
        "classification_CAT\n",
        "False    2001\n",
        "dtype: int64\n",
        "\n",
        "phylum_CAT\n",
        "False    2001\n",
        "dtype: int64\n",
        "\n",
        "organism_CAT\n",
        "False    2001\n",
        "dtype: int64\n",
        "\n",
        "cleavage_type_CAT\n",
        "False    2001\n",
        "dtype: int64\n",
        "\n"
       ]
      }
     ],
     "prompt_number": 23
    },
    {
     "cell_type": "markdown",
     "metadata": {},
     "source": [
      "**SUMMARY: There are no missing values in the int64 variables.**"
     ]
    },
    {
     "cell_type": "code",
     "collapsed": false,
     "input": [],
     "language": "python",
     "metadata": {},
     "outputs": [],
     "prompt_number": 23
    },
    {
     "cell_type": "code",
     "collapsed": false,
     "input": [],
     "language": "python",
     "metadata": {},
     "outputs": [],
     "prompt_number": 23
    },
    {
     "cell_type": "code",
     "collapsed": false,
     "input": [
      "dfo.get_values().shape"
     ],
     "language": "python",
     "metadata": {},
     "outputs": [
      {
       "metadata": {},
       "output_type": "pyout",
       "prompt_number": 24,
       "text": [
        "(2001, 32)"
       ]
      }
     ],
     "prompt_number": 24
    },
    {
     "cell_type": "code",
     "collapsed": false,
     "input": [
      "#dfo.max()\n",
      "dfo[dfo.inner_aster_diameter_2_um==dfo.inner_aster_diameter_2_um.max()].inner_aster_diameter_2_um"
     ],
     "language": "python",
     "metadata": {},
     "outputs": [
      {
       "metadata": {},
       "output_type": "pyout",
       "prompt_number": 25,
       "text": [
        "1324    95.7\n",
        "Name: inner_aster_diameter_2_um, dtype: float64"
       ]
      }
     ],
     "prompt_number": 25
    },
    {
     "cell_type": "code",
     "collapsed": false,
     "input": [
      "dfo.max()"
     ],
     "language": "python",
     "metadata": {},
     "outputs": [
      {
       "metadata": {},
       "output_type": "pyout",
       "prompt_number": 26,
       "text": [
        "time_pf                            1200.000000\n",
        "meiotic                               1.000000\n",
        "cell_diameter_um                   1486.643200\n",
        "spindle_length__asters_um           210.371700\n",
        "spindle_length_poles_um             231.000000\n",
        "spindle_width_um                     49.771260\n",
        "spindle_aspect_ratio_asters_um       21.111111\n",
        "spindle_aspect_ratio_poles_um        17.500000\n",
        "astere-to-pole_distance_1_um         28.000000\n",
        "aster-to-pole_distance_2_um          39.800000\n",
        "inner_aster_diameter_1_um           142.000000\n",
        "inner_aster_diameter_2_um            95.700000\n",
        "outer_aster_diameter_1_um           606.160400\n",
        "outer__diameter_2_um                296.700000\n",
        "centrosome                            1.000000\n",
        "metaphase_plate_lengt_h_um           30.200000\n",
        "metaphase_plate_width_um             26.987730\n",
        "metaphase_plate_aspect_ratio_um      10.583333\n",
        "polar_body_diameter_1_um             34.200000\n",
        "polar_body_diameter_2_um             14.100240\n",
        "distance_between_chromosomes_um      52.698030\n",
        "genome                             3501.000000\n",
        "chromosomes                          64.000000\n",
        "num_of_cells_CAT                     15.000000\n",
        "num_of_cells_NUM                    128.000000\n",
        "classification_CAT                    4.000000\n",
        "phylum_CAT                           10.000000\n",
        "organism_CAT                         20.000000\n",
        "cleavage_type_CAT                     9.000000\n",
        "fixation_CAT                          3.000000\n",
        "microscope_CAT                       50.000000\n",
        "stage_CAT                            10.000000\n",
        "dtype: float64"
       ]
      }
     ],
     "prompt_number": 26
    },
    {
     "cell_type": "code",
     "collapsed": false,
     "input": [
      "dfo.min()"
     ],
     "language": "python",
     "metadata": {},
     "outputs": [
      {
       "metadata": {},
       "output_type": "pyout",
       "prompt_number": 27,
       "text": [
        "time_pf                              0.000000\n",
        "meiotic                              0.000000\n",
        "cell_diameter_um                     0.100000\n",
        "spindle_length__asters_um            2.005080\n",
        "spindle_length_poles_um              2.005080\n",
        "spindle_width_um                     0.000000\n",
        "spindle_aspect_ratio_asters_um       0.478892\n",
        "spindle_aspect_ratio_poles_um        0.601124\n",
        "astere-to-pole_distance_1_um         0.000000\n",
        "aster-to-pole_distance_2_um          0.000000\n",
        "inner_aster_diameter_1_um            0.000000\n",
        "inner_aster_diameter_2_um            0.000000\n",
        "outer_aster_diameter_1_um            0.000000\n",
        "outer__diameter_2_um                 0.000000\n",
        "centrosome                           0.000000\n",
        "metaphase_plate_lengt_h_um           1.146600\n",
        "metaphase_plate_width_um             0.565950\n",
        "metaphase_plate_aspect_ratio_um      0.393885\n",
        "polar_body_diameter_1_um             1.293600\n",
        "polar_body_diameter_2_um             1.519980\n",
        "distance_between_chromosomes_um      0.000000\n",
        "genome                             100.000000\n",
        "chromosomes                          8.000000\n",
        "num_of_cells_CAT                     1.000000\n",
        "num_of_cells_NUM                     1.000000\n",
        "classification_CAT                   1.000000\n",
        "phylum_CAT                           1.000000\n",
        "organism_CAT                         1.000000\n",
        "cleavage_type_CAT                    1.000000\n",
        "fixation_CAT                         1.000000\n",
        "microscope_CAT                       1.000000\n",
        "stage_CAT                            1.000000\n",
        "dtype: float64"
       ]
      }
     ],
     "prompt_number": 27
    },
    {
     "cell_type": "code",
     "collapsed": false,
     "input": [
      "#dfo[dfo.organism_CAT==8].inner_aster_diameter_2_um.tolist()"
     ],
     "language": "python",
     "metadata": {},
     "outputs": [],
     "prompt_number": 28
    },
    {
     "cell_type": "code",
     "collapsed": false,
     "input": [
      "#line 35 of ex8_cofi.m\n",
      "#returns Y where R cell = 1 (True)\n"
     ],
     "language": "python",
     "metadata": {},
     "outputs": [],
     "prompt_number": 29
    },
    {
     "cell_type": "code",
     "collapsed": false,
     "input": [
      "dfo.head()"
     ],
     "language": "python",
     "metadata": {},
     "outputs": [
      {
       "html": [
        "<div style=\"max-height:1000px;max-width:1500px;overflow:auto;\">\n",
        "<table border=\"1\" class=\"dataframe\">\n",
        "  <thead>\n",
        "    <tr style=\"text-align: right;\">\n",
        "      <th></th>\n",
        "      <th>time_pf</th>\n",
        "      <th>meiotic</th>\n",
        "      <th>cell_diameter_um</th>\n",
        "      <th>spindle_length__asters_um</th>\n",
        "      <th>spindle_length_poles_um</th>\n",
        "      <th>spindle_width_um</th>\n",
        "      <th>spindle_aspect_ratio_asters_um</th>\n",
        "      <th>spindle_aspect_ratio_poles_um</th>\n",
        "      <th>astere-to-pole_distance_1_um</th>\n",
        "      <th>aster-to-pole_distance_2_um</th>\n",
        "      <th>...</th>\n",
        "      <th>chromosomes</th>\n",
        "      <th>num_of_cells_CAT</th>\n",
        "      <th>num_of_cells_NUM</th>\n",
        "      <th>classification_CAT</th>\n",
        "      <th>phylum_CAT</th>\n",
        "      <th>organism_CAT</th>\n",
        "      <th>cleavage_type_CAT</th>\n",
        "      <th>fixation_CAT</th>\n",
        "      <th>microscope_CAT</th>\n",
        "      <th>stage_CAT</th>\n",
        "    </tr>\n",
        "  </thead>\n",
        "  <tbody>\n",
        "    <tr>\n",
        "      <th>0</th>\n",
        "      <td> 210</td>\n",
        "      <td> 0</td>\n",
        "      <td> 177.82149</td>\n",
        "      <td> 41.37903</td>\n",
        "      <td> 26.13072</td>\n",
        "      <td> 14.45598</td>\n",
        "      <td> 2.862416</td>\n",
        "      <td> 1.807606</td>\n",
        "      <td> 2.5872</td>\n",
        "      <td> 2.9106</td>\n",
        "      <td>...</td>\n",
        "      <td> 36</td>\n",
        "      <td> 1</td>\n",
        "      <td> 1</td>\n",
        "      <td> 1</td>\n",
        "      <td> 1</td>\n",
        "      <td> 1</td>\n",
        "      <td> 1</td>\n",
        "      <td> 1</td>\n",
        "      <td> 1</td>\n",
        "      <td>  1</td>\n",
        "    </tr>\n",
        "    <tr>\n",
        "      <th>1</th>\n",
        "      <td> 210</td>\n",
        "      <td> 0</td>\n",
        "      <td> 163.05828</td>\n",
        "      <td> 24.85329</td>\n",
        "      <td> 18.28827</td>\n",
        "      <td>  9.97689</td>\n",
        "      <td> 2.491086</td>\n",
        "      <td> 1.833063</td>\n",
        "      <td> 0.0000</td>\n",
        "      <td> 0.0000</td>\n",
        "      <td>...</td>\n",
        "      <td> 36</td>\n",
        "      <td> 1</td>\n",
        "      <td> 1</td>\n",
        "      <td> 1</td>\n",
        "      <td> 1</td>\n",
        "      <td> 1</td>\n",
        "      <td> 1</td>\n",
        "      <td> 1</td>\n",
        "      <td> 1</td>\n",
        "      <td>  2</td>\n",
        "    </tr>\n",
        "    <tr>\n",
        "      <th>2</th>\n",
        "      <td> 210</td>\n",
        "      <td> 0</td>\n",
        "      <td> 206.00580</td>\n",
        "      <td> 35.08890</td>\n",
        "      <td> 27.24645</td>\n",
        "      <td> 14.63385</td>\n",
        "      <td> 2.397790</td>\n",
        "      <td> 1.861878</td>\n",
        "      <td> 0.0000</td>\n",
        "      <td> 0.0000</td>\n",
        "      <td>...</td>\n",
        "      <td> 36</td>\n",
        "      <td> 1</td>\n",
        "      <td> 1</td>\n",
        "      <td> 1</td>\n",
        "      <td> 1</td>\n",
        "      <td> 1</td>\n",
        "      <td> 1</td>\n",
        "      <td> 1</td>\n",
        "      <td> 1</td>\n",
        "      <td>  3</td>\n",
        "    </tr>\n",
        "    <tr>\n",
        "      <th>3</th>\n",
        "      <td> 210</td>\n",
        "      <td> 0</td>\n",
        "      <td> 194.04000</td>\n",
        "      <td> 42.39774</td>\n",
        "      <td> 42.39774</td>\n",
        "      <td> 17.46360</td>\n",
        "      <td> 2.427778</td>\n",
        "      <td> 2.427778</td>\n",
        "      <td> 0.0000</td>\n",
        "      <td> 0.0000</td>\n",
        "      <td>...</td>\n",
        "      <td> 36</td>\n",
        "      <td> 1</td>\n",
        "      <td> 1</td>\n",
        "      <td> 1</td>\n",
        "      <td> 1</td>\n",
        "      <td> 1</td>\n",
        "      <td> 1</td>\n",
        "      <td> 1</td>\n",
        "      <td> 1</td>\n",
        "      <td>  2</td>\n",
        "    </tr>\n",
        "    <tr>\n",
        "      <th>4</th>\n",
        "      <td> 210</td>\n",
        "      <td> 0</td>\n",
        "      <td> 180.36018</td>\n",
        "      <td>      NaN</td>\n",
        "      <td>      NaN</td>\n",
        "      <td>      NaN</td>\n",
        "      <td>      NaN</td>\n",
        "      <td>      NaN</td>\n",
        "      <td>    NaN</td>\n",
        "      <td>    NaN</td>\n",
        "      <td>...</td>\n",
        "      <td> 36</td>\n",
        "      <td> 1</td>\n",
        "      <td> 1</td>\n",
        "      <td> 1</td>\n",
        "      <td> 1</td>\n",
        "      <td> 1</td>\n",
        "      <td> 1</td>\n",
        "      <td> 1</td>\n",
        "      <td> 1</td>\n",
        "      <td>NaN</td>\n",
        "    </tr>\n",
        "  </tbody>\n",
        "</table>\n",
        "<p>5 rows \u00d7 32 columns</p>\n",
        "</div>"
       ],
       "metadata": {},
       "output_type": "pyout",
       "prompt_number": 30,
       "text": [
        "   time_pf  meiotic  cell_diameter_um  spindle_length__asters_um  \\\n",
        "0      210        0         177.82149                   41.37903   \n",
        "1      210        0         163.05828                   24.85329   \n",
        "2      210        0         206.00580                   35.08890   \n",
        "3      210        0         194.04000                   42.39774   \n",
        "4      210        0         180.36018                        NaN   \n",
        "\n",
        "   spindle_length_poles_um  spindle_width_um  spindle_aspect_ratio_asters_um  \\\n",
        "0                 26.13072          14.45598                        2.862416   \n",
        "1                 18.28827           9.97689                        2.491086   \n",
        "2                 27.24645          14.63385                        2.397790   \n",
        "3                 42.39774          17.46360                        2.427778   \n",
        "4                      NaN               NaN                             NaN   \n",
        "\n",
        "   spindle_aspect_ratio_poles_um  astere-to-pole_distance_1_um  \\\n",
        "0                       1.807606                        2.5872   \n",
        "1                       1.833063                        0.0000   \n",
        "2                       1.861878                        0.0000   \n",
        "3                       2.427778                        0.0000   \n",
        "4                            NaN                           NaN   \n",
        "\n",
        "   aster-to-pole_distance_2_um    ...      chromosomes  num_of_cells_CAT  \\\n",
        "0                       2.9106    ...               36                 1   \n",
        "1                       0.0000    ...               36                 1   \n",
        "2                       0.0000    ...               36                 1   \n",
        "3                       0.0000    ...               36                 1   \n",
        "4                          NaN    ...               36                 1   \n",
        "\n",
        "   num_of_cells_NUM  classification_CAT  phylum_CAT  organism_CAT  \\\n",
        "0                 1                   1           1             1   \n",
        "1                 1                   1           1             1   \n",
        "2                 1                   1           1             1   \n",
        "3                 1                   1           1             1   \n",
        "4                 1                   1           1             1   \n",
        "\n",
        "   cleavage_type_CAT  fixation_CAT  microscope_CAT  stage_CAT  \n",
        "0                  1             1               1          1  \n",
        "1                  1             1               1          2  \n",
        "2                  1             1               1          3  \n",
        "3                  1             1               1          2  \n",
        "4                  1             1               1        NaN  \n",
        "\n",
        "[5 rows x 32 columns]"
       ]
      }
     ],
     "prompt_number": 30
    },
    {
     "cell_type": "code",
     "collapsed": false,
     "input": [],
     "language": "python",
     "metadata": {},
     "outputs": [],
     "prompt_number": 30
    },
    {
     "cell_type": "code",
     "collapsed": false,
     "input": [
      "#to create the R matrix\n",
      "dfo_map=dfo.copy()"
     ],
     "language": "python",
     "metadata": {},
     "outputs": [],
     "prompt_number": 31
    },
    {
     "cell_type": "code",
     "collapsed": false,
     "input": [
      "dfo_map.head()"
     ],
     "language": "python",
     "metadata": {},
     "outputs": [
      {
       "html": [
        "<div style=\"max-height:1000px;max-width:1500px;overflow:auto;\">\n",
        "<table border=\"1\" class=\"dataframe\">\n",
        "  <thead>\n",
        "    <tr style=\"text-align: right;\">\n",
        "      <th></th>\n",
        "      <th>time_pf</th>\n",
        "      <th>meiotic</th>\n",
        "      <th>cell_diameter_um</th>\n",
        "      <th>spindle_length__asters_um</th>\n",
        "      <th>spindle_length_poles_um</th>\n",
        "      <th>spindle_width_um</th>\n",
        "      <th>spindle_aspect_ratio_asters_um</th>\n",
        "      <th>spindle_aspect_ratio_poles_um</th>\n",
        "      <th>astere-to-pole_distance_1_um</th>\n",
        "      <th>aster-to-pole_distance_2_um</th>\n",
        "      <th>...</th>\n",
        "      <th>chromosomes</th>\n",
        "      <th>num_of_cells_CAT</th>\n",
        "      <th>num_of_cells_NUM</th>\n",
        "      <th>classification_CAT</th>\n",
        "      <th>phylum_CAT</th>\n",
        "      <th>organism_CAT</th>\n",
        "      <th>cleavage_type_CAT</th>\n",
        "      <th>fixation_CAT</th>\n",
        "      <th>microscope_CAT</th>\n",
        "      <th>stage_CAT</th>\n",
        "    </tr>\n",
        "  </thead>\n",
        "  <tbody>\n",
        "    <tr>\n",
        "      <th>0</th>\n",
        "      <td> 210</td>\n",
        "      <td> 0</td>\n",
        "      <td> 177.82149</td>\n",
        "      <td> 41.37903</td>\n",
        "      <td> 26.13072</td>\n",
        "      <td> 14.45598</td>\n",
        "      <td> 2.862416</td>\n",
        "      <td> 1.807606</td>\n",
        "      <td> 2.5872</td>\n",
        "      <td> 2.9106</td>\n",
        "      <td>...</td>\n",
        "      <td> 36</td>\n",
        "      <td> 1</td>\n",
        "      <td> 1</td>\n",
        "      <td> 1</td>\n",
        "      <td> 1</td>\n",
        "      <td> 1</td>\n",
        "      <td> 1</td>\n",
        "      <td> 1</td>\n",
        "      <td> 1</td>\n",
        "      <td>  1</td>\n",
        "    </tr>\n",
        "    <tr>\n",
        "      <th>1</th>\n",
        "      <td> 210</td>\n",
        "      <td> 0</td>\n",
        "      <td> 163.05828</td>\n",
        "      <td> 24.85329</td>\n",
        "      <td> 18.28827</td>\n",
        "      <td>  9.97689</td>\n",
        "      <td> 2.491086</td>\n",
        "      <td> 1.833063</td>\n",
        "      <td> 0.0000</td>\n",
        "      <td> 0.0000</td>\n",
        "      <td>...</td>\n",
        "      <td> 36</td>\n",
        "      <td> 1</td>\n",
        "      <td> 1</td>\n",
        "      <td> 1</td>\n",
        "      <td> 1</td>\n",
        "      <td> 1</td>\n",
        "      <td> 1</td>\n",
        "      <td> 1</td>\n",
        "      <td> 1</td>\n",
        "      <td>  2</td>\n",
        "    </tr>\n",
        "    <tr>\n",
        "      <th>2</th>\n",
        "      <td> 210</td>\n",
        "      <td> 0</td>\n",
        "      <td> 206.00580</td>\n",
        "      <td> 35.08890</td>\n",
        "      <td> 27.24645</td>\n",
        "      <td> 14.63385</td>\n",
        "      <td> 2.397790</td>\n",
        "      <td> 1.861878</td>\n",
        "      <td> 0.0000</td>\n",
        "      <td> 0.0000</td>\n",
        "      <td>...</td>\n",
        "      <td> 36</td>\n",
        "      <td> 1</td>\n",
        "      <td> 1</td>\n",
        "      <td> 1</td>\n",
        "      <td> 1</td>\n",
        "      <td> 1</td>\n",
        "      <td> 1</td>\n",
        "      <td> 1</td>\n",
        "      <td> 1</td>\n",
        "      <td>  3</td>\n",
        "    </tr>\n",
        "    <tr>\n",
        "      <th>3</th>\n",
        "      <td> 210</td>\n",
        "      <td> 0</td>\n",
        "      <td> 194.04000</td>\n",
        "      <td> 42.39774</td>\n",
        "      <td> 42.39774</td>\n",
        "      <td> 17.46360</td>\n",
        "      <td> 2.427778</td>\n",
        "      <td> 2.427778</td>\n",
        "      <td> 0.0000</td>\n",
        "      <td> 0.0000</td>\n",
        "      <td>...</td>\n",
        "      <td> 36</td>\n",
        "      <td> 1</td>\n",
        "      <td> 1</td>\n",
        "      <td> 1</td>\n",
        "      <td> 1</td>\n",
        "      <td> 1</td>\n",
        "      <td> 1</td>\n",
        "      <td> 1</td>\n",
        "      <td> 1</td>\n",
        "      <td>  2</td>\n",
        "    </tr>\n",
        "    <tr>\n",
        "      <th>4</th>\n",
        "      <td> 210</td>\n",
        "      <td> 0</td>\n",
        "      <td> 180.36018</td>\n",
        "      <td>      NaN</td>\n",
        "      <td>      NaN</td>\n",
        "      <td>      NaN</td>\n",
        "      <td>      NaN</td>\n",
        "      <td>      NaN</td>\n",
        "      <td>    NaN</td>\n",
        "      <td>    NaN</td>\n",
        "      <td>...</td>\n",
        "      <td> 36</td>\n",
        "      <td> 1</td>\n",
        "      <td> 1</td>\n",
        "      <td> 1</td>\n",
        "      <td> 1</td>\n",
        "      <td> 1</td>\n",
        "      <td> 1</td>\n",
        "      <td> 1</td>\n",
        "      <td> 1</td>\n",
        "      <td>NaN</td>\n",
        "    </tr>\n",
        "  </tbody>\n",
        "</table>\n",
        "<p>5 rows \u00d7 32 columns</p>\n",
        "</div>"
       ],
       "metadata": {},
       "output_type": "pyout",
       "prompt_number": 32,
       "text": [
        "   time_pf  meiotic  cell_diameter_um  spindle_length__asters_um  \\\n",
        "0      210        0         177.82149                   41.37903   \n",
        "1      210        0         163.05828                   24.85329   \n",
        "2      210        0         206.00580                   35.08890   \n",
        "3      210        0         194.04000                   42.39774   \n",
        "4      210        0         180.36018                        NaN   \n",
        "\n",
        "   spindle_length_poles_um  spindle_width_um  spindle_aspect_ratio_asters_um  \\\n",
        "0                 26.13072          14.45598                        2.862416   \n",
        "1                 18.28827           9.97689                        2.491086   \n",
        "2                 27.24645          14.63385                        2.397790   \n",
        "3                 42.39774          17.46360                        2.427778   \n",
        "4                      NaN               NaN                             NaN   \n",
        "\n",
        "   spindle_aspect_ratio_poles_um  astere-to-pole_distance_1_um  \\\n",
        "0                       1.807606                        2.5872   \n",
        "1                       1.833063                        0.0000   \n",
        "2                       1.861878                        0.0000   \n",
        "3                       2.427778                        0.0000   \n",
        "4                            NaN                           NaN   \n",
        "\n",
        "   aster-to-pole_distance_2_um    ...      chromosomes  num_of_cells_CAT  \\\n",
        "0                       2.9106    ...               36                 1   \n",
        "1                       0.0000    ...               36                 1   \n",
        "2                       0.0000    ...               36                 1   \n",
        "3                       0.0000    ...               36                 1   \n",
        "4                          NaN    ...               36                 1   \n",
        "\n",
        "   num_of_cells_NUM  classification_CAT  phylum_CAT  organism_CAT  \\\n",
        "0                 1                   1           1             1   \n",
        "1                 1                   1           1             1   \n",
        "2                 1                   1           1             1   \n",
        "3                 1                   1           1             1   \n",
        "4                 1                   1           1             1   \n",
        "\n",
        "   cleavage_type_CAT  fixation_CAT  microscope_CAT  stage_CAT  \n",
        "0                  1             1               1          1  \n",
        "1                  1             1               1          2  \n",
        "2                  1             1               1          3  \n",
        "3                  1             1               1          2  \n",
        "4                  1             1               1        NaN  \n",
        "\n",
        "[5 rows x 32 columns]"
       ]
      }
     ],
     "prompt_number": 32
    },
    {
     "cell_type": "code",
     "collapsed": false,
     "input": [
      "dfo.get_values()"
     ],
     "language": "python",
     "metadata": {},
     "outputs": [
      {
       "metadata": {},
       "output_type": "pyout",
       "prompt_number": 33,
       "text": [
        "array([[ 210.     ,    0.     ,  177.82149, ...,    1.     ,    1.     ,\n",
        "           1.     ],\n",
        "       [ 210.     ,    0.     ,  163.05828, ...,    1.     ,    1.     ,\n",
        "           2.     ],\n",
        "       [ 210.     ,    0.     ,  206.0058 , ...,    1.     ,    1.     ,\n",
        "           3.     ],\n",
        "       ..., \n",
        "       [ 130.     ,    0.     ,   71.8    , ...,        nan,        nan,\n",
        "           2.     ],\n",
        "       [ 130.     ,    0.     ,   71.8    , ...,        nan,        nan,\n",
        "           2.     ],\n",
        "       [ 130.     ,    0.     ,   73.5    , ...,        nan,        nan,\n",
        "           2.     ]])"
       ]
      }
     ],
     "prompt_number": 33
    },
    {
     "cell_type": "heading",
     "level": 3,
     "metadata": {},
     "source": [
      "Visualize data matrix before normalization. "
     ]
    },
    {
     "cell_type": "markdown",
     "metadata": {},
     "source": [
      "The white spots are missing values."
     ]
    },
    {
     "cell_type": "code",
     "collapsed": false,
     "input": [
      "#plt.imshow(dfo.get_values())"
     ],
     "language": "python",
     "metadata": {},
     "outputs": [],
     "prompt_number": 34
    },
    {
     "cell_type": "code",
     "collapsed": false,
     "input": [
      "#BEFORE VALUE SCALING AND NORMALIZING6\n",
      "#http://mathesaurus.sourceforge.net/matlab-numpy.html\n",
      "#http://matplotlib.org/users/image_tutorial.html\n",
      "\n",
      "#http://stackoverflow.com/questions/6999621/how-to-use-extent-in-matplotlib-pyplot-imshow\n",
      "#plt.figure(figsize=(50,5))\n",
      "#http://stackoverflow.com/questions/6999621/how-to-use-extent-in-matplotlib-pyplot-imshow\n",
      "\n",
      "\n",
      "plt.imshow(dfo.get_values(),aspect='auto')\n",
      "plt.colorbar()\n"
     ],
     "language": "python",
     "metadata": {},
     "outputs": [
      {
       "metadata": {},
       "output_type": "pyout",
       "prompt_number": 35,
       "text": [
        "<matplotlib.colorbar.Colorbar instance at 0x10c122128>"
       ]
      },
      {
       "metadata": {},
       "output_type": "display_data",
       "png": "[encoded data removed]",
       "text": [
        "<matplotlib.figure.Figure at 0x10d0c1fd0>"
       ]
      }
     ],
     "prompt_number": 35
    },
    {
     "cell_type": "code",
     "collapsed": false,
     "input": [
      "#http://matplotlib.org/api/pyplot_api.html#matplotlib.pyplot.xlabel\n",
      "def visualizeDataFrame(data_frame, row_names='Examples', column_names='Variables',title=''):\n",
      "    plt.imshow(data_frame.get_values(),aspect='auto')\n",
      "    plt.xlabel(row_names, verticalalignment ='top')\n",
      "    plt.ylabel(column_names)\n",
      "    plt.title(title)\n",
      "    plt.colorbar()"
     ],
     "language": "python",
     "metadata": {},
     "outputs": [],
     "prompt_number": 36
    },
    {
     "cell_type": "code",
     "collapsed": false,
     "input": [
      "visualizeDataFrame(dfo,title='Input Data Frame before normalization')"
     ],
     "language": "python",
     "metadata": {},
     "outputs": [
      {
       "metadata": {},
       "output_type": "display_data",
       "png": "[encoded data removed]",
       "text": [
        "<matplotlib.figure.Figure at 0x10d103290>"
       ]
      }
     ],
     "prompt_number": 37
    },
    {
     "cell_type": "code",
     "collapsed": false,
     "input": [
      "?plt.xlabel"
     ],
     "language": "python",
     "metadata": {},
     "outputs": [],
     "prompt_number": 38
    },
    {
     "cell_type": "heading",
     "level": 4,
     "metadata": {},
     "source": [
      "CONDITIONAL SUBSETTING: line 35 in ex8_cofi.m - for creating R matrix"
     ]
    },
    {
     "cell_type": "code",
     "collapsed": false,
     "input": [
      "dfo_map=dfo_map.isnull()"
     ],
     "language": "python",
     "metadata": {},
     "outputs": [],
     "prompt_number": 39
    },
    {
     "cell_type": "code",
     "collapsed": false,
     "input": [
      "#this is the R matrix\n",
      "dfo_map.head()"
     ],
     "language": "python",
     "metadata": {},
     "outputs": [
      {
       "html": [
        "<div style=\"max-height:1000px;max-width:1500px;overflow:auto;\">\n",
        "<table border=\"1\" class=\"dataframe\">\n",
        "  <thead>\n",
        "    <tr style=\"text-align: right;\">\n",
        "      <th></th>\n",
        "      <th>time_pf</th>\n",
        "      <th>meiotic</th>\n",
        "      <th>cell_diameter_um</th>\n",
        "      <th>spindle_length__asters_um</th>\n",
        "      <th>spindle_length_poles_um</th>\n",
        "      <th>spindle_width_um</th>\n",
        "      <th>spindle_aspect_ratio_asters_um</th>\n",
        "      <th>spindle_aspect_ratio_poles_um</th>\n",
        "      <th>astere-to-pole_distance_1_um</th>\n",
        "      <th>aster-to-pole_distance_2_um</th>\n",
        "      <th>...</th>\n",
        "      <th>chromosomes</th>\n",
        "      <th>num_of_cells_CAT</th>\n",
        "      <th>num_of_cells_NUM</th>\n",
        "      <th>classification_CAT</th>\n",
        "      <th>phylum_CAT</th>\n",
        "      <th>organism_CAT</th>\n",
        "      <th>cleavage_type_CAT</th>\n",
        "      <th>fixation_CAT</th>\n",
        "      <th>microscope_CAT</th>\n",
        "      <th>stage_CAT</th>\n",
        "    </tr>\n",
        "  </thead>\n",
        "  <tbody>\n",
        "    <tr>\n",
        "      <th>0</th>\n",
        "      <td> False</td>\n",
        "      <td> False</td>\n",
        "      <td> False</td>\n",
        "      <td> False</td>\n",
        "      <td> False</td>\n",
        "      <td> False</td>\n",
        "      <td> False</td>\n",
        "      <td> False</td>\n",
        "      <td> False</td>\n",
        "      <td> False</td>\n",
        "      <td>...</td>\n",
        "      <td> False</td>\n",
        "      <td> False</td>\n",
        "      <td> False</td>\n",
        "      <td> False</td>\n",
        "      <td> False</td>\n",
        "      <td> False</td>\n",
        "      <td> False</td>\n",
        "      <td> False</td>\n",
        "      <td> False</td>\n",
        "      <td> False</td>\n",
        "    </tr>\n",
        "    <tr>\n",
        "      <th>1</th>\n",
        "      <td> False</td>\n",
        "      <td> False</td>\n",
        "      <td> False</td>\n",
        "      <td> False</td>\n",
        "      <td> False</td>\n",
        "      <td> False</td>\n",
        "      <td> False</td>\n",
        "      <td> False</td>\n",
        "      <td> False</td>\n",
        "      <td> False</td>\n",
        "      <td>...</td>\n",
        "      <td> False</td>\n",
        "      <td> False</td>\n",
        "      <td> False</td>\n",
        "      <td> False</td>\n",
        "      <td> False</td>\n",
        "      <td> False</td>\n",
        "      <td> False</td>\n",
        "      <td> False</td>\n",
        "      <td> False</td>\n",
        "      <td> False</td>\n",
        "    </tr>\n",
        "    <tr>\n",
        "      <th>2</th>\n",
        "      <td> False</td>\n",
        "      <td> False</td>\n",
        "      <td> False</td>\n",
        "      <td> False</td>\n",
        "      <td> False</td>\n",
        "      <td> False</td>\n",
        "      <td> False</td>\n",
        "      <td> False</td>\n",
        "      <td> False</td>\n",
        "      <td> False</td>\n",
        "      <td>...</td>\n",
        "      <td> False</td>\n",
        "      <td> False</td>\n",
        "      <td> False</td>\n",
        "      <td> False</td>\n",
        "      <td> False</td>\n",
        "      <td> False</td>\n",
        "      <td> False</td>\n",
        "      <td> False</td>\n",
        "      <td> False</td>\n",
        "      <td> False</td>\n",
        "    </tr>\n",
        "    <tr>\n",
        "      <th>3</th>\n",
        "      <td> False</td>\n",
        "      <td> False</td>\n",
        "      <td> False</td>\n",
        "      <td> False</td>\n",
        "      <td> False</td>\n",
        "      <td> False</td>\n",
        "      <td> False</td>\n",
        "      <td> False</td>\n",
        "      <td> False</td>\n",
        "      <td> False</td>\n",
        "      <td>...</td>\n",
        "      <td> False</td>\n",
        "      <td> False</td>\n",
        "      <td> False</td>\n",
        "      <td> False</td>\n",
        "      <td> False</td>\n",
        "      <td> False</td>\n",
        "      <td> False</td>\n",
        "      <td> False</td>\n",
        "      <td> False</td>\n",
        "      <td> False</td>\n",
        "    </tr>\n",
        "    <tr>\n",
        "      <th>4</th>\n",
        "      <td> False</td>\n",
        "      <td> False</td>\n",
        "      <td> False</td>\n",
        "      <td>  True</td>\n",
        "      <td>  True</td>\n",
        "      <td>  True</td>\n",
        "      <td>  True</td>\n",
        "      <td>  True</td>\n",
        "      <td>  True</td>\n",
        "      <td>  True</td>\n",
        "      <td>...</td>\n",
        "      <td> False</td>\n",
        "      <td> False</td>\n",
        "      <td> False</td>\n",
        "      <td> False</td>\n",
        "      <td> False</td>\n",
        "      <td> False</td>\n",
        "      <td> False</td>\n",
        "      <td> False</td>\n",
        "      <td> False</td>\n",
        "      <td>  True</td>\n",
        "    </tr>\n",
        "  </tbody>\n",
        "</table>\n",
        "<p>5 rows \u00d7 32 columns</p>\n",
        "</div>"
       ],
       "metadata": {},
       "output_type": "pyout",
       "prompt_number": 40,
       "text": [
        "  time_pf meiotic cell_diameter_um spindle_length__asters_um  \\\n",
        "0   False   False            False                     False   \n",
        "1   False   False            False                     False   \n",
        "2   False   False            False                     False   \n",
        "3   False   False            False                     False   \n",
        "4   False   False            False                      True   \n",
        "\n",
        "  spindle_length_poles_um spindle_width_um spindle_aspect_ratio_asters_um  \\\n",
        "0                   False            False                          False   \n",
        "1                   False            False                          False   \n",
        "2                   False            False                          False   \n",
        "3                   False            False                          False   \n",
        "4                    True             True                           True   \n",
        "\n",
        "  spindle_aspect_ratio_poles_um astere-to-pole_distance_1_um  \\\n",
        "0                         False                        False   \n",
        "1                         False                        False   \n",
        "2                         False                        False   \n",
        "3                         False                        False   \n",
        "4                          True                         True   \n",
        "\n",
        "  aster-to-pole_distance_2_um    ...    chromosomes num_of_cells_CAT  \\\n",
        "0                       False    ...          False            False   \n",
        "1                       False    ...          False            False   \n",
        "2                       False    ...          False            False   \n",
        "3                       False    ...          False            False   \n",
        "4                        True    ...          False            False   \n",
        "\n",
        "  num_of_cells_NUM classification_CAT phylum_CAT organism_CAT  \\\n",
        "0            False              False      False        False   \n",
        "1            False              False      False        False   \n",
        "2            False              False      False        False   \n",
        "3            False              False      False        False   \n",
        "4            False              False      False        False   \n",
        "\n",
        "  cleavage_type_CAT fixation_CAT microscope_CAT stage_CAT  \n",
        "0             False        False          False     False  \n",
        "1             False        False          False     False  \n",
        "2             False        False          False     False  \n",
        "3             False        False          False     False  \n",
        "4             False        False          False      True  \n",
        "\n",
        "[5 rows x 32 columns]"
       ]
      }
     ],
     "prompt_number": 40
    },
    {
     "cell_type": "code",
     "collapsed": false,
     "input": [
      "R = np.where(dfo_map == True, 0, 1)"
     ],
     "language": "python",
     "metadata": {},
     "outputs": [],
     "prompt_number": 41
    },
    {
     "cell_type": "code",
     "collapsed": false,
     "input": [
      "R"
     ],
     "language": "python",
     "metadata": {},
     "outputs": [
      {
       "metadata": {},
       "output_type": "pyout",
       "prompt_number": 42,
       "text": [
        "array([[1, 1, 1, ..., 1, 1, 1],\n",
        "       [1, 1, 1, ..., 1, 1, 1],\n",
        "       [1, 1, 1, ..., 1, 1, 1],\n",
        "       ..., \n",
        "       [1, 1, 1, ..., 0, 0, 1],\n",
        "       [1, 1, 1, ..., 0, 0, 1],\n",
        "       [1, 1, 1, ..., 0, 0, 1]])"
       ]
      }
     ],
     "prompt_number": 42
    },
    {
     "cell_type": "code",
     "collapsed": true,
     "input": [
      "dfo.loc[4,:]"
     ],
     "language": "python",
     "metadata": {},
     "outputs": [
      {
       "metadata": {},
       "output_type": "pyout",
       "prompt_number": 43,
       "text": [
        "time_pf                            210.00000\n",
        "meiotic                              0.00000\n",
        "cell_diameter_um                   180.36018\n",
        "spindle_length__asters_um                NaN\n",
        "spindle_length_poles_um                  NaN\n",
        "spindle_width_um                         NaN\n",
        "spindle_aspect_ratio_asters_um           NaN\n",
        "spindle_aspect_ratio_poles_um            NaN\n",
        "astere-to-pole_distance_1_um             NaN\n",
        "aster-to-pole_distance_2_um              NaN\n",
        "inner_aster_diameter_1_um                NaN\n",
        "inner_aster_diameter_2_um                NaN\n",
        "outer_aster_diameter_1_um                NaN\n",
        "outer__diameter_2_um                     NaN\n",
        "centrosome                           1.00000\n",
        "metaphase_plate_lengt_h_um               NaN\n",
        "metaphase_plate_width_um                 NaN\n",
        "metaphase_plate_aspect_ratio_um          NaN\n",
        "polar_body_diameter_1_um            10.33263\n",
        "polar_body_diameter_2_um            10.78539\n",
        "distance_between_chromosomes_um          NaN\n",
        "genome                             811.00000\n",
        "chromosomes                         36.00000\n",
        "num_of_cells_CAT                     1.00000\n",
        "num_of_cells_NUM                     1.00000\n",
        "classification_CAT                   1.00000\n",
        "phylum_CAT                           1.00000\n",
        "organism_CAT                         1.00000\n",
        "cleavage_type_CAT                    1.00000\n",
        "fixation_CAT                         1.00000\n",
        "microscope_CAT                       1.00000\n",
        "stage_CAT                                NaN\n",
        "Name: 4, dtype: float64"
       ]
      }
     ],
     "prompt_number": 43
    },
    {
     "cell_type": "code",
     "collapsed": false,
     "input": [
      "dfo_map.loc[4,:]"
     ],
     "language": "python",
     "metadata": {},
     "outputs": [
      {
       "metadata": {},
       "output_type": "pyout",
       "prompt_number": 44,
       "text": [
        "time_pf                            False\n",
        "meiotic                            False\n",
        "cell_diameter_um                   False\n",
        "spindle_length__asters_um           True\n",
        "spindle_length_poles_um             True\n",
        "spindle_width_um                    True\n",
        "spindle_aspect_ratio_asters_um      True\n",
        "spindle_aspect_ratio_poles_um       True\n",
        "astere-to-pole_distance_1_um        True\n",
        "aster-to-pole_distance_2_um         True\n",
        "inner_aster_diameter_1_um           True\n",
        "inner_aster_diameter_2_um           True\n",
        "outer_aster_diameter_1_um           True\n",
        "outer__diameter_2_um                True\n",
        "centrosome                         False\n",
        "metaphase_plate_lengt_h_um          True\n",
        "metaphase_plate_width_um            True\n",
        "metaphase_plate_aspect_ratio_um     True\n",
        "polar_body_diameter_1_um           False\n",
        "polar_body_diameter_2_um           False\n",
        "distance_between_chromosomes_um     True\n",
        "genome                             False\n",
        "chromosomes                        False\n",
        "num_of_cells_CAT                   False\n",
        "num_of_cells_NUM                   False\n",
        "classification_CAT                 False\n",
        "phylum_CAT                         False\n",
        "organism_CAT                       False\n",
        "cleavage_type_CAT                  False\n",
        "fixation_CAT                       False\n",
        "microscope_CAT                     False\n",
        "stage_CAT                           True\n",
        "Name: 4, dtype: bool"
       ]
      }
     ],
     "prompt_number": 44
    },
    {
     "cell_type": "code",
     "collapsed": false,
     "input": [
      "#conditional subsetting\n",
      "dfo.loc[4,:][dfo_map.loc[4,:]==True]"
     ],
     "language": "python",
     "metadata": {},
     "outputs": [
      {
       "metadata": {},
       "output_type": "pyout",
       "prompt_number": 45,
       "text": [
        "spindle_length__asters_um         NaN\n",
        "spindle_length_poles_um           NaN\n",
        "spindle_width_um                  NaN\n",
        "spindle_aspect_ratio_asters_um    NaN\n",
        "spindle_aspect_ratio_poles_um     NaN\n",
        "astere-to-pole_distance_1_um      NaN\n",
        "aster-to-pole_distance_2_um       NaN\n",
        "inner_aster_diameter_1_um         NaN\n",
        "inner_aster_diameter_2_um         NaN\n",
        "outer_aster_diameter_1_um         NaN\n",
        "outer__diameter_2_um              NaN\n",
        "metaphase_plate_lengt_h_um        NaN\n",
        "metaphase_plate_width_um          NaN\n",
        "metaphase_plate_aspect_ratio_um   NaN\n",
        "distance_between_chromosomes_um   NaN\n",
        "stage_CAT                         NaN\n",
        "Name: 4, dtype: float64"
       ]
      }
     ],
     "prompt_number": 45
    },
    {
     "cell_type": "code",
     "collapsed": false,
     "input": [
      "dfo.loc[4,:][dfo_map.loc[4,:]==False].mean()"
     ],
     "language": "python",
     "metadata": {},
     "outputs": [
      {
       "metadata": {},
       "output_type": "pyout",
       "prompt_number": 46,
       "text": [
        "79.217387500000001"
       ]
      }
     ],
     "prompt_number": 46
    },
    {
     "cell_type": "heading",
     "level": 3,
     "metadata": {},
     "source": [
      "COLLABORATIVE FILTERING: LOW RANK MATRIX APPROXIMATION"
     ]
    },
    {
     "cell_type": "code",
     "collapsed": false,
     "input": [
      "dfo.shape, dfo_map.shape"
     ],
     "language": "python",
     "metadata": {},
     "outputs": [
      {
       "metadata": {},
       "output_type": "pyout",
       "prompt_number": 47,
       "text": [
        "((2001, 32), (2001, 32))"
       ]
      }
     ],
     "prompt_number": 47
    },
    {
     "cell_type": "code",
     "collapsed": false,
     "input": [
      "#params - column vector with concatanated, unravelled X and Theta matrices\n",
      "\n",
      "#Y\n",
      "#R\n",
      "#num_users = dfo_map.shape[1] #number of columns /variables\n",
      "#num_movies = dfo_map.shape[0]#number of rows/examples\n",
      "#num_features: aribtrary: try 100"
     ],
     "language": "python",
     "metadata": {},
     "outputs": [],
     "prompt_number": 48
    },
    {
     "cell_type": "code",
     "collapsed": false,
     "input": [
      "#http://docs.scipy.org/doc/numpy/reference/generated/numpy.ravel.html\n",
      "#http://docs.scipy.org/doc/numpy/reference/generated/numpy.hstack.html\n",
      "#http://stackoverflow.com/questions/3394835/args-and-kwargs\n",
      "#http://stackoverflow.com/questions/36901/what-does-double-star-and-star-do-for-python-parameters\n",
      "#https://docs.python.org/dev/tutorial/controlflow.html#more-on-defining-functions\n",
      "#HELPER 1\n",
      "\n",
      "def serialize(*args):\n",
      "    return np.hstack(a.ravel('F') for a in args)"
     ],
     "language": "python",
     "metadata": {},
     "outputs": [],
     "prompt_number": 49
    },
    {
     "cell_type": "heading",
     "level": 4,
     "metadata": {},
     "source": [
      "test np.ravel 'orders'"
     ]
    },
    {
     "cell_type": "code",
     "collapsed": false,
     "input": [
      "#?np.array"
     ],
     "language": "python",
     "metadata": {},
     "outputs": [],
     "prompt_number": 50
    },
    {
     "cell_type": "code",
     "collapsed": false,
     "input": [
      "a=np.array([ [1,2,3],[4,5,6],[7,8,9] ])"
     ],
     "language": "python",
     "metadata": {},
     "outputs": [],
     "prompt_number": 51
    },
    {
     "cell_type": "code",
     "collapsed": false,
     "input": [
      "a"
     ],
     "language": "python",
     "metadata": {},
     "outputs": [
      {
       "metadata": {},
       "output_type": "pyout",
       "prompt_number": 52,
       "text": [
        "array([[1, 2, 3],\n",
        "       [4, 5, 6],\n",
        "       [7, 8, 9]])"
       ]
      }
     ],
     "prompt_number": 52
    },
    {
     "cell_type": "code",
     "collapsed": false,
     "input": [
      "a.ravel('C')"
     ],
     "language": "python",
     "metadata": {},
     "outputs": [
      {
       "metadata": {},
       "output_type": "pyout",
       "prompt_number": 53,
       "text": [
        "array([1, 2, 3, 4, 5, 6, 7, 8, 9])"
       ]
      }
     ],
     "prompt_number": 53
    },
    {
     "cell_type": "code",
     "collapsed": false,
     "input": [
      "a.ravel('F')"
     ],
     "language": "python",
     "metadata": {},
     "outputs": [
      {
       "metadata": {},
       "output_type": "pyout",
       "prompt_number": 54,
       "text": [
        "array([1, 4, 7, 2, 5, 8, 3, 6, 9])"
       ]
      }
     ],
     "prompt_number": 54
    },
    {
     "cell_type": "markdown",
     "metadata": {},
     "source": [
      "**END: test**"
     ]
    },
    {
     "cell_type": "heading",
     "level": 4,
     "metadata": {},
     "source": [
      "test np.hstack "
     ]
    },
    {
     "cell_type": "code",
     "collapsed": false,
     "input": [
      "np.hstack((a.ravel('C'),a.ravel('F')))"
     ],
     "language": "python",
     "metadata": {},
     "outputs": [
      {
       "metadata": {},
       "output_type": "pyout",
       "prompt_number": 55,
       "text": [
        "array([1, 2, 3, 4, 5, 6, 7, 8, 9, 1, 4, 7, 2, 5, 8, 3, 6, 9])"
       ]
      }
     ],
     "prompt_number": 55
    },
    {
     "cell_type": "markdown",
     "metadata": {},
     "source": [
      "**END: test**"
     ]
    },
    {
     "cell_type": "code",
     "collapsed": false,
     "input": [
      "dfo.loc[4,:][dfo_map.loc[4,:]==False].mean()"
     ],
     "language": "python",
     "metadata": {},
     "outputs": [
      {
       "metadata": {},
       "output_type": "pyout",
       "prompt_number": 56,
       "text": [
        "79.217387500000001"
       ]
      }
     ],
     "prompt_number": 56
    },
    {
     "cell_type": "code",
     "collapsed": false,
     "input": [
      "#how many NaN's in each column\n",
      "for col in dfo.columns:\n",
      "    print len(dfo[dfo[col].isnull()==False])\n",
      "    #print np.mean(dfo[col][dfo_map[col]==False])\n",
      "    #print len(dfo[dfo[col].isnull()==True])\n",
      "    #print dfo[col][dfo[col].isnull()==True]"
     ],
     "language": "python",
     "metadata": {},
     "outputs": [
      {
       "output_type": "stream",
       "stream": "stdout",
       "text": [
        "2001\n",
        "2001\n",
        "1947\n",
        "1899\n",
        "1971\n",
        "1851\n",
        "1836\n",
        "1836\n",
        "1834\n",
        "1788\n",
        "1809\n",
        "1712\n",
        "1664\n",
        "1582\n",
        "2001\n",
        "1685\n",
        "1212\n",
        "1201\n",
        "1999\n",
        "1997\n",
        "1886\n",
        "1358\n",
        "1997\n",
        "1914\n",
        "1914\n",
        "2001\n",
        "2001\n",
        "2001\n",
        "2001\n",
        "1863\n",
        "1863\n",
        "1993\n"
       ]
      }
     ],
     "prompt_number": 57
    },
    {
     "cell_type": "code",
     "collapsed": false,
     "input": [
      "#np.subtract(dfo,np.ones((1,dfo.shape[1])))\n"
     ],
     "language": "python",
     "metadata": {},
     "outputs": [],
     "prompt_number": 58
    },
    {
     "cell_type": "heading",
     "level": 3,
     "metadata": {},
     "source": [
      "FEATURE SCALING "
     ]
    },
    {
     "cell_type": "code",
     "collapsed": true,
     "input": [
      "#this is a value to keep\n",
      "initial_means=dfo.mean(axis=0)"
     ],
     "language": "python",
     "metadata": {},
     "outputs": [],
     "prompt_number": 59
    },
    {
     "cell_type": "code",
     "collapsed": false,
     "input": [
      "initial_means"
     ],
     "language": "python",
     "metadata": {},
     "outputs": [
      {
       "metadata": {},
       "output_type": "pyout",
       "prompt_number": 60,
       "text": [
        "time_pf                             220.012994\n",
        "meiotic                               0.236382\n",
        "cell_diameter_um                    108.800352\n",
        "spindle_length__asters_um            30.644614\n",
        "spindle_length_poles_um              22.373868\n",
        "spindle_width_um                     11.518706\n",
        "spindle_aspect_ratio_asters_um        2.700673\n",
        "spindle_aspect_ratio_poles_um         2.040230\n",
        "astere-to-pole_distance_1_um          1.231875\n",
        "aster-to-pole_distance_2_um           1.144923\n",
        "inner_aster_diameter_1_um             7.536544\n",
        "inner_aster_diameter_2_um             7.514501\n",
        "outer_aster_diameter_1_um            33.383070\n",
        "outer__diameter_2_um                 33.495913\n",
        "centrosome                            0.923038\n",
        "metaphase_plate_lengt_h_um           10.618968\n",
        "metaphase_plate_width_um              3.993019\n",
        "metaphase_plate_aspect_ratio_um       3.053011\n",
        "polar_body_diameter_1_um              9.945500\n",
        "polar_body_diameter_2_um              7.043778\n",
        "distance_between_chromosomes_um       3.342549\n",
        "genome                             1151.010309\n",
        "chromosomes                          29.706560\n",
        "num_of_cells_CAT                      3.748171\n",
        "num_of_cells_NUM                     14.229885\n",
        "classification_CAT                    1.804598\n",
        "phylum_CAT                            3.413293\n",
        "organism_CAT                          6.022489\n",
        "cleavage_type_CAT                     3.205897\n",
        "fixation_CAT                          2.300590\n",
        "microscope_CAT                        7.286098\n",
        "stage_CAT                             2.809834\n",
        "dtype: float64"
       ]
      }
     ],
     "prompt_number": 60
    },
    {
     "cell_type": "code",
     "collapsed": false,
     "input": [
      "initial_std=dfo.std(axis=0)"
     ],
     "language": "python",
     "metadata": {},
     "outputs": [],
     "prompt_number": 61
    },
    {
     "cell_type": "code",
     "collapsed": false,
     "input": [
      "initial_std"
     ],
     "language": "python",
     "metadata": {},
     "outputs": [
      {
       "metadata": {},
       "output_type": "pyout",
       "prompt_number": 62,
       "text": [
        "time_pf                             186.964737\n",
        "meiotic                               0.424966\n",
        "cell_diameter_um                    157.838006\n",
        "spindle_length__asters_um            18.152905\n",
        "spindle_length_poles_um              12.011064\n",
        "spindle_width_um                      5.403774\n",
        "spindle_aspect_ratio_asters_um        1.339841\n",
        "spindle_aspect_ratio_poles_um         0.962627\n",
        "astere-to-pole_distance_1_um          2.457425\n",
        "aster-to-pole_distance_2_um           2.643949\n",
        "inner_aster_diameter_1_um             7.610364\n",
        "inner_aster_diameter_2_um             6.839366\n",
        "outer_aster_diameter_1_um            30.094927\n",
        "outer__diameter_2_um                 24.792013\n",
        "centrosome                            0.266597\n",
        "metaphase_plate_lengt_h_um            4.126341\n",
        "metaphase_plate_width_um              1.901752\n",
        "metaphase_plate_aspect_ratio_um       1.206626\n",
        "polar_body_diameter_1_um              8.075802\n",
        "polar_body_diameter_2_um              2.345080\n",
        "distance_between_chromosomes_um       7.528474\n",
        "genome                             1099.155787\n",
        "chromosomes                          10.908621\n",
        "num_of_cells_CAT                      3.379052\n",
        "num_of_cells_NUM                     25.527277\n",
        "classification_CAT                    0.949894\n",
        "phylum_CAT                            2.229261\n",
        "organism_CAT                          3.701350\n",
        "cleavage_type_CAT                     1.982066\n",
        "fixation_CAT                          0.649576\n",
        "microscope_CAT                       13.034666\n",
        "stage_CAT                             2.247592\n",
        "dtype: float64"
       ]
      }
     ],
     "prompt_number": 62
    },
    {
     "cell_type": "code",
     "collapsed": false,
     "input": [
      "dfo_scaled=dfo.subtract(dfo.mean(axis=0),axis=1)"
     ],
     "language": "python",
     "metadata": {},
     "outputs": [],
     "prompt_number": 63
    },
    {
     "cell_type": "code",
     "collapsed": false,
     "input": [
      "dfo.head()"
     ],
     "language": "python",
     "metadata": {},
     "outputs": [
      {
       "html": [
        "<div style=\"max-height:1000px;max-width:1500px;overflow:auto;\">\n",
        "<table border=\"1\" class=\"dataframe\">\n",
        "  <thead>\n",
        "    <tr style=\"text-align: right;\">\n",
        "      <th></th>\n",
        "      <th>time_pf</th>\n",
        "      <th>meiotic</th>\n",
        "      <th>cell_diameter_um</th>\n",
        "      <th>spindle_length__asters_um</th>\n",
        "      <th>spindle_length_poles_um</th>\n",
        "      <th>spindle_width_um</th>\n",
        "      <th>spindle_aspect_ratio_asters_um</th>\n",
        "      <th>spindle_aspect_ratio_poles_um</th>\n",
        "      <th>astere-to-pole_distance_1_um</th>\n",
        "      <th>aster-to-pole_distance_2_um</th>\n",
        "      <th>...</th>\n",
        "      <th>chromosomes</th>\n",
        "      <th>num_of_cells_CAT</th>\n",
        "      <th>num_of_cells_NUM</th>\n",
        "      <th>classification_CAT</th>\n",
        "      <th>phylum_CAT</th>\n",
        "      <th>organism_CAT</th>\n",
        "      <th>cleavage_type_CAT</th>\n",
        "      <th>fixation_CAT</th>\n",
        "      <th>microscope_CAT</th>\n",
        "      <th>stage_CAT</th>\n",
        "    </tr>\n",
        "  </thead>\n",
        "  <tbody>\n",
        "    <tr>\n",
        "      <th>0</th>\n",
        "      <td> 210</td>\n",
        "      <td> 0</td>\n",
        "      <td> 177.82149</td>\n",
        "      <td> 41.37903</td>\n",
        "      <td> 26.13072</td>\n",
        "      <td> 14.45598</td>\n",
        "      <td> 2.862416</td>\n",
        "      <td> 1.807606</td>\n",
        "      <td> 2.5872</td>\n",
        "      <td> 2.9106</td>\n",
        "      <td>...</td>\n",
        "      <td> 36</td>\n",
        "      <td> 1</td>\n",
        "      <td> 1</td>\n",
        "      <td> 1</td>\n",
        "      <td> 1</td>\n",
        "      <td> 1</td>\n",
        "      <td> 1</td>\n",
        "      <td> 1</td>\n",
        "      <td> 1</td>\n",
        "      <td>  1</td>\n",
        "    </tr>\n",
        "    <tr>\n",
        "      <th>1</th>\n",
        "      <td> 210</td>\n",
        "      <td> 0</td>\n",
        "      <td> 163.05828</td>\n",
        "      <td> 24.85329</td>\n",
        "      <td> 18.28827</td>\n",
        "      <td>  9.97689</td>\n",
        "      <td> 2.491086</td>\n",
        "      <td> 1.833063</td>\n",
        "      <td> 0.0000</td>\n",
        "      <td> 0.0000</td>\n",
        "      <td>...</td>\n",
        "      <td> 36</td>\n",
        "      <td> 1</td>\n",
        "      <td> 1</td>\n",
        "      <td> 1</td>\n",
        "      <td> 1</td>\n",
        "      <td> 1</td>\n",
        "      <td> 1</td>\n",
        "      <td> 1</td>\n",
        "      <td> 1</td>\n",
        "      <td>  2</td>\n",
        "    </tr>\n",
        "    <tr>\n",
        "      <th>2</th>\n",
        "      <td> 210</td>\n",
        "      <td> 0</td>\n",
        "      <td> 206.00580</td>\n",
        "      <td> 35.08890</td>\n",
        "      <td> 27.24645</td>\n",
        "      <td> 14.63385</td>\n",
        "      <td> 2.397790</td>\n",
        "      <td> 1.861878</td>\n",
        "      <td> 0.0000</td>\n",
        "      <td> 0.0000</td>\n",
        "      <td>...</td>\n",
        "      <td> 36</td>\n",
        "      <td> 1</td>\n",
        "      <td> 1</td>\n",
        "      <td> 1</td>\n",
        "      <td> 1</td>\n",
        "      <td> 1</td>\n",
        "      <td> 1</td>\n",
        "      <td> 1</td>\n",
        "      <td> 1</td>\n",
        "      <td>  3</td>\n",
        "    </tr>\n",
        "    <tr>\n",
        "      <th>3</th>\n",
        "      <td> 210</td>\n",
        "      <td> 0</td>\n",
        "      <td> 194.04000</td>\n",
        "      <td> 42.39774</td>\n",
        "      <td> 42.39774</td>\n",
        "      <td> 17.46360</td>\n",
        "      <td> 2.427778</td>\n",
        "      <td> 2.427778</td>\n",
        "      <td> 0.0000</td>\n",
        "      <td> 0.0000</td>\n",
        "      <td>...</td>\n",
        "      <td> 36</td>\n",
        "      <td> 1</td>\n",
        "      <td> 1</td>\n",
        "      <td> 1</td>\n",
        "      <td> 1</td>\n",
        "      <td> 1</td>\n",
        "      <td> 1</td>\n",
        "      <td> 1</td>\n",
        "      <td> 1</td>\n",
        "      <td>  2</td>\n",
        "    </tr>\n",
        "    <tr>\n",
        "      <th>4</th>\n",
        "      <td> 210</td>\n",
        "      <td> 0</td>\n",
        "      <td> 180.36018</td>\n",
        "      <td>      NaN</td>\n",
        "      <td>      NaN</td>\n",
        "      <td>      NaN</td>\n",
        "      <td>      NaN</td>\n",
        "      <td>      NaN</td>\n",
        "      <td>    NaN</td>\n",
        "      <td>    NaN</td>\n",
        "      <td>...</td>\n",
        "      <td> 36</td>\n",
        "      <td> 1</td>\n",
        "      <td> 1</td>\n",
        "      <td> 1</td>\n",
        "      <td> 1</td>\n",
        "      <td> 1</td>\n",
        "      <td> 1</td>\n",
        "      <td> 1</td>\n",
        "      <td> 1</td>\n",
        "      <td>NaN</td>\n",
        "    </tr>\n",
        "  </tbody>\n",
        "</table>\n",
        "<p>5 rows \u00d7 32 columns</p>\n",
        "</div>"
       ],
       "metadata": {},
       "output_type": "pyout",
       "prompt_number": 64,
       "text": [
        "   time_pf  meiotic  cell_diameter_um  spindle_length__asters_um  \\\n",
        "0      210        0         177.82149                   41.37903   \n",
        "1      210        0         163.05828                   24.85329   \n",
        "2      210        0         206.00580                   35.08890   \n",
        "3      210        0         194.04000                   42.39774   \n",
        "4      210        0         180.36018                        NaN   \n",
        "\n",
        "   spindle_length_poles_um  spindle_width_um  spindle_aspect_ratio_asters_um  \\\n",
        "0                 26.13072          14.45598                        2.862416   \n",
        "1                 18.28827           9.97689                        2.491086   \n",
        "2                 27.24645          14.63385                        2.397790   \n",
        "3                 42.39774          17.46360                        2.427778   \n",
        "4                      NaN               NaN                             NaN   \n",
        "\n",
        "   spindle_aspect_ratio_poles_um  astere-to-pole_distance_1_um  \\\n",
        "0                       1.807606                        2.5872   \n",
        "1                       1.833063                        0.0000   \n",
        "2                       1.861878                        0.0000   \n",
        "3                       2.427778                        0.0000   \n",
        "4                            NaN                           NaN   \n",
        "\n",
        "   aster-to-pole_distance_2_um    ...      chromosomes  num_of_cells_CAT  \\\n",
        "0                       2.9106    ...               36                 1   \n",
        "1                       0.0000    ...               36                 1   \n",
        "2                       0.0000    ...               36                 1   \n",
        "3                       0.0000    ...               36                 1   \n",
        "4                          NaN    ...               36                 1   \n",
        "\n",
        "   num_of_cells_NUM  classification_CAT  phylum_CAT  organism_CAT  \\\n",
        "0                 1                   1           1             1   \n",
        "1                 1                   1           1             1   \n",
        "2                 1                   1           1             1   \n",
        "3                 1                   1           1             1   \n",
        "4                 1                   1           1             1   \n",
        "\n",
        "   cleavage_type_CAT  fixation_CAT  microscope_CAT  stage_CAT  \n",
        "0                  1             1               1          1  \n",
        "1                  1             1               1          2  \n",
        "2                  1             1               1          3  \n",
        "3                  1             1               1          2  \n",
        "4                  1             1               1        NaN  \n",
        "\n",
        "[5 rows x 32 columns]"
       ]
      }
     ],
     "prompt_number": 64
    },
    {
     "cell_type": "code",
     "collapsed": false,
     "input": [
      "dfo_scaled.head()"
     ],
     "language": "python",
     "metadata": {},
     "outputs": [
      {
       "html": [
        "<div style=\"max-height:1000px;max-width:1500px;overflow:auto;\">\n",
        "<table border=\"1\" class=\"dataframe\">\n",
        "  <thead>\n",
        "    <tr style=\"text-align: right;\">\n",
        "      <th></th>\n",
        "      <th>time_pf</th>\n",
        "      <th>meiotic</th>\n",
        "      <th>cell_diameter_um</th>\n",
        "      <th>spindle_length__asters_um</th>\n",
        "      <th>spindle_length_poles_um</th>\n",
        "      <th>spindle_width_um</th>\n",
        "      <th>spindle_aspect_ratio_asters_um</th>\n",
        "      <th>spindle_aspect_ratio_poles_um</th>\n",
        "      <th>astere-to-pole_distance_1_um</th>\n",
        "      <th>aster-to-pole_distance_2_um</th>\n",
        "      <th>...</th>\n",
        "      <th>chromosomes</th>\n",
        "      <th>num_of_cells_CAT</th>\n",
        "      <th>num_of_cells_NUM</th>\n",
        "      <th>classification_CAT</th>\n",
        "      <th>phylum_CAT</th>\n",
        "      <th>organism_CAT</th>\n",
        "      <th>cleavage_type_CAT</th>\n",
        "      <th>fixation_CAT</th>\n",
        "      <th>microscope_CAT</th>\n",
        "      <th>stage_CAT</th>\n",
        "    </tr>\n",
        "  </thead>\n",
        "  <tbody>\n",
        "    <tr>\n",
        "      <th>0</th>\n",
        "      <td>-10.012994</td>\n",
        "      <td>-0.236382</td>\n",
        "      <td> 69.021138</td>\n",
        "      <td> 10.734416</td>\n",
        "      <td>  3.756852</td>\n",
        "      <td> 2.937274</td>\n",
        "      <td> 0.161743</td>\n",
        "      <td>-0.232623</td>\n",
        "      <td> 1.355325</td>\n",
        "      <td> 1.765677</td>\n",
        "      <td>...</td>\n",
        "      <td> 6.29344</td>\n",
        "      <td>-2.748171</td>\n",
        "      <td>-13.229885</td>\n",
        "      <td>-0.804598</td>\n",
        "      <td>-2.413293</td>\n",
        "      <td>-5.022489</td>\n",
        "      <td>-2.205897</td>\n",
        "      <td>-1.30059</td>\n",
        "      <td>-6.286098</td>\n",
        "      <td>-1.809834</td>\n",
        "    </tr>\n",
        "    <tr>\n",
        "      <th>1</th>\n",
        "      <td>-10.012994</td>\n",
        "      <td>-0.236382</td>\n",
        "      <td> 54.257928</td>\n",
        "      <td> -5.791324</td>\n",
        "      <td> -4.085598</td>\n",
        "      <td>-1.541816</td>\n",
        "      <td>-0.209588</td>\n",
        "      <td>-0.207166</td>\n",
        "      <td>-1.231875</td>\n",
        "      <td>-1.144923</td>\n",
        "      <td>...</td>\n",
        "      <td> 6.29344</td>\n",
        "      <td>-2.748171</td>\n",
        "      <td>-13.229885</td>\n",
        "      <td>-0.804598</td>\n",
        "      <td>-2.413293</td>\n",
        "      <td>-5.022489</td>\n",
        "      <td>-2.205897</td>\n",
        "      <td>-1.30059</td>\n",
        "      <td>-6.286098</td>\n",
        "      <td>-0.809834</td>\n",
        "    </tr>\n",
        "    <tr>\n",
        "      <th>2</th>\n",
        "      <td>-10.012994</td>\n",
        "      <td>-0.236382</td>\n",
        "      <td> 97.205448</td>\n",
        "      <td>  4.444286</td>\n",
        "      <td>  4.872582</td>\n",
        "      <td> 3.115144</td>\n",
        "      <td>-0.302883</td>\n",
        "      <td>-0.178351</td>\n",
        "      <td>-1.231875</td>\n",
        "      <td>-1.144923</td>\n",
        "      <td>...</td>\n",
        "      <td> 6.29344</td>\n",
        "      <td>-2.748171</td>\n",
        "      <td>-13.229885</td>\n",
        "      <td>-0.804598</td>\n",
        "      <td>-2.413293</td>\n",
        "      <td>-5.022489</td>\n",
        "      <td>-2.205897</td>\n",
        "      <td>-1.30059</td>\n",
        "      <td>-6.286098</td>\n",
        "      <td> 0.190166</td>\n",
        "    </tr>\n",
        "    <tr>\n",
        "      <th>3</th>\n",
        "      <td>-10.012994</td>\n",
        "      <td>-0.236382</td>\n",
        "      <td> 85.239648</td>\n",
        "      <td> 11.753126</td>\n",
        "      <td> 20.023872</td>\n",
        "      <td> 5.944894</td>\n",
        "      <td>-0.272896</td>\n",
        "      <td> 0.387548</td>\n",
        "      <td>-1.231875</td>\n",
        "      <td>-1.144923</td>\n",
        "      <td>...</td>\n",
        "      <td> 6.29344</td>\n",
        "      <td>-2.748171</td>\n",
        "      <td>-13.229885</td>\n",
        "      <td>-0.804598</td>\n",
        "      <td>-2.413293</td>\n",
        "      <td>-5.022489</td>\n",
        "      <td>-2.205897</td>\n",
        "      <td>-1.30059</td>\n",
        "      <td>-6.286098</td>\n",
        "      <td>-0.809834</td>\n",
        "    </tr>\n",
        "    <tr>\n",
        "      <th>4</th>\n",
        "      <td>-10.012994</td>\n",
        "      <td>-0.236382</td>\n",
        "      <td> 71.559828</td>\n",
        "      <td>       NaN</td>\n",
        "      <td>       NaN</td>\n",
        "      <td>      NaN</td>\n",
        "      <td>      NaN</td>\n",
        "      <td>      NaN</td>\n",
        "      <td>      NaN</td>\n",
        "      <td>      NaN</td>\n",
        "      <td>...</td>\n",
        "      <td> 6.29344</td>\n",
        "      <td>-2.748171</td>\n",
        "      <td>-13.229885</td>\n",
        "      <td>-0.804598</td>\n",
        "      <td>-2.413293</td>\n",
        "      <td>-5.022489</td>\n",
        "      <td>-2.205897</td>\n",
        "      <td>-1.30059</td>\n",
        "      <td>-6.286098</td>\n",
        "      <td>      NaN</td>\n",
        "    </tr>\n",
        "  </tbody>\n",
        "</table>\n",
        "<p>5 rows \u00d7 32 columns</p>\n",
        "</div>"
       ],
       "metadata": {},
       "output_type": "pyout",
       "prompt_number": 65,
       "text": [
        "     time_pf   meiotic  cell_diameter_um  spindle_length__asters_um  \\\n",
        "0 -10.012994 -0.236382         69.021138                  10.734416   \n",
        "1 -10.012994 -0.236382         54.257928                  -5.791324   \n",
        "2 -10.012994 -0.236382         97.205448                   4.444286   \n",
        "3 -10.012994 -0.236382         85.239648                  11.753126   \n",
        "4 -10.012994 -0.236382         71.559828                        NaN   \n",
        "\n",
        "   spindle_length_poles_um  spindle_width_um  spindle_aspect_ratio_asters_um  \\\n",
        "0                 3.756852          2.937274                        0.161743   \n",
        "1                -4.085598         -1.541816                       -0.209588   \n",
        "2                 4.872582          3.115144                       -0.302883   \n",
        "3                20.023872          5.944894                       -0.272896   \n",
        "4                      NaN               NaN                             NaN   \n",
        "\n",
        "   spindle_aspect_ratio_poles_um  astere-to-pole_distance_1_um  \\\n",
        "0                      -0.232623                      1.355325   \n",
        "1                      -0.207166                     -1.231875   \n",
        "2                      -0.178351                     -1.231875   \n",
        "3                       0.387548                     -1.231875   \n",
        "4                            NaN                           NaN   \n",
        "\n",
        "   aster-to-pole_distance_2_um    ...      chromosomes  num_of_cells_CAT  \\\n",
        "0                     1.765677    ...          6.29344         -2.748171   \n",
        "1                    -1.144923    ...          6.29344         -2.748171   \n",
        "2                    -1.144923    ...          6.29344         -2.748171   \n",
        "3                    -1.144923    ...          6.29344         -2.748171   \n",
        "4                          NaN    ...          6.29344         -2.748171   \n",
        "\n",
        "   num_of_cells_NUM  classification_CAT  phylum_CAT  organism_CAT  \\\n",
        "0        -13.229885           -0.804598   -2.413293     -5.022489   \n",
        "1        -13.229885           -0.804598   -2.413293     -5.022489   \n",
        "2        -13.229885           -0.804598   -2.413293     -5.022489   \n",
        "3        -13.229885           -0.804598   -2.413293     -5.022489   \n",
        "4        -13.229885           -0.804598   -2.413293     -5.022489   \n",
        "\n",
        "   cleavage_type_CAT  fixation_CAT  microscope_CAT  stage_CAT  \n",
        "0          -2.205897      -1.30059       -6.286098  -1.809834  \n",
        "1          -2.205897      -1.30059       -6.286098  -0.809834  \n",
        "2          -2.205897      -1.30059       -6.286098   0.190166  \n",
        "3          -2.205897      -1.30059       -6.286098  -0.809834  \n",
        "4          -2.205897      -1.30059       -6.286098        NaN  \n",
        "\n",
        "[5 rows x 32 columns]"
       ]
      }
     ],
     "prompt_number": 65
    },
    {
     "cell_type": "code",
     "collapsed": false,
     "input": [
      "dfo_normalized=dfo_scaled.divide(initial_std,axis=1)"
     ],
     "language": "python",
     "metadata": {},
     "outputs": [],
     "prompt_number": 66
    },
    {
     "cell_type": "code",
     "collapsed": false,
     "input": [
      "dfo_normalized.head()"
     ],
     "language": "python",
     "metadata": {},
     "outputs": [
      {
       "html": [
        "<div style=\"max-height:1000px;max-width:1500px;overflow:auto;\">\n",
        "<table border=\"1\" class=\"dataframe\">\n",
        "  <thead>\n",
        "    <tr style=\"text-align: right;\">\n",
        "      <th></th>\n",
        "      <th>time_pf</th>\n",
        "      <th>meiotic</th>\n",
        "      <th>cell_diameter_um</th>\n",
        "      <th>spindle_length__asters_um</th>\n",
        "      <th>spindle_length_poles_um</th>\n",
        "      <th>spindle_width_um</th>\n",
        "      <th>spindle_aspect_ratio_asters_um</th>\n",
        "      <th>spindle_aspect_ratio_poles_um</th>\n",
        "      <th>astere-to-pole_distance_1_um</th>\n",
        "      <th>aster-to-pole_distance_2_um</th>\n",
        "      <th>...</th>\n",
        "      <th>chromosomes</th>\n",
        "      <th>num_of_cells_CAT</th>\n",
        "      <th>num_of_cells_NUM</th>\n",
        "      <th>classification_CAT</th>\n",
        "      <th>phylum_CAT</th>\n",
        "      <th>organism_CAT</th>\n",
        "      <th>cleavage_type_CAT</th>\n",
        "      <th>fixation_CAT</th>\n",
        "      <th>microscope_CAT</th>\n",
        "      <th>stage_CAT</th>\n",
        "    </tr>\n",
        "  </thead>\n",
        "  <tbody>\n",
        "    <tr>\n",
        "      <th>0</th>\n",
        "      <td>-0.053556</td>\n",
        "      <td>-0.556238</td>\n",
        "      <td> 0.437291</td>\n",
        "      <td> 0.591333</td>\n",
        "      <td> 0.312783</td>\n",
        "      <td> 0.543560</td>\n",
        "      <td> 0.120718</td>\n",
        "      <td>-0.241655</td>\n",
        "      <td> 0.551522</td>\n",
        "      <td> 0.667818</td>\n",
        "      <td>...</td>\n",
        "      <td> 0.576924</td>\n",
        "      <td>-0.813297</td>\n",
        "      <td>-0.518265</td>\n",
        "      <td>-0.847039</td>\n",
        "      <td>-1.082553</td>\n",
        "      <td>-1.356934</td>\n",
        "      <td>-1.112928</td>\n",
        "      <td>-2.002214</td>\n",
        "      <td>-0.48226</td>\n",
        "      <td>-0.805233</td>\n",
        "    </tr>\n",
        "    <tr>\n",
        "      <th>1</th>\n",
        "      <td>-0.053556</td>\n",
        "      <td>-0.556238</td>\n",
        "      <td> 0.343757</td>\n",
        "      <td>-0.319030</td>\n",
        "      <td>-0.340153</td>\n",
        "      <td>-0.285322</td>\n",
        "      <td>-0.156427</td>\n",
        "      <td>-0.215209</td>\n",
        "      <td>-0.501287</td>\n",
        "      <td>-0.433035</td>\n",
        "      <td>...</td>\n",
        "      <td> 0.576924</td>\n",
        "      <td>-0.813297</td>\n",
        "      <td>-0.518265</td>\n",
        "      <td>-0.847039</td>\n",
        "      <td>-1.082553</td>\n",
        "      <td>-1.356934</td>\n",
        "      <td>-1.112928</td>\n",
        "      <td>-2.002214</td>\n",
        "      <td>-0.48226</td>\n",
        "      <td>-0.360312</td>\n",
        "    </tr>\n",
        "    <tr>\n",
        "      <th>2</th>\n",
        "      <td>-0.053556</td>\n",
        "      <td>-0.556238</td>\n",
        "      <td> 0.615856</td>\n",
        "      <td> 0.244825</td>\n",
        "      <td> 0.405674</td>\n",
        "      <td> 0.576476</td>\n",
        "      <td>-0.226059</td>\n",
        "      <td>-0.185275</td>\n",
        "      <td>-0.501287</td>\n",
        "      <td>-0.433035</td>\n",
        "      <td>...</td>\n",
        "      <td> 0.576924</td>\n",
        "      <td>-0.813297</td>\n",
        "      <td>-0.518265</td>\n",
        "      <td>-0.847039</td>\n",
        "      <td>-1.082553</td>\n",
        "      <td>-1.356934</td>\n",
        "      <td>-1.112928</td>\n",
        "      <td>-2.002214</td>\n",
        "      <td>-0.48226</td>\n",
        "      <td> 0.084609</td>\n",
        "    </tr>\n",
        "    <tr>\n",
        "      <th>3</th>\n",
        "      <td>-0.053556</td>\n",
        "      <td>-0.556238</td>\n",
        "      <td> 0.540045</td>\n",
        "      <td> 0.647452</td>\n",
        "      <td> 1.667119</td>\n",
        "      <td> 1.100137</td>\n",
        "      <td>-0.203678</td>\n",
        "      <td> 0.402594</td>\n",
        "      <td>-0.501287</td>\n",
        "      <td>-0.433035</td>\n",
        "      <td>...</td>\n",
        "      <td> 0.576924</td>\n",
        "      <td>-0.813297</td>\n",
        "      <td>-0.518265</td>\n",
        "      <td>-0.847039</td>\n",
        "      <td>-1.082553</td>\n",
        "      <td>-1.356934</td>\n",
        "      <td>-1.112928</td>\n",
        "      <td>-2.002214</td>\n",
        "      <td>-0.48226</td>\n",
        "      <td>-0.360312</td>\n",
        "    </tr>\n",
        "    <tr>\n",
        "      <th>4</th>\n",
        "      <td>-0.053556</td>\n",
        "      <td>-0.556238</td>\n",
        "      <td> 0.453375</td>\n",
        "      <td>      NaN</td>\n",
        "      <td>      NaN</td>\n",
        "      <td>      NaN</td>\n",
        "      <td>      NaN</td>\n",
        "      <td>      NaN</td>\n",
        "      <td>      NaN</td>\n",
        "      <td>      NaN</td>\n",
        "      <td>...</td>\n",
        "      <td> 0.576924</td>\n",
        "      <td>-0.813297</td>\n",
        "      <td>-0.518265</td>\n",
        "      <td>-0.847039</td>\n",
        "      <td>-1.082553</td>\n",
        "      <td>-1.356934</td>\n",
        "      <td>-1.112928</td>\n",
        "      <td>-2.002214</td>\n",
        "      <td>-0.48226</td>\n",
        "      <td>      NaN</td>\n",
        "    </tr>\n",
        "  </tbody>\n",
        "</table>\n",
        "<p>5 rows \u00d7 32 columns</p>\n",
        "</div>"
       ],
       "metadata": {},
       "output_type": "pyout",
       "prompt_number": 67,
       "text": [
        "    time_pf   meiotic  cell_diameter_um  spindle_length__asters_um  \\\n",
        "0 -0.053556 -0.556238          0.437291                   0.591333   \n",
        "1 -0.053556 -0.556238          0.343757                  -0.319030   \n",
        "2 -0.053556 -0.556238          0.615856                   0.244825   \n",
        "3 -0.053556 -0.556238          0.540045                   0.647452   \n",
        "4 -0.053556 -0.556238          0.453375                        NaN   \n",
        "\n",
        "   spindle_length_poles_um  spindle_width_um  spindle_aspect_ratio_asters_um  \\\n",
        "0                 0.312783          0.543560                        0.120718   \n",
        "1                -0.340153         -0.285322                       -0.156427   \n",
        "2                 0.405674          0.576476                       -0.226059   \n",
        "3                 1.667119          1.100137                       -0.203678   \n",
        "4                      NaN               NaN                             NaN   \n",
        "\n",
        "   spindle_aspect_ratio_poles_um  astere-to-pole_distance_1_um  \\\n",
        "0                      -0.241655                      0.551522   \n",
        "1                      -0.215209                     -0.501287   \n",
        "2                      -0.185275                     -0.501287   \n",
        "3                       0.402594                     -0.501287   \n",
        "4                            NaN                           NaN   \n",
        "\n",
        "   aster-to-pole_distance_2_um    ...      chromosomes  num_of_cells_CAT  \\\n",
        "0                     0.667818    ...         0.576924         -0.813297   \n",
        "1                    -0.433035    ...         0.576924         -0.813297   \n",
        "2                    -0.433035    ...         0.576924         -0.813297   \n",
        "3                    -0.433035    ...         0.576924         -0.813297   \n",
        "4                          NaN    ...         0.576924         -0.813297   \n",
        "\n",
        "   num_of_cells_NUM  classification_CAT  phylum_CAT  organism_CAT  \\\n",
        "0         -0.518265           -0.847039   -1.082553     -1.356934   \n",
        "1         -0.518265           -0.847039   -1.082553     -1.356934   \n",
        "2         -0.518265           -0.847039   -1.082553     -1.356934   \n",
        "3         -0.518265           -0.847039   -1.082553     -1.356934   \n",
        "4         -0.518265           -0.847039   -1.082553     -1.356934   \n",
        "\n",
        "   cleavage_type_CAT  fixation_CAT  microscope_CAT  stage_CAT  \n",
        "0          -1.112928     -2.002214        -0.48226  -0.805233  \n",
        "1          -1.112928     -2.002214        -0.48226  -0.360312  \n",
        "2          -1.112928     -2.002214        -0.48226   0.084609  \n",
        "3          -1.112928     -2.002214        -0.48226  -0.360312  \n",
        "4          -1.112928     -2.002214        -0.48226        NaN  \n",
        "\n",
        "[5 rows x 32 columns]"
       ]
      }
     ],
     "prompt_number": 67
    },
    {
     "cell_type": "code",
     "collapsed": false,
     "input": [
      "#HELPER 2\n",
      "#modified versions of normalizeRatings.py\n",
      "\n",
      "def normalizeRatings_row(Y, R):\n",
      "    '''Y and R are data frames\n",
      "    \n",
      "    NORMALIZERATINGS Preprocess data by subtracting mean rating for every\n",
      "    movie (every row) and divide by standard deviation for every row (movie)\n",
      "       Ynorm, Ymean, Ystd = NORMALIZERATINGS(Y, R) normalized Y so that each movie\n",
      "       has a rating of 0 on average, and returns the mean rating in Ymean, and std in Ystd.\n",
      "    '''\n",
      "\n",
      "    m, n = np.shape(Y)\n",
      "    Ymean = np.zeros(m)\n",
      "    Ystd=np.zeros(m)\n",
      "    Ynorm = np.zeros(np.shape(Y))\n",
      "    for i in range(m):\n",
      "        idx = np.where(R.iloc[i, :] == False)\n",
      "        Ymean[i] = np.mean(Y.iloc[i, idx])\n",
      "        Ystd[i]=np.std(Y.iloc[i,idx])\n",
      "        Ynorm[i, idx] = (Y.iloc[i, idx] - Ymean[i])/Ystd[i]\n",
      "\n",
      "    return Ynorm, Ymean, Ystd\n",
      "\n",
      "def normalizeRatings_column(Y, R):\n",
      "    '''Y and R are data frames\n",
      "    \n",
      "    NORMALIZERATINGS Preprocess data by subtracting mean rating for every\n",
      "    movie (every column)\n",
      "       Ynorm, Ymean = NORMALIZERATINGS(Y, R) normalized Y so that each user rating \n",
      "       has a rating of 0 on average (across all movies), and returns the mean rating in Ymean, and std in Ystd.\n",
      "    '''\n",
      "\n",
      "    m, n = np.shape(Y)\n",
      "    Ymean = np.zeros(n)\n",
      "    Ystd=np.zeros(n)\n",
      "    Ynorm = np.zeros(np.shape(Y))\n",
      "    for i in range(n): #1 to 32\n",
      "        idx = np.where(R.iloc[:,i]==False)[0]\n",
      "\n",
      "        Ymean[i] = np.mean(Y.iloc[idx, i])\n",
      "        Ystd[i]=np.std(Y.iloc[idx,i])\n",
      "        Ynorm[idx, i] = (Y.iloc[idx, i] - Ymean[i])/Ystd[i]\n",
      "\n",
      "    return Ynorm, Ymean, Ystd"
     ],
     "language": "python",
     "metadata": {},
     "outputs": [],
     "prompt_number": 68
    },
    {
     "cell_type": "code",
     "collapsed": false,
     "input": [
      "#HELPER 2\n",
      "#import pandas as pd\n",
      "def normalizeDataFrame(data_frame):\n",
      "    '''scales feature data frame; takes pandas data frame as input; \n",
      "    returns scaled data frame, vector of means for all variables, \n",
      "    vector of standard variations for all variables, \n",
      "    '''\n",
      "    \n",
      "    dfo_col_mean_vector=data_frame.mean(axis=0)\n",
      "    dfo_centered=data_frame.subtract(dfo_col_mean_vector,axis=1)\n",
      "    \n",
      "    dfo_col_std_vector=data_frame.std(axis=0)\n",
      "    dfo_normalized=dfo_centered.divide(initial_std,axis=1)\n",
      "    \n",
      "    return dfo_normalized, dfo_col_mean_vector, dfo_col_std_vector\n"
     ],
     "language": "python",
     "metadata": {},
     "outputs": [],
     "prompt_number": 69
    },
    {
     "cell_type": "code",
     "collapsed": false,
     "input": [
      "#normalizeDataFrame(dfo)\n",
      "dfo_normalized.head()\n",
      "\n"
     ],
     "language": "python",
     "metadata": {},
     "outputs": [
      {
       "html": [
        "<div style=\"max-height:1000px;max-width:1500px;overflow:auto;\">\n",
        "<table border=\"1\" class=\"dataframe\">\n",
        "  <thead>\n",
        "    <tr style=\"text-align: right;\">\n",
        "      <th></th>\n",
        "      <th>time_pf</th>\n",
        "      <th>meiotic</th>\n",
        "      <th>cell_diameter_um</th>\n",
        "      <th>spindle_length__asters_um</th>\n",
        "      <th>spindle_length_poles_um</th>\n",
        "      <th>spindle_width_um</th>\n",
        "      <th>spindle_aspect_ratio_asters_um</th>\n",
        "      <th>spindle_aspect_ratio_poles_um</th>\n",
        "      <th>astere-to-pole_distance_1_um</th>\n",
        "      <th>aster-to-pole_distance_2_um</th>\n",
        "      <th>...</th>\n",
        "      <th>chromosomes</th>\n",
        "      <th>num_of_cells_CAT</th>\n",
        "      <th>num_of_cells_NUM</th>\n",
        "      <th>classification_CAT</th>\n",
        "      <th>phylum_CAT</th>\n",
        "      <th>organism_CAT</th>\n",
        "      <th>cleavage_type_CAT</th>\n",
        "      <th>fixation_CAT</th>\n",
        "      <th>microscope_CAT</th>\n",
        "      <th>stage_CAT</th>\n",
        "    </tr>\n",
        "  </thead>\n",
        "  <tbody>\n",
        "    <tr>\n",
        "      <th>0</th>\n",
        "      <td>-0.053556</td>\n",
        "      <td>-0.556238</td>\n",
        "      <td> 0.437291</td>\n",
        "      <td> 0.591333</td>\n",
        "      <td> 0.312783</td>\n",
        "      <td> 0.543560</td>\n",
        "      <td> 0.120718</td>\n",
        "      <td>-0.241655</td>\n",
        "      <td> 0.551522</td>\n",
        "      <td> 0.667818</td>\n",
        "      <td>...</td>\n",
        "      <td> 0.576924</td>\n",
        "      <td>-0.813297</td>\n",
        "      <td>-0.518265</td>\n",
        "      <td>-0.847039</td>\n",
        "      <td>-1.082553</td>\n",
        "      <td>-1.356934</td>\n",
        "      <td>-1.112928</td>\n",
        "      <td>-2.002214</td>\n",
        "      <td>-0.48226</td>\n",
        "      <td>-0.805233</td>\n",
        "    </tr>\n",
        "    <tr>\n",
        "      <th>1</th>\n",
        "      <td>-0.053556</td>\n",
        "      <td>-0.556238</td>\n",
        "      <td> 0.343757</td>\n",
        "      <td>-0.319030</td>\n",
        "      <td>-0.340153</td>\n",
        "      <td>-0.285322</td>\n",
        "      <td>-0.156427</td>\n",
        "      <td>-0.215209</td>\n",
        "      <td>-0.501287</td>\n",
        "      <td>-0.433035</td>\n",
        "      <td>...</td>\n",
        "      <td> 0.576924</td>\n",
        "      <td>-0.813297</td>\n",
        "      <td>-0.518265</td>\n",
        "      <td>-0.847039</td>\n",
        "      <td>-1.082553</td>\n",
        "      <td>-1.356934</td>\n",
        "      <td>-1.112928</td>\n",
        "      <td>-2.002214</td>\n",
        "      <td>-0.48226</td>\n",
        "      <td>-0.360312</td>\n",
        "    </tr>\n",
        "    <tr>\n",
        "      <th>2</th>\n",
        "      <td>-0.053556</td>\n",
        "      <td>-0.556238</td>\n",
        "      <td> 0.615856</td>\n",
        "      <td> 0.244825</td>\n",
        "      <td> 0.405674</td>\n",
        "      <td> 0.576476</td>\n",
        "      <td>-0.226059</td>\n",
        "      <td>-0.185275</td>\n",
        "      <td>-0.501287</td>\n",
        "      <td>-0.433035</td>\n",
        "      <td>...</td>\n",
        "      <td> 0.576924</td>\n",
        "      <td>-0.813297</td>\n",
        "      <td>-0.518265</td>\n",
        "      <td>-0.847039</td>\n",
        "      <td>-1.082553</td>\n",
        "      <td>-1.356934</td>\n",
        "      <td>-1.112928</td>\n",
        "      <td>-2.002214</td>\n",
        "      <td>-0.48226</td>\n",
        "      <td> 0.084609</td>\n",
        "    </tr>\n",
        "    <tr>\n",
        "      <th>3</th>\n",
        "      <td>-0.053556</td>\n",
        "      <td>-0.556238</td>\n",
        "      <td> 0.540045</td>\n",
        "      <td> 0.647452</td>\n",
        "      <td> 1.667119</td>\n",
        "      <td> 1.100137</td>\n",
        "      <td>-0.203678</td>\n",
        "      <td> 0.402594</td>\n",
        "      <td>-0.501287</td>\n",
        "      <td>-0.433035</td>\n",
        "      <td>...</td>\n",
        "      <td> 0.576924</td>\n",
        "      <td>-0.813297</td>\n",
        "      <td>-0.518265</td>\n",
        "      <td>-0.847039</td>\n",
        "      <td>-1.082553</td>\n",
        "      <td>-1.356934</td>\n",
        "      <td>-1.112928</td>\n",
        "      <td>-2.002214</td>\n",
        "      <td>-0.48226</td>\n",
        "      <td>-0.360312</td>\n",
        "    </tr>\n",
        "    <tr>\n",
        "      <th>4</th>\n",
        "      <td>-0.053556</td>\n",
        "      <td>-0.556238</td>\n",
        "      <td> 0.453375</td>\n",
        "      <td>      NaN</td>\n",
        "      <td>      NaN</td>\n",
        "      <td>      NaN</td>\n",
        "      <td>      NaN</td>\n",
        "      <td>      NaN</td>\n",
        "      <td>      NaN</td>\n",
        "      <td>      NaN</td>\n",
        "      <td>...</td>\n",
        "      <td> 0.576924</td>\n",
        "      <td>-0.813297</td>\n",
        "      <td>-0.518265</td>\n",
        "      <td>-0.847039</td>\n",
        "      <td>-1.082553</td>\n",
        "      <td>-1.356934</td>\n",
        "      <td>-1.112928</td>\n",
        "      <td>-2.002214</td>\n",
        "      <td>-0.48226</td>\n",
        "      <td>      NaN</td>\n",
        "    </tr>\n",
        "  </tbody>\n",
        "</table>\n",
        "<p>5 rows \u00d7 32 columns</p>\n",
        "</div>"
       ],
       "metadata": {},
       "output_type": "pyout",
       "prompt_number": 70,
       "text": [
        "    time_pf   meiotic  cell_diameter_um  spindle_length__asters_um  \\\n",
        "0 -0.053556 -0.556238          0.437291                   0.591333   \n",
        "1 -0.053556 -0.556238          0.343757                  -0.319030   \n",
        "2 -0.053556 -0.556238          0.615856                   0.244825   \n",
        "3 -0.053556 -0.556238          0.540045                   0.647452   \n",
        "4 -0.053556 -0.556238          0.453375                        NaN   \n",
        "\n",
        "   spindle_length_poles_um  spindle_width_um  spindle_aspect_ratio_asters_um  \\\n",
        "0                 0.312783          0.543560                        0.120718   \n",
        "1                -0.340153         -0.285322                       -0.156427   \n",
        "2                 0.405674          0.576476                       -0.226059   \n",
        "3                 1.667119          1.100137                       -0.203678   \n",
        "4                      NaN               NaN                             NaN   \n",
        "\n",
        "   spindle_aspect_ratio_poles_um  astere-to-pole_distance_1_um  \\\n",
        "0                      -0.241655                      0.551522   \n",
        "1                      -0.215209                     -0.501287   \n",
        "2                      -0.185275                     -0.501287   \n",
        "3                       0.402594                     -0.501287   \n",
        "4                            NaN                           NaN   \n",
        "\n",
        "   aster-to-pole_distance_2_um    ...      chromosomes  num_of_cells_CAT  \\\n",
        "0                     0.667818    ...         0.576924         -0.813297   \n",
        "1                    -0.433035    ...         0.576924         -0.813297   \n",
        "2                    -0.433035    ...         0.576924         -0.813297   \n",
        "3                    -0.433035    ...         0.576924         -0.813297   \n",
        "4                          NaN    ...         0.576924         -0.813297   \n",
        "\n",
        "   num_of_cells_NUM  classification_CAT  phylum_CAT  organism_CAT  \\\n",
        "0         -0.518265           -0.847039   -1.082553     -1.356934   \n",
        "1         -0.518265           -0.847039   -1.082553     -1.356934   \n",
        "2         -0.518265           -0.847039   -1.082553     -1.356934   \n",
        "3         -0.518265           -0.847039   -1.082553     -1.356934   \n",
        "4         -0.518265           -0.847039   -1.082553     -1.356934   \n",
        "\n",
        "   cleavage_type_CAT  fixation_CAT  microscope_CAT  stage_CAT  \n",
        "0          -1.112928     -2.002214        -0.48226  -0.805233  \n",
        "1          -1.112928     -2.002214        -0.48226  -0.360312  \n",
        "2          -1.112928     -2.002214        -0.48226   0.084609  \n",
        "3          -1.112928     -2.002214        -0.48226  -0.360312  \n",
        "4          -1.112928     -2.002214        -0.48226        NaN  \n",
        "\n",
        "[5 rows x 32 columns]"
       ]
      }
     ],
     "prompt_number": 70
    },
    {
     "cell_type": "code",
     "collapsed": false,
     "input": [
      "plt.figure(figsize=(10,5))\n",
      "plt.subplot(121)\n",
      "visualizeDataFrame(dfo,title='Input Data Frame before normalization')\n",
      "plt.subplot(122)\n",
      "visualizeDataFrame(dfo_normalized, title='Data Frame after column scaling')"
     ],
     "language": "python",
     "metadata": {},
     "outputs": [
      {
       "metadata": {},
       "output_type": "display_data",
       "png": "[encoded data removed]",
       "text": [
        "<matplotlib.figure.Figure at 0x11070db90>"
       ]
      }
     ],
     "prompt_number": 71
    },
    {
     "cell_type": "code",
     "collapsed": false,
     "input": [
      "#scipy.optimize.fmin_cg\n",
      "\n",
      "#http://en.wikipedia.org/wiki/Low-rank_approximation"
     ],
     "language": "python",
     "metadata": {},
     "outputs": [],
     "prompt_number": 72
    },
    {
     "cell_type": "code",
     "collapsed": false,
     "input": [
      "#HELPER 3\n",
      "#after cofiCostFunc.m\n",
      "def cofiCostFunc(params, Y, R, num_users, num_movies, num_features, lambda_):\n",
      "    '''COFICOSTFUNC Collaborative filtering cost function\n",
      "        J, grad = COFICOSTFUNC(params, Y, R, num_users, num_movies, num_features, lambda_)\n",
      "        returns the cost and gradient for the collaborative filtering problem.\n",
      "    \n",
      "\n",
      "        Unfold the U and W matrices from params\n",
      "        params is a result from: np.hstack((X.ravel('F'), Theta.ravel('F')))\n",
      "    '''\n",
      "    X = np.reshape(params[:num_movies*num_features], (num_movies, num_features), order='F')\n",
      "    Theta = np.reshape(params[num_movies*num_features:], (num_users, num_features), order='F')\n",
      "\n",
      "\n",
      "    # You need to return the following values correctly\n",
      "    J = 0\n",
      "    X_grad = np.zeros(np.shape(X))\n",
      "    Theta_grad = np.zeros(np.shape(Theta))\n",
      "\n",
      "    # ====================== YOUR CODE HERE ======================\n",
      "    # Instructions: Compute the cost function and gradient for collaborative\n",
      "    #               filtering. Concretely, you should first implement the cost\n",
      "    #               function (without regularization) and make sure it is\n",
      "    #               matches our costs. After that, you should implement the\n",
      "    #               gradient and use the checkCostFunction routine to check\n",
      "    #               that the gradient is correct. Finally, you should implement\n",
      "    #               regularization.\n",
      "    #\n",
      "    # Notes: X - num_movies  x num_features matrix of movie features\n",
      "    #        Theta - num_users  x num_features matrix of user features\n",
      "    #        Y - num_movies x num_users matrix of user ratings of movies\n",
      "    #        R - num_movies x num_users matrix, where R(i, j) = 1 if the\n",
      "    #            i-th movie was rated by the j-th user\n",
      "    #\n",
      "    # You should set the following variables correctly:\n",
      "    #\n",
      "    #        X_grad - num_movies x num_features matrix, containing the\n",
      "    #                 partial derivatives w.r.t. to each element of X\n",
      "    #        Theta_grad - num_users x num_features matrix, containing the\n",
      "    #                     partial derivatives w.r.t. to each element of Theta\n",
      "    #\n",
      "    \n",
      "    ###   NOT REGULARIZED   ###\n",
      "    #J is a scalar\n",
      "    #J=0.5*sum(sum(bsxfun(@times,(X*Theta'-Y).^2,R)));\n",
      "\n",
      "    J=0.5*np.sum(((np.dot(X,Theta.T)-Y)**2)*R) ###PART 2\n",
      "\n",
      "    #these two are matrices:\n",
      "    #X_grad = zeros(size(X)); 5 x 3\n",
      "    #Theta_grad = zeros(size(Theta)); 4 x 3\n",
      "\n",
      "    #bsxfun(@times,(X*Theta'-Y),R) cleans up the first part\n",
      "    \n",
      "    ##X_grad = bsxfun(@times,(X*Theta'-Y),R)*Theta; ###PART 3\n",
      "    X_grad=np.dot((np.dot(X,Theta.T)-Y)*R,Theta)\n",
      "\n",
      "    ##Theta_grad = bsxfun(@times,(X*Theta'-Y),R)'*X; ###PART 3\n",
      "    Theta_grad =np.dot(((np.dot(X,Theta.T)-Y)*R).T,X)\n",
      "  \n",
      "    ###    REGULARIZED   ###\n",
      "    ##J=J + (lambda/2)*sum(sum(Theta.^2))+(lambda/2)*sum(sum(X.^2)); ###PART 4\n",
      "    J=J+(lambda_/2)*np.sum(Theta**2)+(lambda_/2)*np.sum(X**2)\n",
      "    X_grad = X_grad + lambda_*X  ###PART 5\n",
      "    Theta_grad = Theta_grad + lambda_*Theta  ###PART 5\n",
      "\n",
      "\n",
      "    grad = np.hstack((X_grad.ravel('F'), Theta_grad.ravel('F')))\n",
      "\n",
      "    return J, grad"
     ],
     "language": "python",
     "metadata": {},
     "outputs": [],
     "prompt_number": 73
    },
    {
     "cell_type": "code",
     "collapsed": false,
     "input": [
      "def computeNumericalGradient(J, theta):\n",
      "    #COMPUTENUMERICALGRADIENT Computes the gradient using \"finite differences\"\n",
      "    #and gives us a numerical estimate of the gradient.\n",
      "    #   numgrad = COMPUTENUMERICALGRADIENT(J, theta) computes the numerical\n",
      "    #   gradient of the function J around theta. Calling y = J(theta) should\n",
      "    #   return the function value at theta.\n",
      "\n",
      "    # Notes: The following code implements numerical gradient checking, and\n",
      "    #        returns the numerical gradient.It sets numgrad[i] to (a numerical\n",
      "    #        approximation of) the partial derivative of J with respect to the\n",
      "    #        i-th input argument, evaluated at theta. (i.e., numgrad[i] should\n",
      "    #        be the (approximately) the partial derivative of J with respect\n",
      "    #        to theta[i].)\n",
      "    #\n",
      "\n",
      "    numgrad = np.zeros(np.shape(theta))\n",
      "    perturb = np.zeros(np.shape(theta))\n",
      "    e = 1e-4\n",
      "    for p in np.ndindex(np.shape(theta)):\n",
      "        # Set perturbation vector\n",
      "        perturb[p] = e\n",
      "        loss1, _ = J(theta - perturb)\n",
      "        loss2, _ = J(theta + perturb)\n",
      "        # Compute Numerical Gradient\n",
      "        numgrad[p] = (loss2 - loss1) / (2*e)\n",
      "        perturb[p] = 0\n",
      "\n",
      "    return numgrad"
     ],
     "language": "python",
     "metadata": {},
     "outputs": [],
     "prompt_number": 74
    },
    {
     "cell_type": "code",
     "collapsed": false,
     "input": [
      "#from numpy import *\n",
      "#from cofiCostFunc import cofiCostFunc\n",
      "\n",
      "def checkCostFunction(lambda_=0):\n",
      "    '''CHECKCOSTFUNCTION Creates a collaborative filering problem\n",
      "    #to check your cost function and gradients\n",
      "    #   CHECKCOSTFUNCTION(lambda_) Creates a collaborative filering problem\n",
      "    #   to check your cost function and gradients, it will output the\n",
      "    #   analytical gradients produced by your code and the numerical gradients\n",
      "    #   (computed using computeNumericalGradient). These two gradient\n",
      "    #   computations should result in very similar values.\n",
      "    '''\n",
      "    ## Create small problem\n",
      "    X_t = np.random.rand(4, 3)\n",
      "    Theta_t = np.random.rand(5, 3)\n",
      "\n",
      "    # Zap out most entries\n",
      "    Y = np.dot(X_t, Theta_t.T)\n",
      "    Y[np.random.rand(*np.shape(Y)) > 0.5] = 0\n",
      "    R = np.where(Y == 0, 0, 1)\n",
      "\n",
      "    ## Run Gradient Checking\n",
      "    X = np.random.randn(*np.shape(X_t))\n",
      "    Theta = np.random.randn(*np.shape(Theta_t))\n",
      "    num_users = np.size(Y, 1)\n",
      "    num_movies = np.size(Y, 0)\n",
      "    num_features = np.size(Theta_t, 1)\n",
      "\n",
      "    numgrad = computeNumericalGradient(\n",
      "        lambda t: cofiCostFunc(t, Y, R, num_users, num_movies, num_features, lambda_),\n",
      "        np.hstack((X.ravel('F'), Theta.ravel('F'))))\n",
      "\n",
      "    cost, grad = cofiCostFunc(np.hstack((X.ravel('F'), Theta.ravel('F'))), Y, R,\n",
      "                              num_users, num_movies, num_features, lambda_)\n",
      "\n",
      "    print np.column_stack((numgrad, grad))\n",
      "\n",
      "    print 'The above two columns you get should be very similar.'\n",
      "    print '(Left-Your Numerical Gradient, Right-Analytical Gradient)\\n'\n",
      "\n",
      "    diff = np.linalg.norm(numgrad-grad) / np.linalg.norm(numgrad+grad)\n",
      "    print 'If your backpropagation implementation is correct, then'\n",
      "    print 'the relative difference will be small (less than 1e-9).'\n",
      "    print '\\nRelative Difference: %g' % diff"
     ],
     "language": "python",
     "metadata": {},
     "outputs": [],
     "prompt_number": 75
    },
    {
     "cell_type": "code",
     "collapsed": false,
     "input": [
      "checkCostFunction()"
     ],
     "language": "python",
     "metadata": {},
     "outputs": [
      {
       "output_type": "stream",
       "stream": "stdout",
       "text": [
        "[[  1.53357633e+00   1.53357633e+00]\n",
        " [  7.55435812e-01   7.55435812e-01]\n",
        " [ -2.12055968e+00  -2.12055968e+00]\n",
        " [ -2.74917016e+00  -2.74917016e+00]\n",
        " [  2.74675249e-03   2.74675248e-03]\n",
        " [ -3.40783998e-01  -3.40783998e-01]\n",
        " [ -3.72634969e-01  -3.72634969e-01]\n",
        " [ -4.72698711e-01  -4.72698712e-01]\n",
        " [  3.01862332e+00   3.01862332e+00]\n",
        " [  1.60148850e+00   1.60148850e+00]\n",
        " [ -2.37222273e+00  -2.37222273e+00]\n",
        " [ -2.97911036e+00  -2.97911036e+00]\n",
        " [  2.86510247e+00   2.86510247e+00]\n",
        " [  2.78362329e-01   2.78362329e-01]\n",
        " [  5.30229571e+00   5.30229571e+00]\n",
        " [ -2.48971680e-01  -2.48971680e-01]\n",
        " [  0.00000000e+00   0.00000000e+00]\n",
        " [ -2.00180966e+00  -2.00180966e+00]\n",
        " [ -3.75128583e-01  -3.75128583e-01]\n",
        " [ -2.61691930e+00  -2.61691930e+00]\n",
        " [ -2.37678689e-01  -2.37678689e-01]\n",
        " [  0.00000000e+00   0.00000000e+00]\n",
        " [ -4.38884930e+00  -4.38884930e+00]\n",
        " [ -6.68774298e-01  -6.68774298e-01]\n",
        " [  1.27888840e+00   1.27888840e+00]\n",
        " [ -2.39157646e-01  -2.39157646e-01]\n",
        " [  0.00000000e+00   0.00000000e+00]]\n",
        "The above two columns you get should be very similar.\n",
        "(Left-Your Numerical Gradient, Right-Analytical Gradient)\n",
        "\n",
        "If your backpropagation implementation is correct, then\n",
        "the relative difference will be small (less than 1e-9).\n",
        "\n",
        "Relative Difference: 7.73676e-13\n"
       ]
      }
     ],
     "prompt_number": 76
    },
    {
     "cell_type": "code",
     "collapsed": false,
     "input": [
      "#Initialize parameters"
     ],
     "language": "python",
     "metadata": {},
     "outputs": [],
     "prompt_number": 77
    },
    {
     "cell_type": "code",
     "collapsed": false,
     "input": [
      "dfo_normalized.head()"
     ],
     "language": "python",
     "metadata": {},
     "outputs": [
      {
       "html": [
        "<div style=\"max-height:1000px;max-width:1500px;overflow:auto;\">\n",
        "<table border=\"1\" class=\"dataframe\">\n",
        "  <thead>\n",
        "    <tr style=\"text-align: right;\">\n",
        "      <th></th>\n",
        "      <th>time_pf</th>\n",
        "      <th>meiotic</th>\n",
        "      <th>cell_diameter_um</th>\n",
        "      <th>spindle_length__asters_um</th>\n",
        "      <th>spindle_length_poles_um</th>\n",
        "      <th>spindle_width_um</th>\n",
        "      <th>spindle_aspect_ratio_asters_um</th>\n",
        "      <th>spindle_aspect_ratio_poles_um</th>\n",
        "      <th>astere-to-pole_distance_1_um</th>\n",
        "      <th>aster-to-pole_distance_2_um</th>\n",
        "      <th>...</th>\n",
        "      <th>chromosomes</th>\n",
        "      <th>num_of_cells_CAT</th>\n",
        "      <th>num_of_cells_NUM</th>\n",
        "      <th>classification_CAT</th>\n",
        "      <th>phylum_CAT</th>\n",
        "      <th>organism_CAT</th>\n",
        "      <th>cleavage_type_CAT</th>\n",
        "      <th>fixation_CAT</th>\n",
        "      <th>microscope_CAT</th>\n",
        "      <th>stage_CAT</th>\n",
        "    </tr>\n",
        "  </thead>\n",
        "  <tbody>\n",
        "    <tr>\n",
        "      <th>0</th>\n",
        "      <td>-0.053556</td>\n",
        "      <td>-0.556238</td>\n",
        "      <td> 0.437291</td>\n",
        "      <td> 0.591333</td>\n",
        "      <td> 0.312783</td>\n",
        "      <td> 0.543560</td>\n",
        "      <td> 0.120718</td>\n",
        "      <td>-0.241655</td>\n",
        "      <td> 0.551522</td>\n",
        "      <td> 0.667818</td>\n",
        "      <td>...</td>\n",
        "      <td> 0.576924</td>\n",
        "      <td>-0.813297</td>\n",
        "      <td>-0.518265</td>\n",
        "      <td>-0.847039</td>\n",
        "      <td>-1.082553</td>\n",
        "      <td>-1.356934</td>\n",
        "      <td>-1.112928</td>\n",
        "      <td>-2.002214</td>\n",
        "      <td>-0.48226</td>\n",
        "      <td>-0.805233</td>\n",
        "    </tr>\n",
        "    <tr>\n",
        "      <th>1</th>\n",
        "      <td>-0.053556</td>\n",
        "      <td>-0.556238</td>\n",
        "      <td> 0.343757</td>\n",
        "      <td>-0.319030</td>\n",
        "      <td>-0.340153</td>\n",
        "      <td>-0.285322</td>\n",
        "      <td>-0.156427</td>\n",
        "      <td>-0.215209</td>\n",
        "      <td>-0.501287</td>\n",
        "      <td>-0.433035</td>\n",
        "      <td>...</td>\n",
        "      <td> 0.576924</td>\n",
        "      <td>-0.813297</td>\n",
        "      <td>-0.518265</td>\n",
        "      <td>-0.847039</td>\n",
        "      <td>-1.082553</td>\n",
        "      <td>-1.356934</td>\n",
        "      <td>-1.112928</td>\n",
        "      <td>-2.002214</td>\n",
        "      <td>-0.48226</td>\n",
        "      <td>-0.360312</td>\n",
        "    </tr>\n",
        "    <tr>\n",
        "      <th>2</th>\n",
        "      <td>-0.053556</td>\n",
        "      <td>-0.556238</td>\n",
        "      <td> 0.615856</td>\n",
        "      <td> 0.244825</td>\n",
        "      <td> 0.405674</td>\n",
        "      <td> 0.576476</td>\n",
        "      <td>-0.226059</td>\n",
        "      <td>-0.185275</td>\n",
        "      <td>-0.501287</td>\n",
        "      <td>-0.433035</td>\n",
        "      <td>...</td>\n",
        "      <td> 0.576924</td>\n",
        "      <td>-0.813297</td>\n",
        "      <td>-0.518265</td>\n",
        "      <td>-0.847039</td>\n",
        "      <td>-1.082553</td>\n",
        "      <td>-1.356934</td>\n",
        "      <td>-1.112928</td>\n",
        "      <td>-2.002214</td>\n",
        "      <td>-0.48226</td>\n",
        "      <td> 0.084609</td>\n",
        "    </tr>\n",
        "    <tr>\n",
        "      <th>3</th>\n",
        "      <td>-0.053556</td>\n",
        "      <td>-0.556238</td>\n",
        "      <td> 0.540045</td>\n",
        "      <td> 0.647452</td>\n",
        "      <td> 1.667119</td>\n",
        "      <td> 1.100137</td>\n",
        "      <td>-0.203678</td>\n",
        "      <td> 0.402594</td>\n",
        "      <td>-0.501287</td>\n",
        "      <td>-0.433035</td>\n",
        "      <td>...</td>\n",
        "      <td> 0.576924</td>\n",
        "      <td>-0.813297</td>\n",
        "      <td>-0.518265</td>\n",
        "      <td>-0.847039</td>\n",
        "      <td>-1.082553</td>\n",
        "      <td>-1.356934</td>\n",
        "      <td>-1.112928</td>\n",
        "      <td>-2.002214</td>\n",
        "      <td>-0.48226</td>\n",
        "      <td>-0.360312</td>\n",
        "    </tr>\n",
        "    <tr>\n",
        "      <th>4</th>\n",
        "      <td>-0.053556</td>\n",
        "      <td>-0.556238</td>\n",
        "      <td> 0.453375</td>\n",
        "      <td>      NaN</td>\n",
        "      <td>      NaN</td>\n",
        "      <td>      NaN</td>\n",
        "      <td>      NaN</td>\n",
        "      <td>      NaN</td>\n",
        "      <td>      NaN</td>\n",
        "      <td>      NaN</td>\n",
        "      <td>...</td>\n",
        "      <td> 0.576924</td>\n",
        "      <td>-0.813297</td>\n",
        "      <td>-0.518265</td>\n",
        "      <td>-0.847039</td>\n",
        "      <td>-1.082553</td>\n",
        "      <td>-1.356934</td>\n",
        "      <td>-1.112928</td>\n",
        "      <td>-2.002214</td>\n",
        "      <td>-0.48226</td>\n",
        "      <td>      NaN</td>\n",
        "    </tr>\n",
        "  </tbody>\n",
        "</table>\n",
        "<p>5 rows \u00d7 32 columns</p>\n",
        "</div>"
       ],
       "metadata": {},
       "output_type": "pyout",
       "prompt_number": 78,
       "text": [
        "    time_pf   meiotic  cell_diameter_um  spindle_length__asters_um  \\\n",
        "0 -0.053556 -0.556238          0.437291                   0.591333   \n",
        "1 -0.053556 -0.556238          0.343757                  -0.319030   \n",
        "2 -0.053556 -0.556238          0.615856                   0.244825   \n",
        "3 -0.053556 -0.556238          0.540045                   0.647452   \n",
        "4 -0.053556 -0.556238          0.453375                        NaN   \n",
        "\n",
        "   spindle_length_poles_um  spindle_width_um  spindle_aspect_ratio_asters_um  \\\n",
        "0                 0.312783          0.543560                        0.120718   \n",
        "1                -0.340153         -0.285322                       -0.156427   \n",
        "2                 0.405674          0.576476                       -0.226059   \n",
        "3                 1.667119          1.100137                       -0.203678   \n",
        "4                      NaN               NaN                             NaN   \n",
        "\n",
        "   spindle_aspect_ratio_poles_um  astere-to-pole_distance_1_um  \\\n",
        "0                      -0.241655                      0.551522   \n",
        "1                      -0.215209                     -0.501287   \n",
        "2                      -0.185275                     -0.501287   \n",
        "3                       0.402594                     -0.501287   \n",
        "4                            NaN                           NaN   \n",
        "\n",
        "   aster-to-pole_distance_2_um    ...      chromosomes  num_of_cells_CAT  \\\n",
        "0                     0.667818    ...         0.576924         -0.813297   \n",
        "1                    -0.433035    ...         0.576924         -0.813297   \n",
        "2                    -0.433035    ...         0.576924         -0.813297   \n",
        "3                    -0.433035    ...         0.576924         -0.813297   \n",
        "4                          NaN    ...         0.576924         -0.813297   \n",
        "\n",
        "   num_of_cells_NUM  classification_CAT  phylum_CAT  organism_CAT  \\\n",
        "0         -0.518265           -0.847039   -1.082553     -1.356934   \n",
        "1         -0.518265           -0.847039   -1.082553     -1.356934   \n",
        "2         -0.518265           -0.847039   -1.082553     -1.356934   \n",
        "3         -0.518265           -0.847039   -1.082553     -1.356934   \n",
        "4         -0.518265           -0.847039   -1.082553     -1.356934   \n",
        "\n",
        "   cleavage_type_CAT  fixation_CAT  microscope_CAT  stage_CAT  \n",
        "0          -1.112928     -2.002214        -0.48226  -0.805233  \n",
        "1          -1.112928     -2.002214        -0.48226  -0.360312  \n",
        "2          -1.112928     -2.002214        -0.48226   0.084609  \n",
        "3          -1.112928     -2.002214        -0.48226  -0.360312  \n",
        "4          -1.112928     -2.002214        -0.48226        NaN  \n",
        "\n",
        "[5 rows x 32 columns]"
       ]
      }
     ],
     "prompt_number": 78
    },
    {
     "cell_type": "code",
     "collapsed": false,
     "input": [
      "dfo_normalized.shape[0]"
     ],
     "language": "python",
     "metadata": {},
     "outputs": [
      {
       "metadata": {},
       "output_type": "pyout",
       "prompt_number": 79,
       "text": [
        "2001"
       ]
      }
     ],
     "prompt_number": 79
    },
    {
     "cell_type": "code",
     "collapsed": false,
     "input": [
      "num_features=30\n",
      "X = np.random.randn(dfo_normalized.shape[0], 30) #rows x num_features\n",
      "Theta = np.random.randn(dfo_normalized.shape[1], 30) #columns X num_features\n",
      "\n",
      "initial_parameters = serialize(X, Theta)\n",
      "Ynorm=dfo_normalized.values"
     ],
     "language": "python",
     "metadata": {},
     "outputs": [],
     "prompt_number": 80
    },
    {
     "cell_type": "code",
     "collapsed": false,
     "input": [
      "Ynorm[np.where(np.isnan(Ynorm))]=0"
     ],
     "language": "python",
     "metadata": {},
     "outputs": [],
     "prompt_number": 81
    },
    {
     "cell_type": "code",
     "collapsed": false,
     "input": [
      "Ynorm"
     ],
     "language": "python",
     "metadata": {},
     "outputs": [
      {
       "metadata": {},
       "output_type": "pyout",
       "prompt_number": 82,
       "text": [
        "array([[-0.05355552, -0.55623761,  0.43729099, ..., -2.00221399,\n",
        "        -0.48225996, -0.80523259],\n",
        "       [-0.05355552, -0.55623761,  0.34375705, ..., -2.00221399,\n",
        "        -0.48225996, -0.36031201],\n",
        "       [-0.05355552, -0.55623761,  0.61585578, ..., -2.00221399,\n",
        "        -0.48225996,  0.08460858],\n",
        "       ..., \n",
        "       [-0.48144369, -0.55623761, -0.23441979, ...,  0.        ,\n",
        "         0.        , -0.36031201],\n",
        "       [-0.48144369, -0.55623761, -0.23441979, ...,  0.        ,\n",
        "         0.        , -0.36031201],\n",
        "       [-0.48144369, -0.55623761, -0.22364925, ...,  0.        ,\n",
        "         0.        , -0.36031201]])"
       ]
      }
     ],
     "prompt_number": 82
    },
    {
     "cell_type": "code",
     "collapsed": false,
     "input": [
      "Ynorm.shape[1]"
     ],
     "language": "python",
     "metadata": {},
     "outputs": [
      {
       "metadata": {},
       "output_type": "pyout",
       "prompt_number": 83,
       "text": [
        "32"
       ]
      }
     ],
     "prompt_number": 83
    },
    {
     "cell_type": "code",
     "collapsed": false,
     "input": [
      "X.shape"
     ],
     "language": "python",
     "metadata": {},
     "outputs": [
      {
       "metadata": {},
       "output_type": "pyout",
       "prompt_number": 86,
       "text": [
        "(2001, 30)"
       ]
      }
     ],
     "prompt_number": 86
    },
    {
     "cell_type": "code",
     "collapsed": false,
     "input": [
      "Theta.shape"
     ],
     "language": "python",
     "metadata": {},
     "outputs": [
      {
       "metadata": {},
       "output_type": "pyout",
       "prompt_number": 87,
       "text": [
        "(32, 30)"
       ]
      }
     ],
     "prompt_number": 87
    },
    {
     "cell_type": "code",
     "collapsed": false,
     "input": [
      "R.shape"
     ],
     "language": "python",
     "metadata": {},
     "outputs": [
      {
       "metadata": {},
       "output_type": "pyout",
       "prompt_number": 88,
       "text": [
        "(2001, 32)"
       ]
      }
     ],
     "prompt_number": 88
    },
    {
     "cell_type": "code",
     "collapsed": false,
     "input": [
      "initial_parameters"
     ],
     "language": "python",
     "metadata": {},
     "outputs": [
      {
       "metadata": {},
       "output_type": "pyout",
       "prompt_number": 89,
       "text": [
        "array([ 2.15316117,  0.80101557, -0.59566613, ..., -0.71759902,\n",
        "        1.19206187,  0.24348648])"
       ]
      }
     ],
     "prompt_number": 89
    },
    {
     "cell_type": "code",
     "collapsed": false,
     "input": [
      "# Set Regularization\n",
      "lambda_ = 10\n",
      "extra_args = (Ynorm, R , Ynorm.shape[1], Ynorm.shape[0], num_features, lambda_)\n",
      "#extra_args = (Ynorm, R, num_users, num_movies, num_features, lambda_)\n",
      "#https://class.coursera.org/ml-003/forum/thread?thread_id=4664#post-22134"
     ],
     "language": "python",
     "metadata": {},
     "outputs": [],
     "prompt_number": 90
    },
    {
     "cell_type": "code",
     "collapsed": false,
     "input": [
      "from scipy.optimize import minimize"
     ],
     "language": "python",
     "metadata": {},
     "outputs": [],
     "prompt_number": 91
    },
    {
     "cell_type": "code",
     "collapsed": false,
     "input": [
      "num_users=Ynorm.shape[1]\n",
      "num_movies=Ynorm.shape[0]\n"
     ],
     "language": "python",
     "metadata": {},
     "outputs": [],
     "prompt_number": 92
    },
    {
     "cell_type": "code",
     "collapsed": false,
     "input": [
      "J, _ = cofiCostFunc(serialize(X, Theta), Ynorm, R, num_users, num_movies, num_features, 10.)\n",
      "\n",
      "print 'Cost at loaded parameters: %f ' % J"
     ],
     "language": "python",
     "metadata": {},
     "outputs": [
      {
       "output_type": "stream",
       "stream": "stdout",
       "text": [
        "Cost at loaded parameters: 1217277.315877 \n"
       ]
      }
     ],
     "prompt_number": 94
    },
    {
     "cell_type": "code",
     "collapsed": false,
     "input": [
      "import sys\n",
      "def callback(p): sys.stdout.write('.')\n",
      "\n",
      "res = minimize(cofiCostFunc, initial_parameters, extra_args, method='CG',\n",
      "               jac=True, options={'maxiter':100}, callback=callback)\n",
      "theta = res.x\n",
      "cost = res.fun\n",
      "\n",
      "print \"\\nFinal cost: %e\" % cost\n",
      "\n",
      "\n"
     ],
     "language": "python",
     "metadata": {},
     "outputs": [
      {
       "output_type": "stream",
       "stream": "stdout",
       "text": [
        "..."
       ]
      },
      {
       "output_type": "stream",
       "stream": "stdout",
       "text": [
        ".."
       ]
      },
      {
       "output_type": "stream",
       "stream": "stdout",
       "text": [
        "...."
       ]
      },
      {
       "output_type": "stream",
       "stream": "stdout",
       "text": [
        "..."
       ]
      },
      {
       "output_type": "stream",
       "stream": "stdout",
       "text": [
        "...."
       ]
      },
      {
       "output_type": "stream",
       "stream": "stdout",
       "text": [
        "....."
       ]
      },
      {
       "output_type": "stream",
       "stream": "stdout",
       "text": [
        "...."
       ]
      },
      {
       "output_type": "stream",
       "stream": "stdout",
       "text": [
        "....."
       ]
      },
      {
       "output_type": "stream",
       "stream": "stdout",
       "text": [
        "....."
       ]
      },
      {
       "output_type": "stream",
       "stream": "stdout",
       "text": [
        "....."
       ]
      },
      {
       "output_type": "stream",
       "stream": "stdout",
       "text": [
        "......"
       ]
      },
      {
       "output_type": "stream",
       "stream": "stdout",
       "text": [
        "....."
       ]
      },
      {
       "output_type": "stream",
       "stream": "stdout",
       "text": [
        "...."
       ]
      },
      {
       "output_type": "stream",
       "stream": "stdout",
       "text": [
        "......"
       ]
      },
      {
       "output_type": "stream",
       "stream": "stdout",
       "text": [
        "...."
       ]
      },
      {
       "output_type": "stream",
       "stream": "stdout",
       "text": [
        "....."
       ]
      },
      {
       "output_type": "stream",
       "stream": "stdout",
       "text": [
        "...."
       ]
      },
      {
       "output_type": "stream",
       "stream": "stdout",
       "text": [
        "....."
       ]
      },
      {
       "output_type": "stream",
       "stream": "stdout",
       "text": [
        "......"
       ]
      },
      {
       "output_type": "stream",
       "stream": "stdout",
       "text": [
        "....."
       ]
      },
      {
       "output_type": "stream",
       "stream": "stdout",
       "text": [
        "....."
       ]
      },
      {
       "output_type": "stream",
       "stream": "stdout",
       "text": [
        "....."
       ]
      },
      {
       "output_type": "stream",
       "stream": "stdout",
       "text": [
        "\n",
        "Final cost: 9.329503e+03\n"
       ]
      }
     ],
     "prompt_number": 95
    },
    {
     "cell_type": "code",
     "collapsed": false,
     "input": [
      "theta"
     ],
     "language": "python",
     "metadata": {},
     "outputs": [
      {
       "metadata": {},
       "output_type": "pyout",
       "prompt_number": 96,
       "text": [
        "array([ 0.14289746,  0.13545249,  0.15153625, ..., -0.30521614,\n",
        "        1.62742367, -0.05715224])"
       ]
      }
     ],
     "prompt_number": 96
    },
    {
     "cell_type": "code",
     "collapsed": false,
     "input": [],
     "language": "python",
     "metadata": {},
     "outputs": []
    },
    {
     "cell_type": "markdown",
     "metadata": {},
     "source": [
      "###TROUBLESHOOTING\n",
      "**The nan as an output does not make sense. Run some diagnostics and potential troubleshooting.**"
     ]
    },
    {
     "cell_type": "code",
     "collapsed": false,
     "input": [
      "res.x.shape"
     ],
     "language": "python",
     "metadata": {},
     "outputs": [
      {
       "metadata": {},
       "output_type": "pyout",
       "prompt_number": 83,
       "text": [
        "(60990,)"
       ]
      }
     ],
     "prompt_number": 83
    },
    {
     "cell_type": "code",
     "collapsed": false,
     "input": [
      "res.fun"
     ],
     "language": "python",
     "metadata": {},
     "outputs": [
      {
       "metadata": {},
       "output_type": "pyout",
       "prompt_number": 84,
       "text": [
        "nan"
       ]
      }
     ],
     "prompt_number": 84
    },
    {
     "cell_type": "code",
     "collapsed": false,
     "input": [
      "dfo_normalized.values.shape"
     ],
     "language": "python",
     "metadata": {},
     "outputs": [
      {
       "metadata": {},
       "output_type": "pyout",
       "prompt_number": 183,
       "text": [
        "(2001, 32)"
       ]
      }
     ],
     "prompt_number": 183
    },
    {
     "cell_type": "code",
     "collapsed": false,
     "input": [
      "R"
     ],
     "language": "python",
     "metadata": {},
     "outputs": [
      {
       "metadata": {},
       "output_type": "pyout",
       "prompt_number": 186,
       "text": [
        "array([[1, 1, 1, ..., 1, 1, 1],\n",
        "       [1, 1, 1, ..., 1, 1, 1],\n",
        "       [1, 1, 1, ..., 1, 1, 1],\n",
        "       ..., \n",
        "       [1, 1, 1, ..., 1, 1, 1],\n",
        "       [1, 1, 1, ..., 1, 1, 1],\n",
        "       [1, 1, 1, ..., 1, 1, 1]])"
       ]
      }
     ],
     "prompt_number": 186
    },
    {
     "cell_type": "code",
     "collapsed": false,
     "input": [
      "def cofiCostFunc(params, Y, R, num_users, num_movies, num_features, lambda_):\n",
      "    '''COFICOSTFUNC Collaborative filtering cost function\n",
      "        J, grad = COFICOSTFUNC(params, Y, R, num_users, num_movies, num_features, lambda_)\n",
      "        returns the cost and gradient for the collaborative filtering problem.\n",
      "    \n",
      "\n",
      "        Unfold the U and W matrices from params\n",
      "        params is a result from: np.hstack((X.ravel('F'), Theta.ravel('F')))\n",
      "    '''\n",
      "    X = np.reshape(params[:num_movies*num_features], (num_movies, num_features), order='F')\n",
      "    Theta = np.reshape(params[num_movies*num_features:], (num_users, num_features), order='F')\n",
      "\n",
      "\n",
      "    # You need to return the following values correctly\n",
      "    J = 0\n",
      "    X_grad = np.zeros(np.shape(X))\n",
      "    Theta_grad = np.zeros(np.shape(Theta))\n",
      "\n",
      "    ###   NOT REGULARIZED   ###\n",
      "    #J is a scalar\n",
      "    #J=0.5*sum(sum(bsxfun(@times,(X*Theta'-Y).^2,R)));\n",
      "\n",
      "    J=0.5*np.sum(((np.dot(X,Theta.T)-Y)**2)*R) ###PART 2\n",
      "\n",
      "    #these two are matrices:\n",
      "    #X_grad = zeros(size(X)); 5 x 3\n",
      "    #Theta_grad = zeros(size(Theta)); 4 x 3\n",
      "\n",
      "    #bsxfun(@times,(X*Theta'-Y),R) cleans up the first part\n",
      "    \n",
      "    ##X_grad = bsxfun(@times,(X*Theta'-Y),R)*Theta; ###PART 3\n",
      "    X_grad=np.dot((np.dot(X,Theta.T)-Y)*R,Theta)\n",
      "\n",
      "    ##Theta_grad = bsxfun(@times,(X*Theta'-Y),R)'*X; ###PART 3\n",
      "    Theta_grad =np.dot(((np.dot(X,Theta.T)-Y)*R).T,X)\n",
      "  \n",
      "    ###    REGULARIZED   ###\n",
      "    ##J=J + (lambda/2)*sum(sum(Theta.^2))+(lambda/2)*sum(sum(X.^2)); ###PART 4\n",
      "    J=J+(lambda_/2)*np.sum(Theta**2)+(lambda_/2)*np.sum(X**2)\n",
      "    X_grad = X_grad + lambda_*X  ###PART 5\n",
      "    Theta_grad = Theta_grad + lambda_*Theta  ###PART 5\n",
      "\n",
      "\n",
      "    grad = np.hstack((X_grad.ravel('F'), Theta_grad.ravel('F')))\n",
      "\n",
      "    return J, grad"
     ],
     "language": "python",
     "metadata": {},
     "outputs": []
    },
    {
     "cell_type": "code",
     "collapsed": false,
     "input": [
      "Ynorm[np.where(np.isnan(Ynorm))]=0"
     ],
     "language": "python",
     "metadata": {},
     "outputs": [],
     "prompt_number": 127
    },
    {
     "cell_type": "code",
     "collapsed": false,
     "input": [
      "Ynorm"
     ],
     "language": "python",
     "metadata": {},
     "outputs": [
      {
       "metadata": {},
       "output_type": "pyout",
       "prompt_number": 128,
       "text": [
        "array([[-0.05355552, -0.55623761,  0.43729099, ..., -2.00221399,\n",
        "        -0.48225996, -0.80523259],\n",
        "       [-0.05355552, -0.55623761,  0.34375705, ..., -2.00221399,\n",
        "        -0.48225996, -0.36031201],\n",
        "       [-0.05355552, -0.55623761,  0.61585578, ..., -2.00221399,\n",
        "        -0.48225996,  0.08460858],\n",
        "       ..., \n",
        "       [-0.48144369, -0.55623761, -0.23441979, ...,  0.        ,\n",
        "         0.        , -0.36031201],\n",
        "       [-0.48144369, -0.55623761, -0.23441979, ...,  0.        ,\n",
        "         0.        , -0.36031201],\n",
        "       [-0.48144369, -0.55623761, -0.22364925, ...,  0.        ,\n",
        "         0.        , -0.36031201]])"
       ]
      }
     ],
     "prompt_number": 128
    },
    {
     "cell_type": "code",
     "collapsed": false,
     "input": [
      "np.any(np.isnan(Ynorm)), np.all(np.isnan(Ynorm))"
     ],
     "language": "python",
     "metadata": {},
     "outputs": [
      {
       "metadata": {},
       "output_type": "pyout",
       "prompt_number": 104,
       "text": [
        "(True, False)"
       ]
      }
     ],
     "prompt_number": 104
    },
    {
     "cell_type": "code",
     "collapsed": false,
     "input": [
      "np.shape(np.where(np.isnan(Ynorm)))"
     ],
     "language": "python",
     "metadata": {},
     "outputs": [
      {
       "metadata": {},
       "output_type": "pyout",
       "prompt_number": 113,
       "text": [
        "(2, 5414)"
       ]
      }
     ],
     "prompt_number": 113
    },
    {
     "cell_type": "code",
     "collapsed": false,
     "input": [
      "np.shape(np.isnan(Ynorm))"
     ],
     "language": "python",
     "metadata": {},
     "outputs": [
      {
       "metadata": {},
       "output_type": "pyout",
       "prompt_number": 112,
       "text": [
        "(2001, 32)"
       ]
      }
     ],
     "prompt_number": 112
    },
    {
     "cell_type": "code",
     "collapsed": false,
     "input": [
      "np.where(np.isnan(Ynorm))"
     ],
     "language": "python",
     "metadata": {},
     "outputs": [
      {
       "metadata": {},
       "output_type": "pyout",
       "prompt_number": 114,
       "text": [
        "(array([   0,    0,    0, ..., 2000, 2000, 2000]),\n",
        " array([16, 17, 18, ..., 17, 29, 30]))"
       ]
      }
     ],
     "prompt_number": 114
    },
    {
     "cell_type": "code",
     "collapsed": false,
     "input": [
      "Ynorm[np.where(np.isnan(Ynorm))]"
     ],
     "language": "python",
     "metadata": {},
     "outputs": [
      {
       "metadata": {},
       "output_type": "pyout",
       "prompt_number": 115,
       "text": [
        "array([ nan,  nan,  nan, ...,  nan,  nan,  nan])"
       ]
      }
     ],
     "prompt_number": 115
    },
    {
     "cell_type": "code",
     "collapsed": false,
     "input": [
      "Ynorm_copy=Ynorm.copy()"
     ],
     "language": "python",
     "metadata": {},
     "outputs": [],
     "prompt_number": 117
    },
    {
     "cell_type": "code",
     "collapsed": false,
     "input": [
      "Ynorm_copy[np.where(np.isnan(Ynorm_copy))]=0"
     ],
     "language": "python",
     "metadata": {},
     "outputs": [],
     "prompt_number": 122
    },
    {
     "cell_type": "code",
     "collapsed": false,
     "input": [
      "Ynorm_copy"
     ],
     "language": "python",
     "metadata": {},
     "outputs": [
      {
       "metadata": {},
       "output_type": "pyout",
       "prompt_number": 123,
       "text": [
        "array([[-0.05355552, -0.55623761,  0.43729099, ..., -2.00221399,\n",
        "        -0.48225996, -0.80523259],\n",
        "       [-0.05355552, -0.55623761,  0.34375705, ..., -2.00221399,\n",
        "        -0.48225996, -0.36031201],\n",
        "       [-0.05355552, -0.55623761,  0.61585578, ..., -2.00221399,\n",
        "        -0.48225996,  0.08460858],\n",
        "       ..., \n",
        "       [-0.48144369, -0.55623761, -0.23441979, ...,  0.        ,\n",
        "         0.        , -0.36031201],\n",
        "       [-0.48144369, -0.55623761, -0.23441979, ...,  0.        ,\n",
        "         0.        , -0.36031201],\n",
        "       [-0.48144369, -0.55623761, -0.22364925, ...,  0.        ,\n",
        "         0.        , -0.36031201]])"
       ]
      }
     ],
     "prompt_number": 123
    },
    {
     "cell_type": "code",
     "collapsed": false,
     "input": [
      "J, _ = cofiCostFunc(serialize(X, Theta), Ynorm_copy, R, num_users, num_movies, num_features,10.0)\n",
      "\n",
      "print 'Cost at loaded parameters: %f ' % J"
     ],
     "language": "python",
     "metadata": {},
     "outputs": [
      {
       "output_type": "stream",
       "stream": "stdout",
       "text": [
        "Cost at loaded parameters: 1292909.828112 \n"
       ]
      }
     ],
     "prompt_number": 126
    },
    {
     "cell_type": "heading",
     "level": 6,
     "metadata": {},
     "source": [
      "END: The issue was with the nan's in the matrix. Substituted with 0 upon normalization."
     ]
    },
    {
     "cell_type": "heading",
     "level": 4,
     "metadata": {},
     "source": [
      "RECALCULATE MATRIX"
     ]
    },
    {
     "cell_type": "code",
     "collapsed": true,
     "input": [
      "# Unfold the returned theta back into U and W\n",
      "X = np.reshape(theta[:num_movies*num_features], (num_movies, num_features), order='F')\n",
      "Theta = np.reshape(theta[num_movies*num_features:], (num_users, num_features), order = 'F')\n",
      "print X.shape\n",
      "print Theta.shape\n",
      "\n"
     ],
     "language": "python",
     "metadata": {},
     "outputs": [
      {
       "output_type": "stream",
       "stream": "stdout",
       "text": [
        "(2001, 30)\n",
        "(32, 30)\n"
       ]
      }
     ],
     "prompt_number": 98
    },
    {
     "cell_type": "code",
     "collapsed": false,
     "input": [
      "predictedDF=np.dot(X,Theta.T)\n",
      "print predictedDF.shape"
     ],
     "language": "python",
     "metadata": {},
     "outputs": [
      {
       "output_type": "stream",
       "stream": "stdout",
       "text": [
        "(2001, 32)\n"
       ]
      }
     ],
     "prompt_number": 100
    },
    {
     "cell_type": "code",
     "collapsed": false,
     "input": [
      "Ynorm"
     ],
     "language": "python",
     "metadata": {},
     "outputs": [
      {
       "metadata": {},
       "output_type": "pyout",
       "prompt_number": 101,
       "text": [
        "array([[-0.05355552, -0.55623761,  0.43729099, ..., -2.00221399,\n",
        "        -0.48225996, -0.80523259],\n",
        "       [-0.05355552, -0.55623761,  0.34375705, ..., -2.00221399,\n",
        "        -0.48225996, -0.36031201],\n",
        "       [-0.05355552, -0.55623761,  0.61585578, ..., -2.00221399,\n",
        "        -0.48225996,  0.08460858],\n",
        "       ..., \n",
        "       [-0.48144369, -0.55623761, -0.23441979, ...,  0.        ,\n",
        "         0.        , -0.36031201],\n",
        "       [-0.48144369, -0.55623761, -0.23441979, ...,  0.        ,\n",
        "         0.        , -0.36031201],\n",
        "       [-0.48144369, -0.55623761, -0.22364925, ...,  0.        ,\n",
        "         0.        , -0.36031201]])"
       ]
      }
     ],
     "prompt_number": 101
    },
    {
     "cell_type": "code",
     "collapsed": false,
     "input": [
      "predictedDF"
     ],
     "language": "python",
     "metadata": {},
     "outputs": [
      {
       "metadata": {},
       "output_type": "pyout",
       "prompt_number": 104,
       "text": [
        "array([[-0.06979638, -0.4193392 ,  0.29592152, ..., -1.44660375,\n",
        "        -0.38850433, -0.64319374],\n",
        "       [-0.01838444, -0.28661077,  0.13135387, ..., -1.38269075,\n",
        "        -0.38147052, -0.3040445 ],\n",
        "       [-0.07320806, -0.15544792,  0.3900492 , ..., -1.41663033,\n",
        "        -0.37479206, -0.08277699],\n",
        "       ..., \n",
        "       [-0.50836834, -0.1125985 , -0.10088893, ...,  0.39209863,\n",
        "         0.51223104, -0.46146689],\n",
        "       [-0.51463554, -0.11865498, -0.09556107, ...,  0.38628801,\n",
        "         0.51603099, -0.46166214],\n",
        "       [-0.51251085, -0.11596059, -0.09019185, ...,  0.38988337,\n",
        "         0.5143956 , -0.46163607]])"
       ]
      }
     ],
     "prompt_number": 104
    },
    {
     "cell_type": "code",
     "collapsed": false,
     "input": [
      "predictedDF.shape"
     ],
     "language": "python",
     "metadata": {},
     "outputs": [
      {
       "metadata": {},
       "output_type": "pyout",
       "prompt_number": 107,
       "text": [
        "(2001, 32)"
       ]
      }
     ],
     "prompt_number": 107
    },
    {
     "cell_type": "code",
     "collapsed": false,
     "input": [
      "initial_std.shape"
     ],
     "language": "python",
     "metadata": {},
     "outputs": [
      {
       "metadata": {},
       "output_type": "pyout",
       "prompt_number": 108,
       "text": [
        "(32,)"
       ]
      }
     ],
     "prompt_number": 108
    },
    {
     "cell_type": "code",
     "collapsed": false,
     "input": [
      "initial_std, initial_means"
     ],
     "language": "python",
     "metadata": {},
     "outputs": [
      {
       "metadata": {},
       "output_type": "pyout",
       "prompt_number": 106,
       "text": [
        "(time_pf                             186.964737\n",
        " meiotic                               0.424966\n",
        " cell_diameter_um                    157.838006\n",
        " spindle_length__asters_um            18.152905\n",
        " spindle_length_poles_um              12.011064\n",
        " spindle_width_um                      5.403774\n",
        " spindle_aspect_ratio_asters_um        1.339841\n",
        " spindle_aspect_ratio_poles_um         0.962627\n",
        " astere-to-pole_distance_1_um          2.457425\n",
        " aster-to-pole_distance_2_um           2.643949\n",
        " inner_aster_diameter_1_um             7.610364\n",
        " inner_aster_diameter_2_um             6.839366\n",
        " outer_aster_diameter_1_um            30.094927\n",
        " outer__diameter_2_um                 24.792013\n",
        " centrosome                            0.266597\n",
        " metaphase_plate_lengt_h_um            4.126341\n",
        " metaphase_plate_width_um              1.901752\n",
        " metaphase_plate_aspect_ratio_um       1.206626\n",
        " polar_body_diameter_1_um              8.075802\n",
        " polar_body_diameter_2_um              2.345080\n",
        " distance_between_chromosomes_um       7.528474\n",
        " genome                             1099.155787\n",
        " chromosomes                          10.908621\n",
        " num_of_cells_CAT                      3.379052\n",
        " num_of_cells_NUM                     25.527277\n",
        " classification_CAT                    0.949894\n",
        " phylum_CAT                            2.229261\n",
        " organism_CAT                          3.701350\n",
        " cleavage_type_CAT                     1.982066\n",
        " fixation_CAT                          0.649576\n",
        " microscope_CAT                       13.034666\n",
        " stage_CAT                             2.247592\n",
        " dtype: float64, time_pf                             220.012994\n",
        " meiotic                               0.236382\n",
        " cell_diameter_um                    108.800352\n",
        " spindle_length__asters_um            30.644614\n",
        " spindle_length_poles_um              22.373868\n",
        " spindle_width_um                     11.518706\n",
        " spindle_aspect_ratio_asters_um        2.700673\n",
        " spindle_aspect_ratio_poles_um         2.040230\n",
        " astere-to-pole_distance_1_um          1.231875\n",
        " aster-to-pole_distance_2_um           1.144923\n",
        " inner_aster_diameter_1_um             7.536544\n",
        " inner_aster_diameter_2_um             7.514501\n",
        " outer_aster_diameter_1_um            33.383070\n",
        " outer__diameter_2_um                 33.495913\n",
        " centrosome                            0.923038\n",
        " metaphase_plate_lengt_h_um           10.618968\n",
        " metaphase_plate_width_um              3.993019\n",
        " metaphase_plate_aspect_ratio_um       3.053011\n",
        " polar_body_diameter_1_um              9.945500\n",
        " polar_body_diameter_2_um              7.043778\n",
        " distance_between_chromosomes_um       3.342549\n",
        " genome                             1151.010309\n",
        " chromosomes                          29.706560\n",
        " num_of_cells_CAT                      3.748171\n",
        " num_of_cells_NUM                     14.229885\n",
        " classification_CAT                    1.804598\n",
        " phylum_CAT                            3.413293\n",
        " organism_CAT                          6.022489\n",
        " cleavage_type_CAT                     3.205897\n",
        " fixation_CAT                          2.300590\n",
        " microscope_CAT                        7.286098\n",
        " stage_CAT                             2.809834\n",
        " dtype: float64)"
       ]
      }
     ],
     "prompt_number": 106
    },
    {
     "cell_type": "code",
     "collapsed": false,
     "input": [
      "reconstructed=(predictedDF*np.reshape(initial_std, (1,initial_std.shape[0])))+np.reshape(initial_means, (1,initial_means.shape[0]))"
     ],
     "language": "python",
     "metadata": {},
     "outputs": [],
     "prompt_number": 123
    },
    {
     "cell_type": "code",
     "collapsed": false,
     "input": [
      "dfo.columns.shape"
     ],
     "language": "python",
     "metadata": {},
     "outputs": [
      {
       "metadata": {},
       "output_type": "pyout",
       "prompt_number": 125,
       "text": [
        "(32,)"
       ]
      }
     ],
     "prompt_number": 125
    },
    {
     "cell_type": "code",
     "collapsed": false,
     "input": [
      "reconstructedDF=pd.DataFrame(reconstructed, columns=dfo.columns)"
     ],
     "language": "python",
     "metadata": {},
     "outputs": [],
     "prompt_number": 129
    },
    {
     "cell_type": "code",
     "collapsed": false,
     "input": [
      "plt.figure(figsize=(10,5))\n",
      "plt.subplot(121)\n",
      "visualizeDataFrame(dfo,title='Input Data Frame')\n",
      "plt.subplot(122)\n",
      "visualizeDataFrame(reconstructedDF, title='Reconstructed Data Frame')\n"
     ],
     "language": "python",
     "metadata": {},
     "outputs": [
      {
       "metadata": {},
       "output_type": "display_data",
       "png": "[encoded data removed]",
       "text": [
        "<matplotlib.figure.Figure at 0x11317a550>"
       ]
      }
     ],
     "prompt_number": 132
    },
    {
     "cell_type": "code",
     "collapsed": false,
     "input": [
      "from sklearn.cluster import KMeans\n",
      "from sklearn.preprocessing import scale"
     ],
     "language": "python",
     "metadata": {},
     "outputs": [],
     "prompt_number": 133
    },
    {
     "cell_type": "code",
     "collapsed": false,
     "input": [
      "from sklearn.datasets import load_digits"
     ],
     "language": "python",
     "metadata": {},
     "outputs": [],
     "prompt_number": 134
    },
    {
     "cell_type": "code",
     "collapsed": false,
     "input": [
      "digits = load_digits()"
     ],
     "language": "python",
     "metadata": {},
     "outputs": [],
     "prompt_number": 135
    },
    {
     "cell_type": "code",
     "collapsed": false,
     "input": [
      "type(digits)"
     ],
     "language": "python",
     "metadata": {},
     "outputs": [
      {
       "metadata": {},
       "output_type": "pyout",
       "prompt_number": 136,
       "text": [
        "sklearn.datasets.base.Bunch"
       ]
      }
     ],
     "prompt_number": 136
    },
    {
     "cell_type": "code",
     "collapsed": false,
     "input": [
      "digits\n"
     ],
     "language": "python",
     "metadata": {},
     "outputs": [
      {
       "metadata": {},
       "output_type": "pyout",
       "prompt_number": 137,
       "text": [
        "{'DESCR': \" Optical Recognition of Handwritten Digits Data Set\\n\\nNotes\\n-----\\nData Set Characteristics:\\n    :Number of Instances: 5620\\n    :Number of Attributes: 64\\n    :Attribute Information: 8x8 image of integer pixels in the range 0..16.\\n    :Missing Attribute Values: None\\n    :Creator: E. Alpaydin (alpaydin '@' boun.edu.tr)\\n    :Date: July; 1998\\n\\nThis is a copy of the test set of the UCI ML hand-written digits datasets\\nhttp://archive.ics.uci.edu/ml/datasets/Optical+Recognition+of+Handwritten+Digits\\n\\nThe data set contains images of hand-written digits: 10 classes where\\neach class refers to a digit.\\n\\nPreprocessing programs made available by NIST were used to extract\\nnormalized bitmaps of handwritten digits from a preprinted form. From a\\ntotal of 43 people, 30 contributed to the training set and different 13\\nto the test set. 32x32 bitmaps are divided into nonoverlapping blocks of\\n4x4 and the number of on pixels are counted in each block. This generates\\nan input matrix of 8x8 where each element is an integer in the range\\n0..16. This reduces dimensionality and gives invariance to small\\ndistortions.\\n\\nFor info on NIST preprocessing routines, see M. D. Garris, J. L. Blue, G.\\nT. Candela, D. L. Dimmick, J. Geist, P. J. Grother, S. A. Janet, and C.\\nL. Wilson, NIST Form-Based Handprint Recognition System, NISTIR 5469,\\n1994.\\n\\nReferences\\n----------\\n  - C. Kaynak (1995) Methods of Combining Multiple Classifiers and Their\\n    Applications to Handwritten Digit Recognition, MSc Thesis, Institute of\\n    Graduate Studies in Science and Engineering, Bogazici University.\\n  - E. Alpaydin, C. Kaynak (1998) Cascading Classifiers, Kybernetika.\\n  - Ken Tang and Ponnuthurai N. Suganthan and Xi Yao and A. Kai Qin.\\n    Linear dimensionalityreduction using relevance weighted LDA. School of\\n    Electrical and Electronic Engineering Nanyang Technological University.\\n    2005.\\n  - Claudio Gentile. A New Approximate Maximal Margin Classification\\n    Algorithm. NIPS. 2000.\\n\",\n",
        " 'data': array([[  0.,   0.,   5., ...,   0.,   0.,   0.],\n",
        "        [  0.,   0.,   0., ...,  10.,   0.,   0.],\n",
        "        [  0.,   0.,   0., ...,  16.,   9.,   0.],\n",
        "        ..., \n",
        "        [  0.,   0.,   1., ...,   6.,   0.,   0.],\n",
        "        [  0.,   0.,   2., ...,  12.,   0.,   0.],\n",
        "        [  0.,   0.,  10., ...,  12.,   1.,   0.]]),\n",
        " 'images': array([[[  0.,   0.,   5., ...,   1.,   0.,   0.],\n",
        "         [  0.,   0.,  13., ...,  15.,   5.,   0.],\n",
        "         [  0.,   3.,  15., ...,  11.,   8.,   0.],\n",
        "         ..., \n",
        "         [  0.,   4.,  11., ...,  12.,   7.,   0.],\n",
        "         [  0.,   2.,  14., ...,  12.,   0.,   0.],\n",
        "         [  0.,   0.,   6., ...,   0.,   0.,   0.]],\n",
        " \n",
        "        [[  0.,   0.,   0., ...,   5.,   0.,   0.],\n",
        "         [  0.,   0.,   0., ...,   9.,   0.,   0.],\n",
        "         [  0.,   0.,   3., ...,   6.,   0.,   0.],\n",
        "         ..., \n",
        "         [  0.,   0.,   1., ...,   6.,   0.,   0.],\n",
        "         [  0.,   0.,   1., ...,   6.,   0.,   0.],\n",
        "         [  0.,   0.,   0., ...,  10.,   0.,   0.]],\n",
        " \n",
        "        [[  0.,   0.,   0., ...,  12.,   0.,   0.],\n",
        "         [  0.,   0.,   3., ...,  14.,   0.,   0.],\n",
        "         [  0.,   0.,   8., ...,  16.,   0.,   0.],\n",
        "         ..., \n",
        "         [  0.,   9.,  16., ...,   0.,   0.,   0.],\n",
        "         [  0.,   3.,  13., ...,  11.,   5.,   0.],\n",
        "         [  0.,   0.,   0., ...,  16.,   9.,   0.]],\n",
        " \n",
        "        ..., \n",
        "        [[  0.,   0.,   1., ...,   1.,   0.,   0.],\n",
        "         [  0.,   0.,  13., ...,   2.,   1.,   0.],\n",
        "         [  0.,   0.,  16., ...,  16.,   5.,   0.],\n",
        "         ..., \n",
        "         [  0.,   0.,  16., ...,  15.,   0.,   0.],\n",
        "         [  0.,   0.,  15., ...,  16.,   0.,   0.],\n",
        "         [  0.,   0.,   2., ...,   6.,   0.,   0.]],\n",
        " \n",
        "        [[  0.,   0.,   2., ...,   0.,   0.,   0.],\n",
        "         [  0.,   0.,  14., ...,  15.,   1.,   0.],\n",
        "         [  0.,   4.,  16., ...,  16.,   7.,   0.],\n",
        "         ..., \n",
        "         [  0.,   0.,   0., ...,  16.,   2.,   0.],\n",
        "         [  0.,   0.,   4., ...,  16.,   2.,   0.],\n",
        "         [  0.,   0.,   5., ...,  12.,   0.,   0.]],\n",
        " \n",
        "        [[  0.,   0.,  10., ...,   1.,   0.,   0.],\n",
        "         [  0.,   2.,  16., ...,   1.,   0.,   0.],\n",
        "         [  0.,   0.,  15., ...,  15.,   0.,   0.],\n",
        "         ..., \n",
        "         [  0.,   4.,  16., ...,  16.,   6.,   0.],\n",
        "         [  0.,   8.,  16., ...,  16.,   8.,   0.],\n",
        "         [  0.,   1.,   8., ...,  12.,   1.,   0.]]]),\n",
        " 'target': array([0, 1, 2, ..., 8, 9, 8]),\n",
        " 'target_names': array([0, 1, 2, 3, 4, 5, 6, 7, 8, 9])}"
       ]
      }
     ],
     "prompt_number": 137
    },
    {
     "cell_type": "code",
     "collapsed": false,
     "input": [],
     "language": "python",
     "metadata": {},
     "outputs": []
    },
    {
     "cell_type": "code",
     "collapsed": false,
     "input": [],
     "language": "python",
     "metadata": {},
     "outputs": []
    },
    {
     "cell_type": "code",
     "collapsed": false,
     "input": [],
     "language": "python",
     "metadata": {},
     "outputs": []
    },
    {
     "cell_type": "code",
     "collapsed": false,
     "input": [],
     "language": "python",
     "metadata": {},
     "outputs": []
    }
   ],
   "metadata": {}
  }
 ]
}