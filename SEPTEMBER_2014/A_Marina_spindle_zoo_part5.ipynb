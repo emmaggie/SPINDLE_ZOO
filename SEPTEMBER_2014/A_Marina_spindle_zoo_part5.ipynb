{
 "metadata": {
  "name": "",
  "signature": "sha256:8d7f3f81e6279b5f4013edc17396eb6cf6a4040071cde2dc619dd0d743fad85c"
 },
 "nbformat": 3,
 "nbformat_minor": 0,
 "worksheets": [
  {
   "cells": [
    {
     "cell_type": "heading",
     "level": 1,
     "metadata": {},
     "source": [
      "Unsupervised ML on Marina's data."
     ]
    },
    {
     "cell_type": "markdown",
     "metadata": {},
     "source": [
      "Should contain ML. Unsupervised and semi-supervised."
     ]
    },
    {
     "cell_type": "markdown",
     "metadata": {},
     "source": [
      "Mike Tamir:    \n",
      "http://www.quora.com/What-is-an-intuitive-explanation-of-the-relation-between-PCA-and-SVD   \n",
      "http://www.quora.com/When-and-where-do-we-use-SVD/answer/Mike-Tamir   \n",
      "http://www.quora.com/Mike-Tamir   \n",
      "http://www.quora.com/Whats-a-good-way-to-provide-intuition-as-to-why-the-lasso-L1-regularization-results-in-sparse-weight-vectors  \n",
      "\n"
     ]
    },
    {
     "cell_type": "code",
     "collapsed": false,
     "input": [
      "#load necessary libs\n",
      "import pandas as pd\n",
      "import numpy as np\n",
      "import matplotlib.pyplot as plt\n",
      "pd.set_option('display.mpl_style','default')\n",
      "%matplotlib inline\n",
      "import re\n",
      "import pygal\n",
      "from IPython.display import SVG\n",
      "\n",
      "\n",
      "#convert to eps\n",
      "#inkscape -z -D F4B_xenopus_laevis_arial.svg --export-eps=F4B_xenopus_laevisCLI_arial.eps\n",
      "import subprocess as sp\n",
      "import shlex\n",
      "import sklearn"
     ],
     "language": "python",
     "metadata": {},
     "outputs": [],
     "prompt_number": 2
    },
    {
     "cell_type": "markdown",
     "metadata": {},
     "source": [
      "##1. Filling in the missing data with SVD. Andrew Ng. Scipy. Python recsys."
     ]
    },
    {
     "cell_type": "heading",
     "level": 2,
     "metadata": {},
     "source": [
      "a. Collaborative filtering"
     ]
    },
    {
     "cell_type": "markdown",
     "metadata": {},
     "source": [
      "1. Map NaN's"
     ]
    },
    {
     "cell_type": "code",
     "collapsed": false,
     "input": [
      "dfo=pd.read_csv('../SEPTEMBER_2014/original.csv')\n",
      "#this is the cleaned up data frame"
     ],
     "language": "python",
     "metadata": {},
     "outputs": [],
     "prompt_number": 3
    },
    {
     "cell_type": "code",
     "collapsed": false,
     "input": [
      "#this is the Y matrix\n",
      "dfo.head()"
     ],
     "language": "python",
     "metadata": {},
     "outputs": [
      {
       "html": [
        "<div style=\"max-height:1000px;max-width:1500px;overflow:auto;\">\n",
        "<table border=\"1\" class=\"dataframe\">\n",
        "  <thead>\n",
        "    <tr style=\"text-align: right;\">\n",
        "      <th></th>\n",
        "      <th>time_pf</th>\n",
        "      <th>num_of_cells</th>\n",
        "      <th>meiotic</th>\n",
        "      <th>stage</th>\n",
        "      <th>cell_diameter_um</th>\n",
        "      <th>spindle_length__asters_um</th>\n",
        "      <th>spindle_length_poles_um</th>\n",
        "      <th>spindle_width_um</th>\n",
        "      <th>spindle_aspect_ratio_asters_um</th>\n",
        "      <th>spindle_aspect_ratio_poles_um</th>\n",
        "      <th>...</th>\n",
        "      <th>num_of_cells_CAT</th>\n",
        "      <th>num_of_cells_NUM</th>\n",
        "      <th>classification_CAT</th>\n",
        "      <th>phylum_CAT</th>\n",
        "      <th>organism_CAT</th>\n",
        "      <th>cleavage_type_CAT</th>\n",
        "      <th>fixation_CAT</th>\n",
        "      <th>microscope_CAT</th>\n",
        "      <th>stage_CAT</th>\n",
        "      <th>day_old</th>\n",
        "    </tr>\n",
        "  </thead>\n",
        "  <tbody>\n",
        "    <tr>\n",
        "      <th>0</th>\n",
        "      <td> 210</td>\n",
        "      <td> 1</td>\n",
        "      <td> 0</td>\n",
        "      <td>   a</td>\n",
        "      <td> 177.82149</td>\n",
        "      <td> 41.37903</td>\n",
        "      <td> 26.13072</td>\n",
        "      <td> 14.45598</td>\n",
        "      <td> 2.862416</td>\n",
        "      <td> 1.807606</td>\n",
        "      <td>...</td>\n",
        "      <td> 1</td>\n",
        "      <td> 1</td>\n",
        "      <td> 1</td>\n",
        "      <td> 1</td>\n",
        "      <td> 1</td>\n",
        "      <td> 1</td>\n",
        "      <td> 1</td>\n",
        "      <td> 1</td>\n",
        "      <td>  1</td>\n",
        "      <td> 131106</td>\n",
        "    </tr>\n",
        "    <tr>\n",
        "      <th>1</th>\n",
        "      <td> 210</td>\n",
        "      <td> 1</td>\n",
        "      <td> 0</td>\n",
        "      <td>   m</td>\n",
        "      <td> 163.05828</td>\n",
        "      <td> 24.85329</td>\n",
        "      <td> 18.28827</td>\n",
        "      <td>  9.97689</td>\n",
        "      <td> 2.491086</td>\n",
        "      <td> 1.833063</td>\n",
        "      <td>...</td>\n",
        "      <td> 1</td>\n",
        "      <td> 1</td>\n",
        "      <td> 1</td>\n",
        "      <td> 1</td>\n",
        "      <td> 1</td>\n",
        "      <td> 1</td>\n",
        "      <td> 1</td>\n",
        "      <td> 1</td>\n",
        "      <td>  2</td>\n",
        "      <td> 131106</td>\n",
        "    </tr>\n",
        "    <tr>\n",
        "      <th>2</th>\n",
        "      <td> 210</td>\n",
        "      <td> 1</td>\n",
        "      <td> 0</td>\n",
        "      <td>   p</td>\n",
        "      <td> 206.00580</td>\n",
        "      <td> 35.08890</td>\n",
        "      <td> 27.24645</td>\n",
        "      <td> 14.63385</td>\n",
        "      <td> 2.397790</td>\n",
        "      <td> 1.861878</td>\n",
        "      <td>...</td>\n",
        "      <td> 1</td>\n",
        "      <td> 1</td>\n",
        "      <td> 1</td>\n",
        "      <td> 1</td>\n",
        "      <td> 1</td>\n",
        "      <td> 1</td>\n",
        "      <td> 1</td>\n",
        "      <td> 1</td>\n",
        "      <td>  3</td>\n",
        "      <td> 131106</td>\n",
        "    </tr>\n",
        "    <tr>\n",
        "      <th>3</th>\n",
        "      <td> 210</td>\n",
        "      <td> 1</td>\n",
        "      <td> 0</td>\n",
        "      <td>   m</td>\n",
        "      <td> 194.04000</td>\n",
        "      <td> 42.39774</td>\n",
        "      <td> 42.39774</td>\n",
        "      <td> 17.46360</td>\n",
        "      <td> 2.427778</td>\n",
        "      <td> 2.427778</td>\n",
        "      <td>...</td>\n",
        "      <td> 1</td>\n",
        "      <td> 1</td>\n",
        "      <td> 1</td>\n",
        "      <td> 1</td>\n",
        "      <td> 1</td>\n",
        "      <td> 1</td>\n",
        "      <td> 1</td>\n",
        "      <td> 1</td>\n",
        "      <td>  2</td>\n",
        "      <td> 131106</td>\n",
        "    </tr>\n",
        "    <tr>\n",
        "      <th>4</th>\n",
        "      <td> 210</td>\n",
        "      <td> 1</td>\n",
        "      <td> 0</td>\n",
        "      <td> NaN</td>\n",
        "      <td> 180.36018</td>\n",
        "      <td>      NaN</td>\n",
        "      <td>      NaN</td>\n",
        "      <td>      NaN</td>\n",
        "      <td>      NaN</td>\n",
        "      <td>      NaN</td>\n",
        "      <td>...</td>\n",
        "      <td> 1</td>\n",
        "      <td> 1</td>\n",
        "      <td> 1</td>\n",
        "      <td> 1</td>\n",
        "      <td> 1</td>\n",
        "      <td> 1</td>\n",
        "      <td> 1</td>\n",
        "      <td> 1</td>\n",
        "      <td>NaN</td>\n",
        "      <td> 131106</td>\n",
        "    </tr>\n",
        "  </tbody>\n",
        "</table>\n",
        "<p>5 rows \u00d7 41 columns</p>\n",
        "</div>"
       ],
       "metadata": {},
       "output_type": "pyout",
       "prompt_number": 25,
       "text": [
        "   time_pf num_of_cells  meiotic stage  cell_diameter_um  \\\n",
        "0      210            1        0     a         177.82149   \n",
        "1      210            1        0     m         163.05828   \n",
        "2      210            1        0     p         206.00580   \n",
        "3      210            1        0     m         194.04000   \n",
        "4      210            1        0   NaN         180.36018   \n",
        "\n",
        "   spindle_length__asters_um  spindle_length_poles_um  spindle_width_um  \\\n",
        "0                   41.37903                 26.13072          14.45598   \n",
        "1                   24.85329                 18.28827           9.97689   \n",
        "2                   35.08890                 27.24645          14.63385   \n",
        "3                   42.39774                 42.39774          17.46360   \n",
        "4                        NaN                      NaN               NaN   \n",
        "\n",
        "   spindle_aspect_ratio_asters_um  spindle_aspect_ratio_poles_um   ...     \\\n",
        "0                        2.862416                       1.807606   ...      \n",
        "1                        2.491086                       1.833063   ...      \n",
        "2                        2.397790                       1.861878   ...      \n",
        "3                        2.427778                       2.427778   ...      \n",
        "4                             NaN                            NaN   ...      \n",
        "\n",
        "   num_of_cells_CAT  num_of_cells_NUM  classification_CAT  phylum_CAT  \\\n",
        "0                 1                 1                   1           1   \n",
        "1                 1                 1                   1           1   \n",
        "2                 1                 1                   1           1   \n",
        "3                 1                 1                   1           1   \n",
        "4                 1                 1                   1           1   \n",
        "\n",
        "   organism_CAT  cleavage_type_CAT  fixation_CAT  microscope_CAT  stage_CAT  \\\n",
        "0             1                  1             1               1          1   \n",
        "1             1                  1             1               1          2   \n",
        "2             1                  1             1               1          3   \n",
        "3             1                  1             1               1          2   \n",
        "4             1                  1             1               1        NaN   \n",
        "\n",
        "   day_old  \n",
        "0   131106  \n",
        "1   131106  \n",
        "2   131106  \n",
        "3   131106  \n",
        "4   131106  \n",
        "\n",
        "[5 rows x 41 columns]"
       ]
      }
     ],
     "prompt_number": 25
    },
    {
     "cell_type": "code",
     "collapsed": false,
     "input": [
      "#dfo_info=dfo.info()\n",
      "type(dfo.info())\n",
      "#dfo.info()"
     ],
     "language": "python",
     "metadata": {},
     "outputs": [
      {
       "output_type": "stream",
       "stream": "stdout",
       "text": [
        "<class 'pandas.core.frame.DataFrame'>\n",
        "Int64Index: 2001 entries, 0 to 2000\n",
        "Data columns (total 41 columns):\n",
        "time_pf                            2001 non-null int64\n",
        "num_of_cells                       1914 non-null object\n",
        "meiotic                            2001 non-null int64\n",
        "stage                              1993 non-null object\n",
        "cell_diameter_um                   1947 non-null float64\n",
        "spindle_length__asters_um          1899 non-null float64\n",
        "spindle_length_poles_um            1971 non-null float64\n",
        "spindle_width_um                   1851 non-null float64\n",
        "spindle_aspect_ratio_asters_um     1836 non-null float64\n",
        "spindle_aspect_ratio_poles_um      1836 non-null float64\n",
        "astere-to-pole_distance_1_um       1834 non-null float64\n",
        "aster-to-pole_distance_2_um        1788 non-null float64\n",
        "inner_aster_diameter_1_um          1809 non-null float64\n",
        "inner_aster_diameter_2_um          1712 non-null float64\n",
        "outer_aster_diameter_1_um          1664 non-null float64\n",
        "outer__diameter_2_um               1582 non-null float64\n",
        "centrosome                         2001 non-null int64\n",
        "metaphase_plate_lengt_h_um         1685 non-null float64\n",
        "metaphase_plate_width_um           1212 non-null float64\n",
        "metaphase_plate_aspect_ratio_um    1201 non-null float64\n",
        "polar_body_diameter_1_um           1999 non-null float64\n",
        "polar_body_diameter_2_um           1997 non-null float64\n",
        "distance_between_chromosomes_um    1886 non-null float64\n",
        "microscope                         1863 non-null object\n",
        "fixation                           1863 non-null object\n",
        "organism                           2001 non-null object\n",
        "phylum                             1990 non-null object\n",
        "classification                     2001 non-null object\n",
        "genome                             1358 non-null float64\n",
        "chromosomes                        1997 non-null float64\n",
        "cleavage_type                      2001 non-null object\n",
        "num_of_cells_CAT                   1914 non-null float64\n",
        "num_of_cells_NUM                   1914 non-null float64\n",
        "classification_CAT                 2001 non-null int64\n",
        "phylum_CAT                         2001 non-null int64\n",
        "organism_CAT                       2001 non-null int64\n",
        "cleavage_type_CAT                  2001 non-null int64\n",
        "fixation_CAT                       1863 non-null float64\n",
        "microscope_CAT                     1863 non-null float64\n",
        "stage_CAT                          1993 non-null float64\n",
        "day_old                            2001 non-null object\n",
        "dtypes: float64(25), int64(7), object(9)\n",
        "memory usage: 656.6+ KB\n"
       ]
      },
      {
       "metadata": {},
       "output_type": "pyout",
       "prompt_number": 29,
       "text": [
        "NoneType"
       ]
      }
     ],
     "prompt_number": 29
    },
    {
     "cell_type": "code",
     "collapsed": false,
     "input": [
      "#dfo is a ndarray\n",
      "#get only dtype=object columns \n",
      "#dfo.dtypes #series\n",
      "dfo.dtypes[dfo.dtypes == 'object'].index #columns with dtype 'object'\n"
     ],
     "language": "python",
     "metadata": {},
     "outputs": [
      {
       "metadata": {},
       "output_type": "pyout",
       "prompt_number": 40,
       "text": [
        "Index([u'num_of_cells', u'stage', u'microscope', u'fixation', u'organism', u'phylum', u'classification', u'cleavage_type', u'day_old'], dtype='object')"
       ]
      }
     ],
     "prompt_number": 40
    },
    {
     "cell_type": "code",
     "collapsed": false,
     "input": [
      "#type(dfo.dtypes[dfo.dtypes == 'object'].index)\n",
      "cols_to_delete=dfo.dtypes[dfo.dtypes == 'object'].index"
     ],
     "language": "python",
     "metadata": {},
     "outputs": [],
     "prompt_number": 43
    },
    {
     "cell_type": "code",
     "collapsed": false,
     "input": [
      "cols_to_delete=cols_to_delete.tolist()"
     ],
     "language": "python",
     "metadata": {},
     "outputs": [],
     "prompt_number": 46
    },
    {
     "cell_type": "code",
     "collapsed": false,
     "input": [
      "#dfo.drop(cols_to_delete,axis=1).info()\n",
      "dfo=dfo.drop(cols_to_delete,axis=1)"
     ],
     "language": "python",
     "metadata": {},
     "outputs": [],
     "prompt_number": 56
    },
    {
     "cell_type": "code",
     "collapsed": false,
     "input": [
      "dfo.info()"
     ],
     "language": "python",
     "metadata": {},
     "outputs": [
      {
       "output_type": "stream",
       "stream": "stdout",
       "text": [
        "<class 'pandas.core.frame.DataFrame'>\n",
        "Int64Index: 2001 entries, 0 to 2000\n",
        "Data columns (total 32 columns):\n",
        "time_pf                            2001 non-null int64\n",
        "meiotic                            2001 non-null int64\n",
        "cell_diameter_um                   1947 non-null float64\n",
        "spindle_length__asters_um          1899 non-null float64\n",
        "spindle_length_poles_um            1971 non-null float64\n",
        "spindle_width_um                   1851 non-null float64\n",
        "spindle_aspect_ratio_asters_um     1836 non-null float64\n",
        "spindle_aspect_ratio_poles_um      1836 non-null float64\n",
        "astere-to-pole_distance_1_um       1834 non-null float64\n",
        "aster-to-pole_distance_2_um        1788 non-null float64\n",
        "inner_aster_diameter_1_um          1809 non-null float64\n",
        "inner_aster_diameter_2_um          1712 non-null float64\n",
        "outer_aster_diameter_1_um          1664 non-null float64\n",
        "outer__diameter_2_um               1582 non-null float64\n",
        "centrosome                         2001 non-null int64\n",
        "metaphase_plate_lengt_h_um         1685 non-null float64\n",
        "metaphase_plate_width_um           1212 non-null float64\n",
        "metaphase_plate_aspect_ratio_um    1201 non-null float64\n",
        "polar_body_diameter_1_um           1999 non-null float64\n",
        "polar_body_diameter_2_um           1997 non-null float64\n",
        "distance_between_chromosomes_um    1886 non-null float64\n",
        "genome                             1358 non-null float64\n",
        "chromosomes                        1997 non-null float64\n",
        "num_of_cells_CAT                   1914 non-null float64\n",
        "num_of_cells_NUM                   1914 non-null float64\n",
        "classification_CAT                 2001 non-null int64\n",
        "phylum_CAT                         2001 non-null int64\n",
        "organism_CAT                       2001 non-null int64\n",
        "cleavage_type_CAT                  2001 non-null int64\n",
        "fixation_CAT                       1863 non-null float64\n",
        "microscope_CAT                     1863 non-null float64\n",
        "stage_CAT                          1993 non-null float64\n",
        "dtypes: float64(25), int64(7)\n",
        "memory usage: 515.9 KB\n"
       ]
      }
     ],
     "prompt_number": 57
    },
    {
     "cell_type": "code",
     "collapsed": false,
     "input": [
      "dfo.dtypes[dfo.dtypes=='int64'].index.tolist()"
     ],
     "language": "python",
     "metadata": {},
     "outputs": [
      {
       "metadata": {},
       "output_type": "pyout",
       "prompt_number": 63,
       "text": [
        "['time_pf',\n",
        " 'meiotic',\n",
        " 'centrosome',\n",
        " 'classification_CAT',\n",
        " 'phylum_CAT',\n",
        " 'organism_CAT',\n",
        " 'cleavage_type_CAT']"
       ]
      }
     ],
     "prompt_number": 63
    },
    {
     "cell_type": "code",
     "collapsed": false,
     "input": [],
     "language": "python",
     "metadata": {},
     "outputs": []
    },
    {
     "cell_type": "markdown",
     "metadata": {},
     "source": [
      "*TEST APPROACH*"
     ]
    },
    {
     "cell_type": "code",
     "collapsed": false,
     "input": [
      "test=dfo[dfo.dtypes[dfo.dtypes=='int64'].index.tolist()]"
     ],
     "language": "python",
     "metadata": {},
     "outputs": [],
     "prompt_number": 65
    },
    {
     "cell_type": "code",
     "collapsed": false,
     "input": [
      "test.dtypes"
     ],
     "language": "python",
     "metadata": {},
     "outputs": [
      {
       "metadata": {},
       "output_type": "pyout",
       "prompt_number": 69,
       "text": [
        "time_pf               int64\n",
        "meiotic               int64\n",
        "centrosome            int64\n",
        "classification_CAT    int64\n",
        "phylum_CAT            int64\n",
        "organism_CAT          int64\n",
        "cleavage_type_CAT     int64\n",
        "dtype: object"
       ]
      }
     ],
     "prompt_number": 69
    },
    {
     "cell_type": "code",
     "collapsed": false,
     "input": [
      "test[test.columns]=test[test.columns].astype(float)"
     ],
     "language": "python",
     "metadata": {},
     "outputs": [
      {
       "output_type": "stream",
       "stream": "stderr",
       "text": [
        "/usr/local/lib/python2.7/site-packages/pandas/core/frame.py:2131: SettingWithCopyWarning: \n",
        "A value is trying to be set on a copy of a slice from a DataFrame.\n",
        "Try using .loc[row_indexer,col_indexer] = value instead\n",
        "\n",
        "See the the caveats in the documentation: http://pandas.pydata.org/pandas-docs/stable/indexing.html#indexing-view-versus-copy\n",
        "  self[k1] = value[k2]\n"
       ]
      }
     ],
     "prompt_number": 78
    },
    {
     "cell_type": "code",
     "collapsed": false,
     "input": [
      "test.info()"
     ],
     "language": "python",
     "metadata": {},
     "outputs": [
      {
       "output_type": "stream",
       "stream": "stdout",
       "text": [
        "<class 'pandas.core.frame.DataFrame'>\n",
        "Int64Index: 2001 entries, 0 to 2000\n",
        "Data columns (total 7 columns):\n",
        "time_pf               2001 non-null float64\n",
        "meiotic               2001 non-null float64\n",
        "centrosome            2001 non-null float64\n",
        "classification_CAT    2001 non-null float64\n",
        "phylum_CAT            2001 non-null float64\n",
        "organism_CAT          2001 non-null float64\n",
        "cleavage_type_CAT     2001 non-null float64\n",
        "dtypes: float64(7)\n",
        "memory usage: 125.1 KB\n"
       ]
      }
     ],
     "prompt_number": 79
    },
    {
     "cell_type": "markdown",
     "metadata": {},
     "source": [
      "*END: TEST APPROACH*"
     ]
    },
    {
     "cell_type": "code",
     "collapsed": false,
     "input": [],
     "language": "python",
     "metadata": {},
     "outputs": []
    },
    {
     "cell_type": "code",
     "collapsed": false,
     "input": [
      "dfo.get_values().shape"
     ],
     "language": "python",
     "metadata": {},
     "outputs": [
      {
       "metadata": {},
       "output_type": "pyout",
       "prompt_number": 82,
       "text": [
        "(2001, 32)"
       ]
      }
     ],
     "prompt_number": 82
    },
    {
     "cell_type": "code",
     "collapsed": false,
     "input": [
      "#http://mathesaurus.sourceforge.net/matlab-numpy.html\n",
      "plt.imshow(dfo.get_values())"
     ],
     "language": "python",
     "metadata": {},
     "outputs": [
      {
       "metadata": {},
       "output_type": "pyout",
       "prompt_number": 88,
       "text": [
        "<matplotlib.image.AxesImage at 0x109d74150>"
       ]
      },
      {
       "metadata": {},
       "output_type": "display_data",
       "png": "[encoded data removed]",
       "text": [
        "<matplotlib.figure.Figure at 0x109a4a810>"
       ]
      }
     ],
     "prompt_number": 88
    },
    {
     "cell_type": "code",
     "collapsed": false,
     "input": [],
     "language": "python",
     "metadata": {},
     "outputs": []
    },
    {
     "cell_type": "code",
     "collapsed": false,
     "input": [],
     "language": "python",
     "metadata": {},
     "outputs": []
    },
    {
     "cell_type": "code",
     "collapsed": false,
     "input": [],
     "language": "python",
     "metadata": {},
     "outputs": []
    },
    {
     "cell_type": "code",
     "collapsed": false,
     "input": [
      "#to create the R matrix\n",
      "dfo_map=dfo.copy()"
     ],
     "language": "python",
     "metadata": {},
     "outputs": [],
     "prompt_number": 41
    },
    {
     "cell_type": "code",
     "collapsed": false,
     "input": [
      "dfo_map.head()"
     ],
     "language": "python",
     "metadata": {},
     "outputs": [
      {
       "html": [
        "<div style=\"max-height:1000px;max-width:1500px;overflow:auto;\">\n",
        "<table border=\"1\" class=\"dataframe\">\n",
        "  <thead>\n",
        "    <tr style=\"text-align: right;\">\n",
        "      <th></th>\n",
        "      <th>time_pf</th>\n",
        "      <th>num_of_cells</th>\n",
        "      <th>meiotic</th>\n",
        "      <th>stage</th>\n",
        "      <th>cell_diameter_um</th>\n",
        "      <th>spindle_length__asters_um</th>\n",
        "      <th>spindle_length_poles_um</th>\n",
        "      <th>spindle_width_um</th>\n",
        "      <th>spindle_aspect_ratio_asters_um</th>\n",
        "      <th>spindle_aspect_ratio_poles_um</th>\n",
        "      <th>...</th>\n",
        "      <th>num_of_cells_CAT</th>\n",
        "      <th>num_of_cells_NUM</th>\n",
        "      <th>classification_CAT</th>\n",
        "      <th>phylum_CAT</th>\n",
        "      <th>organism_CAT</th>\n",
        "      <th>cleavage_type_CAT</th>\n",
        "      <th>fixation_CAT</th>\n",
        "      <th>microscope_CAT</th>\n",
        "      <th>stage_CAT</th>\n",
        "      <th>day_old</th>\n",
        "    </tr>\n",
        "  </thead>\n",
        "  <tbody>\n",
        "    <tr>\n",
        "      <th>0</th>\n",
        "      <td> 210</td>\n",
        "      <td> 1</td>\n",
        "      <td> 0</td>\n",
        "      <td>   a</td>\n",
        "      <td> 177.82149</td>\n",
        "      <td> 41.37903</td>\n",
        "      <td> 26.13072</td>\n",
        "      <td> 14.45598</td>\n",
        "      <td> 2.862416</td>\n",
        "      <td> 1.807606</td>\n",
        "      <td>...</td>\n",
        "      <td> 1</td>\n",
        "      <td> 1</td>\n",
        "      <td> 1</td>\n",
        "      <td> 1</td>\n",
        "      <td> 1</td>\n",
        "      <td> 1</td>\n",
        "      <td> 1</td>\n",
        "      <td> 1</td>\n",
        "      <td>  1</td>\n",
        "      <td> 131106</td>\n",
        "    </tr>\n",
        "    <tr>\n",
        "      <th>1</th>\n",
        "      <td> 210</td>\n",
        "      <td> 1</td>\n",
        "      <td> 0</td>\n",
        "      <td>   m</td>\n",
        "      <td> 163.05828</td>\n",
        "      <td> 24.85329</td>\n",
        "      <td> 18.28827</td>\n",
        "      <td>  9.97689</td>\n",
        "      <td> 2.491086</td>\n",
        "      <td> 1.833063</td>\n",
        "      <td>...</td>\n",
        "      <td> 1</td>\n",
        "      <td> 1</td>\n",
        "      <td> 1</td>\n",
        "      <td> 1</td>\n",
        "      <td> 1</td>\n",
        "      <td> 1</td>\n",
        "      <td> 1</td>\n",
        "      <td> 1</td>\n",
        "      <td>  2</td>\n",
        "      <td> 131106</td>\n",
        "    </tr>\n",
        "    <tr>\n",
        "      <th>2</th>\n",
        "      <td> 210</td>\n",
        "      <td> 1</td>\n",
        "      <td> 0</td>\n",
        "      <td>   p</td>\n",
        "      <td> 206.00580</td>\n",
        "      <td> 35.08890</td>\n",
        "      <td> 27.24645</td>\n",
        "      <td> 14.63385</td>\n",
        "      <td> 2.397790</td>\n",
        "      <td> 1.861878</td>\n",
        "      <td>...</td>\n",
        "      <td> 1</td>\n",
        "      <td> 1</td>\n",
        "      <td> 1</td>\n",
        "      <td> 1</td>\n",
        "      <td> 1</td>\n",
        "      <td> 1</td>\n",
        "      <td> 1</td>\n",
        "      <td> 1</td>\n",
        "      <td>  3</td>\n",
        "      <td> 131106</td>\n",
        "    </tr>\n",
        "    <tr>\n",
        "      <th>3</th>\n",
        "      <td> 210</td>\n",
        "      <td> 1</td>\n",
        "      <td> 0</td>\n",
        "      <td>   m</td>\n",
        "      <td> 194.04000</td>\n",
        "      <td> 42.39774</td>\n",
        "      <td> 42.39774</td>\n",
        "      <td> 17.46360</td>\n",
        "      <td> 2.427778</td>\n",
        "      <td> 2.427778</td>\n",
        "      <td>...</td>\n",
        "      <td> 1</td>\n",
        "      <td> 1</td>\n",
        "      <td> 1</td>\n",
        "      <td> 1</td>\n",
        "      <td> 1</td>\n",
        "      <td> 1</td>\n",
        "      <td> 1</td>\n",
        "      <td> 1</td>\n",
        "      <td>  2</td>\n",
        "      <td> 131106</td>\n",
        "    </tr>\n",
        "    <tr>\n",
        "      <th>4</th>\n",
        "      <td> 210</td>\n",
        "      <td> 1</td>\n",
        "      <td> 0</td>\n",
        "      <td> NaN</td>\n",
        "      <td> 180.36018</td>\n",
        "      <td>      NaN</td>\n",
        "      <td>      NaN</td>\n",
        "      <td>      NaN</td>\n",
        "      <td>      NaN</td>\n",
        "      <td>      NaN</td>\n",
        "      <td>...</td>\n",
        "      <td> 1</td>\n",
        "      <td> 1</td>\n",
        "      <td> 1</td>\n",
        "      <td> 1</td>\n",
        "      <td> 1</td>\n",
        "      <td> 1</td>\n",
        "      <td> 1</td>\n",
        "      <td> 1</td>\n",
        "      <td>NaN</td>\n",
        "      <td> 131106</td>\n",
        "    </tr>\n",
        "  </tbody>\n",
        "</table>\n",
        "<p>5 rows \u00d7 41 columns</p>\n",
        "</div>"
       ],
       "metadata": {},
       "output_type": "pyout",
       "prompt_number": 6,
       "text": [
        "   time_pf num_of_cells  meiotic stage  cell_diameter_um  \\\n",
        "0      210            1        0     a         177.82149   \n",
        "1      210            1        0     m         163.05828   \n",
        "2      210            1        0     p         206.00580   \n",
        "3      210            1        0     m         194.04000   \n",
        "4      210            1        0   NaN         180.36018   \n",
        "\n",
        "   spindle_length__asters_um  spindle_length_poles_um  spindle_width_um  \\\n",
        "0                   41.37903                 26.13072          14.45598   \n",
        "1                   24.85329                 18.28827           9.97689   \n",
        "2                   35.08890                 27.24645          14.63385   \n",
        "3                   42.39774                 42.39774          17.46360   \n",
        "4                        NaN                      NaN               NaN   \n",
        "\n",
        "   spindle_aspect_ratio_asters_um  spindle_aspect_ratio_poles_um   ...     \\\n",
        "0                        2.862416                       1.807606   ...      \n",
        "1                        2.491086                       1.833063   ...      \n",
        "2                        2.397790                       1.861878   ...      \n",
        "3                        2.427778                       2.427778   ...      \n",
        "4                             NaN                            NaN   ...      \n",
        "\n",
        "   num_of_cells_CAT  num_of_cells_NUM  classification_CAT  phylum_CAT  \\\n",
        "0                 1                 1                   1           1   \n",
        "1                 1                 1                   1           1   \n",
        "2                 1                 1                   1           1   \n",
        "3                 1                 1                   1           1   \n",
        "4                 1                 1                   1           1   \n",
        "\n",
        "   organism_CAT  cleavage_type_CAT  fixation_CAT  microscope_CAT  stage_CAT  \\\n",
        "0             1                  1             1               1          1   \n",
        "1             1                  1             1               1          2   \n",
        "2             1                  1             1               1          3   \n",
        "3             1                  1             1               1          2   \n",
        "4             1                  1             1               1        NaN   \n",
        "\n",
        "   day_old  \n",
        "0   131106  \n",
        "1   131106  \n",
        "2   131106  \n",
        "3   131106  \n",
        "4   131106  \n",
        "\n",
        "[5 rows x 41 columns]"
       ]
      }
     ],
     "prompt_number": 6
    },
    {
     "cell_type": "code",
     "collapsed": false,
     "input": [
      "dfo.get_values()"
     ],
     "language": "python",
     "metadata": {},
     "outputs": [
      {
       "metadata": {},
       "output_type": "pyout",
       "prompt_number": 15,
       "text": [
        "array([[210, '1', 0, ..., 1.0, 1.0, '131106'],\n",
        "       [210, '1', 0, ..., 1.0, 2.0, '131106'],\n",
        "       [210, '1', 0, ..., 1.0, 3.0, '131106'],\n",
        "       ..., \n",
        "       [130, '1', 0, ..., nan, 2.0, 'na'],\n",
        "       [130, '1', 0, ..., nan, 2.0, 'na'],\n",
        "       [130, '1', 0, ..., nan, 2.0, 'na']], dtype=object)"
       ]
      }
     ],
     "prompt_number": 15
    },
    {
     "cell_type": "code",
     "collapsed": false,
     "input": [
      "\n",
      "plt.imshow(dfo.get_values())"
     ],
     "language": "python",
     "metadata": {},
     "outputs": [
      {
       "ename": "TypeError",
       "evalue": "Image data can not convert to float",
       "output_type": "pyerr",
       "traceback": [
        "\u001b[0;31m---------------------------------------------------------------------------\u001b[0m\n\u001b[0;31mTypeError\u001b[0m                                 Traceback (most recent call last)",
        "\u001b[0;32m<ipython-input-13-768c8ca8de83>\u001b[0m in \u001b[0;36m<module>\u001b[0;34m()\u001b[0m\n\u001b[0;32m----> 1\u001b[0;31m \u001b[0mplt\u001b[0m\u001b[0;34m.\u001b[0m\u001b[0mimshow\u001b[0m\u001b[0;34m(\u001b[0m\u001b[0mdfo\u001b[0m\u001b[0;34m.\u001b[0m\u001b[0mget_values\u001b[0m\u001b[0;34m(\u001b[0m\u001b[0;34m)\u001b[0m\u001b[0;34m)\u001b[0m\u001b[0;34m\u001b[0m\u001b[0m\n\u001b[0m",
        "\u001b[0;32m/usr/local/lib/python2.7/site-packages/matplotlib/pyplot.pyc\u001b[0m in \u001b[0;36mimshow\u001b[0;34m(X, cmap, norm, aspect, interpolation, alpha, vmin, vmax, origin, extent, shape, filternorm, filterrad, imlim, resample, url, hold, **kwargs)\u001b[0m\n\u001b[1;32m   2953\u001b[0m                         \u001b[0mvmax\u001b[0m\u001b[0;34m=\u001b[0m\u001b[0mvmax\u001b[0m\u001b[0;34m,\u001b[0m \u001b[0morigin\u001b[0m\u001b[0;34m=\u001b[0m\u001b[0morigin\u001b[0m\u001b[0;34m,\u001b[0m \u001b[0mextent\u001b[0m\u001b[0;34m=\u001b[0m\u001b[0mextent\u001b[0m\u001b[0;34m,\u001b[0m \u001b[0mshape\u001b[0m\u001b[0;34m=\u001b[0m\u001b[0mshape\u001b[0m\u001b[0;34m,\u001b[0m\u001b[0;34m\u001b[0m\u001b[0m\n\u001b[1;32m   2954\u001b[0m                         \u001b[0mfilternorm\u001b[0m\u001b[0;34m=\u001b[0m\u001b[0mfilternorm\u001b[0m\u001b[0;34m,\u001b[0m \u001b[0mfilterrad\u001b[0m\u001b[0;34m=\u001b[0m\u001b[0mfilterrad\u001b[0m\u001b[0;34m,\u001b[0m\u001b[0;34m\u001b[0m\u001b[0m\n\u001b[0;32m-> 2955\u001b[0;31m                         imlim=imlim, resample=resample, url=url, **kwargs)\n\u001b[0m\u001b[1;32m   2956\u001b[0m         \u001b[0mdraw_if_interactive\u001b[0m\u001b[0;34m(\u001b[0m\u001b[0;34m)\u001b[0m\u001b[0;34m\u001b[0m\u001b[0m\n\u001b[1;32m   2957\u001b[0m     \u001b[0;32mfinally\u001b[0m\u001b[0;34m:\u001b[0m\u001b[0;34m\u001b[0m\u001b[0m\n",
        "\u001b[0;32m/usr/local/lib/python2.7/site-packages/matplotlib/axes/_axes.pyc\u001b[0m in \u001b[0;36mimshow\u001b[0;34m(self, X, cmap, norm, aspect, interpolation, alpha, vmin, vmax, origin, extent, shape, filternorm, filterrad, imlim, resample, url, **kwargs)\u001b[0m\n\u001b[1;32m   4628\u001b[0m                        filterrad=filterrad, resample=resample, **kwargs)\n\u001b[1;32m   4629\u001b[0m \u001b[0;34m\u001b[0m\u001b[0m\n\u001b[0;32m-> 4630\u001b[0;31m         \u001b[0mim\u001b[0m\u001b[0;34m.\u001b[0m\u001b[0mset_data\u001b[0m\u001b[0;34m(\u001b[0m\u001b[0mX\u001b[0m\u001b[0;34m)\u001b[0m\u001b[0;34m\u001b[0m\u001b[0m\n\u001b[0m\u001b[1;32m   4631\u001b[0m         \u001b[0mim\u001b[0m\u001b[0;34m.\u001b[0m\u001b[0mset_alpha\u001b[0m\u001b[0;34m(\u001b[0m\u001b[0malpha\u001b[0m\u001b[0;34m)\u001b[0m\u001b[0;34m\u001b[0m\u001b[0m\n\u001b[1;32m   4632\u001b[0m         \u001b[0;32mif\u001b[0m \u001b[0mim\u001b[0m\u001b[0;34m.\u001b[0m\u001b[0mget_clip_path\u001b[0m\u001b[0;34m(\u001b[0m\u001b[0;34m)\u001b[0m \u001b[0;32mis\u001b[0m \u001b[0mNone\u001b[0m\u001b[0;34m:\u001b[0m\u001b[0;34m\u001b[0m\u001b[0m\n",
        "\u001b[0;32m/usr/local/lib/python2.7/site-packages/matplotlib/image.pyc\u001b[0m in \u001b[0;36mset_data\u001b[0;34m(self, A)\u001b[0m\n\u001b[1;32m    428\u001b[0m         if (self._A.dtype != np.uint8 and\n\u001b[1;32m    429\u001b[0m             not np.can_cast(self._A.dtype, np.float)):\n\u001b[0;32m--> 430\u001b[0;31m             \u001b[0;32mraise\u001b[0m \u001b[0mTypeError\u001b[0m\u001b[0;34m(\u001b[0m\u001b[0;34m\"Image data can not convert to float\"\u001b[0m\u001b[0;34m)\u001b[0m\u001b[0;34m\u001b[0m\u001b[0m\n\u001b[0m\u001b[1;32m    431\u001b[0m \u001b[0;34m\u001b[0m\u001b[0m\n\u001b[1;32m    432\u001b[0m         if (self._A.ndim not in (2, 3) or\n",
        "\u001b[0;31mTypeError\u001b[0m: Image data can not convert to float"
       ]
      },
      {
       "metadata": {},
       "output_type": "display_data",
       "png": "[encoded data removed]",
       "text": [
        "<matplotlib.figure.Figure at 0x108bdf0d0>"
       ]
      }
     ],
     "prompt_number": 13
    },
    {
     "cell_type": "code",
     "collapsed": false,
     "input": [
      "dfo_map=dfo_map.isnull()"
     ],
     "language": "python",
     "metadata": {},
     "outputs": [],
     "prompt_number": 7
    },
    {
     "cell_type": "code",
     "collapsed": false,
     "input": [
      "#this is the R matrix\n",
      "dfo_map.head()"
     ],
     "language": "python",
     "metadata": {},
     "outputs": [
      {
       "html": [
        "<div style=\"max-height:1000px;max-width:1500px;overflow:auto;\">\n",
        "<table border=\"1\" class=\"dataframe\">\n",
        "  <thead>\n",
        "    <tr style=\"text-align: right;\">\n",
        "      <th></th>\n",
        "      <th>time_pf</th>\n",
        "      <th>num_of_cells</th>\n",
        "      <th>meiotic</th>\n",
        "      <th>stage</th>\n",
        "      <th>cell_diameter_um</th>\n",
        "      <th>spindle_length__asters_um</th>\n",
        "      <th>spindle_length_poles_um</th>\n",
        "      <th>spindle_width_um</th>\n",
        "      <th>spindle_aspect_ratio_asters_um</th>\n",
        "      <th>spindle_aspect_ratio_poles_um</th>\n",
        "      <th>...</th>\n",
        "      <th>num_of_cells_CAT</th>\n",
        "      <th>num_of_cells_NUM</th>\n",
        "      <th>classification_CAT</th>\n",
        "      <th>phylum_CAT</th>\n",
        "      <th>organism_CAT</th>\n",
        "      <th>cleavage_type_CAT</th>\n",
        "      <th>fixation_CAT</th>\n",
        "      <th>microscope_CAT</th>\n",
        "      <th>stage_CAT</th>\n",
        "      <th>day_old</th>\n",
        "    </tr>\n",
        "  </thead>\n",
        "  <tbody>\n",
        "    <tr>\n",
        "      <th>0</th>\n",
        "      <td> False</td>\n",
        "      <td> False</td>\n",
        "      <td> False</td>\n",
        "      <td> False</td>\n",
        "      <td> False</td>\n",
        "      <td> False</td>\n",
        "      <td> False</td>\n",
        "      <td> False</td>\n",
        "      <td> False</td>\n",
        "      <td> False</td>\n",
        "      <td>...</td>\n",
        "      <td> False</td>\n",
        "      <td> False</td>\n",
        "      <td> False</td>\n",
        "      <td> False</td>\n",
        "      <td> False</td>\n",
        "      <td> False</td>\n",
        "      <td> False</td>\n",
        "      <td> False</td>\n",
        "      <td> False</td>\n",
        "      <td> False</td>\n",
        "    </tr>\n",
        "    <tr>\n",
        "      <th>1</th>\n",
        "      <td> False</td>\n",
        "      <td> False</td>\n",
        "      <td> False</td>\n",
        "      <td> False</td>\n",
        "      <td> False</td>\n",
        "      <td> False</td>\n",
        "      <td> False</td>\n",
        "      <td> False</td>\n",
        "      <td> False</td>\n",
        "      <td> False</td>\n",
        "      <td>...</td>\n",
        "      <td> False</td>\n",
        "      <td> False</td>\n",
        "      <td> False</td>\n",
        "      <td> False</td>\n",
        "      <td> False</td>\n",
        "      <td> False</td>\n",
        "      <td> False</td>\n",
        "      <td> False</td>\n",
        "      <td> False</td>\n",
        "      <td> False</td>\n",
        "    </tr>\n",
        "    <tr>\n",
        "      <th>2</th>\n",
        "      <td> False</td>\n",
        "      <td> False</td>\n",
        "      <td> False</td>\n",
        "      <td> False</td>\n",
        "      <td> False</td>\n",
        "      <td> False</td>\n",
        "      <td> False</td>\n",
        "      <td> False</td>\n",
        "      <td> False</td>\n",
        "      <td> False</td>\n",
        "      <td>...</td>\n",
        "      <td> False</td>\n",
        "      <td> False</td>\n",
        "      <td> False</td>\n",
        "      <td> False</td>\n",
        "      <td> False</td>\n",
        "      <td> False</td>\n",
        "      <td> False</td>\n",
        "      <td> False</td>\n",
        "      <td> False</td>\n",
        "      <td> False</td>\n",
        "    </tr>\n",
        "    <tr>\n",
        "      <th>3</th>\n",
        "      <td> False</td>\n",
        "      <td> False</td>\n",
        "      <td> False</td>\n",
        "      <td> False</td>\n",
        "      <td> False</td>\n",
        "      <td> False</td>\n",
        "      <td> False</td>\n",
        "      <td> False</td>\n",
        "      <td> False</td>\n",
        "      <td> False</td>\n",
        "      <td>...</td>\n",
        "      <td> False</td>\n",
        "      <td> False</td>\n",
        "      <td> False</td>\n",
        "      <td> False</td>\n",
        "      <td> False</td>\n",
        "      <td> False</td>\n",
        "      <td> False</td>\n",
        "      <td> False</td>\n",
        "      <td> False</td>\n",
        "      <td> False</td>\n",
        "    </tr>\n",
        "    <tr>\n",
        "      <th>4</th>\n",
        "      <td> False</td>\n",
        "      <td> False</td>\n",
        "      <td> False</td>\n",
        "      <td>  True</td>\n",
        "      <td> False</td>\n",
        "      <td>  True</td>\n",
        "      <td>  True</td>\n",
        "      <td>  True</td>\n",
        "      <td>  True</td>\n",
        "      <td>  True</td>\n",
        "      <td>...</td>\n",
        "      <td> False</td>\n",
        "      <td> False</td>\n",
        "      <td> False</td>\n",
        "      <td> False</td>\n",
        "      <td> False</td>\n",
        "      <td> False</td>\n",
        "      <td> False</td>\n",
        "      <td> False</td>\n",
        "      <td>  True</td>\n",
        "      <td> False</td>\n",
        "    </tr>\n",
        "  </tbody>\n",
        "</table>\n",
        "<p>5 rows \u00d7 41 columns</p>\n",
        "</div>"
       ],
       "metadata": {},
       "output_type": "pyout",
       "prompt_number": 10,
       "text": [
        "  time_pf num_of_cells meiotic  stage cell_diameter_um  \\\n",
        "0   False        False   False  False            False   \n",
        "1   False        False   False  False            False   \n",
        "2   False        False   False  False            False   \n",
        "3   False        False   False  False            False   \n",
        "4   False        False   False   True            False   \n",
        "\n",
        "  spindle_length__asters_um spindle_length_poles_um spindle_width_um  \\\n",
        "0                     False                   False            False   \n",
        "1                     False                   False            False   \n",
        "2                     False                   False            False   \n",
        "3                     False                   False            False   \n",
        "4                      True                    True             True   \n",
        "\n",
        "  spindle_aspect_ratio_asters_um spindle_aspect_ratio_poles_um   ...    \\\n",
        "0                          False                         False   ...     \n",
        "1                          False                         False   ...     \n",
        "2                          False                         False   ...     \n",
        "3                          False                         False   ...     \n",
        "4                           True                          True   ...     \n",
        "\n",
        "  num_of_cells_CAT num_of_cells_NUM classification_CAT phylum_CAT  \\\n",
        "0            False            False              False      False   \n",
        "1            False            False              False      False   \n",
        "2            False            False              False      False   \n",
        "3            False            False              False      False   \n",
        "4            False            False              False      False   \n",
        "\n",
        "  organism_CAT cleavage_type_CAT fixation_CAT microscope_CAT stage_CAT day_old  \n",
        "0        False             False        False          False     False   False  \n",
        "1        False             False        False          False     False   False  \n",
        "2        False             False        False          False     False   False  \n",
        "3        False             False        False          False     False   False  \n",
        "4        False             False        False          False      True   False  \n",
        "\n",
        "[5 rows x 41 columns]"
       ]
      }
     ],
     "prompt_number": 10
    },
    {
     "cell_type": "code",
     "collapsed": false,
     "input": [],
     "language": "python",
     "metadata": {},
     "outputs": []
    },
    {
     "cell_type": "code",
     "collapsed": false,
     "input": [
      "#params\n",
      "#Y\n",
      "#R"
     ],
     "language": "python",
     "metadata": {},
     "outputs": []
    },
    {
     "cell_type": "code",
     "collapsed": false,
     "input": [
      "def costFunction(params, Y, R, num_users, num_movies, num_features, my_lambda):\n",
      "    return J, grad"
     ],
     "language": "python",
     "metadata": {},
     "outputs": [],
     "prompt_number": 11
    },
    {
     "cell_type": "code",
     "collapsed": false,
     "input": [],
     "language": "python",
     "metadata": {},
     "outputs": []
    },
    {
     "cell_type": "code",
     "collapsed": false,
     "input": [],
     "language": "python",
     "metadata": {},
     "outputs": []
    }
   ],
   "metadata": {}
  }
 ]
}