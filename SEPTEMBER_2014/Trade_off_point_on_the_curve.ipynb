{
 "metadata": {
  "name": "",
  "signature": "sha256:83c5dcd23e3e869aea5dfdb47067ee3297515b2cd252d6d7cab18faca614991d"
 },
 "nbformat": 3,
 "nbformat_minor": 0,
 "worksheets": [
  {
   "cells": [
    {
     "cell_type": "code",
     "collapsed": false,
     "input": [
      "#http://stackoverflow.com/questions/2018178/finding-the-best-trade-off-point-on-a-curve"
     ],
     "language": "python",
     "metadata": {},
     "outputs": [],
     "prompt_number": 1
    },
    {
     "cell_type": "code",
     "collapsed": false,
     "input": [
      "import pandas as pd\n",
      "import numpy as np\n",
      "import matplotlib.pyplot as plt\n",
      "pd.set_option('display.mpl_style', 'default') # Make the graphs a bit prettier\n",
      "%matplotlib inline\n",
      "\n",
      "import re"
     ],
     "language": "python",
     "metadata": {},
     "outputs": [],
     "prompt_number": 7
    },
    {
     "cell_type": "code",
     "collapsed": false,
     "input": [
      "#curve = [8.4663 8.3457 5.4507 5.3275 4.8305 4.7895 4.6889 4.6833 4.6819 4.6542 4.6501 4.6287 4.6162 4.585 4.5535 4.5134 4.474 4.4089 4.3797 4.3494 4.3268 4.3218 4.3206 4.3206 4.3203 4.2975 4.2864 4.2821 4.2544 4.2288 4.2281 4.2265 4.2226 4.2206 4.2146 4.2144 4.2114 4.1923 4.19 4.1894 4.1785 4.178 4.1694 4.1694 4.1694 4.1556 4.1498 4.1498 4.1357 4.1222 4.1222 4.1217 4.1192 4.1178 4.1139 4.1135 4.1125 4.1035 4.1025 4.1023 4.0971 4.0969 4.0915 4.0915 4.0914 4.0836 4.0804 4.0803 4.0722 4.065 4.065 4.0649 4.0644 4.0637 4.0616 4.0616 4.061 4.0572 4.0563 4.056 4.0545 4.0545 4.0522 4.0519 4.0514 4.0484 4.0467 4.0463 4.0422 4.0392 4.0388 4.0385 4.0385 4.0383 4.038 4.0379 4.0375 4.0364 4.0353 4.0344];\n",
      "\n",
      "# get coordinates of all the points\n",
      "#nPoints = length(curve);\n",
      "#allCoord = [1:nPoints;curve]';              %'# SO formatting\n",
      "\n",
      "# pull out first point\n",
      "#firstPoint = allCoord(1,:);\n",
      "\n",
      "%# get vector between first and last point - this is the line\n",
      "lineVec = allCoord(end,:) - firstPoint;\n",
      "\n",
      "%# normalize the line vector\n",
      "lineVecN = lineVec / sqrt(sum(lineVec.^2));\n",
      "\n",
      "%# find the distance from each point to the line:\n",
      "%# vector between all points and first point\n",
      "vecFromFirst = bsxfun(@minus, allCoord, firstPoint);\n",
      "\n",
      "%# To calculate the distance to the line, we split vecFromFirst into two \n",
      "%# components, one that is parallel to the line and one that is perpendicular \n",
      "%# Then, we take the norm of the part that is perpendicular to the line and \n",
      "%# get the distance.\n",
      "%# We find the vector parallel to the line by projecting vecFromFirst onto \n",
      "%# the line. The perpendicular vector is vecFromFirst - vecFromFirstParallel\n",
      "%# We project vecFromFirst by taking the scalar product of the vector with \n",
      "%# the unit vector that points in the direction of the line (this gives us \n",
      "%# the length of the projection of vecFromFirst onto the line). If we \n",
      "%# multiply the scalar product by the unit vector, we have vecFromFirstParallel\n",
      "scalarProduct = dot(vecFromFirst, repmat(lineVecN,nPoints,1), 2);\n",
      "vecFromFirstParallel = scalarProduct * lineVecN;\n",
      "vecToLine = vecFromFirst - vecFromFirstParallel;\n",
      "\n",
      "%# distance to line is the norm of vecToLine\n",
      "distToLine = sqrt(sum(vecToLine.^2,2));\n",
      "\n",
      "%# plot the distance to the line\n",
      "figure('Name','distance from curve to line'), plot(distToLine)\n",
      "\n",
      "%# now all you need is to find the maximum\n",
      "[maxDist,idxOfBestPoint] = max(distToLine);\n",
      "\n",
      "%# plot\n",
      "figure, plot(curve)\n",
      "hold on\n",
      "plot(allCoord(idxOfBestPoint,1), allCoord(idxOfBestPoint,2), 'or')"
     ],
     "language": "python",
     "metadata": {},
     "outputs": []
    },
    {
     "cell_type": "code",
     "collapsed": false,
     "input": [
      "curve = [8.4663, 8.3457, 5.4507, 5.3275, 4.8305, 4.7895, 4.6889, 4.6833, 4.6819, 4.6542, 4.6501, 4.6287, 4.6162, 4.585, 4.5535, 4.5134, 4.474, 4.4089, 4.3797, 4.3494, 4.3268, 4.3218, 4.3206, 4.3206, 4.3203, 4.2975, 4.2864, 4.2821, 4.2544, 4.2288, 4.2281, 4.2265, 4.2226, 4.2206, 4.2146, 4.2144, 4.2114, 4.1923 ,4.19 ,4.1894, 4.1785, 4.178, 4.1694, 4.1694, 4.1694, 4.1556, 4.1498, 4.1498, 4.1357 ,4.1222, 4.1222, 4.1217, 4.1192, 4.1178, 4.1139, 4.1135, 4.1125, 4.1035, 4.1025, 4.1023, 4.0971, 4.0969, 4.0915, 4.0915, 4.0914, 4.0836, 4.0804, 4.0803, 4.0722, 4.065, 4.065, 4.0649, 4.0644, 4.0637, 4.0616, 4.0616, 4.061, 4.0572, 4.0563, 4.056, 4.0545, 4.0545, 4.0522, 4.0519, 4.0514, 4.0484, 4.0467,4.0463, 4.0422, 4.0392, 4.0388, 4.0385, 4.0385, 4.0383, 4.038, 4.0379, 4.0375, 4.0364, 4.0353, 4.0344]"
     ],
     "language": "python",
     "metadata": {},
     "outputs": [],
     "prompt_number": 4
    },
    {
     "cell_type": "code",
     "collapsed": false,
     "input": [
      "len(curve)"
     ],
     "language": "python",
     "metadata": {},
     "outputs": [
      {
       "metadata": {},
       "output_type": "pyout",
       "prompt_number": 5,
       "text": [
        "100"
       ]
      }
     ],
     "prompt_number": 5
    },
    {
     "cell_type": "code",
     "collapsed": false,
     "input": [
      "plt.plot(curve)"
     ],
     "language": "python",
     "metadata": {},
     "outputs": [
      {
       "metadata": {},
       "output_type": "pyout",
       "prompt_number": 8,
       "text": [
        "[<matplotlib.lines.Line2D at 0x10aa3ded0>]"
       ]
      },
      {
       "metadata": {},
       "output_type": "display_data",
       "png": "[encoded data removed]",
       "text": [
        "<matplotlib.figure.Figure at 0x10850a9d0>"
       ]
      }
     ],
     "prompt_number": 8
    },
    {
     "cell_type": "code",
     "collapsed": false,
     "input": [
      "# get coordinates of all the points\n",
      "nPoints = len(curve)"
     ],
     "language": "python",
     "metadata": {},
     "outputs": [],
     "prompt_number": 10
    },
    {
     "cell_type": "code",
     "collapsed": false,
     "input": [
      "allCoord = zip(range(0,nPoints),curve)# SO formatting\n",
      "allCoord=np.array(allCoord)"
     ],
     "language": "python",
     "metadata": {},
     "outputs": [],
     "prompt_number": 18
    },
    {
     "cell_type": "code",
     "collapsed": false,
     "input": [
      "np.shape(np.array(allCoord))"
     ],
     "language": "python",
     "metadata": {},
     "outputs": [
      {
       "metadata": {},
       "output_type": "pyout",
       "prompt_number": 19,
       "text": [
        "(100, 2)"
       ]
      }
     ],
     "prompt_number": 19
    },
    {
     "cell_type": "code",
     "collapsed": false,
     "input": [
      "firstPoint = allCoord[1,:]"
     ],
     "language": "python",
     "metadata": {},
     "outputs": [],
     "prompt_number": 21
    },
    {
     "cell_type": "code",
     "collapsed": false,
     "input": [
      "firstPoint"
     ],
     "language": "python",
     "metadata": {},
     "outputs": [
      {
       "metadata": {},
       "output_type": "pyout",
       "prompt_number": 22,
       "text": [
        "array([ 1.    ,  8.3457])"
       ]
      }
     ],
     "prompt_number": 22
    },
    {
     "cell_type": "code",
     "collapsed": false,
     "input": [],
     "language": "python",
     "metadata": {},
     "outputs": []
    }
   ],
   "metadata": {}
  }
 ]
}