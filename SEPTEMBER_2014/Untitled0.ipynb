{
 "metadata": {
  "name": "",
  "signature": "sha256:a8f5ec05a3a86f29fbcdd0b2c4544902120e881397a6c8701083b0f2405bcdce"
 },
 "nbformat": 3,
 "nbformat_minor": 0,
 "worksheets": [
  {
   "cells": [
    {
     "cell_type": "code",
     "collapsed": false,
     "input": [
      "import pandas as pd\n",
      "\n"
     ],
     "language": "python",
     "metadata": {},
     "outputs": [],
     "prompt_number": 1
    },
    {
     "cell_type": "code",
     "collapsed": false,
     "input": [],
     "language": "python",
     "metadata": {},
     "outputs": []
    }
   ],
   "metadata": {}
  }
 ]
}