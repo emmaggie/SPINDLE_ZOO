{
 "cells": [
  {
   "cell_type": "raw",
   "metadata": {},
   "source": [
    "Multivariate data visualisation. **Relates to figure: S4**. The notebook below shows how to prepare data and generate multivariate visualizations shown in figure S4."
   ]
  },
  {
   "cell_type": "markdown",
   "metadata": {},
   "source": [
    "#I. Preparation"
   ]
  },
  {
   "cell_type": "markdown",
   "metadata": {},
   "source": [
    "Load necessary libraries"
   ]
  },
  {
   "cell_type": "code",
   "execution_count": 11,
   "metadata": {
    "collapsed": false
   },
   "outputs": [],
   "source": [
    "#load necessary libs\n",
    "import pandas as pd\n",
    "import numpy as np\n",
    "import matplotlib.pyplot as plt\n",
    "pd.set_option('display.mpl_style','default')\n",
    "%matplotlib inline\n",
    "import re\n",
    "import pygal\n",
    "from IPython.display import SVG\n",
    "\n"
   ]
  },
  {
   "cell_type": "code",
   "execution_count": 12,
   "metadata": {
    "collapsed": false
   },
   "outputs": [
    {
     "name": "stdout",
     "output_type": "stream",
     "text": [
      "ipython==3.0.0\r\n",
      "ipython-sql==0.3.4\r\n"
     ]
    }
   ],
   "source": [
    "!pip freeze | grep ipython"
   ]
  },
  {
   "cell_type": "code",
   "execution_count": 13,
   "metadata": {
    "collapsed": false
   },
   "outputs": [
    {
     "name": "stdout",
     "output_type": "stream",
     "text": [
      "matplotlib==1.4.0\r\n"
     ]
    }
   ],
   "source": [
    "!pip freeze | grep matplotlib"
   ]
  },
  {
   "cell_type": "code",
   "execution_count": 14,
   "metadata": {
    "collapsed": false
   },
   "outputs": [
    {
     "data": {
      "text/plain": [
       "('0.15.1', '1.9.1', '1.5.1', '2.2.1')"
      ]
     },
     "execution_count": 14,
     "metadata": {},
     "output_type": "execute_result"
    }
   ],
   "source": [
    "pd.__version__, np.__version__,pygal.__version__, re.__version__\n"
   ]
  },
  {
   "cell_type": "markdown",
   "metadata": {},
   "source": [
    "#II. Load and verify data"
   ]
  },
  {
   "cell_type": "markdown",
   "metadata": {},
   "source": [
    "This is the original data frame:"
   ]
  },
  {
   "cell_type": "code",
   "execution_count": 15,
   "metadata": {
    "collapsed": false
   },
   "outputs": [],
   "source": [
    "df=pd.read_excel('../Data/ZOODATA_140923.xlsx')"
   ]
  },
  {
   "cell_type": "code",
   "execution_count": 16,
   "metadata": {
    "collapsed": false
   },
   "outputs": [
    {
     "data": {
      "text/html": [
       "<div style=\"max-height:1000px;max-width:1500px;overflow:auto;\">\n",
       "<table border=\"1\" class=\"dataframe\">\n",
       "  <thead>\n",
       "    <tr style=\"text-align: right;\">\n",
       "      <th></th>\n",
       "      <th>date</th>\n",
       "      <th>image</th>\n",
       "      <th>objective</th>\n",
       "      <th>time PF</th>\n",
       "      <th># of cells</th>\n",
       "      <th>meiotic</th>\n",
       "      <th>stage</th>\n",
       "      <th>cell diameter (um)</th>\n",
       "      <th>Spindle Length_ asters (um)</th>\n",
       "      <th>Spindle length_poles (um)</th>\n",
       "      <th>...</th>\n",
       "      <th>Distance between chromosomes (um)</th>\n",
       "      <th>microscope</th>\n",
       "      <th>fixation</th>\n",
       "      <th>organism</th>\n",
       "      <th>phylum</th>\n",
       "      <th>classification</th>\n",
       "      <th>genome</th>\n",
       "      <th>chromosomes</th>\n",
       "      <th>Day</th>\n",
       "      <th>cleavage type</th>\n",
       "    </tr>\n",
       "  </thead>\n",
       "  <tbody>\n",
       "    <tr>\n",
       "      <th>count</th>\n",
       "      <td>   2001</td>\n",
       "      <td>                        2001</td>\n",
       "      <td> 2001</td>\n",
       "      <td> 2001</td>\n",
       "      <td> 2001</td>\n",
       "      <td> 2001</td>\n",
       "      <td> 2001</td>\n",
       "      <td> 2001</td>\n",
       "      <td> 2001</td>\n",
       "      <td> 2001</td>\n",
       "      <td>...</td>\n",
       "      <td> 2001</td>\n",
       "      <td> 2001</td>\n",
       "      <td> 2001</td>\n",
       "      <td>          2001</td>\n",
       "      <td>          1990</td>\n",
       "      <td> 2001</td>\n",
       "      <td> 2001</td>\n",
       "      <td> 2001</td>\n",
       "      <td>   2001</td>\n",
       "      <td> 2001</td>\n",
       "    </tr>\n",
       "    <tr>\n",
       "      <th>unique</th>\n",
       "      <td>     32</td>\n",
       "      <td>                        1497</td>\n",
       "      <td>   13</td>\n",
       "      <td>   45</td>\n",
       "      <td>   15</td>\n",
       "      <td>    2</td>\n",
       "      <td>   10</td>\n",
       "      <td> 1833</td>\n",
       "      <td> 1587</td>\n",
       "      <td> 1524</td>\n",
       "      <td>...</td>\n",
       "      <td>  417</td>\n",
       "      <td>   50</td>\n",
       "      <td>    4</td>\n",
       "      <td>            20</td>\n",
       "      <td>            10</td>\n",
       "      <td>    4</td>\n",
       "      <td>   17</td>\n",
       "      <td>   13</td>\n",
       "      <td>     29</td>\n",
       "      <td>    9</td>\n",
       "    </tr>\n",
       "    <tr>\n",
       "      <th>top</th>\n",
       "      <td> 140603</td>\n",
       "      <td> 131121_urchinUrchin_2hrPF 6</td>\n",
       "      <td>  40x</td>\n",
       "      <td>   na</td>\n",
       "      <td>    1</td>\n",
       "      <td>    f</td>\n",
       "      <td>    m</td>\n",
       "      <td>   na</td>\n",
       "      <td>   na</td>\n",
       "      <td>   na</td>\n",
       "      <td>...</td>\n",
       "      <td>    0</td>\n",
       "      <td> mm40</td>\n",
       "      <td>   df</td>\n",
       "      <td> urechis caupo</td>\n",
       "      <td> echinodermata</td>\n",
       "      <td>   bd</td>\n",
       "      <td>   na</td>\n",
       "      <td>   18</td>\n",
       "      <td> 140603</td>\n",
       "      <td>  rah</td>\n",
       "    </tr>\n",
       "    <tr>\n",
       "      <th>freq</th>\n",
       "      <td>    590</td>\n",
       "      <td>                          18</td>\n",
       "      <td> 1219</td>\n",
       "      <td>  671</td>\n",
       "      <td>  700</td>\n",
       "      <td> 1528</td>\n",
       "      <td> 1165</td>\n",
       "      <td>   54</td>\n",
       "      <td>  102</td>\n",
       "      <td>   30</td>\n",
       "      <td>...</td>\n",
       "      <td> 1435</td>\n",
       "      <td> 1196</td>\n",
       "      <td>  909</td>\n",
       "      <td>           508</td>\n",
       "      <td>           700</td>\n",
       "      <td> 1132</td>\n",
       "      <td>  643</td>\n",
       "      <td>  605</td>\n",
       "      <td>    590</td>\n",
       "      <td>  711</td>\n",
       "    </tr>\n",
       "  </tbody>\n",
       "</table>\n",
       "<p>4 rows × 35 columns</p>\n",
       "</div>"
      ],
      "text/plain": [
       "          date                        image objective time PF  # of cells  \\\n",
       "count     2001                         2001      2001    2001        2001   \n",
       "unique      32                         1497        13      45          15   \n",
       "top     140603  131121_urchinUrchin_2hrPF 6       40x      na           1   \n",
       "freq       590                           18      1219     671         700   \n",
       "\n",
       "       meiotic stage cell diameter (um) Spindle Length_ asters (um)  \\\n",
       "count     2001  2001               2001                        2001   \n",
       "unique       2    10               1833                        1587   \n",
       "top          f     m                 na                          na   \n",
       "freq      1528  1165                 54                         102   \n",
       "\n",
       "       Spindle length_poles (um)      ...       \\\n",
       "count                       2001      ...        \n",
       "unique                      1524      ...        \n",
       "top                           na      ...        \n",
       "freq                          30      ...        \n",
       "\n",
       "       Distance between chromosomes (um) microscope fixation       organism  \\\n",
       "count                               2001       2001     2001           2001   \n",
       "unique                               417         50        4             20   \n",
       "top                                    0       mm40       df  urechis caupo   \n",
       "freq                                1435       1196      909            508   \n",
       "\n",
       "               phylum classification genome chromosomes     Day cleavage type  \n",
       "count            1990           2001   2001        2001    2001          2001  \n",
       "unique             10              4     17          13      29             9  \n",
       "top     echinodermata             bd     na          18  140603           rah  \n",
       "freq              700           1132    643         605     590           711  \n",
       "\n",
       "[4 rows x 35 columns]"
      ]
     },
     "execution_count": 16,
     "metadata": {},
     "output_type": "execute_result"
    }
   ],
   "source": [
    "df.describe()"
   ]
  },
  {
   "cell_type": "code",
   "execution_count": 17,
   "metadata": {
    "collapsed": false
   },
   "outputs": [
    {
     "data": {
      "text/plain": [
       "Index([u'date', u'image', u'objective', u'time PF', u'# of cells', u'meiotic', u'stage', u'cell diameter (um)', u'Spindle Length_ asters (um)', u'Spindle length_poles (um)', u'spindle width (um)', u'spindle aspect ratio_asters (um)', u'spindle aspect ratio_poles (um)', u'astere-to-pole distance 1 (um)', u'aster-to-pole distance 2 (um)', u'inner aster diameter 1 (um)', u'inner aster diameter 2 (um)', u'outer aster diameter 1 (um)', u'outer  diameter 2 (um)', u'centrosome', u'metaphase plate lengt h (um)', u'metaphase plate width (um)', u'metaphase plate aspect ratio (um)', u'polar body diameter 1 (um)', u'polar body diameter 2 (um)', u'Distance between chromosomes (um)', u'microscope', u'fixation', u'organism', u'phylum', u'classification', u'genome', u'chromosomes', u'Day', u'cleavage type'], dtype='object')"
      ]
     },
     "execution_count": 17,
     "metadata": {},
     "output_type": "execute_result"
    }
   ],
   "source": [
    "df.columns"
   ]
  },
  {
   "cell_type": "markdown",
   "metadata": {},
   "source": [
    "This is the 'clean' data frame:"
   ]
  },
  {
   "cell_type": "code",
   "execution_count": 18,
   "metadata": {
    "collapsed": false
   },
   "outputs": [],
   "source": [
    "dfo=pd.read_csv('../Data/original.csv')\n",
    "#this is the cleaned up data frame"
   ]
  },
  {
   "cell_type": "code",
   "execution_count": 19,
   "metadata": {
    "collapsed": false
   },
   "outputs": [
    {
     "data": {
      "text/html": [
       "<div style=\"max-height:1000px;max-width:1500px;overflow:auto;\">\n",
       "<table border=\"1\" class=\"dataframe\">\n",
       "  <thead>\n",
       "    <tr style=\"text-align: right;\">\n",
       "      <th></th>\n",
       "      <th>time_pf</th>\n",
       "      <th>meiotic</th>\n",
       "      <th>cell_diameter_um</th>\n",
       "      <th>spindle_length__asters_um</th>\n",
       "      <th>spindle_length_poles_um</th>\n",
       "      <th>spindle_width_um</th>\n",
       "      <th>spindle_aspect_ratio_asters_um</th>\n",
       "      <th>spindle_aspect_ratio_poles_um</th>\n",
       "      <th>astere-to-pole_distance_1_um</th>\n",
       "      <th>aster-to-pole_distance_2_um</th>\n",
       "      <th>...</th>\n",
       "      <th>chromosomes</th>\n",
       "      <th>num_of_cells_CAT</th>\n",
       "      <th>num_of_cells_NUM</th>\n",
       "      <th>classification_CAT</th>\n",
       "      <th>phylum_CAT</th>\n",
       "      <th>organism_CAT</th>\n",
       "      <th>cleavage_type_CAT</th>\n",
       "      <th>fixation_CAT</th>\n",
       "      <th>microscope_CAT</th>\n",
       "      <th>stage_CAT</th>\n",
       "    </tr>\n",
       "  </thead>\n",
       "  <tbody>\n",
       "    <tr>\n",
       "      <th>count</th>\n",
       "      <td> 2001.000000</td>\n",
       "      <td> 2001.000000</td>\n",
       "      <td> 1947.000000</td>\n",
       "      <td> 1899.000000</td>\n",
       "      <td> 1971.000000</td>\n",
       "      <td> 1851.000000</td>\n",
       "      <td> 1836.000000</td>\n",
       "      <td> 1836.000000</td>\n",
       "      <td> 1834.000000</td>\n",
       "      <td> 1788.000000</td>\n",
       "      <td>...</td>\n",
       "      <td> 1997.000000</td>\n",
       "      <td> 1914.000000</td>\n",
       "      <td> 1914.000000</td>\n",
       "      <td> 2001.000000</td>\n",
       "      <td> 2001.000000</td>\n",
       "      <td> 2001.000000</td>\n",
       "      <td> 2001.000000</td>\n",
       "      <td> 1863.000000</td>\n",
       "      <td> 1863.000000</td>\n",
       "      <td> 1993.000000</td>\n",
       "    </tr>\n",
       "    <tr>\n",
       "      <th>mean</th>\n",
       "      <td>  220.012994</td>\n",
       "      <td>    0.236382</td>\n",
       "      <td>  108.800352</td>\n",
       "      <td>   30.644614</td>\n",
       "      <td>   22.373868</td>\n",
       "      <td>   11.518706</td>\n",
       "      <td>    2.700673</td>\n",
       "      <td>    2.040230</td>\n",
       "      <td>    1.231875</td>\n",
       "      <td>    1.144923</td>\n",
       "      <td>...</td>\n",
       "      <td>   29.706560</td>\n",
       "      <td>    3.748171</td>\n",
       "      <td>   14.229885</td>\n",
       "      <td>    1.804598</td>\n",
       "      <td>    3.413293</td>\n",
       "      <td>    6.022489</td>\n",
       "      <td>    3.205897</td>\n",
       "      <td>    2.300590</td>\n",
       "      <td>    7.286098</td>\n",
       "      <td>    2.809834</td>\n",
       "    </tr>\n",
       "    <tr>\n",
       "      <th>std</th>\n",
       "      <td>  186.964737</td>\n",
       "      <td>    0.424966</td>\n",
       "      <td>  157.838006</td>\n",
       "      <td>   18.152905</td>\n",
       "      <td>   12.011064</td>\n",
       "      <td>    5.403774</td>\n",
       "      <td>    1.339841</td>\n",
       "      <td>    0.962627</td>\n",
       "      <td>    2.457425</td>\n",
       "      <td>    2.643949</td>\n",
       "      <td>...</td>\n",
       "      <td>   10.908621</td>\n",
       "      <td>    3.379052</td>\n",
       "      <td>   25.527277</td>\n",
       "      <td>    0.949894</td>\n",
       "      <td>    2.229261</td>\n",
       "      <td>    3.701350</td>\n",
       "      <td>    1.982066</td>\n",
       "      <td>    0.649576</td>\n",
       "      <td>   13.034666</td>\n",
       "      <td>    2.247592</td>\n",
       "    </tr>\n",
       "    <tr>\n",
       "      <th>min</th>\n",
       "      <td>    0.000000</td>\n",
       "      <td>    0.000000</td>\n",
       "      <td>    0.100000</td>\n",
       "      <td>    2.005080</td>\n",
       "      <td>    2.005080</td>\n",
       "      <td>    0.000000</td>\n",
       "      <td>    0.478892</td>\n",
       "      <td>    0.601124</td>\n",
       "      <td>    0.000000</td>\n",
       "      <td>    0.000000</td>\n",
       "      <td>...</td>\n",
       "      <td>    8.000000</td>\n",
       "      <td>    1.000000</td>\n",
       "      <td>    1.000000</td>\n",
       "      <td>    1.000000</td>\n",
       "      <td>    1.000000</td>\n",
       "      <td>    1.000000</td>\n",
       "      <td>    1.000000</td>\n",
       "      <td>    1.000000</td>\n",
       "      <td>    1.000000</td>\n",
       "      <td>    1.000000</td>\n",
       "    </tr>\n",
       "    <tr>\n",
       "      <th>25%</th>\n",
       "      <td>   60.000000</td>\n",
       "      <td>    0.000000</td>\n",
       "      <td>   42.563550</td>\n",
       "      <td>   18.078060</td>\n",
       "      <td>   14.191200</td>\n",
       "      <td>    7.655740</td>\n",
       "      <td>    1.869799</td>\n",
       "      <td>    1.480595</td>\n",
       "      <td>    0.000000</td>\n",
       "      <td>    0.000000</td>\n",
       "      <td>...</td>\n",
       "      <td>   18.000000</td>\n",
       "      <td>    1.000000</td>\n",
       "      <td>    1.000000</td>\n",
       "      <td>    1.000000</td>\n",
       "      <td>    1.000000</td>\n",
       "      <td>    4.000000</td>\n",
       "      <td>    1.000000</td>\n",
       "      <td>    2.000000</td>\n",
       "      <td>    1.000000</td>\n",
       "      <td>    2.000000</td>\n",
       "    </tr>\n",
       "    <tr>\n",
       "      <th>50%</th>\n",
       "      <td>  210.000000</td>\n",
       "      <td>    0.000000</td>\n",
       "      <td>   76.600000</td>\n",
       "      <td>   27.383280</td>\n",
       "      <td>   21.166530</td>\n",
       "      <td>   10.542840</td>\n",
       "      <td>    2.419101</td>\n",
       "      <td>    1.829586</td>\n",
       "      <td>    0.000000</td>\n",
       "      <td>    0.000000</td>\n",
       "      <td>...</td>\n",
       "      <td>   36.000000</td>\n",
       "      <td>    3.000000</td>\n",
       "      <td>    4.000000</td>\n",
       "      <td>    1.000000</td>\n",
       "      <td>    4.000000</td>\n",
       "      <td>    6.000000</td>\n",
       "      <td>    3.000000</td>\n",
       "      <td>    2.000000</td>\n",
       "      <td>    1.000000</td>\n",
       "      <td>    2.000000</td>\n",
       "    </tr>\n",
       "    <tr>\n",
       "      <th>75%</th>\n",
       "      <td>  390.000000</td>\n",
       "      <td>    0.000000</td>\n",
       "      <td>  112.341810</td>\n",
       "      <td>   40.069260</td>\n",
       "      <td>   28.305585</td>\n",
       "      <td>   14.771295</td>\n",
       "      <td>    3.170257</td>\n",
       "      <td>    2.359085</td>\n",
       "      <td>    1.900000</td>\n",
       "      <td>    1.540192</td>\n",
       "      <td>...</td>\n",
       "      <td>   40.000000</td>\n",
       "      <td>    5.000000</td>\n",
       "      <td>   16.000000</td>\n",
       "      <td>    3.000000</td>\n",
       "      <td>    5.000000</td>\n",
       "      <td>    7.000000</td>\n",
       "      <td>    5.000000</td>\n",
       "      <td>    3.000000</td>\n",
       "      <td>    3.000000</td>\n",
       "      <td>    2.000000</td>\n",
       "    </tr>\n",
       "    <tr>\n",
       "      <th>max</th>\n",
       "      <td> 1200.000000</td>\n",
       "      <td>    1.000000</td>\n",
       "      <td> 1486.643200</td>\n",
       "      <td>  210.371700</td>\n",
       "      <td>  231.000000</td>\n",
       "      <td>   49.771260</td>\n",
       "      <td>   21.111111</td>\n",
       "      <td>   17.500000</td>\n",
       "      <td>   28.000000</td>\n",
       "      <td>   39.800000</td>\n",
       "      <td>...</td>\n",
       "      <td>   64.000000</td>\n",
       "      <td>   15.000000</td>\n",
       "      <td>  128.000000</td>\n",
       "      <td>    4.000000</td>\n",
       "      <td>   10.000000</td>\n",
       "      <td>   20.000000</td>\n",
       "      <td>    9.000000</td>\n",
       "      <td>    3.000000</td>\n",
       "      <td>   50.000000</td>\n",
       "      <td>   10.000000</td>\n",
       "    </tr>\n",
       "  </tbody>\n",
       "</table>\n",
       "<p>8 rows × 32 columns</p>\n",
       "</div>"
      ],
      "text/plain": [
       "           time_pf      meiotic  cell_diameter_um  spindle_length__asters_um  \\\n",
       "count  2001.000000  2001.000000       1947.000000                1899.000000   \n",
       "mean    220.012994     0.236382        108.800352                  30.644614   \n",
       "std     186.964737     0.424966        157.838006                  18.152905   \n",
       "min       0.000000     0.000000          0.100000                   2.005080   \n",
       "25%      60.000000     0.000000         42.563550                  18.078060   \n",
       "50%     210.000000     0.000000         76.600000                  27.383280   \n",
       "75%     390.000000     0.000000        112.341810                  40.069260   \n",
       "max    1200.000000     1.000000       1486.643200                 210.371700   \n",
       "\n",
       "       spindle_length_poles_um  spindle_width_um  \\\n",
       "count              1971.000000       1851.000000   \n",
       "mean                 22.373868         11.518706   \n",
       "std                  12.011064          5.403774   \n",
       "min                   2.005080          0.000000   \n",
       "25%                  14.191200          7.655740   \n",
       "50%                  21.166530         10.542840   \n",
       "75%                  28.305585         14.771295   \n",
       "max                 231.000000         49.771260   \n",
       "\n",
       "       spindle_aspect_ratio_asters_um  spindle_aspect_ratio_poles_um  \\\n",
       "count                     1836.000000                    1836.000000   \n",
       "mean                         2.700673                       2.040230   \n",
       "std                          1.339841                       0.962627   \n",
       "min                          0.478892                       0.601124   \n",
       "25%                          1.869799                       1.480595   \n",
       "50%                          2.419101                       1.829586   \n",
       "75%                          3.170257                       2.359085   \n",
       "max                         21.111111                      17.500000   \n",
       "\n",
       "       astere-to-pole_distance_1_um  aster-to-pole_distance_2_um     ...       \\\n",
       "count                   1834.000000                  1788.000000     ...        \n",
       "mean                       1.231875                     1.144923     ...        \n",
       "std                        2.457425                     2.643949     ...        \n",
       "min                        0.000000                     0.000000     ...        \n",
       "25%                        0.000000                     0.000000     ...        \n",
       "50%                        0.000000                     0.000000     ...        \n",
       "75%                        1.900000                     1.540192     ...        \n",
       "max                       28.000000                    39.800000     ...        \n",
       "\n",
       "       chromosomes  num_of_cells_CAT  num_of_cells_NUM  classification_CAT  \\\n",
       "count  1997.000000       1914.000000       1914.000000         2001.000000   \n",
       "mean     29.706560          3.748171         14.229885            1.804598   \n",
       "std      10.908621          3.379052         25.527277            0.949894   \n",
       "min       8.000000          1.000000          1.000000            1.000000   \n",
       "25%      18.000000          1.000000          1.000000            1.000000   \n",
       "50%      36.000000          3.000000          4.000000            1.000000   \n",
       "75%      40.000000          5.000000         16.000000            3.000000   \n",
       "max      64.000000         15.000000        128.000000            4.000000   \n",
       "\n",
       "        phylum_CAT  organism_CAT  cleavage_type_CAT  fixation_CAT  \\\n",
       "count  2001.000000   2001.000000        2001.000000   1863.000000   \n",
       "mean      3.413293      6.022489           3.205897      2.300590   \n",
       "std       2.229261      3.701350           1.982066      0.649576   \n",
       "min       1.000000      1.000000           1.000000      1.000000   \n",
       "25%       1.000000      4.000000           1.000000      2.000000   \n",
       "50%       4.000000      6.000000           3.000000      2.000000   \n",
       "75%       5.000000      7.000000           5.000000      3.000000   \n",
       "max      10.000000     20.000000           9.000000      3.000000   \n",
       "\n",
       "       microscope_CAT    stage_CAT  \n",
       "count     1863.000000  1993.000000  \n",
       "mean         7.286098     2.809834  \n",
       "std         13.034666     2.247592  \n",
       "min          1.000000     1.000000  \n",
       "25%          1.000000     2.000000  \n",
       "50%          1.000000     2.000000  \n",
       "75%          3.000000     2.000000  \n",
       "max         50.000000    10.000000  \n",
       "\n",
       "[8 rows x 32 columns]"
      ]
     },
     "execution_count": 19,
     "metadata": {},
     "output_type": "execute_result"
    }
   ],
   "source": [
    "dfo.describe()"
   ]
  },
  {
   "cell_type": "code",
   "execution_count": 20,
   "metadata": {
    "collapsed": false
   },
   "outputs": [
    {
     "data": {
      "text/plain": [
       "array(['asterina_miniata', 'caenorhabditis_elegans',\n",
       "       'cerebratulus_marginatus', 'ciona_intestinalis',\n",
       "       'helobdella_robusta', 'Strongylocentrotus_purpuratus',\n",
       "       'urechis_caupo', 'xenopus_laevis', 'mytilus_californianus',\n",
       "       'xenopus_tropicalis', 'Equus_caballus', 'Homo_sapiens',\n",
       "       'Macaca_mulatta', 'Callithrix_jacchus', 'monodelphis_domestica',\n",
       "       'sus_scrofa', 'mus_musculus', 'drosophila_melanogaster',\n",
       "       'danio_rerio', 'Clytia_hemisphaerica_1'], dtype=object)"
      ]
     },
     "execution_count": 20,
     "metadata": {},
     "output_type": "execute_result"
    }
   ],
   "source": [
    "dfo.organism.unique()"
   ]
  },
  {
   "cell_type": "markdown",
   "metadata": {},
   "source": [
    "##III. Get metaphase spindles only"
   ]
  },
  {
   "cell_type": "markdown",
   "metadata": {},
   "source": [
    "This is for both meiotic and mitotic spindles. Later clean mitotic too by narrowing down cell number."
   ]
  },
  {
   "cell_type": "code",
   "execution_count": 21,
   "metadata": {
    "collapsed": false
   },
   "outputs": [
    {
     "data": {
      "text/plain": [
       "Index([u'time_pf', u'num_of_cells', u'meiotic', u'stage', u'cell_diameter_um', u'spindle_length__asters_um', u'spindle_length_poles_um', u'spindle_width_um', u'spindle_aspect_ratio_asters_um', u'spindle_aspect_ratio_poles_um', u'astere-to-pole_distance_1_um', u'aster-to-pole_distance_2_um', u'inner_aster_diameter_1_um', u'inner_aster_diameter_2_um', u'outer_aster_diameter_1_um', u'outer__diameter_2_um', u'centrosome', u'metaphase_plate_lengt_h_um', u'metaphase_plate_width_um', u'metaphase_plate_aspect_ratio_um', u'polar_body_diameter_1_um', u'polar_body_diameter_2_um', u'distance_between_chromosomes_um', u'microscope', u'fixation', u'organism', u'phylum', u'classification', u'genome', u'chromosomes', u'cleavage_type', u'num_of_cells_CAT', u'num_of_cells_NUM', u'classification_CAT', u'phylum_CAT', u'organism_CAT', u'cleavage_type_CAT', u'fixation_CAT', u'microscope_CAT', u'stage_CAT', u'day_old'], dtype='object')"
      ]
     },
     "execution_count": 21,
     "metadata": {},
     "output_type": "execute_result"
    }
   ],
   "source": [
    "dfo.columns"
   ]
  },
  {
   "cell_type": "code",
   "execution_count": 22,
   "metadata": {
    "collapsed": false
   },
   "outputs": [
    {
     "data": {
      "text/plain": [
       "array(['a', 'm', 'p', nan, 'mII', 'aII', 'mI', 'aI', 'i', 'pI'], dtype=object)"
      ]
     },
     "execution_count": 22,
     "metadata": {},
     "output_type": "execute_result"
    }
   ],
   "source": [
    "dfo.stage.unique() # KEEP: m, mI, mII"
   ]
  },
  {
   "cell_type": "code",
   "execution_count": 23,
   "metadata": {
    "collapsed": false
   },
   "outputs": [
    {
     "data": {
      "text/plain": [
       "array(['a', 'm', 'mII'], dtype=object)"
      ]
     },
     "execution_count": 23,
     "metadata": {},
     "output_type": "execute_result"
    }
   ],
   "source": [
    "dfo[dfo.organism=='xenopus_laevis'].stage.unique()"
   ]
  },
  {
   "cell_type": "code",
   "execution_count": 24,
   "metadata": {
    "collapsed": false
   },
   "outputs": [],
   "source": [
    "dfo_met=dfo[(dfo.stage=='m') | (dfo.stage=='mII') | (dfo.stage=='mI')]"
   ]
  },
  {
   "cell_type": "code",
   "execution_count": 25,
   "metadata": {
    "collapsed": false
   },
   "outputs": [
    {
     "data": {
      "text/plain": [
       "array(['m', 'mII', 'mI'], dtype=object)"
      ]
     },
     "execution_count": 25,
     "metadata": {},
     "output_type": "execute_result"
    }
   ],
   "source": [
    "dfo_met.stage.unique()"
   ]
  },
  {
   "cell_type": "markdown",
   "metadata": {},
   "source": [
    "From now on use only *dfo_met*."
   ]
  },
  {
   "cell_type": "code",
   "execution_count": 26,
   "metadata": {
    "collapsed": false
   },
   "outputs": [
    {
     "data": {
      "text/html": [
       "<div style=\"max-height:1000px;max-width:1500px;overflow:auto;\">\n",
       "<table border=\"1\" class=\"dataframe\">\n",
       "  <thead>\n",
       "    <tr style=\"text-align: right;\">\n",
       "      <th></th>\n",
       "      <th>time_pf</th>\n",
       "      <th>meiotic</th>\n",
       "      <th>cell_diameter_um</th>\n",
       "      <th>spindle_length__asters_um</th>\n",
       "      <th>spindle_length_poles_um</th>\n",
       "      <th>spindle_width_um</th>\n",
       "      <th>spindle_aspect_ratio_asters_um</th>\n",
       "      <th>spindle_aspect_ratio_poles_um</th>\n",
       "      <th>astere-to-pole_distance_1_um</th>\n",
       "      <th>aster-to-pole_distance_2_um</th>\n",
       "      <th>...</th>\n",
       "      <th>chromosomes</th>\n",
       "      <th>num_of_cells_CAT</th>\n",
       "      <th>num_of_cells_NUM</th>\n",
       "      <th>classification_CAT</th>\n",
       "      <th>phylum_CAT</th>\n",
       "      <th>organism_CAT</th>\n",
       "      <th>cleavage_type_CAT</th>\n",
       "      <th>fixation_CAT</th>\n",
       "      <th>microscope_CAT</th>\n",
       "      <th>stage_CAT</th>\n",
       "    </tr>\n",
       "  </thead>\n",
       "  <tbody>\n",
       "    <tr>\n",
       "      <th>count</th>\n",
       "      <td> 1462.000000</td>\n",
       "      <td> 1462.000000</td>\n",
       "      <td> 1420.000000</td>\n",
       "      <td> 1382.000000</td>\n",
       "      <td> 1454.000000</td>\n",
       "      <td> 1378.000000</td>\n",
       "      <td> 1367.000000</td>\n",
       "      <td> 1367.000000</td>\n",
       "      <td> 1336.000000</td>\n",
       "      <td> 1295.000000</td>\n",
       "      <td>...</td>\n",
       "      <td> 1458.000000</td>\n",
       "      <td> 1379.000000</td>\n",
       "      <td> 1379.000000</td>\n",
       "      <td> 1462.000000</td>\n",
       "      <td> 1462.000000</td>\n",
       "      <td> 1462.000000</td>\n",
       "      <td> 1462.000000</td>\n",
       "      <td> 1334.000000</td>\n",
       "      <td> 1334.000000</td>\n",
       "      <td> 1462.000000</td>\n",
       "    </tr>\n",
       "    <tr>\n",
       "      <th>mean</th>\n",
       "      <td>  219.285226</td>\n",
       "      <td>    0.243502</td>\n",
       "      <td>  116.158036</td>\n",
       "      <td>   29.185663</td>\n",
       "      <td>   21.436538</td>\n",
       "      <td>   10.959256</td>\n",
       "      <td>    2.700733</td>\n",
       "      <td>    2.051615</td>\n",
       "      <td>    1.262303</td>\n",
       "      <td>    1.150215</td>\n",
       "      <td>...</td>\n",
       "      <td>   29.961591</td>\n",
       "      <td>    3.824511</td>\n",
       "      <td>   15.275562</td>\n",
       "      <td>    1.751026</td>\n",
       "      <td>    3.541724</td>\n",
       "      <td>    6.247606</td>\n",
       "      <td>    3.248290</td>\n",
       "      <td>    2.341079</td>\n",
       "      <td>    7.637181</td>\n",
       "      <td>    2.884405</td>\n",
       "    </tr>\n",
       "    <tr>\n",
       "      <th>std</th>\n",
       "      <td>  195.824881</td>\n",
       "      <td>    0.429342</td>\n",
       "      <td>  177.188003</td>\n",
       "      <td>   16.223349</td>\n",
       "      <td>   10.603169</td>\n",
       "      <td>    4.794386</td>\n",
       "      <td>    1.174378</td>\n",
       "      <td>    0.826944</td>\n",
       "      <td>    2.251049</td>\n",
       "      <td>    2.380378</td>\n",
       "      <td>...</td>\n",
       "      <td>   10.751509</td>\n",
       "      <td>    3.454192</td>\n",
       "      <td>   27.005903</td>\n",
       "      <td>    0.935048</td>\n",
       "      <td>    2.343084</td>\n",
       "      <td>    4.009773</td>\n",
       "      <td>    2.000833</td>\n",
       "      <td>    0.644562</td>\n",
       "      <td>   14.019341</td>\n",
       "      <td>    1.802247</td>\n",
       "    </tr>\n",
       "    <tr>\n",
       "      <th>min</th>\n",
       "      <td>    0.000000</td>\n",
       "      <td>    0.000000</td>\n",
       "      <td>    4.252710</td>\n",
       "      <td>    2.669100</td>\n",
       "      <td>    2.036700</td>\n",
       "      <td>    1.083390</td>\n",
       "      <td>    0.798403</td>\n",
       "      <td>    0.601124</td>\n",
       "      <td>    0.000000</td>\n",
       "      <td>    0.000000</td>\n",
       "      <td>...</td>\n",
       "      <td>    8.000000</td>\n",
       "      <td>    1.000000</td>\n",
       "      <td>    1.000000</td>\n",
       "      <td>    1.000000</td>\n",
       "      <td>    1.000000</td>\n",
       "      <td>    1.000000</td>\n",
       "      <td>    1.000000</td>\n",
       "      <td>    1.000000</td>\n",
       "      <td>    1.000000</td>\n",
       "      <td>    2.000000</td>\n",
       "    </tr>\n",
       "    <tr>\n",
       "      <th>25%</th>\n",
       "      <td>   45.000000</td>\n",
       "      <td>    0.000000</td>\n",
       "      <td>   40.908875</td>\n",
       "      <td>   17.028807</td>\n",
       "      <td>   13.178550</td>\n",
       "      <td>    7.274445</td>\n",
       "      <td>    1.924282</td>\n",
       "      <td>    1.502997</td>\n",
       "      <td>    0.000000</td>\n",
       "      <td>    0.000000</td>\n",
       "      <td>...</td>\n",
       "      <td>   18.000000</td>\n",
       "      <td>    1.000000</td>\n",
       "      <td>    1.000000</td>\n",
       "      <td>    1.000000</td>\n",
       "      <td>    1.000000</td>\n",
       "      <td>    4.000000</td>\n",
       "      <td>    1.000000</td>\n",
       "      <td>    2.000000</td>\n",
       "      <td>    1.000000</td>\n",
       "      <td>    2.000000</td>\n",
       "    </tr>\n",
       "    <tr>\n",
       "      <th>50%</th>\n",
       "      <td>  180.000000</td>\n",
       "      <td>    0.000000</td>\n",
       "      <td>   74.029300</td>\n",
       "      <td>   26.365490</td>\n",
       "      <td>   21.045255</td>\n",
       "      <td>   10.100000</td>\n",
       "      <td>    2.455206</td>\n",
       "      <td>    1.855302</td>\n",
       "      <td>    0.000000</td>\n",
       "      <td>    0.000000</td>\n",
       "      <td>...</td>\n",
       "      <td>   36.000000</td>\n",
       "      <td>    3.000000</td>\n",
       "      <td>    4.000000</td>\n",
       "      <td>    1.000000</td>\n",
       "      <td>    4.000000</td>\n",
       "      <td>    6.000000</td>\n",
       "      <td>    3.000000</td>\n",
       "      <td>    2.000000</td>\n",
       "      <td>    1.000000</td>\n",
       "      <td>    2.000000</td>\n",
       "    </tr>\n",
       "    <tr>\n",
       "      <th>75%</th>\n",
       "      <td>  380.000000</td>\n",
       "      <td>    0.000000</td>\n",
       "      <td>  116.021107</td>\n",
       "      <td>   38.597597</td>\n",
       "      <td>   27.601643</td>\n",
       "      <td>   14.336000</td>\n",
       "      <td>    3.158998</td>\n",
       "      <td>    2.379603</td>\n",
       "      <td>    2.077845</td>\n",
       "      <td>    1.891890</td>\n",
       "      <td>...</td>\n",
       "      <td>   40.000000</td>\n",
       "      <td>    5.000000</td>\n",
       "      <td>   16.000000</td>\n",
       "      <td>    3.000000</td>\n",
       "      <td>    5.000000</td>\n",
       "      <td>    7.000000</td>\n",
       "      <td>    5.000000</td>\n",
       "      <td>    3.000000</td>\n",
       "      <td>    3.000000</td>\n",
       "      <td>    2.000000</td>\n",
       "    </tr>\n",
       "    <tr>\n",
       "      <th>max</th>\n",
       "      <td> 1200.000000</td>\n",
       "      <td>    1.000000</td>\n",
       "      <td> 1486.643200</td>\n",
       "      <td>  128.900000</td>\n",
       "      <td>   63.692800</td>\n",
       "      <td>   29.761640</td>\n",
       "      <td>    9.385000</td>\n",
       "      <td>    7.715753</td>\n",
       "      <td>   28.000000</td>\n",
       "      <td>   39.800000</td>\n",
       "      <td>...</td>\n",
       "      <td>   64.000000</td>\n",
       "      <td>   15.000000</td>\n",
       "      <td>  128.000000</td>\n",
       "      <td>    4.000000</td>\n",
       "      <td>   10.000000</td>\n",
       "      <td>   20.000000</td>\n",
       "      <td>    9.000000</td>\n",
       "      <td>    3.000000</td>\n",
       "      <td>   50.000000</td>\n",
       "      <td>    7.000000</td>\n",
       "    </tr>\n",
       "  </tbody>\n",
       "</table>\n",
       "<p>8 rows × 32 columns</p>\n",
       "</div>"
      ],
      "text/plain": [
       "           time_pf      meiotic  cell_diameter_um  spindle_length__asters_um  \\\n",
       "count  1462.000000  1462.000000       1420.000000                1382.000000   \n",
       "mean    219.285226     0.243502        116.158036                  29.185663   \n",
       "std     195.824881     0.429342        177.188003                  16.223349   \n",
       "min       0.000000     0.000000          4.252710                   2.669100   \n",
       "25%      45.000000     0.000000         40.908875                  17.028807   \n",
       "50%     180.000000     0.000000         74.029300                  26.365490   \n",
       "75%     380.000000     0.000000        116.021107                  38.597597   \n",
       "max    1200.000000     1.000000       1486.643200                 128.900000   \n",
       "\n",
       "       spindle_length_poles_um  spindle_width_um  \\\n",
       "count              1454.000000       1378.000000   \n",
       "mean                 21.436538         10.959256   \n",
       "std                  10.603169          4.794386   \n",
       "min                   2.036700          1.083390   \n",
       "25%                  13.178550          7.274445   \n",
       "50%                  21.045255         10.100000   \n",
       "75%                  27.601643         14.336000   \n",
       "max                  63.692800         29.761640   \n",
       "\n",
       "       spindle_aspect_ratio_asters_um  spindle_aspect_ratio_poles_um  \\\n",
       "count                     1367.000000                    1367.000000   \n",
       "mean                         2.700733                       2.051615   \n",
       "std                          1.174378                       0.826944   \n",
       "min                          0.798403                       0.601124   \n",
       "25%                          1.924282                       1.502997   \n",
       "50%                          2.455206                       1.855302   \n",
       "75%                          3.158998                       2.379603   \n",
       "max                          9.385000                       7.715753   \n",
       "\n",
       "       astere-to-pole_distance_1_um  aster-to-pole_distance_2_um     ...       \\\n",
       "count                   1336.000000                  1295.000000     ...        \n",
       "mean                       1.262303                     1.150215     ...        \n",
       "std                        2.251049                     2.380378     ...        \n",
       "min                        0.000000                     0.000000     ...        \n",
       "25%                        0.000000                     0.000000     ...        \n",
       "50%                        0.000000                     0.000000     ...        \n",
       "75%                        2.077845                     1.891890     ...        \n",
       "max                       28.000000                    39.800000     ...        \n",
       "\n",
       "       chromosomes  num_of_cells_CAT  num_of_cells_NUM  classification_CAT  \\\n",
       "count  1458.000000       1379.000000       1379.000000         1462.000000   \n",
       "mean     29.961591          3.824511         15.275562            1.751026   \n",
       "std      10.751509          3.454192         27.005903            0.935048   \n",
       "min       8.000000          1.000000          1.000000            1.000000   \n",
       "25%      18.000000          1.000000          1.000000            1.000000   \n",
       "50%      36.000000          3.000000          4.000000            1.000000   \n",
       "75%      40.000000          5.000000         16.000000            3.000000   \n",
       "max      64.000000         15.000000        128.000000            4.000000   \n",
       "\n",
       "        phylum_CAT  organism_CAT  cleavage_type_CAT  fixation_CAT  \\\n",
       "count  1462.000000   1462.000000        1462.000000   1334.000000   \n",
       "mean      3.541724      6.247606           3.248290      2.341079   \n",
       "std       2.343084      4.009773           2.000833      0.644562   \n",
       "min       1.000000      1.000000           1.000000      1.000000   \n",
       "25%       1.000000      4.000000           1.000000      2.000000   \n",
       "50%       4.000000      6.000000           3.000000      2.000000   \n",
       "75%       5.000000      7.000000           5.000000      3.000000   \n",
       "max      10.000000     20.000000           9.000000      3.000000   \n",
       "\n",
       "       microscope_CAT    stage_CAT  \n",
       "count     1334.000000  1462.000000  \n",
       "mean         7.637181     2.884405  \n",
       "std         14.019341     1.802247  \n",
       "min          1.000000     2.000000  \n",
       "25%          1.000000     2.000000  \n",
       "50%          1.000000     2.000000  \n",
       "75%          3.000000     2.000000  \n",
       "max         50.000000     7.000000  \n",
       "\n",
       "[8 rows x 32 columns]"
      ]
     },
     "execution_count": 26,
     "metadata": {},
     "output_type": "execute_result"
    }
   ],
   "source": [
    "dfo_met.describe()"
   ]
  },
  {
   "cell_type": "markdown",
   "metadata": {},
   "source": [
    "Have a look at subsetted data:"
   ]
  },
  {
   "cell_type": "code",
   "execution_count": 27,
   "metadata": {
    "collapsed": false
   },
   "outputs": [
    {
     "data": {
      "text/plain": [
       "0    135\n",
       "1     18\n",
       "dtype: int64"
      ]
     },
     "execution_count": 27,
     "metadata": {},
     "output_type": "execute_result"
    }
   ],
   "source": [
    "dfo_met[dfo_met.organism=='xenopus_laevis']['meiotic'].value_counts()"
   ]
  },
  {
   "cell_type": "code",
   "execution_count": 28,
   "metadata": {
    "collapsed": false
   },
   "outputs": [
    {
     "data": {
      "text/plain": [
       "0    146\n",
       "1     18\n",
       "dtype: int64"
      ]
     },
     "execution_count": 28,
     "metadata": {},
     "output_type": "execute_result"
    }
   ],
   "source": [
    "dfo[dfo.organism=='xenopus_laevis']['meiotic'].value_counts()"
   ]
  },
  {
   "cell_type": "code",
   "execution_count": 29,
   "metadata": {
    "collapsed": false
   },
   "outputs": [
    {
     "data": {
      "text/plain": [
       "1    135\n",
       "0     18\n",
       "dtype: int64"
      ]
     },
     "execution_count": 29,
     "metadata": {},
     "output_type": "execute_result"
    }
   ],
   "source": [
    "dfo_met[dfo_met.organism=='xenopus_laevis']['centrosome'].value_counts()"
   ]
  },
  {
   "cell_type": "code",
   "execution_count": 30,
   "metadata": {
    "collapsed": false
   },
   "outputs": [
    {
     "data": {
      "text/plain": [
       "1    146\n",
       "0     18\n",
       "dtype: int64"
      ]
     },
     "execution_count": 30,
     "metadata": {},
     "output_type": "execute_result"
    }
   ],
   "source": [
    "dfo[dfo.organism=='xenopus_laevis']['centrosome'].value_counts()"
   ]
  },
  {
   "cell_type": "code",
   "execution_count": 31,
   "metadata": {
    "collapsed": false
   },
   "outputs": [
    {
     "data": {
      "text/html": [
       "<div style=\"max-height:1000px;max-width:1500px;overflow:auto;\">\n",
       "<table border=\"1\" class=\"dataframe\">\n",
       "  <thead>\n",
       "    <tr style=\"text-align: right;\">\n",
       "      <th></th>\n",
       "      <th>time_pf</th>\n",
       "      <th>meiotic</th>\n",
       "      <th>cell_diameter_um</th>\n",
       "      <th>spindle_length__asters_um</th>\n",
       "      <th>spindle_length_poles_um</th>\n",
       "      <th>spindle_width_um</th>\n",
       "      <th>spindle_aspect_ratio_asters_um</th>\n",
       "      <th>spindle_aspect_ratio_poles_um</th>\n",
       "      <th>astere-to-pole_distance_1_um</th>\n",
       "      <th>aster-to-pole_distance_2_um</th>\n",
       "      <th>...</th>\n",
       "      <th>chromosomes</th>\n",
       "      <th>num_of_cells_CAT</th>\n",
       "      <th>num_of_cells_NUM</th>\n",
       "      <th>classification_CAT</th>\n",
       "      <th>phylum_CAT</th>\n",
       "      <th>organism_CAT</th>\n",
       "      <th>cleavage_type_CAT</th>\n",
       "      <th>fixation_CAT</th>\n",
       "      <th>microscope_CAT</th>\n",
       "      <th>stage_CAT</th>\n",
       "    </tr>\n",
       "  </thead>\n",
       "  <tbody>\n",
       "    <tr>\n",
       "      <th>count</th>\n",
       "      <td>  85.000000</td>\n",
       "      <td> 85.000000</td>\n",
       "      <td> 78.000000</td>\n",
       "      <td> 11.000000</td>\n",
       "      <td> 83.000000</td>\n",
       "      <td> 11.000000</td>\n",
       "      <td> 1.000000</td>\n",
       "      <td> 1.000000</td>\n",
       "      <td> 11</td>\n",
       "      <td> 11</td>\n",
       "      <td>...</td>\n",
       "      <td> 85</td>\n",
       "      <td> 85.000000</td>\n",
       "      <td>  85.000000</td>\n",
       "      <td> 85</td>\n",
       "      <td> 85.000000</td>\n",
       "      <td> 85</td>\n",
       "      <td> 85</td>\n",
       "      <td>  0</td>\n",
       "      <td>  0</td>\n",
       "      <td> 85.000000</td>\n",
       "    </tr>\n",
       "    <tr>\n",
       "      <th>mean</th>\n",
       "      <td> 110.117647</td>\n",
       "      <td>  0.152941</td>\n",
       "      <td> 39.943846</td>\n",
       "      <td> 26.865455</td>\n",
       "      <td> 19.898434</td>\n",
       "      <td> 15.220000</td>\n",
       "      <td> 1.555556</td>\n",
       "      <td> 1.555556</td>\n",
       "      <td>  0</td>\n",
       "      <td>  0</td>\n",
       "      <td>...</td>\n",
       "      <td> 40</td>\n",
       "      <td>  4.352941</td>\n",
       "      <td>  25.905882</td>\n",
       "      <td>  1</td>\n",
       "      <td>  9.082353</td>\n",
       "      <td> 17</td>\n",
       "      <td>  2</td>\n",
       "      <td>NaN</td>\n",
       "      <td>NaN</td>\n",
       "      <td>  2.400000</td>\n",
       "    </tr>\n",
       "    <tr>\n",
       "      <th>std</th>\n",
       "      <td>  47.068696</td>\n",
       "      <td>  0.362067</td>\n",
       "      <td> 21.053027</td>\n",
       "      <td>  5.160381</td>\n",
       "      <td>  6.170890</td>\n",
       "      <td>  3.165691</td>\n",
       "      <td>      NaN</td>\n",
       "      <td>      NaN</td>\n",
       "      <td>  0</td>\n",
       "      <td>  0</td>\n",
       "      <td>...</td>\n",
       "      <td>  0</td>\n",
       "      <td>  3.084932</td>\n",
       "      <td>  42.581190</td>\n",
       "      <td>  0</td>\n",
       "      <td>  2.172401</td>\n",
       "      <td>  0</td>\n",
       "      <td>  0</td>\n",
       "      <td>NaN</td>\n",
       "      <td>NaN</td>\n",
       "      <td>  1.283596</td>\n",
       "    </tr>\n",
       "    <tr>\n",
       "      <th>min</th>\n",
       "      <td>   0.000000</td>\n",
       "      <td>  0.000000</td>\n",
       "      <td> 13.500000</td>\n",
       "      <td> 15.120000</td>\n",
       "      <td>  7.500000</td>\n",
       "      <td>  9.720000</td>\n",
       "      <td> 1.555556</td>\n",
       "      <td> 1.555556</td>\n",
       "      <td>  0</td>\n",
       "      <td>  0</td>\n",
       "      <td>...</td>\n",
       "      <td> 40</td>\n",
       "      <td>  1.000000</td>\n",
       "      <td>   1.000000</td>\n",
       "      <td>  1</td>\n",
       "      <td>  4.000000</td>\n",
       "      <td> 17</td>\n",
       "      <td>  2</td>\n",
       "      <td>NaN</td>\n",
       "      <td>NaN</td>\n",
       "      <td>  2.000000</td>\n",
       "    </tr>\n",
       "    <tr>\n",
       "      <th>25%</th>\n",
       "      <td> 130.000000</td>\n",
       "      <td>  0.000000</td>\n",
       "      <td> 25.462500</td>\n",
       "      <td> 24.450000</td>\n",
       "      <td> 15.875000</td>\n",
       "      <td> 14.250000</td>\n",
       "      <td> 1.555556</td>\n",
       "      <td> 1.555556</td>\n",
       "      <td>  0</td>\n",
       "      <td>  0</td>\n",
       "      <td>...</td>\n",
       "      <td> 40</td>\n",
       "      <td>  1.000000</td>\n",
       "      <td>   1.000000</td>\n",
       "      <td>  1</td>\n",
       "      <td> 10.000000</td>\n",
       "      <td> 17</td>\n",
       "      <td>  2</td>\n",
       "      <td>NaN</td>\n",
       "      <td>NaN</td>\n",
       "      <td>  2.000000</td>\n",
       "    </tr>\n",
       "    <tr>\n",
       "      <th>50%</th>\n",
       "      <td> 130.000000</td>\n",
       "      <td>  0.000000</td>\n",
       "      <td> 33.375000</td>\n",
       "      <td> 28.000000</td>\n",
       "      <td> 20.750000</td>\n",
       "      <td> 14.600000</td>\n",
       "      <td> 1.555556</td>\n",
       "      <td> 1.555556</td>\n",
       "      <td>  0</td>\n",
       "      <td>  0</td>\n",
       "      <td>...</td>\n",
       "      <td> 40</td>\n",
       "      <td>  4.000000</td>\n",
       "      <td>   8.000000</td>\n",
       "      <td>  1</td>\n",
       "      <td> 10.000000</td>\n",
       "      <td> 17</td>\n",
       "      <td>  2</td>\n",
       "      <td>NaN</td>\n",
       "      <td>NaN</td>\n",
       "      <td>  2.000000</td>\n",
       "    </tr>\n",
       "    <tr>\n",
       "      <th>75%</th>\n",
       "      <td> 130.000000</td>\n",
       "      <td>  0.000000</td>\n",
       "      <td> 52.062500</td>\n",
       "      <td> 29.850000</td>\n",
       "      <td> 24.125000</td>\n",
       "      <td> 15.700000</td>\n",
       "      <td> 1.555556</td>\n",
       "      <td> 1.555556</td>\n",
       "      <td>  0</td>\n",
       "      <td>  0</td>\n",
       "      <td>...</td>\n",
       "      <td> 40</td>\n",
       "      <td>  5.000000</td>\n",
       "      <td>  16.000000</td>\n",
       "      <td>  1</td>\n",
       "      <td> 10.000000</td>\n",
       "      <td> 17</td>\n",
       "      <td>  2</td>\n",
       "      <td>NaN</td>\n",
       "      <td>NaN</td>\n",
       "      <td>  2.000000</td>\n",
       "    </tr>\n",
       "    <tr>\n",
       "      <th>max</th>\n",
       "      <td> 130.000000</td>\n",
       "      <td>  1.000000</td>\n",
       "      <td> 96.500000</td>\n",
       "      <td> 34.500000</td>\n",
       "      <td> 34.500000</td>\n",
       "      <td> 21.100000</td>\n",
       "      <td> 1.555556</td>\n",
       "      <td> 1.555556</td>\n",
       "      <td>  0</td>\n",
       "      <td>  0</td>\n",
       "      <td>...</td>\n",
       "      <td> 40</td>\n",
       "      <td> 10.000000</td>\n",
       "      <td> 128.000000</td>\n",
       "      <td>  1</td>\n",
       "      <td> 10.000000</td>\n",
       "      <td> 17</td>\n",
       "      <td>  2</td>\n",
       "      <td>NaN</td>\n",
       "      <td>NaN</td>\n",
       "      <td>  7.000000</td>\n",
       "    </tr>\n",
       "  </tbody>\n",
       "</table>\n",
       "<p>8 rows × 32 columns</p>\n",
       "</div>"
      ],
      "text/plain": [
       "          time_pf    meiotic  cell_diameter_um  spindle_length__asters_um  \\\n",
       "count   85.000000  85.000000         78.000000                  11.000000   \n",
       "mean   110.117647   0.152941         39.943846                  26.865455   \n",
       "std     47.068696   0.362067         21.053027                   5.160381   \n",
       "min      0.000000   0.000000         13.500000                  15.120000   \n",
       "25%    130.000000   0.000000         25.462500                  24.450000   \n",
       "50%    130.000000   0.000000         33.375000                  28.000000   \n",
       "75%    130.000000   0.000000         52.062500                  29.850000   \n",
       "max    130.000000   1.000000         96.500000                  34.500000   \n",
       "\n",
       "       spindle_length_poles_um  spindle_width_um  \\\n",
       "count                83.000000         11.000000   \n",
       "mean                 19.898434         15.220000   \n",
       "std                   6.170890          3.165691   \n",
       "min                   7.500000          9.720000   \n",
       "25%                  15.875000         14.250000   \n",
       "50%                  20.750000         14.600000   \n",
       "75%                  24.125000         15.700000   \n",
       "max                  34.500000         21.100000   \n",
       "\n",
       "       spindle_aspect_ratio_asters_um  spindle_aspect_ratio_poles_um  \\\n",
       "count                        1.000000                       1.000000   \n",
       "mean                         1.555556                       1.555556   \n",
       "std                               NaN                            NaN   \n",
       "min                          1.555556                       1.555556   \n",
       "25%                          1.555556                       1.555556   \n",
       "50%                          1.555556                       1.555556   \n",
       "75%                          1.555556                       1.555556   \n",
       "max                          1.555556                       1.555556   \n",
       "\n",
       "       astere-to-pole_distance_1_um  aster-to-pole_distance_2_um    ...      \\\n",
       "count                            11                           11    ...       \n",
       "mean                              0                            0    ...       \n",
       "std                               0                            0    ...       \n",
       "min                               0                            0    ...       \n",
       "25%                               0                            0    ...       \n",
       "50%                               0                            0    ...       \n",
       "75%                               0                            0    ...       \n",
       "max                               0                            0    ...       \n",
       "\n",
       "       chromosomes  num_of_cells_CAT  num_of_cells_NUM  classification_CAT  \\\n",
       "count           85         85.000000         85.000000                  85   \n",
       "mean            40          4.352941         25.905882                   1   \n",
       "std              0          3.084932         42.581190                   0   \n",
       "min             40          1.000000          1.000000                   1   \n",
       "25%             40          1.000000          1.000000                   1   \n",
       "50%             40          4.000000          8.000000                   1   \n",
       "75%             40          5.000000         16.000000                   1   \n",
       "max             40         10.000000        128.000000                   1   \n",
       "\n",
       "       phylum_CAT  organism_CAT  cleavage_type_CAT  fixation_CAT  \\\n",
       "count   85.000000            85                 85             0   \n",
       "mean     9.082353            17                  2           NaN   \n",
       "std      2.172401             0                  0           NaN   \n",
       "min      4.000000            17                  2           NaN   \n",
       "25%     10.000000            17                  2           NaN   \n",
       "50%     10.000000            17                  2           NaN   \n",
       "75%     10.000000            17                  2           NaN   \n",
       "max     10.000000            17                  2           NaN   \n",
       "\n",
       "       microscope_CAT  stage_CAT  \n",
       "count               0  85.000000  \n",
       "mean              NaN   2.400000  \n",
       "std               NaN   1.283596  \n",
       "min               NaN   2.000000  \n",
       "25%               NaN   2.000000  \n",
       "50%               NaN   2.000000  \n",
       "75%               NaN   2.000000  \n",
       "max               NaN   7.000000  \n",
       "\n",
       "[8 rows x 32 columns]"
      ]
     },
     "execution_count": 31,
     "metadata": {},
     "output_type": "execute_result"
    }
   ],
   "source": [
    "dfo[dfo.organism =='mus_musculus'].describe()"
   ]
  },
  {
   "cell_type": "code",
   "execution_count": 44,
   "metadata": {
    "collapsed": false
   },
   "outputs": [
    {
     "data": {
      "text/html": [
       "<div style=\"max-height:1000px;max-width:1500px;overflow:auto;\">\n",
       "<table border=\"1\" class=\"dataframe\">\n",
       "  <thead>\n",
       "    <tr style=\"text-align: right;\">\n",
       "      <th></th>\n",
       "      <th>time_pf</th>\n",
       "      <th>meiotic</th>\n",
       "      <th>cell_diameter_um</th>\n",
       "      <th>spindle_length__asters_um</th>\n",
       "      <th>spindle_length_poles_um</th>\n",
       "      <th>spindle_width_um</th>\n",
       "      <th>spindle_aspect_ratio_asters_um</th>\n",
       "      <th>spindle_aspect_ratio_poles_um</th>\n",
       "      <th>astere-to-pole_distance_1_um</th>\n",
       "      <th>aster-to-pole_distance_2_um</th>\n",
       "      <th>...</th>\n",
       "      <th>chromosomes</th>\n",
       "      <th>num_of_cells_CAT</th>\n",
       "      <th>num_of_cells_NUM</th>\n",
       "      <th>classification_CAT</th>\n",
       "      <th>phylum_CAT</th>\n",
       "      <th>organism_CAT</th>\n",
       "      <th>cleavage_type_CAT</th>\n",
       "      <th>fixation_CAT</th>\n",
       "      <th>microscope_CAT</th>\n",
       "      <th>stage_CAT</th>\n",
       "    </tr>\n",
       "  </thead>\n",
       "  <tbody>\n",
       "    <tr>\n",
       "      <th>count</th>\n",
       "      <td>  85.000000</td>\n",
       "      <td> 85.000000</td>\n",
       "      <td> 78.000000</td>\n",
       "      <td> 11.000000</td>\n",
       "      <td> 83.000000</td>\n",
       "      <td> 11.000000</td>\n",
       "      <td> 1.000000</td>\n",
       "      <td> 1.000000</td>\n",
       "      <td> 11</td>\n",
       "      <td> 11</td>\n",
       "      <td>...</td>\n",
       "      <td> 85</td>\n",
       "      <td> 85.000000</td>\n",
       "      <td>  85.000000</td>\n",
       "      <td> 85</td>\n",
       "      <td> 85.000000</td>\n",
       "      <td> 85</td>\n",
       "      <td> 85</td>\n",
       "      <td>  0</td>\n",
       "      <td>  0</td>\n",
       "      <td> 85.000000</td>\n",
       "    </tr>\n",
       "    <tr>\n",
       "      <th>mean</th>\n",
       "      <td> 110.117647</td>\n",
       "      <td>  0.152941</td>\n",
       "      <td> 39.943846</td>\n",
       "      <td> 26.865455</td>\n",
       "      <td> 19.898434</td>\n",
       "      <td> 15.220000</td>\n",
       "      <td> 1.555556</td>\n",
       "      <td> 1.555556</td>\n",
       "      <td>  0</td>\n",
       "      <td>  0</td>\n",
       "      <td>...</td>\n",
       "      <td> 40</td>\n",
       "      <td>  4.352941</td>\n",
       "      <td>  25.905882</td>\n",
       "      <td>  1</td>\n",
       "      <td>  9.082353</td>\n",
       "      <td> 17</td>\n",
       "      <td>  2</td>\n",
       "      <td>NaN</td>\n",
       "      <td>NaN</td>\n",
       "      <td>  2.400000</td>\n",
       "    </tr>\n",
       "    <tr>\n",
       "      <th>std</th>\n",
       "      <td>  47.068696</td>\n",
       "      <td>  0.362067</td>\n",
       "      <td> 21.053027</td>\n",
       "      <td>  5.160381</td>\n",
       "      <td>  6.170890</td>\n",
       "      <td>  3.165691</td>\n",
       "      <td>      NaN</td>\n",
       "      <td>      NaN</td>\n",
       "      <td>  0</td>\n",
       "      <td>  0</td>\n",
       "      <td>...</td>\n",
       "      <td>  0</td>\n",
       "      <td>  3.084932</td>\n",
       "      <td>  42.581190</td>\n",
       "      <td>  0</td>\n",
       "      <td>  2.172401</td>\n",
       "      <td>  0</td>\n",
       "      <td>  0</td>\n",
       "      <td>NaN</td>\n",
       "      <td>NaN</td>\n",
       "      <td>  1.283596</td>\n",
       "    </tr>\n",
       "    <tr>\n",
       "      <th>min</th>\n",
       "      <td>   0.000000</td>\n",
       "      <td>  0.000000</td>\n",
       "      <td> 13.500000</td>\n",
       "      <td> 15.120000</td>\n",
       "      <td>  7.500000</td>\n",
       "      <td>  9.720000</td>\n",
       "      <td> 1.555556</td>\n",
       "      <td> 1.555556</td>\n",
       "      <td>  0</td>\n",
       "      <td>  0</td>\n",
       "      <td>...</td>\n",
       "      <td> 40</td>\n",
       "      <td>  1.000000</td>\n",
       "      <td>   1.000000</td>\n",
       "      <td>  1</td>\n",
       "      <td>  4.000000</td>\n",
       "      <td> 17</td>\n",
       "      <td>  2</td>\n",
       "      <td>NaN</td>\n",
       "      <td>NaN</td>\n",
       "      <td>  2.000000</td>\n",
       "    </tr>\n",
       "    <tr>\n",
       "      <th>25%</th>\n",
       "      <td> 130.000000</td>\n",
       "      <td>  0.000000</td>\n",
       "      <td> 25.462500</td>\n",
       "      <td> 24.450000</td>\n",
       "      <td> 15.875000</td>\n",
       "      <td> 14.250000</td>\n",
       "      <td> 1.555556</td>\n",
       "      <td> 1.555556</td>\n",
       "      <td>  0</td>\n",
       "      <td>  0</td>\n",
       "      <td>...</td>\n",
       "      <td> 40</td>\n",
       "      <td>  1.000000</td>\n",
       "      <td>   1.000000</td>\n",
       "      <td>  1</td>\n",
       "      <td> 10.000000</td>\n",
       "      <td> 17</td>\n",
       "      <td>  2</td>\n",
       "      <td>NaN</td>\n",
       "      <td>NaN</td>\n",
       "      <td>  2.000000</td>\n",
       "    </tr>\n",
       "    <tr>\n",
       "      <th>50%</th>\n",
       "      <td> 130.000000</td>\n",
       "      <td>  0.000000</td>\n",
       "      <td> 33.375000</td>\n",
       "      <td> 28.000000</td>\n",
       "      <td> 20.750000</td>\n",
       "      <td> 14.600000</td>\n",
       "      <td> 1.555556</td>\n",
       "      <td> 1.555556</td>\n",
       "      <td>  0</td>\n",
       "      <td>  0</td>\n",
       "      <td>...</td>\n",
       "      <td> 40</td>\n",
       "      <td>  4.000000</td>\n",
       "      <td>   8.000000</td>\n",
       "      <td>  1</td>\n",
       "      <td> 10.000000</td>\n",
       "      <td> 17</td>\n",
       "      <td>  2</td>\n",
       "      <td>NaN</td>\n",
       "      <td>NaN</td>\n",
       "      <td>  2.000000</td>\n",
       "    </tr>\n",
       "    <tr>\n",
       "      <th>75%</th>\n",
       "      <td> 130.000000</td>\n",
       "      <td>  0.000000</td>\n",
       "      <td> 52.062500</td>\n",
       "      <td> 29.850000</td>\n",
       "      <td> 24.125000</td>\n",
       "      <td> 15.700000</td>\n",
       "      <td> 1.555556</td>\n",
       "      <td> 1.555556</td>\n",
       "      <td>  0</td>\n",
       "      <td>  0</td>\n",
       "      <td>...</td>\n",
       "      <td> 40</td>\n",
       "      <td>  5.000000</td>\n",
       "      <td>  16.000000</td>\n",
       "      <td>  1</td>\n",
       "      <td> 10.000000</td>\n",
       "      <td> 17</td>\n",
       "      <td>  2</td>\n",
       "      <td>NaN</td>\n",
       "      <td>NaN</td>\n",
       "      <td>  2.000000</td>\n",
       "    </tr>\n",
       "    <tr>\n",
       "      <th>max</th>\n",
       "      <td> 130.000000</td>\n",
       "      <td>  1.000000</td>\n",
       "      <td> 96.500000</td>\n",
       "      <td> 34.500000</td>\n",
       "      <td> 34.500000</td>\n",
       "      <td> 21.100000</td>\n",
       "      <td> 1.555556</td>\n",
       "      <td> 1.555556</td>\n",
       "      <td>  0</td>\n",
       "      <td>  0</td>\n",
       "      <td>...</td>\n",
       "      <td> 40</td>\n",
       "      <td> 10.000000</td>\n",
       "      <td> 128.000000</td>\n",
       "      <td>  1</td>\n",
       "      <td> 10.000000</td>\n",
       "      <td> 17</td>\n",
       "      <td>  2</td>\n",
       "      <td>NaN</td>\n",
       "      <td>NaN</td>\n",
       "      <td>  7.000000</td>\n",
       "    </tr>\n",
       "  </tbody>\n",
       "</table>\n",
       "<p>8 rows × 32 columns</p>\n",
       "</div>"
      ],
      "text/plain": [
       "          time_pf    meiotic  cell_diameter_um  spindle_length__asters_um  \\\n",
       "count   85.000000  85.000000         78.000000                  11.000000   \n",
       "mean   110.117647   0.152941         39.943846                  26.865455   \n",
       "std     47.068696   0.362067         21.053027                   5.160381   \n",
       "min      0.000000   0.000000         13.500000                  15.120000   \n",
       "25%    130.000000   0.000000         25.462500                  24.450000   \n",
       "50%    130.000000   0.000000         33.375000                  28.000000   \n",
       "75%    130.000000   0.000000         52.062500                  29.850000   \n",
       "max    130.000000   1.000000         96.500000                  34.500000   \n",
       "\n",
       "       spindle_length_poles_um  spindle_width_um  \\\n",
       "count                83.000000         11.000000   \n",
       "mean                 19.898434         15.220000   \n",
       "std                   6.170890          3.165691   \n",
       "min                   7.500000          9.720000   \n",
       "25%                  15.875000         14.250000   \n",
       "50%                  20.750000         14.600000   \n",
       "75%                  24.125000         15.700000   \n",
       "max                  34.500000         21.100000   \n",
       "\n",
       "       spindle_aspect_ratio_asters_um  spindle_aspect_ratio_poles_um  \\\n",
       "count                        1.000000                       1.000000   \n",
       "mean                         1.555556                       1.555556   \n",
       "std                               NaN                            NaN   \n",
       "min                          1.555556                       1.555556   \n",
       "25%                          1.555556                       1.555556   \n",
       "50%                          1.555556                       1.555556   \n",
       "75%                          1.555556                       1.555556   \n",
       "max                          1.555556                       1.555556   \n",
       "\n",
       "       astere-to-pole_distance_1_um  aster-to-pole_distance_2_um    ...      \\\n",
       "count                            11                           11    ...       \n",
       "mean                              0                            0    ...       \n",
       "std                               0                            0    ...       \n",
       "min                               0                            0    ...       \n",
       "25%                               0                            0    ...       \n",
       "50%                               0                            0    ...       \n",
       "75%                               0                            0    ...       \n",
       "max                               0                            0    ...       \n",
       "\n",
       "       chromosomes  num_of_cells_CAT  num_of_cells_NUM  classification_CAT  \\\n",
       "count           85         85.000000         85.000000                  85   \n",
       "mean            40          4.352941         25.905882                   1   \n",
       "std              0          3.084932         42.581190                   0   \n",
       "min             40          1.000000          1.000000                   1   \n",
       "25%             40          1.000000          1.000000                   1   \n",
       "50%             40          4.000000          8.000000                   1   \n",
       "75%             40          5.000000         16.000000                   1   \n",
       "max             40         10.000000        128.000000                   1   \n",
       "\n",
       "       phylum_CAT  organism_CAT  cleavage_type_CAT  fixation_CAT  \\\n",
       "count   85.000000            85                 85             0   \n",
       "mean     9.082353            17                  2           NaN   \n",
       "std      2.172401             0                  0           NaN   \n",
       "min      4.000000            17                  2           NaN   \n",
       "25%     10.000000            17                  2           NaN   \n",
       "50%     10.000000            17                  2           NaN   \n",
       "75%     10.000000            17                  2           NaN   \n",
       "max     10.000000            17                  2           NaN   \n",
       "\n",
       "       microscope_CAT  stage_CAT  \n",
       "count               0  85.000000  \n",
       "mean              NaN   2.400000  \n",
       "std               NaN   1.283596  \n",
       "min               NaN   2.000000  \n",
       "25%               NaN   2.000000  \n",
       "50%               NaN   2.000000  \n",
       "75%               NaN   2.000000  \n",
       "max               NaN   7.000000  \n",
       "\n",
       "[8 rows x 32 columns]"
      ]
     },
     "execution_count": 44,
     "metadata": {},
     "output_type": "execute_result"
    }
   ],
   "source": [
    "dfo_met[dfo_met.organism =='mus_musculus'].describe()"
   ]
  },
  {
   "cell_type": "markdown",
   "metadata": {},
   "source": [
    "For radar plot we need (0) metpahse spindles (done), (1) means of numeric columns. We need to (2) remove the _CAT columns but (3) put back the organism column for grouping."
   ]
  },
  {
   "cell_type": "code",
   "execution_count": 32,
   "metadata": {
    "collapsed": false
   },
   "outputs": [
    {
     "data": {
      "text/plain": [
       "['time_pf',\n",
       " 'num_of_cells',\n",
       " 'meiotic',\n",
       " 'stage',\n",
       " 'cell_diameter_um',\n",
       " 'spindle_length__asters_um',\n",
       " 'spindle_length_poles_um',\n",
       " 'spindle_width_um',\n",
       " 'spindle_aspect_ratio_asters_um',\n",
       " 'spindle_aspect_ratio_poles_um',\n",
       " 'astere-to-pole_distance_1_um',\n",
       " 'aster-to-pole_distance_2_um',\n",
       " 'inner_aster_diameter_1_um',\n",
       " 'inner_aster_diameter_2_um',\n",
       " 'outer_aster_diameter_1_um',\n",
       " 'outer__diameter_2_um',\n",
       " 'centrosome',\n",
       " 'metaphase_plate_lengt_h_um',\n",
       " 'metaphase_plate_width_um',\n",
       " 'metaphase_plate_aspect_ratio_um',\n",
       " 'polar_body_diameter_1_um',\n",
       " 'polar_body_diameter_2_um',\n",
       " 'distance_between_chromosomes_um',\n",
       " 'microscope',\n",
       " 'fixation',\n",
       " 'organism',\n",
       " 'phylum',\n",
       " 'classification',\n",
       " 'genome',\n",
       " 'chromosomes',\n",
       " 'cleavage_type',\n",
       " 'num_of_cells_CAT',\n",
       " 'num_of_cells_NUM',\n",
       " 'classification_CAT',\n",
       " 'phylum_CAT',\n",
       " 'organism_CAT',\n",
       " 'cleavage_type_CAT',\n",
       " 'fixation_CAT',\n",
       " 'microscope_CAT',\n",
       " 'stage_CAT',\n",
       " 'day_old']"
      ]
     },
     "execution_count": 32,
     "metadata": {},
     "output_type": "execute_result"
    }
   ],
   "source": [
    "list(dfo_met.columns)"
   ]
  },
  {
   "cell_type": "markdown",
   "metadata": {},
   "source": [
    "These are the potential numeric variables. We need to remove columns containing numerical encodings "
   ]
  },
  {
   "cell_type": "code",
   "execution_count": 48,
   "metadata": {
    "collapsed": false
   },
   "outputs": [
    {
     "data": {
      "text/plain": [
       "Index([u'time_pf', u'meiotic', u'cell_diameter_um', u'spindle_length__asters_um', u'spindle_length_poles_um', u'spindle_width_um', u'spindle_aspect_ratio_asters_um', u'spindle_aspect_ratio_poles_um', u'astere-to-pole_distance_1_um', u'aster-to-pole_distance_2_um', u'inner_aster_diameter_1_um', u'inner_aster_diameter_2_um', u'outer_aster_diameter_1_um', u'outer__diameter_2_um', u'centrosome', u'metaphase_plate_lengt_h_um', u'metaphase_plate_width_um', u'metaphase_plate_aspect_ratio_um', u'polar_body_diameter_1_um', u'polar_body_diameter_2_um', u'distance_between_chromosomes_um', u'genome', u'chromosomes', u'num_of_cells_CAT', u'num_of_cells_NUM', u'classification_CAT', u'phylum_CAT', u'organism_CAT', u'cleavage_type_CAT', u'fixation_CAT', u'microscope_CAT', u'stage_CAT'], dtype='object')"
      ]
     },
     "execution_count": 48,
     "metadata": {},
     "output_type": "execute_result"
    }
   ],
   "source": [
    "dfo_met._get_numeric_data().columns"
   ]
  },
  {
   "cell_type": "code",
   "execution_count": 49,
   "metadata": {
    "collapsed": false
   },
   "outputs": [],
   "source": [
    "#get all columns that end with CAT (or their position in the data frame)\n",
    "pattern=re.compile(r\"(.+_CAT)\")\n",
    "#print pattern.match('organism_CAT').group()"
   ]
  },
  {
   "cell_type": "code",
   "execution_count": 50,
   "metadata": {
    "collapsed": false
   },
   "outputs": [],
   "source": [
    "cols_to_drop=[]\n",
    "for column in dfo_met._get_numeric_data().columns:\n",
    "    #print column\n",
    "    if pattern.match(column) != None:\n",
    "        cols_to_drop.append(pattern.match(column).group())"
   ]
  },
  {
   "cell_type": "code",
   "execution_count": 51,
   "metadata": {
    "collapsed": false
   },
   "outputs": [
    {
     "data": {
      "text/plain": [
       "['num_of_cells_CAT',\n",
       " 'classification_CAT',\n",
       " 'phylum_CAT',\n",
       " 'organism_CAT',\n",
       " 'cleavage_type_CAT',\n",
       " 'fixation_CAT',\n",
       " 'microscope_CAT',\n",
       " 'stage_CAT']"
      ]
     },
     "execution_count": 51,
     "metadata": {},
     "output_type": "execute_result"
    }
   ],
   "source": [
    "cols_to_drop"
   ]
  },
  {
   "cell_type": "code",
   "execution_count": 52,
   "metadata": {
    "collapsed": false
   },
   "outputs": [
    {
     "data": {
      "text/html": [
       "<div style=\"max-height:1000px;max-width:1500px;overflow:auto;\">\n",
       "<table border=\"1\" class=\"dataframe\">\n",
       "  <thead>\n",
       "    <tr style=\"text-align: right;\">\n",
       "      <th></th>\n",
       "      <th>num_of_cells_CAT</th>\n",
       "      <th>classification_CAT</th>\n",
       "      <th>phylum_CAT</th>\n",
       "      <th>organism_CAT</th>\n",
       "      <th>cleavage_type_CAT</th>\n",
       "      <th>fixation_CAT</th>\n",
       "      <th>microscope_CAT</th>\n",
       "      <th>stage_CAT</th>\n",
       "    </tr>\n",
       "  </thead>\n",
       "  <tbody>\n",
       "    <tr>\n",
       "      <th>1</th>\n",
       "      <td> 1</td>\n",
       "      <td> 1</td>\n",
       "      <td> 1</td>\n",
       "      <td> 1</td>\n",
       "      <td> 1</td>\n",
       "      <td> 1</td>\n",
       "      <td> 1</td>\n",
       "      <td> 2</td>\n",
       "    </tr>\n",
       "    <tr>\n",
       "      <th>3</th>\n",
       "      <td> 1</td>\n",
       "      <td> 1</td>\n",
       "      <td> 1</td>\n",
       "      <td> 1</td>\n",
       "      <td> 1</td>\n",
       "      <td> 1</td>\n",
       "      <td> 1</td>\n",
       "      <td> 2</td>\n",
       "    </tr>\n",
       "    <tr>\n",
       "      <th>5</th>\n",
       "      <td> 2</td>\n",
       "      <td> 1</td>\n",
       "      <td> 1</td>\n",
       "      <td> 1</td>\n",
       "      <td> 1</td>\n",
       "      <td> 1</td>\n",
       "      <td> 1</td>\n",
       "      <td> 2</td>\n",
       "    </tr>\n",
       "    <tr>\n",
       "      <th>6</th>\n",
       "      <td> 2</td>\n",
       "      <td> 1</td>\n",
       "      <td> 1</td>\n",
       "      <td> 1</td>\n",
       "      <td> 1</td>\n",
       "      <td> 1</td>\n",
       "      <td> 1</td>\n",
       "      <td> 2</td>\n",
       "    </tr>\n",
       "    <tr>\n",
       "      <th>9</th>\n",
       "      <td> 1</td>\n",
       "      <td> 1</td>\n",
       "      <td> 1</td>\n",
       "      <td> 1</td>\n",
       "      <td> 1</td>\n",
       "      <td> 1</td>\n",
       "      <td> 1</td>\n",
       "      <td> 2</td>\n",
       "    </tr>\n",
       "  </tbody>\n",
       "</table>\n",
       "</div>"
      ],
      "text/plain": [
       "   num_of_cells_CAT  classification_CAT  phylum_CAT  organism_CAT  \\\n",
       "1                 1                   1           1             1   \n",
       "3                 1                   1           1             1   \n",
       "5                 2                   1           1             1   \n",
       "6                 2                   1           1             1   \n",
       "9                 1                   1           1             1   \n",
       "\n",
       "   cleavage_type_CAT  fixation_CAT  microscope_CAT  stage_CAT  \n",
       "1                  1             1               1          2  \n",
       "3                  1             1               1          2  \n",
       "5                  1             1               1          2  \n",
       "6                  1             1               1          2  \n",
       "9                  1             1               1          2  "
      ]
     },
     "execution_count": 52,
     "metadata": {},
     "output_type": "execute_result"
    }
   ],
   "source": [
    "#sanity check; looking good\n",
    "dfo_met._get_numeric_data()[cols_to_drop].head()"
   ]
  },
  {
   "cell_type": "code",
   "execution_count": 53,
   "metadata": {
    "collapsed": false
   },
   "outputs": [],
   "source": [
    "dfo_for_pygal=dfo_met._get_numeric_data().drop(cols_to_drop,axis=1)"
   ]
  },
  {
   "cell_type": "code",
   "execution_count": 54,
   "metadata": {
    "collapsed": false
   },
   "outputs": [
    {
     "name": "stdout",
     "output_type": "stream",
     "text": [
      "<class 'pandas.core.frame.DataFrame'>\n",
      "Int64Index: 1462 entries, 1 to 2000\n",
      "Data columns (total 41 columns):\n",
      "time_pf                            1462 non-null int64\n",
      "num_of_cells                       1379 non-null object\n",
      "meiotic                            1462 non-null int64\n",
      "stage                              1462 non-null object\n",
      "cell_diameter_um                   1420 non-null float64\n",
      "spindle_length__asters_um          1382 non-null float64\n",
      "spindle_length_poles_um            1454 non-null float64\n",
      "spindle_width_um                   1378 non-null float64\n",
      "spindle_aspect_ratio_asters_um     1367 non-null float64\n",
      "spindle_aspect_ratio_poles_um      1367 non-null float64\n",
      "astere-to-pole_distance_1_um       1336 non-null float64\n",
      "aster-to-pole_distance_2_um        1295 non-null float64\n",
      "inner_aster_diameter_1_um          1304 non-null float64\n",
      "inner_aster_diameter_2_um          1224 non-null float64\n",
      "outer_aster_diameter_1_um          1173 non-null float64\n",
      "outer__diameter_2_um               1105 non-null float64\n",
      "centrosome                         1462 non-null int64\n",
      "metaphase_plate_lengt_h_um         1226 non-null float64\n",
      "metaphase_plate_width_um           1203 non-null float64\n",
      "metaphase_plate_aspect_ratio_um    1192 non-null float64\n",
      "polar_body_diameter_1_um           1461 non-null float64\n",
      "polar_body_diameter_2_um           1460 non-null float64\n",
      "distance_between_chromosomes_um    1428 non-null float64\n",
      "microscope                         1334 non-null object\n",
      "fixation                           1334 non-null object\n",
      "organism                           1462 non-null object\n",
      "phylum                             1454 non-null object\n",
      "classification                     1462 non-null object\n",
      "genome                             1046 non-null float64\n",
      "chromosomes                        1458 non-null float64\n",
      "cleavage_type                      1462 non-null object\n",
      "num_of_cells_CAT                   1379 non-null float64\n",
      "num_of_cells_NUM                   1379 non-null float64\n",
      "classification_CAT                 1462 non-null int64\n",
      "phylum_CAT                         1462 non-null int64\n",
      "organism_CAT                       1462 non-null int64\n",
      "cleavage_type_CAT                  1462 non-null int64\n",
      "fixation_CAT                       1334 non-null float64\n",
      "microscope_CAT                     1334 non-null float64\n",
      "stage_CAT                          1462 non-null float64\n",
      "day_old                            1462 non-null object\n",
      "dtypes: float64(25), int64(7), object(9)\n",
      "memory usage: 479.7+ KB\n"
     ]
    }
   ],
   "source": [
    "dfo_met.info()"
   ]
  },
  {
   "cell_type": "code",
   "execution_count": 55,
   "metadata": {
    "collapsed": false
   },
   "outputs": [
    {
     "name": "stdout",
     "output_type": "stream",
     "text": [
      "<class 'pandas.core.frame.DataFrame'>\n",
      "Int64Index: 1462 entries, 1 to 2000\n",
      "Data columns (total 24 columns):\n",
      "time_pf                            1462 non-null int64\n",
      "meiotic                            1462 non-null int64\n",
      "cell_diameter_um                   1420 non-null float64\n",
      "spindle_length__asters_um          1382 non-null float64\n",
      "spindle_length_poles_um            1454 non-null float64\n",
      "spindle_width_um                   1378 non-null float64\n",
      "spindle_aspect_ratio_asters_um     1367 non-null float64\n",
      "spindle_aspect_ratio_poles_um      1367 non-null float64\n",
      "astere-to-pole_distance_1_um       1336 non-null float64\n",
      "aster-to-pole_distance_2_um        1295 non-null float64\n",
      "inner_aster_diameter_1_um          1304 non-null float64\n",
      "inner_aster_diameter_2_um          1224 non-null float64\n",
      "outer_aster_diameter_1_um          1173 non-null float64\n",
      "outer__diameter_2_um               1105 non-null float64\n",
      "centrosome                         1462 non-null int64\n",
      "metaphase_plate_lengt_h_um         1226 non-null float64\n",
      "metaphase_plate_width_um           1203 non-null float64\n",
      "metaphase_plate_aspect_ratio_um    1192 non-null float64\n",
      "polar_body_diameter_1_um           1461 non-null float64\n",
      "polar_body_diameter_2_um           1460 non-null float64\n",
      "distance_between_chromosomes_um    1428 non-null float64\n",
      "genome                             1046 non-null float64\n",
      "chromosomes                        1458 non-null float64\n",
      "num_of_cells_NUM                   1379 non-null float64\n",
      "dtypes: float64(21), int64(3)\n",
      "memory usage: 285.5 KB\n"
     ]
    }
   ],
   "source": [
    "dfo_for_pygal.info()"
   ]
  },
  {
   "cell_type": "code",
   "execution_count": 56,
   "metadata": {
    "collapsed": false
   },
   "outputs": [
    {
     "data": {
      "text/html": [
       "<div style=\"max-height:1000px;max-width:1500px;overflow:auto;\">\n",
       "<table border=\"1\" class=\"dataframe\">\n",
       "  <thead>\n",
       "    <tr style=\"text-align: right;\">\n",
       "      <th></th>\n",
       "      <th>time_pf</th>\n",
       "      <th>meiotic</th>\n",
       "      <th>cell_diameter_um</th>\n",
       "      <th>spindle_length__asters_um</th>\n",
       "      <th>spindle_length_poles_um</th>\n",
       "      <th>spindle_width_um</th>\n",
       "      <th>spindle_aspect_ratio_asters_um</th>\n",
       "      <th>spindle_aspect_ratio_poles_um</th>\n",
       "      <th>astere-to-pole_distance_1_um</th>\n",
       "      <th>aster-to-pole_distance_2_um</th>\n",
       "      <th>...</th>\n",
       "      <th>centrosome</th>\n",
       "      <th>metaphase_plate_lengt_h_um</th>\n",
       "      <th>metaphase_plate_width_um</th>\n",
       "      <th>metaphase_plate_aspect_ratio_um</th>\n",
       "      <th>polar_body_diameter_1_um</th>\n",
       "      <th>polar_body_diameter_2_um</th>\n",
       "      <th>distance_between_chromosomes_um</th>\n",
       "      <th>genome</th>\n",
       "      <th>chromosomes</th>\n",
       "      <th>num_of_cells_NUM</th>\n",
       "    </tr>\n",
       "  </thead>\n",
       "  <tbody>\n",
       "    <tr>\n",
       "      <th>1</th>\n",
       "      <td> 210</td>\n",
       "      <td> 0</td>\n",
       "      <td> 163.05828</td>\n",
       "      <td> 24.85329</td>\n",
       "      <td> 18.28827</td>\n",
       "      <td>  9.97689</td>\n",
       "      <td> 2.491086</td>\n",
       "      <td> 1.833063</td>\n",
       "      <td> 0</td>\n",
       "      <td> 0</td>\n",
       "      <td>...</td>\n",
       "      <td> 1</td>\n",
       "      <td> 9.02286</td>\n",
       "      <td> 2.40933</td>\n",
       "      <td> 3.744966</td>\n",
       "      <td>     NaN</td>\n",
       "      <td>NaN</td>\n",
       "      <td> 0</td>\n",
       "      <td> 811</td>\n",
       "      <td> 36</td>\n",
       "      <td> 1</td>\n",
       "    </tr>\n",
       "    <tr>\n",
       "      <th>3</th>\n",
       "      <td> 210</td>\n",
       "      <td> 0</td>\n",
       "      <td> 194.04000</td>\n",
       "      <td> 42.39774</td>\n",
       "      <td> 42.39774</td>\n",
       "      <td> 17.46360</td>\n",
       "      <td> 2.427778</td>\n",
       "      <td> 2.427778</td>\n",
       "      <td> 0</td>\n",
       "      <td> 0</td>\n",
       "      <td>...</td>\n",
       "      <td> 1</td>\n",
       "      <td> 7.72926</td>\n",
       "      <td> 4.02633</td>\n",
       "      <td> 1.919679</td>\n",
       "      <td> 8.23053</td>\n",
       "      <td>NaN</td>\n",
       "      <td> 0</td>\n",
       "      <td> 811</td>\n",
       "      <td> 36</td>\n",
       "      <td> 1</td>\n",
       "    </tr>\n",
       "  </tbody>\n",
       "</table>\n",
       "<p>2 rows × 24 columns</p>\n",
       "</div>"
      ],
      "text/plain": [
       "   time_pf  meiotic  cell_diameter_um  spindle_length__asters_um  \\\n",
       "1      210        0         163.05828                   24.85329   \n",
       "3      210        0         194.04000                   42.39774   \n",
       "\n",
       "   spindle_length_poles_um  spindle_width_um  spindle_aspect_ratio_asters_um  \\\n",
       "1                 18.28827           9.97689                        2.491086   \n",
       "3                 42.39774          17.46360                        2.427778   \n",
       "\n",
       "   spindle_aspect_ratio_poles_um  astere-to-pole_distance_1_um  \\\n",
       "1                       1.833063                             0   \n",
       "3                       2.427778                             0   \n",
       "\n",
       "   aster-to-pole_distance_2_um        ...         centrosome  \\\n",
       "1                            0        ...                  1   \n",
       "3                            0        ...                  1   \n",
       "\n",
       "   metaphase_plate_lengt_h_um  metaphase_plate_width_um  \\\n",
       "1                     9.02286                   2.40933   \n",
       "3                     7.72926                   4.02633   \n",
       "\n",
       "   metaphase_plate_aspect_ratio_um  polar_body_diameter_1_um  \\\n",
       "1                         3.744966                       NaN   \n",
       "3                         1.919679                   8.23053   \n",
       "\n",
       "   polar_body_diameter_2_um  distance_between_chromosomes_um  genome  \\\n",
       "1                       NaN                                0     811   \n",
       "3                       NaN                                0     811   \n",
       "\n",
       "   chromosomes  num_of_cells_NUM  \n",
       "1           36                 1  \n",
       "3           36                 1  \n",
       "\n",
       "[2 rows x 24 columns]"
      ]
     },
     "execution_count": 56,
     "metadata": {},
     "output_type": "execute_result"
    }
   ],
   "source": [
    "dfo_for_pygal.head(2)"
   ]
  },
  {
   "cell_type": "markdown",
   "metadata": {},
   "source": [
    "##### Putting some categorical columns back: 'organism'. 'num_of_cells_NUM' is still there. Keep it!"
   ]
  },
  {
   "cell_type": "code",
   "execution_count": 57,
   "metadata": {
    "collapsed": false
   },
   "outputs": [],
   "source": [
    "#put the organism column back\n",
    "dfo_for_pygal['organism']=dfo_met.organism\n",
    "#dfo.organism"
   ]
  },
  {
   "cell_type": "code",
   "execution_count": 59,
   "metadata": {
    "collapsed": false
   },
   "outputs": [
    {
     "data": {
      "text/plain": [
       "1     asterina_miniata\n",
       "3     asterina_miniata\n",
       "5     asterina_miniata\n",
       "6     asterina_miniata\n",
       "9     asterina_miniata\n",
       "10    asterina_miniata\n",
       "11    asterina_miniata\n",
       "12    asterina_miniata\n",
       "13    asterina_miniata\n",
       "15    asterina_miniata\n",
       "17    asterina_miniata\n",
       "18    asterina_miniata\n",
       "22    asterina_miniata\n",
       "23    asterina_miniata\n",
       "24    asterina_miniata\n",
       "...\n",
       "1986    mus_musculus\n",
       "1987    mus_musculus\n",
       "1988    mus_musculus\n",
       "1989    mus_musculus\n",
       "1990    mus_musculus\n",
       "1991    mus_musculus\n",
       "1992    mus_musculus\n",
       "1993    mus_musculus\n",
       "1994    mus_musculus\n",
       "1995    mus_musculus\n",
       "1996    mus_musculus\n",
       "1997    mus_musculus\n",
       "1998    mus_musculus\n",
       "1999    mus_musculus\n",
       "2000    mus_musculus\n",
       "Name: organism, Length: 1462, dtype: object"
      ]
     },
     "execution_count": 59,
     "metadata": {},
     "output_type": "execute_result"
    }
   ],
   "source": [
    "dfo_for_pygal.organism"
   ]
  },
  {
   "cell_type": "code",
   "execution_count": 60,
   "metadata": {
    "collapsed": false
   },
   "outputs": [
    {
     "name": "stdout",
     "output_type": "stream",
     "text": [
      "<class 'pandas.core.frame.DataFrame'>\n",
      "Int64Index: 1462 entries, 1 to 2000\n",
      "Data columns (total 25 columns):\n",
      "time_pf                            1462 non-null int64\n",
      "meiotic                            1462 non-null int64\n",
      "cell_diameter_um                   1420 non-null float64\n",
      "spindle_length__asters_um          1382 non-null float64\n",
      "spindle_length_poles_um            1454 non-null float64\n",
      "spindle_width_um                   1378 non-null float64\n",
      "spindle_aspect_ratio_asters_um     1367 non-null float64\n",
      "spindle_aspect_ratio_poles_um      1367 non-null float64\n",
      "astere-to-pole_distance_1_um       1336 non-null float64\n",
      "aster-to-pole_distance_2_um        1295 non-null float64\n",
      "inner_aster_diameter_1_um          1304 non-null float64\n",
      "inner_aster_diameter_2_um          1224 non-null float64\n",
      "outer_aster_diameter_1_um          1173 non-null float64\n",
      "outer__diameter_2_um               1105 non-null float64\n",
      "centrosome                         1462 non-null int64\n",
      "metaphase_plate_lengt_h_um         1226 non-null float64\n",
      "metaphase_plate_width_um           1203 non-null float64\n",
      "metaphase_plate_aspect_ratio_um    1192 non-null float64\n",
      "polar_body_diameter_1_um           1461 non-null float64\n",
      "polar_body_diameter_2_um           1460 non-null float64\n",
      "distance_between_chromosomes_um    1428 non-null float64\n",
      "genome                             1046 non-null float64\n",
      "chromosomes                        1458 non-null float64\n",
      "num_of_cells_NUM                   1379 non-null float64\n",
      "organism                           1462 non-null object\n",
      "dtypes: float64(21), int64(3), object(1)\n",
      "memory usage: 297.0+ KB\n"
     ]
    }
   ],
   "source": [
    "dfo_for_pygal.info()"
   ]
  },
  {
   "cell_type": "markdown",
   "metadata": {},
   "source": [
    "##### This is the column for additional filtering. For 'meiotic' == 0, get 'num_of_cells_NUM' from 1-4 (incl.)."
   ]
  },
  {
   "cell_type": "code",
   "execution_count": 72,
   "metadata": {
    "collapsed": false
   },
   "outputs": [
    {
     "data": {
      "text/plain": [
       "<matplotlib.axes._subplots.AxesSubplot at 0x112e01250>"
      ]
     },
     "execution_count": 72,
     "metadata": {},
     "output_type": "execute_result"
    },
    {
     "data": {
      "image/png": "[encoded data removed]",
      "text/plain": [
       "<matplotlib.figure.Figure at 0x110ad8710>"
      ]
     },
     "metadata": {},
     "output_type": "display_data"
    }
   ],
   "source": [
    "plt.figure(figsize=(10,5))\n",
    "plt.subplot(121)\n",
    "dfo_for_pygal[dfo_for_pygal.meiotic==0].num_of_cells_NUM.hist(bins=20) #drop this one too?\n",
    "plt.axvline(x=4,color='red')\n",
    "plt.subplot(122)\n",
    "dfo_for_pygal[dfo_for_pygal.meiotic==1].num_of_cells_NUM.hist(bins=20) #drop this one too?"
   ]
  },
  {
   "cell_type": "code",
   "execution_count": 75,
   "metadata": {
    "collapsed": false
   },
   "outputs": [
    {
     "name": "stdout",
     "output_type": "stream",
     "text": [
      "[   1.    2.    4.    8.   16.   26.   12.   64.  128.   32.   48.   96.\n",
      "   28.   nan]\n",
      "[ 1.]\n"
     ]
    }
   ],
   "source": [
    "#dfo_for_pygal_2=dfo_for_pygal.drop('num_of_cells_NUM',axis=1)\n",
    "print dfo_for_pygal[dfo_for_pygal.meiotic==0].num_of_cells_NUM.unique()\n",
    "print dfo_for_pygal[dfo_for_pygal.meiotic==1].num_of_cells_NUM.unique()"
   ]
  },
  {
   "cell_type": "code",
   "execution_count": 76,
   "metadata": {
    "collapsed": false
   },
   "outputs": [
    {
     "data": {
      "text/plain": [
       "(1462, 25)"
      ]
     },
     "execution_count": 76,
     "metadata": {},
     "output_type": "execute_result"
    }
   ],
   "source": [
    "dfo_for_pygal.shape"
   ]
  },
  {
   "cell_type": "code",
   "execution_count": 82,
   "metadata": {
    "collapsed": false
   },
   "outputs": [
    {
     "data": {
      "text/plain": [
       "array([ 1.,  2.,  4.])"
      ]
     },
     "execution_count": 82,
     "metadata": {},
     "output_type": "execute_result"
    }
   ],
   "source": [
    "dfo_for_pygal[(dfo_for_pygal.num_of_cells_NUM==1) | (dfo_for_pygal.num_of_cells_NUM==2) | (dfo_for_pygal.num_of_cells_NUM==4)].num_of_cells_NUM.unique()"
   ]
  },
  {
   "cell_type": "code",
   "execution_count": 83,
   "metadata": {
    "collapsed": false
   },
   "outputs": [],
   "source": [
    "dfo_for_pygal_2=dfo_for_pygal[(dfo_for_pygal.num_of_cells_NUM==1) | (dfo_for_pygal.num_of_cells_NUM==2) | (dfo_for_pygal.num_of_cells_NUM==4)]"
   ]
  },
  {
   "cell_type": "code",
   "execution_count": 100,
   "metadata": {
    "collapsed": false
   },
   "outputs": [
    {
     "data": {
      "text/plain": [
       "(834, 24)"
      ]
     },
     "execution_count": 100,
     "metadata": {},
     "output_type": "execute_result"
    }
   ],
   "source": [
    "dfo_for_pygal_2.shape"
   ]
  },
  {
   "cell_type": "code",
   "execution_count": 85,
   "metadata": {
    "collapsed": false
   },
   "outputs": [
    {
     "data": {
      "text/plain": [
       "<matplotlib.axes._subplots.AxesSubplot at 0x113666250>"
      ]
     },
     "execution_count": 85,
     "metadata": {},
     "output_type": "execute_result"
    },
    {
     "data": {
      "image/png": "[encoded data removed]",
      "text/plain": [
       "<matplotlib.figure.Figure at 0x112f01f90>"
      ]
     },
     "metadata": {},
     "output_type": "display_data"
    }
   ],
   "source": [
    "plt.figure(figsize=(10,5))\n",
    "plt.subplot(121)\n",
    "dfo_for_pygal_2[dfo_for_pygal_2.meiotic==0].num_of_cells_NUM.hist(bins=20) #drop this one too?\n",
    "plt.axvline(x=4,color='red')\n",
    "plt.subplot(122)\n",
    "dfo_for_pygal_2[dfo_for_pygal_2.meiotic==1].num_of_cells_NUM.hist(bins=20) #drop this one too?"
   ]
  },
  {
   "cell_type": "markdown",
   "metadata": {},
   "source": [
    "NOW we can drop 'num_of_cells_NUM' column."
   ]
  },
  {
   "cell_type": "code",
   "execution_count": 86,
   "metadata": {
    "collapsed": false
   },
   "outputs": [],
   "source": [
    "dfo_for_pygal_2=dfo_for_pygal_2.drop('num_of_cells_NUM',axis=1)"
   ]
  },
  {
   "cell_type": "code",
   "execution_count": 87,
   "metadata": {
    "collapsed": false
   },
   "outputs": [
    {
     "name": "stdout",
     "output_type": "stream",
     "text": [
      "<class 'pandas.core.frame.DataFrame'>\n",
      "Int64Index: 834 entries, 1 to 2000\n",
      "Data columns (total 24 columns):\n",
      "time_pf                            834 non-null int64\n",
      "meiotic                            834 non-null int64\n",
      "cell_diameter_um                   793 non-null float64\n",
      "spindle_length__asters_um          800 non-null float64\n",
      "spindle_length_poles_um            826 non-null float64\n",
      "spindle_width_um                   801 non-null float64\n",
      "spindle_aspect_ratio_asters_um     790 non-null float64\n",
      "spindle_aspect_ratio_poles_um      790 non-null float64\n",
      "astere-to-pole_distance_1_um       766 non-null float64\n",
      "aster-to-pole_distance_2_um        733 non-null float64\n",
      "inner_aster_diameter_1_um          746 non-null float64\n",
      "inner_aster_diameter_2_um          686 non-null float64\n",
      "outer_aster_diameter_1_um          741 non-null float64\n",
      "outer__diameter_2_um               700 non-null float64\n",
      "centrosome                         834 non-null int64\n",
      "metaphase_plate_lengt_h_um         736 non-null float64\n",
      "metaphase_plate_width_um           716 non-null float64\n",
      "metaphase_plate_aspect_ratio_um    705 non-null float64\n",
      "polar_body_diameter_1_um           833 non-null float64\n",
      "polar_body_diameter_2_um           832 non-null float64\n",
      "distance_between_chromosomes_um    805 non-null float64\n",
      "genome                             482 non-null float64\n",
      "chromosomes                        830 non-null float64\n",
      "organism                           834 non-null object\n",
      "dtypes: float64(20), int64(3), object(1)\n",
      "memory usage: 162.9+ KB\n"
     ]
    }
   ],
   "source": [
    "dfo_for_pygal_2.info()"
   ]
  },
  {
   "cell_type": "code",
   "execution_count": 88,
   "metadata": {
    "collapsed": false
   },
   "outputs": [],
   "source": [
    "grouped_org_mei=dfo_for_pygal_2.groupby(['organism','meiotic'],sort=False)"
   ]
  },
  {
   "cell_type": "code",
   "execution_count": 101,
   "metadata": {
    "collapsed": false
   },
   "outputs": [
    {
     "data": {
      "text/plain": [
       "29"
      ]
     },
     "execution_count": 101,
     "metadata": {},
     "output_type": "execute_result"
    }
   ],
   "source": [
    "len(grouped_org_mei) #somehow 2 organisms disappeared. Investigate later by comparing dfo_for_pygal.organism and dfo_for_pygal_2.organism "
   ]
  },
  {
   "cell_type": "code",
   "execution_count": 90,
   "metadata": {
    "collapsed": false
   },
   "outputs": [
    {
     "data": {
      "text/plain": [
       "('Homo_sapiens', 1)"
      ]
     },
     "execution_count": 90,
     "metadata": {},
     "output_type": "execute_result"
    }
   ],
   "source": [
    "grouped_org_mei.groups.keys()[0]"
   ]
  },
  {
   "cell_type": "markdown",
   "metadata": {},
   "source": [
    "This is a data frame with the metaphase means per organism, split by meiotic/mitotic:"
   ]
  },
  {
   "cell_type": "code",
   "execution_count": 92,
   "metadata": {
    "collapsed": false
   },
   "outputs": [],
   "source": [
    "means=grouped_org_mei.mean()"
   ]
  },
  {
   "cell_type": "code",
   "execution_count": 95,
   "metadata": {
    "collapsed": false
   },
   "outputs": [
    {
     "data": {
      "text/html": [
       "<div style=\"max-height:1000px;max-width:1500px;overflow:auto;\">\n",
       "<table border=\"1\" class=\"dataframe\">\n",
       "  <thead>\n",
       "    <tr style=\"text-align: right;\">\n",
       "      <th></th>\n",
       "      <th></th>\n",
       "      <th>time_pf</th>\n",
       "      <th>cell_diameter_um</th>\n",
       "      <th>spindle_length__asters_um</th>\n",
       "      <th>spindle_length_poles_um</th>\n",
       "      <th>spindle_width_um</th>\n",
       "      <th>spindle_aspect_ratio_asters_um</th>\n",
       "      <th>spindle_aspect_ratio_poles_um</th>\n",
       "      <th>astere-to-pole_distance_1_um</th>\n",
       "      <th>aster-to-pole_distance_2_um</th>\n",
       "      <th>inner_aster_diameter_1_um</th>\n",
       "      <th>...</th>\n",
       "      <th>outer__diameter_2_um</th>\n",
       "      <th>centrosome</th>\n",
       "      <th>metaphase_plate_lengt_h_um</th>\n",
       "      <th>metaphase_plate_width_um</th>\n",
       "      <th>metaphase_plate_aspect_ratio_um</th>\n",
       "      <th>polar_body_diameter_1_um</th>\n",
       "      <th>polar_body_diameter_2_um</th>\n",
       "      <th>distance_between_chromosomes_um</th>\n",
       "      <th>genome</th>\n",
       "      <th>chromosomes</th>\n",
       "    </tr>\n",
       "    <tr>\n",
       "      <th>organism</th>\n",
       "      <th>meiotic</th>\n",
       "      <th></th>\n",
       "      <th></th>\n",
       "      <th></th>\n",
       "      <th></th>\n",
       "      <th></th>\n",
       "      <th></th>\n",
       "      <th></th>\n",
       "      <th></th>\n",
       "      <th></th>\n",
       "      <th></th>\n",
       "      <th></th>\n",
       "      <th></th>\n",
       "      <th></th>\n",
       "      <th></th>\n",
       "      <th></th>\n",
       "      <th></th>\n",
       "      <th></th>\n",
       "      <th></th>\n",
       "      <th></th>\n",
       "      <th></th>\n",
       "      <th></th>\n",
       "    </tr>\n",
       "  </thead>\n",
       "  <tbody>\n",
       "    <tr>\n",
       "      <th rowspan=\"2\" valign=\"top\">asterina_miniata</th>\n",
       "      <th>0</th>\n",
       "      <td> 227.647059</td>\n",
       "      <td> 148.597495</td>\n",
       "      <td> 45.122942</td>\n",
       "      <td> 29.479782</td>\n",
       "      <td> 16.841408</td>\n",
       "      <td> 2.752330</td>\n",
       "      <td> 1.80070</td>\n",
       "      <td> 3.611328</td>\n",
       "      <td> 3.849842</td>\n",
       "      <td> 10.950803</td>\n",
       "      <td>...</td>\n",
       "      <td> 45.763439</td>\n",
       "      <td> 1</td>\n",
       "      <td> 13.578616</td>\n",
       "      <td> 4.752077</td>\n",
       "      <td> 3.069286</td>\n",
       "      <td> 9.385763</td>\n",
       "      <td> 9.354763</td>\n",
       "      <td> 0.16178</td>\n",
       "      <td> 811</td>\n",
       "      <td> 36</td>\n",
       "    </tr>\n",
       "    <tr>\n",
       "      <th>1</th>\n",
       "      <td>   4.285714</td>\n",
       "      <td> 220.351184</td>\n",
       "      <td> 24.748558</td>\n",
       "      <td> 20.470540</td>\n",
       "      <td>  8.521747</td>\n",
       "      <td> 3.041225</td>\n",
       "      <td> 2.51297</td>\n",
       "      <td> 0.446234</td>\n",
       "      <td> 0.167230</td>\n",
       "      <td>  4.461345</td>\n",
       "      <td>...</td>\n",
       "      <td> 24.003288</td>\n",
       "      <td> 1</td>\n",
       "      <td> 12.092656</td>\n",
       "      <td> 5.698895</td>\n",
       "      <td> 2.193964</td>\n",
       "      <td> 7.520823</td>\n",
       "      <td> 7.700000</td>\n",
       "      <td> 0.00000</td>\n",
       "      <td> 811</td>\n",
       "      <td> 36</td>\n",
       "    </tr>\n",
       "  </tbody>\n",
       "</table>\n",
       "<p>2 rows × 22 columns</p>\n",
       "</div>"
      ],
      "text/plain": [
       "                             time_pf  cell_diameter_um  \\\n",
       "organism         meiotic                                 \n",
       "asterina_miniata 0        227.647059        148.597495   \n",
       "                 1          4.285714        220.351184   \n",
       "\n",
       "                          spindle_length__asters_um  spindle_length_poles_um  \\\n",
       "organism         meiotic                                                       \n",
       "asterina_miniata 0                        45.122942                29.479782   \n",
       "                 1                        24.748558                20.470540   \n",
       "\n",
       "                          spindle_width_um  spindle_aspect_ratio_asters_um  \\\n",
       "organism         meiotic                                                     \n",
       "asterina_miniata 0               16.841408                        2.752330   \n",
       "                 1                8.521747                        3.041225   \n",
       "\n",
       "                          spindle_aspect_ratio_poles_um  \\\n",
       "organism         meiotic                                  \n",
       "asterina_miniata 0                              1.80070   \n",
       "                 1                              2.51297   \n",
       "\n",
       "                          astere-to-pole_distance_1_um  \\\n",
       "organism         meiotic                                 \n",
       "asterina_miniata 0                            3.611328   \n",
       "                 1                            0.446234   \n",
       "\n",
       "                          aster-to-pole_distance_2_um  \\\n",
       "organism         meiotic                                \n",
       "asterina_miniata 0                           3.849842   \n",
       "                 1                           0.167230   \n",
       "\n",
       "                          inner_aster_diameter_1_um     ...       \\\n",
       "organism         meiotic                                ...        \n",
       "asterina_miniata 0                        10.950803     ...        \n",
       "                 1                         4.461345     ...        \n",
       "\n",
       "                          outer__diameter_2_um  centrosome  \\\n",
       "organism         meiotic                                     \n",
       "asterina_miniata 0                   45.763439           1   \n",
       "                 1                   24.003288           1   \n",
       "\n",
       "                          metaphase_plate_lengt_h_um  \\\n",
       "organism         meiotic                               \n",
       "asterina_miniata 0                         13.578616   \n",
       "                 1                         12.092656   \n",
       "\n",
       "                          metaphase_plate_width_um  \\\n",
       "organism         meiotic                             \n",
       "asterina_miniata 0                        4.752077   \n",
       "                 1                        5.698895   \n",
       "\n",
       "                          metaphase_plate_aspect_ratio_um  \\\n",
       "organism         meiotic                                    \n",
       "asterina_miniata 0                               3.069286   \n",
       "                 1                               2.193964   \n",
       "\n",
       "                          polar_body_diameter_1_um  polar_body_diameter_2_um  \\\n",
       "organism         meiotic                                                       \n",
       "asterina_miniata 0                        9.385763                  9.354763   \n",
       "                 1                        7.520823                  7.700000   \n",
       "\n",
       "                          distance_between_chromosomes_um  genome  chromosomes  \n",
       "organism         meiotic                                                        \n",
       "asterina_miniata 0                                0.16178     811           36  \n",
       "                 1                                0.00000     811           36  \n",
       "\n",
       "[2 rows x 22 columns]"
      ]
     },
     "execution_count": 95,
     "metadata": {},
     "output_type": "execute_result"
    }
   ],
   "source": [
    "means.head(2)"
   ]
  },
  {
   "cell_type": "code",
   "execution_count": 96,
   "metadata": {
    "collapsed": false
   },
   "outputs": [
    {
     "data": {
      "text/plain": [
       "FrozenList([u'organism', u'meiotic'])"
      ]
     },
     "execution_count": 96,
     "metadata": {},
     "output_type": "execute_result"
    }
   ],
   "source": [
    "#the table index\n",
    "means.index.names"
   ]
  },
  {
   "cell_type": "code",
   "execution_count": 97,
   "metadata": {
    "collapsed": false
   },
   "outputs": [
    {
     "data": {
      "text/plain": [
       "MultiIndex(levels=[[u'Callithrix_jacchus', u'Clytia_hemisphaerica_1', u'Equus_caballus', u'Homo_sapiens', u'Macaca_mulatta', u'Strongylocentrotus_purpuratus', u'asterina_miniata', u'caenorhabditis_elegans', u'cerebratulus_marginatus', u'ciona_intestinalis', u'danio_rerio', u'drosophila_melanogaster', u'helobdella_robusta', u'monodelphis_domestica', u'mus_musculus', u'mytilus_californianus', u'sus_scrofa', u'urechis_caupo', u'xenopus_laevis', u'xenopus_tropicalis'], [0, 1]],\n",
       "           labels=[[6, 6, 7, 7, 8, 8, 9, 9, 12, 12, 5, 5, 17, 17, 18, 18, 15, 19, 2, 3, 4, 0, 13, 16, 14, 14, 11, 10, 1], [0, 1, 0, 1, 0, 1, 0, 1, 0, 1, 0, 1, 0, 1, 0, 1, 1, 1, 1, 1, 1, 1, 1, 1, 0, 1, 1, 0, 1]],\n",
       "           names=[u'organism', u'meiotic'])"
      ]
     },
     "execution_count": 97,
     "metadata": {},
     "output_type": "execute_result"
    }
   ],
   "source": [
    "means.index"
   ]
  },
  {
   "cell_type": "code",
   "execution_count": 98,
   "metadata": {
    "collapsed": false
   },
   "outputs": [
    {
     "data": {
      "text/html": [
       "<div style=\"max-height:1000px;max-width:1500px;overflow:auto;\">\n",
       "<table border=\"1\" class=\"dataframe\">\n",
       "  <thead>\n",
       "    <tr style=\"text-align: right;\">\n",
       "      <th></th>\n",
       "      <th>time_pf</th>\n",
       "      <th>cell_diameter_um</th>\n",
       "      <th>spindle_length__asters_um</th>\n",
       "      <th>spindle_length_poles_um</th>\n",
       "      <th>spindle_width_um</th>\n",
       "      <th>spindle_aspect_ratio_asters_um</th>\n",
       "      <th>spindle_aspect_ratio_poles_um</th>\n",
       "      <th>astere-to-pole_distance_1_um</th>\n",
       "      <th>aster-to-pole_distance_2_um</th>\n",
       "      <th>inner_aster_diameter_1_um</th>\n",
       "      <th>...</th>\n",
       "      <th>outer__diameter_2_um</th>\n",
       "      <th>centrosome</th>\n",
       "      <th>metaphase_plate_lengt_h_um</th>\n",
       "      <th>metaphase_plate_width_um</th>\n",
       "      <th>metaphase_plate_aspect_ratio_um</th>\n",
       "      <th>polar_body_diameter_1_um</th>\n",
       "      <th>polar_body_diameter_2_um</th>\n",
       "      <th>distance_between_chromosomes_um</th>\n",
       "      <th>genome</th>\n",
       "      <th>chromosomes</th>\n",
       "    </tr>\n",
       "    <tr>\n",
       "      <th>meiotic</th>\n",
       "      <th></th>\n",
       "      <th></th>\n",
       "      <th></th>\n",
       "      <th></th>\n",
       "      <th></th>\n",
       "      <th></th>\n",
       "      <th></th>\n",
       "      <th></th>\n",
       "      <th></th>\n",
       "      <th></th>\n",
       "      <th></th>\n",
       "      <th></th>\n",
       "      <th></th>\n",
       "      <th></th>\n",
       "      <th></th>\n",
       "      <th></th>\n",
       "      <th></th>\n",
       "      <th></th>\n",
       "      <th></th>\n",
       "      <th></th>\n",
       "      <th></th>\n",
       "    </tr>\n",
       "  </thead>\n",
       "  <tbody>\n",
       "    <tr>\n",
       "      <th>0</th>\n",
       "      <td> 98.75</td>\n",
       "      <td> 1249.975500</td>\n",
       "      <td> 86.945700</td>\n",
       "      <td> 50.062600</td>\n",
       "      <td> 18.242000</td>\n",
       "      <td> 4.901206</td>\n",
       "      <td> 2.856703</td>\n",
       "      <td> 8.3285</td>\n",
       "      <td> 9.5742</td>\n",
       "      <td> 23.6907</td>\n",
       "      <td>...</td>\n",
       "      <td> 96.7</td>\n",
       "      <td> 1</td>\n",
       "      <td> 20.721760</td>\n",
       "      <td> 5.980640</td>\n",
       "      <td> 3.758759</td>\n",
       "      <td> 17.712500</td>\n",
       "      <td> 8.202136</td>\n",
       "      <td> 0</td>\n",
       "      <td> 3100</td>\n",
       "      <td> 36</td>\n",
       "    </tr>\n",
       "    <tr>\n",
       "      <th>1</th>\n",
       "      <td>  0.00</td>\n",
       "      <td> 1185.384295</td>\n",
       "      <td> 29.631899</td>\n",
       "      <td> 29.631899</td>\n",
       "      <td> 14.966531</td>\n",
       "      <td> 1.998537</td>\n",
       "      <td> 1.998537</td>\n",
       "      <td> 0.0000</td>\n",
       "      <td> 0.0000</td>\n",
       "      <td>  0.0000</td>\n",
       "      <td>...</td>\n",
       "      <td>  0.0</td>\n",
       "      <td> 0</td>\n",
       "      <td> 15.794306</td>\n",
       "      <td> 6.137751</td>\n",
       "      <td> 2.812343</td>\n",
       "      <td> 12.711531</td>\n",
       "      <td> 9.039030</td>\n",
       "      <td> 0</td>\n",
       "      <td> 3100</td>\n",
       "      <td> 36</td>\n",
       "    </tr>\n",
       "  </tbody>\n",
       "</table>\n",
       "<p>2 rows × 22 columns</p>\n",
       "</div>"
      ],
      "text/plain": [
       "         time_pf  cell_diameter_um  spindle_length__asters_um  \\\n",
       "meiotic                                                         \n",
       "0          98.75       1249.975500                  86.945700   \n",
       "1           0.00       1185.384295                  29.631899   \n",
       "\n",
       "         spindle_length_poles_um  spindle_width_um  \\\n",
       "meiotic                                              \n",
       "0                      50.062600         18.242000   \n",
       "1                      29.631899         14.966531   \n",
       "\n",
       "         spindle_aspect_ratio_asters_um  spindle_aspect_ratio_poles_um  \\\n",
       "meiotic                                                                  \n",
       "0                              4.901206                       2.856703   \n",
       "1                              1.998537                       1.998537   \n",
       "\n",
       "         astere-to-pole_distance_1_um  aster-to-pole_distance_2_um  \\\n",
       "meiotic                                                              \n",
       "0                              8.3285                       9.5742   \n",
       "1                              0.0000                       0.0000   \n",
       "\n",
       "         inner_aster_diameter_1_um     ...       outer__diameter_2_um  \\\n",
       "meiotic                                ...                              \n",
       "0                          23.6907     ...                       96.7   \n",
       "1                           0.0000     ...                        0.0   \n",
       "\n",
       "         centrosome  metaphase_plate_lengt_h_um  metaphase_plate_width_um  \\\n",
       "meiotic                                                                     \n",
       "0                 1                   20.721760                  5.980640   \n",
       "1                 0                   15.794306                  6.137751   \n",
       "\n",
       "         metaphase_plate_aspect_ratio_um  polar_body_diameter_1_um  \\\n",
       "meiotic                                                              \n",
       "0                               3.758759                 17.712500   \n",
       "1                               2.812343                 12.711531   \n",
       "\n",
       "         polar_body_diameter_2_um  distance_between_chromosomes_um  genome  \\\n",
       "meiotic                                                                      \n",
       "0                        8.202136                                0    3100   \n",
       "1                        9.039030                                0    3100   \n",
       "\n",
       "         chromosomes  \n",
       "meiotic               \n",
       "0                 36  \n",
       "1                 36  \n",
       "\n",
       "[2 rows x 22 columns]"
      ]
     },
     "execution_count": 98,
     "metadata": {},
     "output_type": "execute_result"
    }
   ],
   "source": [
    "means.loc['xenopus_laevis']"
   ]
  },
  {
   "cell_type": "markdown",
   "metadata": {},
   "source": [
    "## Plotting"
   ]
  },
  {
   "cell_type": "markdown",
   "metadata": {},
   "source": [
    "Test the plot on one organism."
   ]
  },
  {
   "cell_type": "code",
   "execution_count": 102,
   "metadata": {
    "collapsed": false
   },
   "outputs": [],
   "source": [
    "#test the plot on one organism\n",
    "log_means_1=[np.log10(x) for x in means.loc['xenopus_laevis',1].values] #meiotic\n",
    "log_means_0=[np.log10(x) for x in means.loc['xenopus_laevis',0].values] #mitotic"
   ]
  },
  {
   "cell_type": "code",
   "execution_count": 357,
   "metadata": {
    "collapsed": false
   },
   "outputs": [
    {
     "data": {
      "text/plain": [
       "array([  4.44888889e+02,   2.27073209e+02,   4.71583227e+01,\n",
       "         3.48029944e+01,   1.47119545e+01,   3.13489885e+00,\n",
       "         2.35247062e+00,   2.54882370e+00,   2.22041527e+00,\n",
       "         1.13998496e+01,   1.50183163e+03,   5.75910570e+01,\n",
       "         4.37048689e+01,   1.00000000e+00,   1.86787314e+01,\n",
       "         5.45049143e+00,   3.70456956e+00,   2.77740741e+01,\n",
       "         8.84065519e+00,   0.00000000e+00,   3.10000000e+03,\n",
       "         3.60000000e+01])"
      ]
     },
     "execution_count": 357,
     "metadata": {},
     "output_type": "execute_result"
    }
   ],
   "source": [
    "means.loc['xenopus_laevis',0].values"
   ]
  },
  {
   "cell_type": "code",
   "execution_count": 358,
   "metadata": {
    "collapsed": false
   },
   "outputs": [
    {
     "data": {
      "text/plain": [
       "(22, 22)"
      ]
     },
     "execution_count": 358,
     "metadata": {},
     "output_type": "execute_result"
    }
   ],
   "source": [
    "len(list(means.columns)), len(log_means_0)"
   ]
  },
  {
   "cell_type": "code",
   "execution_count": 359,
   "metadata": {
    "collapsed": false
   },
   "outputs": [
    {
     "data": {
      "text/plain": [
       "Index([u'time_pf', u'cell_diameter_um', u'spindle_length__asters_um', u'spindle_length_poles_um', u'spindle_width_um', u'spindle_aspect_ratio_asters_um', u'spindle_aspect_ratio_poles_um', u'astere-to-pole_distance_1_um', u'aster-to-pole_distance_2_um', u'inner_aster_diameter_1_um', u'inner_aster_diameter_2_um', u'outer_aster_diameter_1_um', u'outer__diameter_2_um', u'centrosome', u'metaphase_plate_lengt_h_um', u'metaphase_plate_width_um', u'metaphase_plate_aspect_ratio_um', u'polar_body_diameter_1_um', u'polar_body_diameter_2_um', u'distance_between_chromosomes_um', u'genome', u'chromosomes'], dtype='object')"
      ]
     },
     "execution_count": 359,
     "metadata": {},
     "output_type": "execute_result"
    }
   ],
   "source": [
    "means.columns"
   ]
  },
  {
   "cell_type": "markdown",
   "metadata": {},
   "source": [
    "### Preliminary plot"
   ]
  },
  {
   "cell_type": "code",
   "execution_count": 103,
   "metadata": {
    "collapsed": false
   },
   "outputs": [
    {
     "data": {
      "image/svg+xml": [
       "<svg class=\"pygal-chart\" id=\"chart-9f88175e-e66a-432d-b86a-321956cace29\" viewBox=\"0 0 800 600\" xmlns=\"http://www.w3.org/2000/svg\" xmlns:xlink=\"http://www.w3.org/1999/xlink\"><!--Generated with pygal 1.5.1 (etree) ©Kozea 2011-2014 on 2015-01-09--><!--http://pygal.org--><!--http://github.com/Kozea/pygal--><defs><style type=\"text/css\">#chart-9f88175e-e66a-432d-b86a-321956cace29 .title{font-family:&quot;monospace&quot;;font-size:16px}#chart-9f88175e-e66a-432d-b86a-321956cace29 .legends .legend text{font-family:&quot;monospace&quot;;font-size:14px}#chart-9f88175e-e66a-432d-b86a-321956cace29 .axis text{font-family:&quot;monospace&quot;;font-size:10px}#chart-9f88175e-e66a-432d-b86a-321956cace29 .axis text.major{font-family:&quot;monospace&quot;;font-size:10px}#chart-9f88175e-e66a-432d-b86a-321956cace29 .series text{font-family:&quot;monospace&quot;;font-size:8px}#chart-9f88175e-e66a-432d-b86a-321956cace29 .tooltip text{font-family:&quot;monospace&quot;;font-size:16px}#chart-9f88175e-e66a-432d-b86a-321956cace29 text.no_data{font-size:64px}\n",
       "#chart-9f88175e-e66a-432d-b86a-321956cace29{background-color:black}#chart-9f88175e-e66a-432d-b86a-321956cace29 path,#chart-9f88175e-e66a-432d-b86a-321956cace29 line,#chart-9f88175e-e66a-432d-b86a-321956cace29 rect,#chart-9f88175e-e66a-432d-b86a-321956cace29 circle{-webkit-transition:250ms;-moz-transition:250ms;transition:250ms}#chart-9f88175e-e66a-432d-b86a-321956cace29 .graph &gt; .background{fill:black}#chart-9f88175e-e66a-432d-b86a-321956cace29 .plot &gt; .background{fill:#111}#chart-9f88175e-e66a-432d-b86a-321956cace29 .graph{fill:#999}#chart-9f88175e-e66a-432d-b86a-321956cace29 text.no_data{fill:#eee}#chart-9f88175e-e66a-432d-b86a-321956cace29 .title{fill:#eee}#chart-9f88175e-e66a-432d-b86a-321956cace29 .legends .legend text{fill:#999}#chart-9f88175e-e66a-432d-b86a-321956cace29 .legends .legend:hover text{fill:#eee}#chart-9f88175e-e66a-432d-b86a-321956cace29 .axis .line{stroke:#eee}#chart-9f88175e-e66a-432d-b86a-321956cace29 .axis .guide.line{stroke:#555}#chart-9f88175e-e66a-432d-b86a-321956cace29 .axis .major.line{stroke:#999}#chart-9f88175e-e66a-432d-b86a-321956cace29 .axis text.major{stroke:#eee;fill:#eee}#chart-9f88175e-e66a-432d-b86a-321956cace29 .axis.y .guides:hover .guide.line,#chart-9f88175e-e66a-432d-b86a-321956cace29 .line-graph .axis.x .guides:hover .guide.line,#chart-9f88175e-e66a-432d-b86a-321956cace29 .stackedline-graph .axis.x .guides:hover .guide.line,#chart-9f88175e-e66a-432d-b86a-321956cace29 .xy-graph .axis.x .guides:hover .guide.line{stroke:#eee}#chart-9f88175e-e66a-432d-b86a-321956cace29 .axis .guides:hover text{fill:#eee}#chart-9f88175e-e66a-432d-b86a-321956cace29 .reactive{fill-opacity:.8}#chart-9f88175e-e66a-432d-b86a-321956cace29 .reactive.active,#chart-9f88175e-e66a-432d-b86a-321956cace29 .active .reactive{fill-opacity:.4}#chart-9f88175e-e66a-432d-b86a-321956cace29 .series text{fill:#eee}#chart-9f88175e-e66a-432d-b86a-321956cace29 .tooltip rect{fill:#111;stroke:#eee}#chart-9f88175e-e66a-432d-b86a-321956cace29 .tooltip text{fill:#eee}#chart-9f88175e-e66a-432d-b86a-321956cace29 .map-element{fill:#999;stroke:#555 !important;opacity:.9;stroke-width:3;-webkit-transition:250ms;-moz-transition:250ms;-o-transition:250ms;transition:250ms}#chart-9f88175e-e66a-432d-b86a-321956cace29 .map-element:hover{opacity:1;stroke-width:10}#chart-9f88175e-e66a-432d-b86a-321956cace29 .color-0,#chart-9f88175e-e66a-432d-b86a-321956cace29 .color-0 a:visited{stroke:#ff5995;fill:#ff5995}#chart-9f88175e-e66a-432d-b86a-321956cace29 .color-1,#chart-9f88175e-e66a-432d-b86a-321956cace29 .color-1 a:visited{stroke:#b6e354;fill:#b6e354}#chart-9f88175e-e66a-432d-b86a-321956cace29 .color-2,#chart-9f88175e-e66a-432d-b86a-321956cace29 .color-2 a:visited{stroke:#feed6c;fill:#feed6c}#chart-9f88175e-e66a-432d-b86a-321956cace29 .color-3,#chart-9f88175e-e66a-432d-b86a-321956cace29 .color-3 a:visited{stroke:#8cedff;fill:#8cedff}#chart-9f88175e-e66a-432d-b86a-321956cace29 .color-4,#chart-9f88175e-e66a-432d-b86a-321956cace29 .color-4 a:visited{stroke:#9e6ffe;fill:#9e6ffe}#chart-9f88175e-e66a-432d-b86a-321956cace29 .color-5,#chart-9f88175e-e66a-432d-b86a-321956cace29 .color-5 a:visited{stroke:#899ca1;fill:#899ca1}#chart-9f88175e-e66a-432d-b86a-321956cace29 .color-6,#chart-9f88175e-e66a-432d-b86a-321956cace29 .color-6 a:visited{stroke:#f8f8f2;fill:#f8f8f2}#chart-9f88175e-e66a-432d-b86a-321956cace29 .color-7,#chart-9f88175e-e66a-432d-b86a-321956cace29 .color-7 a:visited{stroke:#bf4646;fill:#bf4646}#chart-9f88175e-e66a-432d-b86a-321956cace29 .color-8,#chart-9f88175e-e66a-432d-b86a-321956cace29 .color-8 a:visited{stroke:#516083;fill:#516083}#chart-9f88175e-e66a-432d-b86a-321956cace29 .color-9,#chart-9f88175e-e66a-432d-b86a-321956cace29 .color-9 a:visited{stroke:#f92672;fill:#f92672}#chart-9f88175e-e66a-432d-b86a-321956cace29 .color-10,#chart-9f88175e-e66a-432d-b86a-321956cace29 .color-10 a:visited{stroke:#82b414;fill:#82b414}#chart-9f88175e-e66a-432d-b86a-321956cace29 .color-11,#chart-9f88175e-e66a-432d-b86a-321956cace29 .color-11 a:visited{stroke:#fd971f;fill:#fd971f}#chart-9f88175e-e66a-432d-b86a-321956cace29 .color-12,#chart-9f88175e-e66a-432d-b86a-321956cace29 .color-12 a:visited{stroke:#56c2d6;fill:#56c2d6}#chart-9f88175e-e66a-432d-b86a-321956cace29 .color-13,#chart-9f88175e-e66a-432d-b86a-321956cace29 .color-13 a:visited{stroke:#808384;fill:#808384}#chart-9f88175e-e66a-432d-b86a-321956cace29 .color-14,#chart-9f88175e-e66a-432d-b86a-321956cace29 .color-14 a:visited{stroke:#8c54fe;fill:#8c54fe}#chart-9f88175e-e66a-432d-b86a-321956cace29 .color-15,#chart-9f88175e-e66a-432d-b86a-321956cace29 .color-15 a:visited{stroke:#465457;fill:#465457}\n",
       "#chart-9f88175e-e66a-432d-b86a-321956cace29 text.no_data{text-anchor:middle}#chart-9f88175e-e66a-432d-b86a-321956cace29 .guide.line{fill-opacity:0}#chart-9f88175e-e66a-432d-b86a-321956cace29 .centered{text-anchor:middle}#chart-9f88175e-e66a-432d-b86a-321956cace29 .title{text-anchor:middle}#chart-9f88175e-e66a-432d-b86a-321956cace29 .legends .legend text{fill-opacity:1}#chart-9f88175e-e66a-432d-b86a-321956cace29 .axis.x text{text-anchor:middle}#chart-9f88175e-e66a-432d-b86a-321956cace29 .axis.x:not(.web) text[transform]{text-anchor:start}#chart-9f88175e-e66a-432d-b86a-321956cace29 .axis.y text{text-anchor:end}#chart-9f88175e-e66a-432d-b86a-321956cace29 .axis.y2 text{text-anchor:start}#chart-9f88175e-e66a-432d-b86a-321956cace29 .axis.y .logarithmic text:not(.major),#chart-9f88175e-e66a-432d-b86a-321956cace29 .axis.y2 .logarithmic text:not(.major){font-size:50%}#chart-9f88175e-e66a-432d-b86a-321956cace29 .axis .guide.line{stroke-dasharray:4,4}#chart-9f88175e-e66a-432d-b86a-321956cace29 .axis .major.guide.line{stroke-dasharray:6,6}#chart-9f88175e-e66a-432d-b86a-321956cace29 .axis text.major{stroke-width:0.5px}#chart-9f88175e-e66a-432d-b86a-321956cace29 .horizontal .axis.y .guide.line,#chart-9f88175e-e66a-432d-b86a-321956cace29 .horizontal .axis.y2 .guide.line,#chart-9f88175e-e66a-432d-b86a-321956cace29 .vertical .axis.x .guide.line{opacity:0}#chart-9f88175e-e66a-432d-b86a-321956cace29 .horizontal .axis.always_show .guide.line,#chart-9f88175e-e66a-432d-b86a-321956cace29 .vertical .axis.always_show .guide.line{opacity:1 !important}#chart-9f88175e-e66a-432d-b86a-321956cace29 .axis.y .guides:hover .guide.line,#chart-9f88175e-e66a-432d-b86a-321956cace29 .axis.y2 .guides:hover .guide.line,#chart-9f88175e-e66a-432d-b86a-321956cace29 .axis.x .guides:hover .guide.line{opacity:1}#chart-9f88175e-e66a-432d-b86a-321956cace29 .axis .guides:hover text{opacity:1}#chart-9f88175e-e66a-432d-b86a-321956cace29 .nofill{fill:none}#chart-9f88175e-e66a-432d-b86a-321956cace29 .subtle-fill{fill-opacity:.2}#chart-9f88175e-e66a-432d-b86a-321956cace29 .dot{stroke-width:1px;fill-opacity:1}#chart-9f88175e-e66a-432d-b86a-321956cace29 .dot.active{stroke-width:5px}#chart-9f88175e-e66a-432d-b86a-321956cace29 .series text{stroke:none}#chart-9f88175e-e66a-432d-b86a-321956cace29 .series text.active{opacity:1}#chart-9f88175e-e66a-432d-b86a-321956cace29 .tooltip rect{fill-opacity:0.8}#chart-9f88175e-e66a-432d-b86a-321956cace29 .tooltip text{fill-opacity:1}#chart-9f88175e-e66a-432d-b86a-321956cace29 .tooltip text tspan.label{fill-opacity:.8}</style><script type=\"text/javascript\">window.config = {&quot;inner_radius&quot;: 0, &quot;print_values&quot;: true, &quot;tooltip_font_size&quot;: 16, &quot;y_title&quot;: null, &quot;y_labels_major&quot;: null, &quot;height&quot;: 600, &quot;legend_at_bottom&quot;: false, &quot;show_legend&quot;: true, &quot;show_dots&quot;: true, &quot;explicit_size&quot;: false, &quot;legend_font_size&quot;: 14, &quot;x_labels_major_count&quot;: null, &quot;major_label_font_size&quot;: 10, &quot;fill&quot;: false, &quot;half_pie&quot;: false, &quot;style&quot;: {&quot;opacity&quot;: &quot;.8&quot;, &quot;foreground&quot;: &quot;#999&quot;, &quot;plot_background&quot;: &quot;#111&quot;, &quot;foreground_light&quot;: &quot;#eee&quot;, &quot;transition&quot;: &quot;250ms&quot;, &quot;foreground_dark&quot;: &quot;#555&quot;, &quot;opacity_hover&quot;: &quot;.4&quot;, &quot;colors&quot;: [&quot;#ff5995&quot;, &quot;#b6e354&quot;, &quot;#feed6c&quot;, &quot;#8cedff&quot;, &quot;#9e6ffe&quot;, &quot;#899ca1&quot;, &quot;#f8f8f2&quot;, &quot;#bf4646&quot;, &quot;#516083&quot;, &quot;#f92672&quot;, &quot;#82b414&quot;, &quot;#fd971f&quot;, &quot;#56c2d6&quot;, &quot;#808384&quot;, &quot;#8c54fe&quot;, &quot;#465457&quot;], &quot;background&quot;: &quot;black&quot;, &quot;font_family&quot;: &quot;monospace&quot;}, &quot;x_title&quot;: null, &quot;zero&quot;: 0, &quot;show_minor_x_labels&quot;: true, &quot;interpolation_parameters&quot;: {}, &quot;x_labels_major&quot;: null, &quot;rounded_bars&quot;: null, &quot;label_font_size&quot;: 10, &quot;show_y_labels&quot;: true, &quot;dots_size&quot;: 2.5, &quot;show_y_guides&quot;: true, &quot;show_minor_y_labels&quot;: true, &quot;x_labels&quot;: [&quot;time_pf&quot;, &quot;cell_diameter_um&quot;, &quot;spindle_length__asters_um&quot;, &quot;spindle_length_poles_um&quot;, &quot;spindle_width_um&quot;, &quot;spindle_aspect_ratio_asters_um&quot;, &quot;spindle_aspect_ratio_poles_um&quot;, &quot;astere-to-pole_distance_1_um&quot;, &quot;aster-to-pole_distance_2_um&quot;, &quot;inner_aster_diameter_1_um&quot;, &quot;inner_aster_diameter_2_um&quot;, &quot;outer_aster_diameter_1_um&quot;, &quot;outer__diameter_2_um&quot;, &quot;centrosome&quot;, &quot;metaphase_plate_lengt_h_um&quot;, &quot;metaphase_plate_width_um&quot;, &quot;metaphase_plate_aspect_ratio_um&quot;, &quot;polar_body_diameter_1_um&quot;, &quot;polar_body_diameter_2_um&quot;, &quot;distance_between_chromosomes_um&quot;, &quot;genome&quot;, &quot;chromosomes&quot;], &quot;value_font_size&quot;: 8, &quot;x_label_rotation&quot;: 0, &quot;disable_xml_declaration&quot;: false, &quot;strict&quot;: false, &quot;css&quot;: [&quot;style.css&quot;, &quot;graph.css&quot;], &quot;title_font_size&quot;: 16, &quot;show_only_major_dots&quot;: false, &quot;human_readable&quot;: false, &quot;show_x_guides&quot;: false, &quot;spacing&quot;: 10, &quot;y_label_rotation&quot;: 0, &quot;pretty_print&quot;: false, &quot;tooltip_border_radius&quot;: 0, &quot;interpolate&quot;: null, &quot;js&quot;: [&quot;http://kozea.github.com/pygal.js/javascripts/svg.jquery.js&quot;, &quot;http://kozea.github.com/pygal.js/javascripts/pygal-tooltips.js&quot;], &quot;y_labels&quot;: null, &quot;y_labels_major_every&quot;: null, &quot;interpolation_precision&quot;: 250, &quot;value_formatter&quot;: null, &quot;no_data_font_size&quot;: 64, &quot;logarithmic&quot;: false, &quot;width&quot;: 800, &quot;print_zeroes&quot;: false, &quot;no_data_text&quot;: &quot;No data&quot;, &quot;truncate_legend&quot;: null, &quot;x_labels_major_every&quot;: null, &quot;title&quot;: &quot;xenopus_laevis: preliminary&quot;, &quot;legend_box_size&quot;: 12, &quot;no_prefix&quot;: false, &quot;stroke&quot;: true, &quot;include_x_axis&quot;: false, &quot;range&quot;: null, &quot;truncate_label&quot;: null, &quot;order_min&quot;: null, &quot;mode&quot;: null, &quot;y_labels_major_count&quot;: null, &quot;x_label_format&quot;: &quot;%Y-%m-%d %H:%M:%S.%f&quot;, &quot;margin&quot;: 20, &quot;stack_from_top&quot;: false}</script><script type=\"text/javascript\" xlink:href=\"http://kozea.github.com/pygal.js/javascripts/svg.jquery.js\"/><script type=\"text/javascript\" xlink:href=\"http://kozea.github.com/pygal.js/javascripts/pygal-tooltips.js\"/></defs><title>xenopus_laevis: preliminary</title><g class=\"graph radar-graph vertical\"><rect class=\"background\" height=\"600\" width=\"800\" x=\"0\" y=\"0\"/><g class=\"plot\" transform=\"translate(128, 46)\"><rect class=\"background\" height=\"514\" width=\"651.2\" x=\"0\" y=\"0\"/><g class=\"axis y web\"><g class=\"guides\"><path class=\"major guide line\" d=\"M325.600000 38.895562 L247.751040 47.730324 176.208940 73.518871 116.769616 114.171967 74.248487 166.396142 52.090363 225.960502 52.090363 288.039498 74.248487 347.603858 116.769616 399.828033 176.208940 440.481129 247.751040 466.269676 325.600000 475.104438 403.448960 466.269676 474.991060 440.481129 534.430384 399.828033 576.951513 347.603858 599.109637 288.039498 599.109637 225.960502 576.951513 166.396142 534.430384 114.171967 474.991060 73.518871 403.448960 47.730324 325.600000 38.895562 Z\"/><text class=\"major\" x=\"320.6\" y=\"38.895561601\">3.2</text></g><g class=\"guides\"><path class=\"guide line\" d=\"M325.600000 93.421671 L267.213280 100.047743 213.556705 119.389153 168.977212 149.878976 137.086365 189.047106 120.467772 233.720377 120.467772 280.279623 137.086365 324.952894 168.977212 364.121024 213.556705 394.610847 267.213280 413.952257 325.600000 420.578329 383.986720 413.952257 437.643295 394.610847 482.222788 364.121024 514.113635 324.952894 530.732228 280.279623 530.732228 233.720377 514.113635 189.047106 482.222788 149.878976 437.643295 119.389153 383.986720 100.047743 325.600000 93.421671 Z\"/><text class=\"\" x=\"320.6\" y=\"93.4216712008\">2.4</text></g><g class=\"guides\"><path class=\"major guide line\" d=\"M325.600000 147.947781 L286.675520 152.365162 250.904470 165.259435 221.184808 185.585984 199.924243 211.698071 188.845181 241.480251 188.845181 272.519749 199.924243 302.301929 221.184808 328.414016 250.904470 348.740565 286.675520 361.634838 325.600000 366.052219 364.524480 361.634838 400.295530 348.740565 430.015192 328.414016 451.275757 302.301929 462.354819 272.519749 462.354819 241.480251 451.275757 211.698071 430.015192 185.585984 400.295530 165.259435 364.524480 152.365162 325.600000 147.947781 Z\"/><text class=\"major\" x=\"320.6\" y=\"147.947780801\">1.6</text></g><g class=\"guides\"><path class=\"major guide line\" d=\"M325.600000 202.473890 L306.137760 204.682581 288.252235 211.129718 273.392404 221.292992 262.762122 234.349035 257.222591 249.240126 257.222591 264.759874 262.762122 279.650965 273.392404 292.707008 288.252235 302.870282 306.137760 309.317419 325.600000 311.526110 345.062240 309.317419 362.947765 302.870282 377.807596 292.707008 388.437878 279.650965 393.977409 264.759874 393.977409 249.240126 388.437878 234.349035 377.807596 221.292992 362.947765 211.129718 345.062240 204.682581 325.600000 202.473890 Z\"/><text class=\"major\" x=\"320.6\" y=\"202.4738904\">0.8</text></g><g class=\"guides\"><path class=\"major guide line\" d=\"M325.600000 257.000000 L325.600000 257.000000 325.600000 257.000000 325.600000 257.000000 325.600000 257.000000 325.600000 257.000000 325.600000 257.000000 325.600000 257.000000 325.600000 257.000000 325.600000 257.000000 325.600000 257.000000 325.600000 257.000000 325.600000 257.000000 325.600000 257.000000 325.600000 257.000000 325.600000 257.000000 325.600000 257.000000 325.600000 257.000000 325.600000 257.000000 325.600000 257.000000 325.600000 257.000000 325.600000 257.000000 325.600000 257.000000 Z\"/><text class=\"major\" x=\"320.6\" y=\"257.0\">0.0</text></g></g><g class=\"axis x web\"><g class=\"guides\"><path class=\"line\" d=\"M325.600000 257.000000 L325.600000 19.037037\"/><text class=\"\" transform=\"rotate(0.000000 325.600000 5.140000)\" x=\"325.6\" y=\"5.14\">time_pf</text></g><g class=\"guides\"><path class=\"line\" d=\"M325.600000 257.000000 L240.662851 28.676209\"/><text class=\"\" transform=\"rotate(-16.363636 235.702522 15.342100)\" x=\"235.702521903\" y=\"15.3420996655\">cell_diameter_um</text></g><g class=\"guides\"><path class=\"line\" d=\"M325.600000 257.000000 L162.606805 56.812817\"/><text class=\"\" transform=\"rotate(-32.727273 153.088003 45.121885)\" x=\"153.08800284\" y=\"45.1218852211\">spindle_length__asters_um</text></g><g class=\"guides\"><path class=\"line\" d=\"M325.600000 257.000000 L97.755499 101.167399\"/><text class=\"\" transform=\"rotate(-49.090909 84.449380 92.066776)\" x=\"84.4493798184\" y=\"92.0667755485\">spindle_length_poles_um</text></g><g class=\"guides\"><path class=\"line\" d=\"M325.600000 257.000000 L51.362798 158.146613\"/><text class=\"\" transform=\"rotate(-65.454545 35.347346 152.373575)\" x=\"35.3473458663\" y=\"152.373574825\">spindle_width_um</text></g><g class=\"guides\"><path class=\"line\" d=\"M325.600000 257.000000 L27.187165 223.134339\"/><text class=\"\" transform=\"rotate(-81.818182 9.759856 221.156585)\" x=\"9.7598557531\" y=\"221.156584832\">spindle_aspect_ratio_asters_um</text></g><g class=\"guides\"><path class=\"line\" d=\"M325.600000 257.000000 L27.187165 290.865661\"/><text class=\"\" transform=\"rotate(-278.181818 9.759856 292.843415)\" x=\"9.7598557531\" y=\"292.843415168\">spindle_aspect_ratio_poles_um</text></g><g class=\"guides\"><path class=\"line\" d=\"M325.600000 257.000000 L51.362798 355.853387\"/><text class=\"\" transform=\"rotate(-294.545455 35.347346 361.626425)\" x=\"35.3473458663\" y=\"361.626425175\">astere-to-pole_distance_1_um</text></g><g class=\"guides\"><path class=\"line\" d=\"M325.600000 257.000000 L97.755499 412.832601\"/><text class=\"\" transform=\"rotate(-310.909091 84.449380 421.933224)\" x=\"84.4493798184\" y=\"421.933224451\">aster-to-pole_distance_2_um</text></g><g class=\"guides\"><path class=\"line\" d=\"M325.600000 257.000000 L162.606805 457.187183\"/><text class=\"\" transform=\"rotate(-327.272727 153.088003 468.878115)\" x=\"153.08800284\" y=\"468.878114779\">inner_aster_diameter_1_um</text></g><g class=\"guides\"><path class=\"line\" d=\"M325.600000 257.000000 L240.662851 485.323791\"/><text class=\"\" transform=\"rotate(-343.636364 235.702522 498.657900)\" x=\"235.702521903\" y=\"498.657900335\">inner_aster_diameter_2_um</text></g><g class=\"guides\"><path class=\"line\" d=\"M325.600000 257.000000 L325.600000 494.962963\"/><text class=\"\" transform=\"rotate(-360.000000 325.600000 508.860000)\" x=\"325.6\" y=\"508.86\">outer_aster_diameter_1_um</text></g><g class=\"guides\"><path class=\"line\" d=\"M325.600000 257.000000 L410.537149 485.323791\"/><text class=\"\" transform=\"rotate(-376.363636 415.497478 498.657900)\" x=\"415.497478097\" y=\"498.657900335\">outer__diameter_2_um</text></g><g class=\"guides\"><path class=\"line\" d=\"M325.600000 257.000000 L488.593195 457.187183\"/><text class=\"\" transform=\"rotate(-392.727273 498.111997 468.878115)\" x=\"498.11199716\" y=\"468.878114779\">centrosome</text></g><g class=\"guides\"><path class=\"line\" d=\"M325.600000 257.000000 L553.444501 412.832601\"/><text class=\"\" transform=\"rotate(-409.090909 566.750620 421.933224)\" x=\"566.750620182\" y=\"421.933224451\">metaphase_plate_lengt_h_um</text></g><g class=\"guides\"><path class=\"line\" d=\"M325.600000 257.000000 L599.837202 355.853387\"/><text class=\"\" transform=\"rotate(-425.454545 615.852654 361.626425)\" x=\"615.852654134\" y=\"361.626425175\">metaphase_plate_width_um</text></g><g class=\"guides\"><path class=\"line\" d=\"M325.600000 257.000000 L624.012835 290.865661\"/><text class=\"\" transform=\"rotate(-441.818182 641.440144 292.843415)\" x=\"641.440144247\" y=\"292.843415168\">metaphase_plate_aspect_ratio_um</text></g><g class=\"guides\"><path class=\"line\" d=\"M325.600000 257.000000 L624.012835 223.134339\"/><text class=\"\" transform=\"rotate(-278.181818 641.440144 221.156585)\" x=\"641.440144247\" y=\"221.156584832\">polar_body_diameter_1_um</text></g><g class=\"guides\"><path class=\"line\" d=\"M325.600000 257.000000 L599.837202 158.146613\"/><text class=\"\" transform=\"rotate(-294.545455 615.852654 152.373575)\" x=\"615.852654134\" y=\"152.373574825\">polar_body_diameter_2_um</text></g><g class=\"guides\"><path class=\"line\" d=\"M325.600000 257.000000 L553.444501 101.167399\"/><text class=\"\" transform=\"rotate(-310.909091 566.750620 92.066776)\" x=\"566.750620182\" y=\"92.0667755485\">distance_between_chromosomes_um</text></g><g class=\"guides\"><path class=\"line\" d=\"M325.600000 257.000000 L488.593195 56.812817\"/><text class=\"\" transform=\"rotate(-327.272727 498.111997 45.121885)\" x=\"498.11199716\" y=\"45.1218852211\">genome</text></g><g class=\"guides\"><path class=\"line\" d=\"M325.600000 257.000000 L410.537149 28.676209\"/><text class=\"\" transform=\"rotate(-343.636364 415.497478 15.342100)\" x=\"415.497478097\" y=\"15.3420996655\">chromosomes</text></g></g><g class=\"series serie-0 color-0\"><path class=\"line reactive nofill\" d=\"M325.600000 257.000000 L250.819769 55.979527 256.891341 172.612471 229.553719 191.309840 233.297350 223.727965 299.897597 254.083139 299.897597 259.916861 325.600000 257.000000 325.600000 257.000000 325.600000 257.000000 325.600000 257.000000 325.600000 292.564086 325.600000 257.000000 325.600000 257.000000 403.813541 310.493586 387.496039 279.311463 363.982664 261.355893 419.977737 246.289454 400.700834 229.928648 325.600000 257.000000 488.593195 56.812817 363.461416 155.222837 Z\"/></g><g class=\"series serie-1 color-1\"><path class=\"line reactive nofill\" d=\"M325.600000 121.057064 L250.259200 54.472633 235.066772 145.807677 214.690614 181.144326 226.546103 221.294366 266.598591 250.304170 286.636408 261.421820 253.291920 283.064657 261.573747 300.790294 261.428235 335.815345 292.917441 344.855618 325.600000 391.908926 373.901058 386.840486 325.600000 257.000000 411.509338 315.757071 386.611469 278.992605 374.750063 262.577841 432.292679 244.891881 397.386540 231.123341 325.600000 257.000000 488.593195 56.812817 363.461416 155.222837 Z\"/></g></g><g class=\"titles\"><text class=\"title plot_title\" x=\"400.0\" y=\"26\">xenopus_laevis: preliminary</text></g><g class=\"plot overlay\" transform=\"translate(128, 46)\"><g class=\"series serie-0 color-0\"><g class=\"dots\"><circle class=\"dot reactive tooltip-trigger\" cx=\"325.6\" cy=\"257.0\" r=\"2.5\"/><desc class=\"value\">0</desc><desc class=\"x \">325.6</desc><desc class=\"y \">257.0</desc></g><g class=\"dots\"><circle class=\"dot reactive tooltip-trigger\" cx=\"250.819769255\" cy=\"55.9795272247\" r=\"2.5\"/><desc class=\"value\">3.07385916914</desc><desc class=\"x \">250.819769255</desc><desc class=\"y \">55.9795272247</desc></g><g class=\"dots\"><circle class=\"dot reactive tooltip-trigger\" cx=\"256.891341164\" cy=\"172.612471349\" r=\"2.5\"/><desc class=\"value\">1.47175948105</desc><desc class=\"x \">256.891341164</desc><desc class=\"y \">172.612471349</desc></g><g class=\"dots\"><circle class=\"dot reactive tooltip-trigger\" cx=\"229.553719377\" cy=\"191.309840266\" r=\"2.5\"/><desc class=\"value\">1.47175948105</desc><desc class=\"x \">229.553719377</desc><desc class=\"y \">191.309840266</desc></g><g class=\"dots\"><circle class=\"dot reactive tooltip-trigger\" cx=\"233.297349687\" cy=\"223.72796545\" r=\"2.5\"/><desc class=\"value\">1.17512115682</desc><desc class=\"x \">233.297349687</desc><desc class=\"y \">223.72796545</desc></g><g class=\"dots\"><circle class=\"dot reactive tooltip-trigger\" cx=\"299.897596819\" cy=\"254.083138655\" r=\"2.5\"/><desc class=\"value\">0.300712219685</desc><desc class=\"x \">299.897596819</desc><desc class=\"y \">254.083138655</desc></g><g class=\"dots\"><circle class=\"dot reactive tooltip-trigger\" cx=\"299.897596819\" cy=\"259.916861345\" r=\"2.5\"/><desc class=\"value\">0.300712219685</desc><desc class=\"x top\">299.897596819</desc><desc class=\"y top\">259.916861345</desc></g><g class=\"dots\"><circle class=\"dot reactive tooltip-trigger\" cx=\"325.6\" cy=\"257.0\" r=\"2.5\"/><desc class=\"value\">0</desc><desc class=\"x \">325.6</desc><desc class=\"y \">257.0</desc></g><g class=\"dots\"><circle class=\"dot reactive tooltip-trigger\" cx=\"325.6\" cy=\"257.0\" r=\"2.5\"/><desc class=\"value\">0</desc><desc class=\"x \">325.6</desc><desc class=\"y \">257.0</desc></g><g class=\"dots\"><circle class=\"dot reactive tooltip-trigger\" cx=\"325.6\" cy=\"257.0\" r=\"2.5\"/><desc class=\"value\">0</desc><desc class=\"x \">325.6</desc><desc class=\"y \">257.0</desc></g><g class=\"dots\"><circle class=\"dot reactive tooltip-trigger\" cx=\"325.6\" cy=\"257.0\" r=\"2.5\"/><desc class=\"value\">0</desc><desc class=\"x \">325.6</desc><desc class=\"y \">257.0</desc></g><g class=\"dots\"><circle class=\"dot reactive tooltip-trigger\" cx=\"325.6\" cy=\"292.564085846\" r=\"2.5\"/><desc class=\"value\">0.521791649639</desc><desc class=\"x top\">325.6</desc><desc class=\"y top\">292.564085846</desc></g><g class=\"dots\"><circle class=\"dot reactive tooltip-trigger\" cx=\"325.6\" cy=\"257.0\" r=\"2.5\"/><desc class=\"value\">0</desc><desc class=\"x \">325.6</desc><desc class=\"y \">257.0</desc></g><g class=\"dots\"><circle class=\"dot reactive tooltip-trigger\" cx=\"325.6\" cy=\"257.0\" r=\"2.5\"/><desc class=\"value\">0</desc><desc class=\"x \">325.6</desc><desc class=\"y \">257.0</desc></g><g class=\"dots\"><circle class=\"dot reactive tooltip-trigger\" cx=\"403.813540611\" cy=\"310.493586038\" r=\"2.5\"/><desc class=\"value\">1.19850054781</desc><desc class=\"x left top\">403.813540611</desc><desc class=\"y left top\">310.493586038</desc></g><g class=\"dots\"><circle class=\"dot reactive tooltip-trigger\" cx=\"387.496038551\" cy=\"279.31146263\" r=\"2.5\"/><desc class=\"value\">0.788009273594</desc><desc class=\"x left top\">387.496038551</desc><desc class=\"y left top\">279.31146263</desc></g><g class=\"dots\"><circle class=\"dot reactive tooltip-trigger\" cx=\"363.982664048\" cy=\"261.355892649\" r=\"2.5\"/><desc class=\"value\">0.449068362291</desc><desc class=\"x left top\">363.982664048</desc><desc class=\"y left top\">261.355892649</desc></g><g class=\"dots\"><circle class=\"dot reactive tooltip-trigger\" cx=\"419.977736762\" cy=\"246.289453976\" r=\"2.5\"/><desc class=\"value\">1.10419786472</desc><desc class=\"x left\">419.977736762</desc><desc class=\"y left\">246.289453976</desc></g><g class=\"dots\"><circle class=\"dot reactive tooltip-trigger\" cx=\"400.700833829\" cy=\"229.928647992\" r=\"2.5\"/><desc class=\"value\">0.956121827793</desc><desc class=\"x left\">400.700833829</desc><desc class=\"y left\">229.928647992</desc></g><g class=\"dots\"><circle class=\"dot reactive tooltip-trigger\" cx=\"325.6\" cy=\"257.0\" r=\"2.5\"/><desc class=\"value\">0</desc><desc class=\"x \">325.6</desc><desc class=\"y \">257.0</desc></g><g class=\"dots\"><circle class=\"dot reactive tooltip-trigger\" cx=\"488.593194596\" cy=\"56.8128167244\" r=\"2.5\"/><desc class=\"value\">3.49136169383</desc><desc class=\"x left\">488.593194596</desc><desc class=\"y left\">56.8128167244</desc></g><g class=\"dots\"><circle class=\"dot reactive tooltip-trigger\" cx=\"363.461415801\" cy=\"155.222837394\" r=\"2.5\"/><desc class=\"value\">1.55630250077</desc><desc class=\"x left\">363.461415801</desc><desc class=\"y left\">155.222837394</desc></g></g><g class=\"series serie-1 color-1\"><g class=\"dots\"><circle class=\"dot reactive tooltip-trigger\" cx=\"325.6\" cy=\"121.057064063\" r=\"2.5\"/><desc class=\"value\">1.9945371043</desc><desc class=\"x \">325.6</desc><desc class=\"y \">121.057064063</desc></g><g class=\"dots\"><circle class=\"dot reactive tooltip-trigger\" cx=\"250.259200022\" cy=\"54.4726330764\" r=\"2.5\"/><desc class=\"value\">3.09690150075</desc><desc class=\"x \">250.259200022</desc><desc class=\"y \">54.4726330764</desc></g><g class=\"dots\"><circle class=\"dot reactive tooltip-trigger\" cx=\"235.066771991\" cy=\"145.807677198\" r=\"2.5\"/><desc class=\"value\">1.93924810833</desc><desc class=\"x \">235.066771991</desc><desc class=\"y \">145.807677198</desc></g><g class=\"dots\"><circle class=\"dot reactive tooltip-trigger\" cx=\"214.690613562\" cy=\"181.144326424\" r=\"2.5\"/><desc class=\"value\">1.69951340093</desc><desc class=\"x \">214.690613562</desc><desc class=\"y \">181.144326424</desc></g><g class=\"dots\"><circle class=\"dot reactive tooltip-trigger\" cx=\"226.546103451\" cy=\"221.294365795\" r=\"2.5\"/><desc class=\"value\">1.26107245139</desc><desc class=\"x \">226.546103451</desc><desc class=\"y \">221.294365795</desc></g><g class=\"dots\"><circle class=\"dot reactive tooltip-trigger\" cx=\"266.598591296\" cy=\"250.304169764\" r=\"2.5\"/><desc class=\"value\">0.690302943696</desc><desc class=\"x \">266.598591296</desc><desc class=\"y \">250.304169764</desc></g><g class=\"dots\"><circle class=\"dot reactive tooltip-trigger\" cx=\"286.636408178\" cy=\"261.421819783\" r=\"2.5\"/><desc class=\"value\">0.455865083952</desc><desc class=\"x top\">286.636408178</desc><desc class=\"y top\">261.421819783</desc></g><g class=\"dots\"><circle class=\"dot reactive tooltip-trigger\" cx=\"253.291920087\" cy=\"283.064657135\" r=\"2.5\"/><desc class=\"value\">0.920566790076</desc><desc class=\"x top\">253.291920087</desc><desc class=\"y top\">283.064657135</desc></g><g class=\"dots\"><circle class=\"dot reactive tooltip-trigger\" cx=\"261.57374652\" cy=\"300.790293502\" r=\"2.5\"/><desc class=\"value\">0.981102495424</desc><desc class=\"x top\">261.57374652</desc><desc class=\"y top\">300.790293502</desc></g><g class=\"dots\"><circle class=\"dot reactive tooltip-trigger\" cx=\"261.428235032\" cy=\"335.815345062\" r=\"2.5\"/><desc class=\"value\">1.37457789321</desc><desc class=\"x top\">261.428235032</desc><desc class=\"y top\">335.815345062</desc></g><g class=\"dots\"><circle class=\"dot reactive tooltip-trigger\" cx=\"292.917441245\" cy=\"344.855618349\" r=\"2.5\"/><desc class=\"value\">1.34342435023</desc><desc class=\"x top\">292.917441245</desc><desc class=\"y top\">344.855618349</desc></g><g class=\"dots\"><circle class=\"dot reactive tooltip-trigger\" cx=\"325.6\" cy=\"391.908925839\" r=\"2.5\"/><desc class=\"value\">1.9793662424</desc><desc class=\"x top\">325.6</desc><desc class=\"y top\">391.908925839</desc></g><g class=\"dots\"><circle class=\"dot reactive tooltip-trigger\" cx=\"373.90105795\" cy=\"386.840486021\" r=\"2.5\"/><desc class=\"value\">1.98542647408</desc><desc class=\"x left top\">373.90105795</desc><desc class=\"y left top\">386.840486021</desc></g><g class=\"dots\"><circle class=\"dot reactive tooltip-trigger\" cx=\"325.6\" cy=\"257.0\" r=\"2.5\"/><desc class=\"value\">0</desc><desc class=\"x \">325.6</desc><desc class=\"y \">257.0</desc></g><g class=\"dots\"><circle class=\"dot reactive tooltip-trigger\" cx=\"411.509337805\" cy=\"315.75707093\" r=\"2.5\"/><desc class=\"value\">1.31642663939</desc><desc class=\"x left top\">411.509337805</desc><desc class=\"y left top\">315.75707093</desc></g><g class=\"dots\"><circle class=\"dot reactive tooltip-trigger\" cx=\"386.611468762\" cy=\"278.992604651\" r=\"2.5\"/><desc class=\"value\">0.776747661178</desc><desc class=\"x left top\">386.611468762</desc><desc class=\"y left top\">278.992604651</desc></g><g class=\"dots\"><circle class=\"dot reactive tooltip-trigger\" cx=\"374.750062698\" cy=\"262.57784099\" r=\"2.5\"/><desc class=\"value\">0.575044455868</desc><desc class=\"x left top\">374.750062698</desc><desc class=\"y left top\">262.57784099</desc></g><g class=\"dots\"><circle class=\"dot reactive tooltip-trigger\" cx=\"432.292679006\" cy=\"244.891881198\" r=\"2.5\"/><desc class=\"value\">1.24827986326</desc><desc class=\"x left\">432.292679006</desc><desc class=\"y left\">244.891881198</desc></g><g class=\"dots\"><circle class=\"dot reactive tooltip-trigger\" cx=\"397.386540386\" cy=\"231.123340513\" r=\"2.5\"/><desc class=\"value\">0.913926979305</desc><desc class=\"x left\">397.386540386</desc><desc class=\"y left\">231.123340513</desc></g><g class=\"dots\"><circle class=\"dot reactive tooltip-trigger\" cx=\"325.6\" cy=\"257.0\" r=\"2.5\"/><desc class=\"value\">0</desc><desc class=\"x \">325.6</desc><desc class=\"y \">257.0</desc></g><g class=\"dots\"><circle class=\"dot reactive tooltip-trigger\" cx=\"488.593194596\" cy=\"56.8128167244\" r=\"2.5\"/><desc class=\"value\">3.49136169383</desc><desc class=\"x left\">488.593194596</desc><desc class=\"y left\">56.8128167244</desc></g><g class=\"dots\"><circle class=\"dot reactive tooltip-trigger\" cx=\"363.461415801\" cy=\"155.222837394\" r=\"2.5\"/><desc class=\"value\">1.55630250077</desc><desc class=\"x left\">363.461415801</desc><desc class=\"y left\">155.222837394</desc></g></g></g><g class=\"plot text-overlay\" transform=\"translate(128, 46)\"><g class=\"series serie-0 color-0\"><text class=\"centered\" x=\"333.6\" y=\"267.666666667\"/><text class=\"centered\" x=\"258.819769255\" y=\"66.6461938914\">3.07385916914</text><text class=\"centered\" x=\"264.891341164\" y=\"183.279138015\">1.47175948105</text><text class=\"centered\" x=\"237.553719377\" y=\"201.976506933\">1.47175948105</text><text class=\"centered\" x=\"241.297349687\" y=\"234.394632117\">1.17512115682</text><text class=\"centered\" x=\"307.897596819\" y=\"264.749805321\">0.300712219685</text><text class=\"centered\" x=\"307.897596819\" y=\"270.583528012\">0.300712219685</text><text class=\"centered\" x=\"333.6\" y=\"267.666666667\"/><text class=\"centered\" x=\"333.6\" y=\"267.666666667\"/><text class=\"centered\" x=\"333.6\" y=\"267.666666667\"/><text class=\"centered\" x=\"333.6\" y=\"267.666666667\"/><text class=\"centered\" x=\"333.6\" y=\"303.230752512\">0.521791649639</text><text class=\"centered\" x=\"333.6\" y=\"267.666666667\"/><text class=\"centered\" x=\"333.6\" y=\"267.666666667\"/><text class=\"centered\" x=\"411.813540611\" y=\"321.160252705\">1.19850054781</text><text class=\"centered\" x=\"395.496038551\" y=\"289.978129297\">0.788009273594</text><text class=\"centered\" x=\"371.982664048\" y=\"272.022559316\">0.449068362291</text><text class=\"centered\" x=\"427.977736762\" y=\"256.956120642\">1.10419786472</text><text class=\"centered\" x=\"408.700833829\" y=\"240.595314659\">0.956121827793</text><text class=\"centered\" x=\"333.6\" y=\"267.666666667\"/><text class=\"centered\" x=\"496.593194596\" y=\"67.4794833911\">3.49136169383</text><text class=\"centered\" x=\"371.461415801\" y=\"165.889504061\">1.55630250077</text></g><g class=\"series serie-1 color-1\"><text class=\"centered\" x=\"333.6\" y=\"131.723730729\">1.9945371043</text><text class=\"centered\" x=\"258.259200022\" y=\"65.139299743\">3.09690150075</text><text class=\"centered\" x=\"243.066771991\" y=\"156.474343864\">1.93924810833</text><text class=\"centered\" x=\"222.690613562\" y=\"191.81099309\">1.69951340093</text><text class=\"centered\" x=\"234.546103451\" y=\"231.961032462\">1.26107245139</text><text class=\"centered\" x=\"274.598591296\" y=\"260.970836431\">0.690302943696</text><text class=\"centered\" x=\"294.636408178\" y=\"272.08848645\">0.455865083952</text><text class=\"centered\" x=\"261.291920087\" y=\"293.731323802\">0.920566790076</text><text class=\"centered\" x=\"269.57374652\" y=\"311.456960169\">0.981102495424</text><text class=\"centered\" x=\"269.428235032\" y=\"346.482011728\">1.37457789321</text><text class=\"centered\" x=\"300.917441245\" y=\"355.522285015\">1.34342435023</text><text class=\"centered\" x=\"333.6\" y=\"402.575592505\">1.9793662424</text><text class=\"centered\" x=\"381.90105795\" y=\"397.507152688\">1.98542647408</text><text class=\"centered\" x=\"333.6\" y=\"267.666666667\"/><text class=\"centered\" x=\"419.509337805\" y=\"326.423737596\">1.31642663939</text><text class=\"centered\" x=\"394.611468762\" y=\"289.659271318\">0.776747661178</text><text class=\"centered\" x=\"382.750062698\" y=\"273.244507656\">0.575044455868</text><text class=\"centered\" x=\"440.292679006\" y=\"255.558547865\">1.24827986326</text><text class=\"centered\" x=\"405.386540386\" y=\"241.79000718\">0.913926979305</text><text class=\"centered\" x=\"333.6\" y=\"267.666666667\"/><text class=\"centered\" x=\"496.593194596\" y=\"67.4794833911\">3.49136169383</text><text class=\"centered\" x=\"371.461415801\" y=\"165.889504061\">1.55630250077</text></g></g><g class=\"plot tooltip-overlay\" transform=\"translate(128, 46)\"><g class=\"tooltip\" style=\"opacity: 0\" transform=\"translate(0 0)\"><a><rect class=\"tooltip-box\" height=\"0\" rx=\"0\" ry=\"0\" width=\"0\"/><text class=\"text\"><tspan class=\"label\"/><tspan class=\"value\"/></text></a></g></g><g class=\"legends\" transform=\"translate(10, 56)\"><g class=\"legend reactive activate-serie\" id=\"activate-serie-0\"><rect class=\"color-0 reactive\" height=\"12\" width=\"12\" x=\"0.0\" y=\"1.0\"/><text x=\"17.0\" y=\"11.2\">meiotic</text></g><g class=\"legend reactive activate-serie\" id=\"activate-serie-1\"><rect class=\"color-1 reactive\" height=\"12\" width=\"12\" x=\"0.0\" y=\"22.0\"/><text x=\"17.0\" y=\"32.2\">mitotic</text></g></g><g class=\"legends\" transform=\"translate(790, 56)\"/></g></svg>"
      ],
      "text/plain": [
       "<IPython.core.display.SVG at 0x11385dd90>"
      ]
     },
     "execution_count": 103,
     "metadata": {},
     "output_type": "execute_result"
    }
   ],
   "source": [
    "#try pygal\n",
    "##http://pygal.org/builtin_styles/\n",
    "#https://github.com/Kozea/pygal/blob/master/pygal/config.py\n",
    "\n",
    "radarChart1=pygal.Radar()\n",
    "radarChart1.config.x_labels=list(means.columns)\n",
    "radarChart1.config.title='xenopus_laevis: preliminary'\n",
    "radarChart1.config.width=800\n",
    "radarChart1.config.height=600\n",
    "radarChart1.add('meiotic',log_means_1)\n",
    "radarChart1.add('mitotic',log_means_0)\n",
    "#http://code.activestate.com/recipes/578123-draw-svg-images-in-python-python-recipe-enhanced-v/\n",
    "SVG(radarChart1.render()) #drop: time_pf, chromosomes,genome, centrosome\n",
    "\n",
    "#radarChart1.x_labels\n"
   ]
  },
  {
   "cell_type": "markdown",
   "metadata": {},
   "source": [
    "##### There clearly are some irrelevant columns that should be dropped."
   ]
  },
  {
   "cell_type": "code",
   "execution_count": 104,
   "metadata": {
    "collapsed": false
   },
   "outputs": [],
   "source": [
    "means2=means.drop(['time_pf', 'chromosomes','genome', 'centrosome'],axis=1)"
   ]
  },
  {
   "cell_type": "code",
   "execution_count": 105,
   "metadata": {
    "collapsed": false
   },
   "outputs": [],
   "source": [
    "log_means2_1=[np.log10(x) for x in means2.loc['xenopus_laevis',1].values]\n",
    "log_means2_0=[np.log10(x) for x in means2.loc['xenopus_laevis',0].values]"
   ]
  },
  {
   "cell_type": "code",
   "execution_count": 106,
   "metadata": {
    "collapsed": false
   },
   "outputs": [
    {
     "data": {
      "text/plain": [
       "(-inf, -inf)"
      ]
     },
     "execution_count": 106,
     "metadata": {},
     "output_type": "execute_result"
    }
   ],
   "source": [
    "min(log_means2_0), min(log_means2_1)"
   ]
  },
  {
   "cell_type": "markdown",
   "metadata": {},
   "source": [
    "##### These are the columns left:"
   ]
  },
  {
   "cell_type": "code",
   "execution_count": 107,
   "metadata": {
    "collapsed": false
   },
   "outputs": [
    {
     "data": {
      "text/plain": [
       "['cell_diameter_um',\n",
       " 'spindle_length__asters_um',\n",
       " 'spindle_length_poles_um',\n",
       " 'spindle_width_um',\n",
       " 'spindle_aspect_ratio_asters_um',\n",
       " 'spindle_aspect_ratio_poles_um',\n",
       " 'astere-to-pole_distance_1_um',\n",
       " 'aster-to-pole_distance_2_um',\n",
       " 'inner_aster_diameter_1_um',\n",
       " 'inner_aster_diameter_2_um',\n",
       " 'outer_aster_diameter_1_um',\n",
       " 'outer__diameter_2_um',\n",
       " 'metaphase_plate_lengt_h_um',\n",
       " 'metaphase_plate_width_um',\n",
       " 'metaphase_plate_aspect_ratio_um',\n",
       " 'polar_body_diameter_1_um',\n",
       " 'polar_body_diameter_2_um',\n",
       " 'distance_between_chromosomes_um']"
      ]
     },
     "execution_count": 107,
     "metadata": {},
     "output_type": "execute_result"
    }
   ],
   "source": [
    "list(means2.columns)"
   ]
  },
  {
   "cell_type": "code",
   "execution_count": 109,
   "metadata": {
    "collapsed": false
   },
   "outputs": [
    {
     "data": {
      "image/svg+xml": [
       "<svg class=\"pygal-chart\" id=\"chart-5289263e-2e67-4248-bf63-821a739d3fc5\" viewBox=\"0 0 800 600\" xmlns=\"http://www.w3.org/2000/svg\" xmlns:xlink=\"http://www.w3.org/1999/xlink\"><!--Generated with pygal 1.5.1 (etree) ©Kozea 2011-2014 on 2015-01-09--><!--http://pygal.org--><!--http://github.com/Kozea/pygal--><defs><style type=\"text/css\">#chart-5289263e-2e67-4248-bf63-821a739d3fc5 .title{font-family:&quot;monospace&quot;;font-size:16px}#chart-5289263e-2e67-4248-bf63-821a739d3fc5 .legends .legend text{font-family:&quot;monospace&quot;;font-size:14px}#chart-5289263e-2e67-4248-bf63-821a739d3fc5 .axis text{font-family:&quot;monospace&quot;;font-size:10px}#chart-5289263e-2e67-4248-bf63-821a739d3fc5 .axis text.major{font-family:&quot;monospace&quot;;font-size:10px}#chart-5289263e-2e67-4248-bf63-821a739d3fc5 .series text{font-family:&quot;monospace&quot;;font-size:8px}#chart-5289263e-2e67-4248-bf63-821a739d3fc5 .tooltip text{font-family:&quot;monospace&quot;;font-size:16px}#chart-5289263e-2e67-4248-bf63-821a739d3fc5 text.no_data{font-size:64px}\n",
       "#chart-5289263e-2e67-4248-bf63-821a739d3fc5{background-color:black}#chart-5289263e-2e67-4248-bf63-821a739d3fc5 path,#chart-5289263e-2e67-4248-bf63-821a739d3fc5 line,#chart-5289263e-2e67-4248-bf63-821a739d3fc5 rect,#chart-5289263e-2e67-4248-bf63-821a739d3fc5 circle{-webkit-transition:250ms;-moz-transition:250ms;transition:250ms}#chart-5289263e-2e67-4248-bf63-821a739d3fc5 .graph &gt; .background{fill:black}#chart-5289263e-2e67-4248-bf63-821a739d3fc5 .plot &gt; .background{fill:#111}#chart-5289263e-2e67-4248-bf63-821a739d3fc5 .graph{fill:#999}#chart-5289263e-2e67-4248-bf63-821a739d3fc5 text.no_data{fill:#eee}#chart-5289263e-2e67-4248-bf63-821a739d3fc5 .title{fill:#eee}#chart-5289263e-2e67-4248-bf63-821a739d3fc5 .legends .legend text{fill:#999}#chart-5289263e-2e67-4248-bf63-821a739d3fc5 .legends .legend:hover text{fill:#eee}#chart-5289263e-2e67-4248-bf63-821a739d3fc5 .axis .line{stroke:#eee}#chart-5289263e-2e67-4248-bf63-821a739d3fc5 .axis .guide.line{stroke:#555}#chart-5289263e-2e67-4248-bf63-821a739d3fc5 .axis .major.line{stroke:#999}#chart-5289263e-2e67-4248-bf63-821a739d3fc5 .axis text.major{stroke:#eee;fill:#eee}#chart-5289263e-2e67-4248-bf63-821a739d3fc5 .axis.y .guides:hover .guide.line,#chart-5289263e-2e67-4248-bf63-821a739d3fc5 .line-graph .axis.x .guides:hover .guide.line,#chart-5289263e-2e67-4248-bf63-821a739d3fc5 .stackedline-graph .axis.x .guides:hover .guide.line,#chart-5289263e-2e67-4248-bf63-821a739d3fc5 .xy-graph .axis.x .guides:hover .guide.line{stroke:#eee}#chart-5289263e-2e67-4248-bf63-821a739d3fc5 .axis .guides:hover text{fill:#eee}#chart-5289263e-2e67-4248-bf63-821a739d3fc5 .reactive{fill-opacity:.8}#chart-5289263e-2e67-4248-bf63-821a739d3fc5 .reactive.active,#chart-5289263e-2e67-4248-bf63-821a739d3fc5 .active .reactive{fill-opacity:.4}#chart-5289263e-2e67-4248-bf63-821a739d3fc5 .series text{fill:#eee}#chart-5289263e-2e67-4248-bf63-821a739d3fc5 .tooltip rect{fill:#111;stroke:#eee}#chart-5289263e-2e67-4248-bf63-821a739d3fc5 .tooltip text{fill:#eee}#chart-5289263e-2e67-4248-bf63-821a739d3fc5 .map-element{fill:#999;stroke:#555 !important;opacity:.9;stroke-width:3;-webkit-transition:250ms;-moz-transition:250ms;-o-transition:250ms;transition:250ms}#chart-5289263e-2e67-4248-bf63-821a739d3fc5 .map-element:hover{opacity:1;stroke-width:10}#chart-5289263e-2e67-4248-bf63-821a739d3fc5 .color-0,#chart-5289263e-2e67-4248-bf63-821a739d3fc5 .color-0 a:visited{stroke:#ff5995;fill:#ff5995}#chart-5289263e-2e67-4248-bf63-821a739d3fc5 .color-1,#chart-5289263e-2e67-4248-bf63-821a739d3fc5 .color-1 a:visited{stroke:#b6e354;fill:#b6e354}#chart-5289263e-2e67-4248-bf63-821a739d3fc5 .color-2,#chart-5289263e-2e67-4248-bf63-821a739d3fc5 .color-2 a:visited{stroke:#feed6c;fill:#feed6c}#chart-5289263e-2e67-4248-bf63-821a739d3fc5 .color-3,#chart-5289263e-2e67-4248-bf63-821a739d3fc5 .color-3 a:visited{stroke:#8cedff;fill:#8cedff}#chart-5289263e-2e67-4248-bf63-821a739d3fc5 .color-4,#chart-5289263e-2e67-4248-bf63-821a739d3fc5 .color-4 a:visited{stroke:#9e6ffe;fill:#9e6ffe}#chart-5289263e-2e67-4248-bf63-821a739d3fc5 .color-5,#chart-5289263e-2e67-4248-bf63-821a739d3fc5 .color-5 a:visited{stroke:#899ca1;fill:#899ca1}#chart-5289263e-2e67-4248-bf63-821a739d3fc5 .color-6,#chart-5289263e-2e67-4248-bf63-821a739d3fc5 .color-6 a:visited{stroke:#f8f8f2;fill:#f8f8f2}#chart-5289263e-2e67-4248-bf63-821a739d3fc5 .color-7,#chart-5289263e-2e67-4248-bf63-821a739d3fc5 .color-7 a:visited{stroke:#bf4646;fill:#bf4646}#chart-5289263e-2e67-4248-bf63-821a739d3fc5 .color-8,#chart-5289263e-2e67-4248-bf63-821a739d3fc5 .color-8 a:visited{stroke:#516083;fill:#516083}#chart-5289263e-2e67-4248-bf63-821a739d3fc5 .color-9,#chart-5289263e-2e67-4248-bf63-821a739d3fc5 .color-9 a:visited{stroke:#f92672;fill:#f92672}#chart-5289263e-2e67-4248-bf63-821a739d3fc5 .color-10,#chart-5289263e-2e67-4248-bf63-821a739d3fc5 .color-10 a:visited{stroke:#82b414;fill:#82b414}#chart-5289263e-2e67-4248-bf63-821a739d3fc5 .color-11,#chart-5289263e-2e67-4248-bf63-821a739d3fc5 .color-11 a:visited{stroke:#fd971f;fill:#fd971f}#chart-5289263e-2e67-4248-bf63-821a739d3fc5 .color-12,#chart-5289263e-2e67-4248-bf63-821a739d3fc5 .color-12 a:visited{stroke:#56c2d6;fill:#56c2d6}#chart-5289263e-2e67-4248-bf63-821a739d3fc5 .color-13,#chart-5289263e-2e67-4248-bf63-821a739d3fc5 .color-13 a:visited{stroke:#808384;fill:#808384}#chart-5289263e-2e67-4248-bf63-821a739d3fc5 .color-14,#chart-5289263e-2e67-4248-bf63-821a739d3fc5 .color-14 a:visited{stroke:#8c54fe;fill:#8c54fe}#chart-5289263e-2e67-4248-bf63-821a739d3fc5 .color-15,#chart-5289263e-2e67-4248-bf63-821a739d3fc5 .color-15 a:visited{stroke:#465457;fill:#465457}\n",
       "#chart-5289263e-2e67-4248-bf63-821a739d3fc5 text.no_data{text-anchor:middle}#chart-5289263e-2e67-4248-bf63-821a739d3fc5 .guide.line{fill-opacity:0}#chart-5289263e-2e67-4248-bf63-821a739d3fc5 .centered{text-anchor:middle}#chart-5289263e-2e67-4248-bf63-821a739d3fc5 .title{text-anchor:middle}#chart-5289263e-2e67-4248-bf63-821a739d3fc5 .legends .legend text{fill-opacity:1}#chart-5289263e-2e67-4248-bf63-821a739d3fc5 .axis.x text{text-anchor:middle}#chart-5289263e-2e67-4248-bf63-821a739d3fc5 .axis.x:not(.web) text[transform]{text-anchor:start}#chart-5289263e-2e67-4248-bf63-821a739d3fc5 .axis.y text{text-anchor:end}#chart-5289263e-2e67-4248-bf63-821a739d3fc5 .axis.y2 text{text-anchor:start}#chart-5289263e-2e67-4248-bf63-821a739d3fc5 .axis.y .logarithmic text:not(.major),#chart-5289263e-2e67-4248-bf63-821a739d3fc5 .axis.y2 .logarithmic text:not(.major){font-size:50%}#chart-5289263e-2e67-4248-bf63-821a739d3fc5 .axis .guide.line{stroke-dasharray:4,4}#chart-5289263e-2e67-4248-bf63-821a739d3fc5 .axis .major.guide.line{stroke-dasharray:6,6}#chart-5289263e-2e67-4248-bf63-821a739d3fc5 .axis text.major{stroke-width:0.5px}#chart-5289263e-2e67-4248-bf63-821a739d3fc5 .horizontal .axis.y .guide.line,#chart-5289263e-2e67-4248-bf63-821a739d3fc5 .horizontal .axis.y2 .guide.line,#chart-5289263e-2e67-4248-bf63-821a739d3fc5 .vertical .axis.x .guide.line{opacity:0}#chart-5289263e-2e67-4248-bf63-821a739d3fc5 .horizontal .axis.always_show .guide.line,#chart-5289263e-2e67-4248-bf63-821a739d3fc5 .vertical .axis.always_show .guide.line{opacity:1 !important}#chart-5289263e-2e67-4248-bf63-821a739d3fc5 .axis.y .guides:hover .guide.line,#chart-5289263e-2e67-4248-bf63-821a739d3fc5 .axis.y2 .guides:hover .guide.line,#chart-5289263e-2e67-4248-bf63-821a739d3fc5 .axis.x .guides:hover .guide.line{opacity:1}#chart-5289263e-2e67-4248-bf63-821a739d3fc5 .axis .guides:hover text{opacity:1}#chart-5289263e-2e67-4248-bf63-821a739d3fc5 .nofill{fill:none}#chart-5289263e-2e67-4248-bf63-821a739d3fc5 .subtle-fill{fill-opacity:.2}#chart-5289263e-2e67-4248-bf63-821a739d3fc5 .dot{stroke-width:1px;fill-opacity:1}#chart-5289263e-2e67-4248-bf63-821a739d3fc5 .dot.active{stroke-width:5px}#chart-5289263e-2e67-4248-bf63-821a739d3fc5 .series text{stroke:none}#chart-5289263e-2e67-4248-bf63-821a739d3fc5 .series text.active{opacity:1}#chart-5289263e-2e67-4248-bf63-821a739d3fc5 .tooltip rect{fill-opacity:0.8}#chart-5289263e-2e67-4248-bf63-821a739d3fc5 .tooltip text{fill-opacity:1}#chart-5289263e-2e67-4248-bf63-821a739d3fc5 .tooltip text tspan.label{fill-opacity:.8}</style><script type=\"text/javascript\">window.config = {&quot;inner_radius&quot;: 0, &quot;print_values&quot;: true, &quot;tooltip_font_size&quot;: 16, &quot;y_title&quot;: null, &quot;y_labels_major&quot;: null, &quot;height&quot;: 600, &quot;legend_at_bottom&quot;: false, &quot;show_legend&quot;: true, &quot;show_dots&quot;: true, &quot;explicit_size&quot;: false, &quot;legend_font_size&quot;: 14, &quot;x_labels_major_count&quot;: null, &quot;major_label_font_size&quot;: 10, &quot;fill&quot;: false, &quot;half_pie&quot;: false, &quot;style&quot;: {&quot;opacity&quot;: &quot;.8&quot;, &quot;foreground&quot;: &quot;#999&quot;, &quot;plot_background&quot;: &quot;#111&quot;, &quot;foreground_light&quot;: &quot;#eee&quot;, &quot;transition&quot;: &quot;250ms&quot;, &quot;foreground_dark&quot;: &quot;#555&quot;, &quot;opacity_hover&quot;: &quot;.4&quot;, &quot;colors&quot;: [&quot;#ff5995&quot;, &quot;#b6e354&quot;, &quot;#feed6c&quot;, &quot;#8cedff&quot;, &quot;#9e6ffe&quot;, &quot;#899ca1&quot;, &quot;#f8f8f2&quot;, &quot;#bf4646&quot;, &quot;#516083&quot;, &quot;#f92672&quot;, &quot;#82b414&quot;, &quot;#fd971f&quot;, &quot;#56c2d6&quot;, &quot;#808384&quot;, &quot;#8c54fe&quot;, &quot;#465457&quot;], &quot;background&quot;: &quot;black&quot;, &quot;font_family&quot;: &quot;monospace&quot;}, &quot;x_title&quot;: null, &quot;zero&quot;: 0, &quot;show_minor_x_labels&quot;: true, &quot;interpolation_parameters&quot;: {}, &quot;x_labels_major&quot;: null, &quot;rounded_bars&quot;: null, &quot;label_font_size&quot;: 10, &quot;show_y_labels&quot;: true, &quot;dots_size&quot;: 2.5, &quot;show_y_guides&quot;: true, &quot;show_minor_y_labels&quot;: true, &quot;x_labels&quot;: [&quot;cell_diameter_um&quot;, &quot;spindle_length__asters_um&quot;, &quot;spindle_length_poles_um&quot;, &quot;spindle_width_um&quot;, &quot;spindle_aspect_ratio_asters_um&quot;, &quot;spindle_aspect_ratio_poles_um&quot;, &quot;astere-to-pole_distance_1_um&quot;, &quot;aster-to-pole_distance_2_um&quot;, &quot;inner_aster_diameter_1_um&quot;, &quot;inner_aster_diameter_2_um&quot;, &quot;outer_aster_diameter_1_um&quot;, &quot;outer__diameter_2_um&quot;, &quot;metaphase_plate_lengt_h_um&quot;, &quot;metaphase_plate_width_um&quot;, &quot;metaphase_plate_aspect_ratio_um&quot;, &quot;polar_body_diameter_1_um&quot;, &quot;polar_body_diameter_2_um&quot;, &quot;distance_between_chromosomes_um&quot;], &quot;value_font_size&quot;: 8, &quot;x_label_rotation&quot;: 0, &quot;disable_xml_declaration&quot;: false, &quot;strict&quot;: false, &quot;css&quot;: [&quot;style.css&quot;, &quot;graph.css&quot;], &quot;title_font_size&quot;: 16, &quot;show_only_major_dots&quot;: false, &quot;human_readable&quot;: false, &quot;show_x_guides&quot;: false, &quot;spacing&quot;: 10, &quot;y_label_rotation&quot;: 0, &quot;pretty_print&quot;: false, &quot;tooltip_border_radius&quot;: 0, &quot;interpolate&quot;: null, &quot;js&quot;: [&quot;http://kozea.github.com/pygal.js/javascripts/svg.jquery.js&quot;, &quot;http://kozea.github.com/pygal.js/javascripts/pygal-tooltips.js&quot;], &quot;y_labels&quot;: null, &quot;y_labels_major_every&quot;: null, &quot;interpolation_precision&quot;: 250, &quot;value_formatter&quot;: null, &quot;no_data_font_size&quot;: 64, &quot;logarithmic&quot;: false, &quot;width&quot;: 800, &quot;print_zeroes&quot;: false, &quot;no_data_text&quot;: &quot;No data&quot;, &quot;truncate_legend&quot;: null, &quot;x_labels_major_every&quot;: null, &quot;title&quot;: &quot;xenopus_laevis: after dropping columns&quot;, &quot;legend_box_size&quot;: 12, &quot;no_prefix&quot;: false, &quot;stroke&quot;: true, &quot;include_x_axis&quot;: false, &quot;range&quot;: null, &quot;truncate_label&quot;: null, &quot;order_min&quot;: null, &quot;mode&quot;: null, &quot;y_labels_major_count&quot;: null, &quot;x_label_format&quot;: &quot;%Y-%m-%d %H:%M:%S.%f&quot;, &quot;margin&quot;: 20, &quot;stack_from_top&quot;: false}</script><script type=\"text/javascript\" xlink:href=\"http://kozea.github.com/pygal.js/javascripts/svg.jquery.js\"/><script type=\"text/javascript\" xlink:href=\"http://kozea.github.com/pygal.js/javascripts/pygal-tooltips.js\"/></defs><title>xenopus_laevis: after dropping columns</title><g class=\"graph radar-graph vertical\"><rect class=\"background\" height=\"600\" width=\"800\" x=\"0\" y=\"0\"/><g class=\"plot\" transform=\"translate(128, 46)\"><rect class=\"background\" height=\"514\" width=\"651.2\" x=\"0\" y=\"0\"/><g class=\"axis y web\"><g class=\"guides\"><path class=\"guide line\" d=\"M325.600000 41.850666 L232.372731 54.825758 150.390046 92.186048 89.540267 149.425333 57.162776 219.639710 57.162776 294.360290 89.540267 364.574667 150.390046 421.813952 232.372731 459.174242 325.600000 472.149334 418.827269 459.174242 500.809954 421.813952 561.659733 364.574667 594.037224 294.360290 594.037224 219.639710 561.659733 149.425333 500.809954 92.186048 418.827269 54.825758 325.600000 41.850666 Z\"/><text class=\"\" x=\"320.6\" y=\"41.8506656946\">2.8</text></g><g class=\"guides\"><path class=\"guide line\" d=\"M325.600000 72.586285 L245.690912 83.707793 175.420039 115.730898 123.263086 164.793142 95.510951 224.976894 95.510951 289.023106 123.263086 349.206858 175.420039 398.269102 245.690912 430.292207 325.600000 441.413715 405.509088 430.292207 475.779961 398.269102 527.936914 349.206858 555.689049 289.023106 555.689049 224.976894 527.936914 164.793142 475.779961 115.730898 405.509088 83.707793 325.600000 72.586285 Z\"/><text class=\"\" x=\"320.6\" y=\"72.5862848811\">2.4</text></g><g class=\"guides\"><path class=\"major guide line\" d=\"M325.600000 103.321904 L259.009093 112.589827 200.450033 139.275749 156.985905 180.160952 133.859126 230.314079 133.859126 283.685921 156.985905 333.839048 200.450033 374.724251 259.009093 401.410173 325.600000 410.678096 392.190907 401.410173 450.749967 374.724251 494.214095 333.839048 517.340874 283.685921 517.340874 230.314079 494.214095 180.160952 450.749967 139.275749 392.190907 112.589827 325.600000 103.321904 Z\"/><text class=\"major\" x=\"320.6\" y=\"103.321904068\">2.0</text></g><g class=\"guides\"><path class=\"guide line\" d=\"M325.600000 134.057523 L272.327275 141.471862 225.480026 162.820599 190.708724 195.528762 172.207301 235.651263 172.207301 278.348737 190.708724 318.471238 225.480026 351.179401 272.327275 372.528138 325.600000 379.942477 378.872725 372.528138 425.719974 351.179401 460.491276 318.471238 478.992699 278.348737 478.992699 235.651263 460.491276 195.528762 425.719974 162.820599 378.872725 141.471862 325.600000 134.057523 Z\"/><text class=\"\" x=\"320.6\" y=\"134.057523254\">1.6</text></g><g class=\"guides\"><path class=\"guide line\" d=\"M325.600000 164.793142 L285.645456 170.353896 250.510020 186.365449 224.431543 210.896571 210.555476 240.988447 210.555476 273.011553 224.431543 303.103429 250.510020 327.634551 285.645456 343.646104 325.600000 349.206858 365.554544 343.646104 400.689980 327.634551 426.768457 303.103429 440.644524 273.011553 440.644524 240.988447 426.768457 210.896571 400.689980 186.365449 365.554544 170.353896 325.600000 164.793142 Z\"/><text class=\"\" x=\"320.6\" y=\"164.793142441\">1.2</text></g><g class=\"guides\"><path class=\"guide line\" d=\"M325.600000 195.528762 L298.963637 199.235931 275.540013 209.910299 258.154362 226.264381 248.903650 246.325631 248.903650 267.674369 258.154362 287.735619 275.540013 304.089701 298.963637 314.764069 325.600000 318.471238 352.236363 314.764069 375.659987 304.089701 393.045638 287.735619 402.296350 267.674369 402.296350 246.325631 393.045638 226.264381 375.659987 209.910299 352.236363 199.235931 325.600000 195.528762 Z\"/><text class=\"\" x=\"320.6\" y=\"195.528761627\">0.8</text></g><g class=\"guides\"><path class=\"guide line\" d=\"M325.600000 226.264381 L312.281819 228.117965 300.570007 233.455150 291.877181 241.632190 287.251825 251.662816 287.251825 262.337184 291.877181 272.367810 300.570007 280.544850 312.281819 285.882035 325.600000 287.735619 338.918181 285.882035 350.629993 280.544850 359.322819 272.367810 363.948175 262.337184 363.948175 251.662816 359.322819 241.632190 350.629993 233.455150 338.918181 228.117965 325.600000 226.264381 Z\"/><text class=\"\" x=\"320.6\" y=\"226.264380814\">0.4</text></g><g class=\"guides\"><path class=\"major guide line\" d=\"M325.600000 257.000000 L325.600000 257.000000 325.600000 257.000000 325.600000 257.000000 325.600000 257.000000 325.600000 257.000000 325.600000 257.000000 325.600000 257.000000 325.600000 257.000000 325.600000 257.000000 325.600000 257.000000 325.600000 257.000000 325.600000 257.000000 325.600000 257.000000 325.600000 257.000000 325.600000 257.000000 325.600000 257.000000 325.600000 257.000000 325.600000 257.000000 Z\"/><text class=\"major\" x=\"320.6\" y=\"257.0\">0.0</text></g></g><g class=\"axis x web\"><g class=\"guides\"><path class=\"line\" d=\"M325.600000 257.000000 L325.600000 19.037037\"/><text class=\"\" transform=\"rotate(0.000000 325.600000 5.140000)\" x=\"325.6\" y=\"5.14\">cell_diameter_um</text></g><g class=\"guides\"><path class=\"line\" d=\"M325.600000 257.000000 L222.487260 33.387960\"/><text class=\"\" transform=\"rotate(-20.000000 216.465477 20.329017)\" x=\"216.465476506\" y=\"20.3290165289\">spindle_length__asters_um</text></g><g class=\"guides\"><path class=\"line\" d=\"M325.600000 257.000000 L131.811439 74.709795\"/><text class=\"\" transform=\"rotate(-40.000000 120.494187 64.064047)\" x=\"120.4941872\" y=\"64.0640465561\">spindle_length_poles_um</text></g><g class=\"guides\"><path class=\"line\" d=\"M325.600000 257.000000 L64.509378 138.018519\"/><text class=\"\" transform=\"rotate(-60.000000 49.261686 131.070000)\" x=\"49.2616859572\" y=\"131.07\">spindle_width_um</text></g><g class=\"guides\"><path class=\"line\" d=\"M325.600000 257.000000 L28.698700 215.678165\"/><text class=\"\" transform=\"rotate(-80.000000 11.359664 213.264970)\" x=\"11.3596637068\" y=\"213.264969973\">spindle_aspect_ratio_asters_um</text></g><g class=\"guides\"><path class=\"line\" d=\"M325.600000 257.000000 L28.698700 298.321835\"/><text class=\"\" transform=\"rotate(-280.000000 11.359664 300.735030)\" x=\"11.3596637068\" y=\"300.735030027\">spindle_aspect_ratio_poles_um</text></g><g class=\"guides\"><path class=\"line\" d=\"M325.600000 257.000000 L64.509378 375.981481\"/><text class=\"\" transform=\"rotate(-300.000000 49.261686 382.930000)\" x=\"49.2616859572\" y=\"382.93\">astere-to-pole_distance_1_um</text></g><g class=\"guides\"><path class=\"line\" d=\"M325.600000 257.000000 L131.811439 439.290205\"/><text class=\"\" transform=\"rotate(-320.000000 120.494187 449.935953)\" x=\"120.4941872\" y=\"449.935953444\">aster-to-pole_distance_2_um</text></g><g class=\"guides\"><path class=\"line\" d=\"M325.600000 257.000000 L222.487260 480.612040\"/><text class=\"\" transform=\"rotate(-340.000000 216.465477 493.670983)\" x=\"216.465476506\" y=\"493.670983471\">inner_aster_diameter_1_um</text></g><g class=\"guides\"><path class=\"line\" d=\"M325.600000 257.000000 L325.600000 494.962963\"/><text class=\"\" transform=\"rotate(-360.000000 325.600000 508.860000)\" x=\"325.6\" y=\"508.86\">inner_aster_diameter_2_um</text></g><g class=\"guides\"><path class=\"line\" d=\"M325.600000 257.000000 L428.712740 480.612040\"/><text class=\"\" transform=\"rotate(-380.000000 434.734523 493.670983)\" x=\"434.734523494\" y=\"493.670983471\">outer_aster_diameter_1_um</text></g><g class=\"guides\"><path class=\"line\" d=\"M325.600000 257.000000 L519.388561 439.290205\"/><text class=\"\" transform=\"rotate(-400.000000 530.705813 449.935953)\" x=\"530.7058128\" y=\"449.935953444\">outer__diameter_2_um</text></g><g class=\"guides\"><path class=\"line\" d=\"M325.600000 257.000000 L586.690622 375.981481\"/><text class=\"\" transform=\"rotate(-420.000000 601.938314 382.930000)\" x=\"601.938314043\" y=\"382.93\">metaphase_plate_lengt_h_um</text></g><g class=\"guides\"><path class=\"line\" d=\"M325.600000 257.000000 L622.501300 298.321835\"/><text class=\"\" transform=\"rotate(-440.000000 639.840336 300.735030)\" x=\"639.840336293\" y=\"300.735030027\">metaphase_plate_width_um</text></g><g class=\"guides\"><path class=\"line\" d=\"M325.600000 257.000000 L622.501300 215.678165\"/><text class=\"\" transform=\"rotate(-280.000000 639.840336 213.264970)\" x=\"639.840336293\" y=\"213.264969973\">metaphase_plate_aspect_ratio_um</text></g><g class=\"guides\"><path class=\"line\" d=\"M325.600000 257.000000 L586.690622 138.018519\"/><text class=\"\" transform=\"rotate(-300.000000 601.938314 131.070000)\" x=\"601.938314043\" y=\"131.07\">polar_body_diameter_1_um</text></g><g class=\"guides\"><path class=\"line\" d=\"M325.600000 257.000000 L519.388561 74.709795\"/><text class=\"\" transform=\"rotate(-320.000000 530.705813 64.064047)\" x=\"530.7058128\" y=\"64.0640465561\">polar_body_diameter_2_um</text></g><g class=\"guides\"><path class=\"line\" d=\"M325.600000 257.000000 L428.712740 33.387960\"/><text class=\"\" transform=\"rotate(-340.000000 434.734523 20.329017)\" x=\"434.734523494\" y=\"20.3290165289\">distance_between_chromosomes_um</text></g></g><g class=\"series serie-0 color-0\"><path class=\"line reactive nofill\" d=\"M325.600000 20.807588 L276.597101 150.731480 233.504675 170.369108 226.529005 211.852405 296.770588 252.987609 296.770588 261.012391 325.600000 257.000000 325.600000 257.000000 325.600000 257.000000 325.600000 257.000000 342.973290 294.676011 325.600000 257.000000 426.642043 303.045821 401.146793 267.514377 368.652380 251.008099 418.691662 214.577244 385.429308 200.720637 325.600000 257.000000 Z\"/></g><g class=\"series serie-1 color-1\"><path class=\"line reactive nofill\" d=\"M325.600000 19.037037 L261.031855 116.976423 219.252977 156.963029 219.282705 208.550197 259.420355 247.789315 281.896015 263.082590 247.989732 292.367738 264.207527 314.749778 279.832806 356.251515 325.600000 360.227448 391.503896 399.920310 449.838029 373.866423 436.584043 307.576485 400.067138 267.364113 380.729763 249.327204 430.838790 209.041682 382.788966 203.204315 325.600000 257.000000 Z\"/></g></g><g class=\"titles\"><text class=\"title plot_title\" x=\"400.0\" y=\"26\">xenopus_laevis: after dropping columns</text></g><g class=\"plot overlay\" transform=\"translate(128, 46)\"><g class=\"series serie-0 color-0\"><g class=\"dots\"><circle class=\"dot reactive tooltip-trigger\" cx=\"325.6\" cy=\"20.8075878612\" r=\"2.5\"/><desc class=\"value\">3.07385916914</desc><desc class=\"x \">325.6</desc><desc class=\"y \">20.8075878612</desc></g><g class=\"dots\"><circle class=\"dot reactive tooltip-trigger\" cx=\"276.597100828\" cy=\"150.731479566\" r=\"2.5\"/><desc class=\"value\">1.47175948105</desc><desc class=\"x \">276.597100828</desc><desc class=\"y \">150.731479566</desc></g><g class=\"dots\"><circle class=\"dot reactive tooltip-trigger\" cx=\"233.504674503\" cy=\"170.369108413\" r=\"2.5\"/><desc class=\"value\">1.47175948105</desc><desc class=\"x \">233.504674503</desc><desc class=\"y \">170.369108413</desc></g><g class=\"dots\"><circle class=\"dot reactive tooltip-trigger\" cx=\"226.529004887\" cy=\"211.852404533\" r=\"2.5\"/><desc class=\"value\">1.17512115682</desc><desc class=\"x \">226.529004887</desc><desc class=\"y \">211.852404533</desc></g><g class=\"dots\"><circle class=\"dot reactive tooltip-trigger\" cx=\"296.770588075\" cy=\"252.987608685\" r=\"2.5\"/><desc class=\"value\">0.300712219685</desc><desc class=\"x \">296.770588075</desc><desc class=\"y \">252.987608685</desc></g><g class=\"dots\"><circle class=\"dot reactive tooltip-trigger\" cx=\"296.770588075\" cy=\"261.012391315\" r=\"2.5\"/><desc class=\"value\">0.300712219685</desc><desc class=\"x top\">296.770588075</desc><desc class=\"y top\">261.012391315</desc></g><g class=\"dots\"><circle class=\"dot reactive tooltip-trigger\" cx=\"325.6\" cy=\"257.0\" r=\"2.5\"/><desc class=\"value\">0</desc><desc class=\"x \">325.6</desc><desc class=\"y \">257.0</desc></g><g class=\"dots\"><circle class=\"dot reactive tooltip-trigger\" cx=\"325.6\" cy=\"257.0\" r=\"2.5\"/><desc class=\"value\">0</desc><desc class=\"x \">325.6</desc><desc class=\"y \">257.0</desc></g><g class=\"dots\"><circle class=\"dot reactive tooltip-trigger\" cx=\"325.6\" cy=\"257.0\" r=\"2.5\"/><desc class=\"value\">0</desc><desc class=\"x \">325.6</desc><desc class=\"y \">257.0</desc></g><g class=\"dots\"><circle class=\"dot reactive tooltip-trigger\" cx=\"325.6\" cy=\"257.0\" r=\"2.5\"/><desc class=\"value\">0</desc><desc class=\"x \">325.6</desc><desc class=\"y \">257.0</desc></g><g class=\"dots\"><circle class=\"dot reactive tooltip-trigger\" cx=\"342.973289539\" cy=\"294.676011125\" r=\"2.5\"/><desc class=\"value\">0.521791649639</desc><desc class=\"x left top\">342.973289539</desc><desc class=\"y left top\">294.676011125</desc></g><g class=\"dots\"><circle class=\"dot reactive tooltip-trigger\" cx=\"325.6\" cy=\"257.0\" r=\"2.5\"/><desc class=\"value\">0</desc><desc class=\"x \">325.6</desc><desc class=\"y \">257.0</desc></g><g class=\"dots\"><circle class=\"dot reactive tooltip-trigger\" cx=\"426.642042538\" cy=\"303.04582054\" r=\"2.5\"/><desc class=\"value\">1.19850054781</desc><desc class=\"x left top\">426.642042538</desc><desc class=\"y left top\">303.04582054</desc></g><g class=\"dots\"><circle class=\"dot reactive tooltip-trigger\" cx=\"401.146793452\" cy=\"267.514376732\" r=\"2.5\"/><desc class=\"value\">0.788009273594</desc><desc class=\"x left top\">401.146793452</desc><desc class=\"y left top\">267.514376732</desc></g><g class=\"dots\"><circle class=\"dot reactive tooltip-trigger\" cx=\"368.652380154\" cy=\"251.008098511\" r=\"2.5\"/><desc class=\"value\">0.449068362291</desc><desc class=\"x left\">368.652380154</desc><desc class=\"y left\">251.008098511</desc></g><g class=\"dots\"><circle class=\"dot reactive tooltip-trigger\" cx=\"418.691661761\" cy=\"214.577243654\" r=\"2.5\"/><desc class=\"value\">1.10419786472</desc><desc class=\"x left\">418.691661761</desc><desc class=\"y left\">214.577243654</desc></g><g class=\"dots\"><circle class=\"dot reactive tooltip-trigger\" cx=\"385.429307763\" cy=\"200.720636779\" r=\"2.5\"/><desc class=\"value\">0.956121827793</desc><desc class=\"x left\">385.429307763</desc><desc class=\"y left\">200.720636779</desc></g><g class=\"dots\"><circle class=\"dot reactive tooltip-trigger\" cx=\"325.6\" cy=\"257.0\" r=\"2.5\"/><desc class=\"value\">0</desc><desc class=\"x \">325.6</desc><desc class=\"y \">257.0</desc></g></g><g class=\"series serie-1 color-1\"><g class=\"dots\"><circle class=\"dot reactive tooltip-trigger\" cx=\"325.6\" cy=\"19.037037037\" r=\"2.5\"/><desc class=\"value\">3.09690150075</desc><desc class=\"x \">325.6</desc><desc class=\"y \">19.037037037</desc></g><g class=\"dots\"><circle class=\"dot reactive tooltip-trigger\" cx=\"261.031855038\" cy=\"116.97642286\" r=\"2.5\"/><desc class=\"value\">1.93924810833</desc><desc class=\"x \">261.031855038</desc><desc class=\"y \">116.97642286</desc></g><g class=\"dots\"><circle class=\"dot reactive tooltip-trigger\" cx=\"219.252976685\" cy=\"156.96302855\" r=\"2.5\"/><desc class=\"value\">1.69951340093</desc><desc class=\"x \">219.252976685</desc><desc class=\"y \">156.96302855</desc></g><g class=\"dots\"><circle class=\"dot reactive tooltip-trigger\" cx=\"219.282705018\" cy=\"208.550196709\" r=\"2.5\"/><desc class=\"value\">1.26107245139</desc><desc class=\"x \">219.282705018</desc><desc class=\"y \">208.550196709</desc></g><g class=\"dots\"><circle class=\"dot reactive tooltip-trigger\" cx=\"259.420355097\" cy=\"247.789314984\" r=\"2.5\"/><desc class=\"value\">0.690302943696</desc><desc class=\"x \">259.420355097</desc><desc class=\"y \">247.789314984</desc></g><g class=\"dots\"><circle class=\"dot reactive tooltip-trigger\" cx=\"281.896015169\" cy=\"263.082589878\" r=\"2.5\"/><desc class=\"value\">0.455865083952</desc><desc class=\"x top\">281.896015169</desc><desc class=\"y top\">263.082589878</desc></g><g class=\"dots\"><circle class=\"dot reactive tooltip-trigger\" cx=\"247.98973196\" cy=\"292.367737869\" r=\"2.5\"/><desc class=\"value\">0.920566790076</desc><desc class=\"x top\">247.98973196</desc><desc class=\"y top\">292.367737869</desc></g><g class=\"dots\"><circle class=\"dot reactive tooltip-trigger\" cx=\"264.207527367\" cy=\"314.749778419\" r=\"2.5\"/><desc class=\"value\">0.981102495424</desc><desc class=\"x top\">264.207527367</desc><desc class=\"y top\">314.749778419</desc></g><g class=\"dots\"><circle class=\"dot reactive tooltip-trigger\" cx=\"279.832805855\" cy=\"356.251515491\" r=\"2.5\"/><desc class=\"value\">1.37457789321</desc><desc class=\"x top\">279.832805855</desc><desc class=\"y top\">356.251515491</desc></g><g class=\"dots\"><circle class=\"dot reactive tooltip-trigger\" cx=\"325.6\" cy=\"360.227448087\" r=\"2.5\"/><desc class=\"value\">1.34342435023</desc><desc class=\"x top\">325.6</desc><desc class=\"y top\">360.227448087</desc></g><g class=\"dots\"><circle class=\"dot reactive tooltip-trigger\" cx=\"391.503896424\" cy=\"399.920310474\" r=\"2.5\"/><desc class=\"value\">1.9793662424</desc><desc class=\"x left top\">391.503896424</desc><desc class=\"y left top\">399.920310474</desc></g><g class=\"dots\"><circle class=\"dot reactive tooltip-trigger\" cx=\"449.8380292\" cy=\"373.866422704\" r=\"2.5\"/><desc class=\"value\">1.98542647408</desc><desc class=\"x left top\">449.8380292</desc><desc class=\"y left top\">373.866422704</desc></g><g class=\"dots\"><circle class=\"dot reactive tooltip-trigger\" cx=\"436.584043135\" cy=\"307.576484844\" r=\"2.5\"/><desc class=\"value\">1.31642663939</desc><desc class=\"x left top\">436.584043135</desc><desc class=\"y left top\">307.576484844</desc></g><g class=\"dots\"><circle class=\"dot reactive tooltip-trigger\" cx=\"400.067137748\" cy=\"267.36411348\" r=\"2.5\"/><desc class=\"value\">0.776747661178</desc><desc class=\"x left top\">400.067137748</desc><desc class=\"y left top\">267.36411348</desc></g><g class=\"dots\"><circle class=\"dot reactive tooltip-trigger\" cx=\"380.729763302\" cy=\"249.327204452\" r=\"2.5\"/><desc class=\"value\">0.575044455868</desc><desc class=\"x left\">380.729763302</desc><desc class=\"y left\">249.327204452</desc></g><g class=\"dots\"><circle class=\"dot reactive tooltip-trigger\" cx=\"430.838789647\" cy=\"209.041681856\" r=\"2.5\"/><desc class=\"value\">1.24827986326</desc><desc class=\"x left\">430.838789647</desc><desc class=\"y left\">209.041681856</desc></g><g class=\"dots\"><circle class=\"dot reactive tooltip-trigger\" cx=\"382.788965808\" cy=\"203.204315255\" r=\"2.5\"/><desc class=\"value\">0.913926979305</desc><desc class=\"x left\">382.788965808</desc><desc class=\"y left\">203.204315255</desc></g><g class=\"dots\"><circle class=\"dot reactive tooltip-trigger\" cx=\"325.6\" cy=\"257.0\" r=\"2.5\"/><desc class=\"value\">0</desc><desc class=\"x \">325.6</desc><desc class=\"y \">257.0</desc></g></g></g><g class=\"plot text-overlay\" transform=\"translate(128, 46)\"><g class=\"series serie-0 color-0\"><text class=\"centered\" x=\"333.6\" y=\"31.4742545279\">3.07385916914</text><text class=\"centered\" x=\"284.597100828\" y=\"161.398146233\">1.47175948105</text><text class=\"centered\" x=\"241.504674503\" y=\"181.035775079\">1.47175948105</text><text class=\"centered\" x=\"234.529004887\" y=\"222.519071199\">1.17512115682</text><text class=\"centered\" x=\"304.770588075\" y=\"263.654275352\">0.300712219685</text><text class=\"centered\" x=\"304.770588075\" y=\"271.679057982\">0.300712219685</text><text class=\"centered\" x=\"333.6\" y=\"267.666666667\"/><text class=\"centered\" x=\"333.6\" y=\"267.666666667\"/><text class=\"centered\" x=\"333.6\" y=\"267.666666667\"/><text class=\"centered\" x=\"333.6\" y=\"267.666666667\"/><text class=\"centered\" x=\"350.973289539\" y=\"305.342677792\">0.521791649639</text><text class=\"centered\" x=\"333.6\" y=\"267.666666667\"/><text class=\"centered\" x=\"434.642042538\" y=\"313.712487207\">1.19850054781</text><text class=\"centered\" x=\"409.146793452\" y=\"278.181043398\">0.788009273594</text><text class=\"centered\" x=\"376.652380154\" y=\"261.674765178\">0.449068362291</text><text class=\"centered\" x=\"426.691661761\" y=\"225.243910321\">1.10419786472</text><text class=\"centered\" x=\"393.429307763\" y=\"211.387303446\">0.956121827793</text><text class=\"centered\" x=\"333.6\" y=\"267.666666667\"/></g><g class=\"series serie-1 color-1\"><text class=\"centered\" x=\"333.6\" y=\"29.7037037037\">3.09690150075</text><text class=\"centered\" x=\"269.031855038\" y=\"127.643089527\">1.93924810833</text><text class=\"centered\" x=\"227.252976685\" y=\"167.629695217\">1.69951340093</text><text class=\"centered\" x=\"227.282705018\" y=\"219.216863376\">1.26107245139</text><text class=\"centered\" x=\"267.420355097\" y=\"258.45598165\">0.690302943696</text><text class=\"centered\" x=\"289.896015169\" y=\"273.749256545\">0.455865083952</text><text class=\"centered\" x=\"255.98973196\" y=\"303.034404536\">0.920566790076</text><text class=\"centered\" x=\"272.207527367\" y=\"325.416445086\">0.981102495424</text><text class=\"centered\" x=\"287.832805855\" y=\"366.918182157\">1.37457789321</text><text class=\"centered\" x=\"333.6\" y=\"370.894114753\">1.34342435023</text><text class=\"centered\" x=\"399.503896424\" y=\"410.586977141\">1.9793662424</text><text class=\"centered\" x=\"457.8380292\" y=\"384.53308937\">1.98542647408</text><text class=\"centered\" x=\"444.584043135\" y=\"318.243151511\">1.31642663939</text><text class=\"centered\" x=\"408.067137748\" y=\"278.030780147\">0.776747661178</text><text class=\"centered\" x=\"388.729763302\" y=\"259.993871118\">0.575044455868</text><text class=\"centered\" x=\"438.838789647\" y=\"219.708348523\">1.24827986326</text><text class=\"centered\" x=\"390.788965808\" y=\"213.870981922\">0.913926979305</text><text class=\"centered\" x=\"333.6\" y=\"267.666666667\"/></g></g><g class=\"plot tooltip-overlay\" transform=\"translate(128, 46)\"><g class=\"tooltip\" style=\"opacity: 0\" transform=\"translate(0 0)\"><a><rect class=\"tooltip-box\" height=\"0\" rx=\"0\" ry=\"0\" width=\"0\"/><text class=\"text\"><tspan class=\"label\"/><tspan class=\"value\"/></text></a></g></g><g class=\"legends\" transform=\"translate(10, 56)\"><g class=\"legend reactive activate-serie\" id=\"activate-serie-0\"><rect class=\"color-0 reactive\" height=\"12\" width=\"12\" x=\"0.0\" y=\"1.0\"/><text x=\"17.0\" y=\"11.2\">meiotic</text></g><g class=\"legend reactive activate-serie\" id=\"activate-serie-1\"><rect class=\"color-1 reactive\" height=\"12\" width=\"12\" x=\"0.0\" y=\"22.0\"/><text x=\"17.0\" y=\"32.2\">mitotic</text></g></g><g class=\"legends\" transform=\"translate(790, 56)\"/></g></svg>"
      ],
      "text/plain": [
       "<IPython.core.display.SVG at 0x113c5f4d0>"
      ]
     },
     "execution_count": 109,
     "metadata": {},
     "output_type": "execute_result"
    }
   ],
   "source": [
    "#try pygal\n",
    "##http://pygal.org/builtin_styles/\n",
    "#https://github.com/Kozea/pygal/blob/master/pygal/config.py\n",
    "\n",
    "radarChart1=pygal.Radar()\n",
    "radarChart1.config.x_labels=list(means2.columns)\n",
    "radarChart1.config.title='xenopus_laevis: after dropping columns'\n",
    "radarChart1.config.width=800\n",
    "radarChart1.config.height=600\n",
    "radarChart1.add('meiotic',log_means2_1)\n",
    "radarChart1.add('mitotic',log_means2_0)\n",
    "#http://code.activestate.com/recipes/578123-draw-svg-images-in-python-python-recipe-enhanced-v/\n",
    "SVG(radarChart1.render()) #drop: time_pf, chromosomes,genome, centrosome\n",
    "\n",
    "#radarChart1.x_labels\n",
    "\n"
   ]
  },
  {
   "cell_type": "markdown",
   "metadata": {},
   "source": [
    "##### Change esthetics."
   ]
  },
  {
   "cell_type": "code",
   "execution_count": 110,
   "metadata": {
    "collapsed": false
   },
   "outputs": [
    {
     "data": {
      "image/svg+xml": [
       "<svg class=\"pygal-chart\" id=\"chart-b4a03009-e26e-40de-bc7c-723a147d3e12\" viewBox=\"0 0 800 600\" xmlns=\"http://www.w3.org/2000/svg\" xmlns:xlink=\"http://www.w3.org/1999/xlink\"><!--Generated with pygal 1.5.1 (etree) ©Kozea 2011-2014 on 2015-01-09--><!--http://pygal.org--><!--http://github.com/Kozea/pygal--><defs><style type=\"text/css\">#chart-b4a03009-e26e-40de-bc7c-723a147d3e12 .title{font-family:&quot;monospace&quot;;font-size:16px}#chart-b4a03009-e26e-40de-bc7c-723a147d3e12 .legends .legend text{font-family:&quot;monospace&quot;;font-size:14px}#chart-b4a03009-e26e-40de-bc7c-723a147d3e12 .axis text{font-family:&quot;monospace&quot;;font-size:10px}#chart-b4a03009-e26e-40de-bc7c-723a147d3e12 .axis text.major{font-family:&quot;monospace&quot;;font-size:10px}#chart-b4a03009-e26e-40de-bc7c-723a147d3e12 .series text{font-family:&quot;monospace&quot;;font-size:8px}#chart-b4a03009-e26e-40de-bc7c-723a147d3e12 .tooltip text{font-family:&quot;monospace&quot;;font-size:16px}#chart-b4a03009-e26e-40de-bc7c-723a147d3e12 text.no_data{font-size:64px}\n",
       "#chart-b4a03009-e26e-40de-bc7c-723a147d3e12{background-color:#fbfbfb}#chart-b4a03009-e26e-40de-bc7c-723a147d3e12 path,#chart-b4a03009-e26e-40de-bc7c-723a147d3e12 line,#chart-b4a03009-e26e-40de-bc7c-723a147d3e12 rect,#chart-b4a03009-e26e-40de-bc7c-723a147d3e12 circle{-webkit-transition:250ms ease-in;-moz-transition:250ms ease-in;transition:250ms ease-in}#chart-b4a03009-e26e-40de-bc7c-723a147d3e12 .graph &gt; .background{fill:#fbfbfb}#chart-b4a03009-e26e-40de-bc7c-723a147d3e12 .plot &gt; .background{fill:#fff}#chart-b4a03009-e26e-40de-bc7c-723a147d3e12 .graph{fill:#333333}#chart-b4a03009-e26e-40de-bc7c-723a147d3e12 text.no_data{fill:#666}#chart-b4a03009-e26e-40de-bc7c-723a147d3e12 .title{fill:#666}#chart-b4a03009-e26e-40de-bc7c-723a147d3e12 .legends .legend text{fill:#333333}#chart-b4a03009-e26e-40de-bc7c-723a147d3e12 .legends .legend:hover text{fill:#666}#chart-b4a03009-e26e-40de-bc7c-723a147d3e12 .axis .line{stroke:#666}#chart-b4a03009-e26e-40de-bc7c-723a147d3e12 .axis .guide.line{stroke:#222222}#chart-b4a03009-e26e-40de-bc7c-723a147d3e12 .axis .major.line{stroke:#333333}#chart-b4a03009-e26e-40de-bc7c-723a147d3e12 .axis text.major{stroke:#666;fill:#666}#chart-b4a03009-e26e-40de-bc7c-723a147d3e12 .axis.y .guides:hover .guide.line,#chart-b4a03009-e26e-40de-bc7c-723a147d3e12 .line-graph .axis.x .guides:hover .guide.line,#chart-b4a03009-e26e-40de-bc7c-723a147d3e12 .stackedline-graph .axis.x .guides:hover .guide.line,#chart-b4a03009-e26e-40de-bc7c-723a147d3e12 .xy-graph .axis.x .guides:hover .guide.line{stroke:#666}#chart-b4a03009-e26e-40de-bc7c-723a147d3e12 .axis .guides:hover text{fill:#666}#chart-b4a03009-e26e-40de-bc7c-723a147d3e12 .reactive{fill-opacity:.5}#chart-b4a03009-e26e-40de-bc7c-723a147d3e12 .reactive.active,#chart-b4a03009-e26e-40de-bc7c-723a147d3e12 .active .reactive{fill-opacity:.9}#chart-b4a03009-e26e-40de-bc7c-723a147d3e12 .series text{fill:#666}#chart-b4a03009-e26e-40de-bc7c-723a147d3e12 .tooltip rect{fill:#fff;stroke:#666}#chart-b4a03009-e26e-40de-bc7c-723a147d3e12 .tooltip text{fill:#666}#chart-b4a03009-e26e-40de-bc7c-723a147d3e12 .map-element{fill:#333333;stroke:#222222 !important;opacity:.9;stroke-width:3;-webkit-transition:250ms;-moz-transition:250ms;-o-transition:250ms;transition:250ms}#chart-b4a03009-e26e-40de-bc7c-723a147d3e12 .map-element:hover{opacity:1;stroke-width:10}#chart-b4a03009-e26e-40de-bc7c-723a147d3e12 .color-0,#chart-b4a03009-e26e-40de-bc7c-723a147d3e12 .color-0 a:visited{stroke:#7dcf30;fill:#7dcf30}#chart-b4a03009-e26e-40de-bc7c-723a147d3e12 .color-1,#chart-b4a03009-e26e-40de-bc7c-723a147d3e12 .color-1 a:visited{stroke:#247fab;fill:#247fab}#chart-b4a03009-e26e-40de-bc7c-723a147d3e12 .color-2,#chart-b4a03009-e26e-40de-bc7c-723a147d3e12 .color-2 a:visited{stroke:#97d959;fill:#97d959}#chart-b4a03009-e26e-40de-bc7c-723a147d3e12 .color-3,#chart-b4a03009-e26e-40de-bc7c-723a147d3e12 .color-3 a:visited{stroke:#ccc;fill:#ccc}#chart-b4a03009-e26e-40de-bc7c-723a147d3e12 .color-4,#chart-b4a03009-e26e-40de-bc7c-723a147d3e12 .color-4 a:visited{stroke:#579122;fill:#579122}#chart-b4a03009-e26e-40de-bc7c-723a147d3e12 .color-5,#chart-b4a03009-e26e-40de-bc7c-723a147d3e12 .color-5 a:visited{stroke:#ddd;fill:#ddd}#chart-b4a03009-e26e-40de-bc7c-723a147d3e12 .color-6,#chart-b4a03009-e26e-40de-bc7c-723a147d3e12 .color-6 a:visited{stroke:#2f9ed3;fill:#2f9ed3}#chart-b4a03009-e26e-40de-bc7c-723a147d3e12 .color-7,#chart-b4a03009-e26e-40de-bc7c-723a147d3e12 .color-7 a:visited{stroke:#17506c;fill:#17506c}#chart-b4a03009-e26e-40de-bc7c-723a147d3e12 .color-8,#chart-b4a03009-e26e-40de-bc7c-723a147d3e12 .color-8 a:visited{stroke:#7dcf30;fill:#7dcf30}#chart-b4a03009-e26e-40de-bc7c-723a147d3e12 .color-9,#chart-b4a03009-e26e-40de-bc7c-723a147d3e12 .color-9 a:visited{stroke:#247fab;fill:#247fab}#chart-b4a03009-e26e-40de-bc7c-723a147d3e12 .color-10,#chart-b4a03009-e26e-40de-bc7c-723a147d3e12 .color-10 a:visited{stroke:#97d959;fill:#97d959}#chart-b4a03009-e26e-40de-bc7c-723a147d3e12 .color-11,#chart-b4a03009-e26e-40de-bc7c-723a147d3e12 .color-11 a:visited{stroke:#ccc;fill:#ccc}#chart-b4a03009-e26e-40de-bc7c-723a147d3e12 .color-12,#chart-b4a03009-e26e-40de-bc7c-723a147d3e12 .color-12 a:visited{stroke:#579122;fill:#579122}#chart-b4a03009-e26e-40de-bc7c-723a147d3e12 .color-13,#chart-b4a03009-e26e-40de-bc7c-723a147d3e12 .color-13 a:visited{stroke:#ddd;fill:#ddd}#chart-b4a03009-e26e-40de-bc7c-723a147d3e12 .color-14,#chart-b4a03009-e26e-40de-bc7c-723a147d3e12 .color-14 a:visited{stroke:#2f9ed3;fill:#2f9ed3}#chart-b4a03009-e26e-40de-bc7c-723a147d3e12 .color-15,#chart-b4a03009-e26e-40de-bc7c-723a147d3e12 .color-15 a:visited{stroke:#17506c;fill:#17506c}\n",
       "#chart-b4a03009-e26e-40de-bc7c-723a147d3e12 text.no_data{text-anchor:middle}#chart-b4a03009-e26e-40de-bc7c-723a147d3e12 .guide.line{fill-opacity:0}#chart-b4a03009-e26e-40de-bc7c-723a147d3e12 .centered{text-anchor:middle}#chart-b4a03009-e26e-40de-bc7c-723a147d3e12 .title{text-anchor:middle}#chart-b4a03009-e26e-40de-bc7c-723a147d3e12 .legends .legend text{fill-opacity:1}#chart-b4a03009-e26e-40de-bc7c-723a147d3e12 .axis.x text{text-anchor:middle}#chart-b4a03009-e26e-40de-bc7c-723a147d3e12 .axis.x:not(.web) text[transform]{text-anchor:start}#chart-b4a03009-e26e-40de-bc7c-723a147d3e12 .axis.y text{text-anchor:end}#chart-b4a03009-e26e-40de-bc7c-723a147d3e12 .axis.y2 text{text-anchor:start}#chart-b4a03009-e26e-40de-bc7c-723a147d3e12 .axis.y .logarithmic text:not(.major),#chart-b4a03009-e26e-40de-bc7c-723a147d3e12 .axis.y2 .logarithmic text:not(.major){font-size:50%}#chart-b4a03009-e26e-40de-bc7c-723a147d3e12 .axis .guide.line{stroke-dasharray:4,4}#chart-b4a03009-e26e-40de-bc7c-723a147d3e12 .axis .major.guide.line{stroke-dasharray:6,6}#chart-b4a03009-e26e-40de-bc7c-723a147d3e12 .axis text.major{stroke-width:0.5px}#chart-b4a03009-e26e-40de-bc7c-723a147d3e12 .horizontal .axis.y .guide.line,#chart-b4a03009-e26e-40de-bc7c-723a147d3e12 .horizontal .axis.y2 .guide.line,#chart-b4a03009-e26e-40de-bc7c-723a147d3e12 .vertical .axis.x .guide.line{opacity:0}#chart-b4a03009-e26e-40de-bc7c-723a147d3e12 .horizontal .axis.always_show .guide.line,#chart-b4a03009-e26e-40de-bc7c-723a147d3e12 .vertical .axis.always_show .guide.line{opacity:1 !important}#chart-b4a03009-e26e-40de-bc7c-723a147d3e12 .axis.y .guides:hover .guide.line,#chart-b4a03009-e26e-40de-bc7c-723a147d3e12 .axis.y2 .guides:hover .guide.line,#chart-b4a03009-e26e-40de-bc7c-723a147d3e12 .axis.x .guides:hover .guide.line{opacity:1}#chart-b4a03009-e26e-40de-bc7c-723a147d3e12 .axis .guides:hover text{opacity:1}#chart-b4a03009-e26e-40de-bc7c-723a147d3e12 .nofill{fill:none}#chart-b4a03009-e26e-40de-bc7c-723a147d3e12 .subtle-fill{fill-opacity:.2}#chart-b4a03009-e26e-40de-bc7c-723a147d3e12 .dot{stroke-width:1px;fill-opacity:1}#chart-b4a03009-e26e-40de-bc7c-723a147d3e12 .dot.active{stroke-width:5px}#chart-b4a03009-e26e-40de-bc7c-723a147d3e12 .series text{stroke:none}#chart-b4a03009-e26e-40de-bc7c-723a147d3e12 .series text.active{opacity:1}#chart-b4a03009-e26e-40de-bc7c-723a147d3e12 .tooltip rect{fill-opacity:0.8}#chart-b4a03009-e26e-40de-bc7c-723a147d3e12 .tooltip text{fill-opacity:1}#chart-b4a03009-e26e-40de-bc7c-723a147d3e12 .tooltip text tspan.label{fill-opacity:.8}</style><script type=\"text/javascript\">window.config = {&quot;inner_radius&quot;: 0, &quot;print_values&quot;: true, &quot;tooltip_font_size&quot;: 16, &quot;y_title&quot;: null, &quot;y_labels_major&quot;: null, &quot;height&quot;: 600, &quot;legend_at_bottom&quot;: false, &quot;show_legend&quot;: true, &quot;show_dots&quot;: true, &quot;explicit_size&quot;: false, &quot;legend_font_size&quot;: 14, &quot;x_labels_major_count&quot;: null, &quot;major_label_font_size&quot;: 10, &quot;fill&quot;: false, &quot;half_pie&quot;: false, &quot;style&quot;: {&quot;opacity&quot;: &quot;.5&quot;, &quot;foreground&quot;: &quot;#333333&quot;, &quot;plot_background&quot;: &quot;#fff&quot;, &quot;foreground_light&quot;: &quot;#666&quot;, &quot;transition&quot;: &quot;250ms ease-in&quot;, &quot;foreground_dark&quot;: &quot;#222222&quot;, &quot;opacity_hover&quot;: &quot;.9&quot;, &quot;colors&quot;: [&quot;#7dcf30&quot;, &quot;#247fab&quot;, &quot;#97d959&quot;, &quot;#ccc&quot;, &quot;#579122&quot;, &quot;#ddd&quot;, &quot;#2f9ed3&quot;, &quot;#17506c&quot;], &quot;background&quot;: &quot;#fbfbfb&quot;, &quot;font_family&quot;: &quot;monospace&quot;}, &quot;x_title&quot;: null, &quot;zero&quot;: 0, &quot;show_minor_x_labels&quot;: true, &quot;interpolation_parameters&quot;: {}, &quot;x_labels_major&quot;: null, &quot;rounded_bars&quot;: null, &quot;label_font_size&quot;: 10, &quot;show_y_labels&quot;: true, &quot;dots_size&quot;: 2.5, &quot;show_y_guides&quot;: true, &quot;show_minor_y_labels&quot;: true, &quot;x_labels&quot;: [&quot;cell_diameter_um&quot;, &quot;spindle_length__asters_um&quot;, &quot;spindle_length_poles_um&quot;, &quot;spindle_width_um&quot;, &quot;spindle_aspect_ratio_asters_um&quot;, &quot;spindle_aspect_ratio_poles_um&quot;, &quot;astere-to-pole_distance_1_um&quot;, &quot;aster-to-pole_distance_2_um&quot;, &quot;inner_aster_diameter_1_um&quot;, &quot;inner_aster_diameter_2_um&quot;, &quot;outer_aster_diameter_1_um&quot;, &quot;outer__diameter_2_um&quot;, &quot;metaphase_plate_lengt_h_um&quot;, &quot;metaphase_plate_width_um&quot;, &quot;metaphase_plate_aspect_ratio_um&quot;, &quot;polar_body_diameter_1_um&quot;, &quot;polar_body_diameter_2_um&quot;, &quot;distance_between_chromosomes_um&quot;], &quot;value_font_size&quot;: 8, &quot;x_label_rotation&quot;: 0, &quot;disable_xml_declaration&quot;: false, &quot;strict&quot;: false, &quot;css&quot;: [&quot;style.css&quot;, &quot;graph.css&quot;], &quot;title_font_size&quot;: 16, &quot;show_only_major_dots&quot;: false, &quot;human_readable&quot;: false, &quot;show_x_guides&quot;: false, &quot;spacing&quot;: 10, &quot;y_label_rotation&quot;: 0, &quot;pretty_print&quot;: false, &quot;tooltip_border_radius&quot;: 0, &quot;interpolate&quot;: null, &quot;js&quot;: [&quot;http://kozea.github.com/pygal.js/javascripts/svg.jquery.js&quot;, &quot;http://kozea.github.com/pygal.js/javascripts/pygal-tooltips.js&quot;], &quot;y_labels&quot;: null, &quot;y_labels_major_every&quot;: null, &quot;interpolation_precision&quot;: 250, &quot;value_formatter&quot;: null, &quot;no_data_font_size&quot;: 64, &quot;logarithmic&quot;: false, &quot;width&quot;: 800, &quot;print_zeroes&quot;: false, &quot;no_data_text&quot;: &quot;No data&quot;, &quot;truncate_legend&quot;: null, &quot;x_labels_major_every&quot;: null, &quot;title&quot;: &quot;xenopus_laevis: LightGreenStyle&quot;, &quot;legend_box_size&quot;: 12, &quot;no_prefix&quot;: false, &quot;stroke&quot;: true, &quot;include_x_axis&quot;: false, &quot;range&quot;: null, &quot;truncate_label&quot;: null, &quot;order_min&quot;: null, &quot;mode&quot;: null, &quot;y_labels_major_count&quot;: null, &quot;x_label_format&quot;: &quot;%Y-%m-%d %H:%M:%S.%f&quot;, &quot;margin&quot;: 20, &quot;stack_from_top&quot;: false}</script><script type=\"text/javascript\" xlink:href=\"http://kozea.github.com/pygal.js/javascripts/svg.jquery.js\"/><script type=\"text/javascript\" xlink:href=\"http://kozea.github.com/pygal.js/javascripts/pygal-tooltips.js\"/></defs><title>xenopus_laevis: LightGreenStyle</title><g class=\"graph radar-graph vertical\"><rect class=\"background\" height=\"600\" width=\"800\" x=\"0\" y=\"0\"/><g class=\"plot\" transform=\"translate(128, 46)\"><rect class=\"background\" height=\"514\" width=\"651.2\" x=\"0\" y=\"0\"/><g class=\"axis y web\"><g class=\"guides\"><path class=\"guide line\" d=\"M325.600000 41.850666 L232.372731 54.825758 150.390046 92.186048 89.540267 149.425333 57.162776 219.639710 57.162776 294.360290 89.540267 364.574667 150.390046 421.813952 232.372731 459.174242 325.600000 472.149334 418.827269 459.174242 500.809954 421.813952 561.659733 364.574667 594.037224 294.360290 594.037224 219.639710 561.659733 149.425333 500.809954 92.186048 418.827269 54.825758 325.600000 41.850666 Z\"/><text class=\"\" x=\"320.6\" y=\"41.8506656946\">2.8</text></g><g class=\"guides\"><path class=\"guide line\" d=\"M325.600000 72.586285 L245.690912 83.707793 175.420039 115.730898 123.263086 164.793142 95.510951 224.976894 95.510951 289.023106 123.263086 349.206858 175.420039 398.269102 245.690912 430.292207 325.600000 441.413715 405.509088 430.292207 475.779961 398.269102 527.936914 349.206858 555.689049 289.023106 555.689049 224.976894 527.936914 164.793142 475.779961 115.730898 405.509088 83.707793 325.600000 72.586285 Z\"/><text class=\"\" x=\"320.6\" y=\"72.5862848811\">2.4</text></g><g class=\"guides\"><path class=\"major guide line\" d=\"M325.600000 103.321904 L259.009093 112.589827 200.450033 139.275749 156.985905 180.160952 133.859126 230.314079 133.859126 283.685921 156.985905 333.839048 200.450033 374.724251 259.009093 401.410173 325.600000 410.678096 392.190907 401.410173 450.749967 374.724251 494.214095 333.839048 517.340874 283.685921 517.340874 230.314079 494.214095 180.160952 450.749967 139.275749 392.190907 112.589827 325.600000 103.321904 Z\"/><text class=\"major\" x=\"320.6\" y=\"103.321904068\">2.0</text></g><g class=\"guides\"><path class=\"guide line\" d=\"M325.600000 134.057523 L272.327275 141.471862 225.480026 162.820599 190.708724 195.528762 172.207301 235.651263 172.207301 278.348737 190.708724 318.471238 225.480026 351.179401 272.327275 372.528138 325.600000 379.942477 378.872725 372.528138 425.719974 351.179401 460.491276 318.471238 478.992699 278.348737 478.992699 235.651263 460.491276 195.528762 425.719974 162.820599 378.872725 141.471862 325.600000 134.057523 Z\"/><text class=\"\" x=\"320.6\" y=\"134.057523254\">1.6</text></g><g class=\"guides\"><path class=\"guide line\" d=\"M325.600000 164.793142 L285.645456 170.353896 250.510020 186.365449 224.431543 210.896571 210.555476 240.988447 210.555476 273.011553 224.431543 303.103429 250.510020 327.634551 285.645456 343.646104 325.600000 349.206858 365.554544 343.646104 400.689980 327.634551 426.768457 303.103429 440.644524 273.011553 440.644524 240.988447 426.768457 210.896571 400.689980 186.365449 365.554544 170.353896 325.600000 164.793142 Z\"/><text class=\"\" x=\"320.6\" y=\"164.793142441\">1.2</text></g><g class=\"guides\"><path class=\"guide line\" d=\"M325.600000 195.528762 L298.963637 199.235931 275.540013 209.910299 258.154362 226.264381 248.903650 246.325631 248.903650 267.674369 258.154362 287.735619 275.540013 304.089701 298.963637 314.764069 325.600000 318.471238 352.236363 314.764069 375.659987 304.089701 393.045638 287.735619 402.296350 267.674369 402.296350 246.325631 393.045638 226.264381 375.659987 209.910299 352.236363 199.235931 325.600000 195.528762 Z\"/><text class=\"\" x=\"320.6\" y=\"195.528761627\">0.8</text></g><g class=\"guides\"><path class=\"guide line\" d=\"M325.600000 226.264381 L312.281819 228.117965 300.570007 233.455150 291.877181 241.632190 287.251825 251.662816 287.251825 262.337184 291.877181 272.367810 300.570007 280.544850 312.281819 285.882035 325.600000 287.735619 338.918181 285.882035 350.629993 280.544850 359.322819 272.367810 363.948175 262.337184 363.948175 251.662816 359.322819 241.632190 350.629993 233.455150 338.918181 228.117965 325.600000 226.264381 Z\"/><text class=\"\" x=\"320.6\" y=\"226.264380814\">0.4</text></g><g class=\"guides\"><path class=\"major guide line\" d=\"M325.600000 257.000000 L325.600000 257.000000 325.600000 257.000000 325.600000 257.000000 325.600000 257.000000 325.600000 257.000000 325.600000 257.000000 325.600000 257.000000 325.600000 257.000000 325.600000 257.000000 325.600000 257.000000 325.600000 257.000000 325.600000 257.000000 325.600000 257.000000 325.600000 257.000000 325.600000 257.000000 325.600000 257.000000 325.600000 257.000000 325.600000 257.000000 Z\"/><text class=\"major\" x=\"320.6\" y=\"257.0\">0.0</text></g></g><g class=\"axis x web\"><g class=\"guides\"><path class=\"line\" d=\"M325.600000 257.000000 L325.600000 19.037037\"/><text class=\"\" transform=\"rotate(0.000000 325.600000 5.140000)\" x=\"325.6\" y=\"5.14\">cell_diameter_um</text></g><g class=\"guides\"><path class=\"line\" d=\"M325.600000 257.000000 L222.487260 33.387960\"/><text class=\"\" transform=\"rotate(-20.000000 216.465477 20.329017)\" x=\"216.465476506\" y=\"20.3290165289\">spindle_length__asters_um</text></g><g class=\"guides\"><path class=\"line\" d=\"M325.600000 257.000000 L131.811439 74.709795\"/><text class=\"\" transform=\"rotate(-40.000000 120.494187 64.064047)\" x=\"120.4941872\" y=\"64.0640465561\">spindle_length_poles_um</text></g><g class=\"guides\"><path class=\"line\" d=\"M325.600000 257.000000 L64.509378 138.018519\"/><text class=\"\" transform=\"rotate(-60.000000 49.261686 131.070000)\" x=\"49.2616859572\" y=\"131.07\">spindle_width_um</text></g><g class=\"guides\"><path class=\"line\" d=\"M325.600000 257.000000 L28.698700 215.678165\"/><text class=\"\" transform=\"rotate(-80.000000 11.359664 213.264970)\" x=\"11.3596637068\" y=\"213.264969973\">spindle_aspect_ratio_asters_um</text></g><g class=\"guides\"><path class=\"line\" d=\"M325.600000 257.000000 L28.698700 298.321835\"/><text class=\"\" transform=\"rotate(-280.000000 11.359664 300.735030)\" x=\"11.3596637068\" y=\"300.735030027\">spindle_aspect_ratio_poles_um</text></g><g class=\"guides\"><path class=\"line\" d=\"M325.600000 257.000000 L64.509378 375.981481\"/><text class=\"\" transform=\"rotate(-300.000000 49.261686 382.930000)\" x=\"49.2616859572\" y=\"382.93\">astere-to-pole_distance_1_um</text></g><g class=\"guides\"><path class=\"line\" d=\"M325.600000 257.000000 L131.811439 439.290205\"/><text class=\"\" transform=\"rotate(-320.000000 120.494187 449.935953)\" x=\"120.4941872\" y=\"449.935953444\">aster-to-pole_distance_2_um</text></g><g class=\"guides\"><path class=\"line\" d=\"M325.600000 257.000000 L222.487260 480.612040\"/><text class=\"\" transform=\"rotate(-340.000000 216.465477 493.670983)\" x=\"216.465476506\" y=\"493.670983471\">inner_aster_diameter_1_um</text></g><g class=\"guides\"><path class=\"line\" d=\"M325.600000 257.000000 L325.600000 494.962963\"/><text class=\"\" transform=\"rotate(-360.000000 325.600000 508.860000)\" x=\"325.6\" y=\"508.86\">inner_aster_diameter_2_um</text></g><g class=\"guides\"><path class=\"line\" d=\"M325.600000 257.000000 L428.712740 480.612040\"/><text class=\"\" transform=\"rotate(-380.000000 434.734523 493.670983)\" x=\"434.734523494\" y=\"493.670983471\">outer_aster_diameter_1_um</text></g><g class=\"guides\"><path class=\"line\" d=\"M325.600000 257.000000 L519.388561 439.290205\"/><text class=\"\" transform=\"rotate(-400.000000 530.705813 449.935953)\" x=\"530.7058128\" y=\"449.935953444\">outer__diameter_2_um</text></g><g class=\"guides\"><path class=\"line\" d=\"M325.600000 257.000000 L586.690622 375.981481\"/><text class=\"\" transform=\"rotate(-420.000000 601.938314 382.930000)\" x=\"601.938314043\" y=\"382.93\">metaphase_plate_lengt_h_um</text></g><g class=\"guides\"><path class=\"line\" d=\"M325.600000 257.000000 L622.501300 298.321835\"/><text class=\"\" transform=\"rotate(-440.000000 639.840336 300.735030)\" x=\"639.840336293\" y=\"300.735030027\">metaphase_plate_width_um</text></g><g class=\"guides\"><path class=\"line\" d=\"M325.600000 257.000000 L622.501300 215.678165\"/><text class=\"\" transform=\"rotate(-280.000000 639.840336 213.264970)\" x=\"639.840336293\" y=\"213.264969973\">metaphase_plate_aspect_ratio_um</text></g><g class=\"guides\"><path class=\"line\" d=\"M325.600000 257.000000 L586.690622 138.018519\"/><text class=\"\" transform=\"rotate(-300.000000 601.938314 131.070000)\" x=\"601.938314043\" y=\"131.07\">polar_body_diameter_1_um</text></g><g class=\"guides\"><path class=\"line\" d=\"M325.600000 257.000000 L519.388561 74.709795\"/><text class=\"\" transform=\"rotate(-320.000000 530.705813 64.064047)\" x=\"530.7058128\" y=\"64.0640465561\">polar_body_diameter_2_um</text></g><g class=\"guides\"><path class=\"line\" d=\"M325.600000 257.000000 L428.712740 33.387960\"/><text class=\"\" transform=\"rotate(-340.000000 434.734523 20.329017)\" x=\"434.734523494\" y=\"20.3290165289\">distance_between_chromosomes_um</text></g></g><g class=\"series serie-0 color-0\"><path class=\"line reactive nofill\" d=\"M325.600000 20.807588 L276.597101 150.731480 233.504675 170.369108 226.529005 211.852405 296.770588 252.987609 296.770588 261.012391 325.600000 257.000000 325.600000 257.000000 325.600000 257.000000 325.600000 257.000000 342.973290 294.676011 325.600000 257.000000 426.642043 303.045821 401.146793 267.514377 368.652380 251.008099 418.691662 214.577244 385.429308 200.720637 325.600000 257.000000 Z\"/></g><g class=\"series serie-1 color-1\"><path class=\"line reactive nofill\" d=\"M325.600000 19.037037 L261.031855 116.976423 219.252977 156.963029 219.282705 208.550197 259.420355 247.789315 281.896015 263.082590 247.989732 292.367738 264.207527 314.749778 279.832806 356.251515 325.600000 360.227448 391.503896 399.920310 449.838029 373.866423 436.584043 307.576485 400.067138 267.364113 380.729763 249.327204 430.838790 209.041682 382.788966 203.204315 325.600000 257.000000 Z\"/></g></g><g class=\"titles\"><text class=\"title plot_title\" x=\"400.0\" y=\"26\">xenopus_laevis: LightGreenStyle</text></g><g class=\"plot overlay\" transform=\"translate(128, 46)\"><g class=\"series serie-0 color-0\"><g class=\"dots\"><circle class=\"dot reactive tooltip-trigger\" cx=\"325.6\" cy=\"20.8075878612\" r=\"2.5\"/><desc class=\"value\">3.07385916914</desc><desc class=\"x \">325.6</desc><desc class=\"y \">20.8075878612</desc></g><g class=\"dots\"><circle class=\"dot reactive tooltip-trigger\" cx=\"276.597100828\" cy=\"150.731479566\" r=\"2.5\"/><desc class=\"value\">1.47175948105</desc><desc class=\"x \">276.597100828</desc><desc class=\"y \">150.731479566</desc></g><g class=\"dots\"><circle class=\"dot reactive tooltip-trigger\" cx=\"233.504674503\" cy=\"170.369108413\" r=\"2.5\"/><desc class=\"value\">1.47175948105</desc><desc class=\"x \">233.504674503</desc><desc class=\"y \">170.369108413</desc></g><g class=\"dots\"><circle class=\"dot reactive tooltip-trigger\" cx=\"226.529004887\" cy=\"211.852404533\" r=\"2.5\"/><desc class=\"value\">1.17512115682</desc><desc class=\"x \">226.529004887</desc><desc class=\"y \">211.852404533</desc></g><g class=\"dots\"><circle class=\"dot reactive tooltip-trigger\" cx=\"296.770588075\" cy=\"252.987608685\" r=\"2.5\"/><desc class=\"value\">0.300712219685</desc><desc class=\"x \">296.770588075</desc><desc class=\"y \">252.987608685</desc></g><g class=\"dots\"><circle class=\"dot reactive tooltip-trigger\" cx=\"296.770588075\" cy=\"261.012391315\" r=\"2.5\"/><desc class=\"value\">0.300712219685</desc><desc class=\"x top\">296.770588075</desc><desc class=\"y top\">261.012391315</desc></g><g class=\"dots\"><circle class=\"dot reactive tooltip-trigger\" cx=\"325.6\" cy=\"257.0\" r=\"2.5\"/><desc class=\"value\">0</desc><desc class=\"x \">325.6</desc><desc class=\"y \">257.0</desc></g><g class=\"dots\"><circle class=\"dot reactive tooltip-trigger\" cx=\"325.6\" cy=\"257.0\" r=\"2.5\"/><desc class=\"value\">0</desc><desc class=\"x \">325.6</desc><desc class=\"y \">257.0</desc></g><g class=\"dots\"><circle class=\"dot reactive tooltip-trigger\" cx=\"325.6\" cy=\"257.0\" r=\"2.5\"/><desc class=\"value\">0</desc><desc class=\"x \">325.6</desc><desc class=\"y \">257.0</desc></g><g class=\"dots\"><circle class=\"dot reactive tooltip-trigger\" cx=\"325.6\" cy=\"257.0\" r=\"2.5\"/><desc class=\"value\">0</desc><desc class=\"x \">325.6</desc><desc class=\"y \">257.0</desc></g><g class=\"dots\"><circle class=\"dot reactive tooltip-trigger\" cx=\"342.973289539\" cy=\"294.676011125\" r=\"2.5\"/><desc class=\"value\">0.521791649639</desc><desc class=\"x left top\">342.973289539</desc><desc class=\"y left top\">294.676011125</desc></g><g class=\"dots\"><circle class=\"dot reactive tooltip-trigger\" cx=\"325.6\" cy=\"257.0\" r=\"2.5\"/><desc class=\"value\">0</desc><desc class=\"x \">325.6</desc><desc class=\"y \">257.0</desc></g><g class=\"dots\"><circle class=\"dot reactive tooltip-trigger\" cx=\"426.642042538\" cy=\"303.04582054\" r=\"2.5\"/><desc class=\"value\">1.19850054781</desc><desc class=\"x left top\">426.642042538</desc><desc class=\"y left top\">303.04582054</desc></g><g class=\"dots\"><circle class=\"dot reactive tooltip-trigger\" cx=\"401.146793452\" cy=\"267.514376732\" r=\"2.5\"/><desc class=\"value\">0.788009273594</desc><desc class=\"x left top\">401.146793452</desc><desc class=\"y left top\">267.514376732</desc></g><g class=\"dots\"><circle class=\"dot reactive tooltip-trigger\" cx=\"368.652380154\" cy=\"251.008098511\" r=\"2.5\"/><desc class=\"value\">0.449068362291</desc><desc class=\"x left\">368.652380154</desc><desc class=\"y left\">251.008098511</desc></g><g class=\"dots\"><circle class=\"dot reactive tooltip-trigger\" cx=\"418.691661761\" cy=\"214.577243654\" r=\"2.5\"/><desc class=\"value\">1.10419786472</desc><desc class=\"x left\">418.691661761</desc><desc class=\"y left\">214.577243654</desc></g><g class=\"dots\"><circle class=\"dot reactive tooltip-trigger\" cx=\"385.429307763\" cy=\"200.720636779\" r=\"2.5\"/><desc class=\"value\">0.956121827793</desc><desc class=\"x left\">385.429307763</desc><desc class=\"y left\">200.720636779</desc></g><g class=\"dots\"><circle class=\"dot reactive tooltip-trigger\" cx=\"325.6\" cy=\"257.0\" r=\"2.5\"/><desc class=\"value\">0</desc><desc class=\"x \">325.6</desc><desc class=\"y \">257.0</desc></g></g><g class=\"series serie-1 color-1\"><g class=\"dots\"><circle class=\"dot reactive tooltip-trigger\" cx=\"325.6\" cy=\"19.037037037\" r=\"2.5\"/><desc class=\"value\">3.09690150075</desc><desc class=\"x \">325.6</desc><desc class=\"y \">19.037037037</desc></g><g class=\"dots\"><circle class=\"dot reactive tooltip-trigger\" cx=\"261.031855038\" cy=\"116.97642286\" r=\"2.5\"/><desc class=\"value\">1.93924810833</desc><desc class=\"x \">261.031855038</desc><desc class=\"y \">116.97642286</desc></g><g class=\"dots\"><circle class=\"dot reactive tooltip-trigger\" cx=\"219.252976685\" cy=\"156.96302855\" r=\"2.5\"/><desc class=\"value\">1.69951340093</desc><desc class=\"x \">219.252976685</desc><desc class=\"y \">156.96302855</desc></g><g class=\"dots\"><circle class=\"dot reactive tooltip-trigger\" cx=\"219.282705018\" cy=\"208.550196709\" r=\"2.5\"/><desc class=\"value\">1.26107245139</desc><desc class=\"x \">219.282705018</desc><desc class=\"y \">208.550196709</desc></g><g class=\"dots\"><circle class=\"dot reactive tooltip-trigger\" cx=\"259.420355097\" cy=\"247.789314984\" r=\"2.5\"/><desc class=\"value\">0.690302943696</desc><desc class=\"x \">259.420355097</desc><desc class=\"y \">247.789314984</desc></g><g class=\"dots\"><circle class=\"dot reactive tooltip-trigger\" cx=\"281.896015169\" cy=\"263.082589878\" r=\"2.5\"/><desc class=\"value\">0.455865083952</desc><desc class=\"x top\">281.896015169</desc><desc class=\"y top\">263.082589878</desc></g><g class=\"dots\"><circle class=\"dot reactive tooltip-trigger\" cx=\"247.98973196\" cy=\"292.367737869\" r=\"2.5\"/><desc class=\"value\">0.920566790076</desc><desc class=\"x top\">247.98973196</desc><desc class=\"y top\">292.367737869</desc></g><g class=\"dots\"><circle class=\"dot reactive tooltip-trigger\" cx=\"264.207527367\" cy=\"314.749778419\" r=\"2.5\"/><desc class=\"value\">0.981102495424</desc><desc class=\"x top\">264.207527367</desc><desc class=\"y top\">314.749778419</desc></g><g class=\"dots\"><circle class=\"dot reactive tooltip-trigger\" cx=\"279.832805855\" cy=\"356.251515491\" r=\"2.5\"/><desc class=\"value\">1.37457789321</desc><desc class=\"x top\">279.832805855</desc><desc class=\"y top\">356.251515491</desc></g><g class=\"dots\"><circle class=\"dot reactive tooltip-trigger\" cx=\"325.6\" cy=\"360.227448087\" r=\"2.5\"/><desc class=\"value\">1.34342435023</desc><desc class=\"x top\">325.6</desc><desc class=\"y top\">360.227448087</desc></g><g class=\"dots\"><circle class=\"dot reactive tooltip-trigger\" cx=\"391.503896424\" cy=\"399.920310474\" r=\"2.5\"/><desc class=\"value\">1.9793662424</desc><desc class=\"x left top\">391.503896424</desc><desc class=\"y left top\">399.920310474</desc></g><g class=\"dots\"><circle class=\"dot reactive tooltip-trigger\" cx=\"449.8380292\" cy=\"373.866422704\" r=\"2.5\"/><desc class=\"value\">1.98542647408</desc><desc class=\"x left top\">449.8380292</desc><desc class=\"y left top\">373.866422704</desc></g><g class=\"dots\"><circle class=\"dot reactive tooltip-trigger\" cx=\"436.584043135\" cy=\"307.576484844\" r=\"2.5\"/><desc class=\"value\">1.31642663939</desc><desc class=\"x left top\">436.584043135</desc><desc class=\"y left top\">307.576484844</desc></g><g class=\"dots\"><circle class=\"dot reactive tooltip-trigger\" cx=\"400.067137748\" cy=\"267.36411348\" r=\"2.5\"/><desc class=\"value\">0.776747661178</desc><desc class=\"x left top\">400.067137748</desc><desc class=\"y left top\">267.36411348</desc></g><g class=\"dots\"><circle class=\"dot reactive tooltip-trigger\" cx=\"380.729763302\" cy=\"249.327204452\" r=\"2.5\"/><desc class=\"value\">0.575044455868</desc><desc class=\"x left\">380.729763302</desc><desc class=\"y left\">249.327204452</desc></g><g class=\"dots\"><circle class=\"dot reactive tooltip-trigger\" cx=\"430.838789647\" cy=\"209.041681856\" r=\"2.5\"/><desc class=\"value\">1.24827986326</desc><desc class=\"x left\">430.838789647</desc><desc class=\"y left\">209.041681856</desc></g><g class=\"dots\"><circle class=\"dot reactive tooltip-trigger\" cx=\"382.788965808\" cy=\"203.204315255\" r=\"2.5\"/><desc class=\"value\">0.913926979305</desc><desc class=\"x left\">382.788965808</desc><desc class=\"y left\">203.204315255</desc></g><g class=\"dots\"><circle class=\"dot reactive tooltip-trigger\" cx=\"325.6\" cy=\"257.0\" r=\"2.5\"/><desc class=\"value\">0</desc><desc class=\"x \">325.6</desc><desc class=\"y \">257.0</desc></g></g></g><g class=\"plot text-overlay\" transform=\"translate(128, 46)\"><g class=\"series serie-0 color-0\"><text class=\"centered\" x=\"333.6\" y=\"31.4742545279\">3.07385916914</text><text class=\"centered\" x=\"284.597100828\" y=\"161.398146233\">1.47175948105</text><text class=\"centered\" x=\"241.504674503\" y=\"181.035775079\">1.47175948105</text><text class=\"centered\" x=\"234.529004887\" y=\"222.519071199\">1.17512115682</text><text class=\"centered\" x=\"304.770588075\" y=\"263.654275352\">0.300712219685</text><text class=\"centered\" x=\"304.770588075\" y=\"271.679057982\">0.300712219685</text><text class=\"centered\" x=\"333.6\" y=\"267.666666667\"/><text class=\"centered\" x=\"333.6\" y=\"267.666666667\"/><text class=\"centered\" x=\"333.6\" y=\"267.666666667\"/><text class=\"centered\" x=\"333.6\" y=\"267.666666667\"/><text class=\"centered\" x=\"350.973289539\" y=\"305.342677792\">0.521791649639</text><text class=\"centered\" x=\"333.6\" y=\"267.666666667\"/><text class=\"centered\" x=\"434.642042538\" y=\"313.712487207\">1.19850054781</text><text class=\"centered\" x=\"409.146793452\" y=\"278.181043398\">0.788009273594</text><text class=\"centered\" x=\"376.652380154\" y=\"261.674765178\">0.449068362291</text><text class=\"centered\" x=\"426.691661761\" y=\"225.243910321\">1.10419786472</text><text class=\"centered\" x=\"393.429307763\" y=\"211.387303446\">0.956121827793</text><text class=\"centered\" x=\"333.6\" y=\"267.666666667\"/></g><g class=\"series serie-1 color-1\"><text class=\"centered\" x=\"333.6\" y=\"29.7037037037\">3.09690150075</text><text class=\"centered\" x=\"269.031855038\" y=\"127.643089527\">1.93924810833</text><text class=\"centered\" x=\"227.252976685\" y=\"167.629695217\">1.69951340093</text><text class=\"centered\" x=\"227.282705018\" y=\"219.216863376\">1.26107245139</text><text class=\"centered\" x=\"267.420355097\" y=\"258.45598165\">0.690302943696</text><text class=\"centered\" x=\"289.896015169\" y=\"273.749256545\">0.455865083952</text><text class=\"centered\" x=\"255.98973196\" y=\"303.034404536\">0.920566790076</text><text class=\"centered\" x=\"272.207527367\" y=\"325.416445086\">0.981102495424</text><text class=\"centered\" x=\"287.832805855\" y=\"366.918182157\">1.37457789321</text><text class=\"centered\" x=\"333.6\" y=\"370.894114753\">1.34342435023</text><text class=\"centered\" x=\"399.503896424\" y=\"410.586977141\">1.9793662424</text><text class=\"centered\" x=\"457.8380292\" y=\"384.53308937\">1.98542647408</text><text class=\"centered\" x=\"444.584043135\" y=\"318.243151511\">1.31642663939</text><text class=\"centered\" x=\"408.067137748\" y=\"278.030780147\">0.776747661178</text><text class=\"centered\" x=\"388.729763302\" y=\"259.993871118\">0.575044455868</text><text class=\"centered\" x=\"438.838789647\" y=\"219.708348523\">1.24827986326</text><text class=\"centered\" x=\"390.788965808\" y=\"213.870981922\">0.913926979305</text><text class=\"centered\" x=\"333.6\" y=\"267.666666667\"/></g></g><g class=\"plot tooltip-overlay\" transform=\"translate(128, 46)\"><g class=\"tooltip\" style=\"opacity: 0\" transform=\"translate(0 0)\"><a><rect class=\"tooltip-box\" height=\"0\" rx=\"0\" ry=\"0\" width=\"0\"/><text class=\"text\"><tspan class=\"label\"/><tspan class=\"value\"/></text></a></g></g><g class=\"legends\" transform=\"translate(10, 56)\"><g class=\"legend reactive activate-serie\" id=\"activate-serie-0\"><rect class=\"color-0 reactive\" height=\"12\" width=\"12\" x=\"0.0\" y=\"1.0\"/><text x=\"17.0\" y=\"11.2\">meiotic</text></g><g class=\"legend reactive activate-serie\" id=\"activate-serie-1\"><rect class=\"color-1 reactive\" height=\"12\" width=\"12\" x=\"0.0\" y=\"22.0\"/><text x=\"17.0\" y=\"32.2\">mitotic</text></g></g><g class=\"legends\" transform=\"translate(790, 56)\"/></g></svg>"
      ],
      "text/plain": [
       "<IPython.core.display.SVG at 0x113c5fed0>"
      ]
     },
     "execution_count": 110,
     "metadata": {},
     "output_type": "execute_result"
    }
   ],
   "source": [
    "#try pygal\n",
    "##http://pygal.org/builtin_styles/\n",
    "#https://github.com/Kozea/pygal/blob/master/pygal/config.py\n",
    "from pygal.style import LightGreenStyle\n",
    "\n",
    "radarChart1=pygal.Radar(style= LightGreenStyle)\n",
    "radarChart1.config.title='xenopus_laevis: LightGreenStyle'\n",
    "radarChart1.config.x_labels=list(means2.columns)\n",
    "#radarChart1.config.\n",
    "radarChart1.config.width=800\n",
    "radarChart1.config.height=600\n",
    "radarChart1.add('meiotic',log_means2_1)\n",
    "radarChart1.add('mitotic',log_means2_0)\n",
    "#http://code.activestate.com/recipes/578123-draw-svg-images-in-python-python-recipe-enhanced-v/\n",
    "SVG(radarChart1.render()) #drop: time_pf, chromosomes,genome, centrosome\n",
    "\n",
    "#radarChart1.render_to_file('../Manuscript/Figures/F4/F4B/F4B_xenopus_laevis2.svg')\n",
    "\n",
    "\n",
    "#radarChart1.x_labels\n",
    "#can be converted to eps through inkscape: use either application or commandline:\n",
    "\n",
    "#http://wiki.inkscape.org/wiki/index.php/MacOS_X (use alias! not soft link!)\n",
    "#https://inkscape.org/doc/inkscape-man.html\n",
    "\n",
    "\n"
   ]
  },
  {
   "cell_type": "code",
   "execution_count": 111,
   "metadata": {
    "collapsed": false
   },
   "outputs": [
    {
     "data": {
      "image/svg+xml": [
       "<svg class=\"pygal-chart\" id=\"chart-2174551d-7cbc-49ad-a925-43e92140ec8d\" viewBox=\"0 0 800 600\" xmlns=\"http://www.w3.org/2000/svg\" xmlns:xlink=\"http://www.w3.org/1999/xlink\"><!--Generated with pygal 1.5.1 (etree) ©Kozea 2011-2014 on 2015-01-09--><!--http://pygal.org--><!--http://github.com/Kozea/pygal--><defs><style type=\"text/css\">#chart-2174551d-7cbc-49ad-a925-43e92140ec8d .title{font-family:&quot;Helvetica&quot;;font-size:16px}#chart-2174551d-7cbc-49ad-a925-43e92140ec8d .legends .legend text{font-family:&quot;Helvetica&quot;;font-size:14px}#chart-2174551d-7cbc-49ad-a925-43e92140ec8d .axis text{font-family:&quot;Helvetica&quot;;font-size:10px}#chart-2174551d-7cbc-49ad-a925-43e92140ec8d .axis text.major{font-family:&quot;Helvetica&quot;;font-size:10px}#chart-2174551d-7cbc-49ad-a925-43e92140ec8d .series text{font-family:&quot;Helvetica&quot;;font-size:8px}#chart-2174551d-7cbc-49ad-a925-43e92140ec8d .tooltip text{font-family:&quot;Helvetica&quot;;font-size:16px}#chart-2174551d-7cbc-49ad-a925-43e92140ec8d text.no_data{font-size:64px}\n",
       "#chart-2174551d-7cbc-49ad-a925-43e92140ec8d{background-color:#fbfbfb}#chart-2174551d-7cbc-49ad-a925-43e92140ec8d path,#chart-2174551d-7cbc-49ad-a925-43e92140ec8d line,#chart-2174551d-7cbc-49ad-a925-43e92140ec8d rect,#chart-2174551d-7cbc-49ad-a925-43e92140ec8d circle{-webkit-transition:250ms ease-in;-moz-transition:250ms ease-in;transition:250ms ease-in}#chart-2174551d-7cbc-49ad-a925-43e92140ec8d .graph &gt; .background{fill:#fbfbfb}#chart-2174551d-7cbc-49ad-a925-43e92140ec8d .plot &gt; .background{fill:#fff}#chart-2174551d-7cbc-49ad-a925-43e92140ec8d .graph{fill:#333333}#chart-2174551d-7cbc-49ad-a925-43e92140ec8d text.no_data{fill:#666}#chart-2174551d-7cbc-49ad-a925-43e92140ec8d .title{fill:#666}#chart-2174551d-7cbc-49ad-a925-43e92140ec8d .legends .legend text{fill:#333333}#chart-2174551d-7cbc-49ad-a925-43e92140ec8d .legends .legend:hover text{fill:#666}#chart-2174551d-7cbc-49ad-a925-43e92140ec8d .axis .line{stroke:#666}#chart-2174551d-7cbc-49ad-a925-43e92140ec8d .axis .guide.line{stroke:#222222}#chart-2174551d-7cbc-49ad-a925-43e92140ec8d .axis .major.line{stroke:#333333}#chart-2174551d-7cbc-49ad-a925-43e92140ec8d .axis text.major{stroke:#666;fill:#666}#chart-2174551d-7cbc-49ad-a925-43e92140ec8d .axis.y .guides:hover .guide.line,#chart-2174551d-7cbc-49ad-a925-43e92140ec8d .line-graph .axis.x .guides:hover .guide.line,#chart-2174551d-7cbc-49ad-a925-43e92140ec8d .stackedline-graph .axis.x .guides:hover .guide.line,#chart-2174551d-7cbc-49ad-a925-43e92140ec8d .xy-graph .axis.x .guides:hover .guide.line{stroke:#666}#chart-2174551d-7cbc-49ad-a925-43e92140ec8d .axis .guides:hover text{fill:#666}#chart-2174551d-7cbc-49ad-a925-43e92140ec8d .reactive{fill-opacity:.5}#chart-2174551d-7cbc-49ad-a925-43e92140ec8d .reactive.active,#chart-2174551d-7cbc-49ad-a925-43e92140ec8d .active .reactive{fill-opacity:.9}#chart-2174551d-7cbc-49ad-a925-43e92140ec8d .series text{fill:#666}#chart-2174551d-7cbc-49ad-a925-43e92140ec8d .tooltip rect{fill:#fff;stroke:#666}#chart-2174551d-7cbc-49ad-a925-43e92140ec8d .tooltip text{fill:#666}#chart-2174551d-7cbc-49ad-a925-43e92140ec8d .map-element{fill:#333333;stroke:#222222 !important;opacity:.9;stroke-width:3;-webkit-transition:250ms;-moz-transition:250ms;-o-transition:250ms;transition:250ms}#chart-2174551d-7cbc-49ad-a925-43e92140ec8d .map-element:hover{opacity:1;stroke-width:10}#chart-2174551d-7cbc-49ad-a925-43e92140ec8d .color-0,#chart-2174551d-7cbc-49ad-a925-43e92140ec8d .color-0 a:visited{stroke:#7dcf30;fill:#7dcf30}#chart-2174551d-7cbc-49ad-a925-43e92140ec8d .color-1,#chart-2174551d-7cbc-49ad-a925-43e92140ec8d .color-1 a:visited{stroke:#247fab;fill:#247fab}#chart-2174551d-7cbc-49ad-a925-43e92140ec8d .color-2,#chart-2174551d-7cbc-49ad-a925-43e92140ec8d .color-2 a:visited{stroke:#97d959;fill:#97d959}#chart-2174551d-7cbc-49ad-a925-43e92140ec8d .color-3,#chart-2174551d-7cbc-49ad-a925-43e92140ec8d .color-3 a:visited{stroke:#ccc;fill:#ccc}#chart-2174551d-7cbc-49ad-a925-43e92140ec8d .color-4,#chart-2174551d-7cbc-49ad-a925-43e92140ec8d .color-4 a:visited{stroke:#579122;fill:#579122}#chart-2174551d-7cbc-49ad-a925-43e92140ec8d .color-5,#chart-2174551d-7cbc-49ad-a925-43e92140ec8d .color-5 a:visited{stroke:#ddd;fill:#ddd}#chart-2174551d-7cbc-49ad-a925-43e92140ec8d .color-6,#chart-2174551d-7cbc-49ad-a925-43e92140ec8d .color-6 a:visited{stroke:#2f9ed3;fill:#2f9ed3}#chart-2174551d-7cbc-49ad-a925-43e92140ec8d .color-7,#chart-2174551d-7cbc-49ad-a925-43e92140ec8d .color-7 a:visited{stroke:#17506c;fill:#17506c}#chart-2174551d-7cbc-49ad-a925-43e92140ec8d .color-8,#chart-2174551d-7cbc-49ad-a925-43e92140ec8d .color-8 a:visited{stroke:#7dcf30;fill:#7dcf30}#chart-2174551d-7cbc-49ad-a925-43e92140ec8d .color-9,#chart-2174551d-7cbc-49ad-a925-43e92140ec8d .color-9 a:visited{stroke:#247fab;fill:#247fab}#chart-2174551d-7cbc-49ad-a925-43e92140ec8d .color-10,#chart-2174551d-7cbc-49ad-a925-43e92140ec8d .color-10 a:visited{stroke:#97d959;fill:#97d959}#chart-2174551d-7cbc-49ad-a925-43e92140ec8d .color-11,#chart-2174551d-7cbc-49ad-a925-43e92140ec8d .color-11 a:visited{stroke:#ccc;fill:#ccc}#chart-2174551d-7cbc-49ad-a925-43e92140ec8d .color-12,#chart-2174551d-7cbc-49ad-a925-43e92140ec8d .color-12 a:visited{stroke:#579122;fill:#579122}#chart-2174551d-7cbc-49ad-a925-43e92140ec8d .color-13,#chart-2174551d-7cbc-49ad-a925-43e92140ec8d .color-13 a:visited{stroke:#ddd;fill:#ddd}#chart-2174551d-7cbc-49ad-a925-43e92140ec8d .color-14,#chart-2174551d-7cbc-49ad-a925-43e92140ec8d .color-14 a:visited{stroke:#2f9ed3;fill:#2f9ed3}#chart-2174551d-7cbc-49ad-a925-43e92140ec8d .color-15,#chart-2174551d-7cbc-49ad-a925-43e92140ec8d .color-15 a:visited{stroke:#17506c;fill:#17506c}\n",
       "#chart-2174551d-7cbc-49ad-a925-43e92140ec8d text.no_data{text-anchor:middle}#chart-2174551d-7cbc-49ad-a925-43e92140ec8d .guide.line{fill-opacity:0}#chart-2174551d-7cbc-49ad-a925-43e92140ec8d .centered{text-anchor:middle}#chart-2174551d-7cbc-49ad-a925-43e92140ec8d .title{text-anchor:middle}#chart-2174551d-7cbc-49ad-a925-43e92140ec8d .legends .legend text{fill-opacity:1}#chart-2174551d-7cbc-49ad-a925-43e92140ec8d .axis.x text{text-anchor:middle}#chart-2174551d-7cbc-49ad-a925-43e92140ec8d .axis.x:not(.web) text[transform]{text-anchor:start}#chart-2174551d-7cbc-49ad-a925-43e92140ec8d .axis.y text{text-anchor:end}#chart-2174551d-7cbc-49ad-a925-43e92140ec8d .axis.y2 text{text-anchor:start}#chart-2174551d-7cbc-49ad-a925-43e92140ec8d .axis.y .logarithmic text:not(.major),#chart-2174551d-7cbc-49ad-a925-43e92140ec8d .axis.y2 .logarithmic text:not(.major){font-size:50%}#chart-2174551d-7cbc-49ad-a925-43e92140ec8d .axis .guide.line{stroke-dasharray:4,4}#chart-2174551d-7cbc-49ad-a925-43e92140ec8d .axis .major.guide.line{stroke-dasharray:6,6}#chart-2174551d-7cbc-49ad-a925-43e92140ec8d .axis text.major{stroke-width:0.5px}#chart-2174551d-7cbc-49ad-a925-43e92140ec8d .horizontal .axis.y .guide.line,#chart-2174551d-7cbc-49ad-a925-43e92140ec8d .horizontal .axis.y2 .guide.line,#chart-2174551d-7cbc-49ad-a925-43e92140ec8d .vertical .axis.x .guide.line{opacity:0}#chart-2174551d-7cbc-49ad-a925-43e92140ec8d .horizontal .axis.always_show .guide.line,#chart-2174551d-7cbc-49ad-a925-43e92140ec8d .vertical .axis.always_show .guide.line{opacity:1 !important}#chart-2174551d-7cbc-49ad-a925-43e92140ec8d .axis.y .guides:hover .guide.line,#chart-2174551d-7cbc-49ad-a925-43e92140ec8d .axis.y2 .guides:hover .guide.line,#chart-2174551d-7cbc-49ad-a925-43e92140ec8d .axis.x .guides:hover .guide.line{opacity:1}#chart-2174551d-7cbc-49ad-a925-43e92140ec8d .axis .guides:hover text{opacity:1}#chart-2174551d-7cbc-49ad-a925-43e92140ec8d .nofill{fill:none}#chart-2174551d-7cbc-49ad-a925-43e92140ec8d .subtle-fill{fill-opacity:.2}#chart-2174551d-7cbc-49ad-a925-43e92140ec8d .dot{stroke-width:1px;fill-opacity:1}#chart-2174551d-7cbc-49ad-a925-43e92140ec8d .dot.active{stroke-width:5px}#chart-2174551d-7cbc-49ad-a925-43e92140ec8d .series text{stroke:none}#chart-2174551d-7cbc-49ad-a925-43e92140ec8d .series text.active{opacity:1}#chart-2174551d-7cbc-49ad-a925-43e92140ec8d .tooltip rect{fill-opacity:0.8}#chart-2174551d-7cbc-49ad-a925-43e92140ec8d .tooltip text{fill-opacity:1}#chart-2174551d-7cbc-49ad-a925-43e92140ec8d .tooltip text tspan.label{fill-opacity:.8}</style><script type=\"text/javascript\">window.config = {&quot;inner_radius&quot;: 0, &quot;print_values&quot;: true, &quot;tooltip_font_size&quot;: 16, &quot;y_title&quot;: null, &quot;y_labels_major&quot;: null, &quot;height&quot;: 600, &quot;legend_at_bottom&quot;: false, &quot;show_legend&quot;: true, &quot;show_dots&quot;: true, &quot;explicit_size&quot;: false, &quot;legend_font_size&quot;: 14, &quot;x_labels_major_count&quot;: null, &quot;major_label_font_size&quot;: 10, &quot;fill&quot;: false, &quot;half_pie&quot;: false, &quot;style&quot;: {&quot;opacity&quot;: &quot;.5&quot;, &quot;foreground&quot;: &quot;#333333&quot;, &quot;plot_background&quot;: &quot;#fff&quot;, &quot;foreground_light&quot;: &quot;#666&quot;, &quot;transition&quot;: &quot;250ms ease-in&quot;, &quot;foreground_dark&quot;: &quot;#222222&quot;, &quot;opacity_hover&quot;: &quot;.9&quot;, &quot;colors&quot;: [&quot;#7dcf30&quot;, &quot;#247fab&quot;, &quot;#97d959&quot;, &quot;#ccc&quot;, &quot;#579122&quot;, &quot;#ddd&quot;, &quot;#2f9ed3&quot;, &quot;#17506c&quot;], &quot;background&quot;: &quot;#fbfbfb&quot;, &quot;font_family&quot;: &quot;Helvetica&quot;}, &quot;x_title&quot;: null, &quot;zero&quot;: 0, &quot;show_minor_x_labels&quot;: true, &quot;interpolation_parameters&quot;: {}, &quot;x_labels_major&quot;: null, &quot;rounded_bars&quot;: null, &quot;label_font_size&quot;: 10, &quot;show_y_labels&quot;: true, &quot;dots_size&quot;: 2.5, &quot;show_y_guides&quot;: true, &quot;show_minor_y_labels&quot;: true, &quot;x_labels&quot;: [&quot;cell_diameter_um&quot;, &quot;spindle_length__asters_um&quot;, &quot;spindle_length_poles_um&quot;, &quot;spindle_width_um&quot;, &quot;spindle_aspect_ratio_asters_um&quot;, &quot;spindle_aspect_ratio_poles_um&quot;, &quot;astere-to-pole_distance_1_um&quot;, &quot;aster-to-pole_distance_2_um&quot;, &quot;inner_aster_diameter_1_um&quot;, &quot;inner_aster_diameter_2_um&quot;, &quot;outer_aster_diameter_1_um&quot;, &quot;outer__diameter_2_um&quot;, &quot;metaphase_plate_lengt_h_um&quot;, &quot;metaphase_plate_width_um&quot;, &quot;metaphase_plate_aspect_ratio_um&quot;, &quot;polar_body_diameter_1_um&quot;, &quot;polar_body_diameter_2_um&quot;, &quot;distance_between_chromosomes_um&quot;], &quot;value_font_size&quot;: 8, &quot;x_label_rotation&quot;: 0, &quot;disable_xml_declaration&quot;: false, &quot;strict&quot;: false, &quot;css&quot;: [&quot;style.css&quot;, &quot;graph.css&quot;], &quot;title_font_size&quot;: 16, &quot;show_only_major_dots&quot;: false, &quot;human_readable&quot;: false, &quot;show_x_guides&quot;: false, &quot;spacing&quot;: 10, &quot;y_label_rotation&quot;: 0, &quot;pretty_print&quot;: false, &quot;tooltip_border_radius&quot;: 0, &quot;interpolate&quot;: null, &quot;js&quot;: [&quot;http://kozea.github.com/pygal.js/javascripts/svg.jquery.js&quot;, &quot;http://kozea.github.com/pygal.js/javascripts/pygal-tooltips.js&quot;], &quot;y_labels&quot;: null, &quot;y_labels_major_every&quot;: null, &quot;interpolation_precision&quot;: 250, &quot;value_formatter&quot;: null, &quot;no_data_font_size&quot;: 64, &quot;logarithmic&quot;: false, &quot;width&quot;: 800, &quot;print_zeroes&quot;: false, &quot;no_data_text&quot;: &quot;No data&quot;, &quot;truncate_legend&quot;: null, &quot;x_labels_major_every&quot;: null, &quot;title&quot;: &quot;xenopus_laevis&quot;, &quot;legend_box_size&quot;: 12, &quot;no_prefix&quot;: false, &quot;stroke&quot;: true, &quot;include_x_axis&quot;: false, &quot;range&quot;: null, &quot;truncate_label&quot;: null, &quot;order_min&quot;: null, &quot;mode&quot;: null, &quot;y_labels_major_count&quot;: null, &quot;x_label_format&quot;: &quot;%Y-%m-%d %H:%M:%S.%f&quot;, &quot;margin&quot;: 20, &quot;stack_from_top&quot;: false}</script><script type=\"text/javascript\" xlink:href=\"http://kozea.github.com/pygal.js/javascripts/svg.jquery.js\"/><script type=\"text/javascript\" xlink:href=\"http://kozea.github.com/pygal.js/javascripts/pygal-tooltips.js\"/></defs><title>xenopus_laevis</title><g class=\"graph radar-graph vertical\"><rect class=\"background\" height=\"600\" width=\"800\" x=\"0\" y=\"0\"/><g class=\"plot\" transform=\"translate(128, 46)\"><rect class=\"background\" height=\"514\" width=\"651.2\" x=\"0\" y=\"0\"/><g class=\"axis y web\"><g class=\"guides\"><path class=\"guide line\" d=\"M325.600000 41.850666 L232.372731 54.825758 150.390046 92.186048 89.540267 149.425333 57.162776 219.639710 57.162776 294.360290 89.540267 364.574667 150.390046 421.813952 232.372731 459.174242 325.600000 472.149334 418.827269 459.174242 500.809954 421.813952 561.659733 364.574667 594.037224 294.360290 594.037224 219.639710 561.659733 149.425333 500.809954 92.186048 418.827269 54.825758 325.600000 41.850666 Z\"/><text class=\"\" x=\"320.6\" y=\"41.8506656946\">2.8</text></g><g class=\"guides\"><path class=\"guide line\" d=\"M325.600000 72.586285 L245.690912 83.707793 175.420039 115.730898 123.263086 164.793142 95.510951 224.976894 95.510951 289.023106 123.263086 349.206858 175.420039 398.269102 245.690912 430.292207 325.600000 441.413715 405.509088 430.292207 475.779961 398.269102 527.936914 349.206858 555.689049 289.023106 555.689049 224.976894 527.936914 164.793142 475.779961 115.730898 405.509088 83.707793 325.600000 72.586285 Z\"/><text class=\"\" x=\"320.6\" y=\"72.5862848811\">2.4</text></g><g class=\"guides\"><path class=\"major guide line\" d=\"M325.600000 103.321904 L259.009093 112.589827 200.450033 139.275749 156.985905 180.160952 133.859126 230.314079 133.859126 283.685921 156.985905 333.839048 200.450033 374.724251 259.009093 401.410173 325.600000 410.678096 392.190907 401.410173 450.749967 374.724251 494.214095 333.839048 517.340874 283.685921 517.340874 230.314079 494.214095 180.160952 450.749967 139.275749 392.190907 112.589827 325.600000 103.321904 Z\"/><text class=\"major\" x=\"320.6\" y=\"103.321904068\">2.0</text></g><g class=\"guides\"><path class=\"guide line\" d=\"M325.600000 134.057523 L272.327275 141.471862 225.480026 162.820599 190.708724 195.528762 172.207301 235.651263 172.207301 278.348737 190.708724 318.471238 225.480026 351.179401 272.327275 372.528138 325.600000 379.942477 378.872725 372.528138 425.719974 351.179401 460.491276 318.471238 478.992699 278.348737 478.992699 235.651263 460.491276 195.528762 425.719974 162.820599 378.872725 141.471862 325.600000 134.057523 Z\"/><text class=\"\" x=\"320.6\" y=\"134.057523254\">1.6</text></g><g class=\"guides\"><path class=\"guide line\" d=\"M325.600000 164.793142 L285.645456 170.353896 250.510020 186.365449 224.431543 210.896571 210.555476 240.988447 210.555476 273.011553 224.431543 303.103429 250.510020 327.634551 285.645456 343.646104 325.600000 349.206858 365.554544 343.646104 400.689980 327.634551 426.768457 303.103429 440.644524 273.011553 440.644524 240.988447 426.768457 210.896571 400.689980 186.365449 365.554544 170.353896 325.600000 164.793142 Z\"/><text class=\"\" x=\"320.6\" y=\"164.793142441\">1.2</text></g><g class=\"guides\"><path class=\"guide line\" d=\"M325.600000 195.528762 L298.963637 199.235931 275.540013 209.910299 258.154362 226.264381 248.903650 246.325631 248.903650 267.674369 258.154362 287.735619 275.540013 304.089701 298.963637 314.764069 325.600000 318.471238 352.236363 314.764069 375.659987 304.089701 393.045638 287.735619 402.296350 267.674369 402.296350 246.325631 393.045638 226.264381 375.659987 209.910299 352.236363 199.235931 325.600000 195.528762 Z\"/><text class=\"\" x=\"320.6\" y=\"195.528761627\">0.8</text></g><g class=\"guides\"><path class=\"guide line\" d=\"M325.600000 226.264381 L312.281819 228.117965 300.570007 233.455150 291.877181 241.632190 287.251825 251.662816 287.251825 262.337184 291.877181 272.367810 300.570007 280.544850 312.281819 285.882035 325.600000 287.735619 338.918181 285.882035 350.629993 280.544850 359.322819 272.367810 363.948175 262.337184 363.948175 251.662816 359.322819 241.632190 350.629993 233.455150 338.918181 228.117965 325.600000 226.264381 Z\"/><text class=\"\" x=\"320.6\" y=\"226.264380814\">0.4</text></g><g class=\"guides\"><path class=\"major guide line\" d=\"M325.600000 257.000000 L325.600000 257.000000 325.600000 257.000000 325.600000 257.000000 325.600000 257.000000 325.600000 257.000000 325.600000 257.000000 325.600000 257.000000 325.600000 257.000000 325.600000 257.000000 325.600000 257.000000 325.600000 257.000000 325.600000 257.000000 325.600000 257.000000 325.600000 257.000000 325.600000 257.000000 325.600000 257.000000 325.600000 257.000000 325.600000 257.000000 Z\"/><text class=\"major\" x=\"320.6\" y=\"257.0\">0.0</text></g></g><g class=\"axis x web\"><g class=\"guides\"><path class=\"line\" d=\"M325.600000 257.000000 L325.600000 19.037037\"/><text class=\"\" transform=\"rotate(0.000000 325.600000 5.140000)\" x=\"325.6\" y=\"5.14\">cell_diameter_um</text></g><g class=\"guides\"><path class=\"line\" d=\"M325.600000 257.000000 L222.487260 33.387960\"/><text class=\"\" transform=\"rotate(-20.000000 216.465477 20.329017)\" x=\"216.465476506\" y=\"20.3290165289\">spindle_length__asters_um</text></g><g class=\"guides\"><path class=\"line\" d=\"M325.600000 257.000000 L131.811439 74.709795\"/><text class=\"\" transform=\"rotate(-40.000000 120.494187 64.064047)\" x=\"120.4941872\" y=\"64.0640465561\">spindle_length_poles_um</text></g><g class=\"guides\"><path class=\"line\" d=\"M325.600000 257.000000 L64.509378 138.018519\"/><text class=\"\" transform=\"rotate(-60.000000 49.261686 131.070000)\" x=\"49.2616859572\" y=\"131.07\">spindle_width_um</text></g><g class=\"guides\"><path class=\"line\" d=\"M325.600000 257.000000 L28.698700 215.678165\"/><text class=\"\" transform=\"rotate(-80.000000 11.359664 213.264970)\" x=\"11.3596637068\" y=\"213.264969973\">spindle_aspect_ratio_asters_um</text></g><g class=\"guides\"><path class=\"line\" d=\"M325.600000 257.000000 L28.698700 298.321835\"/><text class=\"\" transform=\"rotate(-280.000000 11.359664 300.735030)\" x=\"11.3596637068\" y=\"300.735030027\">spindle_aspect_ratio_poles_um</text></g><g class=\"guides\"><path class=\"line\" d=\"M325.600000 257.000000 L64.509378 375.981481\"/><text class=\"\" transform=\"rotate(-300.000000 49.261686 382.930000)\" x=\"49.2616859572\" y=\"382.93\">astere-to-pole_distance_1_um</text></g><g class=\"guides\"><path class=\"line\" d=\"M325.600000 257.000000 L131.811439 439.290205\"/><text class=\"\" transform=\"rotate(-320.000000 120.494187 449.935953)\" x=\"120.4941872\" y=\"449.935953444\">aster-to-pole_distance_2_um</text></g><g class=\"guides\"><path class=\"line\" d=\"M325.600000 257.000000 L222.487260 480.612040\"/><text class=\"\" transform=\"rotate(-340.000000 216.465477 493.670983)\" x=\"216.465476506\" y=\"493.670983471\">inner_aster_diameter_1_um</text></g><g class=\"guides\"><path class=\"line\" d=\"M325.600000 257.000000 L325.600000 494.962963\"/><text class=\"\" transform=\"rotate(-360.000000 325.600000 508.860000)\" x=\"325.6\" y=\"508.86\">inner_aster_diameter_2_um</text></g><g class=\"guides\"><path class=\"line\" d=\"M325.600000 257.000000 L428.712740 480.612040\"/><text class=\"\" transform=\"rotate(-380.000000 434.734523 493.670983)\" x=\"434.734523494\" y=\"493.670983471\">outer_aster_diameter_1_um</text></g><g class=\"guides\"><path class=\"line\" d=\"M325.600000 257.000000 L519.388561 439.290205\"/><text class=\"\" transform=\"rotate(-400.000000 530.705813 449.935953)\" x=\"530.7058128\" y=\"449.935953444\">outer__diameter_2_um</text></g><g class=\"guides\"><path class=\"line\" d=\"M325.600000 257.000000 L586.690622 375.981481\"/><text class=\"\" transform=\"rotate(-420.000000 601.938314 382.930000)\" x=\"601.938314043\" y=\"382.93\">metaphase_plate_lengt_h_um</text></g><g class=\"guides\"><path class=\"line\" d=\"M325.600000 257.000000 L622.501300 298.321835\"/><text class=\"\" transform=\"rotate(-440.000000 639.840336 300.735030)\" x=\"639.840336293\" y=\"300.735030027\">metaphase_plate_width_um</text></g><g class=\"guides\"><path class=\"line\" d=\"M325.600000 257.000000 L622.501300 215.678165\"/><text class=\"\" transform=\"rotate(-280.000000 639.840336 213.264970)\" x=\"639.840336293\" y=\"213.264969973\">metaphase_plate_aspect_ratio_um</text></g><g class=\"guides\"><path class=\"line\" d=\"M325.600000 257.000000 L586.690622 138.018519\"/><text class=\"\" transform=\"rotate(-300.000000 601.938314 131.070000)\" x=\"601.938314043\" y=\"131.07\">polar_body_diameter_1_um</text></g><g class=\"guides\"><path class=\"line\" d=\"M325.600000 257.000000 L519.388561 74.709795\"/><text class=\"\" transform=\"rotate(-320.000000 530.705813 64.064047)\" x=\"530.7058128\" y=\"64.0640465561\">polar_body_diameter_2_um</text></g><g class=\"guides\"><path class=\"line\" d=\"M325.600000 257.000000 L428.712740 33.387960\"/><text class=\"\" transform=\"rotate(-340.000000 434.734523 20.329017)\" x=\"434.734523494\" y=\"20.3290165289\">distance_between_chromosomes_um</text></g></g><g class=\"series serie-0 color-0\"><path class=\"line reactive nofill\" d=\"M325.600000 20.807588 L276.597101 150.731480 233.504675 170.369108 226.529005 211.852405 296.770588 252.987609 296.770588 261.012391 325.600000 257.000000 325.600000 257.000000 325.600000 257.000000 325.600000 257.000000 342.973290 294.676011 325.600000 257.000000 426.642043 303.045821 401.146793 267.514377 368.652380 251.008099 418.691662 214.577244 385.429308 200.720637 325.600000 257.000000 Z\"/></g><g class=\"series serie-1 color-1\"><path class=\"line reactive nofill\" d=\"M325.600000 19.037037 L261.031855 116.976423 219.252977 156.963029 219.282705 208.550197 259.420355 247.789315 281.896015 263.082590 247.989732 292.367738 264.207527 314.749778 279.832806 356.251515 325.600000 360.227448 391.503896 399.920310 449.838029 373.866423 436.584043 307.576485 400.067138 267.364113 380.729763 249.327204 430.838790 209.041682 382.788966 203.204315 325.600000 257.000000 Z\"/></g></g><g class=\"titles\"><text class=\"title plot_title\" x=\"400.0\" y=\"26\">xenopus_laevis</text></g><g class=\"plot overlay\" transform=\"translate(128, 46)\"><g class=\"series serie-0 color-0\"><g class=\"dots\"><circle class=\"dot reactive tooltip-trigger\" cx=\"325.6\" cy=\"20.8075878612\" r=\"2.5\"/><desc class=\"value\">3.07385916914</desc><desc class=\"x \">325.6</desc><desc class=\"y \">20.8075878612</desc></g><g class=\"dots\"><circle class=\"dot reactive tooltip-trigger\" cx=\"276.597100828\" cy=\"150.731479566\" r=\"2.5\"/><desc class=\"value\">1.47175948105</desc><desc class=\"x \">276.597100828</desc><desc class=\"y \">150.731479566</desc></g><g class=\"dots\"><circle class=\"dot reactive tooltip-trigger\" cx=\"233.504674503\" cy=\"170.369108413\" r=\"2.5\"/><desc class=\"value\">1.47175948105</desc><desc class=\"x \">233.504674503</desc><desc class=\"y \">170.369108413</desc></g><g class=\"dots\"><circle class=\"dot reactive tooltip-trigger\" cx=\"226.529004887\" cy=\"211.852404533\" r=\"2.5\"/><desc class=\"value\">1.17512115682</desc><desc class=\"x \">226.529004887</desc><desc class=\"y \">211.852404533</desc></g><g class=\"dots\"><circle class=\"dot reactive tooltip-trigger\" cx=\"296.770588075\" cy=\"252.987608685\" r=\"2.5\"/><desc class=\"value\">0.300712219685</desc><desc class=\"x \">296.770588075</desc><desc class=\"y \">252.987608685</desc></g><g class=\"dots\"><circle class=\"dot reactive tooltip-trigger\" cx=\"296.770588075\" cy=\"261.012391315\" r=\"2.5\"/><desc class=\"value\">0.300712219685</desc><desc class=\"x top\">296.770588075</desc><desc class=\"y top\">261.012391315</desc></g><g class=\"dots\"><circle class=\"dot reactive tooltip-trigger\" cx=\"325.6\" cy=\"257.0\" r=\"2.5\"/><desc class=\"value\">0</desc><desc class=\"x \">325.6</desc><desc class=\"y \">257.0</desc></g><g class=\"dots\"><circle class=\"dot reactive tooltip-trigger\" cx=\"325.6\" cy=\"257.0\" r=\"2.5\"/><desc class=\"value\">0</desc><desc class=\"x \">325.6</desc><desc class=\"y \">257.0</desc></g><g class=\"dots\"><circle class=\"dot reactive tooltip-trigger\" cx=\"325.6\" cy=\"257.0\" r=\"2.5\"/><desc class=\"value\">0</desc><desc class=\"x \">325.6</desc><desc class=\"y \">257.0</desc></g><g class=\"dots\"><circle class=\"dot reactive tooltip-trigger\" cx=\"325.6\" cy=\"257.0\" r=\"2.5\"/><desc class=\"value\">0</desc><desc class=\"x \">325.6</desc><desc class=\"y \">257.0</desc></g><g class=\"dots\"><circle class=\"dot reactive tooltip-trigger\" cx=\"342.973289539\" cy=\"294.676011125\" r=\"2.5\"/><desc class=\"value\">0.521791649639</desc><desc class=\"x left top\">342.973289539</desc><desc class=\"y left top\">294.676011125</desc></g><g class=\"dots\"><circle class=\"dot reactive tooltip-trigger\" cx=\"325.6\" cy=\"257.0\" r=\"2.5\"/><desc class=\"value\">0</desc><desc class=\"x \">325.6</desc><desc class=\"y \">257.0</desc></g><g class=\"dots\"><circle class=\"dot reactive tooltip-trigger\" cx=\"426.642042538\" cy=\"303.04582054\" r=\"2.5\"/><desc class=\"value\">1.19850054781</desc><desc class=\"x left top\">426.642042538</desc><desc class=\"y left top\">303.04582054</desc></g><g class=\"dots\"><circle class=\"dot reactive tooltip-trigger\" cx=\"401.146793452\" cy=\"267.514376732\" r=\"2.5\"/><desc class=\"value\">0.788009273594</desc><desc class=\"x left top\">401.146793452</desc><desc class=\"y left top\">267.514376732</desc></g><g class=\"dots\"><circle class=\"dot reactive tooltip-trigger\" cx=\"368.652380154\" cy=\"251.008098511\" r=\"2.5\"/><desc class=\"value\">0.449068362291</desc><desc class=\"x left\">368.652380154</desc><desc class=\"y left\">251.008098511</desc></g><g class=\"dots\"><circle class=\"dot reactive tooltip-trigger\" cx=\"418.691661761\" cy=\"214.577243654\" r=\"2.5\"/><desc class=\"value\">1.10419786472</desc><desc class=\"x left\">418.691661761</desc><desc class=\"y left\">214.577243654</desc></g><g class=\"dots\"><circle class=\"dot reactive tooltip-trigger\" cx=\"385.429307763\" cy=\"200.720636779\" r=\"2.5\"/><desc class=\"value\">0.956121827793</desc><desc class=\"x left\">385.429307763</desc><desc class=\"y left\">200.720636779</desc></g><g class=\"dots\"><circle class=\"dot reactive tooltip-trigger\" cx=\"325.6\" cy=\"257.0\" r=\"2.5\"/><desc class=\"value\">0</desc><desc class=\"x \">325.6</desc><desc class=\"y \">257.0</desc></g></g><g class=\"series serie-1 color-1\"><g class=\"dots\"><circle class=\"dot reactive tooltip-trigger\" cx=\"325.6\" cy=\"19.037037037\" r=\"2.5\"/><desc class=\"value\">3.09690150075</desc><desc class=\"x \">325.6</desc><desc class=\"y \">19.037037037</desc></g><g class=\"dots\"><circle class=\"dot reactive tooltip-trigger\" cx=\"261.031855038\" cy=\"116.97642286\" r=\"2.5\"/><desc class=\"value\">1.93924810833</desc><desc class=\"x \">261.031855038</desc><desc class=\"y \">116.97642286</desc></g><g class=\"dots\"><circle class=\"dot reactive tooltip-trigger\" cx=\"219.252976685\" cy=\"156.96302855\" r=\"2.5\"/><desc class=\"value\">1.69951340093</desc><desc class=\"x \">219.252976685</desc><desc class=\"y \">156.96302855</desc></g><g class=\"dots\"><circle class=\"dot reactive tooltip-trigger\" cx=\"219.282705018\" cy=\"208.550196709\" r=\"2.5\"/><desc class=\"value\">1.26107245139</desc><desc class=\"x \">219.282705018</desc><desc class=\"y \">208.550196709</desc></g><g class=\"dots\"><circle class=\"dot reactive tooltip-trigger\" cx=\"259.420355097\" cy=\"247.789314984\" r=\"2.5\"/><desc class=\"value\">0.690302943696</desc><desc class=\"x \">259.420355097</desc><desc class=\"y \">247.789314984</desc></g><g class=\"dots\"><circle class=\"dot reactive tooltip-trigger\" cx=\"281.896015169\" cy=\"263.082589878\" r=\"2.5\"/><desc class=\"value\">0.455865083952</desc><desc class=\"x top\">281.896015169</desc><desc class=\"y top\">263.082589878</desc></g><g class=\"dots\"><circle class=\"dot reactive tooltip-trigger\" cx=\"247.98973196\" cy=\"292.367737869\" r=\"2.5\"/><desc class=\"value\">0.920566790076</desc><desc class=\"x top\">247.98973196</desc><desc class=\"y top\">292.367737869</desc></g><g class=\"dots\"><circle class=\"dot reactive tooltip-trigger\" cx=\"264.207527367\" cy=\"314.749778419\" r=\"2.5\"/><desc class=\"value\">0.981102495424</desc><desc class=\"x top\">264.207527367</desc><desc class=\"y top\">314.749778419</desc></g><g class=\"dots\"><circle class=\"dot reactive tooltip-trigger\" cx=\"279.832805855\" cy=\"356.251515491\" r=\"2.5\"/><desc class=\"value\">1.37457789321</desc><desc class=\"x top\">279.832805855</desc><desc class=\"y top\">356.251515491</desc></g><g class=\"dots\"><circle class=\"dot reactive tooltip-trigger\" cx=\"325.6\" cy=\"360.227448087\" r=\"2.5\"/><desc class=\"value\">1.34342435023</desc><desc class=\"x top\">325.6</desc><desc class=\"y top\">360.227448087</desc></g><g class=\"dots\"><circle class=\"dot reactive tooltip-trigger\" cx=\"391.503896424\" cy=\"399.920310474\" r=\"2.5\"/><desc class=\"value\">1.9793662424</desc><desc class=\"x left top\">391.503896424</desc><desc class=\"y left top\">399.920310474</desc></g><g class=\"dots\"><circle class=\"dot reactive tooltip-trigger\" cx=\"449.8380292\" cy=\"373.866422704\" r=\"2.5\"/><desc class=\"value\">1.98542647408</desc><desc class=\"x left top\">449.8380292</desc><desc class=\"y left top\">373.866422704</desc></g><g class=\"dots\"><circle class=\"dot reactive tooltip-trigger\" cx=\"436.584043135\" cy=\"307.576484844\" r=\"2.5\"/><desc class=\"value\">1.31642663939</desc><desc class=\"x left top\">436.584043135</desc><desc class=\"y left top\">307.576484844</desc></g><g class=\"dots\"><circle class=\"dot reactive tooltip-trigger\" cx=\"400.067137748\" cy=\"267.36411348\" r=\"2.5\"/><desc class=\"value\">0.776747661178</desc><desc class=\"x left top\">400.067137748</desc><desc class=\"y left top\">267.36411348</desc></g><g class=\"dots\"><circle class=\"dot reactive tooltip-trigger\" cx=\"380.729763302\" cy=\"249.327204452\" r=\"2.5\"/><desc class=\"value\">0.575044455868</desc><desc class=\"x left\">380.729763302</desc><desc class=\"y left\">249.327204452</desc></g><g class=\"dots\"><circle class=\"dot reactive tooltip-trigger\" cx=\"430.838789647\" cy=\"209.041681856\" r=\"2.5\"/><desc class=\"value\">1.24827986326</desc><desc class=\"x left\">430.838789647</desc><desc class=\"y left\">209.041681856</desc></g><g class=\"dots\"><circle class=\"dot reactive tooltip-trigger\" cx=\"382.788965808\" cy=\"203.204315255\" r=\"2.5\"/><desc class=\"value\">0.913926979305</desc><desc class=\"x left\">382.788965808</desc><desc class=\"y left\">203.204315255</desc></g><g class=\"dots\"><circle class=\"dot reactive tooltip-trigger\" cx=\"325.6\" cy=\"257.0\" r=\"2.5\"/><desc class=\"value\">0</desc><desc class=\"x \">325.6</desc><desc class=\"y \">257.0</desc></g></g></g><g class=\"plot text-overlay\" transform=\"translate(128, 46)\"><g class=\"series serie-0 color-0\"><text class=\"centered\" x=\"333.6\" y=\"31.4742545279\">3.07385916914</text><text class=\"centered\" x=\"284.597100828\" y=\"161.398146233\">1.47175948105</text><text class=\"centered\" x=\"241.504674503\" y=\"181.035775079\">1.47175948105</text><text class=\"centered\" x=\"234.529004887\" y=\"222.519071199\">1.17512115682</text><text class=\"centered\" x=\"304.770588075\" y=\"263.654275352\">0.300712219685</text><text class=\"centered\" x=\"304.770588075\" y=\"271.679057982\">0.300712219685</text><text class=\"centered\" x=\"333.6\" y=\"267.666666667\"/><text class=\"centered\" x=\"333.6\" y=\"267.666666667\"/><text class=\"centered\" x=\"333.6\" y=\"267.666666667\"/><text class=\"centered\" x=\"333.6\" y=\"267.666666667\"/><text class=\"centered\" x=\"350.973289539\" y=\"305.342677792\">0.521791649639</text><text class=\"centered\" x=\"333.6\" y=\"267.666666667\"/><text class=\"centered\" x=\"434.642042538\" y=\"313.712487207\">1.19850054781</text><text class=\"centered\" x=\"409.146793452\" y=\"278.181043398\">0.788009273594</text><text class=\"centered\" x=\"376.652380154\" y=\"261.674765178\">0.449068362291</text><text class=\"centered\" x=\"426.691661761\" y=\"225.243910321\">1.10419786472</text><text class=\"centered\" x=\"393.429307763\" y=\"211.387303446\">0.956121827793</text><text class=\"centered\" x=\"333.6\" y=\"267.666666667\"/></g><g class=\"series serie-1 color-1\"><text class=\"centered\" x=\"333.6\" y=\"29.7037037037\">3.09690150075</text><text class=\"centered\" x=\"269.031855038\" y=\"127.643089527\">1.93924810833</text><text class=\"centered\" x=\"227.252976685\" y=\"167.629695217\">1.69951340093</text><text class=\"centered\" x=\"227.282705018\" y=\"219.216863376\">1.26107245139</text><text class=\"centered\" x=\"267.420355097\" y=\"258.45598165\">0.690302943696</text><text class=\"centered\" x=\"289.896015169\" y=\"273.749256545\">0.455865083952</text><text class=\"centered\" x=\"255.98973196\" y=\"303.034404536\">0.920566790076</text><text class=\"centered\" x=\"272.207527367\" y=\"325.416445086\">0.981102495424</text><text class=\"centered\" x=\"287.832805855\" y=\"366.918182157\">1.37457789321</text><text class=\"centered\" x=\"333.6\" y=\"370.894114753\">1.34342435023</text><text class=\"centered\" x=\"399.503896424\" y=\"410.586977141\">1.9793662424</text><text class=\"centered\" x=\"457.8380292\" y=\"384.53308937\">1.98542647408</text><text class=\"centered\" x=\"444.584043135\" y=\"318.243151511\">1.31642663939</text><text class=\"centered\" x=\"408.067137748\" y=\"278.030780147\">0.776747661178</text><text class=\"centered\" x=\"388.729763302\" y=\"259.993871118\">0.575044455868</text><text class=\"centered\" x=\"438.838789647\" y=\"219.708348523\">1.24827986326</text><text class=\"centered\" x=\"390.788965808\" y=\"213.870981922\">0.913926979305</text><text class=\"centered\" x=\"333.6\" y=\"267.666666667\"/></g></g><g class=\"plot tooltip-overlay\" transform=\"translate(128, 46)\"><g class=\"tooltip\" style=\"opacity: 0\" transform=\"translate(0 0)\"><a><rect class=\"tooltip-box\" height=\"0\" rx=\"0\" ry=\"0\" width=\"0\"/><text class=\"text\"><tspan class=\"label\"/><tspan class=\"value\"/></text></a></g></g><g class=\"legends\" transform=\"translate(10, 56)\"><g class=\"legend reactive activate-serie\" id=\"activate-serie-0\"><rect class=\"color-0 reactive\" height=\"12\" width=\"12\" x=\"0.0\" y=\"1.0\"/><text x=\"17.0\" y=\"11.2\">meiotic</text></g><g class=\"legend reactive activate-serie\" id=\"activate-serie-1\"><rect class=\"color-1 reactive\" height=\"12\" width=\"12\" x=\"0.0\" y=\"22.0\"/><text x=\"17.0\" y=\"32.2\">mitotic</text></g></g><g class=\"legends\" transform=\"translate(790, 56)\"/></g></svg>"
      ],
      "text/plain": [
       "<IPython.core.display.SVG at 0x113ce4c90>"
      ]
     },
     "execution_count": 111,
     "metadata": {},
     "output_type": "execute_result"
    }
   ],
   "source": [
    "#try pygal\n",
    "##http://pygal.org/builtin_styles/\n",
    "#https://github.com/Kozea/pygal/blob/master/pygal/config.py\n",
    "\n",
    "#from pygal.style import LightGreenStyle #MODIFY FROM: https://github.com/Kozea/pygal/blob/master/pygal/style.py\n",
    "#modify style: http://pygal.org/custom_styles/\n",
    "\n",
    "from pygal.style import Style\n",
    "from pygal.colors import darken, lighten\n",
    "\n",
    "\n",
    "customStyle = Style(\n",
    "font_family='Helvetica',\n",
    "\n",
    "background=lighten('#f3f3f3', 3),\n",
    "plot_background='#fff',\n",
    "foreground='#333333',\n",
    "foreground_light='#666',\n",
    "foreground_dark='#222222',\n",
    "opacity='.5',\n",
    "opacity_hover='.9',\n",
    "transition='250ms ease-in',\n",
    "colors=('#7dcf30', '#247fab', lighten('#7dcf30', 10), '#ccc',\n",
    "        darken('#7dcf30', 15), '#ddd', lighten('#247fab', 10),\n",
    "        darken('#247fab', 15)))\n",
    "\n",
    "radarChart1=pygal.Radar(style= customStyle)\n",
    "radarChart1.config.title='xenopus_laevis'\n",
    "radarChart1.config.x_labels=list(means2.columns)\n",
    "radarChart1.config.width=800\n",
    "radarChart1.config.height=600\n",
    "radarChart1.config.x_label_format\n",
    "radarChart1.add('meiotic',log_means2_1)\n",
    "radarChart1.add('mitotic',log_means2_0)\n",
    "\n",
    "#http://code.activestate.com/recipes/578123-draw-svg-images-in-python-python-recipe-enhanced-v/\n",
    "SVG(radarChart1.render()) #drop: time_pf, chromosomes,genome, centrosome\n",
    "#radarChart1._repr_svg_()\n",
    "#radarChart1.x_labels"
   ]
  },
  {
   "cell_type": "markdown",
   "metadata": {},
   "source": [
    "Get R color scheme.    \n",
    "[UPDATE] 01022015: This can be done faster and cleaner with Rmagic. "
   ]
  },
  {
   "cell_type": "code",
   "execution_count": 113,
   "metadata": {
    "collapsed": false
   },
   "outputs": [],
   "source": [
    "#             asterina_miniata        caenorhabditis_elegans       cerebratulus_marginatus \n",
    "#                    \"#F8766D\"                     \"#00B0F6\"                     \"#FF6A98\" \n",
    "#           ciona_intestinalis            helobdella_robusta Strongylocentrotus_purpuratus \n",
    "#                    \"#35A2FF\"                     \"#C09B00\"                     \"#E76BF3\" \n",
    "#                urechis_caupo                xenopus_laevis         mytilus_californianus \n",
    "#                    \"#EA8331\"                     \"#7CAE00\"                     \"#9590FF\" \n",
    "#           xenopus_tropicalis                Equus_caballus                  Homo_sapiens \n",
    "#                    \"#39B600\"                     \"#A3A500\"                     \"#00BB4E\" \n",
    "#               Macaca_mulatta            Callithrix_jacchus         monodelphis_domestica \n",
    "#                    \"#FF62BC\"                     \"#00BAE0\"                     \"#00C1A3\" \n",
    "#                   sus_scrofa                  mus_musculus       drosophila_melanogaster \n",
    "#                    \"#FA62DB\"                     \"#00BF7D\"                     \"#D89000\" \n",
    "#                  danio_rerio        Clytia_hemisphaerica_1 \n",
    "#                    \"#00BAE0\"                     \"#C77CFF\" "
   ]
  },
  {
   "cell_type": "code",
   "execution_count": 114,
   "metadata": {
    "collapsed": false
   },
   "outputs": [],
   "source": [
    "color_dict={'asterina_miniata':\"#F8766D\" ,\n",
    "            'caenorhabditis_elegans':\"#00B0F6\",\n",
    "            'cerebratulus_marginatus':\"#FF6A98\",\n",
    "            'ciona_intestinalis': \"#35A2FF\",\n",
    "            'helobdella_robusta': \"#C09B00\",\n",
    "            'Strongylocentrotus_purpuratus':\"#E76BF3\",\n",
    "            'urechis_caupo':\"#EA8331\",\n",
    "            'xenopus_laevis':\"#7CAE00\",\n",
    "            'mytilus_californianus':\"#9590FF\",\n",
    "            'xenopus_tropicalis':\"#39B600\" ,\n",
    "            'Equus_caballus':\"#A3A500\",\n",
    "            'Homo_sapiens':\"#00BB4E\",\n",
    "            'Macaca_mulatta':\"#FF62BC\",\n",
    "            'Callithrix_jacchus':\"#00BAE0\",\n",
    "            'monodelphis_domestica':\"#00C1A3\",\n",
    "            'sus_scrofa':\"#FA62DB\",\n",
    "            'mus_musculus':\"#00BF7D\",\n",
    "            'drosophila_melanogaster':\"#D89000\",\n",
    "            'danio_rerio':\"#00BAE0\",\n",
    "            'Clytia_hemisphaerica_1':\"#C77CFF\" }"
   ]
  },
  {
   "cell_type": "code",
   "execution_count": 115,
   "metadata": {
    "collapsed": false
   },
   "outputs": [
    {
     "data": {
      "image/svg+xml": [
       "<svg class=\"pygal-chart\" id=\"chart-88c21d7a-293d-4b85-91e2-91c9be4dfdbd\" viewBox=\"0 0 800 600\" xmlns=\"http://www.w3.org/2000/svg\" xmlns:xlink=\"http://www.w3.org/1999/xlink\"><!--Generated with pygal 1.5.1 (etree) ©Kozea 2011-2014 on 2015-01-09--><!--http://pygal.org--><!--http://github.com/Kozea/pygal--><defs><style type=\"text/css\">#chart-88c21d7a-293d-4b85-91e2-91c9be4dfdbd .title{font-family:&quot;Helvetica&quot;;font-size:16px}#chart-88c21d7a-293d-4b85-91e2-91c9be4dfdbd .legends .legend text{font-family:&quot;Helvetica&quot;;font-size:14px}#chart-88c21d7a-293d-4b85-91e2-91c9be4dfdbd .axis text{font-family:&quot;Helvetica&quot;;font-size:10px}#chart-88c21d7a-293d-4b85-91e2-91c9be4dfdbd .axis text.major{font-family:&quot;Helvetica&quot;;font-size:10px}#chart-88c21d7a-293d-4b85-91e2-91c9be4dfdbd .series text{font-family:&quot;Helvetica&quot;;font-size:8px}#chart-88c21d7a-293d-4b85-91e2-91c9be4dfdbd .tooltip text{font-family:&quot;Helvetica&quot;;font-size:16px}#chart-88c21d7a-293d-4b85-91e2-91c9be4dfdbd text.no_data{font-size:64px}\n",
       "#chart-88c21d7a-293d-4b85-91e2-91c9be4dfdbd{background-color:#fbfbfb}#chart-88c21d7a-293d-4b85-91e2-91c9be4dfdbd path,#chart-88c21d7a-293d-4b85-91e2-91c9be4dfdbd line,#chart-88c21d7a-293d-4b85-91e2-91c9be4dfdbd rect,#chart-88c21d7a-293d-4b85-91e2-91c9be4dfdbd circle{-webkit-transition:250ms ease-in;-moz-transition:250ms ease-in;transition:250ms ease-in}#chart-88c21d7a-293d-4b85-91e2-91c9be4dfdbd .graph &gt; .background{fill:#fbfbfb}#chart-88c21d7a-293d-4b85-91e2-91c9be4dfdbd .plot &gt; .background{fill:#fff}#chart-88c21d7a-293d-4b85-91e2-91c9be4dfdbd .graph{fill:#333333}#chart-88c21d7a-293d-4b85-91e2-91c9be4dfdbd text.no_data{fill:#666}#chart-88c21d7a-293d-4b85-91e2-91c9be4dfdbd .title{fill:#666}#chart-88c21d7a-293d-4b85-91e2-91c9be4dfdbd .legends .legend text{fill:#333333}#chart-88c21d7a-293d-4b85-91e2-91c9be4dfdbd .legends .legend:hover text{fill:#666}#chart-88c21d7a-293d-4b85-91e2-91c9be4dfdbd .axis .line{stroke:#666}#chart-88c21d7a-293d-4b85-91e2-91c9be4dfdbd .axis .guide.line{stroke:#222222}#chart-88c21d7a-293d-4b85-91e2-91c9be4dfdbd .axis .major.line{stroke:#333333}#chart-88c21d7a-293d-4b85-91e2-91c9be4dfdbd .axis text.major{stroke:#666;fill:#666}#chart-88c21d7a-293d-4b85-91e2-91c9be4dfdbd .axis.y .guides:hover .guide.line,#chart-88c21d7a-293d-4b85-91e2-91c9be4dfdbd .line-graph .axis.x .guides:hover .guide.line,#chart-88c21d7a-293d-4b85-91e2-91c9be4dfdbd .stackedline-graph .axis.x .guides:hover .guide.line,#chart-88c21d7a-293d-4b85-91e2-91c9be4dfdbd .xy-graph .axis.x .guides:hover .guide.line{stroke:#666}#chart-88c21d7a-293d-4b85-91e2-91c9be4dfdbd .axis .guides:hover text{fill:#666}#chart-88c21d7a-293d-4b85-91e2-91c9be4dfdbd .reactive{fill-opacity:.5}#chart-88c21d7a-293d-4b85-91e2-91c9be4dfdbd .reactive.active,#chart-88c21d7a-293d-4b85-91e2-91c9be4dfdbd .active .reactive{fill-opacity:.9}#chart-88c21d7a-293d-4b85-91e2-91c9be4dfdbd .series text{fill:#666}#chart-88c21d7a-293d-4b85-91e2-91c9be4dfdbd .tooltip rect{fill:#fff;stroke:#666}#chart-88c21d7a-293d-4b85-91e2-91c9be4dfdbd .tooltip text{fill:#666}#chart-88c21d7a-293d-4b85-91e2-91c9be4dfdbd .map-element{fill:#333333;stroke:#222222 !important;opacity:.9;stroke-width:3;-webkit-transition:250ms;-moz-transition:250ms;-o-transition:250ms;transition:250ms}#chart-88c21d7a-293d-4b85-91e2-91c9be4dfdbd .map-element:hover{opacity:1;stroke-width:10}#chart-88c21d7a-293d-4b85-91e2-91c9be4dfdbd .color-0,#chart-88c21d7a-293d-4b85-91e2-91c9be4dfdbd .color-0 a:visited{stroke:#666666;fill:#666666}#chart-88c21d7a-293d-4b85-91e2-91c9be4dfdbd .color-1,#chart-88c21d7a-293d-4b85-91e2-91c9be4dfdbd .color-1 a:visited{stroke:#7CAE00;fill:#7CAE00}#chart-88c21d7a-293d-4b85-91e2-91c9be4dfdbd .color-2,#chart-88c21d7a-293d-4b85-91e2-91c9be4dfdbd .color-2 a:visited{stroke:#97d959;fill:#97d959}#chart-88c21d7a-293d-4b85-91e2-91c9be4dfdbd .color-3,#chart-88c21d7a-293d-4b85-91e2-91c9be4dfdbd .color-3 a:visited{stroke:#ccc;fill:#ccc}#chart-88c21d7a-293d-4b85-91e2-91c9be4dfdbd .color-4,#chart-88c21d7a-293d-4b85-91e2-91c9be4dfdbd .color-4 a:visited{stroke:#579122;fill:#579122}#chart-88c21d7a-293d-4b85-91e2-91c9be4dfdbd .color-5,#chart-88c21d7a-293d-4b85-91e2-91c9be4dfdbd .color-5 a:visited{stroke:#ddd;fill:#ddd}#chart-88c21d7a-293d-4b85-91e2-91c9be4dfdbd .color-6,#chart-88c21d7a-293d-4b85-91e2-91c9be4dfdbd .color-6 a:visited{stroke:#2f9ed3;fill:#2f9ed3}#chart-88c21d7a-293d-4b85-91e2-91c9be4dfdbd .color-7,#chart-88c21d7a-293d-4b85-91e2-91c9be4dfdbd .color-7 a:visited{stroke:#17506c;fill:#17506c}#chart-88c21d7a-293d-4b85-91e2-91c9be4dfdbd .color-8,#chart-88c21d7a-293d-4b85-91e2-91c9be4dfdbd .color-8 a:visited{stroke:#666666;fill:#666666}#chart-88c21d7a-293d-4b85-91e2-91c9be4dfdbd .color-9,#chart-88c21d7a-293d-4b85-91e2-91c9be4dfdbd .color-9 a:visited{stroke:#7CAE00;fill:#7CAE00}#chart-88c21d7a-293d-4b85-91e2-91c9be4dfdbd .color-10,#chart-88c21d7a-293d-4b85-91e2-91c9be4dfdbd .color-10 a:visited{stroke:#97d959;fill:#97d959}#chart-88c21d7a-293d-4b85-91e2-91c9be4dfdbd .color-11,#chart-88c21d7a-293d-4b85-91e2-91c9be4dfdbd .color-11 a:visited{stroke:#ccc;fill:#ccc}#chart-88c21d7a-293d-4b85-91e2-91c9be4dfdbd .color-12,#chart-88c21d7a-293d-4b85-91e2-91c9be4dfdbd .color-12 a:visited{stroke:#579122;fill:#579122}#chart-88c21d7a-293d-4b85-91e2-91c9be4dfdbd .color-13,#chart-88c21d7a-293d-4b85-91e2-91c9be4dfdbd .color-13 a:visited{stroke:#ddd;fill:#ddd}#chart-88c21d7a-293d-4b85-91e2-91c9be4dfdbd .color-14,#chart-88c21d7a-293d-4b85-91e2-91c9be4dfdbd .color-14 a:visited{stroke:#2f9ed3;fill:#2f9ed3}#chart-88c21d7a-293d-4b85-91e2-91c9be4dfdbd .color-15,#chart-88c21d7a-293d-4b85-91e2-91c9be4dfdbd .color-15 a:visited{stroke:#17506c;fill:#17506c}\n",
       "#chart-88c21d7a-293d-4b85-91e2-91c9be4dfdbd text.no_data{text-anchor:middle}#chart-88c21d7a-293d-4b85-91e2-91c9be4dfdbd .guide.line{fill-opacity:0}#chart-88c21d7a-293d-4b85-91e2-91c9be4dfdbd .centered{text-anchor:middle}#chart-88c21d7a-293d-4b85-91e2-91c9be4dfdbd .title{text-anchor:middle}#chart-88c21d7a-293d-4b85-91e2-91c9be4dfdbd .legends .legend text{fill-opacity:1}#chart-88c21d7a-293d-4b85-91e2-91c9be4dfdbd .axis.x text{text-anchor:middle}#chart-88c21d7a-293d-4b85-91e2-91c9be4dfdbd .axis.x:not(.web) text[transform]{text-anchor:start}#chart-88c21d7a-293d-4b85-91e2-91c9be4dfdbd .axis.y text{text-anchor:end}#chart-88c21d7a-293d-4b85-91e2-91c9be4dfdbd .axis.y2 text{text-anchor:start}#chart-88c21d7a-293d-4b85-91e2-91c9be4dfdbd .axis.y .logarithmic text:not(.major),#chart-88c21d7a-293d-4b85-91e2-91c9be4dfdbd .axis.y2 .logarithmic text:not(.major){font-size:50%}#chart-88c21d7a-293d-4b85-91e2-91c9be4dfdbd .axis .guide.line{stroke-dasharray:4,4}#chart-88c21d7a-293d-4b85-91e2-91c9be4dfdbd .axis .major.guide.line{stroke-dasharray:6,6}#chart-88c21d7a-293d-4b85-91e2-91c9be4dfdbd .axis text.major{stroke-width:0.5px}#chart-88c21d7a-293d-4b85-91e2-91c9be4dfdbd .horizontal .axis.y .guide.line,#chart-88c21d7a-293d-4b85-91e2-91c9be4dfdbd .horizontal .axis.y2 .guide.line,#chart-88c21d7a-293d-4b85-91e2-91c9be4dfdbd .vertical .axis.x .guide.line{opacity:0}#chart-88c21d7a-293d-4b85-91e2-91c9be4dfdbd .horizontal .axis.always_show .guide.line,#chart-88c21d7a-293d-4b85-91e2-91c9be4dfdbd .vertical .axis.always_show .guide.line{opacity:1 !important}#chart-88c21d7a-293d-4b85-91e2-91c9be4dfdbd .axis.y .guides:hover .guide.line,#chart-88c21d7a-293d-4b85-91e2-91c9be4dfdbd .axis.y2 .guides:hover .guide.line,#chart-88c21d7a-293d-4b85-91e2-91c9be4dfdbd .axis.x .guides:hover .guide.line{opacity:1}#chart-88c21d7a-293d-4b85-91e2-91c9be4dfdbd .axis .guides:hover text{opacity:1}#chart-88c21d7a-293d-4b85-91e2-91c9be4dfdbd .nofill{fill:none}#chart-88c21d7a-293d-4b85-91e2-91c9be4dfdbd .subtle-fill{fill-opacity:.2}#chart-88c21d7a-293d-4b85-91e2-91c9be4dfdbd .dot{stroke-width:1px;fill-opacity:1}#chart-88c21d7a-293d-4b85-91e2-91c9be4dfdbd .dot.active{stroke-width:5px}#chart-88c21d7a-293d-4b85-91e2-91c9be4dfdbd .series text{stroke:none}#chart-88c21d7a-293d-4b85-91e2-91c9be4dfdbd .series text.active{opacity:1}#chart-88c21d7a-293d-4b85-91e2-91c9be4dfdbd .tooltip rect{fill-opacity:0.8}#chart-88c21d7a-293d-4b85-91e2-91c9be4dfdbd .tooltip text{fill-opacity:1}#chart-88c21d7a-293d-4b85-91e2-91c9be4dfdbd .tooltip text tspan.label{fill-opacity:.8}</style><script type=\"text/javascript\">window.config = {&quot;inner_radius&quot;: 0, &quot;print_values&quot;: false, &quot;tooltip_font_size&quot;: 16, &quot;y_title&quot;: null, &quot;y_labels_major&quot;: null, &quot;height&quot;: 600, &quot;legend_at_bottom&quot;: false, &quot;show_legend&quot;: true, &quot;show_dots&quot;: true, &quot;explicit_size&quot;: false, &quot;legend_font_size&quot;: 14, &quot;x_labels_major_count&quot;: null, &quot;major_label_font_size&quot;: 10, &quot;fill&quot;: false, &quot;half_pie&quot;: false, &quot;style&quot;: {&quot;opacity&quot;: &quot;.5&quot;, &quot;foreground&quot;: &quot;#333333&quot;, &quot;plot_background&quot;: &quot;#fff&quot;, &quot;foreground_light&quot;: &quot;#666&quot;, &quot;transition&quot;: &quot;250ms ease-in&quot;, &quot;foreground_dark&quot;: &quot;#222222&quot;, &quot;opacity_hover&quot;: &quot;.9&quot;, &quot;colors&quot;: [&quot;#666666&quot;, &quot;#7CAE00&quot;, &quot;#97d959&quot;, &quot;#ccc&quot;, &quot;#579122&quot;, &quot;#ddd&quot;, &quot;#2f9ed3&quot;, &quot;#17506c&quot;], &quot;background&quot;: &quot;#fbfbfb&quot;, &quot;font_family&quot;: &quot;Helvetica&quot;}, &quot;x_title&quot;: null, &quot;zero&quot;: 0, &quot;show_minor_x_labels&quot;: true, &quot;interpolation_parameters&quot;: {}, &quot;x_labels_major&quot;: null, &quot;rounded_bars&quot;: null, &quot;label_font_size&quot;: 10, &quot;show_y_labels&quot;: true, &quot;dots_size&quot;: 2.5, &quot;show_y_guides&quot;: true, &quot;show_minor_y_labels&quot;: true, &quot;x_labels&quot;: [&quot;cell_diameter_um&quot;, &quot;spindle_length__asters_um&quot;, &quot;spindle_length_poles_um&quot;, &quot;spindle_width_um&quot;, &quot;spindle_aspect_ratio_asters_um&quot;, &quot;spindle_aspect_ratio_poles_um&quot;, &quot;astere-to-pole_distance_1_um&quot;, &quot;aster-to-pole_distance_2_um&quot;, &quot;inner_aster_diameter_1_um&quot;, &quot;inner_aster_diameter_2_um&quot;, &quot;outer_aster_diameter_1_um&quot;, &quot;outer__diameter_2_um&quot;, &quot;metaphase_plate_lengt_h_um&quot;, &quot;metaphase_plate_width_um&quot;, &quot;metaphase_plate_aspect_ratio_um&quot;, &quot;polar_body_diameter_1_um&quot;, &quot;polar_body_diameter_2_um&quot;, &quot;distance_between_chromosomes_um&quot;], &quot;value_font_size&quot;: 8, &quot;x_label_rotation&quot;: 0, &quot;disable_xml_declaration&quot;: false, &quot;strict&quot;: false, &quot;css&quot;: [&quot;style.css&quot;, &quot;graph.css&quot;], &quot;title_font_size&quot;: 16, &quot;show_only_major_dots&quot;: false, &quot;human_readable&quot;: false, &quot;show_x_guides&quot;: false, &quot;spacing&quot;: 10, &quot;y_label_rotation&quot;: 0, &quot;pretty_print&quot;: false, &quot;tooltip_border_radius&quot;: 0, &quot;interpolate&quot;: null, &quot;js&quot;: [&quot;http://kozea.github.com/pygal.js/javascripts/svg.jquery.js&quot;, &quot;http://kozea.github.com/pygal.js/javascripts/pygal-tooltips.js&quot;], &quot;y_labels&quot;: null, &quot;y_labels_major_every&quot;: null, &quot;interpolation_precision&quot;: 250, &quot;value_formatter&quot;: null, &quot;no_data_font_size&quot;: 64, &quot;logarithmic&quot;: false, &quot;width&quot;: 800, &quot;print_zeroes&quot;: false, &quot;no_data_text&quot;: &quot;No data&quot;, &quot;truncate_legend&quot;: null, &quot;x_labels_major_every&quot;: null, &quot;title&quot;: &quot;xenopus_laevis&quot;, &quot;legend_box_size&quot;: 12, &quot;no_prefix&quot;: false, &quot;stroke&quot;: true, &quot;include_x_axis&quot;: false, &quot;range&quot;: null, &quot;truncate_label&quot;: null, &quot;order_min&quot;: null, &quot;mode&quot;: null, &quot;y_labels_major_count&quot;: null, &quot;x_label_format&quot;: &quot;%Y-%m-%d %H:%M:%S.%f&quot;, &quot;margin&quot;: 20, &quot;stack_from_top&quot;: false}</script><script type=\"text/javascript\" xlink:href=\"http://kozea.github.com/pygal.js/javascripts/svg.jquery.js\"/><script type=\"text/javascript\" xlink:href=\"http://kozea.github.com/pygal.js/javascripts/pygal-tooltips.js\"/></defs><title>xenopus_laevis</title><g class=\"graph radar-graph vertical\"><rect class=\"background\" height=\"600\" width=\"800\" x=\"0\" y=\"0\"/><g class=\"plot\" transform=\"translate(128, 46)\"><rect class=\"background\" height=\"514\" width=\"651.2\" x=\"0\" y=\"0\"/><g class=\"axis y web\"><g class=\"guides\"><path class=\"guide line\" d=\"M325.600000 41.850666 L232.372731 54.825758 150.390046 92.186048 89.540267 149.425333 57.162776 219.639710 57.162776 294.360290 89.540267 364.574667 150.390046 421.813952 232.372731 459.174242 325.600000 472.149334 418.827269 459.174242 500.809954 421.813952 561.659733 364.574667 594.037224 294.360290 594.037224 219.639710 561.659733 149.425333 500.809954 92.186048 418.827269 54.825758 325.600000 41.850666 Z\"/><text class=\"\" x=\"320.6\" y=\"41.8506656946\">2.8</text></g><g class=\"guides\"><path class=\"guide line\" d=\"M325.600000 72.586285 L245.690912 83.707793 175.420039 115.730898 123.263086 164.793142 95.510951 224.976894 95.510951 289.023106 123.263086 349.206858 175.420039 398.269102 245.690912 430.292207 325.600000 441.413715 405.509088 430.292207 475.779961 398.269102 527.936914 349.206858 555.689049 289.023106 555.689049 224.976894 527.936914 164.793142 475.779961 115.730898 405.509088 83.707793 325.600000 72.586285 Z\"/><text class=\"\" x=\"320.6\" y=\"72.5862848811\">2.4</text></g><g class=\"guides\"><path class=\"major guide line\" d=\"M325.600000 103.321904 L259.009093 112.589827 200.450033 139.275749 156.985905 180.160952 133.859126 230.314079 133.859126 283.685921 156.985905 333.839048 200.450033 374.724251 259.009093 401.410173 325.600000 410.678096 392.190907 401.410173 450.749967 374.724251 494.214095 333.839048 517.340874 283.685921 517.340874 230.314079 494.214095 180.160952 450.749967 139.275749 392.190907 112.589827 325.600000 103.321904 Z\"/><text class=\"major\" x=\"320.6\" y=\"103.321904068\">2.0</text></g><g class=\"guides\"><path class=\"guide line\" d=\"M325.600000 134.057523 L272.327275 141.471862 225.480026 162.820599 190.708724 195.528762 172.207301 235.651263 172.207301 278.348737 190.708724 318.471238 225.480026 351.179401 272.327275 372.528138 325.600000 379.942477 378.872725 372.528138 425.719974 351.179401 460.491276 318.471238 478.992699 278.348737 478.992699 235.651263 460.491276 195.528762 425.719974 162.820599 378.872725 141.471862 325.600000 134.057523 Z\"/><text class=\"\" x=\"320.6\" y=\"134.057523254\">1.6</text></g><g class=\"guides\"><path class=\"guide line\" d=\"M325.600000 164.793142 L285.645456 170.353896 250.510020 186.365449 224.431543 210.896571 210.555476 240.988447 210.555476 273.011553 224.431543 303.103429 250.510020 327.634551 285.645456 343.646104 325.600000 349.206858 365.554544 343.646104 400.689980 327.634551 426.768457 303.103429 440.644524 273.011553 440.644524 240.988447 426.768457 210.896571 400.689980 186.365449 365.554544 170.353896 325.600000 164.793142 Z\"/><text class=\"\" x=\"320.6\" y=\"164.793142441\">1.2</text></g><g class=\"guides\"><path class=\"guide line\" d=\"M325.600000 195.528762 L298.963637 199.235931 275.540013 209.910299 258.154362 226.264381 248.903650 246.325631 248.903650 267.674369 258.154362 287.735619 275.540013 304.089701 298.963637 314.764069 325.600000 318.471238 352.236363 314.764069 375.659987 304.089701 393.045638 287.735619 402.296350 267.674369 402.296350 246.325631 393.045638 226.264381 375.659987 209.910299 352.236363 199.235931 325.600000 195.528762 Z\"/><text class=\"\" x=\"320.6\" y=\"195.528761627\">0.8</text></g><g class=\"guides\"><path class=\"guide line\" d=\"M325.600000 226.264381 L312.281819 228.117965 300.570007 233.455150 291.877181 241.632190 287.251825 251.662816 287.251825 262.337184 291.877181 272.367810 300.570007 280.544850 312.281819 285.882035 325.600000 287.735619 338.918181 285.882035 350.629993 280.544850 359.322819 272.367810 363.948175 262.337184 363.948175 251.662816 359.322819 241.632190 350.629993 233.455150 338.918181 228.117965 325.600000 226.264381 Z\"/><text class=\"\" x=\"320.6\" y=\"226.264380814\">0.4</text></g><g class=\"guides\"><path class=\"major guide line\" d=\"M325.600000 257.000000 L325.600000 257.000000 325.600000 257.000000 325.600000 257.000000 325.600000 257.000000 325.600000 257.000000 325.600000 257.000000 325.600000 257.000000 325.600000 257.000000 325.600000 257.000000 325.600000 257.000000 325.600000 257.000000 325.600000 257.000000 325.600000 257.000000 325.600000 257.000000 325.600000 257.000000 325.600000 257.000000 325.600000 257.000000 325.600000 257.000000 Z\"/><text class=\"major\" x=\"320.6\" y=\"257.0\">0.0</text></g></g><g class=\"axis x web\"><g class=\"guides\"><path class=\"line\" d=\"M325.600000 257.000000 L325.600000 19.037037\"/><text class=\"\" transform=\"rotate(0.000000 325.600000 5.140000)\" x=\"325.6\" y=\"5.14\">cell_diameter_um</text></g><g class=\"guides\"><path class=\"line\" d=\"M325.600000 257.000000 L222.487260 33.387960\"/><text class=\"\" transform=\"rotate(-20.000000 216.465477 20.329017)\" x=\"216.465476506\" y=\"20.3290165289\">spindle_length__asters_um</text></g><g class=\"guides\"><path class=\"line\" d=\"M325.600000 257.000000 L131.811439 74.709795\"/><text class=\"\" transform=\"rotate(-40.000000 120.494187 64.064047)\" x=\"120.4941872\" y=\"64.0640465561\">spindle_length_poles_um</text></g><g class=\"guides\"><path class=\"line\" d=\"M325.600000 257.000000 L64.509378 138.018519\"/><text class=\"\" transform=\"rotate(-60.000000 49.261686 131.070000)\" x=\"49.2616859572\" y=\"131.07\">spindle_width_um</text></g><g class=\"guides\"><path class=\"line\" d=\"M325.600000 257.000000 L28.698700 215.678165\"/><text class=\"\" transform=\"rotate(-80.000000 11.359664 213.264970)\" x=\"11.3596637068\" y=\"213.264969973\">spindle_aspect_ratio_asters_um</text></g><g class=\"guides\"><path class=\"line\" d=\"M325.600000 257.000000 L28.698700 298.321835\"/><text class=\"\" transform=\"rotate(-280.000000 11.359664 300.735030)\" x=\"11.3596637068\" y=\"300.735030027\">spindle_aspect_ratio_poles_um</text></g><g class=\"guides\"><path class=\"line\" d=\"M325.600000 257.000000 L64.509378 375.981481\"/><text class=\"\" transform=\"rotate(-300.000000 49.261686 382.930000)\" x=\"49.2616859572\" y=\"382.93\">astere-to-pole_distance_1_um</text></g><g class=\"guides\"><path class=\"line\" d=\"M325.600000 257.000000 L131.811439 439.290205\"/><text class=\"\" transform=\"rotate(-320.000000 120.494187 449.935953)\" x=\"120.4941872\" y=\"449.935953444\">aster-to-pole_distance_2_um</text></g><g class=\"guides\"><path class=\"line\" d=\"M325.600000 257.000000 L222.487260 480.612040\"/><text class=\"\" transform=\"rotate(-340.000000 216.465477 493.670983)\" x=\"216.465476506\" y=\"493.670983471\">inner_aster_diameter_1_um</text></g><g class=\"guides\"><path class=\"line\" d=\"M325.600000 257.000000 L325.600000 494.962963\"/><text class=\"\" transform=\"rotate(-360.000000 325.600000 508.860000)\" x=\"325.6\" y=\"508.86\">inner_aster_diameter_2_um</text></g><g class=\"guides\"><path class=\"line\" d=\"M325.600000 257.000000 L428.712740 480.612040\"/><text class=\"\" transform=\"rotate(-380.000000 434.734523 493.670983)\" x=\"434.734523494\" y=\"493.670983471\">outer_aster_diameter_1_um</text></g><g class=\"guides\"><path class=\"line\" d=\"M325.600000 257.000000 L519.388561 439.290205\"/><text class=\"\" transform=\"rotate(-400.000000 530.705813 449.935953)\" x=\"530.7058128\" y=\"449.935953444\">outer__diameter_2_um</text></g><g class=\"guides\"><path class=\"line\" d=\"M325.600000 257.000000 L586.690622 375.981481\"/><text class=\"\" transform=\"rotate(-420.000000 601.938314 382.930000)\" x=\"601.938314043\" y=\"382.93\">metaphase_plate_lengt_h_um</text></g><g class=\"guides\"><path class=\"line\" d=\"M325.600000 257.000000 L622.501300 298.321835\"/><text class=\"\" transform=\"rotate(-440.000000 639.840336 300.735030)\" x=\"639.840336293\" y=\"300.735030027\">metaphase_plate_width_um</text></g><g class=\"guides\"><path class=\"line\" d=\"M325.600000 257.000000 L622.501300 215.678165\"/><text class=\"\" transform=\"rotate(-280.000000 639.840336 213.264970)\" x=\"639.840336293\" y=\"213.264969973\">metaphase_plate_aspect_ratio_um</text></g><g class=\"guides\"><path class=\"line\" d=\"M325.600000 257.000000 L586.690622 138.018519\"/><text class=\"\" transform=\"rotate(-300.000000 601.938314 131.070000)\" x=\"601.938314043\" y=\"131.07\">polar_body_diameter_1_um</text></g><g class=\"guides\"><path class=\"line\" d=\"M325.600000 257.000000 L519.388561 74.709795\"/><text class=\"\" transform=\"rotate(-320.000000 530.705813 64.064047)\" x=\"530.7058128\" y=\"64.0640465561\">polar_body_diameter_2_um</text></g><g class=\"guides\"><path class=\"line\" d=\"M325.600000 257.000000 L428.712740 33.387960\"/><text class=\"\" transform=\"rotate(-340.000000 434.734523 20.329017)\" x=\"434.734523494\" y=\"20.3290165289\">distance_between_chromosomes_um</text></g></g><g class=\"series serie-0 color-0\"><path class=\"line reactive nofill\" d=\"M325.600000 20.807588 L276.597101 150.731480 233.504675 170.369108 226.529005 211.852405 296.770588 252.987609 296.770588 261.012391 325.600000 257.000000 325.600000 257.000000 325.600000 257.000000 325.600000 257.000000 342.973290 294.676011 325.600000 257.000000 426.642043 303.045821 401.146793 267.514377 368.652380 251.008099 418.691662 214.577244 385.429308 200.720637 325.600000 257.000000 Z\"/></g><g class=\"series serie-1 color-1\"><path class=\"line reactive nofill\" d=\"M325.600000 19.037037 L261.031855 116.976423 219.252977 156.963029 219.282705 208.550197 259.420355 247.789315 281.896015 263.082590 247.989732 292.367738 264.207527 314.749778 279.832806 356.251515 325.600000 360.227448 391.503896 399.920310 449.838029 373.866423 436.584043 307.576485 400.067138 267.364113 380.729763 249.327204 430.838790 209.041682 382.788966 203.204315 325.600000 257.000000 Z\"/></g></g><g class=\"titles\"><text class=\"title plot_title\" x=\"400.0\" y=\"26\">xenopus_laevis</text></g><g class=\"plot overlay\" transform=\"translate(128, 46)\"><g class=\"series serie-0 color-0\"><g class=\"dots\"><circle class=\"dot reactive tooltip-trigger\" cx=\"325.6\" cy=\"20.8075878612\" r=\"2.5\"/><desc class=\"value\">3.07385916914</desc><desc class=\"x \">325.6</desc><desc class=\"y \">20.8075878612</desc></g><g class=\"dots\"><circle class=\"dot reactive tooltip-trigger\" cx=\"276.597100828\" cy=\"150.731479566\" r=\"2.5\"/><desc class=\"value\">1.47175948105</desc><desc class=\"x \">276.597100828</desc><desc class=\"y \">150.731479566</desc></g><g class=\"dots\"><circle class=\"dot reactive tooltip-trigger\" cx=\"233.504674503\" cy=\"170.369108413\" r=\"2.5\"/><desc class=\"value\">1.47175948105</desc><desc class=\"x \">233.504674503</desc><desc class=\"y \">170.369108413</desc></g><g class=\"dots\"><circle class=\"dot reactive tooltip-trigger\" cx=\"226.529004887\" cy=\"211.852404533\" r=\"2.5\"/><desc class=\"value\">1.17512115682</desc><desc class=\"x \">226.529004887</desc><desc class=\"y \">211.852404533</desc></g><g class=\"dots\"><circle class=\"dot reactive tooltip-trigger\" cx=\"296.770588075\" cy=\"252.987608685\" r=\"2.5\"/><desc class=\"value\">0.300712219685</desc><desc class=\"x \">296.770588075</desc><desc class=\"y \">252.987608685</desc></g><g class=\"dots\"><circle class=\"dot reactive tooltip-trigger\" cx=\"296.770588075\" cy=\"261.012391315\" r=\"2.5\"/><desc class=\"value\">0.300712219685</desc><desc class=\"x top\">296.770588075</desc><desc class=\"y top\">261.012391315</desc></g><g class=\"dots\"><circle class=\"dot reactive tooltip-trigger\" cx=\"325.6\" cy=\"257.0\" r=\"2.5\"/><desc class=\"value\">0</desc><desc class=\"x \">325.6</desc><desc class=\"y \">257.0</desc></g><g class=\"dots\"><circle class=\"dot reactive tooltip-trigger\" cx=\"325.6\" cy=\"257.0\" r=\"2.5\"/><desc class=\"value\">0</desc><desc class=\"x \">325.6</desc><desc class=\"y \">257.0</desc></g><g class=\"dots\"><circle class=\"dot reactive tooltip-trigger\" cx=\"325.6\" cy=\"257.0\" r=\"2.5\"/><desc class=\"value\">0</desc><desc class=\"x \">325.6</desc><desc class=\"y \">257.0</desc></g><g class=\"dots\"><circle class=\"dot reactive tooltip-trigger\" cx=\"325.6\" cy=\"257.0\" r=\"2.5\"/><desc class=\"value\">0</desc><desc class=\"x \">325.6</desc><desc class=\"y \">257.0</desc></g><g class=\"dots\"><circle class=\"dot reactive tooltip-trigger\" cx=\"342.973289539\" cy=\"294.676011125\" r=\"2.5\"/><desc class=\"value\">0.521791649639</desc><desc class=\"x left top\">342.973289539</desc><desc class=\"y left top\">294.676011125</desc></g><g class=\"dots\"><circle class=\"dot reactive tooltip-trigger\" cx=\"325.6\" cy=\"257.0\" r=\"2.5\"/><desc class=\"value\">0</desc><desc class=\"x \">325.6</desc><desc class=\"y \">257.0</desc></g><g class=\"dots\"><circle class=\"dot reactive tooltip-trigger\" cx=\"426.642042538\" cy=\"303.04582054\" r=\"2.5\"/><desc class=\"value\">1.19850054781</desc><desc class=\"x left top\">426.642042538</desc><desc class=\"y left top\">303.04582054</desc></g><g class=\"dots\"><circle class=\"dot reactive tooltip-trigger\" cx=\"401.146793452\" cy=\"267.514376732\" r=\"2.5\"/><desc class=\"value\">0.788009273594</desc><desc class=\"x left top\">401.146793452</desc><desc class=\"y left top\">267.514376732</desc></g><g class=\"dots\"><circle class=\"dot reactive tooltip-trigger\" cx=\"368.652380154\" cy=\"251.008098511\" r=\"2.5\"/><desc class=\"value\">0.449068362291</desc><desc class=\"x left\">368.652380154</desc><desc class=\"y left\">251.008098511</desc></g><g class=\"dots\"><circle class=\"dot reactive tooltip-trigger\" cx=\"418.691661761\" cy=\"214.577243654\" r=\"2.5\"/><desc class=\"value\">1.10419786472</desc><desc class=\"x left\">418.691661761</desc><desc class=\"y left\">214.577243654</desc></g><g class=\"dots\"><circle class=\"dot reactive tooltip-trigger\" cx=\"385.429307763\" cy=\"200.720636779\" r=\"2.5\"/><desc class=\"value\">0.956121827793</desc><desc class=\"x left\">385.429307763</desc><desc class=\"y left\">200.720636779</desc></g><g class=\"dots\"><circle class=\"dot reactive tooltip-trigger\" cx=\"325.6\" cy=\"257.0\" r=\"2.5\"/><desc class=\"value\">0</desc><desc class=\"x \">325.6</desc><desc class=\"y \">257.0</desc></g></g><g class=\"series serie-1 color-1\"><g class=\"dots\"><circle class=\"dot reactive tooltip-trigger\" cx=\"325.6\" cy=\"19.037037037\" r=\"2.5\"/><desc class=\"value\">3.09690150075</desc><desc class=\"x \">325.6</desc><desc class=\"y \">19.037037037</desc></g><g class=\"dots\"><circle class=\"dot reactive tooltip-trigger\" cx=\"261.031855038\" cy=\"116.97642286\" r=\"2.5\"/><desc class=\"value\">1.93924810833</desc><desc class=\"x \">261.031855038</desc><desc class=\"y \">116.97642286</desc></g><g class=\"dots\"><circle class=\"dot reactive tooltip-trigger\" cx=\"219.252976685\" cy=\"156.96302855\" r=\"2.5\"/><desc class=\"value\">1.69951340093</desc><desc class=\"x \">219.252976685</desc><desc class=\"y \">156.96302855</desc></g><g class=\"dots\"><circle class=\"dot reactive tooltip-trigger\" cx=\"219.282705018\" cy=\"208.550196709\" r=\"2.5\"/><desc class=\"value\">1.26107245139</desc><desc class=\"x \">219.282705018</desc><desc class=\"y \">208.550196709</desc></g><g class=\"dots\"><circle class=\"dot reactive tooltip-trigger\" cx=\"259.420355097\" cy=\"247.789314984\" r=\"2.5\"/><desc class=\"value\">0.690302943696</desc><desc class=\"x \">259.420355097</desc><desc class=\"y \">247.789314984</desc></g><g class=\"dots\"><circle class=\"dot reactive tooltip-trigger\" cx=\"281.896015169\" cy=\"263.082589878\" r=\"2.5\"/><desc class=\"value\">0.455865083952</desc><desc class=\"x top\">281.896015169</desc><desc class=\"y top\">263.082589878</desc></g><g class=\"dots\"><circle class=\"dot reactive tooltip-trigger\" cx=\"247.98973196\" cy=\"292.367737869\" r=\"2.5\"/><desc class=\"value\">0.920566790076</desc><desc class=\"x top\">247.98973196</desc><desc class=\"y top\">292.367737869</desc></g><g class=\"dots\"><circle class=\"dot reactive tooltip-trigger\" cx=\"264.207527367\" cy=\"314.749778419\" r=\"2.5\"/><desc class=\"value\">0.981102495424</desc><desc class=\"x top\">264.207527367</desc><desc class=\"y top\">314.749778419</desc></g><g class=\"dots\"><circle class=\"dot reactive tooltip-trigger\" cx=\"279.832805855\" cy=\"356.251515491\" r=\"2.5\"/><desc class=\"value\">1.37457789321</desc><desc class=\"x top\">279.832805855</desc><desc class=\"y top\">356.251515491</desc></g><g class=\"dots\"><circle class=\"dot reactive tooltip-trigger\" cx=\"325.6\" cy=\"360.227448087\" r=\"2.5\"/><desc class=\"value\">1.34342435023</desc><desc class=\"x top\">325.6</desc><desc class=\"y top\">360.227448087</desc></g><g class=\"dots\"><circle class=\"dot reactive tooltip-trigger\" cx=\"391.503896424\" cy=\"399.920310474\" r=\"2.5\"/><desc class=\"value\">1.9793662424</desc><desc class=\"x left top\">391.503896424</desc><desc class=\"y left top\">399.920310474</desc></g><g class=\"dots\"><circle class=\"dot reactive tooltip-trigger\" cx=\"449.8380292\" cy=\"373.866422704\" r=\"2.5\"/><desc class=\"value\">1.98542647408</desc><desc class=\"x left top\">449.8380292</desc><desc class=\"y left top\">373.866422704</desc></g><g class=\"dots\"><circle class=\"dot reactive tooltip-trigger\" cx=\"436.584043135\" cy=\"307.576484844\" r=\"2.5\"/><desc class=\"value\">1.31642663939</desc><desc class=\"x left top\">436.584043135</desc><desc class=\"y left top\">307.576484844</desc></g><g class=\"dots\"><circle class=\"dot reactive tooltip-trigger\" cx=\"400.067137748\" cy=\"267.36411348\" r=\"2.5\"/><desc class=\"value\">0.776747661178</desc><desc class=\"x left top\">400.067137748</desc><desc class=\"y left top\">267.36411348</desc></g><g class=\"dots\"><circle class=\"dot reactive tooltip-trigger\" cx=\"380.729763302\" cy=\"249.327204452\" r=\"2.5\"/><desc class=\"value\">0.575044455868</desc><desc class=\"x left\">380.729763302</desc><desc class=\"y left\">249.327204452</desc></g><g class=\"dots\"><circle class=\"dot reactive tooltip-trigger\" cx=\"430.838789647\" cy=\"209.041681856\" r=\"2.5\"/><desc class=\"value\">1.24827986326</desc><desc class=\"x left\">430.838789647</desc><desc class=\"y left\">209.041681856</desc></g><g class=\"dots\"><circle class=\"dot reactive tooltip-trigger\" cx=\"382.788965808\" cy=\"203.204315255\" r=\"2.5\"/><desc class=\"value\">0.913926979305</desc><desc class=\"x left\">382.788965808</desc><desc class=\"y left\">203.204315255</desc></g><g class=\"dots\"><circle class=\"dot reactive tooltip-trigger\" cx=\"325.6\" cy=\"257.0\" r=\"2.5\"/><desc class=\"value\">0</desc><desc class=\"x \">325.6</desc><desc class=\"y \">257.0</desc></g></g></g><g class=\"plot text-overlay\" transform=\"translate(128, 46)\"><g class=\"series serie-0 color-0\"/><g class=\"series serie-1 color-1\"/></g><g class=\"plot tooltip-overlay\" transform=\"translate(128, 46)\"><g class=\"tooltip\" style=\"opacity: 0\" transform=\"translate(0 0)\"><a><rect class=\"tooltip-box\" height=\"0\" rx=\"0\" ry=\"0\" width=\"0\"/><text class=\"text\"><tspan class=\"label\"/><tspan class=\"value\"/></text></a></g></g><g class=\"legends\" transform=\"translate(10, 56)\"><g class=\"legend reactive activate-serie\" id=\"activate-serie-0\"><rect class=\"color-0 reactive\" height=\"12\" width=\"12\" x=\"0.0\" y=\"1.0\"/><text x=\"17.0\" y=\"11.2\">meiotic</text></g><g class=\"legend reactive activate-serie\" id=\"activate-serie-1\"><rect class=\"color-1 reactive\" height=\"12\" width=\"12\" x=\"0.0\" y=\"22.0\"/><text x=\"17.0\" y=\"32.2\">mitotic</text></g></g><g class=\"legends\" transform=\"translate(790, 56)\"/></g></svg>"
      ],
      "text/plain": [
       "<IPython.core.display.SVG at 0x113cef150>"
      ]
     },
     "execution_count": 115,
     "metadata": {},
     "output_type": "execute_result"
    }
   ],
   "source": [
    "#try pygal\n",
    "##http://pygal.org/builtin_styles/\n",
    "#https://github.com/Kozea/pygal/blob/master/pygal/config.py\n",
    "\n",
    "#from pygal.style import LightGreenStyle #MODIFY FROM: https://github.com/Kozea/pygal/blob/master/pygal/style.py\n",
    "#modify style: http://pygal.org/custom_styles/\n",
    "\n",
    "#to verify colors: \n",
    "#http://www.w3schools.com/tags/ref_colorpicker.asp\n",
    "\n",
    "from pygal.style import Style\n",
    "from pygal.colors import darken, lighten\n",
    "\n",
    "\n",
    "customStyle = Style(\n",
    "font_family='Helvetica',\n",
    "\n",
    "background=lighten('#f3f3f3', 3), #outside of the plot\n",
    "plot_background='#fff', #background\n",
    "foreground='#333333', #text\n",
    "foreground_light='#666', #spikes\n",
    "foreground_dark='#222222', #internal lines\n",
    "opacity='.5',\n",
    "opacity_hover='.9',\n",
    "transition='250ms ease-in',\n",
    "colors=('#666666', '#7CAE00', lighten('#7dcf30', 10), '#ccc',\n",
    "        darken('#7dcf30', 15), '#ddd', lighten('#247fab', 10),\n",
    "        darken('#247fab', 15)))\n",
    "\n",
    "radarChart1=pygal.Radar(style= customStyle)\n",
    "#radarChart1.config.show_minor_y_labels=False\n",
    "\n",
    "radarChart1.config.print_values=False\n",
    "\n",
    "radarChart1.config.title='xenopus_laevis'\n",
    "radarChart1.config.x_labels=list(means2.columns)\n",
    "radarChart1.config.width=800\n",
    "radarChart1.config.height=600\n",
    "radarChart1.config.x_label_format\n",
    "radarChart1.add('meiotic',log_means2_1)\n",
    "radarChart1.add('mitotic',log_means2_0)\n",
    "\n",
    "#http://code.activestate.com/recipes/578123-draw-svg-images-in-python-python-recipe-enhanced-v/\n",
    "SVG(radarChart1.render()) #drop: time_pf, chromosomes,genome, centrosome\n",
    "#radarChart1._repr_svg_()\n",
    "#radarChart1.x_labels"
   ]
  },
  {
   "cell_type": "code",
   "execution_count": 116,
   "metadata": {
    "collapsed": false
   },
   "outputs": [
    {
     "data": {
      "image/svg+xml": [
       "<svg class=\"pygal-chart\" id=\"chart-4f4651ca-bd1c-4c99-8626-d670e0d4a5ce\" viewBox=\"0 0 800 600\" xmlns=\"http://www.w3.org/2000/svg\" xmlns:xlink=\"http://www.w3.org/1999/xlink\"><!--Generated with pygal 1.5.1 (etree) ©Kozea 2011-2014 on 2015-01-09--><!--http://pygal.org--><!--http://github.com/Kozea/pygal--><defs><style type=\"text/css\">#chart-4f4651ca-bd1c-4c99-8626-d670e0d4a5ce .title{font-family:&quot;Helvetica&quot;;font-size:16px}#chart-4f4651ca-bd1c-4c99-8626-d670e0d4a5ce .legends .legend text{font-family:&quot;Helvetica&quot;;font-size:14px}#chart-4f4651ca-bd1c-4c99-8626-d670e0d4a5ce .axis text{font-family:&quot;Helvetica&quot;;font-size:10px}#chart-4f4651ca-bd1c-4c99-8626-d670e0d4a5ce .axis text.major{font-family:&quot;Helvetica&quot;;font-size:10px}#chart-4f4651ca-bd1c-4c99-8626-d670e0d4a5ce .series text{font-family:&quot;Helvetica&quot;;font-size:8px}#chart-4f4651ca-bd1c-4c99-8626-d670e0d4a5ce .tooltip text{font-family:&quot;Helvetica&quot;;font-size:16px}#chart-4f4651ca-bd1c-4c99-8626-d670e0d4a5ce text.no_data{font-size:64px}\n",
       "#chart-4f4651ca-bd1c-4c99-8626-d670e0d4a5ce{background-color:#e5e5e5}#chart-4f4651ca-bd1c-4c99-8626-d670e0d4a5ce path,#chart-4f4651ca-bd1c-4c99-8626-d670e0d4a5ce line,#chart-4f4651ca-bd1c-4c99-8626-d670e0d4a5ce rect,#chart-4f4651ca-bd1c-4c99-8626-d670e0d4a5ce circle{-webkit-transition:250ms ease-in;-moz-transition:250ms ease-in;transition:250ms ease-in}#chart-4f4651ca-bd1c-4c99-8626-d670e0d4a5ce .graph &gt; .background{fill:#e5e5e5}#chart-4f4651ca-bd1c-4c99-8626-d670e0d4a5ce .plot &gt; .background{fill:#E5E5E5}#chart-4f4651ca-bd1c-4c99-8626-d670e0d4a5ce .graph{fill:#333333}#chart-4f4651ca-bd1c-4c99-8626-d670e0d4a5ce text.no_data{fill:#FFFFFF}#chart-4f4651ca-bd1c-4c99-8626-d670e0d4a5ce .title{fill:#FFFFFF}#chart-4f4651ca-bd1c-4c99-8626-d670e0d4a5ce .legends .legend text{fill:#333333}#chart-4f4651ca-bd1c-4c99-8626-d670e0d4a5ce .legends .legend:hover text{fill:#FFFFFF}#chart-4f4651ca-bd1c-4c99-8626-d670e0d4a5ce .axis .line{stroke:#FFFFFF}#chart-4f4651ca-bd1c-4c99-8626-d670e0d4a5ce .axis .guide.line{stroke:#F2F2F2}#chart-4f4651ca-bd1c-4c99-8626-d670e0d4a5ce .axis .major.line{stroke:#333333}#chart-4f4651ca-bd1c-4c99-8626-d670e0d4a5ce .axis text.major{stroke:#FFFFFF;fill:#FFFFFF}#chart-4f4651ca-bd1c-4c99-8626-d670e0d4a5ce .axis.y .guides:hover .guide.line,#chart-4f4651ca-bd1c-4c99-8626-d670e0d4a5ce .line-graph .axis.x .guides:hover .guide.line,#chart-4f4651ca-bd1c-4c99-8626-d670e0d4a5ce .stackedline-graph .axis.x .guides:hover .guide.line,#chart-4f4651ca-bd1c-4c99-8626-d670e0d4a5ce .xy-graph .axis.x .guides:hover .guide.line{stroke:#FFFFFF}#chart-4f4651ca-bd1c-4c99-8626-d670e0d4a5ce .axis .guides:hover text{fill:#FFFFFF}#chart-4f4651ca-bd1c-4c99-8626-d670e0d4a5ce .reactive{fill-opacity:.5}#chart-4f4651ca-bd1c-4c99-8626-d670e0d4a5ce .reactive.active,#chart-4f4651ca-bd1c-4c99-8626-d670e0d4a5ce .active .reactive{fill-opacity:.9}#chart-4f4651ca-bd1c-4c99-8626-d670e0d4a5ce .series text{fill:#FFFFFF}#chart-4f4651ca-bd1c-4c99-8626-d670e0d4a5ce .tooltip rect{fill:#E5E5E5;stroke:#FFFFFF}#chart-4f4651ca-bd1c-4c99-8626-d670e0d4a5ce .tooltip text{fill:#FFFFFF}#chart-4f4651ca-bd1c-4c99-8626-d670e0d4a5ce .map-element{fill:#333333;stroke:#F2F2F2 !important;opacity:.9;stroke-width:3;-webkit-transition:250ms;-moz-transition:250ms;-o-transition:250ms;transition:250ms}#chart-4f4651ca-bd1c-4c99-8626-d670e0d4a5ce .map-element:hover{opacity:1;stroke-width:10}#chart-4f4651ca-bd1c-4c99-8626-d670e0d4a5ce .color-0,#chart-4f4651ca-bd1c-4c99-8626-d670e0d4a5ce .color-0 a:visited{stroke:#666666;fill:#666666}#chart-4f4651ca-bd1c-4c99-8626-d670e0d4a5ce .color-1,#chart-4f4651ca-bd1c-4c99-8626-d670e0d4a5ce .color-1 a:visited{stroke:#7CAE00;fill:#7CAE00}#chart-4f4651ca-bd1c-4c99-8626-d670e0d4a5ce .color-2,#chart-4f4651ca-bd1c-4c99-8626-d670e0d4a5ce .color-2 a:visited{stroke:#666666;fill:#666666}#chart-4f4651ca-bd1c-4c99-8626-d670e0d4a5ce .color-3,#chart-4f4651ca-bd1c-4c99-8626-d670e0d4a5ce .color-3 a:visited{stroke:#7CAE00;fill:#7CAE00}#chart-4f4651ca-bd1c-4c99-8626-d670e0d4a5ce .color-4,#chart-4f4651ca-bd1c-4c99-8626-d670e0d4a5ce .color-4 a:visited{stroke:#666666;fill:#666666}#chart-4f4651ca-bd1c-4c99-8626-d670e0d4a5ce .color-5,#chart-4f4651ca-bd1c-4c99-8626-d670e0d4a5ce .color-5 a:visited{stroke:#7CAE00;fill:#7CAE00}#chart-4f4651ca-bd1c-4c99-8626-d670e0d4a5ce .color-6,#chart-4f4651ca-bd1c-4c99-8626-d670e0d4a5ce .color-6 a:visited{stroke:#666666;fill:#666666}#chart-4f4651ca-bd1c-4c99-8626-d670e0d4a5ce .color-7,#chart-4f4651ca-bd1c-4c99-8626-d670e0d4a5ce .color-7 a:visited{stroke:#7CAE00;fill:#7CAE00}#chart-4f4651ca-bd1c-4c99-8626-d670e0d4a5ce .color-8,#chart-4f4651ca-bd1c-4c99-8626-d670e0d4a5ce .color-8 a:visited{stroke:#666666;fill:#666666}#chart-4f4651ca-bd1c-4c99-8626-d670e0d4a5ce .color-9,#chart-4f4651ca-bd1c-4c99-8626-d670e0d4a5ce .color-9 a:visited{stroke:#7CAE00;fill:#7CAE00}#chart-4f4651ca-bd1c-4c99-8626-d670e0d4a5ce .color-10,#chart-4f4651ca-bd1c-4c99-8626-d670e0d4a5ce .color-10 a:visited{stroke:#666666;fill:#666666}#chart-4f4651ca-bd1c-4c99-8626-d670e0d4a5ce .color-11,#chart-4f4651ca-bd1c-4c99-8626-d670e0d4a5ce .color-11 a:visited{stroke:#7CAE00;fill:#7CAE00}#chart-4f4651ca-bd1c-4c99-8626-d670e0d4a5ce .color-12,#chart-4f4651ca-bd1c-4c99-8626-d670e0d4a5ce .color-12 a:visited{stroke:#666666;fill:#666666}#chart-4f4651ca-bd1c-4c99-8626-d670e0d4a5ce .color-13,#chart-4f4651ca-bd1c-4c99-8626-d670e0d4a5ce .color-13 a:visited{stroke:#7CAE00;fill:#7CAE00}#chart-4f4651ca-bd1c-4c99-8626-d670e0d4a5ce .color-14,#chart-4f4651ca-bd1c-4c99-8626-d670e0d4a5ce .color-14 a:visited{stroke:#666666;fill:#666666}#chart-4f4651ca-bd1c-4c99-8626-d670e0d4a5ce .color-15,#chart-4f4651ca-bd1c-4c99-8626-d670e0d4a5ce .color-15 a:visited{stroke:#7CAE00;fill:#7CAE00}\n",
       "#chart-4f4651ca-bd1c-4c99-8626-d670e0d4a5ce text.no_data{text-anchor:middle}#chart-4f4651ca-bd1c-4c99-8626-d670e0d4a5ce .guide.line{fill-opacity:0}#chart-4f4651ca-bd1c-4c99-8626-d670e0d4a5ce .centered{text-anchor:middle}#chart-4f4651ca-bd1c-4c99-8626-d670e0d4a5ce .title{text-anchor:middle}#chart-4f4651ca-bd1c-4c99-8626-d670e0d4a5ce .legends .legend text{fill-opacity:1}#chart-4f4651ca-bd1c-4c99-8626-d670e0d4a5ce .axis.x text{text-anchor:middle}#chart-4f4651ca-bd1c-4c99-8626-d670e0d4a5ce .axis.x:not(.web) text[transform]{text-anchor:start}#chart-4f4651ca-bd1c-4c99-8626-d670e0d4a5ce .axis.y text{text-anchor:end}#chart-4f4651ca-bd1c-4c99-8626-d670e0d4a5ce .axis.y2 text{text-anchor:start}#chart-4f4651ca-bd1c-4c99-8626-d670e0d4a5ce .axis.y .logarithmic text:not(.major),#chart-4f4651ca-bd1c-4c99-8626-d670e0d4a5ce .axis.y2 .logarithmic text:not(.major){font-size:50%}#chart-4f4651ca-bd1c-4c99-8626-d670e0d4a5ce .axis .guide.line{stroke-dasharray:4,4}#chart-4f4651ca-bd1c-4c99-8626-d670e0d4a5ce .axis .major.guide.line{stroke-dasharray:6,6}#chart-4f4651ca-bd1c-4c99-8626-d670e0d4a5ce .axis text.major{stroke-width:0.5px}#chart-4f4651ca-bd1c-4c99-8626-d670e0d4a5ce .horizontal .axis.y .guide.line,#chart-4f4651ca-bd1c-4c99-8626-d670e0d4a5ce .horizontal .axis.y2 .guide.line,#chart-4f4651ca-bd1c-4c99-8626-d670e0d4a5ce .vertical .axis.x .guide.line{opacity:0}#chart-4f4651ca-bd1c-4c99-8626-d670e0d4a5ce .horizontal .axis.always_show .guide.line,#chart-4f4651ca-bd1c-4c99-8626-d670e0d4a5ce .vertical .axis.always_show .guide.line{opacity:1 !important}#chart-4f4651ca-bd1c-4c99-8626-d670e0d4a5ce .axis.y .guides:hover .guide.line,#chart-4f4651ca-bd1c-4c99-8626-d670e0d4a5ce .axis.y2 .guides:hover .guide.line,#chart-4f4651ca-bd1c-4c99-8626-d670e0d4a5ce .axis.x .guides:hover .guide.line{opacity:1}#chart-4f4651ca-bd1c-4c99-8626-d670e0d4a5ce .axis .guides:hover text{opacity:1}#chart-4f4651ca-bd1c-4c99-8626-d670e0d4a5ce .nofill{fill:none}#chart-4f4651ca-bd1c-4c99-8626-d670e0d4a5ce .subtle-fill{fill-opacity:.2}#chart-4f4651ca-bd1c-4c99-8626-d670e0d4a5ce .dot{stroke-width:1px;fill-opacity:1}#chart-4f4651ca-bd1c-4c99-8626-d670e0d4a5ce .dot.active{stroke-width:5px}#chart-4f4651ca-bd1c-4c99-8626-d670e0d4a5ce .series text{stroke:none}#chart-4f4651ca-bd1c-4c99-8626-d670e0d4a5ce .series text.active{opacity:1}#chart-4f4651ca-bd1c-4c99-8626-d670e0d4a5ce .tooltip rect{fill-opacity:0.8}#chart-4f4651ca-bd1c-4c99-8626-d670e0d4a5ce .tooltip text{fill-opacity:1}#chart-4f4651ca-bd1c-4c99-8626-d670e0d4a5ce .tooltip text tspan.label{fill-opacity:.8}</style><script type=\"text/javascript\">window.config = {&quot;inner_radius&quot;: 0, &quot;print_values&quot;: false, &quot;tooltip_font_size&quot;: 16, &quot;y_title&quot;: null, &quot;y_labels_major&quot;: null, &quot;height&quot;: 600, &quot;legend_at_bottom&quot;: false, &quot;show_legend&quot;: true, &quot;show_dots&quot;: true, &quot;explicit_size&quot;: false, &quot;legend_font_size&quot;: 14, &quot;x_labels_major_count&quot;: null, &quot;major_label_font_size&quot;: 10, &quot;fill&quot;: false, &quot;half_pie&quot;: false, &quot;style&quot;: {&quot;opacity&quot;: &quot;.5&quot;, &quot;foreground&quot;: &quot;#333333&quot;, &quot;plot_background&quot;: &quot;#E5E5E5&quot;, &quot;foreground_light&quot;: &quot;#FFFFFF&quot;, &quot;transition&quot;: &quot;250ms ease-in&quot;, &quot;foreground_dark&quot;: &quot;#F2F2F2&quot;, &quot;opacity_hover&quot;: &quot;.9&quot;, &quot;colors&quot;: [&quot;#666666&quot;, &quot;#7CAE00&quot;], &quot;background&quot;: &quot;#e5e5e5&quot;, &quot;font_family&quot;: &quot;Helvetica&quot;}, &quot;x_title&quot;: null, &quot;zero&quot;: 0, &quot;show_minor_x_labels&quot;: true, &quot;interpolation_parameters&quot;: {}, &quot;x_labels_major&quot;: null, &quot;rounded_bars&quot;: null, &quot;label_font_size&quot;: 10, &quot;show_y_labels&quot;: false, &quot;dots_size&quot;: 2.5, &quot;show_y_guides&quot;: true, &quot;show_minor_y_labels&quot;: true, &quot;x_labels&quot;: [&quot;cell_diameter_um&quot;, &quot;spindle_length__asters_um&quot;, &quot;spindle_length_poles_um&quot;, &quot;spindle_width_um&quot;, &quot;spindle_aspect_ratio_asters_um&quot;, &quot;spindle_aspect_ratio_poles_um&quot;, &quot;astere-to-pole_distance_1_um&quot;, &quot;aster-to-pole_distance_2_um&quot;, &quot;inner_aster_diameter_1_um&quot;, &quot;inner_aster_diameter_2_um&quot;, &quot;outer_aster_diameter_1_um&quot;, &quot;outer__diameter_2_um&quot;, &quot;metaphase_plate_lengt_h_um&quot;, &quot;metaphase_plate_width_um&quot;, &quot;metaphase_plate_aspect_ratio_um&quot;, &quot;polar_body_diameter_1_um&quot;, &quot;polar_body_diameter_2_um&quot;, &quot;distance_between_chromosomes_um&quot;], &quot;value_font_size&quot;: 8, &quot;x_label_rotation&quot;: 0, &quot;disable_xml_declaration&quot;: false, &quot;strict&quot;: false, &quot;css&quot;: [&quot;style.css&quot;, &quot;graph.css&quot;], &quot;title_font_size&quot;: 16, &quot;show_only_major_dots&quot;: false, &quot;human_readable&quot;: false, &quot;show_x_guides&quot;: false, &quot;spacing&quot;: 10, &quot;y_label_rotation&quot;: 0, &quot;pretty_print&quot;: false, &quot;tooltip_border_radius&quot;: 0, &quot;interpolate&quot;: null, &quot;js&quot;: [&quot;http://kozea.github.com/pygal.js/javascripts/svg.jquery.js&quot;, &quot;http://kozea.github.com/pygal.js/javascripts/pygal-tooltips.js&quot;], &quot;y_labels&quot;: null, &quot;y_labels_major_every&quot;: null, &quot;interpolation_precision&quot;: 250, &quot;value_formatter&quot;: null, &quot;no_data_font_size&quot;: 64, &quot;logarithmic&quot;: false, &quot;width&quot;: 800, &quot;print_zeroes&quot;: false, &quot;no_data_text&quot;: &quot;No data&quot;, &quot;truncate_legend&quot;: null, &quot;x_labels_major_every&quot;: null, &quot;title&quot;: &quot;xenopus_laevis&quot;, &quot;legend_box_size&quot;: 12, &quot;no_prefix&quot;: false, &quot;stroke&quot;: true, &quot;include_x_axis&quot;: false, &quot;range&quot;: null, &quot;truncate_label&quot;: null, &quot;order_min&quot;: null, &quot;mode&quot;: null, &quot;y_labels_major_count&quot;: null, &quot;x_label_format&quot;: &quot;%Y-%m-%d %H:%M:%S.%f&quot;, &quot;margin&quot;: 20, &quot;stack_from_top&quot;: false}</script><script type=\"text/javascript\" xlink:href=\"http://kozea.github.com/pygal.js/javascripts/svg.jquery.js\"/><script type=\"text/javascript\" xlink:href=\"http://kozea.github.com/pygal.js/javascripts/pygal-tooltips.js\"/></defs><title>xenopus_laevis</title><g class=\"graph radar-graph vertical\"><rect class=\"background\" height=\"600\" width=\"800\" x=\"0\" y=\"0\"/><g class=\"plot\" transform=\"translate(100, 46)\"><rect class=\"background\" height=\"514\" width=\"679.2\" x=\"0\" y=\"0\"/><g class=\"axis y web\"><g class=\"guides\"><path class=\"guide line\" d=\"M339.600000 41.850666 L242.364187 54.825758 156.856448 92.186048 93.390279 149.425333 59.620635 219.639710 59.620635 294.360290 93.390279 364.574667 156.856448 421.813952 242.364187 459.174242 339.600000 472.149334 436.835813 459.174242 522.343552 421.813952 585.809721 364.574667 619.579365 294.360290 619.579365 219.639710 585.809721 149.425333 522.343552 92.186048 436.835813 54.825758 339.600000 41.850666 Z\"/><text class=\"\" x=\"334.6\" y=\"41.8506656946\">2.8</text></g><g class=\"guides\"><path class=\"guide line\" d=\"M339.600000 72.586285 L256.255017 83.707793 182.962670 115.730898 128.563096 164.793142 99.617687 224.976894 99.617687 289.023106 128.563096 349.206858 182.962670 398.269102 256.255017 430.292207 339.600000 441.413715 422.944983 430.292207 496.237330 398.269102 550.636904 349.206858 579.582313 289.023106 579.582313 224.976894 550.636904 164.793142 496.237330 115.730898 422.944983 83.707793 339.600000 72.586285 Z\"/><text class=\"\" x=\"334.6\" y=\"72.5862848811\">2.4</text></g><g class=\"guides\"><path class=\"major guide line\" d=\"M339.600000 103.321904 L270.145848 112.589827 209.068892 139.275749 163.735913 180.160952 139.614739 230.314079 139.614739 283.685921 163.735913 333.839048 209.068892 374.724251 270.145848 401.410173 339.600000 410.678096 409.054152 401.410173 470.131108 374.724251 515.464087 333.839048 539.585261 283.685921 539.585261 230.314079 515.464087 180.160952 470.131108 139.275749 409.054152 112.589827 339.600000 103.321904 Z\"/><text class=\"major\" x=\"334.6\" y=\"103.321904068\">2.0</text></g><g class=\"guides\"><path class=\"guide line\" d=\"M339.600000 134.057523 L284.036678 141.471862 235.175113 162.820599 198.908731 195.528762 179.611792 235.651263 179.611792 278.348737 198.908731 318.471238 235.175113 351.179401 284.036678 372.528138 339.600000 379.942477 395.163322 372.528138 444.024887 351.179401 480.291269 318.471238 499.588208 278.348737 499.588208 235.651263 480.291269 195.528762 444.024887 162.820599 395.163322 141.471862 339.600000 134.057523 Z\"/><text class=\"\" x=\"334.6\" y=\"134.057523254\">1.6</text></g><g class=\"guides\"><path class=\"guide line\" d=\"M339.600000 164.793142 L297.927509 170.353896 261.281335 186.365449 234.081548 210.896571 219.608844 240.988447 219.608844 273.011553 234.081548 303.103429 261.281335 327.634551 297.927509 343.646104 339.600000 349.206858 381.272491 343.646104 417.918665 327.634551 445.118452 303.103429 459.591156 273.011553 459.591156 240.988447 445.118452 210.896571 417.918665 186.365449 381.272491 170.353896 339.600000 164.793142 Z\"/><text class=\"\" x=\"334.6\" y=\"164.793142441\">1.2</text></g><g class=\"guides\"><path class=\"guide line\" d=\"M339.600000 195.528762 L311.818339 199.235931 287.387557 209.910299 269.254365 226.264381 259.605896 246.325631 259.605896 267.674369 269.254365 287.735619 287.387557 304.089701 311.818339 314.764069 339.600000 318.471238 367.381661 314.764069 391.812443 304.089701 409.945635 287.735619 419.594104 267.674369 419.594104 246.325631 409.945635 226.264381 391.812443 209.910299 367.381661 199.235931 339.600000 195.528762 Z\"/><text class=\"\" x=\"334.6\" y=\"195.528761627\">0.8</text></g><g class=\"guides\"><path class=\"guide line\" d=\"M339.600000 226.264381 L325.709170 228.117965 313.493778 233.455150 304.427183 241.632190 299.602948 251.662816 299.602948 262.337184 304.427183 272.367810 313.493778 280.544850 325.709170 285.882035 339.600000 287.735619 353.490830 285.882035 365.706222 280.544850 374.772817 272.367810 379.597052 262.337184 379.597052 251.662816 374.772817 241.632190 365.706222 233.455150 353.490830 228.117965 339.600000 226.264381 Z\"/><text class=\"\" x=\"334.6\" y=\"226.264380814\">0.4</text></g><g class=\"guides\"><path class=\"major guide line\" d=\"M339.600000 257.000000 L339.600000 257.000000 339.600000 257.000000 339.600000 257.000000 339.600000 257.000000 339.600000 257.000000 339.600000 257.000000 339.600000 257.000000 339.600000 257.000000 339.600000 257.000000 339.600000 257.000000 339.600000 257.000000 339.600000 257.000000 339.600000 257.000000 339.600000 257.000000 339.600000 257.000000 339.600000 257.000000 339.600000 257.000000 339.600000 257.000000 Z\"/><text class=\"major\" x=\"334.6\" y=\"257.0\">0.0</text></g></g><g class=\"axis x web\"><g class=\"guides\"><path class=\"line\" d=\"M339.600000 257.000000 L339.600000 19.037037\"/><text class=\"\" transform=\"rotate(0.000000 339.600000 5.140000)\" x=\"339.6\" y=\"5.14\">cell_diameter_um</text></g><g class=\"guides\"><path class=\"line\" d=\"M339.600000 257.000000 L232.053666 33.387960\"/><text class=\"\" transform=\"rotate(-20.000000 225.772960 20.329017)\" x=\"225.77296014\" y=\"20.3290165289\">spindle_length__asters_um</text></g><g class=\"guides\"><path class=\"line\" d=\"M339.600000 257.000000 L137.479007 74.709795\"/><text class=\"\" transform=\"rotate(-40.000000 125.675141 64.064047)\" x=\"125.675141195\" y=\"64.0640465561\">spindle_length_poles_um</text></g><g class=\"guides\"><path class=\"line\" d=\"M339.600000 257.000000 L67.283123 138.018519\"/><text class=\"\" transform=\"rotate(-60.000000 51.379817 131.070000)\" x=\"51.3798174173\" y=\"131.07\">spindle_width_um</text></g><g class=\"guides\"><path class=\"line\" d=\"M339.600000 257.000000 L29.932673 215.678165\"/><text class=\"\" transform=\"rotate(-80.000000 11.848101 213.264970)\" x=\"11.8481013355\" y=\"213.264969973\">spindle_aspect_ratio_asters_um</text></g><g class=\"guides\"><path class=\"line\" d=\"M339.600000 257.000000 L29.932673 298.321835\"/><text class=\"\" transform=\"rotate(-280.000000 11.848101 300.735030)\" x=\"11.8481013355\" y=\"300.735030027\">spindle_aspect_ratio_poles_um</text></g><g class=\"guides\"><path class=\"line\" d=\"M339.600000 257.000000 L67.283123 375.981481\"/><text class=\"\" transform=\"rotate(-300.000000 51.379817 382.930000)\" x=\"51.3798174173\" y=\"382.93\">astere-to-pole_distance_1_um</text></g><g class=\"guides\"><path class=\"line\" d=\"M339.600000 257.000000 L137.479007 439.290205\"/><text class=\"\" transform=\"rotate(-320.000000 125.675141 449.935953)\" x=\"125.675141195\" y=\"449.935953444\">aster-to-pole_distance_2_um</text></g><g class=\"guides\"><path class=\"line\" d=\"M339.600000 257.000000 L232.053666 480.612040\"/><text class=\"\" transform=\"rotate(-340.000000 225.772960 493.670983)\" x=\"225.77296014\" y=\"493.670983471\">inner_aster_diameter_1_um</text></g><g class=\"guides\"><path class=\"line\" d=\"M339.600000 257.000000 L339.600000 494.962963\"/><text class=\"\" transform=\"rotate(-360.000000 339.600000 508.860000)\" x=\"339.6\" y=\"508.86\">inner_aster_diameter_2_um</text></g><g class=\"guides\"><path class=\"line\" d=\"M339.600000 257.000000 L447.146334 480.612040\"/><text class=\"\" transform=\"rotate(-380.000000 453.427040 493.670983)\" x=\"453.42703986\" y=\"493.670983471\">outer_aster_diameter_1_um</text></g><g class=\"guides\"><path class=\"line\" d=\"M339.600000 257.000000 L541.720993 439.290205\"/><text class=\"\" transform=\"rotate(-400.000000 553.524859 449.935953)\" x=\"553.524858805\" y=\"449.935953444\">outer__diameter_2_um</text></g><g class=\"guides\"><path class=\"line\" d=\"M339.600000 257.000000 L611.916877 375.981481\"/><text class=\"\" transform=\"rotate(-420.000000 627.820183 382.930000)\" x=\"627.820182583\" y=\"382.93\">metaphase_plate_lengt_h_um</text></g><g class=\"guides\"><path class=\"line\" d=\"M339.600000 257.000000 L649.267327 298.321835\"/><text class=\"\" transform=\"rotate(-440.000000 667.351899 300.735030)\" x=\"667.351898664\" y=\"300.735030027\">metaphase_plate_width_um</text></g><g class=\"guides\"><path class=\"line\" d=\"M339.600000 257.000000 L649.267327 215.678165\"/><text class=\"\" transform=\"rotate(-280.000000 667.351899 213.264970)\" x=\"667.351898664\" y=\"213.264969973\">metaphase_plate_aspect_ratio_um</text></g><g class=\"guides\"><path class=\"line\" d=\"M339.600000 257.000000 L611.916877 138.018519\"/><text class=\"\" transform=\"rotate(-300.000000 627.820183 131.070000)\" x=\"627.820182583\" y=\"131.07\">polar_body_diameter_1_um</text></g><g class=\"guides\"><path class=\"line\" d=\"M339.600000 257.000000 L541.720993 74.709795\"/><text class=\"\" transform=\"rotate(-320.000000 553.524859 64.064047)\" x=\"553.524858805\" y=\"64.0640465561\">polar_body_diameter_2_um</text></g><g class=\"guides\"><path class=\"line\" d=\"M339.600000 257.000000 L447.146334 33.387960\"/><text class=\"\" transform=\"rotate(-340.000000 453.427040 20.329017)\" x=\"453.42703986\" y=\"20.3290165289\">distance_between_chromosomes_um</text></g></g><g class=\"series serie-0 color-0\"><path class=\"line reactive nofill\" d=\"M339.600000 20.807588 L288.490097 150.731480 243.544802 170.369108 236.269196 211.852405 309.530994 252.987609 309.530994 261.012391 339.600000 257.000000 339.600000 257.000000 339.600000 257.000000 339.600000 257.000000 357.720298 294.676011 339.600000 257.000000 444.986602 303.045821 418.395120 267.514377 384.503527 251.008099 436.694374 214.577244 402.001821 200.720637 339.600000 257.000000 Z\"/></g><g class=\"series serie-1 color-1\"><path class=\"line reactive nofill\" d=\"M339.600000 19.037037 L272.255583 116.976423 228.680316 156.963029 228.711323 208.550197 270.574793 247.789315 294.016851 263.082590 258.652681 292.367738 275.567802 314.749778 291.864929 356.251515 339.600000 360.227448 408.337602 399.920310 469.179959 373.866423 455.356084 307.576485 417.269042 267.364113 397.100208 249.327204 449.363799 209.041682 399.247951 203.204315 339.600000 257.000000 Z\"/></g></g><g class=\"titles\"><text class=\"title plot_title\" x=\"400.0\" y=\"26\">xenopus_laevis</text></g><g class=\"plot overlay\" transform=\"translate(100, 46)\"><g class=\"series serie-0 color-0\"><g class=\"dots\"><circle class=\"dot reactive tooltip-trigger\" cx=\"339.6\" cy=\"20.8075878612\" r=\"2.5\"/><desc class=\"value\">3.07385916914</desc><desc class=\"x \">339.6</desc><desc class=\"y \">20.8075878612</desc></g><g class=\"dots\"><circle class=\"dot reactive tooltip-trigger\" cx=\"288.490096564\" cy=\"150.731479566\" r=\"2.5\"/><desc class=\"value\">1.47175948105</desc><desc class=\"x \">288.490096564</desc><desc class=\"y \">150.731479566</desc></g><g class=\"dots\"><circle class=\"dot reactive tooltip-trigger\" cx=\"243.544801785\" cy=\"170.369108413\" r=\"2.5\"/><desc class=\"value\">1.47175948105</desc><desc class=\"x \">243.544801785</desc><desc class=\"y \">170.369108413</desc></g><g class=\"dots\"><circle class=\"dot reactive tooltip-trigger\" cx=\"236.269195515\" cy=\"211.852404533\" r=\"2.5\"/><desc class=\"value\">1.17512115682</desc><desc class=\"x \">236.269195515</desc><desc class=\"y \">211.852404533</desc></g><g class=\"dots\"><circle class=\"dot reactive tooltip-trigger\" cx=\"309.530994196\" cy=\"252.987608685\" r=\"2.5\"/><desc class=\"value\">0.300712219685</desc><desc class=\"x \">309.530994196</desc><desc class=\"y \">252.987608685</desc></g><g class=\"dots\"><circle class=\"dot reactive tooltip-trigger\" cx=\"309.530994196\" cy=\"261.012391315\" r=\"2.5\"/><desc class=\"value\">0.300712219685</desc><desc class=\"x top\">309.530994196</desc><desc class=\"y top\">261.012391315</desc></g><g class=\"dots\"><circle class=\"dot reactive tooltip-trigger\" cx=\"339.6\" cy=\"257.0\" r=\"2.5\"/><desc class=\"value\">0</desc><desc class=\"x \">339.6</desc><desc class=\"y \">257.0</desc></g><g class=\"dots\"><circle class=\"dot reactive tooltip-trigger\" cx=\"339.6\" cy=\"257.0\" r=\"2.5\"/><desc class=\"value\">0</desc><desc class=\"x \">339.6</desc><desc class=\"y \">257.0</desc></g><g class=\"dots\"><circle class=\"dot reactive tooltip-trigger\" cx=\"339.6\" cy=\"257.0\" r=\"2.5\"/><desc class=\"value\">0</desc><desc class=\"x \">339.6</desc><desc class=\"y \">257.0</desc></g><g class=\"dots\"><circle class=\"dot reactive tooltip-trigger\" cx=\"339.6\" cy=\"257.0\" r=\"2.5\"/><desc class=\"value\">0</desc><desc class=\"x \">339.6</desc><desc class=\"y \">257.0</desc></g><g class=\"dots\"><circle class=\"dot reactive tooltip-trigger\" cx=\"357.720298303\" cy=\"294.676011125\" r=\"2.5\"/><desc class=\"value\">0.521791649639</desc><desc class=\"x left top\">357.720298303</desc><desc class=\"y left top\">294.676011125</desc></g><g class=\"dots\"><circle class=\"dot reactive tooltip-trigger\" cx=\"339.6\" cy=\"257.0\" r=\"2.5\"/><desc class=\"value\">0</desc><desc class=\"x \">339.6</desc><desc class=\"y \">257.0</desc></g><g class=\"dots\"><circle class=\"dot reactive tooltip-trigger\" cx=\"444.986602107\" cy=\"303.04582054\" r=\"2.5\"/><desc class=\"value\">1.19850054781</desc><desc class=\"x left top\">444.986602107</desc><desc class=\"y left top\">303.04582054</desc></g><g class=\"dots\"><circle class=\"dot reactive tooltip-trigger\" cx=\"418.395119952\" cy=\"267.514376732\" r=\"2.5\"/><desc class=\"value\">0.788009273594</desc><desc class=\"x left top\">418.395119952</desc><desc class=\"y left top\">267.514376732</desc></g><g class=\"dots\"><circle class=\"dot reactive tooltip-trigger\" cx=\"384.503526721\" cy=\"251.008098511\" r=\"2.5\"/><desc class=\"value\">0.449068362291</desc><desc class=\"x left\">384.503526721</desc><desc class=\"y left\">251.008098511</desc></g><g class=\"dots\"><circle class=\"dot reactive tooltip-trigger\" cx=\"436.694374491\" cy=\"214.577243654\" r=\"2.5\"/><desc class=\"value\">1.10419786472</desc><desc class=\"x left\">436.694374491</desc><desc class=\"y left\">214.577243654</desc></g><g class=\"dots\"><circle class=\"dot reactive tooltip-trigger\" cx=\"402.001820997\" cy=\"200.720636779\" r=\"2.5\"/><desc class=\"value\">0.956121827793</desc><desc class=\"x left\">402.001820997</desc><desc class=\"y left\">200.720636779</desc></g><g class=\"dots\"><circle class=\"dot reactive tooltip-trigger\" cx=\"339.6\" cy=\"257.0\" r=\"2.5\"/><desc class=\"value\">0</desc><desc class=\"x \">339.6</desc><desc class=\"y \">257.0</desc></g></g><g class=\"series serie-1 color-1\"><g class=\"dots\"><circle class=\"dot reactive tooltip-trigger\" cx=\"339.6\" cy=\"19.037037037\" r=\"2.5\"/><desc class=\"value\">3.09690150075</desc><desc class=\"x \">339.6</desc><desc class=\"y \">19.037037037</desc></g><g class=\"dots\"><circle class=\"dot reactive tooltip-trigger\" cx=\"272.255583449\" cy=\"116.97642286\" r=\"2.5\"/><desc class=\"value\">1.93924810833</desc><desc class=\"x \">272.255583449</desc><desc class=\"y \">116.97642286</desc></g><g class=\"dots\"><circle class=\"dot reactive tooltip-trigger\" cx=\"228.680315977\" cy=\"156.96302855\" r=\"2.5\"/><desc class=\"value\">1.69951340093</desc><desc class=\"x \">228.680315977</desc><desc class=\"y \">156.96302855</desc></g><g class=\"dots\"><circle class=\"dot reactive tooltip-trigger\" cx=\"228.711322556\" cy=\"208.550196709\" r=\"2.5\"/><desc class=\"value\">1.26107245139</desc><desc class=\"x \">228.711322556</desc><desc class=\"y \">208.550196709</desc></g><g class=\"dots\"><circle class=\"dot reactive tooltip-trigger\" cx=\"270.574792969\" cy=\"247.789314984\" r=\"2.5\"/><desc class=\"value\">0.690302943696</desc><desc class=\"x \">270.574792969</desc><desc class=\"y \">247.789314984</desc></g><g class=\"dots\"><circle class=\"dot reactive tooltip-trigger\" cx=\"294.016851203\" cy=\"263.082589878\" r=\"2.5\"/><desc class=\"value\">0.455865083952</desc><desc class=\"x top\">294.016851203</desc><desc class=\"y top\">263.082589878</desc></g><g class=\"dots\"><circle class=\"dot reactive tooltip-trigger\" cx=\"258.652681122\" cy=\"292.367737869\" r=\"2.5\"/><desc class=\"value\">0.920566790076</desc><desc class=\"x top\">258.652681122</desc><desc class=\"y top\">292.367737869</desc></g><g class=\"dots\"><circle class=\"dot reactive tooltip-trigger\" cx=\"275.567801886\" cy=\"314.749778419\" r=\"2.5\"/><desc class=\"value\">0.981102495424</desc><desc class=\"x top\">275.567801886</desc><desc class=\"y top\">314.749778419</desc></g><g class=\"dots\"><circle class=\"dot reactive tooltip-trigger\" cx=\"291.864928957\" cy=\"356.251515491\" r=\"2.5\"/><desc class=\"value\">1.37457789321</desc><desc class=\"x top\">291.864928957</desc><desc class=\"y top\">356.251515491</desc></g><g class=\"dots\"><circle class=\"dot reactive tooltip-trigger\" cx=\"339.6\" cy=\"360.227448087\" r=\"2.5\"/><desc class=\"value\">1.34342435023</desc><desc class=\"x top\">339.6</desc><desc class=\"y top\">360.227448087</desc></g><g class=\"dots\"><circle class=\"dot reactive tooltip-trigger\" cx=\"408.337602044\" cy=\"399.920310474\" r=\"2.5\"/><desc class=\"value\">1.9793662424</desc><desc class=\"x left top\">408.337602044</desc><desc class=\"y left top\">399.920310474</desc></g><g class=\"dots\"><circle class=\"dot reactive tooltip-trigger\" cx=\"469.179959202\" cy=\"373.866422704\" r=\"2.5\"/><desc class=\"value\">1.98542647408</desc><desc class=\"x left top\">469.179959202</desc><desc class=\"y left top\">373.866422704</desc></g><g class=\"dots\"><circle class=\"dot reactive tooltip-trigger\" cx=\"455.356084302\" cy=\"307.576484844\" r=\"2.5\"/><desc class=\"value\">1.31642663939</desc><desc class=\"x left top\">455.356084302</desc><desc class=\"y left top\">307.576484844</desc></g><g class=\"dots\"><circle class=\"dot reactive tooltip-trigger\" cx=\"417.269041706\" cy=\"267.36411348\" r=\"2.5\"/><desc class=\"value\">0.776747661178</desc><desc class=\"x left top\">417.269041706</desc><desc class=\"y left top\">267.36411348</desc></g><g class=\"dots\"><circle class=\"dot reactive tooltip-trigger\" cx=\"397.100207671\" cy=\"249.327204452\" r=\"2.5\"/><desc class=\"value\">0.575044455868</desc><desc class=\"x left\">397.100207671</desc><desc class=\"y left\">249.327204452</desc></g><g class=\"dots\"><circle class=\"dot reactive tooltip-trigger\" cx=\"449.36379903\" cy=\"209.041681856\" r=\"2.5\"/><desc class=\"value\">1.24827986326</desc><desc class=\"x left\">449.36379903</desc><desc class=\"y left\">209.041681856</desc></g><g class=\"dots\"><circle class=\"dot reactive tooltip-trigger\" cx=\"399.247950825\" cy=\"203.204315255\" r=\"2.5\"/><desc class=\"value\">0.913926979305</desc><desc class=\"x left\">399.247950825</desc><desc class=\"y left\">203.204315255</desc></g><g class=\"dots\"><circle class=\"dot reactive tooltip-trigger\" cx=\"339.6\" cy=\"257.0\" r=\"2.5\"/><desc class=\"value\">0</desc><desc class=\"x \">339.6</desc><desc class=\"y \">257.0</desc></g></g></g><g class=\"plot text-overlay\" transform=\"translate(100, 46)\"><g class=\"series serie-0 color-0\"/><g class=\"series serie-1 color-1\"/></g><g class=\"plot tooltip-overlay\" transform=\"translate(100, 46)\"><g class=\"tooltip\" style=\"opacity: 0\" transform=\"translate(0 0)\"><a><rect class=\"tooltip-box\" height=\"0\" rx=\"0\" ry=\"0\" width=\"0\"/><text class=\"text\"><tspan class=\"label\"/><tspan class=\"value\"/></text></a></g></g><g class=\"legends\" transform=\"translate(10, 56)\"><g class=\"legend reactive activate-serie\" id=\"activate-serie-0\"><rect class=\"color-0 reactive\" height=\"12\" width=\"12\" x=\"0.0\" y=\"1.0\"/><text x=\"17.0\" y=\"11.2\">meiotic</text></g><g class=\"legend reactive activate-serie\" id=\"activate-serie-1\"><rect class=\"color-1 reactive\" height=\"12\" width=\"12\" x=\"0.0\" y=\"22.0\"/><text x=\"17.0\" y=\"32.2\">mitotic</text></g></g><g class=\"legends\" transform=\"translate(790, 56)\"/></g></svg>"
      ],
      "text/plain": [
       "<IPython.core.display.SVG at 0x113bbf410>"
      ]
     },
     "execution_count": 116,
     "metadata": {},
     "output_type": "execute_result"
    }
   ],
   "source": [
    "#try pygal\n",
    "##http://pygal.org/builtin_styles/\n",
    "#https://github.com/Kozea/pygal/blob/master/pygal/config.py\n",
    "\n",
    "#from pygal.style import LightGreenStyle #MODIFY FROM: https://github.com/Kozea/pygal/blob/master/pygal/style.py\n",
    "#modify style: http://pygal.org/custom_styles/\n",
    "\n",
    "#to verify colors: \n",
    "#http://www.w3schools.com/tags/ref_colorpicker.asp\n",
    "\n",
    "from pygal.style import Style\n",
    "from pygal.colors import darken, lighten\n",
    "\n",
    "\n",
    "customStyle = Style(\n",
    "font_family='Helvetica',\n",
    "\n",
    "background=lighten('#E5E5E5', 0), #outside of the plot\n",
    "plot_background='#E5E5E5', #background\n",
    "foreground='#333333', #text\n",
    "foreground_light='#FFFFFF', #spikes\n",
    "foreground_dark='#F2F2F2', #internal lines\n",
    "opacity='.5',\n",
    "opacity_hover='.9',\n",
    "transition='250ms ease-in',\n",
    "colors=('#666666', color_dict['xenopus_laevis']))#, lighten('#7dcf30', 10), '#ccc',\n",
    "        #darken('#7dcf30', 15), '#ddd', lighten('#247fab', 10),\n",
    "        #darken('#247fab', 15)))\n",
    "\n",
    "radarChart1=pygal.Radar(style= customStyle)\n",
    "#radarChart1.config.show_minor_y_labels=False\n",
    "radarChart1.config.print_values=False\n",
    "radarChart1.config.show_y_labels=False\n",
    "radarChart1.config.title='xenopus_laevis'\n",
    "#radarChart1.config.title_font_size=30\n",
    "\n",
    "radarChart1.config.x_labels=list(means2.columns)\n",
    "radarChart1.config.width=800\n",
    "radarChart1.config.height=600\n",
    "radarChart1.add('meiotic',log_means2_1)\n",
    "radarChart1.add('mitotic',log_means2_0)\n",
    "\n",
    "#http://code.activestate.com/recipes/578123-draw-svg-images-in-python-python-recipe-enhanced-v/\n",
    "SVG(radarChart1.render()) #drop: time_pf, chromosomes,genome, centrosome\n",
    "#radarChart1._repr_svg_()\n",
    "#radarChart1.x_labels"
   ]
  },
  {
   "cell_type": "code",
   "execution_count": 117,
   "metadata": {
    "collapsed": false
   },
   "outputs": [],
   "source": [
    "#try pygal\n",
    "##http://pygal.org/builtin_styles/\n",
    "#https://github.com/Kozea/pygal/blob/master/pygal/config.py\n",
    "\n",
    "#from pygal.style import LightGreenStyle #MODIFY FROM: https://github.com/Kozea/pygal/blob/master/pygal/style.py\n",
    "#modify style: http://pygal.org/custom_styles/\n",
    "\n",
    "#to verify colors: \n",
    "#http://www.w3schools.com/tags/ref_colorpicker.asp\n",
    "\n",
    "from pygal.style import Style\n",
    "from pygal.colors import darken, lighten\n",
    "\n",
    "\n",
    "customStyle = Style(\n",
    "font_family='Helvetica',\n",
    "\n",
    "background=lighten('#E5E5E5', 0), #outside of the plot\n",
    "plot_background='#E5E5E5', #background\n",
    "foreground='#333333', #text\n",
    "foreground_light='#FFFFFF', #spikes\n",
    "foreground_dark='#F2F2F2', #internal lines\n",
    "opacity='.5',\n",
    "opacity_hover='.9',\n",
    "transition='250ms ease-in',\n",
    "colors=('#666666', color_dict['xenopus_laevis']))#, lighten('#7dcf30', 10), '#ccc',\n",
    "        #darken('#7dcf30', 15), '#ddd', lighten('#247fab', 10),\n",
    "        #darken('#247fab', 15)))\n",
    "\n",
    "radarChart1=pygal.Radar(style= customStyle)\n",
    "#radarChart1.config.show_minor_y_labels=False\n",
    "radarChart1.config.print_values=False\n",
    "radarChart1.config.show_y_labels=False\n",
    "radarChart1.config.title='xenopus_laevis'\n",
    "#radarChart1.config.title_font_size=30\n",
    "\n",
    "radarChart1.config.x_labels=list(means2.columns)\n",
    "radarChart1.config.width=800\n",
    "radarChart1.config.height=600\n",
    "radarChart1.add('meiotic',log_means2_1)\n",
    "radarChart1.add('mitotic',log_means2_0)\n",
    "\n",
    "#http://code.activestate.com/recipes/578123-draw-svg-images-in-python-python-recipe-enhanced-v/\n",
    "#SVG(radarChart1.render()) #drop: time_pf, chromosomes,genome, centrosome\n",
    "#radarChart1._repr_svg_()\n",
    "#radarChart1.x_labels\n",
    "\n",
    "\n",
    "#http://code.activestate.com/recipes/578123-draw-svg-images-in-python-python-recipe-enhanced-v/\n",
    "#SVG(radarChart1.render()) #drop: time_pf, chromosomes,genome, centrosome\n",
    "#radarChart1._repr_svg_()\n",
    "#radarChart1.x_labels\n",
    "\n",
    "radarChart1.render_to_file('../Manuscript/Figures/F4/F4B/F4B_xenopus_laevis_arial.svg')\n",
    "\n",
    "#then: inkscape -z -D F4B_xenopus_laevis_helvetica.svg --export-eps=F4B_xenopus_laevisCLI_helvetica.eps"
   ]
  },
  {
   "cell_type": "code",
   "execution_count": 118,
   "metadata": {
    "collapsed": false
   },
   "outputs": [
    {
     "name": "stdout",
     "output_type": "stream",
     "text": [
      "W: AppleCollationOrder setting not found, using AppleLocale.\n",
      "Setting LANGSTR from AppleLocale: en\n",
      "Overriding empty LANG from /usr/share/locale/locale.alias\n",
      "Setting Language: en_US.UTF-8\n"
     ]
    }
   ],
   "source": [
    "!/Applications/Inkscape.app/Contents/Resources/bin/inkscape -z -D ../Manuscript/Figures/F4/F4B/F4B_xenopus_laevis_arial.svg --export-eps=../Manuscript/Figures/F4/F4B/F4B_xenopus_laevis_arial.eps"
   ]
  },
  {
   "cell_type": "markdown",
   "metadata": {},
   "source": [
    "### Loop over all organisms."
   ]
  },
  {
   "cell_type": "code",
   "execution_count": 119,
   "metadata": {
    "collapsed": false
   },
   "outputs": [
    {
     "data": {
      "text/html": [
       "<div style=\"max-height:1000px;max-width:1500px;overflow:auto;\">\n",
       "<table border=\"1\" class=\"dataframe\">\n",
       "  <thead>\n",
       "    <tr style=\"text-align: right;\">\n",
       "      <th></th>\n",
       "      <th></th>\n",
       "      <th>cell_diameter_um</th>\n",
       "      <th>spindle_length__asters_um</th>\n",
       "      <th>spindle_length_poles_um</th>\n",
       "      <th>spindle_width_um</th>\n",
       "      <th>spindle_aspect_ratio_asters_um</th>\n",
       "      <th>spindle_aspect_ratio_poles_um</th>\n",
       "      <th>astere-to-pole_distance_1_um</th>\n",
       "      <th>aster-to-pole_distance_2_um</th>\n",
       "      <th>inner_aster_diameter_1_um</th>\n",
       "      <th>inner_aster_diameter_2_um</th>\n",
       "      <th>outer_aster_diameter_1_um</th>\n",
       "      <th>outer__diameter_2_um</th>\n",
       "      <th>metaphase_plate_lengt_h_um</th>\n",
       "      <th>metaphase_plate_width_um</th>\n",
       "      <th>metaphase_plate_aspect_ratio_um</th>\n",
       "      <th>polar_body_diameter_1_um</th>\n",
       "      <th>polar_body_diameter_2_um</th>\n",
       "      <th>distance_between_chromosomes_um</th>\n",
       "    </tr>\n",
       "    <tr>\n",
       "      <th>organism</th>\n",
       "      <th>meiotic</th>\n",
       "      <th></th>\n",
       "      <th></th>\n",
       "      <th></th>\n",
       "      <th></th>\n",
       "      <th></th>\n",
       "      <th></th>\n",
       "      <th></th>\n",
       "      <th></th>\n",
       "      <th></th>\n",
       "      <th></th>\n",
       "      <th></th>\n",
       "      <th></th>\n",
       "      <th></th>\n",
       "      <th></th>\n",
       "      <th></th>\n",
       "      <th></th>\n",
       "      <th></th>\n",
       "      <th></th>\n",
       "    </tr>\n",
       "  </thead>\n",
       "  <tbody>\n",
       "    <tr>\n",
       "      <th rowspan=\"2\" valign=\"top\">asterina_miniata</th>\n",
       "      <th>0</th>\n",
       "      <td> 148.597495</td>\n",
       "      <td> 45.122942</td>\n",
       "      <td> 29.479782</td>\n",
       "      <td> 16.841408</td>\n",
       "      <td> 2.752330</td>\n",
       "      <td> 1.800700</td>\n",
       "      <td> 3.611328</td>\n",
       "      <td> 3.849842</td>\n",
       "      <td> 10.950803</td>\n",
       "      <td> 10.789391</td>\n",
       "      <td> 46.173089</td>\n",
       "      <td> 45.763439</td>\n",
       "      <td> 13.578616</td>\n",
       "      <td> 4.752077</td>\n",
       "      <td> 3.069286</td>\n",
       "      <td> 9.385763</td>\n",
       "      <td> 9.354763</td>\n",
       "      <td> 0.16178</td>\n",
       "    </tr>\n",
       "    <tr>\n",
       "      <th>1</th>\n",
       "      <td> 220.351184</td>\n",
       "      <td> 24.748558</td>\n",
       "      <td> 20.470540</td>\n",
       "      <td>  8.521747</td>\n",
       "      <td> 3.041225</td>\n",
       "      <td> 2.512970</td>\n",
       "      <td> 0.446234</td>\n",
       "      <td> 0.167230</td>\n",
       "      <td>  4.461345</td>\n",
       "      <td>  4.386613</td>\n",
       "      <td> 24.604797</td>\n",
       "      <td> 24.003288</td>\n",
       "      <td> 12.092656</td>\n",
       "      <td> 5.698895</td>\n",
       "      <td> 2.193964</td>\n",
       "      <td> 7.520823</td>\n",
       "      <td> 7.700000</td>\n",
       "      <td> 0.00000</td>\n",
       "    </tr>\n",
       "    <tr>\n",
       "      <th rowspan=\"2\" valign=\"top\">caenorhabditis_elegans</th>\n",
       "      <th>0</th>\n",
       "      <td>  27.133618</td>\n",
       "      <td> 10.334325</td>\n",
       "      <td>  7.754700</td>\n",
       "      <td>  4.911130</td>\n",
       "      <td> 2.160014</td>\n",
       "      <td> 1.618049</td>\n",
       "      <td> 0.000000</td>\n",
       "      <td> 0.000000</td>\n",
       "      <td>  3.044559</td>\n",
       "      <td>  2.865042</td>\n",
       "      <td> 18.822070</td>\n",
       "      <td> 19.035813</td>\n",
       "      <td>  4.782063</td>\n",
       "      <td> 1.232750</td>\n",
       "      <td> 4.149186</td>\n",
       "      <td> 2.479425</td>\n",
       "      <td> 2.166695</td>\n",
       "      <td> 0.00000</td>\n",
       "    </tr>\n",
       "    <tr>\n",
       "      <th>1</th>\n",
       "      <td>  50.805108</td>\n",
       "      <td>  8.264418</td>\n",
       "      <td>  8.264418</td>\n",
       "      <td>  5.679828</td>\n",
       "      <td> 1.482831</td>\n",
       "      <td> 1.482831</td>\n",
       "      <td> 0.000000</td>\n",
       "      <td> 0.000000</td>\n",
       "      <td>  0.000000</td>\n",
       "      <td>  0.000000</td>\n",
       "      <td>  0.000000</td>\n",
       "      <td>  0.000000</td>\n",
       "      <td>  4.209294</td>\n",
       "      <td> 2.259045</td>\n",
       "      <td> 1.873093</td>\n",
       "      <td> 3.631782</td>\n",
       "      <td> 7.700000</td>\n",
       "      <td> 0.00000</td>\n",
       "    </tr>\n",
       "    <tr>\n",
       "      <th>cerebratulus_marginatus</th>\n",
       "      <th>0</th>\n",
       "      <td>  88.954545</td>\n",
       "      <td> 40.472727</td>\n",
       "      <td> 25.163636</td>\n",
       "      <td> 15.290909</td>\n",
       "      <td> 2.657838</td>\n",
       "      <td> 1.658557</td>\n",
       "      <td> 2.300000</td>\n",
       "      <td> 2.100000</td>\n",
       "      <td> 13.581818</td>\n",
       "      <td> 13.709091</td>\n",
       "      <td> 55.100000</td>\n",
       "      <td> 55.954545</td>\n",
       "      <td> 14.427273</td>\n",
       "      <td> 3.890909</td>\n",
       "      <td> 3.803815</td>\n",
       "      <td> 7.945455</td>\n",
       "      <td> 5.445455</td>\n",
       "      <td> 0.00000</td>\n",
       "    </tr>\n",
       "  </tbody>\n",
       "</table>\n",
       "</div>"
      ],
      "text/plain": [
       "                                 cell_diameter_um  spindle_length__asters_um  \\\n",
       "organism                meiotic                                                \n",
       "asterina_miniata        0              148.597495                  45.122942   \n",
       "                        1              220.351184                  24.748558   \n",
       "caenorhabditis_elegans  0               27.133618                  10.334325   \n",
       "                        1               50.805108                   8.264418   \n",
       "cerebratulus_marginatus 0               88.954545                  40.472727   \n",
       "\n",
       "                                 spindle_length_poles_um  spindle_width_um  \\\n",
       "organism                meiotic                                              \n",
       "asterina_miniata        0                      29.479782         16.841408   \n",
       "                        1                      20.470540          8.521747   \n",
       "caenorhabditis_elegans  0                       7.754700          4.911130   \n",
       "                        1                       8.264418          5.679828   \n",
       "cerebratulus_marginatus 0                      25.163636         15.290909   \n",
       "\n",
       "                                 spindle_aspect_ratio_asters_um  \\\n",
       "organism                meiotic                                   \n",
       "asterina_miniata        0                              2.752330   \n",
       "                        1                              3.041225   \n",
       "caenorhabditis_elegans  0                              2.160014   \n",
       "                        1                              1.482831   \n",
       "cerebratulus_marginatus 0                              2.657838   \n",
       "\n",
       "                                 spindle_aspect_ratio_poles_um  \\\n",
       "organism                meiotic                                  \n",
       "asterina_miniata        0                             1.800700   \n",
       "                        1                             2.512970   \n",
       "caenorhabditis_elegans  0                             1.618049   \n",
       "                        1                             1.482831   \n",
       "cerebratulus_marginatus 0                             1.658557   \n",
       "\n",
       "                                 astere-to-pole_distance_1_um  \\\n",
       "organism                meiotic                                 \n",
       "asterina_miniata        0                            3.611328   \n",
       "                        1                            0.446234   \n",
       "caenorhabditis_elegans  0                            0.000000   \n",
       "                        1                            0.000000   \n",
       "cerebratulus_marginatus 0                            2.300000   \n",
       "\n",
       "                                 aster-to-pole_distance_2_um  \\\n",
       "organism                meiotic                                \n",
       "asterina_miniata        0                           3.849842   \n",
       "                        1                           0.167230   \n",
       "caenorhabditis_elegans  0                           0.000000   \n",
       "                        1                           0.000000   \n",
       "cerebratulus_marginatus 0                           2.100000   \n",
       "\n",
       "                                 inner_aster_diameter_1_um  \\\n",
       "organism                meiotic                              \n",
       "asterina_miniata        0                        10.950803   \n",
       "                        1                         4.461345   \n",
       "caenorhabditis_elegans  0                         3.044559   \n",
       "                        1                         0.000000   \n",
       "cerebratulus_marginatus 0                        13.581818   \n",
       "\n",
       "                                 inner_aster_diameter_2_um  \\\n",
       "organism                meiotic                              \n",
       "asterina_miniata        0                        10.789391   \n",
       "                        1                         4.386613   \n",
       "caenorhabditis_elegans  0                         2.865042   \n",
       "                        1                         0.000000   \n",
       "cerebratulus_marginatus 0                        13.709091   \n",
       "\n",
       "                                 outer_aster_diameter_1_um  \\\n",
       "organism                meiotic                              \n",
       "asterina_miniata        0                        46.173089   \n",
       "                        1                        24.604797   \n",
       "caenorhabditis_elegans  0                        18.822070   \n",
       "                        1                         0.000000   \n",
       "cerebratulus_marginatus 0                        55.100000   \n",
       "\n",
       "                                 outer__diameter_2_um  \\\n",
       "organism                meiotic                         \n",
       "asterina_miniata        0                   45.763439   \n",
       "                        1                   24.003288   \n",
       "caenorhabditis_elegans  0                   19.035813   \n",
       "                        1                    0.000000   \n",
       "cerebratulus_marginatus 0                   55.954545   \n",
       "\n",
       "                                 metaphase_plate_lengt_h_um  \\\n",
       "organism                meiotic                               \n",
       "asterina_miniata        0                         13.578616   \n",
       "                        1                         12.092656   \n",
       "caenorhabditis_elegans  0                          4.782063   \n",
       "                        1                          4.209294   \n",
       "cerebratulus_marginatus 0                         14.427273   \n",
       "\n",
       "                                 metaphase_plate_width_um  \\\n",
       "organism                meiotic                             \n",
       "asterina_miniata        0                        4.752077   \n",
       "                        1                        5.698895   \n",
       "caenorhabditis_elegans  0                        1.232750   \n",
       "                        1                        2.259045   \n",
       "cerebratulus_marginatus 0                        3.890909   \n",
       "\n",
       "                                 metaphase_plate_aspect_ratio_um  \\\n",
       "organism                meiotic                                    \n",
       "asterina_miniata        0                               3.069286   \n",
       "                        1                               2.193964   \n",
       "caenorhabditis_elegans  0                               4.149186   \n",
       "                        1                               1.873093   \n",
       "cerebratulus_marginatus 0                               3.803815   \n",
       "\n",
       "                                 polar_body_diameter_1_um  \\\n",
       "organism                meiotic                             \n",
       "asterina_miniata        0                        9.385763   \n",
       "                        1                        7.520823   \n",
       "caenorhabditis_elegans  0                        2.479425   \n",
       "                        1                        3.631782   \n",
       "cerebratulus_marginatus 0                        7.945455   \n",
       "\n",
       "                                 polar_body_diameter_2_um  \\\n",
       "organism                meiotic                             \n",
       "asterina_miniata        0                        9.354763   \n",
       "                        1                        7.700000   \n",
       "caenorhabditis_elegans  0                        2.166695   \n",
       "                        1                        7.700000   \n",
       "cerebratulus_marginatus 0                        5.445455   \n",
       "\n",
       "                                 distance_between_chromosomes_um  \n",
       "organism                meiotic                                   \n",
       "asterina_miniata        0                                0.16178  \n",
       "                        1                                0.00000  \n",
       "caenorhabditis_elegans  0                                0.00000  \n",
       "                        1                                0.00000  \n",
       "cerebratulus_marginatus 0                                0.00000  "
      ]
     },
     "execution_count": 119,
     "metadata": {},
     "output_type": "execute_result"
    }
   ],
   "source": [
    "means2.head()"
   ]
  },
  {
   "cell_type": "code",
   "execution_count": 120,
   "metadata": {
    "collapsed": false
   },
   "outputs": [
    {
     "data": {
      "text/plain": [
       "MultiIndex(levels=[[u'Callithrix_jacchus', u'Clytia_hemisphaerica_1', u'Equus_caballus', u'Homo_sapiens', u'Macaca_mulatta', u'Strongylocentrotus_purpuratus', u'asterina_miniata', u'caenorhabditis_elegans', u'cerebratulus_marginatus', u'ciona_intestinalis', u'danio_rerio', u'drosophila_melanogaster', u'helobdella_robusta', u'monodelphis_domestica', u'mus_musculus', u'mytilus_californianus', u'sus_scrofa', u'urechis_caupo', u'xenopus_laevis', u'xenopus_tropicalis'], [0, 1]],\n",
       "           labels=[[6, 6, 7, 7, 8, 8, 9, 9, 12, 12, 5, 5, 17, 17, 18, 18, 15, 19, 2, 3, 4, 0, 13, 16, 14, 14, 11, 10, 1], [0, 1, 0, 1, 0, 1, 0, 1, 0, 1, 0, 1, 0, 1, 0, 1, 1, 1, 1, 1, 1, 1, 1, 1, 0, 1, 1, 0, 1]],\n",
       "           names=[u'organism', u'meiotic'])"
      ]
     },
     "execution_count": 120,
     "metadata": {},
     "output_type": "execute_result"
    }
   ],
   "source": [
    "means2.index"
   ]
  },
  {
   "cell_type": "code",
   "execution_count": 121,
   "metadata": {
    "collapsed": false
   },
   "outputs": [
    {
     "data": {
      "text/plain": [
       "(FrozenList([u'organism', u'meiotic']), 'organism')"
      ]
     },
     "execution_count": 121,
     "metadata": {},
     "output_type": "execute_result"
    }
   ],
   "source": [
    "means2.index.names, means2.index.names[0]"
   ]
  },
  {
   "cell_type": "code",
   "execution_count": 379,
   "metadata": {
    "collapsed": false
   },
   "outputs": [
    {
     "name": "stdout",
     "output_type": "stream",
     "text": [
      "Callithrix_jacchus\n",
      "Clytia_hemisphaerica_1\n",
      "Equus_caballus\n",
      "Homo_sapiens\n",
      "Macaca_mulatta\n",
      "Strongylocentrotus_purpuratus\n",
      "asterina_miniata\n",
      "caenorhabditis_elegans\n",
      "cerebratulus_marginatus\n",
      "ciona_intestinalis\n",
      "danio_rerio\n",
      "drosophila_melanogaster\n",
      "helobdella_robusta\n",
      "monodelphis_domestica\n",
      "mus_musculus\n",
      "mytilus_californianus\n",
      "sus_scrofa\n",
      "urechis_caupo\n",
      "xenopus_laevis\n",
      "xenopus_tropicalis\n"
     ]
    }
   ],
   "source": [
    "#use for DF iteration\n",
    "for organism in means2.index.levels[0]:\n",
    "    print organism #use this as an organism"
   ]
  },
  {
   "cell_type": "code",
   "execution_count": 122,
   "metadata": {
    "collapsed": false
   },
   "outputs": [
    {
     "name": "stdout",
     "output_type": "stream",
     "text": [
      "0.161780336134 148.597494538\n",
      "0.0 220.35118375\n"
     ]
    }
   ],
   "source": [
    "print min(means2.loc['asterina_miniata',0]),max(means2.loc['asterina_miniata',0])\n",
    "print min(means2.loc['asterina_miniata',1]),max(means2.loc['asterina_miniata',1])"
   ]
  },
  {
   "cell_type": "code",
   "execution_count": 126,
   "metadata": {
    "collapsed": false
   },
   "outputs": [],
   "source": [
    "#class radarPlot\n",
    "#method 1: takes organism and the grouped data frame (put grouping as a method too?)\n",
    "def calculate_2_log10(organism):\n",
    "    log_means2_0=[np.log10(x) for x in means2.loc[organism,0].values]\n",
    "    log_means2_1=[np.log10(x) for x in means2.loc[organism,1].values]\n",
    "    return log_means2_0,log_means2_1 #mitotic, meiotic"
   ]
  },
  {
   "cell_type": "code",
   "execution_count": 130,
   "metadata": {
    "collapsed": false
   },
   "outputs": [],
   "source": [
    "#calculate_2_log10('asterina_miniata'),calculate_3_log10('asterina_miniata')"
   ]
  },
  {
   "cell_type": "code",
   "execution_count": 382,
   "metadata": {
    "collapsed": false
   },
   "outputs": [],
   "source": [
    "org=calculate_log10('asterina_miniata')"
   ]
  },
  {
   "cell_type": "code",
   "execution_count": 383,
   "metadata": {
    "collapsed": false
   },
   "outputs": [
    {
     "data": {
      "text/plain": [
       "-2.0"
      ]
     },
     "execution_count": 383,
     "metadata": {},
     "output_type": "execute_result"
    }
   ],
   "source": [
    "np.log10(0+0.01)"
   ]
  },
  {
   "cell_type": "markdown",
   "metadata": {},
   "source": [
    "### The function that plots radar/spider plots for all organisms:"
   ]
  },
  {
   "cell_type": "markdown",
   "metadata": {},
   "source": [
    "This function utilizes means2."
   ]
  },
  {
   "cell_type": "code",
   "execution_count": 135,
   "metadata": {
    "collapsed": false
   },
   "outputs": [],
   "source": [
    "#THIS SHOULD BE THE FUNCTION THAT PLOTS ALL ORGANISMS\n",
    "#try pygal\n",
    "##http://pygal.org/builtin_styles/\n",
    "#https://github.com/Kozea/pygal/blob/master/pygal/config.py\n",
    "\n",
    "#from pygal.style import LightGreenStyle #MODIFY FROM: https://github.com/Kozea/pygal/blob/master/pygal/style.py\n",
    "#modify style: http://pygal.org/custom_styles/\n",
    "\n",
    "#to verify colors: \n",
    "#http://www.w3schools.com/tags/ref_colorpicker.asp\n",
    "\n",
    "from pygal.style import Style\n",
    "from pygal.colors import darken, lighten\n",
    "\n",
    "def plotRadar(organism, twoElementDataTuple): #method 2\n",
    "    #esthetics:\n",
    "    customStyle = Style(\n",
    "    font_family='Arial',\n",
    "    background=lighten('#E5E5E5', 0), #outside of the plot\n",
    "    plot_background='#E5E5E5', #background\n",
    "    foreground='#333333', #text\n",
    "    foreground_light='#FFFFFF', #spikes\n",
    "    foreground_dark='#F2F2F2', #internal lines\n",
    "    opacity='.5',\n",
    "    opacity_hover='.9',\n",
    "    transition='250ms ease-in',\n",
    "    colors=('#666666', color_dict[organism]))#, lighten('#7dcf30', 10), '#ccc',\n",
    "        #darken('#7dcf30', 15), '#ddd', lighten('#247fab', 10),\n",
    "        #darken('#247fab', 15)))\n",
    "    \n",
    "    \n",
    "    \n",
    "    radarChart1=pygal.Radar(style= customStyle)\n",
    "    radarChart1.config.title=str(organism)+'_log10'\n",
    "    radarChart1.config.x_labels=list(means2.columns) #change for the next function; means2 should be an argument!!!\n",
    "\n",
    "    radarChart1.config.print_values=False\n",
    "\n",
    "\n",
    "    radarChart1.config.width=800\n",
    "    radarChart1.config.height=600\n",
    "    #radarChart1.config.x_label_format\n",
    "    radarChart1.add('meiotic',twoElementDataTuple[1])\n",
    "    radarChart1.add('mitotic',twoElementDataTuple[0])\n",
    "\n",
    "    radarChart1.render_to_file('../Manuscript/Figures/F4/F4B/TEST/F4B_'+ str(organism)+'_log10_arial.svg')\n",
    "\n",
    "\n",
    "#http://code.activestate.com/recipes/578123-draw-svg-images-in-python-python-recipe-enhanced-v/\n",
    "\n",
    "#SVG(radarChart1.render()) #drop: time_pf, chromosomes,genome, centrosome\n",
    "#radarChart1._repr_svg_()\n",
    "#radarChart1.x_labels\n",
    "#inkscape -z -D F4B_xenopus_laevis_arial.svg --export-eps=F4B_xenopus_laevisCLI_arial.eps"
   ]
  },
  {
   "cell_type": "code",
   "execution_count": 385,
   "metadata": {
    "collapsed": false
   },
   "outputs": [],
   "source": [
    "#plotRadar('asterina_miniata',calculate_log10('asterina_miniata'))"
   ]
  },
  {
   "cell_type": "code",
   "execution_count": 136,
   "metadata": {
    "collapsed": false
   },
   "outputs": [
    {
     "name": "stdout",
     "output_type": "stream",
     "text": [
      "Callithrix_jacchus\n",
      "Clytia_hemisphaerica_1\n",
      "Equus_caballus\n",
      "Homo_sapiens\n",
      "Macaca_mulatta\n",
      "danio_rerio\n",
      "drosophila_melanogaster\n",
      "monodelphis_domestica\n",
      "mytilus_californianus\n",
      "sus_scrofa\n",
      "xenopus_tropicalis\n"
     ]
    }
   ],
   "source": [
    "for organism in means2.index.levels[0]:\n",
    "    #print organism #use this as an organism\n",
    "    #https://docs.python.org/2/tutorial/errors.html\n",
    "    try:\n",
    "        plotRadar(organism,calculate_2_log10(organism))\n",
    "    except KeyError:\n",
    "        print organism"
   ]
  },
  {
   "cell_type": "code",
   "execution_count": 387,
   "metadata": {
    "collapsed": false
   },
   "outputs": [
    {
     "name": "stdout",
     "output_type": "stream",
     "text": [
      "Callithrix_jacchus\n",
      "Clytia_hemisphaerica_1\n",
      "Equus_caballus\n",
      "Macaca_mulatta\n",
      "danio_rerio\n",
      "monodelphis_domestica\n",
      "mytilus_californianus\n",
      "sus_scrofa\n",
      "xenopus_tropicalis\n"
     ]
    }
   ],
   "source": [
    "for organism in means3.index.levels[0]:\n",
    "    #print organism #use this as an organism\n",
    "    #https://docs.python.org/2/tutorial/errors.html\n",
    "    try:\n",
    "        calculate_log10(organism)\n",
    "    except KeyError:\n",
    "        print organism"
   ]
  },
  {
   "cell_type": "code",
   "execution_count": 137,
   "metadata": {
    "collapsed": false
   },
   "outputs": [],
   "source": [
    "#convert to eps\n",
    "#inkscape -z -D F4B_xenopus_laevis_arial.svg --export-eps=F4B_xenopus_laevisCLI_arial.eps\n",
    "import subprocess as sp\n",
    "import shlex"
   ]
  },
  {
   "cell_type": "code",
   "execution_count": 138,
   "metadata": {
    "collapsed": false
   },
   "outputs": [
    {
     "name": "stdout",
     "output_type": "stream",
     "text": [
      "\u001b[31mA_problematic_organisms_no_plot.txt\u001b[m\u001b[m\r\n",
      "F4B_Strongylocentrotus_purpuratus_log10_arial.svg\r\n",
      "F4B_asterina_miniata_log10_arial.svg\r\n",
      "F4B_caenorhabditis_elegans_log10_arial.svg\r\n",
      "F4B_cerebratulus_marginatus_log10_arial.svg\r\n",
      "F4B_ciona_intestinalis_log10_arial.svg\r\n",
      "F4B_helobdella_robusta_log10_arial.svg\r\n",
      "F4B_mus_musculus_log10_arial.svg\r\n",
      "F4B_urechis_caupo_log10_arial.svg\r\n",
      "F4B_xenopus_laevis_log10_arial.svg\r\n"
     ]
    }
   ],
   "source": [
    "!ls ../Manuscript/Figures/F4/F4B/TEST"
   ]
  },
  {
   "cell_type": "code",
   "execution_count": 141,
   "metadata": {
    "collapsed": false
   },
   "outputs": [],
   "source": [
    "#method3\n",
    "for organism in means2.index.levels[0]:\n",
    "    #print organism #use this as an organism\n",
    "    #https://docs.python.org/2/tutorial/errors.html\n",
    "    try:\n",
    "        sp.call(shlex.split('/Applications/Inkscape.app/Contents/Resources/bin/inkscape -z -D ../Manuscript/Figures/F4/F4B/TEST/F4B_' + organism + '_log10_arial.svg --export-eps=../Manuscript/Figures/F4/F4B/TEST/F4B_'+ organism+'_log10_CLI_arial_TEST.eps'))\n",
    "    except KeyError:\n",
    "        print shlex.split('/Applications/Inkscape.app/Contents/Resources/bin/inkscape -z -D ../Manuscript/Figures/F4/F4B/TEST/F4B_' + organism + '_log10_arial.svg --export-eps=../Manuscript/Figures/F4/F4B/TEST/F4B_'+ organism+'_log10_CLI_arial_TEST.eps')        "
   ]
  },
  {
   "cell_type": "code",
   "execution_count": 142,
   "metadata": {
    "collapsed": false
   },
   "outputs": [
    {
     "name": "stdout",
     "output_type": "stream",
     "text": [
      "\u001b[31mA_problematic_organisms_no_plot.txt\u001b[m\u001b[m\r\n",
      "F4B_Strongylocentrotus_purpuratus_log10_CLI_arial_TEST.eps\r\n",
      "F4B_Strongylocentrotus_purpuratus_log10_arial.svg\r\n",
      "F4B_asterina_miniata_log10_CLI_arial_TEST.eps\r\n",
      "F4B_asterina_miniata_log10_arial.svg\r\n",
      "F4B_caenorhabditis_elegans_log10_CLI_arial_TEST.eps\r\n",
      "F4B_caenorhabditis_elegans_log10_arial.svg\r\n",
      "F4B_cerebratulus_marginatus_log10_CLI_arial_TEST.eps\r\n",
      "F4B_cerebratulus_marginatus_log10_arial.svg\r\n",
      "F4B_ciona_intestinalis_log10_CLI_arial_TEST.eps\r\n",
      "F4B_ciona_intestinalis_log10_arial.svg\r\n",
      "F4B_helobdella_robusta_log10_CLI_arial_TEST.eps\r\n",
      "F4B_helobdella_robusta_log10_arial.svg\r\n",
      "F4B_mus_musculus_log10_arial.svg\r\n",
      "F4B_urechis_caupo_log10_CLI_arial_TEST.eps\r\n",
      "F4B_urechis_caupo_log10_arial.svg\r\n",
      "F4B_xenopus_laevis_log10_CLI_arial_TEST.eps\r\n",
      "F4B_xenopus_laevis_log10_arial.svg\r\n"
     ]
    }
   ],
   "source": [
    "!ls ../Manuscript/Figures/F4/F4B/TEST"
   ]
  },
  {
   "cell_type": "code",
   "execution_count": 143,
   "metadata": {
    "collapsed": false
   },
   "outputs": [],
   "source": [
    "my_input=shlex.split('/Applications/Inkscape.app/Contents/Resources/bin/inkscape -z -D ../Manuscript/Figures/F4/F4B/F4B_xenopus_laevis_arial.svg --export-eps=../Manuscript/Figures/F4/F4B/F4B_xenopus_laevisCLI_arial_TEST.eps')"
   ]
  },
  {
   "cell_type": "code",
   "execution_count": 144,
   "metadata": {
    "collapsed": false
   },
   "outputs": [
    {
     "data": {
      "text/plain": [
       "['/Applications/Inkscape.app/Contents/Resources/bin/inkscape',\n",
       " '-z',\n",
       " '-D',\n",
       " '../Manuscript/Figures/F4/F4B/F4B_xenopus_laevis_arial.svg',\n",
       " '--export-eps=../Manuscript/Figures/F4/F4B/F4B_xenopus_laevisCLI_arial_TEST.eps']"
      ]
     },
     "execution_count": 144,
     "metadata": {},
     "output_type": "execute_result"
    }
   ],
   "source": [
    "my_input"
   ]
  },
  {
   "cell_type": "code",
   "execution_count": 145,
   "metadata": {
    "collapsed": false
   },
   "outputs": [
    {
     "data": {
      "text/plain": [
       "0"
      ]
     },
     "execution_count": 145,
     "metadata": {},
     "output_type": "execute_result"
    }
   ],
   "source": [
    "sp.call(my_input)"
   ]
  },
  {
   "cell_type": "code",
   "execution_count": 146,
   "metadata": {
    "collapsed": false
   },
   "outputs": [
    {
     "data": {
      "text/html": [
       "<div style=\"max-height:1000px;max-width:1500px;overflow:auto;\">\n",
       "<table border=\"1\" class=\"dataframe\">\n",
       "  <thead>\n",
       "    <tr style=\"text-align: right;\">\n",
       "      <th></th>\n",
       "      <th></th>\n",
       "      <th>cell_diameter_um</th>\n",
       "      <th>spindle_length__asters_um</th>\n",
       "      <th>spindle_length_poles_um</th>\n",
       "      <th>spindle_width_um</th>\n",
       "      <th>spindle_aspect_ratio_asters_um</th>\n",
       "      <th>spindle_aspect_ratio_poles_um</th>\n",
       "      <th>astere-to-pole_distance_1_um</th>\n",
       "      <th>aster-to-pole_distance_2_um</th>\n",
       "      <th>inner_aster_diameter_1_um</th>\n",
       "      <th>inner_aster_diameter_2_um</th>\n",
       "      <th>outer_aster_diameter_1_um</th>\n",
       "      <th>outer__diameter_2_um</th>\n",
       "      <th>metaphase_plate_lengt_h_um</th>\n",
       "      <th>metaphase_plate_width_um</th>\n",
       "      <th>metaphase_plate_aspect_ratio_um</th>\n",
       "      <th>polar_body_diameter_1_um</th>\n",
       "      <th>polar_body_diameter_2_um</th>\n",
       "      <th>distance_between_chromosomes_um</th>\n",
       "    </tr>\n",
       "    <tr>\n",
       "      <th>organism</th>\n",
       "      <th>meiotic</th>\n",
       "      <th></th>\n",
       "      <th></th>\n",
       "      <th></th>\n",
       "      <th></th>\n",
       "      <th></th>\n",
       "      <th></th>\n",
       "      <th></th>\n",
       "      <th></th>\n",
       "      <th></th>\n",
       "      <th></th>\n",
       "      <th></th>\n",
       "      <th></th>\n",
       "      <th></th>\n",
       "      <th></th>\n",
       "      <th></th>\n",
       "      <th></th>\n",
       "      <th></th>\n",
       "      <th></th>\n",
       "    </tr>\n",
       "  </thead>\n",
       "  <tbody>\n",
       "    <tr>\n",
       "      <th rowspan=\"2\" valign=\"top\">asterina_miniata</th>\n",
       "      <th>0</th>\n",
       "      <td> 148.597495</td>\n",
       "      <td> 45.122942</td>\n",
       "      <td> 29.479782</td>\n",
       "      <td> 16.841408</td>\n",
       "      <td> 2.752330</td>\n",
       "      <td> 1.800700</td>\n",
       "      <td> 3.611328</td>\n",
       "      <td> 3.849842</td>\n",
       "      <td> 10.950803</td>\n",
       "      <td> 10.789391</td>\n",
       "      <td> 46.173089</td>\n",
       "      <td> 45.763439</td>\n",
       "      <td> 13.578616</td>\n",
       "      <td> 4.752077</td>\n",
       "      <td> 3.069286</td>\n",
       "      <td> 9.385763</td>\n",
       "      <td> 9.354763</td>\n",
       "      <td> 0.16178</td>\n",
       "    </tr>\n",
       "    <tr>\n",
       "      <th>1</th>\n",
       "      <td> 220.351184</td>\n",
       "      <td> 24.748558</td>\n",
       "      <td> 20.470540</td>\n",
       "      <td>  8.521747</td>\n",
       "      <td> 3.041225</td>\n",
       "      <td> 2.512970</td>\n",
       "      <td> 0.446234</td>\n",
       "      <td> 0.167230</td>\n",
       "      <td>  4.461345</td>\n",
       "      <td>  4.386613</td>\n",
       "      <td> 24.604797</td>\n",
       "      <td> 24.003288</td>\n",
       "      <td> 12.092656</td>\n",
       "      <td> 5.698895</td>\n",
       "      <td> 2.193964</td>\n",
       "      <td> 7.520823</td>\n",
       "      <td> 7.700000</td>\n",
       "      <td> 0.00000</td>\n",
       "    </tr>\n",
       "    <tr>\n",
       "      <th rowspan=\"2\" valign=\"top\">caenorhabditis_elegans</th>\n",
       "      <th>0</th>\n",
       "      <td>  27.133618</td>\n",
       "      <td> 10.334325</td>\n",
       "      <td>  7.754700</td>\n",
       "      <td>  4.911130</td>\n",
       "      <td> 2.160014</td>\n",
       "      <td> 1.618049</td>\n",
       "      <td> 0.000000</td>\n",
       "      <td> 0.000000</td>\n",
       "      <td>  3.044559</td>\n",
       "      <td>  2.865042</td>\n",
       "      <td> 18.822070</td>\n",
       "      <td> 19.035813</td>\n",
       "      <td>  4.782063</td>\n",
       "      <td> 1.232750</td>\n",
       "      <td> 4.149186</td>\n",
       "      <td> 2.479425</td>\n",
       "      <td> 2.166695</td>\n",
       "      <td> 0.00000</td>\n",
       "    </tr>\n",
       "    <tr>\n",
       "      <th>1</th>\n",
       "      <td>  50.805108</td>\n",
       "      <td>  8.264418</td>\n",
       "      <td>  8.264418</td>\n",
       "      <td>  5.679828</td>\n",
       "      <td> 1.482831</td>\n",
       "      <td> 1.482831</td>\n",
       "      <td> 0.000000</td>\n",
       "      <td> 0.000000</td>\n",
       "      <td>  0.000000</td>\n",
       "      <td>  0.000000</td>\n",
       "      <td>  0.000000</td>\n",
       "      <td>  0.000000</td>\n",
       "      <td>  4.209294</td>\n",
       "      <td> 2.259045</td>\n",
       "      <td> 1.873093</td>\n",
       "      <td> 3.631782</td>\n",
       "      <td> 7.700000</td>\n",
       "      <td> 0.00000</td>\n",
       "    </tr>\n",
       "    <tr>\n",
       "      <th>cerebratulus_marginatus</th>\n",
       "      <th>0</th>\n",
       "      <td>  88.954545</td>\n",
       "      <td> 40.472727</td>\n",
       "      <td> 25.163636</td>\n",
       "      <td> 15.290909</td>\n",
       "      <td> 2.657838</td>\n",
       "      <td> 1.658557</td>\n",
       "      <td> 2.300000</td>\n",
       "      <td> 2.100000</td>\n",
       "      <td> 13.581818</td>\n",
       "      <td> 13.709091</td>\n",
       "      <td> 55.100000</td>\n",
       "      <td> 55.954545</td>\n",
       "      <td> 14.427273</td>\n",
       "      <td> 3.890909</td>\n",
       "      <td> 3.803815</td>\n",
       "      <td> 7.945455</td>\n",
       "      <td> 5.445455</td>\n",
       "      <td> 0.00000</td>\n",
       "    </tr>\n",
       "  </tbody>\n",
       "</table>\n",
       "</div>"
      ],
      "text/plain": [
       "                                 cell_diameter_um  spindle_length__asters_um  \\\n",
       "organism                meiotic                                                \n",
       "asterina_miniata        0              148.597495                  45.122942   \n",
       "                        1              220.351184                  24.748558   \n",
       "caenorhabditis_elegans  0               27.133618                  10.334325   \n",
       "                        1               50.805108                   8.264418   \n",
       "cerebratulus_marginatus 0               88.954545                  40.472727   \n",
       "\n",
       "                                 spindle_length_poles_um  spindle_width_um  \\\n",
       "organism                meiotic                                              \n",
       "asterina_miniata        0                      29.479782         16.841408   \n",
       "                        1                      20.470540          8.521747   \n",
       "caenorhabditis_elegans  0                       7.754700          4.911130   \n",
       "                        1                       8.264418          5.679828   \n",
       "cerebratulus_marginatus 0                      25.163636         15.290909   \n",
       "\n",
       "                                 spindle_aspect_ratio_asters_um  \\\n",
       "organism                meiotic                                   \n",
       "asterina_miniata        0                              2.752330   \n",
       "                        1                              3.041225   \n",
       "caenorhabditis_elegans  0                              2.160014   \n",
       "                        1                              1.482831   \n",
       "cerebratulus_marginatus 0                              2.657838   \n",
       "\n",
       "                                 spindle_aspect_ratio_poles_um  \\\n",
       "organism                meiotic                                  \n",
       "asterina_miniata        0                             1.800700   \n",
       "                        1                             2.512970   \n",
       "caenorhabditis_elegans  0                             1.618049   \n",
       "                        1                             1.482831   \n",
       "cerebratulus_marginatus 0                             1.658557   \n",
       "\n",
       "                                 astere-to-pole_distance_1_um  \\\n",
       "organism                meiotic                                 \n",
       "asterina_miniata        0                            3.611328   \n",
       "                        1                            0.446234   \n",
       "caenorhabditis_elegans  0                            0.000000   \n",
       "                        1                            0.000000   \n",
       "cerebratulus_marginatus 0                            2.300000   \n",
       "\n",
       "                                 aster-to-pole_distance_2_um  \\\n",
       "organism                meiotic                                \n",
       "asterina_miniata        0                           3.849842   \n",
       "                        1                           0.167230   \n",
       "caenorhabditis_elegans  0                           0.000000   \n",
       "                        1                           0.000000   \n",
       "cerebratulus_marginatus 0                           2.100000   \n",
       "\n",
       "                                 inner_aster_diameter_1_um  \\\n",
       "organism                meiotic                              \n",
       "asterina_miniata        0                        10.950803   \n",
       "                        1                         4.461345   \n",
       "caenorhabditis_elegans  0                         3.044559   \n",
       "                        1                         0.000000   \n",
       "cerebratulus_marginatus 0                        13.581818   \n",
       "\n",
       "                                 inner_aster_diameter_2_um  \\\n",
       "organism                meiotic                              \n",
       "asterina_miniata        0                        10.789391   \n",
       "                        1                         4.386613   \n",
       "caenorhabditis_elegans  0                         2.865042   \n",
       "                        1                         0.000000   \n",
       "cerebratulus_marginatus 0                        13.709091   \n",
       "\n",
       "                                 outer_aster_diameter_1_um  \\\n",
       "organism                meiotic                              \n",
       "asterina_miniata        0                        46.173089   \n",
       "                        1                        24.604797   \n",
       "caenorhabditis_elegans  0                        18.822070   \n",
       "                        1                         0.000000   \n",
       "cerebratulus_marginatus 0                        55.100000   \n",
       "\n",
       "                                 outer__diameter_2_um  \\\n",
       "organism                meiotic                         \n",
       "asterina_miniata        0                   45.763439   \n",
       "                        1                   24.003288   \n",
       "caenorhabditis_elegans  0                   19.035813   \n",
       "                        1                    0.000000   \n",
       "cerebratulus_marginatus 0                   55.954545   \n",
       "\n",
       "                                 metaphase_plate_lengt_h_um  \\\n",
       "organism                meiotic                               \n",
       "asterina_miniata        0                         13.578616   \n",
       "                        1                         12.092656   \n",
       "caenorhabditis_elegans  0                          4.782063   \n",
       "                        1                          4.209294   \n",
       "cerebratulus_marginatus 0                         14.427273   \n",
       "\n",
       "                                 metaphase_plate_width_um  \\\n",
       "organism                meiotic                             \n",
       "asterina_miniata        0                        4.752077   \n",
       "                        1                        5.698895   \n",
       "caenorhabditis_elegans  0                        1.232750   \n",
       "                        1                        2.259045   \n",
       "cerebratulus_marginatus 0                        3.890909   \n",
       "\n",
       "                                 metaphase_plate_aspect_ratio_um  \\\n",
       "organism                meiotic                                    \n",
       "asterina_miniata        0                               3.069286   \n",
       "                        1                               2.193964   \n",
       "caenorhabditis_elegans  0                               4.149186   \n",
       "                        1                               1.873093   \n",
       "cerebratulus_marginatus 0                               3.803815   \n",
       "\n",
       "                                 polar_body_diameter_1_um  \\\n",
       "organism                meiotic                             \n",
       "asterina_miniata        0                        9.385763   \n",
       "                        1                        7.520823   \n",
       "caenorhabditis_elegans  0                        2.479425   \n",
       "                        1                        3.631782   \n",
       "cerebratulus_marginatus 0                        7.945455   \n",
       "\n",
       "                                 polar_body_diameter_2_um  \\\n",
       "organism                meiotic                             \n",
       "asterina_miniata        0                        9.354763   \n",
       "                        1                        7.700000   \n",
       "caenorhabditis_elegans  0                        2.166695   \n",
       "                        1                        7.700000   \n",
       "cerebratulus_marginatus 0                        5.445455   \n",
       "\n",
       "                                 distance_between_chromosomes_um  \n",
       "organism                meiotic                                   \n",
       "asterina_miniata        0                                0.16178  \n",
       "                        1                                0.00000  \n",
       "caenorhabditis_elegans  0                                0.00000  \n",
       "                        1                                0.00000  \n",
       "cerebratulus_marginatus 0                                0.00000  "
      ]
     },
     "execution_count": 146,
     "metadata": {},
     "output_type": "execute_result"
    }
   ],
   "source": [
    "means2.head()"
   ]
  },
  {
   "cell_type": "markdown",
   "metadata": {},
   "source": [
    "##Additional columns to drop"
   ]
  },
  {
   "cell_type": "markdown",
   "metadata": {},
   "source": [
    "E-mail from Marina (fedback & comments): 12222014: *cell diameter, distance between chromosomes, polar_body_diameter_1, polar_body_diameter_2*"
   ]
  },
  {
   "cell_type": "code",
   "execution_count": 150,
   "metadata": {
    "collapsed": false
   },
   "outputs": [],
   "source": [
    "means3=means2.drop(['cell_diameter_um', 'distance_between_chromosomes_um', 'polar_body_diameter_1_um', 'polar_body_diameter_2_um'],axis=1)"
   ]
  },
  {
   "cell_type": "code",
   "execution_count": 151,
   "metadata": {
    "collapsed": false
   },
   "outputs": [
    {
     "data": {
      "text/plain": [
       "Index([u'cell_diameter_um', u'spindle_length__asters_um', u'spindle_length_poles_um', u'spindle_width_um', u'spindle_aspect_ratio_asters_um', u'spindle_aspect_ratio_poles_um', u'astere-to-pole_distance_1_um', u'aster-to-pole_distance_2_um', u'inner_aster_diameter_1_um', u'inner_aster_diameter_2_um', u'outer_aster_diameter_1_um', u'outer__diameter_2_um', u'metaphase_plate_lengt_h_um', u'metaphase_plate_width_um', u'metaphase_plate_aspect_ratio_um', u'polar_body_diameter_1_um', u'polar_body_diameter_2_um', u'distance_between_chromosomes_um'], dtype='object')"
      ]
     },
     "execution_count": 151,
     "metadata": {},
     "output_type": "execute_result"
    }
   ],
   "source": [
    "means2.columns"
   ]
  },
  {
   "cell_type": "code",
   "execution_count": 152,
   "metadata": {
    "collapsed": false
   },
   "outputs": [
    {
     "data": {
      "text/plain": [
       "Index([u'spindle_length__asters_um', u'spindle_length_poles_um', u'spindle_width_um', u'spindle_aspect_ratio_asters_um', u'spindle_aspect_ratio_poles_um', u'astere-to-pole_distance_1_um', u'aster-to-pole_distance_2_um', u'inner_aster_diameter_1_um', u'inner_aster_diameter_2_um', u'outer_aster_diameter_1_um', u'outer__diameter_2_um', u'metaphase_plate_lengt_h_um', u'metaphase_plate_width_um', u'metaphase_plate_aspect_ratio_um'], dtype='object')"
      ]
     },
     "execution_count": 152,
     "metadata": {},
     "output_type": "execute_result"
    }
   ],
   "source": [
    "means3.columns"
   ]
  },
  {
   "cell_type": "markdown",
   "metadata": {},
   "source": [
    "##Columns to combine"
   ]
  },
  {
   "cell_type": "code",
   "execution_count": 153,
   "metadata": {
    "collapsed": false
   },
   "outputs": [],
   "source": [
    "#e-mail: 12222014: \n",
    "#try:  polar_body_diameter_1 & polar_body_diameter_2\n",
    "\n",
    "#Outer_aster_diameter_1 & outer_aster_diameter _2\n",
    "#Inner_aster_diameter_1 & inner_aster_diameter_2\n",
    "#Aster-to-pole_distance_1 & Aster-to-pole_distance_2"
   ]
  },
  {
   "cell_type": "code",
   "execution_count": 154,
   "metadata": {
    "collapsed": false
   },
   "outputs": [],
   "source": [
    "means3['outer_aster_diameter']=means3[['outer_aster_diameter_1_um','outer__diameter_2_um']].mean(axis=1)"
   ]
  },
  {
   "cell_type": "code",
   "execution_count": 155,
   "metadata": {
    "collapsed": false
   },
   "outputs": [],
   "source": [
    "means3=means3.drop(['outer_aster_diameter_1_um','outer__diameter_2_um'],axis=1)"
   ]
  },
  {
   "cell_type": "code",
   "execution_count": 156,
   "metadata": {
    "collapsed": false
   },
   "outputs": [],
   "source": [
    "means3['inner_aster_diameter']=means3[['inner_aster_diameter_1_um','inner_aster_diameter_2_um']].mean(axis=1)"
   ]
  },
  {
   "cell_type": "code",
   "execution_count": 157,
   "metadata": {
    "collapsed": false
   },
   "outputs": [],
   "source": [
    "means3=means3.drop(['inner_aster_diameter_1_um','inner_aster_diameter_2_um'],axis=1)"
   ]
  },
  {
   "cell_type": "code",
   "execution_count": 158,
   "metadata": {
    "collapsed": false
   },
   "outputs": [],
   "source": [
    "means3['aster-to-pole_distance']=means3[['astere-to-pole_distance_1_um','aster-to-pole_distance_2_um']].mean(axis=1)"
   ]
  },
  {
   "cell_type": "code",
   "execution_count": 159,
   "metadata": {
    "collapsed": false
   },
   "outputs": [],
   "source": [
    "means3=means3.drop(['astere-to-pole_distance_1_um','aster-to-pole_distance_2_um'],axis=1)"
   ]
  },
  {
   "cell_type": "code",
   "execution_count": 160,
   "metadata": {
    "collapsed": false
   },
   "outputs": [
    {
     "data": {
      "text/plain": [
       "Index([u'spindle_length__asters_um', u'spindle_length_poles_um', u'spindle_width_um', u'spindle_aspect_ratio_asters_um', u'spindle_aspect_ratio_poles_um', u'metaphase_plate_lengt_h_um', u'metaphase_plate_width_um', u'metaphase_plate_aspect_ratio_um', u'outer_aster_diameter', u'inner_aster_diameter', u'aster-to-pole_distance'], dtype='object')"
      ]
     },
     "execution_count": 160,
     "metadata": {},
     "output_type": "execute_result"
    }
   ],
   "source": [
    "means3.columns"
   ]
  },
  {
   "cell_type": "code",
   "execution_count": 161,
   "metadata": {
    "collapsed": false
   },
   "outputs": [
    {
     "data": {
      "text/html": [
       "<div style=\"max-height:1000px;max-width:1500px;overflow:auto;\">\n",
       "<table border=\"1\" class=\"dataframe\">\n",
       "  <thead>\n",
       "    <tr style=\"text-align: right;\">\n",
       "      <th></th>\n",
       "      <th>spindle_length__asters_um</th>\n",
       "      <th>spindle_length_poles_um</th>\n",
       "      <th>spindle_width_um</th>\n",
       "      <th>spindle_aspect_ratio_asters_um</th>\n",
       "      <th>spindle_aspect_ratio_poles_um</th>\n",
       "      <th>metaphase_plate_lengt_h_um</th>\n",
       "      <th>metaphase_plate_width_um</th>\n",
       "      <th>metaphase_plate_aspect_ratio_um</th>\n",
       "      <th>outer_aster_diameter</th>\n",
       "      <th>inner_aster_diameter</th>\n",
       "      <th>aster-to-pole_distance</th>\n",
       "    </tr>\n",
       "    <tr>\n",
       "      <th>meiotic</th>\n",
       "      <th></th>\n",
       "      <th></th>\n",
       "      <th></th>\n",
       "      <th></th>\n",
       "      <th></th>\n",
       "      <th></th>\n",
       "      <th></th>\n",
       "      <th></th>\n",
       "      <th></th>\n",
       "      <th></th>\n",
       "      <th></th>\n",
       "    </tr>\n",
       "  </thead>\n",
       "  <tbody>\n",
       "    <tr>\n",
       "      <th>0</th>\n",
       "      <td>       NaN</td>\n",
       "      <td> 24.053846</td>\n",
       "      <td>   NaN</td>\n",
       "      <td>      NaN</td>\n",
       "      <td>      NaN</td>\n",
       "      <td>   NaN</td>\n",
       "      <td>      NaN</td>\n",
       "      <td>      NaN</td>\n",
       "      <td>NaN</td>\n",
       "      <td>NaN</td>\n",
       "      <td>NaN</td>\n",
       "    </tr>\n",
       "    <tr>\n",
       "      <th>1</th>\n",
       "      <td> 26.865455</td>\n",
       "      <td> 26.865455</td>\n",
       "      <td> 15.22</td>\n",
       "      <td> 1.555556</td>\n",
       "      <td> 1.555556</td>\n",
       "      <td> 14.74</td>\n",
       "      <td> 5.154545</td>\n",
       "      <td> 2.717647</td>\n",
       "      <td>  0</td>\n",
       "      <td>  0</td>\n",
       "      <td>  0</td>\n",
       "    </tr>\n",
       "  </tbody>\n",
       "</table>\n",
       "</div>"
      ],
      "text/plain": [
       "         spindle_length__asters_um  spindle_length_poles_um  spindle_width_um  \\\n",
       "meiotic                                                                         \n",
       "0                              NaN                24.053846               NaN   \n",
       "1                        26.865455                26.865455             15.22   \n",
       "\n",
       "         spindle_aspect_ratio_asters_um  spindle_aspect_ratio_poles_um  \\\n",
       "meiotic                                                                  \n",
       "0                                   NaN                            NaN   \n",
       "1                              1.555556                       1.555556   \n",
       "\n",
       "         metaphase_plate_lengt_h_um  metaphase_plate_width_um  \\\n",
       "meiotic                                                         \n",
       "0                               NaN                       NaN   \n",
       "1                             14.74                  5.154545   \n",
       "\n",
       "         metaphase_plate_aspect_ratio_um  outer_aster_diameter  \\\n",
       "meiotic                                                          \n",
       "0                                    NaN                   NaN   \n",
       "1                               2.717647                     0   \n",
       "\n",
       "         inner_aster_diameter  aster-to-pole_distance  \n",
       "meiotic                                                \n",
       "0                         NaN                     NaN  \n",
       "1                           0                       0  "
      ]
     },
     "execution_count": 161,
     "metadata": {},
     "output_type": "execute_result"
    }
   ],
   "source": [
    "means3.loc['mus_musculus']"
   ]
  },
  {
   "cell_type": "code",
   "execution_count": 162,
   "metadata": {
    "collapsed": false
   },
   "outputs": [],
   "source": [
    "means3.loc['mus_musculus']\n",
    "means3.drop(means3.loc['mus_musculus'],level=1,axis=0,inplace=True)"
   ]
  },
  {
   "cell_type": "markdown",
   "metadata": {},
   "source": [
    "##### The plotting issue was due to NaN in the data frame. Somehow pygal cannot deal with them."
   ]
  },
  {
   "cell_type": "code",
   "execution_count": 163,
   "metadata": {
    "collapsed": false
   },
   "outputs": [],
   "source": [
    "means3=means3.fillna(0)"
   ]
  },
  {
   "cell_type": "code",
   "execution_count": 164,
   "metadata": {
    "collapsed": false
   },
   "outputs": [
    {
     "data": {
      "text/html": [
       "<div style=\"max-height:1000px;max-width:1500px;overflow:auto;\">\n",
       "<table border=\"1\" class=\"dataframe\">\n",
       "  <thead>\n",
       "    <tr style=\"text-align: right;\">\n",
       "      <th></th>\n",
       "      <th></th>\n",
       "      <th>spindle_length__asters_um</th>\n",
       "      <th>spindle_length_poles_um</th>\n",
       "      <th>spindle_width_um</th>\n",
       "      <th>spindle_aspect_ratio_asters_um</th>\n",
       "      <th>spindle_aspect_ratio_poles_um</th>\n",
       "      <th>metaphase_plate_lengt_h_um</th>\n",
       "      <th>metaphase_plate_width_um</th>\n",
       "      <th>metaphase_plate_aspect_ratio_um</th>\n",
       "      <th>outer_aster_diameter</th>\n",
       "      <th>inner_aster_diameter</th>\n",
       "      <th>aster-to-pole_distance</th>\n",
       "    </tr>\n",
       "    <tr>\n",
       "      <th>organism</th>\n",
       "      <th>meiotic</th>\n",
       "      <th></th>\n",
       "      <th></th>\n",
       "      <th></th>\n",
       "      <th></th>\n",
       "      <th></th>\n",
       "      <th></th>\n",
       "      <th></th>\n",
       "      <th></th>\n",
       "      <th></th>\n",
       "      <th></th>\n",
       "      <th></th>\n",
       "    </tr>\n",
       "  </thead>\n",
       "  <tbody>\n",
       "    <tr>\n",
       "      <th rowspan=\"2\" valign=\"top\">asterina_miniata</th>\n",
       "      <th>0</th>\n",
       "      <td> 45.122942</td>\n",
       "      <td> 29.479782</td>\n",
       "      <td> 16.841408</td>\n",
       "      <td> 2.752330</td>\n",
       "      <td> 1.800700</td>\n",
       "      <td> 13.578616</td>\n",
       "      <td> 4.752077</td>\n",
       "      <td> 3.069286</td>\n",
       "      <td> 45.968264</td>\n",
       "      <td> 10.870097</td>\n",
       "      <td> 3.730585</td>\n",
       "    </tr>\n",
       "    <tr>\n",
       "      <th>1</th>\n",
       "      <td> 24.748558</td>\n",
       "      <td> 20.470540</td>\n",
       "      <td>  8.521747</td>\n",
       "      <td> 3.041225</td>\n",
       "      <td> 2.512970</td>\n",
       "      <td> 12.092656</td>\n",
       "      <td> 5.698895</td>\n",
       "      <td> 2.193964</td>\n",
       "      <td> 24.304043</td>\n",
       "      <td>  4.423979</td>\n",
       "      <td> 0.306732</td>\n",
       "    </tr>\n",
       "    <tr>\n",
       "      <th rowspan=\"2\" valign=\"top\">caenorhabditis_elegans</th>\n",
       "      <th>0</th>\n",
       "      <td> 10.334325</td>\n",
       "      <td>  7.754700</td>\n",
       "      <td>  4.911130</td>\n",
       "      <td> 2.160014</td>\n",
       "      <td> 1.618049</td>\n",
       "      <td>  4.782063</td>\n",
       "      <td> 1.232750</td>\n",
       "      <td> 4.149186</td>\n",
       "      <td> 18.928941</td>\n",
       "      <td>  2.954800</td>\n",
       "      <td> 0.000000</td>\n",
       "    </tr>\n",
       "    <tr>\n",
       "      <th>1</th>\n",
       "      <td>  8.264418</td>\n",
       "      <td>  8.264418</td>\n",
       "      <td>  5.679828</td>\n",
       "      <td> 1.482831</td>\n",
       "      <td> 1.482831</td>\n",
       "      <td>  4.209294</td>\n",
       "      <td> 2.259045</td>\n",
       "      <td> 1.873093</td>\n",
       "      <td>  0.000000</td>\n",
       "      <td>  0.000000</td>\n",
       "      <td> 0.000000</td>\n",
       "    </tr>\n",
       "    <tr>\n",
       "      <th rowspan=\"2\" valign=\"top\">cerebratulus_marginatus</th>\n",
       "      <th>0</th>\n",
       "      <td> 40.472727</td>\n",
       "      <td> 25.163636</td>\n",
       "      <td> 15.290909</td>\n",
       "      <td> 2.657838</td>\n",
       "      <td> 1.658557</td>\n",
       "      <td> 14.427273</td>\n",
       "      <td> 3.890909</td>\n",
       "      <td> 3.803815</td>\n",
       "      <td> 55.527273</td>\n",
       "      <td> 13.645455</td>\n",
       "      <td> 2.200000</td>\n",
       "    </tr>\n",
       "    <tr>\n",
       "      <th>1</th>\n",
       "      <td> 17.033333</td>\n",
       "      <td> 14.700000</td>\n",
       "      <td> 10.166667</td>\n",
       "      <td> 1.717698</td>\n",
       "      <td> 1.476438</td>\n",
       "      <td> 10.033333</td>\n",
       "      <td> 3.933333</td>\n",
       "      <td> 2.568558</td>\n",
       "      <td> 34.250000</td>\n",
       "      <td>  3.683333</td>\n",
       "      <td> 0.000000</td>\n",
       "    </tr>\n",
       "    <tr>\n",
       "      <th rowspan=\"2\" valign=\"top\">ciona_intestinalis</th>\n",
       "      <th>0</th>\n",
       "      <td> 44.718038</td>\n",
       "      <td> 23.039272</td>\n",
       "      <td> 13.186539</td>\n",
       "      <td> 3.471384</td>\n",
       "      <td> 1.795552</td>\n",
       "      <td> 10.153330</td>\n",
       "      <td> 4.190148</td>\n",
       "      <td> 2.624008</td>\n",
       "      <td> 64.612321</td>\n",
       "      <td> 13.672556</td>\n",
       "      <td> 5.896311</td>\n",
       "    </tr>\n",
       "    <tr>\n",
       "      <th>1</th>\n",
       "      <td>  9.577313</td>\n",
       "      <td>  9.577313</td>\n",
       "      <td>  6.178545</td>\n",
       "      <td> 1.628123</td>\n",
       "      <td> 1.628123</td>\n",
       "      <td>  4.159439</td>\n",
       "      <td> 1.987318</td>\n",
       "      <td> 2.151155</td>\n",
       "      <td>  1.944847</td>\n",
       "      <td>  0.000000</td>\n",
       "      <td> 0.000000</td>\n",
       "    </tr>\n",
       "    <tr>\n",
       "      <th rowspan=\"2\" valign=\"top\">helobdella_robusta</th>\n",
       "      <th>0</th>\n",
       "      <td> 28.995002</td>\n",
       "      <td> 20.629630</td>\n",
       "      <td> 12.692164</td>\n",
       "      <td> 2.259998</td>\n",
       "      <td> 2.223422</td>\n",
       "      <td> 10.674132</td>\n",
       "      <td> 5.920446</td>\n",
       "      <td> 2.403311</td>\n",
       "      <td> 53.292031</td>\n",
       "      <td> 10.193067</td>\n",
       "      <td> 1.738774</td>\n",
       "    </tr>\n",
       "    <tr>\n",
       "      <th>1</th>\n",
       "      <td> 51.211876</td>\n",
       "      <td> 36.151072</td>\n",
       "      <td>  8.035000</td>\n",
       "      <td> 6.639531</td>\n",
       "      <td> 4.672183</td>\n",
       "      <td>  5.592360</td>\n",
       "      <td> 3.969290</td>\n",
       "      <td> 1.404650</td>\n",
       "      <td> 90.490170</td>\n",
       "      <td> 16.494248</td>\n",
       "      <td> 1.822338</td>\n",
       "    </tr>\n",
       "    <tr>\n",
       "      <th rowspan=\"2\" valign=\"top\">Strongylocentrotus_purpuratus</th>\n",
       "      <th>0</th>\n",
       "      <td> 24.355039</td>\n",
       "      <td> 16.222143</td>\n",
       "      <td>  9.412346</td>\n",
       "      <td> 2.696883</td>\n",
       "      <td> 1.795986</td>\n",
       "      <td> 10.515156</td>\n",
       "      <td> 3.922035</td>\n",
       "      <td> 3.072149</td>\n",
       "      <td> 34.012132</td>\n",
       "      <td>  6.378032</td>\n",
       "      <td> 1.613184</td>\n",
       "    </tr>\n",
       "    <tr>\n",
       "      <th>1</th>\n",
       "      <td> 22.274032</td>\n",
       "      <td> 17.545496</td>\n",
       "      <td> 12.641372</td>\n",
       "      <td> 1.826009</td>\n",
       "      <td> 1.425460</td>\n",
       "      <td> 12.509706</td>\n",
       "      <td> 4.924142</td>\n",
       "      <td> 2.743823</td>\n",
       "      <td> 22.541573</td>\n",
       "      <td>  5.058932</td>\n",
       "      <td> 0.942700</td>\n",
       "    </tr>\n",
       "    <tr>\n",
       "      <th rowspan=\"2\" valign=\"top\">urechis_caupo</th>\n",
       "      <th>0</th>\n",
       "      <td> 42.599817</td>\n",
       "      <td> 30.781910</td>\n",
       "      <td> 12.278385</td>\n",
       "      <td> 3.799414</td>\n",
       "      <td> 2.737821</td>\n",
       "      <td> 13.224144</td>\n",
       "      <td> 4.374814</td>\n",
       "      <td> 3.314096</td>\n",
       "      <td> 38.894641</td>\n",
       "      <td> 10.833017</td>\n",
       "      <td> 1.183931</td>\n",
       "    </tr>\n",
       "    <tr>\n",
       "      <th>1</th>\n",
       "      <td> 30.585606</td>\n",
       "      <td> 25.074681</td>\n",
       "      <td> 13.559487</td>\n",
       "      <td> 2.400348</td>\n",
       "      <td> 1.964314</td>\n",
       "      <td> 12.075971</td>\n",
       "      <td> 4.170237</td>\n",
       "      <td> 3.077095</td>\n",
       "      <td> 43.096463</td>\n",
       "      <td>  6.761611</td>\n",
       "      <td> 0.264201</td>\n",
       "    </tr>\n",
       "    <tr>\n",
       "      <th rowspan=\"2\" valign=\"top\">xenopus_laevis</th>\n",
       "      <th>0</th>\n",
       "      <td> 86.945700</td>\n",
       "      <td> 50.062600</td>\n",
       "      <td> 18.242000</td>\n",
       "      <td> 4.901206</td>\n",
       "      <td> 2.856703</td>\n",
       "      <td> 20.721760</td>\n",
       "      <td> 5.980640</td>\n",
       "      <td> 3.758759</td>\n",
       "      <td> 96.030000</td>\n",
       "      <td> 22.870750</td>\n",
       "      <td> 8.951350</td>\n",
       "    </tr>\n",
       "    <tr>\n",
       "      <th>1</th>\n",
       "      <td> 29.631899</td>\n",
       "      <td> 29.631899</td>\n",
       "      <td> 14.966531</td>\n",
       "      <td> 1.998537</td>\n",
       "      <td> 1.998537</td>\n",
       "      <td> 15.794306</td>\n",
       "      <td> 6.137751</td>\n",
       "      <td> 2.812343</td>\n",
       "      <td>  1.662500</td>\n",
       "      <td>  0.000000</td>\n",
       "      <td> 0.000000</td>\n",
       "    </tr>\n",
       "    <tr>\n",
       "      <th>mytilus_californianus</th>\n",
       "      <th>1</th>\n",
       "      <td> 24.252905</td>\n",
       "      <td> 21.625767</td>\n",
       "      <td> 10.035793</td>\n",
       "      <td> 2.441698</td>\n",
       "      <td> 2.177406</td>\n",
       "      <td> 10.824317</td>\n",
       "      <td> 4.787961</td>\n",
       "      <td> 2.328609</td>\n",
       "      <td> 24.933169</td>\n",
       "      <td>  2.050713</td>\n",
       "      <td> 0.084413</td>\n",
       "    </tr>\n",
       "    <tr>\n",
       "      <th>xenopus_tropicalis</th>\n",
       "      <th>1</th>\n",
       "      <td> 23.834488</td>\n",
       "      <td> 23.834488</td>\n",
       "      <td> 12.979615</td>\n",
       "      <td> 1.777575</td>\n",
       "      <td> 1.777492</td>\n",
       "      <td> 16.903168</td>\n",
       "      <td> 5.703389</td>\n",
       "      <td> 3.336628</td>\n",
       "      <td>  0.000000</td>\n",
       "      <td>  0.000000</td>\n",
       "      <td> 0.000000</td>\n",
       "    </tr>\n",
       "    <tr>\n",
       "      <th>Equus_caballus</th>\n",
       "      <th>1</th>\n",
       "      <td> 20.609333</td>\n",
       "      <td> 20.609333</td>\n",
       "      <td> 15.485333</td>\n",
       "      <td> 1.354767</td>\n",
       "      <td> 1.354767</td>\n",
       "      <td> 15.216000</td>\n",
       "      <td> 4.666667</td>\n",
       "      <td> 3.614258</td>\n",
       "      <td>  0.000000</td>\n",
       "      <td>  0.000000</td>\n",
       "      <td> 0.000000</td>\n",
       "    </tr>\n",
       "    <tr>\n",
       "      <th>Homo_sapiens</th>\n",
       "      <th>1</th>\n",
       "      <td> 15.209470</td>\n",
       "      <td> 15.209470</td>\n",
       "      <td> 11.890646</td>\n",
       "      <td> 1.294082</td>\n",
       "      <td> 1.294082</td>\n",
       "      <td> 13.336274</td>\n",
       "      <td> 3.946966</td>\n",
       "      <td> 3.521295</td>\n",
       "      <td>  0.000000</td>\n",
       "      <td>  0.000000</td>\n",
       "      <td> 0.000000</td>\n",
       "    </tr>\n",
       "    <tr>\n",
       "      <th>Macaca_mulatta</th>\n",
       "      <th>1</th>\n",
       "      <td> 22.743900</td>\n",
       "      <td> 22.743900</td>\n",
       "      <td> 18.964350</td>\n",
       "      <td> 1.199280</td>\n",
       "      <td> 1.199280</td>\n",
       "      <td> 20.446200</td>\n",
       "      <td> 6.593400</td>\n",
       "      <td> 3.106605</td>\n",
       "      <td>  0.000000</td>\n",
       "      <td>  0.000000</td>\n",
       "      <td> 0.000000</td>\n",
       "    </tr>\n",
       "    <tr>\n",
       "      <th>Callithrix_jacchus</th>\n",
       "      <th>1</th>\n",
       "      <td> 22.932187</td>\n",
       "      <td> 22.932187</td>\n",
       "      <td> 17.465793</td>\n",
       "      <td> 1.396592</td>\n",
       "      <td> 1.396592</td>\n",
       "      <td> 17.503887</td>\n",
       "      <td> 6.209213</td>\n",
       "      <td> 2.819387</td>\n",
       "      <td>  0.000000</td>\n",
       "      <td>  0.000000</td>\n",
       "      <td> 0.000000</td>\n",
       "    </tr>\n",
       "    <tr>\n",
       "      <th>monodelphis_domestica</th>\n",
       "      <th>1</th>\n",
       "      <td> 16.087825</td>\n",
       "      <td> 16.087825</td>\n",
       "      <td> 14.514865</td>\n",
       "      <td> 1.108601</td>\n",
       "      <td> 1.108601</td>\n",
       "      <td> 18.127550</td>\n",
       "      <td> 5.672245</td>\n",
       "      <td> 3.279374</td>\n",
       "      <td>  0.000000</td>\n",
       "      <td>  0.000000</td>\n",
       "      <td> 0.000000</td>\n",
       "    </tr>\n",
       "    <tr>\n",
       "      <th>sus_scrofa</th>\n",
       "      <th>1</th>\n",
       "      <td> 14.352270</td>\n",
       "      <td> 14.352270</td>\n",
       "      <td> 10.719170</td>\n",
       "      <td> 1.423376</td>\n",
       "      <td> 1.423376</td>\n",
       "      <td> 15.604500</td>\n",
       "      <td> 4.242000</td>\n",
       "      <td> 3.747439</td>\n",
       "      <td>  0.000000</td>\n",
       "      <td>  0.000000</td>\n",
       "      <td> 0.000000</td>\n",
       "    </tr>\n",
       "    <tr>\n",
       "      <th rowspan=\"2\" valign=\"top\">mus_musculus</th>\n",
       "      <th>0</th>\n",
       "      <td>  0.000000</td>\n",
       "      <td> 24.053846</td>\n",
       "      <td>  0.000000</td>\n",
       "      <td> 0.000000</td>\n",
       "      <td> 0.000000</td>\n",
       "      <td>  0.000000</td>\n",
       "      <td> 0.000000</td>\n",
       "      <td> 0.000000</td>\n",
       "      <td>  0.000000</td>\n",
       "      <td>  0.000000</td>\n",
       "      <td> 0.000000</td>\n",
       "    </tr>\n",
       "    <tr>\n",
       "      <th>1</th>\n",
       "      <td> 26.865455</td>\n",
       "      <td> 26.865455</td>\n",
       "      <td> 15.220000</td>\n",
       "      <td> 1.555556</td>\n",
       "      <td> 1.555556</td>\n",
       "      <td> 14.740000</td>\n",
       "      <td> 5.154545</td>\n",
       "      <td> 2.717647</td>\n",
       "      <td>  0.000000</td>\n",
       "      <td>  0.000000</td>\n",
       "      <td> 0.000000</td>\n",
       "    </tr>\n",
       "    <tr>\n",
       "      <th>drosophila_melanogaster</th>\n",
       "      <th>1</th>\n",
       "      <td> 10.708600</td>\n",
       "      <td> 10.708600</td>\n",
       "      <td>  2.971377</td>\n",
       "      <td> 3.786185</td>\n",
       "      <td> 3.786185</td>\n",
       "      <td>  1.971480</td>\n",
       "      <td> 3.008073</td>\n",
       "      <td> 0.699469</td>\n",
       "      <td>  0.000000</td>\n",
       "      <td>  0.000000</td>\n",
       "      <td> 0.000000</td>\n",
       "    </tr>\n",
       "    <tr>\n",
       "      <th>danio_rerio</th>\n",
       "      <th>0</th>\n",
       "      <td> 47.083140</td>\n",
       "      <td> 27.207850</td>\n",
       "      <td> 18.900120</td>\n",
       "      <td> 2.713582</td>\n",
       "      <td> 1.610541</td>\n",
       "      <td> 15.854673</td>\n",
       "      <td> 5.186133</td>\n",
       "      <td> 3.076051</td>\n",
       "      <td> 44.241742</td>\n",
       "      <td> 14.469968</td>\n",
       "      <td> 4.813080</td>\n",
       "    </tr>\n",
       "    <tr>\n",
       "      <th>Clytia_hemisphaerica_1</th>\n",
       "      <th>1</th>\n",
       "      <td> 14.500000</td>\n",
       "      <td> 14.500000</td>\n",
       "      <td>  9.500000</td>\n",
       "      <td> 1.500000</td>\n",
       "      <td> 1.500000</td>\n",
       "      <td>  8.133333</td>\n",
       "      <td> 2.400000</td>\n",
       "      <td> 3.500000</td>\n",
       "      <td>  0.000000</td>\n",
       "      <td>  0.000000</td>\n",
       "      <td> 0.000000</td>\n",
       "    </tr>\n",
       "  </tbody>\n",
       "</table>\n",
       "</div>"
      ],
      "text/plain": [
       "                                       spindle_length__asters_um  \\\n",
       "organism                      meiotic                              \n",
       "asterina_miniata              0                        45.122942   \n",
       "                              1                        24.748558   \n",
       "caenorhabditis_elegans        0                        10.334325   \n",
       "                              1                         8.264418   \n",
       "cerebratulus_marginatus       0                        40.472727   \n",
       "                              1                        17.033333   \n",
       "ciona_intestinalis            0                        44.718038   \n",
       "                              1                         9.577313   \n",
       "helobdella_robusta            0                        28.995002   \n",
       "                              1                        51.211876   \n",
       "Strongylocentrotus_purpuratus 0                        24.355039   \n",
       "                              1                        22.274032   \n",
       "urechis_caupo                 0                        42.599817   \n",
       "                              1                        30.585606   \n",
       "xenopus_laevis                0                        86.945700   \n",
       "                              1                        29.631899   \n",
       "mytilus_californianus         1                        24.252905   \n",
       "xenopus_tropicalis            1                        23.834488   \n",
       "Equus_caballus                1                        20.609333   \n",
       "Homo_sapiens                  1                        15.209470   \n",
       "Macaca_mulatta                1                        22.743900   \n",
       "Callithrix_jacchus            1                        22.932187   \n",
       "monodelphis_domestica         1                        16.087825   \n",
       "sus_scrofa                    1                        14.352270   \n",
       "mus_musculus                  0                         0.000000   \n",
       "                              1                        26.865455   \n",
       "drosophila_melanogaster       1                        10.708600   \n",
       "danio_rerio                   0                        47.083140   \n",
       "Clytia_hemisphaerica_1        1                        14.500000   \n",
       "\n",
       "                                       spindle_length_poles_um  \\\n",
       "organism                      meiotic                            \n",
       "asterina_miniata              0                      29.479782   \n",
       "                              1                      20.470540   \n",
       "caenorhabditis_elegans        0                       7.754700   \n",
       "                              1                       8.264418   \n",
       "cerebratulus_marginatus       0                      25.163636   \n",
       "                              1                      14.700000   \n",
       "ciona_intestinalis            0                      23.039272   \n",
       "                              1                       9.577313   \n",
       "helobdella_robusta            0                      20.629630   \n",
       "                              1                      36.151072   \n",
       "Strongylocentrotus_purpuratus 0                      16.222143   \n",
       "                              1                      17.545496   \n",
       "urechis_caupo                 0                      30.781910   \n",
       "                              1                      25.074681   \n",
       "xenopus_laevis                0                      50.062600   \n",
       "                              1                      29.631899   \n",
       "mytilus_californianus         1                      21.625767   \n",
       "xenopus_tropicalis            1                      23.834488   \n",
       "Equus_caballus                1                      20.609333   \n",
       "Homo_sapiens                  1                      15.209470   \n",
       "Macaca_mulatta                1                      22.743900   \n",
       "Callithrix_jacchus            1                      22.932187   \n",
       "monodelphis_domestica         1                      16.087825   \n",
       "sus_scrofa                    1                      14.352270   \n",
       "mus_musculus                  0                      24.053846   \n",
       "                              1                      26.865455   \n",
       "drosophila_melanogaster       1                      10.708600   \n",
       "danio_rerio                   0                      27.207850   \n",
       "Clytia_hemisphaerica_1        1                      14.500000   \n",
       "\n",
       "                                       spindle_width_um  \\\n",
       "organism                      meiotic                     \n",
       "asterina_miniata              0               16.841408   \n",
       "                              1                8.521747   \n",
       "caenorhabditis_elegans        0                4.911130   \n",
       "                              1                5.679828   \n",
       "cerebratulus_marginatus       0               15.290909   \n",
       "                              1               10.166667   \n",
       "ciona_intestinalis            0               13.186539   \n",
       "                              1                6.178545   \n",
       "helobdella_robusta            0               12.692164   \n",
       "                              1                8.035000   \n",
       "Strongylocentrotus_purpuratus 0                9.412346   \n",
       "                              1               12.641372   \n",
       "urechis_caupo                 0               12.278385   \n",
       "                              1               13.559487   \n",
       "xenopus_laevis                0               18.242000   \n",
       "                              1               14.966531   \n",
       "mytilus_californianus         1               10.035793   \n",
       "xenopus_tropicalis            1               12.979615   \n",
       "Equus_caballus                1               15.485333   \n",
       "Homo_sapiens                  1               11.890646   \n",
       "Macaca_mulatta                1               18.964350   \n",
       "Callithrix_jacchus            1               17.465793   \n",
       "monodelphis_domestica         1               14.514865   \n",
       "sus_scrofa                    1               10.719170   \n",
       "mus_musculus                  0                0.000000   \n",
       "                              1               15.220000   \n",
       "drosophila_melanogaster       1                2.971377   \n",
       "danio_rerio                   0               18.900120   \n",
       "Clytia_hemisphaerica_1        1                9.500000   \n",
       "\n",
       "                                       spindle_aspect_ratio_asters_um  \\\n",
       "organism                      meiotic                                   \n",
       "asterina_miniata              0                              2.752330   \n",
       "                              1                              3.041225   \n",
       "caenorhabditis_elegans        0                              2.160014   \n",
       "                              1                              1.482831   \n",
       "cerebratulus_marginatus       0                              2.657838   \n",
       "                              1                              1.717698   \n",
       "ciona_intestinalis            0                              3.471384   \n",
       "                              1                              1.628123   \n",
       "helobdella_robusta            0                              2.259998   \n",
       "                              1                              6.639531   \n",
       "Strongylocentrotus_purpuratus 0                              2.696883   \n",
       "                              1                              1.826009   \n",
       "urechis_caupo                 0                              3.799414   \n",
       "                              1                              2.400348   \n",
       "xenopus_laevis                0                              4.901206   \n",
       "                              1                              1.998537   \n",
       "mytilus_californianus         1                              2.441698   \n",
       "xenopus_tropicalis            1                              1.777575   \n",
       "Equus_caballus                1                              1.354767   \n",
       "Homo_sapiens                  1                              1.294082   \n",
       "Macaca_mulatta                1                              1.199280   \n",
       "Callithrix_jacchus            1                              1.396592   \n",
       "monodelphis_domestica         1                              1.108601   \n",
       "sus_scrofa                    1                              1.423376   \n",
       "mus_musculus                  0                              0.000000   \n",
       "                              1                              1.555556   \n",
       "drosophila_melanogaster       1                              3.786185   \n",
       "danio_rerio                   0                              2.713582   \n",
       "Clytia_hemisphaerica_1        1                              1.500000   \n",
       "\n",
       "                                       spindle_aspect_ratio_poles_um  \\\n",
       "organism                      meiotic                                  \n",
       "asterina_miniata              0                             1.800700   \n",
       "                              1                             2.512970   \n",
       "caenorhabditis_elegans        0                             1.618049   \n",
       "                              1                             1.482831   \n",
       "cerebratulus_marginatus       0                             1.658557   \n",
       "                              1                             1.476438   \n",
       "ciona_intestinalis            0                             1.795552   \n",
       "                              1                             1.628123   \n",
       "helobdella_robusta            0                             2.223422   \n",
       "                              1                             4.672183   \n",
       "Strongylocentrotus_purpuratus 0                             1.795986   \n",
       "                              1                             1.425460   \n",
       "urechis_caupo                 0                             2.737821   \n",
       "                              1                             1.964314   \n",
       "xenopus_laevis                0                             2.856703   \n",
       "                              1                             1.998537   \n",
       "mytilus_californianus         1                             2.177406   \n",
       "xenopus_tropicalis            1                             1.777492   \n",
       "Equus_caballus                1                             1.354767   \n",
       "Homo_sapiens                  1                             1.294082   \n",
       "Macaca_mulatta                1                             1.199280   \n",
       "Callithrix_jacchus            1                             1.396592   \n",
       "monodelphis_domestica         1                             1.108601   \n",
       "sus_scrofa                    1                             1.423376   \n",
       "mus_musculus                  0                             0.000000   \n",
       "                              1                             1.555556   \n",
       "drosophila_melanogaster       1                             3.786185   \n",
       "danio_rerio                   0                             1.610541   \n",
       "Clytia_hemisphaerica_1        1                             1.500000   \n",
       "\n",
       "                                       metaphase_plate_lengt_h_um  \\\n",
       "organism                      meiotic                               \n",
       "asterina_miniata              0                         13.578616   \n",
       "                              1                         12.092656   \n",
       "caenorhabditis_elegans        0                          4.782063   \n",
       "                              1                          4.209294   \n",
       "cerebratulus_marginatus       0                         14.427273   \n",
       "                              1                         10.033333   \n",
       "ciona_intestinalis            0                         10.153330   \n",
       "                              1                          4.159439   \n",
       "helobdella_robusta            0                         10.674132   \n",
       "                              1                          5.592360   \n",
       "Strongylocentrotus_purpuratus 0                         10.515156   \n",
       "                              1                         12.509706   \n",
       "urechis_caupo                 0                         13.224144   \n",
       "                              1                         12.075971   \n",
       "xenopus_laevis                0                         20.721760   \n",
       "                              1                         15.794306   \n",
       "mytilus_californianus         1                         10.824317   \n",
       "xenopus_tropicalis            1                         16.903168   \n",
       "Equus_caballus                1                         15.216000   \n",
       "Homo_sapiens                  1                         13.336274   \n",
       "Macaca_mulatta                1                         20.446200   \n",
       "Callithrix_jacchus            1                         17.503887   \n",
       "monodelphis_domestica         1                         18.127550   \n",
       "sus_scrofa                    1                         15.604500   \n",
       "mus_musculus                  0                          0.000000   \n",
       "                              1                         14.740000   \n",
       "drosophila_melanogaster       1                          1.971480   \n",
       "danio_rerio                   0                         15.854673   \n",
       "Clytia_hemisphaerica_1        1                          8.133333   \n",
       "\n",
       "                                       metaphase_plate_width_um  \\\n",
       "organism                      meiotic                             \n",
       "asterina_miniata              0                        4.752077   \n",
       "                              1                        5.698895   \n",
       "caenorhabditis_elegans        0                        1.232750   \n",
       "                              1                        2.259045   \n",
       "cerebratulus_marginatus       0                        3.890909   \n",
       "                              1                        3.933333   \n",
       "ciona_intestinalis            0                        4.190148   \n",
       "                              1                        1.987318   \n",
       "helobdella_robusta            0                        5.920446   \n",
       "                              1                        3.969290   \n",
       "Strongylocentrotus_purpuratus 0                        3.922035   \n",
       "                              1                        4.924142   \n",
       "urechis_caupo                 0                        4.374814   \n",
       "                              1                        4.170237   \n",
       "xenopus_laevis                0                        5.980640   \n",
       "                              1                        6.137751   \n",
       "mytilus_californianus         1                        4.787961   \n",
       "xenopus_tropicalis            1                        5.703389   \n",
       "Equus_caballus                1                        4.666667   \n",
       "Homo_sapiens                  1                        3.946966   \n",
       "Macaca_mulatta                1                        6.593400   \n",
       "Callithrix_jacchus            1                        6.209213   \n",
       "monodelphis_domestica         1                        5.672245   \n",
       "sus_scrofa                    1                        4.242000   \n",
       "mus_musculus                  0                        0.000000   \n",
       "                              1                        5.154545   \n",
       "drosophila_melanogaster       1                        3.008073   \n",
       "danio_rerio                   0                        5.186133   \n",
       "Clytia_hemisphaerica_1        1                        2.400000   \n",
       "\n",
       "                                       metaphase_plate_aspect_ratio_um  \\\n",
       "organism                      meiotic                                    \n",
       "asterina_miniata              0                               3.069286   \n",
       "                              1                               2.193964   \n",
       "caenorhabditis_elegans        0                               4.149186   \n",
       "                              1                               1.873093   \n",
       "cerebratulus_marginatus       0                               3.803815   \n",
       "                              1                               2.568558   \n",
       "ciona_intestinalis            0                               2.624008   \n",
       "                              1                               2.151155   \n",
       "helobdella_robusta            0                               2.403311   \n",
       "                              1                               1.404650   \n",
       "Strongylocentrotus_purpuratus 0                               3.072149   \n",
       "                              1                               2.743823   \n",
       "urechis_caupo                 0                               3.314096   \n",
       "                              1                               3.077095   \n",
       "xenopus_laevis                0                               3.758759   \n",
       "                              1                               2.812343   \n",
       "mytilus_californianus         1                               2.328609   \n",
       "xenopus_tropicalis            1                               3.336628   \n",
       "Equus_caballus                1                               3.614258   \n",
       "Homo_sapiens                  1                               3.521295   \n",
       "Macaca_mulatta                1                               3.106605   \n",
       "Callithrix_jacchus            1                               2.819387   \n",
       "monodelphis_domestica         1                               3.279374   \n",
       "sus_scrofa                    1                               3.747439   \n",
       "mus_musculus                  0                               0.000000   \n",
       "                              1                               2.717647   \n",
       "drosophila_melanogaster       1                               0.699469   \n",
       "danio_rerio                   0                               3.076051   \n",
       "Clytia_hemisphaerica_1        1                               3.500000   \n",
       "\n",
       "                                       outer_aster_diameter  \\\n",
       "organism                      meiotic                         \n",
       "asterina_miniata              0                   45.968264   \n",
       "                              1                   24.304043   \n",
       "caenorhabditis_elegans        0                   18.928941   \n",
       "                              1                    0.000000   \n",
       "cerebratulus_marginatus       0                   55.527273   \n",
       "                              1                   34.250000   \n",
       "ciona_intestinalis            0                   64.612321   \n",
       "                              1                    1.944847   \n",
       "helobdella_robusta            0                   53.292031   \n",
       "                              1                   90.490170   \n",
       "Strongylocentrotus_purpuratus 0                   34.012132   \n",
       "                              1                   22.541573   \n",
       "urechis_caupo                 0                   38.894641   \n",
       "                              1                   43.096463   \n",
       "xenopus_laevis                0                   96.030000   \n",
       "                              1                    1.662500   \n",
       "mytilus_californianus         1                   24.933169   \n",
       "xenopus_tropicalis            1                    0.000000   \n",
       "Equus_caballus                1                    0.000000   \n",
       "Homo_sapiens                  1                    0.000000   \n",
       "Macaca_mulatta                1                    0.000000   \n",
       "Callithrix_jacchus            1                    0.000000   \n",
       "monodelphis_domestica         1                    0.000000   \n",
       "sus_scrofa                    1                    0.000000   \n",
       "mus_musculus                  0                    0.000000   \n",
       "                              1                    0.000000   \n",
       "drosophila_melanogaster       1                    0.000000   \n",
       "danio_rerio                   0                   44.241742   \n",
       "Clytia_hemisphaerica_1        1                    0.000000   \n",
       "\n",
       "                                       inner_aster_diameter  \\\n",
       "organism                      meiotic                         \n",
       "asterina_miniata              0                   10.870097   \n",
       "                              1                    4.423979   \n",
       "caenorhabditis_elegans        0                    2.954800   \n",
       "                              1                    0.000000   \n",
       "cerebratulus_marginatus       0                   13.645455   \n",
       "                              1                    3.683333   \n",
       "ciona_intestinalis            0                   13.672556   \n",
       "                              1                    0.000000   \n",
       "helobdella_robusta            0                   10.193067   \n",
       "                              1                   16.494248   \n",
       "Strongylocentrotus_purpuratus 0                    6.378032   \n",
       "                              1                    5.058932   \n",
       "urechis_caupo                 0                   10.833017   \n",
       "                              1                    6.761611   \n",
       "xenopus_laevis                0                   22.870750   \n",
       "                              1                    0.000000   \n",
       "mytilus_californianus         1                    2.050713   \n",
       "xenopus_tropicalis            1                    0.000000   \n",
       "Equus_caballus                1                    0.000000   \n",
       "Homo_sapiens                  1                    0.000000   \n",
       "Macaca_mulatta                1                    0.000000   \n",
       "Callithrix_jacchus            1                    0.000000   \n",
       "monodelphis_domestica         1                    0.000000   \n",
       "sus_scrofa                    1                    0.000000   \n",
       "mus_musculus                  0                    0.000000   \n",
       "                              1                    0.000000   \n",
       "drosophila_melanogaster       1                    0.000000   \n",
       "danio_rerio                   0                   14.469968   \n",
       "Clytia_hemisphaerica_1        1                    0.000000   \n",
       "\n",
       "                                       aster-to-pole_distance  \n",
       "organism                      meiotic                          \n",
       "asterina_miniata              0                      3.730585  \n",
       "                              1                      0.306732  \n",
       "caenorhabditis_elegans        0                      0.000000  \n",
       "                              1                      0.000000  \n",
       "cerebratulus_marginatus       0                      2.200000  \n",
       "                              1                      0.000000  \n",
       "ciona_intestinalis            0                      5.896311  \n",
       "                              1                      0.000000  \n",
       "helobdella_robusta            0                      1.738774  \n",
       "                              1                      1.822338  \n",
       "Strongylocentrotus_purpuratus 0                      1.613184  \n",
       "                              1                      0.942700  \n",
       "urechis_caupo                 0                      1.183931  \n",
       "                              1                      0.264201  \n",
       "xenopus_laevis                0                      8.951350  \n",
       "                              1                      0.000000  \n",
       "mytilus_californianus         1                      0.084413  \n",
       "xenopus_tropicalis            1                      0.000000  \n",
       "Equus_caballus                1                      0.000000  \n",
       "Homo_sapiens                  1                      0.000000  \n",
       "Macaca_mulatta                1                      0.000000  \n",
       "Callithrix_jacchus            1                      0.000000  \n",
       "monodelphis_domestica         1                      0.000000  \n",
       "sus_scrofa                    1                      0.000000  \n",
       "mus_musculus                  0                      0.000000  \n",
       "                              1                      0.000000  \n",
       "drosophila_melanogaster       1                      0.000000  \n",
       "danio_rerio                   0                      4.813080  \n",
       "Clytia_hemisphaerica_1        1                      0.000000  "
      ]
     },
     "execution_count": 164,
     "metadata": {},
     "output_type": "execute_result"
    }
   ],
   "source": [
    "means3"
   ]
  },
  {
   "cell_type": "markdown",
   "metadata": {},
   "source": [
    "##Re-plot\n"
   ]
  },
  {
   "cell_type": "code",
   "execution_count": 165,
   "metadata": {
    "collapsed": false
   },
   "outputs": [],
   "source": [
    "#class radarPlot\n",
    "#method 1: takes organism and the grouped data frame (put grouping as a method too?)\n",
    "def calculate_3_log10(organism):\n",
    "    log_means3_0=[np.log10(x) for x in means3.loc[organism,0].values]\n",
    "    log_means3_1=[np.log10(x) for x in means3.loc[organism,1].values]\n",
    "    return log_means3_0,log_means3_1 #mitotic, meiotic"
   ]
  },
  {
   "cell_type": "code",
   "execution_count": 166,
   "metadata": {
    "collapsed": false
   },
   "outputs": [],
   "source": [
    "#THIS SHOULD BE THE FUNCTION THAT PLOTS ALL ORGANISMS\n",
    "#try pygal\n",
    "##http://pygal.org/builtin_styles/\n",
    "#https://github.com/Kozea/pygal/blob/master/pygal/config.py\n",
    "\n",
    "#from pygal.style import LightGreenStyle #MODIFY FROM: https://github.com/Kozea/pygal/blob/master/pygal/style.py\n",
    "#modify style: http://pygal.org/custom_styles/\n",
    "\n",
    "#to verify colors: \n",
    "#http://www.w3schools.com/tags/ref_colorpicker.asp\n",
    "\n",
    "\n",
    "from pygal.style import Style\n",
    "from pygal.colors import darken, lighten\n",
    "\n",
    "def plotRadar(organism, twoElementDataTuple): #method 2\n",
    "   \n",
    "    customStyle = Style(\n",
    "    font_family='Arial',\n",
    "    background=lighten('#E5E5E5', 0), #outside of the plot\n",
    "    plot_background='#E5E5E5', #background\n",
    "    foreground='#333333', #text\n",
    "    foreground_light='#FFFFFF', #spikes\n",
    "    foreground_dark='#F2F2F2', #internal lines\n",
    "    opacity='.5',\n",
    "    opacity_hover='.9',\n",
    "    transition='250ms ease-in',\n",
    "    colors=('#666666', color_dict[organism]))#, lighten('#7dcf30', 10), '#ccc',\n",
    "        #darken('#7dcf30', 15), '#ddd', lighten('#247fab', 10),\n",
    "        #darken('#247fab', 15)))\n",
    "    \n",
    "    \n",
    "    \n",
    "    radarChart1=pygal.Radar(style= customStyle)\n",
    "    radarChart1.config.title=str(organism)+'_log10'\n",
    "    radarChart1.config.x_labels=list(means3.columns) #change here\n",
    "\n",
    "    radarChart1.config.print_values=False\n",
    "\n",
    "\n",
    "    radarChart1.config.width=800\n",
    "    radarChart1.config.height=600\n",
    "    #radarChart1.config.x_label_format\n",
    "    radarChart1.add('meiotic',twoElementDataTuple[1])\n",
    "    radarChart1.add('mitotic',twoElementDataTuple[0])\n",
    "\n",
    "    radarChart1.render_to_file('../Manuscript/Figures/F4/F4B/FINAL_LOG/F4B_'+ str(organism)+'_log10_arial.svg')\n",
    "\n",
    "\n",
    "#http://code.activestate.com/recipes/578123-draw-svg-images-in-python-python-recipe-enhanced-v/\n",
    "\n",
    "#SVG(radarChart1.render()) #drop: time_pf, chromosomes,genome, centrosome\n",
    "#radarChart1._repr_svg_()\n",
    "#radarChart1.x_labels\n",
    "#inkscape -z -D F4B_xenopus_laevis_arial.svg --export-eps=F4B_xenopus_laevisCLI_arial.eps"
   ]
  },
  {
   "cell_type": "code",
   "execution_count": 167,
   "metadata": {
    "collapsed": false
   },
   "outputs": [
    {
     "data": {
      "text/plain": [
       "nan"
      ]
     },
     "execution_count": 167,
     "metadata": {},
     "output_type": "execute_result"
    }
   ],
   "source": [
    "np.log10(np.nan)"
   ]
  },
  {
   "cell_type": "code",
   "execution_count": 168,
   "metadata": {
    "collapsed": false
   },
   "outputs": [
    {
     "data": {
      "text/html": [
       "<div style=\"max-height:1000px;max-width:1500px;overflow:auto;\">\n",
       "<table border=\"1\" class=\"dataframe\">\n",
       "  <thead>\n",
       "    <tr style=\"text-align: right;\">\n",
       "      <th></th>\n",
       "      <th>spindle_length__asters_um</th>\n",
       "      <th>spindle_length_poles_um</th>\n",
       "      <th>spindle_width_um</th>\n",
       "      <th>spindle_aspect_ratio_asters_um</th>\n",
       "      <th>spindle_aspect_ratio_poles_um</th>\n",
       "      <th>metaphase_plate_lengt_h_um</th>\n",
       "      <th>metaphase_plate_width_um</th>\n",
       "      <th>metaphase_plate_aspect_ratio_um</th>\n",
       "      <th>outer_aster_diameter</th>\n",
       "      <th>inner_aster_diameter</th>\n",
       "      <th>aster-to-pole_distance</th>\n",
       "    </tr>\n",
       "    <tr>\n",
       "      <th>meiotic</th>\n",
       "      <th></th>\n",
       "      <th></th>\n",
       "      <th></th>\n",
       "      <th></th>\n",
       "      <th></th>\n",
       "      <th></th>\n",
       "      <th></th>\n",
       "      <th></th>\n",
       "      <th></th>\n",
       "      <th></th>\n",
       "      <th></th>\n",
       "    </tr>\n",
       "  </thead>\n",
       "  <tbody>\n",
       "    <tr>\n",
       "      <th>0</th>\n",
       "      <td>  0.000000</td>\n",
       "      <td> 24.053846</td>\n",
       "      <td>  0.00</td>\n",
       "      <td> 0.000000</td>\n",
       "      <td> 0.000000</td>\n",
       "      <td>  0.00</td>\n",
       "      <td> 0.000000</td>\n",
       "      <td> 0.000000</td>\n",
       "      <td> 0</td>\n",
       "      <td> 0</td>\n",
       "      <td> 0</td>\n",
       "    </tr>\n",
       "    <tr>\n",
       "      <th>1</th>\n",
       "      <td> 26.865455</td>\n",
       "      <td> 26.865455</td>\n",
       "      <td> 15.22</td>\n",
       "      <td> 1.555556</td>\n",
       "      <td> 1.555556</td>\n",
       "      <td> 14.74</td>\n",
       "      <td> 5.154545</td>\n",
       "      <td> 2.717647</td>\n",
       "      <td> 0</td>\n",
       "      <td> 0</td>\n",
       "      <td> 0</td>\n",
       "    </tr>\n",
       "  </tbody>\n",
       "</table>\n",
       "</div>"
      ],
      "text/plain": [
       "         spindle_length__asters_um  spindle_length_poles_um  spindle_width_um  \\\n",
       "meiotic                                                                         \n",
       "0                         0.000000                24.053846              0.00   \n",
       "1                        26.865455                26.865455             15.22   \n",
       "\n",
       "         spindle_aspect_ratio_asters_um  spindle_aspect_ratio_poles_um  \\\n",
       "meiotic                                                                  \n",
       "0                              0.000000                       0.000000   \n",
       "1                              1.555556                       1.555556   \n",
       "\n",
       "         metaphase_plate_lengt_h_um  metaphase_plate_width_um  \\\n",
       "meiotic                                                         \n",
       "0                              0.00                  0.000000   \n",
       "1                             14.74                  5.154545   \n",
       "\n",
       "         metaphase_plate_aspect_ratio_um  outer_aster_diameter  \\\n",
       "meiotic                                                          \n",
       "0                               0.000000                     0   \n",
       "1                               2.717647                     0   \n",
       "\n",
       "         inner_aster_diameter  aster-to-pole_distance  \n",
       "meiotic                                                \n",
       "0                           0                       0  \n",
       "1                           0                       0  "
      ]
     },
     "execution_count": 168,
     "metadata": {},
     "output_type": "execute_result"
    }
   ],
   "source": [
    "means3.loc['mus_musculus']"
   ]
  },
  {
   "cell_type": "code",
   "execution_count": 169,
   "metadata": {
    "collapsed": false
   },
   "outputs": [
    {
     "name": "stdout",
     "output_type": "stream",
     "text": [
      "processing... Callithrix_jacchus\n",
      "problematic Callithrix_jacchus\n",
      "processing... Clytia_hemisphaerica_1\n",
      "problematic Clytia_hemisphaerica_1\n",
      "processing... Equus_caballus\n",
      "problematic Equus_caballus\n",
      "processing... Homo_sapiens\n",
      "problematic Homo_sapiens\n",
      "processing... Macaca_mulatta\n",
      "problematic Macaca_mulatta\n",
      "processing... Strongylocentrotus_purpuratus\n",
      "processing... asterina_miniata\n",
      "processing... caenorhabditis_elegans\n",
      "processing... cerebratulus_marginatus\n",
      "processing... ciona_intestinalis\n",
      "processing... danio_rerio\n",
      "problematic danio_rerio\n",
      "processing... drosophila_melanogaster\n",
      "problematic drosophila_melanogaster\n",
      "processing... helobdella_robusta\n",
      "processing... monodelphis_domestica\n",
      "problematic monodelphis_domestica\n",
      "processing... mus_musculus\n",
      "processing... mytilus_californianus\n",
      "problematic mytilus_californianus\n",
      "processing... sus_scrofa\n",
      "problematic sus_scrofa\n",
      "processing... urechis_caupo\n",
      "processing... xenopus_laevis\n",
      "processing... xenopus_tropicalis\n",
      "problematic xenopus_tropicalis\n"
     ]
    }
   ],
   "source": [
    "for organism in means3.index.levels[0]:\n",
    "    print 'processing... '+organism #use this as an organism\n",
    "    #https://docs.python.org/2/tutorial/errors.html\n",
    "    try:\n",
    "        plotRadar(organism,calculate_3_log10(organism))\n",
    "        #calculate_log10(organism)\n",
    "    except KeyError:\n",
    "        print 'problematic '+ organism\n",
    "    except ValueError:\n",
    "        print \"value\""
   ]
  },
  {
   "cell_type": "code",
   "execution_count": 171,
   "metadata": {
    "collapsed": false
   },
   "outputs": [],
   "source": [
    "#method3\n",
    "for organism in means3.index.levels[0]:\n",
    "    #print organism #use this as an organism\n",
    "    #https://docs.python.org/2/tutorial/errors.html\n",
    "    try:\n",
    "        sp.call(shlex.split('/Applications/Inkscape.app/Contents/Resources/bin/inkscape -z -D ../Manuscript/Figures/F4/F4B/FINAL_LOG/F4B_' + organism + '_log10_arial.svg --export-eps=../Manuscript/Figures/F4/F4B/FINAL_LOG/F4B_'+ organism+'_log10_CLI_arial_TEST.eps'))\n",
    "    except KeyError:\n",
    "        print shlex.split('/Applications/Inkscape.app/Contents/Resources/bin/inkscape -z -D ../Manuscript/Figures/F4/F4B/FINAL_LOG/F4B_' + organism + '_log10_arial.svg --export-eps=../Manuscript/Figures/F4/F4B/FINAL_LOG/F4B_'+ organism+'_log10_CLI_arial_TEST.eps')\n",
    "        "
   ]
  },
  {
   "cell_type": "markdown",
   "metadata": {},
   "source": [
    "### NOT LOG"
   ]
  },
  {
   "cell_type": "code",
   "execution_count": 170,
   "metadata": {
    "collapsed": false
   },
   "outputs": [],
   "source": [
    "#THIS SHOULD BE THE FUNCTION THAT PLOTS ALL ORGANISMS\n",
    "#try pygal\n",
    "##http://pygal.org/builtin_styles/\n",
    "#https://github.com/Kozea/pygal/blob/master/pygal/config.py\n",
    "\n",
    "#from pygal.style import LightGreenStyle #MODIFY FROM: https://github.com/Kozea/pygal/blob/master/pygal/style.py\n",
    "#modify style: http://pygal.org/custom_styles/\n",
    "\n",
    "#to verify colors: \n",
    "#http://www.w3schools.com/tags/ref_colorpicker.asp\n",
    "\n",
    "\n",
    "from pygal.style import Style\n",
    "from pygal.colors import darken, lighten\n",
    "\n",
    "def plotRadar(organism, twoElementDataTuple): #method 2\n",
    "   \n",
    "    customStyle = Style(\n",
    "    font_family='Arial',\n",
    "    background=lighten('#E5E5E5', 0), #outside of the plot\n",
    "    plot_background='#E5E5E5', #background\n",
    "    foreground='#333333', #text\n",
    "    foreground_light='#FFFFFF', #spikes\n",
    "    foreground_dark='#F2F2F2', #internal lines\n",
    "    opacity='.5',\n",
    "    opacity_hover='.9',\n",
    "    transition='250ms ease-in',\n",
    "    colors=('#666666', color_dict[organism]))#, lighten('#7dcf30', 10), '#ccc',\n",
    "        #darken('#7dcf30', 15), '#ddd', lighten('#247fab', 10),\n",
    "        #darken('#247fab', 15)))\n",
    "    \n",
    "    \n",
    "    \n",
    "    radarChart1=pygal.Radar(style= customStyle)\n",
    "    radarChart1.config.title=str(organism)+'_log10'\n",
    "    radarChart1.config.x_labels=list(means3.columns) #change here\n",
    "\n",
    "    radarChart1.config.print_values=False\n",
    "\n",
    "\n",
    "    radarChart1.config.width=800\n",
    "    radarChart1.config.height=600\n",
    "    #radarChart1.config.x_label_format\n",
    "    radarChart1.add('meiotic',twoElementDataTuple[1])\n",
    "    radarChart1.add('mitotic',twoElementDataTuple[0])\n",
    "\n",
    "    radarChart1.render_to_file('../Manuscript/Figures/F4/F4B/FINAL_NOT_LOG/F4B_'+ str(organism)+'_log10_arial.svg')\n",
    "\n",
    "\n",
    "#http://code.activestate.com/recipes/578123-draw-svg-images-in-python-python-recipe-enhanced-v/\n",
    "\n",
    "#SVG(radarChart1.render()) #drop: time_pf, chromosomes,genome, centrosome\n",
    "#radarChart1._repr_svg_()\n",
    "#radarChart1.x_labels\n",
    "#inkscape -z -D F4B_xenopus_laevis_arial.svg --export-eps=F4B_xenopus_laevisCLI_arial.eps"
   ]
  },
  {
   "cell_type": "code",
   "execution_count": 175,
   "metadata": {
    "collapsed": false
   },
   "outputs": [],
   "source": [
    "#class radarPlot\n",
    "#method 1: takes organism and the grouped data frame (put grouping as a method too?)\n",
    "\n",
    "#re-write as generator\n",
    "def pass_data_to_plotter(organism):\n",
    "    means3_0=[x for x in means3.loc[organism,0].values]\n",
    "    means3_1=[x for x in means3.loc[organism,1].values]\n",
    "    return means3_0,means3_1 #mitotic, meiotic"
   ]
  },
  {
   "cell_type": "code",
   "execution_count": 176,
   "metadata": {
    "collapsed": false
   },
   "outputs": [
    {
     "name": "stdout",
     "output_type": "stream",
     "text": [
      "processing... Callithrix_jacchus\n",
      "problematic Callithrix_jacchus\n",
      "processing... Clytia_hemisphaerica_1\n",
      "problematic Clytia_hemisphaerica_1\n",
      "processing... Equus_caballus\n",
      "problematic Equus_caballus\n",
      "processing... Homo_sapiens\n",
      "problematic Homo_sapiens\n",
      "processing... Macaca_mulatta\n",
      "problematic Macaca_mulatta\n",
      "processing... Strongylocentrotus_purpuratus\n",
      "processing... asterina_miniata\n",
      "processing... caenorhabditis_elegans\n",
      "processing... cerebratulus_marginatus\n",
      "processing... ciona_intestinalis\n",
      "processing... danio_rerio\n",
      "problematic danio_rerio\n",
      "processing... drosophila_melanogaster\n",
      "problematic drosophila_melanogaster\n",
      "processing... helobdella_robusta\n",
      "processing... monodelphis_domestica\n",
      "problematic monodelphis_domestica\n",
      "processing... mus_musculus\n",
      "processing... mytilus_californianus\n",
      "problematic mytilus_californianus\n",
      "processing... sus_scrofa\n",
      "problematic sus_scrofa\n",
      "processing... urechis_caupo\n",
      "processing... xenopus_laevis\n",
      "processing... xenopus_tropicalis\n",
      "problematic xenopus_tropicalis\n"
     ]
    }
   ],
   "source": [
    "for organism in means3.index.levels[0]:\n",
    "    print 'processing... '+organism #use this as an organism\n",
    "    #https://docs.python.org/2/tutorial/errors.html\n",
    "    try:\n",
    "        plotRadar(organism,pass_data_to_plotter(organism))\n",
    "        #calculate_log10(organism)\n",
    "    except KeyError:\n",
    "        print 'problematic '+ organism\n",
    "    except ValueError:\n",
    "        print \"value\""
   ]
  },
  {
   "cell_type": "code",
   "execution_count": 177,
   "metadata": {
    "collapsed": false
   },
   "outputs": [],
   "source": [
    "#method3\n",
    "for organism in means3.index.levels[0]:\n",
    "    #print organism #use this as an organism\n",
    "    #https://docs.python.org/2/tutorial/errors.html\n",
    "    try:\n",
    "        sp.call(shlex.split('/Applications/Inkscape.app/Contents/Resources/bin/inkscape -z -D ../Manuscript/Figures/F4/F4B/FINAL_NOT_LOG/F4B_' + organism + '_log10_arial.svg --export-eps=../Manuscript/Figures/F4/F4B/FINAL_NOT_LOG/F4B_'+ organism+'_log10_CLI_arial_TEST.eps'))\n",
    "    except KeyError:\n",
    "        print shlex.split('/Applications/Inkscape.app/Contents/Resources/bin/inkscape -z -D ../Manuscript/Figures/F4/F4B/FINAL_NOT_LOG/F4B_' + organism + '_log10_arial.svg --export-eps=../Manuscript/Figures/F4/F4B/FINAL_NOT_LOG/F4B_'+ organism+'_log10_CLI_arial_TEST.eps')\n",
    "        "
   ]
  },
  {
   "cell_type": "code",
   "execution_count": null,
   "metadata": {
    "collapsed": false
   },
   "outputs": [],
   "source": []
  }
 ],
 "metadata": {
  "kernelspec": {
   "display_name": "Python 2",
   "language": "python",
   "name": "python2"
  },
  "language_info": {
   "codemirror_mode": {
    "name": "ipython",
    "version": 2
   },
   "file_extension": ".py",
   "mimetype": "text/x-python",
   "name": "python",
   "nbconvert_exporter": "python",
   "pygments_lexer": "ipython2",
   "version": "2.7.9"
  }
 },
 "nbformat": 4,
 "nbformat_minor": 0
}
